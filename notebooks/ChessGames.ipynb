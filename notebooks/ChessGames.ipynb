{
  "cells": [
    {
      "cell_type": "markdown",
      "metadata": {
        "id": "xr4KxIm-Kevf"
      },
      "source": [
        "# Importando bibliotecas e o dataset"
      ]
    },
    {
      "cell_type": "markdown",
      "metadata": {
        "id": "8s3goxuOOe9W"
      },
      "source": [
        "## Importando bibliotecas"
      ]
    },
    {
      "cell_type": "code",
      "execution_count": 1,
      "metadata": {
        "id": "THCBAQ8DKqs8"
      },
      "outputs": [],
      "source": [
        "import numpy as np\n",
        "import pandas as pd\n",
        "np.random.seed(0) # for reproducibility"
      ]
    },
    {
      "cell_type": "markdown",
      "metadata": {},
      "source": [
        "## Importando os dados"
      ]
    },
    {
      "cell_type": "code",
      "execution_count": 2,
      "metadata": {
        "id": "XkgJeTKVLGjI"
      },
      "outputs": [],
      "source": [
        "chess_games = pd.read_csv(\"https://raw.githubusercontent.com/Vinicius-resende-cin/intro-dados/master/data/chess_games.csv\", encoding = \"ISO-8859-1\")"
      ]
    },
    {
      "cell_type": "code",
      "execution_count": 3,
      "metadata": {
        "colab": {
          "base_uri": "https://localhost:8080/",
          "height": 380
        },
        "id": "veIlGVNtOJ-r",
        "outputId": "ea2e9d94-e6b8-4787-e0d4-2683a0398b30"
      },
      "outputs": [
        {
          "data": {
            "text/html": [
              "<div>\n",
              "<style scoped>\n",
              "    .dataframe tbody tr th:only-of-type {\n",
              "        vertical-align: middle;\n",
              "    }\n",
              "\n",
              "    .dataframe tbody tr th {\n",
              "        vertical-align: top;\n",
              "    }\n",
              "\n",
              "    .dataframe thead th {\n",
              "        text-align: right;\n",
              "    }\n",
              "</style>\n",
              "<table border=\"1\" class=\"dataframe\">\n",
              "  <thead>\n",
              "    <tr style=\"text-align: right;\">\n",
              "      <th></th>\n",
              "      <th>id</th>\n",
              "      <th>rated</th>\n",
              "      <th>created_at</th>\n",
              "      <th>last_move_at</th>\n",
              "      <th>turns</th>\n",
              "      <th>victory_status</th>\n",
              "      <th>winner</th>\n",
              "      <th>increment_code</th>\n",
              "      <th>white_id</th>\n",
              "      <th>white_rating</th>\n",
              "      <th>black_id</th>\n",
              "      <th>black_rating</th>\n",
              "      <th>moves</th>\n",
              "      <th>opening_eco</th>\n",
              "      <th>opening_name</th>\n",
              "      <th>opening_ply</th>\n",
              "    </tr>\n",
              "  </thead>\n",
              "  <tbody>\n",
              "    <tr>\n",
              "      <th>0</th>\n",
              "      <td>TZJHLljE</td>\n",
              "      <td>False</td>\n",
              "      <td>1.504210e+12</td>\n",
              "      <td>1.504210e+12</td>\n",
              "      <td>13</td>\n",
              "      <td>outoftime</td>\n",
              "      <td>white</td>\n",
              "      <td>15+2</td>\n",
              "      <td>bourgris</td>\n",
              "      <td>1500</td>\n",
              "      <td>a-00</td>\n",
              "      <td>1191</td>\n",
              "      <td>d4 d5 c4 c6 cxd5 e6 dxe6 fxe6 Nf3 Bb4+ Nc3 Ba5...</td>\n",
              "      <td>D10</td>\n",
              "      <td>Slav Defense: Exchange Variation</td>\n",
              "      <td>5</td>\n",
              "    </tr>\n",
              "    <tr>\n",
              "      <th>1</th>\n",
              "      <td>l1NXvwaE</td>\n",
              "      <td>True</td>\n",
              "      <td>1.504130e+12</td>\n",
              "      <td>1.504130e+12</td>\n",
              "      <td>16</td>\n",
              "      <td>resign</td>\n",
              "      <td>black</td>\n",
              "      <td>5+10</td>\n",
              "      <td>a-00</td>\n",
              "      <td>1322</td>\n",
              "      <td>skinnerua</td>\n",
              "      <td>1261</td>\n",
              "      <td>d4 Nc6 e4 e5 f4 f6 dxe5 fxe5 fxe5 Nxe5 Qd4 Nc6...</td>\n",
              "      <td>B00</td>\n",
              "      <td>Nimzowitsch Defense: Kennedy Variation</td>\n",
              "      <td>4</td>\n",
              "    </tr>\n",
              "    <tr>\n",
              "      <th>2</th>\n",
              "      <td>mIICvQHh</td>\n",
              "      <td>True</td>\n",
              "      <td>1.504130e+12</td>\n",
              "      <td>1.504130e+12</td>\n",
              "      <td>61</td>\n",
              "      <td>mate</td>\n",
              "      <td>white</td>\n",
              "      <td>5+10</td>\n",
              "      <td>ischia</td>\n",
              "      <td>1496</td>\n",
              "      <td>a-00</td>\n",
              "      <td>1500</td>\n",
              "      <td>e4 e5 d3 d6 Be3 c6 Be2 b5 Nd2 a5 a4 c5 axb5 Nc...</td>\n",
              "      <td>C20</td>\n",
              "      <td>King's Pawn Game: Leonardis Variation</td>\n",
              "      <td>3</td>\n",
              "    </tr>\n",
              "    <tr>\n",
              "      <th>3</th>\n",
              "      <td>kWKvrqYL</td>\n",
              "      <td>True</td>\n",
              "      <td>1.504110e+12</td>\n",
              "      <td>1.504110e+12</td>\n",
              "      <td>61</td>\n",
              "      <td>mate</td>\n",
              "      <td>white</td>\n",
              "      <td>20+0</td>\n",
              "      <td>daniamurashov</td>\n",
              "      <td>1439</td>\n",
              "      <td>adivanov2009</td>\n",
              "      <td>1454</td>\n",
              "      <td>d4 d5 Nf3 Bf5 Nc3 Nf6 Bf4 Ng4 e3 Nc6 Be2 Qd7 O...</td>\n",
              "      <td>D02</td>\n",
              "      <td>Queen's Pawn Game: Zukertort Variation</td>\n",
              "      <td>3</td>\n",
              "    </tr>\n",
              "    <tr>\n",
              "      <th>4</th>\n",
              "      <td>9tXo1AUZ</td>\n",
              "      <td>True</td>\n",
              "      <td>1.504030e+12</td>\n",
              "      <td>1.504030e+12</td>\n",
              "      <td>95</td>\n",
              "      <td>mate</td>\n",
              "      <td>white</td>\n",
              "      <td>30+3</td>\n",
              "      <td>nik221107</td>\n",
              "      <td>1523</td>\n",
              "      <td>adivanov2009</td>\n",
              "      <td>1469</td>\n",
              "      <td>e4 e5 Nf3 d6 d4 Nc6 d5 Nb4 a3 Na6 Nc3 Be7 b4 N...</td>\n",
              "      <td>C41</td>\n",
              "      <td>Philidor Defense</td>\n",
              "      <td>5</td>\n",
              "    </tr>\n",
              "  </tbody>\n",
              "</table>\n",
              "</div>"
            ],
            "text/plain": [
              "         id  rated    created_at  last_move_at  turns victory_status winner  \\\n",
              "0  TZJHLljE  False  1.504210e+12  1.504210e+12     13      outoftime  white   \n",
              "1  l1NXvwaE   True  1.504130e+12  1.504130e+12     16         resign  black   \n",
              "2  mIICvQHh   True  1.504130e+12  1.504130e+12     61           mate  white   \n",
              "3  kWKvrqYL   True  1.504110e+12  1.504110e+12     61           mate  white   \n",
              "4  9tXo1AUZ   True  1.504030e+12  1.504030e+12     95           mate  white   \n",
              "\n",
              "  increment_code       white_id  white_rating      black_id  black_rating  \\\n",
              "0           15+2       bourgris          1500          a-00          1191   \n",
              "1           5+10           a-00          1322     skinnerua          1261   \n",
              "2           5+10         ischia          1496          a-00          1500   \n",
              "3           20+0  daniamurashov          1439  adivanov2009          1454   \n",
              "4           30+3      nik221107          1523  adivanov2009          1469   \n",
              "\n",
              "                                               moves opening_eco  \\\n",
              "0  d4 d5 c4 c6 cxd5 e6 dxe6 fxe6 Nf3 Bb4+ Nc3 Ba5...         D10   \n",
              "1  d4 Nc6 e4 e5 f4 f6 dxe5 fxe5 fxe5 Nxe5 Qd4 Nc6...         B00   \n",
              "2  e4 e5 d3 d6 Be3 c6 Be2 b5 Nd2 a5 a4 c5 axb5 Nc...         C20   \n",
              "3  d4 d5 Nf3 Bf5 Nc3 Nf6 Bf4 Ng4 e3 Nc6 Be2 Qd7 O...         D02   \n",
              "4  e4 e5 Nf3 d6 d4 Nc6 d5 Nb4 a3 Na6 Nc3 Be7 b4 N...         C41   \n",
              "\n",
              "                             opening_name  opening_ply  \n",
              "0        Slav Defense: Exchange Variation            5  \n",
              "1  Nimzowitsch Defense: Kennedy Variation            4  \n",
              "2   King's Pawn Game: Leonardis Variation            3  \n",
              "3  Queen's Pawn Game: Zukertort Variation            3  \n",
              "4                        Philidor Defense            5  "
            ]
          },
          "execution_count": 3,
          "metadata": {},
          "output_type": "execute_result"
        }
      ],
      "source": [
        "chess_games.head()"
      ]
    },
    {
      "cell_type": "markdown",
      "metadata": {
        "id": "TROMbYo77jTJ"
      },
      "source": [
        "# Definição de tipos"
      ]
    },
    {
      "cell_type": "code",
      "execution_count": 4,
      "metadata": {
        "colab": {
          "base_uri": "https://localhost:8080/"
        },
        "id": "wQc3c9j2O9j4",
        "outputId": "bbec4a62-3437-447f-eecb-1b76a35c3039"
      },
      "outputs": [
        {
          "data": {
            "text/plain": [
              "id                 object\n",
              "rated                bool\n",
              "created_at        float64\n",
              "last_move_at      float64\n",
              "turns               int64\n",
              "victory_status     object\n",
              "winner             object\n",
              "increment_code     object\n",
              "white_id           object\n",
              "white_rating        int64\n",
              "black_id           object\n",
              "black_rating        int64\n",
              "moves              object\n",
              "opening_eco        object\n",
              "opening_name       object\n",
              "opening_ply         int64\n",
              "dtype: object"
            ]
          },
          "execution_count": 4,
          "metadata": {},
          "output_type": "execute_result"
        }
      ],
      "source": [
        "# verificando os tipos de todas as colunas\n",
        "chess_games.dtypes"
      ]
    },
    {
      "cell_type": "code",
      "execution_count": 5,
      "metadata": {
        "id": "-6jNIeJ_7v44"
      },
      "outputs": [],
      "source": [
        "# convertendo 'object' para 'category'\n",
        "chess_games['id'] = chess_games['id'].astype('category')\n",
        "chess_games['victory_status'] = chess_games['victory_status'].astype('category')\n",
        "chess_games['winner'] = chess_games['winner'].astype('category')\n",
        "chess_games['increment_code'] = chess_games['increment_code'].astype('category')\n",
        "chess_games['white_id'] = chess_games['white_id'].astype('category')\n",
        "chess_games['black_id'] = chess_games['black_id'].astype('category')\n",
        "chess_games['moves'] = chess_games['moves'].astype('category')\n",
        "chess_games['opening_eco'] = chess_games['opening_eco'].astype('category')\n",
        "chess_games['opening_name'] = chess_games['opening_name'].astype('category')\n",
        "\n",
        "# convertendo categorico para numérico\n",
        "chess_games['id'] = chess_games['id'].cat.codes\n",
        "chess_games['victory_status'] = chess_games['victory_status'].cat.codes\n",
        "chess_games['winner'] = chess_games['winner'].cat.codes\n",
        "chess_games['increment_code'] = chess_games['increment_code'].cat.codes\n",
        "chess_games['white_id'] = chess_games['white_id'].cat.codes\n",
        "chess_games['black_id'] = chess_games['black_id'].cat.codes\n",
        "chess_games['moves'] = chess_games['moves'].cat.codes\n",
        "chess_games['opening_eco'] = chess_games['opening_eco'].cat.codes\n",
        "chess_games['opening_name'] = chess_games['opening_name'].cat.codes"
      ]
    },
    {
      "cell_type": "code",
      "execution_count": 6,
      "metadata": {
        "colab": {
          "base_uri": "https://localhost:8080/"
        },
        "id": "pZvTy3P58php",
        "outputId": "9dd8a83c-b6c8-4887-c71b-aab33872b646"
      },
      "outputs": [
        {
          "data": {
            "text/plain": [
              "id                  int16\n",
              "rated                bool\n",
              "created_at        float64\n",
              "last_move_at      float64\n",
              "turns               int64\n",
              "victory_status       int8\n",
              "winner               int8\n",
              "increment_code      int16\n",
              "white_id            int16\n",
              "white_rating        int64\n",
              "black_id            int16\n",
              "black_rating        int64\n",
              "moves               int16\n",
              "opening_eco         int16\n",
              "opening_name        int16\n",
              "opening_ply         int64\n",
              "dtype: object"
            ]
          },
          "execution_count": 6,
          "metadata": {},
          "output_type": "execute_result"
        }
      ],
      "source": [
        "# verificando novos tipos\n",
        "chess_games.dtypes"
      ]
    },
    {
      "cell_type": "code",
      "execution_count": 7,
      "metadata": {
        "colab": {
          "base_uri": "https://localhost:8080/",
          "height": 293
        },
        "id": "RWeitbgx-M-B",
        "outputId": "5ead425d-e58c-4d2a-ec95-394c0c47ded1"
      },
      "outputs": [
        {
          "data": {
            "text/html": [
              "<div>\n",
              "<style scoped>\n",
              "    .dataframe tbody tr th:only-of-type {\n",
              "        vertical-align: middle;\n",
              "    }\n",
              "\n",
              "    .dataframe tbody tr th {\n",
              "        vertical-align: top;\n",
              "    }\n",
              "\n",
              "    .dataframe thead th {\n",
              "        text-align: right;\n",
              "    }\n",
              "</style>\n",
              "<table border=\"1\" class=\"dataframe\">\n",
              "  <thead>\n",
              "    <tr style=\"text-align: right;\">\n",
              "      <th></th>\n",
              "      <th>id</th>\n",
              "      <th>rated</th>\n",
              "      <th>created_at</th>\n",
              "      <th>last_move_at</th>\n",
              "      <th>turns</th>\n",
              "      <th>victory_status</th>\n",
              "      <th>winner</th>\n",
              "      <th>increment_code</th>\n",
              "      <th>white_id</th>\n",
              "      <th>white_rating</th>\n",
              "      <th>black_id</th>\n",
              "      <th>black_rating</th>\n",
              "      <th>moves</th>\n",
              "      <th>opening_eco</th>\n",
              "      <th>opening_name</th>\n",
              "      <th>opening_ply</th>\n",
              "    </tr>\n",
              "  </thead>\n",
              "  <tbody>\n",
              "    <tr>\n",
              "      <th>0</th>\n",
              "      <td>9068</td>\n",
              "      <td>False</td>\n",
              "      <td>1.504210e+12</td>\n",
              "      <td>1.504210e+12</td>\n",
              "      <td>13</td>\n",
              "      <td>2</td>\n",
              "      <td>2</td>\n",
              "      <td>110</td>\n",
              "      <td>1287</td>\n",
              "      <td>1500</td>\n",
              "      <td>11</td>\n",
              "      <td>1191</td>\n",
              "      <td>4524</td>\n",
              "      <td>248</td>\n",
              "      <td>1387</td>\n",
              "      <td>5</td>\n",
              "    </tr>\n",
              "    <tr>\n",
              "      <th>1</th>\n",
              "      <td>14512</td>\n",
              "      <td>True</td>\n",
              "      <td>1.504130e+12</td>\n",
              "      <td>1.504130e+12</td>\n",
              "      <td>16</td>\n",
              "      <td>3</td>\n",
              "      <td>0</td>\n",
              "      <td>298</td>\n",
              "      <td>16</td>\n",
              "      <td>1322</td>\n",
              "      <td>7748</td>\n",
              "      <td>1261</td>\n",
              "      <td>1987</td>\n",
              "      <td>71</td>\n",
              "      <td>750</td>\n",
              "      <td>4</td>\n",
              "    </tr>\n",
              "    <tr>\n",
              "      <th>2</th>\n",
              "      <td>14904</td>\n",
              "      <td>True</td>\n",
              "      <td>1.504130e+12</td>\n",
              "      <td>1.504130e+12</td>\n",
              "      <td>61</td>\n",
              "      <td>1</td>\n",
              "      <td>2</td>\n",
              "      <td>298</td>\n",
              "      <td>3823</td>\n",
              "      <td>1496</td>\n",
              "      <td>11</td>\n",
              "      <td>1500</td>\n",
              "      <td>16383</td>\n",
              "      <td>171</td>\n",
              "      <td>650</td>\n",
              "      <td>3</td>\n",
              "    </tr>\n",
              "    <tr>\n",
              "      <th>3</th>\n",
              "      <td>14350</td>\n",
              "      <td>True</td>\n",
              "      <td>1.504110e+12</td>\n",
              "      <td>1.504110e+12</td>\n",
              "      <td>61</td>\n",
              "      <td>1</td>\n",
              "      <td>2</td>\n",
              "      <td>187</td>\n",
              "      <td>2017</td>\n",
              "      <td>1439</td>\n",
              "      <td>134</td>\n",
              "      <td>1454</td>\n",
              "      <td>3770</td>\n",
              "      <td>241</td>\n",
              "      <td>992</td>\n",
              "      <td>3</td>\n",
              "    </tr>\n",
              "    <tr>\n",
              "      <th>4</th>\n",
              "      <td>3091</td>\n",
              "      <td>True</td>\n",
              "      <td>1.504030e+12</td>\n",
              "      <td>1.504030e+12</td>\n",
              "      <td>95</td>\n",
              "      <td>1</td>\n",
              "      <td>2</td>\n",
              "      <td>247</td>\n",
              "      <td>6056</td>\n",
              "      <td>1523</td>\n",
              "      <td>134</td>\n",
              "      <td>1469</td>\n",
              "      <td>15622</td>\n",
              "      <td>192</td>\n",
              "      <td>783</td>\n",
              "      <td>5</td>\n",
              "    </tr>\n",
              "  </tbody>\n",
              "</table>\n",
              "</div>"
            ],
            "text/plain": [
              "      id  rated    created_at  last_move_at  turns  victory_status  winner  \\\n",
              "0   9068  False  1.504210e+12  1.504210e+12     13               2       2   \n",
              "1  14512   True  1.504130e+12  1.504130e+12     16               3       0   \n",
              "2  14904   True  1.504130e+12  1.504130e+12     61               1       2   \n",
              "3  14350   True  1.504110e+12  1.504110e+12     61               1       2   \n",
              "4   3091   True  1.504030e+12  1.504030e+12     95               1       2   \n",
              "\n",
              "   increment_code  white_id  white_rating  black_id  black_rating  moves  \\\n",
              "0             110      1287          1500        11          1191   4524   \n",
              "1             298        16          1322      7748          1261   1987   \n",
              "2             298      3823          1496        11          1500  16383   \n",
              "3             187      2017          1439       134          1454   3770   \n",
              "4             247      6056          1523       134          1469  15622   \n",
              "\n",
              "   opening_eco  opening_name  opening_ply  \n",
              "0          248          1387            5  \n",
              "1           71           750            4  \n",
              "2          171           650            3  \n",
              "3          241           992            3  \n",
              "4          192           783            5  "
            ]
          },
          "execution_count": 7,
          "metadata": {},
          "output_type": "execute_result"
        }
      ],
      "source": [
        "chess_games.head()"
      ]
    },
    {
      "cell_type": "markdown",
      "metadata": {},
      "source": [
        "# Tratamento de dados duplicados"
      ]
    },
    {
      "cell_type": "markdown",
      "metadata": {},
      "source": [
        "## Verificando se há dados duplicados"
      ]
    },
    {
      "cell_type": "markdown",
      "metadata": {},
      "source": [
        "Como um mesmo jogo pode acontecer mais de uma vez, serão considerados duplicados os jogos que possuem o mesmo id."
      ]
    },
    {
      "cell_type": "code",
      "execution_count": 8,
      "metadata": {},
      "outputs": [],
      "source": [
        "duplicated_games = chess_games.duplicated(keep=False, subset=['id'])"
      ]
    },
    {
      "cell_type": "code",
      "execution_count": 9,
      "metadata": {},
      "outputs": [
        {
          "data": {
            "text/html": [
              "<div>\n",
              "<style scoped>\n",
              "    .dataframe tbody tr th:only-of-type {\n",
              "        vertical-align: middle;\n",
              "    }\n",
              "\n",
              "    .dataframe tbody tr th {\n",
              "        vertical-align: top;\n",
              "    }\n",
              "\n",
              "    .dataframe thead th {\n",
              "        text-align: right;\n",
              "    }\n",
              "</style>\n",
              "<table border=\"1\" class=\"dataframe\">\n",
              "  <thead>\n",
              "    <tr style=\"text-align: right;\">\n",
              "      <th></th>\n",
              "      <th>id</th>\n",
              "      <th>rated</th>\n",
              "      <th>created_at</th>\n",
              "      <th>last_move_at</th>\n",
              "      <th>turns</th>\n",
              "      <th>victory_status</th>\n",
              "      <th>winner</th>\n",
              "      <th>increment_code</th>\n",
              "      <th>white_id</th>\n",
              "      <th>white_rating</th>\n",
              "      <th>black_id</th>\n",
              "      <th>black_rating</th>\n",
              "      <th>moves</th>\n",
              "      <th>opening_eco</th>\n",
              "      <th>opening_name</th>\n",
              "      <th>opening_ply</th>\n",
              "    </tr>\n",
              "  </thead>\n",
              "  <tbody>\n",
              "    <tr>\n",
              "      <th>11279</th>\n",
              "      <td>30</td>\n",
              "      <td>True</td>\n",
              "      <td>1.396113e+12</td>\n",
              "      <td>1.396114e+12</td>\n",
              "      <td>66</td>\n",
              "      <td>0</td>\n",
              "      <td>1</td>\n",
              "      <td>26</td>\n",
              "      <td>2795</td>\n",
              "      <td>1630</td>\n",
              "      <td>8822</td>\n",
              "      <td>1584</td>\n",
              "      <td>17286</td>\n",
              "      <td>152</td>\n",
              "      <td>352</td>\n",
              "      <td>3</td>\n",
              "    </tr>\n",
              "    <tr>\n",
              "      <th>10570</th>\n",
              "      <td>30</td>\n",
              "      <td>True</td>\n",
              "      <td>1.396113e+12</td>\n",
              "      <td>1.396114e+12</td>\n",
              "      <td>66</td>\n",
              "      <td>0</td>\n",
              "      <td>1</td>\n",
              "      <td>26</td>\n",
              "      <td>2795</td>\n",
              "      <td>1630</td>\n",
              "      <td>8822</td>\n",
              "      <td>1584</td>\n",
              "      <td>17286</td>\n",
              "      <td>152</td>\n",
              "      <td>352</td>\n",
              "      <td>3</td>\n",
              "    </tr>\n",
              "    <tr>\n",
              "      <th>12208</th>\n",
              "      <td>37</td>\n",
              "      <td>True</td>\n",
              "      <td>1.504113e+12</td>\n",
              "      <td>1.504113e+12</td>\n",
              "      <td>32</td>\n",
              "      <td>3</td>\n",
              "      <td>0</td>\n",
              "      <td>19</td>\n",
              "      <td>9071</td>\n",
              "      <td>1448</td>\n",
              "      <td>6546</td>\n",
              "      <td>1436</td>\n",
              "      <td>4148</td>\n",
              "      <td>241</td>\n",
              "      <td>931</td>\n",
              "      <td>4</td>\n",
              "    </tr>\n",
              "    <tr>\n",
              "      <th>720</th>\n",
              "      <td>37</td>\n",
              "      <td>True</td>\n",
              "      <td>1.504110e+12</td>\n",
              "      <td>1.504110e+12</td>\n",
              "      <td>32</td>\n",
              "      <td>3</td>\n",
              "      <td>0</td>\n",
              "      <td>19</td>\n",
              "      <td>9071</td>\n",
              "      <td>1448</td>\n",
              "      <td>6546</td>\n",
              "      <td>1436</td>\n",
              "      <td>4148</td>\n",
              "      <td>241</td>\n",
              "      <td>931</td>\n",
              "      <td>4</td>\n",
              "    </tr>\n",
              "    <tr>\n",
              "      <th>3882</th>\n",
              "      <td>40</td>\n",
              "      <td>True</td>\n",
              "      <td>1.491950e+12</td>\n",
              "      <td>1.491960e+12</td>\n",
              "      <td>35</td>\n",
              "      <td>1</td>\n",
              "      <td>2</td>\n",
              "      <td>236</td>\n",
              "      <td>1664</td>\n",
              "      <td>1259</td>\n",
              "      <td>3636</td>\n",
              "      <td>1319</td>\n",
              "      <td>14968</td>\n",
              "      <td>193</td>\n",
              "      <td>777</td>\n",
              "      <td>4</td>\n",
              "    </tr>\n",
              "    <tr>\n",
              "      <th>18642</th>\n",
              "      <td>40</td>\n",
              "      <td>True</td>\n",
              "      <td>1.491955e+12</td>\n",
              "      <td>1.491955e+12</td>\n",
              "      <td>35</td>\n",
              "      <td>1</td>\n",
              "      <td>2</td>\n",
              "      <td>236</td>\n",
              "      <td>1664</td>\n",
              "      <td>1259</td>\n",
              "      <td>3636</td>\n",
              "      <td>1319</td>\n",
              "      <td>14968</td>\n",
              "      <td>193</td>\n",
              "      <td>777</td>\n",
              "      <td>4</td>\n",
              "    </tr>\n",
              "  </tbody>\n",
              "</table>\n",
              "</div>"
            ],
            "text/plain": [
              "       id  rated    created_at  last_move_at  turns  victory_status  winner  \\\n",
              "11279  30   True  1.396113e+12  1.396114e+12     66               0       1   \n",
              "10570  30   True  1.396113e+12  1.396114e+12     66               0       1   \n",
              "12208  37   True  1.504113e+12  1.504113e+12     32               3       0   \n",
              "720    37   True  1.504110e+12  1.504110e+12     32               3       0   \n",
              "3882   40   True  1.491950e+12  1.491960e+12     35               1       2   \n",
              "18642  40   True  1.491955e+12  1.491955e+12     35               1       2   \n",
              "\n",
              "       increment_code  white_id  white_rating  black_id  black_rating  moves  \\\n",
              "11279              26      2795          1630      8822          1584  17286   \n",
              "10570              26      2795          1630      8822          1584  17286   \n",
              "12208              19      9071          1448      6546          1436   4148   \n",
              "720                19      9071          1448      6546          1436   4148   \n",
              "3882              236      1664          1259      3636          1319  14968   \n",
              "18642             236      1664          1259      3636          1319  14968   \n",
              "\n",
              "       opening_eco  opening_name  opening_ply  \n",
              "11279          152           352            3  \n",
              "10570          152           352            3  \n",
              "12208          241           931            4  \n",
              "720            241           931            4  \n",
              "3882           193           777            4  \n",
              "18642          193           777            4  "
            ]
          },
          "execution_count": 9,
          "metadata": {},
          "output_type": "execute_result"
        }
      ],
      "source": [
        "chess_games[duplicated_games].sort_values(by='id').head(6)"
      ]
    },
    {
      "cell_type": "code",
      "execution_count": 10,
      "metadata": {},
      "outputs": [
        {
          "data": {
            "text/plain": [
              "(20058, 16)"
            ]
          },
          "execution_count": 10,
          "metadata": {},
          "output_type": "execute_result"
        }
      ],
      "source": [
        "# tamanho antes da remoção de dados duplicados\n",
        "chess_games.shape"
      ]
    },
    {
      "cell_type": "markdown",
      "metadata": {},
      "source": [
        "## Remoção de dados duplicados"
      ]
    },
    {
      "cell_type": "code",
      "execution_count": 11,
      "metadata": {},
      "outputs": [],
      "source": [
        "chess_games.drop_duplicates(inplace=True, subset=['id'])"
      ]
    },
    {
      "cell_type": "code",
      "execution_count": 12,
      "metadata": {},
      "outputs": [
        {
          "data": {
            "text/plain": [
              "(19113, 16)"
            ]
          },
          "execution_count": 12,
          "metadata": {},
          "output_type": "execute_result"
        }
      ],
      "source": [
        "chess_games.shape"
      ]
    },
    {
      "cell_type": "markdown",
      "metadata": {
        "id": "NXW15s_LD37Q"
      },
      "source": [
        "# Tratamento de dados ausentes"
      ]
    },
    {
      "cell_type": "code",
      "execution_count": 13,
      "metadata": {
        "colab": {
          "base_uri": "https://localhost:8080/"
        },
        "id": "mhocDl4nD_ep",
        "outputId": "d768e1ef-5617-4d80-f182-651bbd70ed39"
      },
      "outputs": [
        {
          "data": {
            "text/plain": [
              "(19113, 16)"
            ]
          },
          "execution_count": 13,
          "metadata": {},
          "output_type": "execute_result"
        }
      ],
      "source": [
        "chess_games.shape"
      ]
    },
    {
      "cell_type": "code",
      "execution_count": 14,
      "metadata": {
        "colab": {
          "base_uri": "https://localhost:8080/"
        },
        "id": "2vXFwG0YEDvo",
        "outputId": "a53df129-bc5b-4924-dd6f-a385638f9daa"
      },
      "outputs": [
        {
          "name": "stdout",
          "output_type": "stream",
          "text": [
            "id                0\n",
            "rated             0\n",
            "created_at        0\n",
            "last_move_at      0\n",
            "turns             0\n",
            "victory_status    0\n",
            "winner            0\n",
            "increment_code    0\n",
            "white_id          0\n",
            "white_rating      0\n",
            "black_id          0\n",
            "black_rating      0\n",
            "moves             0\n",
            "opening_eco       0\n",
            "opening_name      0\n",
            "opening_ply       0\n",
            "dtype: int64\n"
          ]
        }
      ],
      "source": [
        "# verificando se há dados ausentes\n",
        "print(chess_games.isnull().sum())"
      ]
    },
    {
      "cell_type": "markdown",
      "metadata": {
        "id": "BJmWjMN0EgIw"
      },
      "source": [
        "O dataset selecionado não contém dados ausentes, portanto será feita uma remoção aleatória de dados para que possa ser realizada uma imputação em seguida"
      ]
    },
    {
      "cell_type": "markdown",
      "metadata": {},
      "source": [
        "## Normalização"
      ]
    },
    {
      "cell_type": "markdown",
      "metadata": {},
      "source": [
        "Antes de realizar a imputação, é necessário normalizar os dados para que a imputação seja feita de forma correta. Apenas as colunas que se referem aos ratings dos jogadores serão utilizadas."
      ]
    },
    {
      "cell_type": "code",
      "execution_count": 15,
      "metadata": {},
      "outputs": [],
      "source": [
        "chess_games_norm = chess_games.copy()"
      ]
    },
    {
      "cell_type": "code",
      "execution_count": 16,
      "metadata": {},
      "outputs": [],
      "source": [
        "# normalização entre 0 e 1\n",
        "chess_games_norm['white_rating'] = (chess_games['white_rating'] - chess_games['white_rating'].min()) \\\n",
        "    / (chess_games['white_rating'].max() - chess_games['white_rating'].min())\n",
        "chess_games_norm['black_rating'] = (chess_games['black_rating'] - chess_games['black_rating'].min()) \\\n",
        "    / (chess_games['black_rating'].max() - chess_games['black_rating'].min())"
      ]
    },
    {
      "cell_type": "code",
      "execution_count": 17,
      "metadata": {},
      "outputs": [
        {
          "data": {
            "text/html": [
              "<div>\n",
              "<style scoped>\n",
              "    .dataframe tbody tr th:only-of-type {\n",
              "        vertical-align: middle;\n",
              "    }\n",
              "\n",
              "    .dataframe tbody tr th {\n",
              "        vertical-align: top;\n",
              "    }\n",
              "\n",
              "    .dataframe thead th {\n",
              "        text-align: right;\n",
              "    }\n",
              "</style>\n",
              "<table border=\"1\" class=\"dataframe\">\n",
              "  <thead>\n",
              "    <tr style=\"text-align: right;\">\n",
              "      <th></th>\n",
              "      <th>white_rating</th>\n",
              "      <th>black_rating</th>\n",
              "    </tr>\n",
              "  </thead>\n",
              "  <tbody>\n",
              "    <tr>\n",
              "      <th>count</th>\n",
              "      <td>19113.000000</td>\n",
              "      <td>19113.000000</td>\n",
              "    </tr>\n",
              "    <tr>\n",
              "      <th>mean</th>\n",
              "      <td>0.424478</td>\n",
              "      <td>0.414191</td>\n",
              "    </tr>\n",
              "    <tr>\n",
              "      <th>std</th>\n",
              "      <td>0.151369</td>\n",
              "      <td>0.150177</td>\n",
              "    </tr>\n",
              "    <tr>\n",
              "      <th>min</th>\n",
              "      <td>0.000000</td>\n",
              "      <td>0.000000</td>\n",
              "    </tr>\n",
              "    <tr>\n",
              "      <th>25%</th>\n",
              "      <td>0.322025</td>\n",
              "      <td>0.312823</td>\n",
              "    </tr>\n",
              "    <tr>\n",
              "      <th>50%</th>\n",
              "      <td>0.408664</td>\n",
              "      <td>0.400207</td>\n",
              "    </tr>\n",
              "    <tr>\n",
              "      <th>75%</th>\n",
              "      <td>0.526096</td>\n",
              "      <td>0.514995</td>\n",
              "    </tr>\n",
              "    <tr>\n",
              "      <th>max</th>\n",
              "      <td>1.000000</td>\n",
              "      <td>1.000000</td>\n",
              "    </tr>\n",
              "  </tbody>\n",
              "</table>\n",
              "</div>"
            ],
            "text/plain": [
              "       white_rating  black_rating\n",
              "count  19113.000000  19113.000000\n",
              "mean       0.424478      0.414191\n",
              "std        0.151369      0.150177\n",
              "min        0.000000      0.000000\n",
              "25%        0.322025      0.312823\n",
              "50%        0.408664      0.400207\n",
              "75%        0.526096      0.514995\n",
              "max        1.000000      1.000000"
            ]
          },
          "execution_count": 17,
          "metadata": {},
          "output_type": "execute_result"
        }
      ],
      "source": [
        "chess_games_norm[['white_rating', 'black_rating']].describe()"
      ]
    },
    {
      "cell_type": "markdown",
      "metadata": {},
      "source": [
        "## Remoção de dados"
      ]
    },
    {
      "cell_type": "code",
      "execution_count": 18,
      "metadata": {},
      "outputs": [],
      "source": [
        "# gerando indices aleatórios\n",
        "random_indices_white_rating = np.random.choice(chess_games.index, size=int(len(chess_games)*0.05), replace=False)\n",
        "random_indices_black_rating = np.random.choice(chess_games.index, size=int(len(chess_games)*0.05), replace=False)\n",
        "\n",
        "# substituindo valores por NaN\n",
        "chess_games2 = chess_games_norm.copy()\n",
        "chess_games2.loc[random_indices_white_rating, ['white_rating']] = np.nan\n",
        "chess_games2.loc[random_indices_black_rating, ['black_rating']] = np.nan"
      ]
    },
    {
      "cell_type": "code",
      "execution_count": 19,
      "metadata": {},
      "outputs": [
        {
          "data": {
            "text/plain": [
              "id                  0\n",
              "rated               0\n",
              "created_at          0\n",
              "last_move_at        0\n",
              "turns               0\n",
              "victory_status      0\n",
              "winner              0\n",
              "increment_code      0\n",
              "white_id            0\n",
              "white_rating      955\n",
              "black_id            0\n",
              "black_rating      955\n",
              "moves               0\n",
              "opening_eco         0\n",
              "opening_name        0\n",
              "opening_ply         0\n",
              "dtype: int64"
            ]
          },
          "execution_count": 19,
          "metadata": {},
          "output_type": "execute_result"
        }
      ],
      "source": [
        "chess_games2.isnull().sum()"
      ]
    },
    {
      "cell_type": "markdown",
      "metadata": {},
      "source": [
        "## Imputação de dados"
      ]
    },
    {
      "cell_type": "markdown",
      "metadata": {},
      "source": [
        "### Usando a média"
      ]
    },
    {
      "cell_type": "code",
      "execution_count": 20,
      "metadata": {},
      "outputs": [],
      "source": [
        "chess_games_mean_fill = chess_games2.copy()"
      ]
    },
    {
      "cell_type": "code",
      "execution_count": 21,
      "metadata": {},
      "outputs": [
        {
          "name": "stdout",
          "output_type": "stream",
          "text": [
            "white_rating\n",
            "mean: 0.42429824980954695\n",
            "median: 0.40866388308977036\n",
            "\n",
            "black_rating\n",
            "mean: 0.4143820364346374\n",
            "median: 0.40020682523267836\n"
          ]
        }
      ],
      "source": [
        "print(\"white_rating\")\n",
        "print(\"mean:\", chess_games_mean_fill['white_rating'].mean())\n",
        "print(\"median:\", chess_games_mean_fill['white_rating'].median(), end='\\n\\n')\n",
        "\n",
        "print(\"black_rating\")\n",
        "print(\"mean:\", chess_games_mean_fill['black_rating'].mean())\n",
        "print(\"median:\", chess_games_mean_fill['black_rating'].median())"
      ]
    },
    {
      "cell_type": "code",
      "execution_count": 22,
      "metadata": {},
      "outputs": [],
      "source": [
        "chess_games_mean_fill['white_rating'].fillna(chess_games2['white_rating'].mean(), inplace=True)\n",
        "chess_games_mean_fill['black_rating'].fillna(chess_games2['black_rating'].mean(), inplace=True)"
      ]
    },
    {
      "cell_type": "code",
      "execution_count": 23,
      "metadata": {},
      "outputs": [
        {
          "data": {
            "text/plain": [
              "id                0\n",
              "rated             0\n",
              "created_at        0\n",
              "last_move_at      0\n",
              "turns             0\n",
              "victory_status    0\n",
              "winner            0\n",
              "increment_code    0\n",
              "white_id          0\n",
              "white_rating      0\n",
              "black_id          0\n",
              "black_rating      0\n",
              "moves             0\n",
              "opening_eco       0\n",
              "opening_name      0\n",
              "opening_ply       0\n",
              "dtype: int64"
            ]
          },
          "execution_count": 23,
          "metadata": {},
          "output_type": "execute_result"
        }
      ],
      "source": [
        "chess_games_mean_fill.isnull().sum()"
      ]
    },
    {
      "cell_type": "code",
      "execution_count": 24,
      "metadata": {},
      "outputs": [
        {
          "name": "stdout",
          "output_type": "stream",
          "text": [
            "white_rating\n",
            "mean: 0.42429824980954695\n",
            "median: 0.4196242171189979\n",
            "\n",
            "black_rating\n",
            "mean: 0.41438203643463734\n",
            "median: 0.41003102378490175\n"
          ]
        }
      ],
      "source": [
        "print(\"white_rating\")\n",
        "print(\"mean:\", chess_games_mean_fill['white_rating'].mean())\n",
        "print(\"median:\", chess_games_mean_fill['white_rating'].median(), end='\\n\\n')\n",
        "\n",
        "print(\"black_rating\")\n",
        "print(\"mean:\", chess_games_mean_fill['black_rating'].mean())\n",
        "print(\"median:\", chess_games_mean_fill['black_rating'].median())"
      ]
    },
    {
      "cell_type": "markdown",
      "metadata": {},
      "source": [
        "Quando a média é utilizada, o seu valor é alterado, além de afetar o valor da mediana, deslocando-a para um valor mais próximo do seu próprio."
      ]
    },
    {
      "cell_type": "markdown",
      "metadata": {},
      "source": [
        "### Usando a mediana"
      ]
    },
    {
      "cell_type": "code",
      "execution_count": 25,
      "metadata": {},
      "outputs": [],
      "source": [
        "chess_games_median_fill = chess_games2.copy()"
      ]
    },
    {
      "cell_type": "code",
      "execution_count": 26,
      "metadata": {},
      "outputs": [
        {
          "name": "stdout",
          "output_type": "stream",
          "text": [
            "white_rating\n",
            "mean: 0.42429824980954695\n",
            "median: 0.40866388308977036\n",
            "\n",
            "black_rating\n",
            "mean: 0.4143820364346374\n",
            "median: 0.40020682523267836\n"
          ]
        }
      ],
      "source": [
        "print(\"white_rating\")\n",
        "print(\"mean:\", chess_games_median_fill['white_rating'].mean())\n",
        "print(\"median:\", chess_games_median_fill['white_rating'].median(), end='\\n\\n')\n",
        "\n",
        "print(\"black_rating\")\n",
        "print(\"mean:\", chess_games_median_fill['black_rating'].mean())\n",
        "print(\"median:\", chess_games_median_fill['black_rating'].median())"
      ]
    },
    {
      "cell_type": "code",
      "execution_count": 27,
      "metadata": {},
      "outputs": [],
      "source": [
        "chess_games_median_fill['white_rating'].fillna(chess_games2['white_rating'].median(), inplace=True)\n",
        "chess_games_median_fill['black_rating'].fillna(chess_games2['black_rating'].median(), inplace=True)"
      ]
    },
    {
      "cell_type": "code",
      "execution_count": 28,
      "metadata": {},
      "outputs": [
        {
          "data": {
            "text/plain": [
              "id                0\n",
              "rated             0\n",
              "created_at        0\n",
              "last_move_at      0\n",
              "turns             0\n",
              "victory_status    0\n",
              "winner            0\n",
              "increment_code    0\n",
              "white_id          0\n",
              "white_rating      0\n",
              "black_id          0\n",
              "black_rating      0\n",
              "moves             0\n",
              "opening_eco       0\n",
              "opening_name      0\n",
              "opening_ply       0\n",
              "dtype: int64"
            ]
          },
          "execution_count": 28,
          "metadata": {},
          "output_type": "execute_result"
        }
      ],
      "source": [
        "chess_games_median_fill.isnull().sum()"
      ]
    },
    {
      "cell_type": "code",
      "execution_count": 29,
      "metadata": {},
      "outputs": [
        {
          "name": "stdout",
          "output_type": "stream",
          "text": [
            "white_rating\n",
            "mean: 0.42351706317127\n",
            "median: 0.40866388308977036\n",
            "\n",
            "black_rating\n",
            "mean: 0.4136737579489014\n",
            "median: 0.40020682523267836\n"
          ]
        }
      ],
      "source": [
        "print(\"white_rating\")\n",
        "print(\"mean:\", chess_games_median_fill['white_rating'].mean())\n",
        "print(\"median:\", chess_games_median_fill['white_rating'].median(), end='\\n\\n')\n",
        "\n",
        "print(\"black_rating\")\n",
        "print(\"mean:\", chess_games_median_fill['black_rating'].mean())\n",
        "print(\"median:\", chess_games_median_fill['black_rating'].median())"
      ]
    },
    {
      "cell_type": "markdown",
      "metadata": {},
      "source": [
        "Quando a mediana é utilizada, o seu valor se mantém e o valor da média é levemente alterado, sem apresentar um grande impacto nas estatísticas originais."
      ]
    },
    {
      "cell_type": "markdown",
      "metadata": {},
      "source": [
        "### Usando um valor aleatório"
      ]
    },
    {
      "cell_type": "code",
      "execution_count": 30,
      "metadata": {},
      "outputs": [],
      "source": [
        "chess_games_random_fill = chess_games2.copy()"
      ]
    },
    {
      "cell_type": "code",
      "execution_count": 31,
      "metadata": {},
      "outputs": [
        {
          "name": "stdout",
          "output_type": "stream",
          "text": [
            "white_rating\n",
            "mean: 0.42429824980954695\n",
            "median: 0.40866388308977036\n",
            "\n",
            "black_rating\n",
            "mean: 0.4143820364346374\n",
            "median: 0.40020682523267836\n"
          ]
        }
      ],
      "source": [
        "print(\"white_rating\")\n",
        "print(\"mean:\", chess_games_random_fill['white_rating'].mean())\n",
        "print(\"median:\", chess_games_random_fill['white_rating'].median(), end='\\n\\n')\n",
        "\n",
        "print(\"black_rating\")\n",
        "print(\"mean:\", chess_games_random_fill['black_rating'].mean())\n",
        "print(\"median:\", chess_games_random_fill['black_rating'].median())"
      ]
    },
    {
      "cell_type": "code",
      "execution_count": 32,
      "metadata": {},
      "outputs": [],
      "source": [
        "# imputando valores aleatórios\n",
        "import random\n",
        "chess_games_random_fill['white_rating'].fillna(random.randint(chess_games2['white_rating'].min(), chess_games2['white_rating'].max()), inplace=True)\n",
        "chess_games_random_fill['black_rating'].fillna(random.randint(chess_games2['black_rating'].min(), chess_games2['black_rating'].max()), inplace=True)"
      ]
    },
    {
      "cell_type": "code",
      "execution_count": 33,
      "metadata": {},
      "outputs": [
        {
          "data": {
            "text/plain": [
              "id                0\n",
              "rated             0\n",
              "created_at        0\n",
              "last_move_at      0\n",
              "turns             0\n",
              "victory_status    0\n",
              "winner            0\n",
              "increment_code    0\n",
              "white_id          0\n",
              "white_rating      0\n",
              "black_id          0\n",
              "black_rating      0\n",
              "moves             0\n",
              "opening_eco       0\n",
              "opening_name      0\n",
              "opening_ply       0\n",
              "dtype: int64"
            ]
          },
          "execution_count": 33,
          "metadata": {},
          "output_type": "execute_result"
        }
      ],
      "source": [
        "chess_games_random_fill.isnull().sum()"
      ]
    },
    {
      "cell_type": "code",
      "execution_count": 34,
      "metadata": {},
      "outputs": [
        {
          "name": "stdout",
          "output_type": "stream",
          "text": [
            "white_rating\n",
            "mean: 0.40309776696707755\n",
            "median: 0.39979123173277664\n",
            "\n",
            "black_rating\n",
            "mean: 0.44364301876106027\n",
            "median: 0.41003102378490175\n"
          ]
        }
      ],
      "source": [
        "print(\"white_rating\")\n",
        "print(\"mean:\", chess_games_random_fill['white_rating'].mean())\n",
        "print(\"median:\", chess_games_random_fill['white_rating'].median(), end='\\n\\n')\n",
        "\n",
        "print(\"black_rating\")\n",
        "print(\"mean:\", chess_games_random_fill['black_rating'].mean())\n",
        "print(\"median:\", chess_games_random_fill['black_rating'].median())"
      ]
    },
    {
      "cell_type": "markdown",
      "metadata": {},
      "source": [
        "A utilização de valores aleatórios se mostra uma opção ruim para a imputação de dados, pois pode distorcer as estatísticas originais do dataset, perdendo assim informações importantes."
      ]
    },
    {
      "cell_type": "markdown",
      "metadata": {},
      "source": [
        "### Usando um preditor KNN"
      ]
    },
    {
      "cell_type": "code",
      "execution_count": 35,
      "metadata": {},
      "outputs": [],
      "source": [
        "chess_games_knn_fill = chess_games2.copy()"
      ]
    },
    {
      "cell_type": "markdown",
      "metadata": {},
      "source": [
        "#### Executando o KNN"
      ]
    },
    {
      "cell_type": "code",
      "execution_count": 36,
      "metadata": {},
      "outputs": [
        {
          "name": "stdout",
          "output_type": "stream",
          "text": [
            "Requirement already satisfied: fancyimpute in /home/vinicius/.local/lib/python3.8/site-packages (0.7.0)\n",
            "Requirement already satisfied: cvxpy in /home/vinicius/.local/lib/python3.8/site-packages (from fancyimpute) (1.5.1)\n",
            "Requirement already satisfied: knnimpute>=0.1.0 in /home/vinicius/.local/lib/python3.8/site-packages (from fancyimpute) (0.1.0)\n",
            "Requirement already satisfied: pytest in /home/vinicius/.local/lib/python3.8/site-packages (from fancyimpute) (8.2.0)\n",
            "Requirement already satisfied: scikit-learn>=0.24.2 in /home/vinicius/.local/lib/python3.8/site-packages (from fancyimpute) (1.3.2)\n",
            "Requirement already satisfied: cvxopt in /home/vinicius/.local/lib/python3.8/site-packages (from fancyimpute) (1.3.2)\n",
            "Requirement already satisfied: nose in /home/vinicius/.local/lib/python3.8/site-packages (from fancyimpute) (1.3.7)\n",
            "Requirement already satisfied: scs>=3.2.4.post1 in /home/vinicius/.local/lib/python3.8/site-packages (from cvxpy->fancyimpute) (3.2.4.post1)\n",
            "Requirement already satisfied: osqp>=0.6.2 in /home/vinicius/.local/lib/python3.8/site-packages (from cvxpy->fancyimpute) (0.6.5)\n",
            "Requirement already satisfied: clarabel>=0.5.0 in /home/vinicius/.local/lib/python3.8/site-packages (from cvxpy->fancyimpute) (0.7.1)\n",
            "Requirement already satisfied: ecos>=2 in /home/vinicius/.local/lib/python3.8/site-packages (from cvxpy->fancyimpute) (2.0.13)\n",
            "Requirement already satisfied: scipy>=1.1.0 in /home/vinicius/.local/lib/python3.8/site-packages (from cvxpy->fancyimpute) (1.10.1)\n",
            "Requirement already satisfied: numpy>=1.15 in /home/vinicius/.local/lib/python3.8/site-packages (from cvxpy->fancyimpute) (1.24.4)\n",
            "Requirement already satisfied: six in /usr/lib/python3/dist-packages (from knnimpute>=0.1.0->fancyimpute) (1.14.0)\n",
            "Requirement already satisfied: exceptiongroup>=1.0.0rc8; python_version < \"3.11\" in /home/vinicius/.local/lib/python3.8/site-packages (from pytest->fancyimpute) (1.2.1)\n",
            "Requirement already satisfied: pluggy<2.0,>=1.5 in /home/vinicius/.local/lib/python3.8/site-packages (from pytest->fancyimpute) (1.5.0)\n",
            "Requirement already satisfied: packaging in /home/vinicius/.local/lib/python3.8/site-packages (from pytest->fancyimpute) (23.2)\n",
            "Requirement already satisfied: iniconfig in /home/vinicius/.local/lib/python3.8/site-packages (from pytest->fancyimpute) (2.0.0)\n",
            "Requirement already satisfied: tomli>=1; python_version < \"3.11\" in /home/vinicius/.local/lib/python3.8/site-packages (from pytest->fancyimpute) (2.0.1)\n",
            "Requirement already satisfied: joblib>=1.1.1 in /home/vinicius/.local/lib/python3.8/site-packages (from scikit-learn>=0.24.2->fancyimpute) (1.4.2)\n",
            "Requirement already satisfied: threadpoolctl>=2.0.0 in /home/vinicius/.local/lib/python3.8/site-packages (from scikit-learn>=0.24.2->fancyimpute) (3.5.0)\n",
            "Requirement already satisfied: qdldl in /home/vinicius/.local/lib/python3.8/site-packages (from osqp>=0.6.2->cvxpy->fancyimpute) (0.1.7.post2)\n",
            "Note: you may need to restart the kernel to use updated packages.\n"
          ]
        }
      ],
      "source": [
        "%pip install fancyimpute"
      ]
    },
    {
      "cell_type": "code",
      "execution_count": 37,
      "metadata": {},
      "outputs": [
        {
          "name": "stdout",
          "output_type": "stream",
          "text": [
            "Imputing row 1/19113 with 0 missing, elapsed time: 66.485\n",
            "Imputing row 101/19113 with 0 missing, elapsed time: 66.487\n",
            "Imputing row 201/19113 with 0 missing, elapsed time: 66.488\n",
            "Imputing row 301/19113 with 1 missing, elapsed time: 66.489\n",
            "Imputing row 401/19113 with 0 missing, elapsed time: 66.491\n",
            "Imputing row 501/19113 with 0 missing, elapsed time: 66.491\n",
            "Imputing row 601/19113 with 0 missing, elapsed time: 66.492\n",
            "Imputing row 701/19113 with 0 missing, elapsed time: 66.493\n",
            "Imputing row 801/19113 with 0 missing, elapsed time: 66.494\n",
            "Imputing row 901/19113 with 0 missing, elapsed time: 66.495\n",
            "Imputing row 1001/19113 with 0 missing, elapsed time: 66.496\n",
            "Imputing row 1101/19113 with 0 missing, elapsed time: 66.497\n",
            "Imputing row 1201/19113 with 0 missing, elapsed time: 66.498\n",
            "Imputing row 1301/19113 with 0 missing, elapsed time: 66.498\n",
            "Imputing row 1401/19113 with 0 missing, elapsed time: 66.499\n",
            "Imputing row 1501/19113 with 0 missing, elapsed time: 66.500\n",
            "Imputing row 1601/19113 with 0 missing, elapsed time: 66.500\n",
            "Imputing row 1701/19113 with 0 missing, elapsed time: 66.501\n",
            "Imputing row 1801/19113 with 0 missing, elapsed time: 66.502\n",
            "Imputing row 1901/19113 with 0 missing, elapsed time: 66.504\n",
            "Imputing row 2001/19113 with 0 missing, elapsed time: 66.504\n",
            "Imputing row 2101/19113 with 0 missing, elapsed time: 66.505\n",
            "Imputing row 2201/19113 with 0 missing, elapsed time: 66.506\n",
            "Imputing row 2301/19113 with 0 missing, elapsed time: 66.507\n",
            "Imputing row 2401/19113 with 1 missing, elapsed time: 66.508\n",
            "Imputing row 2501/19113 with 0 missing, elapsed time: 66.508\n",
            "Imputing row 2601/19113 with 1 missing, elapsed time: 66.509\n",
            "Imputing row 2701/19113 with 1 missing, elapsed time: 66.510\n",
            "Imputing row 2801/19113 with 1 missing, elapsed time: 66.511\n",
            "Imputing row 2901/19113 with 0 missing, elapsed time: 66.512\n",
            "Imputing row 3001/19113 with 0 missing, elapsed time: 66.513\n",
            "Imputing row 3101/19113 with 0 missing, elapsed time: 66.514\n",
            "Imputing row 3201/19113 with 1 missing, elapsed time: 66.515\n",
            "Imputing row 3301/19113 with 0 missing, elapsed time: 66.516\n",
            "Imputing row 3401/19113 with 0 missing, elapsed time: 66.517\n",
            "Imputing row 3501/19113 with 0 missing, elapsed time: 66.518\n",
            "Imputing row 3601/19113 with 0 missing, elapsed time: 66.519\n",
            "Imputing row 3701/19113 with 0 missing, elapsed time: 66.520\n",
            "Imputing row 3801/19113 with 0 missing, elapsed time: 66.521\n",
            "Imputing row 3901/19113 with 0 missing, elapsed time: 66.523\n",
            "Imputing row 4001/19113 with 1 missing, elapsed time: 66.524\n",
            "Imputing row 4101/19113 with 0 missing, elapsed time: 66.525\n",
            "Imputing row 4201/19113 with 0 missing, elapsed time: 66.526\n",
            "Imputing row 4301/19113 with 0 missing, elapsed time: 66.527\n",
            "Imputing row 4401/19113 with 0 missing, elapsed time: 66.528\n",
            "Imputing row 4501/19113 with 0 missing, elapsed time: 66.529\n",
            "Imputing row 4601/19113 with 0 missing, elapsed time: 66.530\n",
            "Imputing row 4701/19113 with 0 missing, elapsed time: 66.532\n",
            "Imputing row 4801/19113 with 0 missing, elapsed time: 66.533\n",
            "Imputing row 4901/19113 with 0 missing, elapsed time: 66.534\n",
            "Imputing row 5001/19113 with 0 missing, elapsed time: 66.535\n",
            "Imputing row 5101/19113 with 0 missing, elapsed time: 66.536\n",
            "Imputing row 5201/19113 with 0 missing, elapsed time: 66.537\n",
            "Imputing row 5301/19113 with 0 missing, elapsed time: 66.539\n",
            "Imputing row 5401/19113 with 0 missing, elapsed time: 66.539\n",
            "Imputing row 5501/19113 with 0 missing, elapsed time: 66.541\n",
            "Imputing row 5601/19113 with 1 missing, elapsed time: 66.541\n",
            "Imputing row 5701/19113 with 0 missing, elapsed time: 66.543\n",
            "Imputing row 5801/19113 with 0 missing, elapsed time: 66.544\n",
            "Imputing row 5901/19113 with 0 missing, elapsed time: 66.545\n",
            "Imputing row 6001/19113 with 0 missing, elapsed time: 66.547\n",
            "Imputing row 6101/19113 with 0 missing, elapsed time: 66.548\n",
            "Imputing row 6201/19113 with 0 missing, elapsed time: 66.549\n",
            "Imputing row 6301/19113 with 0 missing, elapsed time: 66.550\n",
            "Imputing row 6401/19113 with 0 missing, elapsed time: 66.551\n",
            "Imputing row 6501/19113 with 0 missing, elapsed time: 66.552\n",
            "Imputing row 6601/19113 with 0 missing, elapsed time: 66.554\n",
            "Imputing row 6701/19113 with 0 missing, elapsed time: 66.555\n",
            "Imputing row 6801/19113 with 1 missing, elapsed time: 66.556\n",
            "Imputing row 6901/19113 with 0 missing, elapsed time: 66.558\n",
            "Imputing row 7001/19113 with 0 missing, elapsed time: 66.559\n",
            "Imputing row 7101/19113 with 0 missing, elapsed time: 66.560\n",
            "Imputing row 7201/19113 with 1 missing, elapsed time: 66.561\n",
            "Imputing row 7301/19113 with 0 missing, elapsed time: 66.562\n",
            "Imputing row 7401/19113 with 0 missing, elapsed time: 66.562\n",
            "Imputing row 7501/19113 with 0 missing, elapsed time: 66.563\n",
            "Imputing row 7601/19113 with 1 missing, elapsed time: 66.564\n",
            "Imputing row 7701/19113 with 0 missing, elapsed time: 66.566\n",
            "Imputing row 7801/19113 with 0 missing, elapsed time: 66.567\n",
            "Imputing row 7901/19113 with 0 missing, elapsed time: 66.567\n",
            "Imputing row 8001/19113 with 0 missing, elapsed time: 66.568\n",
            "Imputing row 8101/19113 with 0 missing, elapsed time: 66.569\n",
            "Imputing row 8201/19113 with 0 missing, elapsed time: 66.570\n",
            "Imputing row 8301/19113 with 0 missing, elapsed time: 66.571\n",
            "Imputing row 8401/19113 with 0 missing, elapsed time: 66.572\n",
            "Imputing row 8501/19113 with 0 missing, elapsed time: 66.574\n",
            "Imputing row 8601/19113 with 0 missing, elapsed time: 66.574\n",
            "Imputing row 8701/19113 with 0 missing, elapsed time: 66.575\n",
            "Imputing row 8801/19113 with 0 missing, elapsed time: 66.576\n",
            "Imputing row 8901/19113 with 0 missing, elapsed time: 66.576\n",
            "Imputing row 9001/19113 with 0 missing, elapsed time: 66.577\n",
            "Imputing row 9101/19113 with 0 missing, elapsed time: 66.578\n",
            "Imputing row 9201/19113 with 0 missing, elapsed time: 66.579\n",
            "Imputing row 9301/19113 with 1 missing, elapsed time: 66.580\n",
            "Imputing row 9401/19113 with 0 missing, elapsed time: 66.581\n",
            "Imputing row 9501/19113 with 0 missing, elapsed time: 66.582\n",
            "Imputing row 9601/19113 with 0 missing, elapsed time: 66.583\n",
            "Imputing row 9701/19113 with 0 missing, elapsed time: 66.584\n",
            "Imputing row 9801/19113 with 0 missing, elapsed time: 66.585\n",
            "Imputing row 9901/19113 with 0 missing, elapsed time: 66.586\n",
            "Imputing row 10001/19113 with 0 missing, elapsed time: 66.588\n",
            "Imputing row 10101/19113 with 0 missing, elapsed time: 66.589\n",
            "Imputing row 10201/19113 with 0 missing, elapsed time: 66.590\n",
            "Imputing row 10301/19113 with 0 missing, elapsed time: 66.591\n",
            "Imputing row 10401/19113 with 0 missing, elapsed time: 66.592\n",
            "Imputing row 10501/19113 with 1 missing, elapsed time: 66.593\n",
            "Imputing row 10601/19113 with 0 missing, elapsed time: 66.595\n",
            "Imputing row 10701/19113 with 0 missing, elapsed time: 66.596\n",
            "Imputing row 10801/19113 with 0 missing, elapsed time: 66.597\n",
            "Imputing row 10901/19113 with 0 missing, elapsed time: 66.598\n",
            "Imputing row 11001/19113 with 0 missing, elapsed time: 66.599\n",
            "Imputing row 11101/19113 with 1 missing, elapsed time: 66.600\n",
            "Imputing row 11201/19113 with 0 missing, elapsed time: 66.601\n",
            "Imputing row 11301/19113 with 0 missing, elapsed time: 66.603\n",
            "Imputing row 11401/19113 with 0 missing, elapsed time: 66.604\n",
            "Imputing row 11501/19113 with 0 missing, elapsed time: 66.605\n",
            "Imputing row 11601/19113 with 0 missing, elapsed time: 66.605\n",
            "Imputing row 11701/19113 with 0 missing, elapsed time: 66.606\n",
            "Imputing row 11801/19113 with 0 missing, elapsed time: 66.607\n",
            "Imputing row 11901/19113 with 0 missing, elapsed time: 66.608\n",
            "Imputing row 12001/19113 with 0 missing, elapsed time: 66.609\n",
            "Imputing row 12101/19113 with 0 missing, elapsed time: 66.610\n",
            "Imputing row 12201/19113 with 0 missing, elapsed time: 66.611\n",
            "Imputing row 12301/19113 with 0 missing, elapsed time: 66.612\n",
            "Imputing row 12401/19113 with 0 missing, elapsed time: 66.613\n",
            "Imputing row 12501/19113 with 0 missing, elapsed time: 66.614\n",
            "Imputing row 12601/19113 with 0 missing, elapsed time: 66.615\n",
            "Imputing row 12701/19113 with 0 missing, elapsed time: 66.616\n",
            "Imputing row 12801/19113 with 1 missing, elapsed time: 66.617\n",
            "Imputing row 12901/19113 with 0 missing, elapsed time: 66.618\n",
            "Imputing row 13001/19113 with 1 missing, elapsed time: 66.619\n",
            "Imputing row 13101/19113 with 1 missing, elapsed time: 66.620\n",
            "Imputing row 13201/19113 with 0 missing, elapsed time: 66.621\n",
            "Imputing row 13301/19113 with 0 missing, elapsed time: 66.622\n",
            "Imputing row 13401/19113 with 0 missing, elapsed time: 66.623\n",
            "Imputing row 13501/19113 with 0 missing, elapsed time: 66.624\n",
            "Imputing row 13601/19113 with 0 missing, elapsed time: 66.624\n",
            "Imputing row 13701/19113 with 0 missing, elapsed time: 66.625\n",
            "Imputing row 13801/19113 with 0 missing, elapsed time: 66.626\n",
            "Imputing row 13901/19113 with 0 missing, elapsed time: 66.627\n",
            "Imputing row 14001/19113 with 0 missing, elapsed time: 66.628\n",
            "Imputing row 14101/19113 with 0 missing, elapsed time: 66.629\n",
            "Imputing row 14201/19113 with 0 missing, elapsed time: 66.631\n",
            "Imputing row 14301/19113 with 0 missing, elapsed time: 66.631\n",
            "Imputing row 14401/19113 with 0 missing, elapsed time: 66.632\n",
            "Imputing row 14501/19113 with 0 missing, elapsed time: 66.634\n",
            "Imputing row 14601/19113 with 0 missing, elapsed time: 66.635\n",
            "Imputing row 14701/19113 with 0 missing, elapsed time: 66.635\n",
            "Imputing row 14801/19113 with 0 missing, elapsed time: 66.636\n",
            "Imputing row 14901/19113 with 1 missing, elapsed time: 66.637\n",
            "Imputing row 15001/19113 with 0 missing, elapsed time: 66.638\n",
            "Imputing row 15101/19113 with 0 missing, elapsed time: 66.639\n",
            "Imputing row 15201/19113 with 1 missing, elapsed time: 66.640\n",
            "Imputing row 15301/19113 with 0 missing, elapsed time: 66.641\n",
            "Imputing row 15401/19113 with 0 missing, elapsed time: 66.642\n",
            "Imputing row 15501/19113 with 0 missing, elapsed time: 66.644\n",
            "Imputing row 15601/19113 with 0 missing, elapsed time: 66.645\n",
            "Imputing row 15701/19113 with 0 missing, elapsed time: 66.646\n",
            "Imputing row 15801/19113 with 0 missing, elapsed time: 66.647\n",
            "Imputing row 15901/19113 with 0 missing, elapsed time: 66.648\n",
            "Imputing row 16001/19113 with 0 missing, elapsed time: 66.649\n",
            "Imputing row 16101/19113 with 0 missing, elapsed time: 66.650\n",
            "Imputing row 16201/19113 with 0 missing, elapsed time: 66.651\n",
            "Imputing row 16301/19113 with 0 missing, elapsed time: 66.652\n",
            "Imputing row 16401/19113 with 1 missing, elapsed time: 66.653\n",
            "Imputing row 16501/19113 with 0 missing, elapsed time: 66.654\n",
            "Imputing row 16601/19113 with 0 missing, elapsed time: 66.655\n",
            "Imputing row 16701/19113 with 0 missing, elapsed time: 66.656\n",
            "Imputing row 16801/19113 with 0 missing, elapsed time: 66.657\n",
            "Imputing row 16901/19113 with 0 missing, elapsed time: 66.658\n",
            "Imputing row 17001/19113 with 0 missing, elapsed time: 66.659\n",
            "Imputing row 17101/19113 with 0 missing, elapsed time: 66.660\n",
            "Imputing row 17201/19113 with 0 missing, elapsed time: 66.661\n",
            "Imputing row 17301/19113 with 0 missing, elapsed time: 66.662\n",
            "Imputing row 17401/19113 with 0 missing, elapsed time: 66.663\n",
            "Imputing row 17501/19113 with 0 missing, elapsed time: 66.663\n",
            "Imputing row 17601/19113 with 0 missing, elapsed time: 66.665\n",
            "Imputing row 17701/19113 with 0 missing, elapsed time: 66.665\n",
            "Imputing row 17801/19113 with 0 missing, elapsed time: 66.666\n",
            "Imputing row 17901/19113 with 0 missing, elapsed time: 66.667\n",
            "Imputing row 18001/19113 with 0 missing, elapsed time: 66.669\n",
            "Imputing row 18101/19113 with 0 missing, elapsed time: 66.669\n",
            "Imputing row 18201/19113 with 0 missing, elapsed time: 66.670\n",
            "Imputing row 18301/19113 with 0 missing, elapsed time: 66.671\n",
            "Imputing row 18401/19113 with 0 missing, elapsed time: 66.672\n",
            "Imputing row 18501/19113 with 0 missing, elapsed time: 66.673\n",
            "Imputing row 18601/19113 with 0 missing, elapsed time: 66.673\n",
            "Imputing row 18701/19113 with 0 missing, elapsed time: 66.674\n",
            "Imputing row 18801/19113 with 0 missing, elapsed time: 66.675\n",
            "Imputing row 18901/19113 with 0 missing, elapsed time: 66.676\n",
            "Imputing row 19001/19113 with 0 missing, elapsed time: 66.677\n",
            "Imputing row 19101/19113 with 0 missing, elapsed time: 66.678\n"
          ]
        }
      ],
      "source": [
        "from fancyimpute import KNN\n",
        "chess_games_knn = KNN(k=3).fit_transform(chess_games_knn_fill)"
      ]
    },
    {
      "cell_type": "code",
      "execution_count": 38,
      "metadata": {},
      "outputs": [],
      "source": [
        "chess_games_knn_fill = pd.DataFrame(chess_games_knn, columns=chess_games_knn_fill.columns, index=chess_games_knn_fill.index)"
      ]
    },
    {
      "cell_type": "code",
      "execution_count": 39,
      "metadata": {},
      "outputs": [
        {
          "data": {
            "text/html": [
              "<div>\n",
              "<style scoped>\n",
              "    .dataframe tbody tr th:only-of-type {\n",
              "        vertical-align: middle;\n",
              "    }\n",
              "\n",
              "    .dataframe tbody tr th {\n",
              "        vertical-align: top;\n",
              "    }\n",
              "\n",
              "    .dataframe thead th {\n",
              "        text-align: right;\n",
              "    }\n",
              "</style>\n",
              "<table border=\"1\" class=\"dataframe\">\n",
              "  <thead>\n",
              "    <tr style=\"text-align: right;\">\n",
              "      <th></th>\n",
              "      <th>id</th>\n",
              "      <th>rated</th>\n",
              "      <th>created_at</th>\n",
              "      <th>last_move_at</th>\n",
              "      <th>turns</th>\n",
              "      <th>victory_status</th>\n",
              "      <th>winner</th>\n",
              "      <th>increment_code</th>\n",
              "      <th>white_id</th>\n",
              "      <th>white_rating</th>\n",
              "      <th>black_id</th>\n",
              "      <th>black_rating</th>\n",
              "      <th>moves</th>\n",
              "      <th>opening_eco</th>\n",
              "      <th>opening_name</th>\n",
              "      <th>opening_ply</th>\n",
              "    </tr>\n",
              "  </thead>\n",
              "  <tbody>\n",
              "    <tr>\n",
              "      <th>0</th>\n",
              "      <td>9068.0</td>\n",
              "      <td>0.0</td>\n",
              "      <td>1.504210e+12</td>\n",
              "      <td>1.504210e+12</td>\n",
              "      <td>13.0</td>\n",
              "      <td>2.0</td>\n",
              "      <td>2.0</td>\n",
              "      <td>110.0</td>\n",
              "      <td>1287.0</td>\n",
              "      <td>0.373695</td>\n",
              "      <td>11.0</td>\n",
              "      <td>0.207859</td>\n",
              "      <td>4524.0</td>\n",
              "      <td>248.0</td>\n",
              "      <td>1387.0</td>\n",
              "      <td>5.0</td>\n",
              "    </tr>\n",
              "    <tr>\n",
              "      <th>1</th>\n",
              "      <td>14512.0</td>\n",
              "      <td>1.0</td>\n",
              "      <td>1.504130e+12</td>\n",
              "      <td>1.504130e+12</td>\n",
              "      <td>16.0</td>\n",
              "      <td>3.0</td>\n",
              "      <td>0.0</td>\n",
              "      <td>298.0</td>\n",
              "      <td>16.0</td>\n",
              "      <td>0.280793</td>\n",
              "      <td>7748.0</td>\n",
              "      <td>0.244054</td>\n",
              "      <td>1987.0</td>\n",
              "      <td>71.0</td>\n",
              "      <td>750.0</td>\n",
              "      <td>4.0</td>\n",
              "    </tr>\n",
              "    <tr>\n",
              "      <th>2</th>\n",
              "      <td>14904.0</td>\n",
              "      <td>1.0</td>\n",
              "      <td>1.504130e+12</td>\n",
              "      <td>1.504130e+12</td>\n",
              "      <td>61.0</td>\n",
              "      <td>1.0</td>\n",
              "      <td>2.0</td>\n",
              "      <td>298.0</td>\n",
              "      <td>3823.0</td>\n",
              "      <td>0.371608</td>\n",
              "      <td>11.0</td>\n",
              "      <td>0.367632</td>\n",
              "      <td>16383.0</td>\n",
              "      <td>171.0</td>\n",
              "      <td>650.0</td>\n",
              "      <td>3.0</td>\n",
              "    </tr>\n",
              "    <tr>\n",
              "      <th>3</th>\n",
              "      <td>14350.0</td>\n",
              "      <td>1.0</td>\n",
              "      <td>1.504110e+12</td>\n",
              "      <td>1.504110e+12</td>\n",
              "      <td>61.0</td>\n",
              "      <td>1.0</td>\n",
              "      <td>2.0</td>\n",
              "      <td>187.0</td>\n",
              "      <td>2017.0</td>\n",
              "      <td>0.341858</td>\n",
              "      <td>134.0</td>\n",
              "      <td>0.343847</td>\n",
              "      <td>3770.0</td>\n",
              "      <td>241.0</td>\n",
              "      <td>992.0</td>\n",
              "      <td>3.0</td>\n",
              "    </tr>\n",
              "    <tr>\n",
              "      <th>4</th>\n",
              "      <td>3091.0</td>\n",
              "      <td>1.0</td>\n",
              "      <td>1.504030e+12</td>\n",
              "      <td>1.504030e+12</td>\n",
              "      <td>95.0</td>\n",
              "      <td>1.0</td>\n",
              "      <td>2.0</td>\n",
              "      <td>247.0</td>\n",
              "      <td>6056.0</td>\n",
              "      <td>0.385699</td>\n",
              "      <td>134.0</td>\n",
              "      <td>0.351603</td>\n",
              "      <td>15622.0</td>\n",
              "      <td>192.0</td>\n",
              "      <td>783.0</td>\n",
              "      <td>5.0</td>\n",
              "    </tr>\n",
              "  </tbody>\n",
              "</table>\n",
              "</div>"
            ],
            "text/plain": [
              "        id  rated    created_at  last_move_at  turns  victory_status  winner  \\\n",
              "0   9068.0    0.0  1.504210e+12  1.504210e+12   13.0             2.0     2.0   \n",
              "1  14512.0    1.0  1.504130e+12  1.504130e+12   16.0             3.0     0.0   \n",
              "2  14904.0    1.0  1.504130e+12  1.504130e+12   61.0             1.0     2.0   \n",
              "3  14350.0    1.0  1.504110e+12  1.504110e+12   61.0             1.0     2.0   \n",
              "4   3091.0    1.0  1.504030e+12  1.504030e+12   95.0             1.0     2.0   \n",
              "\n",
              "   increment_code  white_id  white_rating  black_id  black_rating    moves  \\\n",
              "0           110.0    1287.0      0.373695      11.0      0.207859   4524.0   \n",
              "1           298.0      16.0      0.280793    7748.0      0.244054   1987.0   \n",
              "2           298.0    3823.0      0.371608      11.0      0.367632  16383.0   \n",
              "3           187.0    2017.0      0.341858     134.0      0.343847   3770.0   \n",
              "4           247.0    6056.0      0.385699     134.0      0.351603  15622.0   \n",
              "\n",
              "   opening_eco  opening_name  opening_ply  \n",
              "0        248.0        1387.0          5.0  \n",
              "1         71.0         750.0          4.0  \n",
              "2        171.0         650.0          3.0  \n",
              "3        241.0         992.0          3.0  \n",
              "4        192.0         783.0          5.0  "
            ]
          },
          "execution_count": 39,
          "metadata": {},
          "output_type": "execute_result"
        }
      ],
      "source": [
        "chess_games_knn_fill.head()"
      ]
    },
    {
      "cell_type": "code",
      "execution_count": 40,
      "metadata": {},
      "outputs": [
        {
          "data": {
            "text/plain": [
              "id                0\n",
              "rated             0\n",
              "created_at        0\n",
              "last_move_at      0\n",
              "turns             0\n",
              "victory_status    0\n",
              "winner            0\n",
              "increment_code    0\n",
              "white_id          0\n",
              "white_rating      0\n",
              "black_id          0\n",
              "black_rating      0\n",
              "moves             0\n",
              "opening_eco       0\n",
              "opening_name      0\n",
              "opening_ply       0\n",
              "dtype: int64"
            ]
          },
          "execution_count": 40,
          "metadata": {},
          "output_type": "execute_result"
        }
      ],
      "source": [
        "chess_games_knn_fill.isnull().sum()"
      ]
    },
    {
      "cell_type": "code",
      "execution_count": 41,
      "metadata": {},
      "outputs": [
        {
          "data": {
            "text/html": [
              "<div>\n",
              "<style scoped>\n",
              "    .dataframe tbody tr th:only-of-type {\n",
              "        vertical-align: middle;\n",
              "    }\n",
              "\n",
              "    .dataframe tbody tr th {\n",
              "        vertical-align: top;\n",
              "    }\n",
              "\n",
              "    .dataframe thead th {\n",
              "        text-align: right;\n",
              "    }\n",
              "</style>\n",
              "<table border=\"1\" class=\"dataframe\">\n",
              "  <thead>\n",
              "    <tr style=\"text-align: right;\">\n",
              "      <th></th>\n",
              "      <th>white_rating</th>\n",
              "      <th>black_rating</th>\n",
              "    </tr>\n",
              "  </thead>\n",
              "  <tbody>\n",
              "    <tr>\n",
              "      <th>count</th>\n",
              "      <td>19113.000000</td>\n",
              "      <td>19113.000000</td>\n",
              "    </tr>\n",
              "    <tr>\n",
              "      <th>mean</th>\n",
              "      <td>0.423946</td>\n",
              "      <td>0.414228</td>\n",
              "    </tr>\n",
              "    <tr>\n",
              "      <th>std</th>\n",
              "      <td>0.150486</td>\n",
              "      <td>0.148953</td>\n",
              "    </tr>\n",
              "    <tr>\n",
              "      <th>min</th>\n",
              "      <td>0.000000</td>\n",
              "      <td>0.000000</td>\n",
              "    </tr>\n",
              "    <tr>\n",
              "      <th>25%</th>\n",
              "      <td>0.322547</td>\n",
              "      <td>0.314818</td>\n",
              "    </tr>\n",
              "    <tr>\n",
              "      <th>50%</th>\n",
              "      <td>0.409186</td>\n",
              "      <td>0.400207</td>\n",
              "    </tr>\n",
              "    <tr>\n",
              "      <th>75%</th>\n",
              "      <td>0.524530</td>\n",
              "      <td>0.512927</td>\n",
              "    </tr>\n",
              "    <tr>\n",
              "      <th>max</th>\n",
              "      <td>1.000000</td>\n",
              "      <td>1.000000</td>\n",
              "    </tr>\n",
              "  </tbody>\n",
              "</table>\n",
              "</div>"
            ],
            "text/plain": [
              "       white_rating  black_rating\n",
              "count  19113.000000  19113.000000\n",
              "mean       0.423946      0.414228\n",
              "std        0.150486      0.148953\n",
              "min        0.000000      0.000000\n",
              "25%        0.322547      0.314818\n",
              "50%        0.409186      0.400207\n",
              "75%        0.524530      0.512927\n",
              "max        1.000000      1.000000"
            ]
          },
          "execution_count": 41,
          "metadata": {},
          "output_type": "execute_result"
        }
      ],
      "source": [
        "chess_games_knn_fill[['white_rating', 'black_rating']].describe()"
      ]
    },
    {
      "cell_type": "markdown",
      "metadata": {},
      "source": [
        "O uso do KNN para imputação de dados é uma boa opção, pois ele é capaz de prever valores ausentes com base em valores próximos, sem distorcer as estatísticas originais do dataset."
      ]
    },
    {
      "cell_type": "markdown",
      "metadata": {},
      "source": [
        "#### Verificando o erro do modelo KNN"
      ]
    },
    {
      "cell_type": "code",
      "execution_count": 42,
      "metadata": {},
      "outputs": [
        {
          "name": "stdout",
          "output_type": "stream",
          "text": [
            "white_rating\n",
            "MAPE: 0.30787961428966676\n",
            "\n",
            "black_rating\n",
            "MAPE: 0.3727056268986676\n",
            "\n",
            "Mean MAPE: 0.3402926205941672\n"
          ]
        }
      ],
      "source": [
        "target_white = chess_games_norm.loc[random_indices_white_rating, ['white_rating']]\n",
        "target_black = chess_games_norm.loc[random_indices_black_rating, ['black_rating']]\n",
        "pred_white = chess_games_knn_fill.loc[random_indices_white_rating, ['white_rating']]\n",
        "pred_black = chess_games_knn_fill.loc[random_indices_black_rating, ['black_rating']]\n",
        "\n",
        "from sklearn.metrics import mean_absolute_percentage_error\n",
        "white_error = mean_absolute_percentage_error(target_white, pred_white)\n",
        "black_error = mean_absolute_percentage_error(target_black, pred_black)\n",
        "\n",
        "print(\"white_rating\")\n",
        "print(\"MAPE:\", white_error, end='\\n\\n')\n",
        "\n",
        "print(\"black_rating\")\n",
        "print(\"MAPE:\", black_error, end='\\n\\n')\n",
        "\n",
        "print(\"Mean MAPE:\", (white_error + black_error) / 2)"
      ]
    },
    {
      "cell_type": "code",
      "execution_count": 43,
      "metadata": {},
      "outputs": [
        {
          "data": {
            "text/html": [
              "<div>\n",
              "<style scoped>\n",
              "    .dataframe tbody tr th:only-of-type {\n",
              "        vertical-align: middle;\n",
              "    }\n",
              "\n",
              "    .dataframe tbody tr th {\n",
              "        vertical-align: top;\n",
              "    }\n",
              "\n",
              "    .dataframe thead th {\n",
              "        text-align: right;\n",
              "    }\n",
              "</style>\n",
              "<table border=\"1\" class=\"dataframe\">\n",
              "  <thead>\n",
              "    <tr style=\"text-align: right;\">\n",
              "      <th></th>\n",
              "      <th>white_rating</th>\n",
              "      <th>black_rating</th>\n",
              "    </tr>\n",
              "  </thead>\n",
              "  <tbody>\n",
              "    <tr>\n",
              "      <th>count</th>\n",
              "      <td>19113.000000</td>\n",
              "      <td>19113.000000</td>\n",
              "    </tr>\n",
              "    <tr>\n",
              "      <th>mean</th>\n",
              "      <td>1597.300005</td>\n",
              "      <td>1590.045519</td>\n",
              "    </tr>\n",
              "    <tr>\n",
              "      <th>std</th>\n",
              "      <td>290.022740</td>\n",
              "      <td>290.441694</td>\n",
              "    </tr>\n",
              "    <tr>\n",
              "      <th>min</th>\n",
              "      <td>784.000000</td>\n",
              "      <td>789.000000</td>\n",
              "    </tr>\n",
              "    <tr>\n",
              "      <th>25%</th>\n",
              "      <td>1401.000000</td>\n",
              "      <td>1394.000000</td>\n",
              "    </tr>\n",
              "    <tr>\n",
              "      <th>50%</th>\n",
              "      <td>1567.000000</td>\n",
              "      <td>1563.000000</td>\n",
              "    </tr>\n",
              "    <tr>\n",
              "      <th>75%</th>\n",
              "      <td>1792.000000</td>\n",
              "      <td>1785.000000</td>\n",
              "    </tr>\n",
              "    <tr>\n",
              "      <th>max</th>\n",
              "      <td>2700.000000</td>\n",
              "      <td>2723.000000</td>\n",
              "    </tr>\n",
              "  </tbody>\n",
              "</table>\n",
              "</div>"
            ],
            "text/plain": [
              "       white_rating  black_rating\n",
              "count  19113.000000  19113.000000\n",
              "mean    1597.300005   1590.045519\n",
              "std      290.022740    290.441694\n",
              "min      784.000000    789.000000\n",
              "25%     1401.000000   1394.000000\n",
              "50%     1567.000000   1563.000000\n",
              "75%     1792.000000   1785.000000\n",
              "max     2700.000000   2723.000000"
            ]
          },
          "execution_count": 43,
          "metadata": {},
          "output_type": "execute_result"
        }
      ],
      "source": [
        "chess_games[['white_rating', 'black_rating']].describe()"
      ]
    },
    {
      "cell_type": "code",
      "execution_count": 44,
      "metadata": {},
      "outputs": [
        {
          "data": {
            "text/html": [
              "<div>\n",
              "<style scoped>\n",
              "    .dataframe tbody tr th:only-of-type {\n",
              "        vertical-align: middle;\n",
              "    }\n",
              "\n",
              "    .dataframe tbody tr th {\n",
              "        vertical-align: top;\n",
              "    }\n",
              "\n",
              "    .dataframe thead th {\n",
              "        text-align: right;\n",
              "    }\n",
              "</style>\n",
              "<table border=\"1\" class=\"dataframe\">\n",
              "  <thead>\n",
              "    <tr style=\"text-align: right;\">\n",
              "      <th></th>\n",
              "      <th>white_rating</th>\n",
              "      <th>black_rating</th>\n",
              "    </tr>\n",
              "  </thead>\n",
              "  <tbody>\n",
              "    <tr>\n",
              "      <th>count</th>\n",
              "      <td>19113.000000</td>\n",
              "      <td>19113.000000</td>\n",
              "    </tr>\n",
              "    <tr>\n",
              "      <th>mean</th>\n",
              "      <td>0.423946</td>\n",
              "      <td>0.414228</td>\n",
              "    </tr>\n",
              "    <tr>\n",
              "      <th>std</th>\n",
              "      <td>0.150486</td>\n",
              "      <td>0.148953</td>\n",
              "    </tr>\n",
              "    <tr>\n",
              "      <th>min</th>\n",
              "      <td>0.000000</td>\n",
              "      <td>0.000000</td>\n",
              "    </tr>\n",
              "    <tr>\n",
              "      <th>25%</th>\n",
              "      <td>0.322547</td>\n",
              "      <td>0.314818</td>\n",
              "    </tr>\n",
              "    <tr>\n",
              "      <th>50%</th>\n",
              "      <td>0.409186</td>\n",
              "      <td>0.400207</td>\n",
              "    </tr>\n",
              "    <tr>\n",
              "      <th>75%</th>\n",
              "      <td>0.524530</td>\n",
              "      <td>0.512927</td>\n",
              "    </tr>\n",
              "    <tr>\n",
              "      <th>max</th>\n",
              "      <td>1.000000</td>\n",
              "      <td>1.000000</td>\n",
              "    </tr>\n",
              "  </tbody>\n",
              "</table>\n",
              "</div>"
            ],
            "text/plain": [
              "       white_rating  black_rating\n",
              "count  19113.000000  19113.000000\n",
              "mean       0.423946      0.414228\n",
              "std        0.150486      0.148953\n",
              "min        0.000000      0.000000\n",
              "25%        0.322547      0.314818\n",
              "50%        0.409186      0.400207\n",
              "75%        0.524530      0.512927\n",
              "max        1.000000      1.000000"
            ]
          },
          "execution_count": 44,
          "metadata": {},
          "output_type": "execute_result"
        }
      ],
      "source": [
        "chess_games_knn_fill[['white_rating', 'black_rating']].describe()"
      ]
    },
    {
      "cell_type": "markdown",
      "metadata": {},
      "source": [
        "De acordo com os resultados obtidos, o modelo KNN apresentou um erro médio em torno de 34%, o que não é um valor desprezível, mas sua distribuição compensou a variação das estatísticas, mantendo-as próximas das originais do dataset."
      ]
    },
    {
      "cell_type": "markdown",
      "metadata": {},
      "source": [
        "# Discretização"
      ]
    },
    {
      "cell_type": "markdown",
      "metadata": {},
      "source": [
        "A base de dados apresenta em sua maioria dados discretos, com excessão das colunas relacionadas aos timestamps das partidas. Portanto, a discretização será feita apenas nas colunas que se referem a esses dados."
      ]
    },
    {
      "cell_type": "code",
      "execution_count": 45,
      "metadata": {},
      "outputs": [
        {
          "data": {
            "text/html": [
              "<div>\n",
              "<style scoped>\n",
              "    .dataframe tbody tr th:only-of-type {\n",
              "        vertical-align: middle;\n",
              "    }\n",
              "\n",
              "    .dataframe tbody tr th {\n",
              "        vertical-align: top;\n",
              "    }\n",
              "\n",
              "    .dataframe thead th {\n",
              "        text-align: right;\n",
              "    }\n",
              "</style>\n",
              "<table border=\"1\" class=\"dataframe\">\n",
              "  <thead>\n",
              "    <tr style=\"text-align: right;\">\n",
              "      <th></th>\n",
              "      <th>created_at</th>\n",
              "      <th>last_move_at</th>\n",
              "    </tr>\n",
              "  </thead>\n",
              "  <tbody>\n",
              "    <tr>\n",
              "      <th>count</th>\n",
              "      <td>1.911300e+04</td>\n",
              "      <td>1.911300e+04</td>\n",
              "    </tr>\n",
              "    <tr>\n",
              "      <th>mean</th>\n",
              "      <td>1.483413e+12</td>\n",
              "      <td>1.483414e+12</td>\n",
              "    </tr>\n",
              "    <tr>\n",
              "      <th>std</th>\n",
              "      <td>2.833975e+10</td>\n",
              "      <td>2.833964e+10</td>\n",
              "    </tr>\n",
              "    <tr>\n",
              "      <th>min</th>\n",
              "      <td>1.376772e+12</td>\n",
              "      <td>1.376772e+12</td>\n",
              "    </tr>\n",
              "    <tr>\n",
              "      <th>25%</th>\n",
              "      <td>1.476910e+12</td>\n",
              "      <td>1.476912e+12</td>\n",
              "    </tr>\n",
              "    <tr>\n",
              "      <th>50%</th>\n",
              "      <td>1.495670e+12</td>\n",
              "      <td>1.495670e+12</td>\n",
              "    </tr>\n",
              "    <tr>\n",
              "      <th>75%</th>\n",
              "      <td>1.503080e+12</td>\n",
              "      <td>1.503080e+12</td>\n",
              "    </tr>\n",
              "    <tr>\n",
              "      <th>max</th>\n",
              "      <td>1.504493e+12</td>\n",
              "      <td>1.504494e+12</td>\n",
              "    </tr>\n",
              "  </tbody>\n",
              "</table>\n",
              "</div>"
            ],
            "text/plain": [
              "         created_at  last_move_at\n",
              "count  1.911300e+04  1.911300e+04\n",
              "mean   1.483413e+12  1.483414e+12\n",
              "std    2.833975e+10  2.833964e+10\n",
              "min    1.376772e+12  1.376772e+12\n",
              "25%    1.476910e+12  1.476912e+12\n",
              "50%    1.495670e+12  1.495670e+12\n",
              "75%    1.503080e+12  1.503080e+12\n",
              "max    1.504493e+12  1.504494e+12"
            ]
          },
          "execution_count": 45,
          "metadata": {},
          "output_type": "execute_result"
        }
      ],
      "source": [
        "chess_games[['created_at', 'last_move_at']].describe()"
      ]
    },
    {
      "cell_type": "code",
      "execution_count": 46,
      "metadata": {},
      "outputs": [],
      "source": [
        "# discretizando com 10 bins com mesmo intervalo\n",
        "chess_games['created_at_dist'] = pd.cut(chess_games['created_at'], 10)\n",
        "chess_games['last_move_at_dist'] = pd.cut(chess_games['last_move_at'], 10)"
      ]
    },
    {
      "cell_type": "code",
      "execution_count": 47,
      "metadata": {},
      "outputs": [
        {
          "data": {
            "text/plain": [
              "<Axes: ylabel='created_at_dist'>"
            ]
          },
          "execution_count": 47,
          "metadata": {},
          "output_type": "execute_result"
        },
        {
          "data": {
            "image/png": "[encoded data removed]",
            "text/plain": [
              "<Figure size 640x480 with 1 Axes>"
            ]
          },
          "metadata": {},
          "output_type": "display_data"
        }
      ],
      "source": [
        "chess_games['created_at_dist'].value_counts().plot(kind='barh')"
      ]
    },
    {
      "cell_type": "markdown",
      "metadata": {},
      "source": [
        "Dividir os dados baseando-se em intervalos iguais pode não ser a melhor opção, pois pode haver uma distribuição desigual dos dados em cada intervalo. Portanto, a melhor opção é dividir os dados baseando-se em intervalos que contenham a mesma quantidade de dados. Isso pode ser feito ao utilizar quantis para fazer a divisão."
      ]
    },
    {
      "cell_type": "code",
      "execution_count": 48,
      "metadata": {},
      "outputs": [],
      "source": [
        "# discretizando com 10 bins com mesma quantidade de elementos\n",
        "chess_games['created_at_dist'] = pd.qcut(chess_games['created_at'], 10)\n",
        "chess_games['last_move_at_dist'] = pd.qcut(chess_games['last_move_at'], 10)"
      ]
    },
    {
      "cell_type": "code",
      "execution_count": 49,
      "metadata": {},
      "outputs": [
        {
          "data": {
            "text/plain": [
              "<Axes: ylabel='created_at_dist'>"
            ]
          },
          "execution_count": 49,
          "metadata": {},
          "output_type": "execute_result"
        },
        {
          "data": {
            "image/png": "[encoded data removed]",
            "text/plain": [
              "<Figure size 640x480 with 1 Axes>"
            ]
          },
          "metadata": {},
          "output_type": "display_data"
        }
      ],
      "source": [
        "chess_games['created_at_dist'].value_counts().plot(kind='barh')"
      ]
    },
    {
      "cell_type": "code",
      "execution_count": 50,
      "metadata": {},
      "outputs": [
        {
          "data": {
            "text/plain": [
              "<Axes: ylabel='last_move_at_dist'>"
            ]
          },
          "execution_count": 50,
          "metadata": {},
          "output_type": "execute_result"
        },
        {
          "data": {
            "image/png": "[encoded data removed]",
            "text/plain": [
              "<Figure size 640x480 with 1 Axes>"
            ]
          },
          "metadata": {},
          "output_type": "display_data"
        }
      ],
      "source": [
        "chess_games['last_move_at_dist'].value_counts().plot(kind='barh')"
      ]
    },
    {
      "cell_type": "markdown",
      "metadata": {},
      "source": [
        "# Remoção de outliers"
      ]
    },
    {
      "cell_type": "markdown",
      "metadata": {},
      "source": [
        "## Univariado"
      ]
    },
    {
      "cell_type": "markdown",
      "metadata": {},
      "source": [
        "Partidas com muitos ou poucos turnos podem ser consideradas outliers, pois fogem do padrão de uma partida normal. Portanto, será usado o método de Tukey para identificar e remover esses outliers."
      ]
    },
    {
      "cell_type": "code",
      "execution_count": 51,
      "metadata": {},
      "outputs": [
        {
          "data": {
            "text/plain": [
              "<Axes: >"
            ]
          },
          "execution_count": 51,
          "metadata": {},
          "output_type": "execute_result"
        },
        {
          "data": {
            "image/png": "[encoded data removed]",
            "text/plain": [
              "<Figure size 640x480 with 1 Axes>"
            ]
          },
          "metadata": {},
          "output_type": "display_data"
        }
      ],
      "source": [
        "# verificando o boxplot antes da remoção de outliers\n",
        "chess_games['turns'].plot.box()"
      ]
    },
    {
      "cell_type": "markdown",
      "metadata": {},
      "source": [
        "A partir da análise do boxplot, é possível identificar outliers com muitos turnos, que serão removidos."
      ]
    },
    {
      "cell_type": "code",
      "execution_count": 52,
      "metadata": {},
      "outputs": [
        {
          "data": {
            "text/plain": [
              "<Axes: >"
            ]
          },
          "execution_count": 52,
          "metadata": {},
          "output_type": "execute_result"
        },
        {
          "data": {
            "image/png": "[encoded data removed]",
            "text/plain": [
              "<Figure size 640x480 with 1 Axes>"
            ]
          },
          "metadata": {},
          "output_type": "display_data"
        }
      ],
      "source": [
        "# verificando a distribuição dos dados\n",
        "chess_games['turns'].hist()"
      ]
    },
    {
      "cell_type": "markdown",
      "metadata": {},
      "source": [
        "Os dados possuem uma distribuição próxima à normal, com algumas ocorrências muito acima das estatísticas centrais."
      ]
    },
    {
      "cell_type": "code",
      "execution_count": 53,
      "metadata": {},
      "outputs": [
        {
          "data": {
            "text/plain": [
              "count    19113.000000\n",
              "mean        60.513839\n",
              "std         33.488264\n",
              "min          1.000000\n",
              "25%         37.000000\n",
              "50%         55.000000\n",
              "75%         79.000000\n",
              "max        349.000000\n",
              "Name: turns, dtype: float64"
            ]
          },
          "execution_count": 53,
          "metadata": {},
          "output_type": "execute_result"
        }
      ],
      "source": [
        "chess_games['turns'].describe()"
      ]
    },
    {
      "cell_type": "markdown",
      "metadata": {},
      "source": [
        "Agora que a distribuição dos dados está mais próxima de uma distribuição normal, será aplicado o método de Tukey para identificar e remover os outliers."
      ]
    },
    {
      "cell_type": "code",
      "execution_count": 54,
      "metadata": {},
      "outputs": [
        {
          "name": "stdout",
          "output_type": "stream",
          "text": [
            "42.0\n"
          ]
        }
      ],
      "source": [
        "# definição dos quantis e do IQR\n",
        "q1 = chess_games['turns'].quantile(0.25)\n",
        "q3 = chess_games['turns'].quantile(0.75)\n",
        "iqr = q3 - q1\n",
        "print(iqr)"
      ]
    },
    {
      "cell_type": "code",
      "execution_count": 55,
      "metadata": {},
      "outputs": [
        {
          "data": {
            "text/plain": [
              "(0, 18)"
            ]
          },
          "execution_count": 55,
          "metadata": {},
          "output_type": "execute_result"
        }
      ],
      "source": [
        "# outliers inferiores\n",
        "chess_games[chess_games['turns'] < (q1 - 1.5 * iqr)].shape"
      ]
    },
    {
      "cell_type": "code",
      "execution_count": 56,
      "metadata": {},
      "outputs": [
        {
          "data": {
            "text/plain": [
              "(412, 18)"
            ]
          },
          "execution_count": 56,
          "metadata": {},
          "output_type": "execute_result"
        }
      ],
      "source": [
        "# outliers superiores\n",
        "chess_games[chess_games['turns'] > (q3 + 1.5 * iqr)].shape"
      ]
    },
    {
      "cell_type": "code",
      "execution_count": 57,
      "metadata": {},
      "outputs": [
        {
          "data": {
            "text/plain": [
              "<Axes: >"
            ]
          },
          "execution_count": 57,
          "metadata": {},
          "output_type": "execute_result"
        },
        {
          "data": {
            "image/png": "[encoded data removed]",
            "text/plain": [
              "<Figure size 640x480 with 1 Axes>"
            ]
          },
          "metadata": {},
          "output_type": "display_data"
        }
      ],
      "source": [
        "# removendo os outliers\n",
        "chess_games_turns = chess_games[(chess_games['turns'] > (q1 - 1.5 * iqr)) & (chess_games['turns'] < (q3 + 1.5 * iqr))]\n",
        "chess_games_turns['turns'].plot.box()"
      ]
    },
    {
      "cell_type": "markdown",
      "metadata": {},
      "source": [
        "## Bivariado"
      ]
    },
    {
      "cell_type": "markdown",
      "metadata": {},
      "source": [
        "Nessa seção será analisada a relação entre os ratings dos jogadores. Partidas com uma diferença muito grande entre esses ratings podem ser consideradas outliers."
      ]
    },
    {
      "cell_type": "code",
      "execution_count": 58,
      "metadata": {},
      "outputs": [
        {
          "data": {
            "text/plain": [
              "<Axes: xlabel='white_rating', ylabel='black_rating'>"
            ]
          },
          "execution_count": 58,
          "metadata": {},
          "output_type": "execute_result"
        },
        {
          "data": {
            "image/png": "[encoded data removed]",
            "text/plain": [
              "<Figure size 640x480 with 1 Axes>"
            ]
          },
          "metadata": {},
          "output_type": "display_data"
        }
      ],
      "source": [
        "chess_games.plot.scatter(x='white_rating', y='black_rating')"
      ]
    },
    {
      "cell_type": "code",
      "execution_count": 59,
      "metadata": {},
      "outputs": [
        {
          "data": {
            "text/html": [
              "<div>\n",
              "<style scoped>\n",
              "    .dataframe tbody tr th:only-of-type {\n",
              "        vertical-align: middle;\n",
              "    }\n",
              "\n",
              "    .dataframe tbody tr th {\n",
              "        vertical-align: top;\n",
              "    }\n",
              "\n",
              "    .dataframe thead th {\n",
              "        text-align: right;\n",
              "    }\n",
              "</style>\n",
              "<table border=\"1\" class=\"dataframe\">\n",
              "  <thead>\n",
              "    <tr style=\"text-align: right;\">\n",
              "      <th></th>\n",
              "      <th>white_rating</th>\n",
              "      <th>black_rating</th>\n",
              "      <th>rating_diff</th>\n",
              "    </tr>\n",
              "  </thead>\n",
              "  <tbody>\n",
              "    <tr>\n",
              "      <th>0</th>\n",
              "      <td>1500</td>\n",
              "      <td>1191</td>\n",
              "      <td>309</td>\n",
              "    </tr>\n",
              "    <tr>\n",
              "      <th>1</th>\n",
              "      <td>1322</td>\n",
              "      <td>1261</td>\n",
              "      <td>61</td>\n",
              "    </tr>\n",
              "    <tr>\n",
              "      <th>2</th>\n",
              "      <td>1496</td>\n",
              "      <td>1500</td>\n",
              "      <td>4</td>\n",
              "    </tr>\n",
              "    <tr>\n",
              "      <th>3</th>\n",
              "      <td>1439</td>\n",
              "      <td>1454</td>\n",
              "      <td>15</td>\n",
              "    </tr>\n",
              "    <tr>\n",
              "      <th>4</th>\n",
              "      <td>1523</td>\n",
              "      <td>1469</td>\n",
              "      <td>54</td>\n",
              "    </tr>\n",
              "  </tbody>\n",
              "</table>\n",
              "</div>"
            ],
            "text/plain": [
              "   white_rating  black_rating  rating_diff\n",
              "0          1500          1191          309\n",
              "1          1322          1261           61\n",
              "2          1496          1500            4\n",
              "3          1439          1454           15\n",
              "4          1523          1469           54"
            ]
          },
          "execution_count": 59,
          "metadata": {},
          "output_type": "execute_result"
        }
      ],
      "source": [
        "chess_games_rating = chess_games.copy()\n",
        "chess_games_rating['rating_diff'] = abs(chess_games['white_rating'] - chess_games['black_rating'])\n",
        "chess_games_rating[['white_rating', 'black_rating', 'rating_diff']].head()"
      ]
    },
    {
      "cell_type": "code",
      "execution_count": 60,
      "metadata": {},
      "outputs": [
        {
          "data": {
            "text/plain": [
              "count    19113.000000\n",
              "mean       172.336786\n",
              "std        177.702696\n",
              "min          0.000000\n",
              "25%         46.000000\n",
              "50%        115.000000\n",
              "75%        240.000000\n",
              "max       1605.000000\n",
              "Name: rating_diff, dtype: float64"
            ]
          },
          "execution_count": 60,
          "metadata": {},
          "output_type": "execute_result"
        }
      ],
      "source": [
        "chess_games_rating['rating_diff'].describe()"
      ]
    },
    {
      "cell_type": "code",
      "execution_count": 61,
      "metadata": {},
      "outputs": [
        {
          "data": {
            "text/plain": [
              "<Axes: >"
            ]
          },
          "execution_count": 61,
          "metadata": {},
          "output_type": "execute_result"
        },
        {
          "data": {
            "image/png": "[encoded data removed]",
            "text/plain": [
              "<Figure size 640x480 with 1 Axes>"
            ]
          },
          "metadata": {},
          "output_type": "display_data"
        }
      ],
      "source": [
        "chess_games_rating['rating_diff'].plot.box()"
      ]
    },
    {
      "cell_type": "code",
      "execution_count": 62,
      "metadata": {},
      "outputs": [
        {
          "data": {
            "text/plain": [
              "<Axes: >"
            ]
          },
          "execution_count": 62,
          "metadata": {},
          "output_type": "execute_result"
        },
        {
          "data": {
            "image/png": "[encoded data removed]",
            "text/plain": [
              "<Figure size 640x480 with 1 Axes>"
            ]
          },
          "metadata": {},
          "output_type": "display_data"
        }
      ],
      "source": [
        "chess_games_rating['rating_diff'].hist()"
      ]
    },
    {
      "cell_type": "markdown",
      "metadata": {},
      "source": [
        "Nesse caso específico, diferenças muito baixas não são consideradas outliers, mas um comportamento esperado. Sendo assim, apenas pontos com diferenças muito altas serão removidos. Dessa forma, valores acima de `q3 + 1.5 * IQR` serão considerados outliers."
      ]
    },
    {
      "cell_type": "code",
      "execution_count": 63,
      "metadata": {},
      "outputs": [],
      "source": [
        "q1 = chess_games_rating['rating_diff'].quantile(0.25)\n",
        "q3 = chess_games_rating['rating_diff'].quantile(0.75)\n",
        "iqr = q3 - q1"
      ]
    },
    {
      "cell_type": "code",
      "execution_count": 64,
      "metadata": {},
      "outputs": [
        {
          "data": {
            "text/plain": [
              "<Axes: >"
            ]
          },
          "execution_count": 64,
          "metadata": {},
          "output_type": "execute_result"
        },
        {
          "data": {
            "image/png": "[encoded data removed]",
            "text/plain": [
              "<Figure size 640x480 with 1 Axes>"
            ]
          },
          "metadata": {},
          "output_type": "display_data"
        }
      ],
      "source": [
        "chess_games_rating = chess_games_rating[chess_games_rating['rating_diff'] < (q3 + 1.5 * iqr)]\n",
        "chess_games_rating['rating_diff'].plot.box()"
      ]
    },
    {
      "cell_type": "code",
      "execution_count": 65,
      "metadata": {},
      "outputs": [
        {
          "data": {
            "text/plain": [
              "<Axes: xlabel='white_rating', ylabel='black_rating'>"
            ]
          },
          "execution_count": 65,
          "metadata": {},
          "output_type": "execute_result"
        },
        {
          "data": {
            "image/png": "[encoded data removed]",
            "text/plain": [
              "<Figure size 640x480 with 1 Axes>"
            ]
          },
          "metadata": {},
          "output_type": "display_data"
        }
      ],
      "source": [
        "chess_games_rating.plot.scatter(x='white_rating', y='black_rating')"
      ]
    },
    {
      "cell_type": "markdown",
      "metadata": {},
      "source": [
        "## Multivariado"
      ]
    },
    {
      "cell_type": "markdown",
      "metadata": {},
      "source": [
        "### Elliptic Envelope"
      ]
    },
    {
      "cell_type": "code",
      "execution_count": 66,
      "metadata": {},
      "outputs": [
        {
          "data": {
            "text/plain": [
              "id                      int16\n",
              "rated                    bool\n",
              "created_at            float64\n",
              "last_move_at          float64\n",
              "turns                   int64\n",
              "victory_status           int8\n",
              "winner                   int8\n",
              "increment_code          int16\n",
              "white_id                int16\n",
              "white_rating            int64\n",
              "black_id                int16\n",
              "black_rating            int64\n",
              "moves                   int16\n",
              "opening_eco             int16\n",
              "opening_name            int16\n",
              "opening_ply             int64\n",
              "created_at_dist      category\n",
              "last_move_at_dist    category\n",
              "dtype: object"
            ]
          },
          "execution_count": 66,
          "metadata": {},
          "output_type": "execute_result"
        }
      ],
      "source": [
        "chess_games.dtypes"
      ]
    },
    {
      "cell_type": "code",
      "execution_count": 67,
      "metadata": {},
      "outputs": [],
      "source": [
        "chess_games.drop(columns=['created_at_dist', 'last_move_at_dist'], inplace=True)"
      ]
    },
    {
      "cell_type": "code",
      "execution_count": 68,
      "metadata": {},
      "outputs": [
        {
          "name": "stderr",
          "output_type": "stream",
          "text": [
            "/home/vinicius/.local/lib/python3.8/site-packages/sklearn/covariance/_robust_covariance.py:186: RuntimeWarning: Determinant has increased; this should not happen: log(det) > log(previous_det) (193.928149457271644 > 193.914633133375446). You may want to try with a higher value of support_fraction (current value: 0.501).\n",
            "  warnings.warn(\n",
            "/home/vinicius/.local/lib/python3.8/site-packages/sklearn/covariance/_robust_covariance.py:186: RuntimeWarning: Determinant has increased; this should not happen: log(det) > log(previous_det) (193.952546701970959 > 193.930297306670951). You may want to try with a higher value of support_fraction (current value: 0.501).\n",
            "  warnings.warn(\n",
            "/home/vinicius/.local/lib/python3.8/site-packages/sklearn/covariance/_robust_covariance.py:186: RuntimeWarning: Determinant has increased; this should not happen: log(det) > log(previous_det) (193.928610044167982 > 193.920810641884259). You may want to try with a higher value of support_fraction (current value: 0.501).\n",
            "  warnings.warn(\n",
            "/home/vinicius/.local/lib/python3.8/site-packages/sklearn/covariance/_robust_covariance.py:186: RuntimeWarning: Determinant has increased; this should not happen: log(det) > log(previous_det) (193.952546701970959 > 193.930297306670951). You may want to try with a higher value of support_fraction (current value: 0.501).\n",
            "  warnings.warn(\n",
            "/home/vinicius/.local/lib/python3.8/site-packages/sklearn/covariance/_robust_covariance.py:186: RuntimeWarning: Determinant has increased; this should not happen: log(det) > log(previous_det) (193.930371385076029 > 193.928144437653543). You may want to try with a higher value of support_fraction (current value: 0.501).\n",
            "  warnings.warn(\n",
            "/home/vinicius/.local/lib/python3.8/site-packages/sklearn/covariance/_robust_covariance.py:186: RuntimeWarning: Determinant has increased; this should not happen: log(det) > log(previous_det) (193.797865701282348 > 193.760379030943739). You may want to try with a higher value of support_fraction (current value: 0.501).\n",
            "  warnings.warn(\n",
            "/home/vinicius/.local/lib/python3.8/site-packages/sklearn/covariance/_robust_covariance.py:186: RuntimeWarning: Determinant has increased; this should not happen: log(det) > log(previous_det) (193.959654373964923 > 193.939418297300733). You may want to try with a higher value of support_fraction (current value: 0.501).\n",
            "  warnings.warn(\n",
            "/home/vinicius/.local/lib/python3.8/site-packages/sklearn/covariance/_robust_covariance.py:186: RuntimeWarning: Determinant has increased; this should not happen: log(det) > log(previous_det) (193.945305204311239 > 193.934245586699916). You may want to try with a higher value of support_fraction (current value: 0.501).\n",
            "  warnings.warn(\n",
            "/home/vinicius/.local/lib/python3.8/site-packages/sklearn/covariance/_robust_covariance.py:186: RuntimeWarning: Determinant has increased; this should not happen: log(det) > log(previous_det) (193.933523575960578 > 193.931365296152848). You may want to try with a higher value of support_fraction (current value: 0.501).\n",
            "  warnings.warn(\n",
            "/home/vinicius/.local/lib/python3.8/site-packages/sklearn/covariance/_robust_covariance.py:186: RuntimeWarning: Determinant has increased; this should not happen: log(det) > log(previous_det) (194.028921080495621 > 194.008765249233591). You may want to try with a higher value of support_fraction (current value: 0.501).\n",
            "  warnings.warn(\n",
            "/home/vinicius/.local/lib/python3.8/site-packages/sklearn/covariance/_robust_covariance.py:186: RuntimeWarning: Determinant has increased; this should not happen: log(det) > log(previous_det) (193.808760542107365 > 193.793038570929497). You may want to try with a higher value of support_fraction (current value: 0.501).\n",
            "  warnings.warn(\n",
            "/home/vinicius/.local/lib/python3.8/site-packages/sklearn/covariance/_robust_covariance.py:186: RuntimeWarning: Determinant has increased; this should not happen: log(det) > log(previous_det) (193.949302557830862 > 193.938748485534944). You may want to try with a higher value of support_fraction (current value: 0.501).\n",
            "  warnings.warn(\n",
            "/home/vinicius/.local/lib/python3.8/site-packages/sklearn/covariance/_robust_covariance.py:186: RuntimeWarning: Determinant has increased; this should not happen: log(det) > log(previous_det) (194.085341848054384 > 194.069853772401359). You may want to try with a higher value of support_fraction (current value: 0.501).\n",
            "  warnings.warn(\n",
            "/home/vinicius/.local/lib/python3.8/site-packages/sklearn/covariance/_robust_covariance.py:186: RuntimeWarning: Determinant has increased; this should not happen: log(det) > log(previous_det) (193.952546701970959 > 193.929412248144757). You may want to try with a higher value of support_fraction (current value: 0.501).\n",
            "  warnings.warn(\n",
            "/home/vinicius/.local/lib/python3.8/site-packages/sklearn/covariance/_robust_covariance.py:186: RuntimeWarning: Determinant has increased; this should not happen: log(det) > log(previous_det) (193.770864375669760 > 193.760600256513840). You may want to try with a higher value of support_fraction (current value: 0.501).\n",
            "  warnings.warn(\n",
            "/home/vinicius/.local/lib/python3.8/site-packages/sklearn/covariance/_robust_covariance.py:186: RuntimeWarning: Determinant has increased; this should not happen: log(det) > log(previous_det) (193.803621876540859 > 193.768295166104963). You may want to try with a higher value of support_fraction (current value: 0.501).\n",
            "  warnings.warn(\n",
            "/home/vinicius/.local/lib/python3.8/site-packages/sklearn/covariance/_robust_covariance.py:186: RuntimeWarning: Determinant has increased; this should not happen: log(det) > log(previous_det) (193.949302557830862 > 193.938748485534944). You may want to try with a higher value of support_fraction (current value: 0.501).\n",
            "  warnings.warn(\n",
            "/home/vinicius/.local/lib/python3.8/site-packages/sklearn/covariance/_robust_covariance.py:186: RuntimeWarning: Determinant has increased; this should not happen: log(det) > log(previous_det) (193.976805193615860 > 193.965430753446810). You may want to try with a higher value of support_fraction (current value: 0.501).\n",
            "  warnings.warn(\n",
            "/home/vinicius/.local/lib/python3.8/site-packages/sklearn/covariance/_robust_covariance.py:186: RuntimeWarning: Determinant has increased; this should not happen: log(det) > log(previous_det) (193.918923702316420 > 193.903254139936649). You may want to try with a higher value of support_fraction (current value: 0.501).\n",
            "  warnings.warn(\n",
            "/home/vinicius/.local/lib/python3.8/site-packages/sklearn/covariance/_robust_covariance.py:186: RuntimeWarning: Determinant has increased; this should not happen: log(det) > log(previous_det) (193.924469929863108 > 193.904005881781245). You may want to try with a higher value of support_fraction (current value: 0.501).\n",
            "  warnings.warn(\n",
            "/home/vinicius/.local/lib/python3.8/site-packages/sklearn/covariance/_robust_covariance.py:186: RuntimeWarning: Determinant has increased; this should not happen: log(det) > log(previous_det) (193.930718084053751 > 193.922443683844961). You may want to try with a higher value of support_fraction (current value: 0.501).\n",
            "  warnings.warn(\n",
            "/home/vinicius/.local/lib/python3.8/site-packages/sklearn/covariance/_robust_covariance.py:186: RuntimeWarning: Determinant has increased; this should not happen: log(det) > log(previous_det) (193.801505874431854 > 193.798272747139151). You may want to try with a higher value of support_fraction (current value: 0.501).\n",
            "  warnings.warn(\n",
            "/home/vinicius/.local/lib/python3.8/site-packages/sklearn/covariance/_robust_covariance.py:186: RuntimeWarning: Determinant has increased; this should not happen: log(det) > log(previous_det) (193.945532033318926 > 193.926321227186008). You may want to try with a higher value of support_fraction (current value: 0.501).\n",
            "  warnings.warn(\n",
            "/home/vinicius/.local/lib/python3.8/site-packages/sklearn/covariance/_robust_covariance.py:186: RuntimeWarning: Determinant has increased; this should not happen: log(det) > log(previous_det) (193.925276182330350 > 193.877342139923286). You may want to try with a higher value of support_fraction (current value: 0.501).\n",
            "  warnings.warn(\n",
            "/home/vinicius/.local/lib/python3.8/site-packages/sklearn/covariance/_robust_covariance.py:186: RuntimeWarning: Determinant has increased; this should not happen: log(det) > log(previous_det) (193.924389081572031 > 193.901768424817192). You may want to try with a higher value of support_fraction (current value: 0.501).\n",
            "  warnings.warn(\n",
            "/home/vinicius/.local/lib/python3.8/site-packages/sklearn/covariance/_robust_covariance.py:186: RuntimeWarning: Determinant has increased; this should not happen: log(det) > log(previous_det) (193.949818158612771 > 193.938931561958753). You may want to try with a higher value of support_fraction (current value: 0.501).\n",
            "  warnings.warn(\n",
            "/home/vinicius/.local/lib/python3.8/site-packages/sklearn/covariance/_robust_covariance.py:186: RuntimeWarning: Determinant has increased; this should not happen: log(det) > log(previous_det) (193.925078398961432 > 193.906467266146450). You may want to try with a higher value of support_fraction (current value: 0.501).\n",
            "  warnings.warn(\n",
            "/home/vinicius/.local/lib/python3.8/site-packages/sklearn/covariance/_robust_covariance.py:186: RuntimeWarning: Determinant has increased; this should not happen: log(det) > log(previous_det) (193.940537669030903 > 193.909975462791408). You may want to try with a higher value of support_fraction (current value: 0.501).\n",
            "  warnings.warn(\n",
            "/home/vinicius/.local/lib/python3.8/site-packages/sklearn/covariance/_robust_covariance.py:186: RuntimeWarning: Determinant has increased; this should not happen: log(det) > log(previous_det) (193.942083627050010 > 193.932057000101850). You may want to try with a higher value of support_fraction (current value: 0.501).\n",
            "  warnings.warn(\n",
            "/home/vinicius/.local/lib/python3.8/site-packages/sklearn/covariance/_robust_covariance.py:186: RuntimeWarning: Determinant has increased; this should not happen: log(det) > log(previous_det) (193.944442094848284 > 193.933685965667649). You may want to try with a higher value of support_fraction (current value: 0.501).\n",
            "  warnings.warn(\n",
            "/home/vinicius/.local/lib/python3.8/site-packages/sklearn/covariance/_robust_covariance.py:186: RuntimeWarning: Determinant has increased; this should not happen: log(det) > log(previous_det) (193.936082190549627 > 193.920666711112148). You may want to try with a higher value of support_fraction (current value: 0.501).\n",
            "  warnings.warn(\n",
            "/home/vinicius/.local/lib/python3.8/site-packages/sklearn/covariance/_robust_covariance.py:186: RuntimeWarning: Determinant has increased; this should not happen: log(det) > log(previous_det) (193.948536422535398 > 193.943688658304040). You may want to try with a higher value of support_fraction (current value: 0.501).\n",
            "  warnings.warn(\n",
            "/home/vinicius/.local/lib/python3.8/site-packages/sklearn/covariance/_robust_covariance.py:186: RuntimeWarning: Determinant has increased; this should not happen: log(det) > log(previous_det) (193.941953808355038 > 193.940001292610845). You may want to try with a higher value of support_fraction (current value: 0.501).\n",
            "  warnings.warn(\n",
            "/home/vinicius/.local/lib/python3.8/site-packages/sklearn/covariance/_robust_covariance.py:186: RuntimeWarning: Determinant has increased; this should not happen: log(det) > log(previous_det) (194.073395512747624 > 194.030678652347802). You may want to try with a higher value of support_fraction (current value: 0.501).\n",
            "  warnings.warn(\n",
            "/home/vinicius/.local/lib/python3.8/site-packages/sklearn/covariance/_robust_covariance.py:186: RuntimeWarning: Determinant has increased; this should not happen: log(det) > log(previous_det) (193.921461912460728 > 193.907505010060987). You may want to try with a higher value of support_fraction (current value: 0.501).\n",
            "  warnings.warn(\n",
            "/home/vinicius/.local/lib/python3.8/site-packages/sklearn/covariance/_robust_covariance.py:186: RuntimeWarning: Determinant has increased; this should not happen: log(det) > log(previous_det) (193.784744770970406 > 193.753414593187472). You may want to try with a higher value of support_fraction (current value: 0.501).\n",
            "  warnings.warn(\n",
            "/home/vinicius/.local/lib/python3.8/site-packages/sklearn/covariance/_robust_covariance.py:186: RuntimeWarning: Determinant has increased; this should not happen: log(det) > log(previous_det) (193.802949509523472 > 193.798072049936707). You may want to try with a higher value of support_fraction (current value: 0.501).\n",
            "  warnings.warn(\n",
            "/home/vinicius/.local/lib/python3.8/site-packages/sklearn/covariance/_robust_covariance.py:186: RuntimeWarning: Determinant has increased; this should not happen: log(det) > log(previous_det) (193.809882797927173 > 193.790927479046900). You may want to try with a higher value of support_fraction (current value: 0.501).\n",
            "  warnings.warn(\n",
            "/home/vinicius/.local/lib/python3.8/site-packages/sklearn/covariance/_robust_covariance.py:186: RuntimeWarning: Determinant has increased; this should not happen: log(det) > log(previous_det) (193.963951835411052 > 193.961881211598694). You may want to try with a higher value of support_fraction (current value: 0.501).\n",
            "  warnings.warn(\n",
            "/home/vinicius/.local/lib/python3.8/site-packages/sklearn/covariance/_robust_covariance.py:186: RuntimeWarning: Determinant has increased; this should not happen: log(det) > log(previous_det) (193.808760542107365 > 193.793038570929497). You may want to try with a higher value of support_fraction (current value: 0.501).\n",
            "  warnings.warn(\n",
            "/home/vinicius/.local/lib/python3.8/site-packages/sklearn/covariance/_robust_covariance.py:186: RuntimeWarning: Determinant has increased; this should not happen: log(det) > log(previous_det) (193.965787813035433 > 193.961625188141454). You may want to try with a higher value of support_fraction (current value: 0.501).\n",
            "  warnings.warn(\n",
            "/home/vinicius/.local/lib/python3.8/site-packages/sklearn/covariance/_robust_covariance.py:186: RuntimeWarning: Determinant has increased; this should not happen: log(det) > log(previous_det) (193.961038154283159 > 193.948297989920917). You may want to try with a higher value of support_fraction (current value: 0.501).\n",
            "  warnings.warn(\n",
            "/home/vinicius/.local/lib/python3.8/site-packages/sklearn/covariance/_robust_covariance.py:186: RuntimeWarning: Determinant has increased; this should not happen: log(det) > log(previous_det) (194.042864800531248 > 194.037898749355321). You may want to try with a higher value of support_fraction (current value: 0.501).\n",
            "  warnings.warn(\n",
            "/home/vinicius/.local/lib/python3.8/site-packages/sklearn/covariance/_robust_covariance.py:186: RuntimeWarning: Determinant has increased; this should not happen: log(det) > log(previous_det) (194.042537566613930 > 193.996888502993443). You may want to try with a higher value of support_fraction (current value: 0.501).\n",
            "  warnings.warn(\n",
            "/home/vinicius/.local/lib/python3.8/site-packages/sklearn/covariance/_robust_covariance.py:186: RuntimeWarning: Determinant has increased; this should not happen: log(det) > log(previous_det) (194.044727115908103 > 194.041019195082271). You may want to try with a higher value of support_fraction (current value: 0.501).\n",
            "  warnings.warn(\n",
            "/home/vinicius/.local/lib/python3.8/site-packages/sklearn/covariance/_robust_covariance.py:186: RuntimeWarning: Determinant has increased; this should not happen: log(det) > log(previous_det) (194.042514866517593 > 194.036952171184595). You may want to try with a higher value of support_fraction (current value: 0.501).\n",
            "  warnings.warn(\n",
            "/home/vinicius/.local/lib/python3.8/site-packages/sklearn/covariance/_robust_covariance.py:186: RuntimeWarning: Determinant has increased; this should not happen: log(det) > log(previous_det) (193.803621876540859 > 193.801341779288521). You may want to try with a higher value of support_fraction (current value: 0.501).\n",
            "  warnings.warn(\n",
            "/home/vinicius/.local/lib/python3.8/site-packages/sklearn/covariance/_robust_covariance.py:186: RuntimeWarning: Determinant has increased; this should not happen: log(det) > log(previous_det) (193.806715747189429 > 193.801030446903070). You may want to try with a higher value of support_fraction (current value: 0.501).\n",
            "  warnings.warn(\n",
            "/home/vinicius/.local/lib/python3.8/site-packages/sklearn/covariance/_robust_covariance.py:186: RuntimeWarning: Determinant has increased; this should not happen: log(det) > log(previous_det) (194.079696809148061 > 194.070239308098138). You may want to try with a higher value of support_fraction (current value: 0.501).\n",
            "  warnings.warn(\n",
            "/home/vinicius/.local/lib/python3.8/site-packages/sklearn/covariance/_robust_covariance.py:186: RuntimeWarning: Determinant has increased; this should not happen: log(det) > log(previous_det) (193.813562694236765 > 193.789707672468069). You may want to try with a higher value of support_fraction (current value: 0.501).\n",
            "  warnings.warn(\n",
            "/home/vinicius/.local/lib/python3.8/site-packages/sklearn/covariance/_robust_covariance.py:186: RuntimeWarning: Determinant has increased; this should not happen: log(det) > log(previous_det) (194.079996121828373 > 194.062719616788968). You may want to try with a higher value of support_fraction (current value: 0.501).\n",
            "  warnings.warn(\n",
            "/home/vinicius/.local/lib/python3.8/site-packages/sklearn/covariance/_robust_covariance.py:186: RuntimeWarning: Determinant has increased; this should not happen: log(det) > log(previous_det) (193.808760542107365 > 193.805632991896033). You may want to try with a higher value of support_fraction (current value: 0.501).\n",
            "  warnings.warn(\n",
            "/home/vinicius/.local/lib/python3.8/site-packages/sklearn/covariance/_robust_covariance.py:186: RuntimeWarning: Determinant has increased; this should not happen: log(det) > log(previous_det) (194.096165733169045 > 194.088865750660034). You may want to try with a higher value of support_fraction (current value: 0.501).\n",
            "  warnings.warn(\n",
            "/home/vinicius/.local/lib/python3.8/site-packages/sklearn/covariance/_robust_covariance.py:186: RuntimeWarning: Determinant has increased; this should not happen: log(det) > log(previous_det) (194.068162373932552 > 194.047274440294075). You may want to try with a higher value of support_fraction (current value: 0.501).\n",
            "  warnings.warn(\n",
            "/home/vinicius/.local/lib/python3.8/site-packages/sklearn/covariance/_robust_covariance.py:186: RuntimeWarning: Determinant has increased; this should not happen: log(det) > log(previous_det) (194.043622385650110 > 194.019070550695716). You may want to try with a higher value of support_fraction (current value: 0.501).\n",
            "  warnings.warn(\n",
            "/home/vinicius/.local/lib/python3.8/site-packages/sklearn/covariance/_robust_covariance.py:186: RuntimeWarning: Determinant has increased; this should not happen: log(det) > log(previous_det) (194.072186412829637 > 194.039506515209268). You may want to try with a higher value of support_fraction (current value: 0.501).\n",
            "  warnings.warn(\n",
            "/home/vinicius/.local/lib/python3.8/site-packages/sklearn/covariance/_robust_covariance.py:186: RuntimeWarning: Determinant has increased; this should not happen: log(det) > log(previous_det) (194.046397615980425 > 194.030482138745327). You may want to try with a higher value of support_fraction (current value: 0.501).\n",
            "  warnings.warn(\n",
            "/home/vinicius/.local/lib/python3.8/site-packages/sklearn/covariance/_robust_covariance.py:186: RuntimeWarning: Determinant has increased; this should not happen: log(det) > log(previous_det) (194.113421664005898 > 194.065168554501611). You may want to try with a higher value of support_fraction (current value: 0.501).\n",
            "  warnings.warn(\n",
            "/home/vinicius/.local/lib/python3.8/site-packages/sklearn/covariance/_robust_covariance.py:186: RuntimeWarning: Determinant has increased; this should not happen: log(det) > log(previous_det) (194.032225182300266 > 194.027028464802271). You may want to try with a higher value of support_fraction (current value: 0.501).\n",
            "  warnings.warn(\n",
            "/home/vinicius/.local/lib/python3.8/site-packages/sklearn/covariance/_robust_covariance.py:186: RuntimeWarning: Determinant has increased; this should not happen: log(det) > log(previous_det) (194.066438708754248 > 194.044473604949047). You may want to try with a higher value of support_fraction (current value: 0.501).\n",
            "  warnings.warn(\n",
            "/home/vinicius/.local/lib/python3.8/site-packages/sklearn/covariance/_robust_covariance.py:186: RuntimeWarning: Determinant has increased; this should not happen: log(det) > log(previous_det) (194.120704920490908 > 194.112106256607234). You may want to try with a higher value of support_fraction (current value: 0.501).\n",
            "  warnings.warn(\n",
            "/home/vinicius/.local/lib/python3.8/site-packages/sklearn/covariance/_robust_covariance.py:186: RuntimeWarning: Determinant has increased; this should not happen: log(det) > log(previous_det) (194.130412326537709 > 194.102207191565128). You may want to try with a higher value of support_fraction (current value: 0.501).\n",
            "  warnings.warn(\n",
            "/home/vinicius/.local/lib/python3.8/site-packages/sklearn/covariance/_robust_covariance.py:186: RuntimeWarning: Determinant has increased; this should not happen: log(det) > log(previous_det) (193.986565469580569 > 193.979402559844630). You may want to try with a higher value of support_fraction (current value: 0.501).\n",
            "  warnings.warn(\n",
            "/home/vinicius/.local/lib/python3.8/site-packages/sklearn/covariance/_robust_covariance.py:186: RuntimeWarning: Determinant has increased; this should not happen: log(det) > log(previous_det) (193.770864375669760 > 193.760600256513840). You may want to try with a higher value of support_fraction (current value: 0.501).\n",
            "  warnings.warn(\n",
            "/home/vinicius/.local/lib/python3.8/site-packages/sklearn/covariance/_robust_covariance.py:186: RuntimeWarning: Determinant has increased; this should not happen: log(det) > log(previous_det) (193.804453011467587 > 193.797059340301104). You may want to try with a higher value of support_fraction (current value: 0.501).\n",
            "  warnings.warn(\n",
            "/home/vinicius/.local/lib/python3.8/site-packages/sklearn/covariance/_robust_covariance.py:186: RuntimeWarning: Determinant has increased; this should not happen: log(det) > log(previous_det) (194.015755556979570 > 193.992578296701424). You may want to try with a higher value of support_fraction (current value: 0.501).\n",
            "  warnings.warn(\n",
            "/home/vinicius/.local/lib/python3.8/site-packages/sklearn/covariance/_robust_covariance.py:186: RuntimeWarning: Determinant has increased; this should not happen: log(det) > log(previous_det) (193.936314652846505 > 193.924606827551997). You may want to try with a higher value of support_fraction (current value: 0.501).\n",
            "  warnings.warn(\n",
            "/home/vinicius/.local/lib/python3.8/site-packages/sklearn/covariance/_robust_covariance.py:186: RuntimeWarning: Determinant has increased; this should not happen: log(det) > log(previous_det) (193.926312779990241 > 193.922240661908518). You may want to try with a higher value of support_fraction (current value: 0.501).\n",
            "  warnings.warn(\n",
            "/home/vinicius/.local/lib/python3.8/site-packages/sklearn/covariance/_robust_covariance.py:186: RuntimeWarning: Determinant has increased; this should not happen: log(det) > log(previous_det) (193.770864375669760 > 193.760600256513840). You may want to try with a higher value of support_fraction (current value: 0.501).\n",
            "  warnings.warn(\n",
            "/home/vinicius/.local/lib/python3.8/site-packages/sklearn/covariance/_robust_covariance.py:186: RuntimeWarning: Determinant has increased; this should not happen: log(det) > log(previous_det) (194.048003605939982 > 194.019176381784490). You may want to try with a higher value of support_fraction (current value: 0.501).\n",
            "  warnings.warn(\n",
            "/home/vinicius/.local/lib/python3.8/site-packages/sklearn/covariance/_robust_covariance.py:186: RuntimeWarning: Determinant has increased; this should not happen: log(det) > log(previous_det) (193.942840038977153 > 193.934659065494372). You may want to try with a higher value of support_fraction (current value: 0.501).\n",
            "  warnings.warn(\n",
            "/home/vinicius/.local/lib/python3.8/site-packages/sklearn/covariance/_robust_covariance.py:186: RuntimeWarning: Determinant has increased; this should not happen: log(det) > log(previous_det) (193.935164864091035 > 193.897945016540035). You may want to try with a higher value of support_fraction (current value: 0.501).\n",
            "  warnings.warn(\n",
            "/home/vinicius/.local/lib/python3.8/site-packages/sklearn/covariance/_robust_covariance.py:186: RuntimeWarning: Determinant has increased; this should not happen: log(det) > log(previous_det) (194.084555902677181 > 194.051441141230782). You may want to try with a higher value of support_fraction (current value: 0.501).\n",
            "  warnings.warn(\n",
            "/home/vinicius/.local/lib/python3.8/site-packages/sklearn/covariance/_robust_covariance.py:186: RuntimeWarning: Determinant has increased; this should not happen: log(det) > log(previous_det) (193.779946546807736 > 193.764456656282334). You may want to try with a higher value of support_fraction (current value: 0.501).\n",
            "  warnings.warn(\n",
            "/home/vinicius/.local/lib/python3.8/site-packages/sklearn/covariance/_robust_covariance.py:186: RuntimeWarning: Determinant has increased; this should not happen: log(det) > log(previous_det) (193.955820573824781 > 193.946086263059698). You may want to try with a higher value of support_fraction (current value: 0.501).\n",
            "  warnings.warn(\n",
            "/home/vinicius/.local/lib/python3.8/site-packages/sklearn/covariance/_robust_covariance.py:186: RuntimeWarning: Determinant has increased; this should not happen: log(det) > log(previous_det) (194.054143191780099 > 194.051618759324043). You may want to try with a higher value of support_fraction (current value: 0.501).\n",
            "  warnings.warn(\n",
            "/home/vinicius/.local/lib/python3.8/site-packages/sklearn/covariance/_robust_covariance.py:186: RuntimeWarning: Determinant has increased; this should not happen: log(det) > log(previous_det) (193.808760542107365 > 193.793038570929497). You may want to try with a higher value of support_fraction (current value: 0.501).\n",
            "  warnings.warn(\n",
            "/home/vinicius/.local/lib/python3.8/site-packages/sklearn/covariance/_robust_covariance.py:186: RuntimeWarning: Determinant has increased; this should not happen: log(det) > log(previous_det) (194.072998362940268 > 194.064900038988839). You may want to try with a higher value of support_fraction (current value: 0.501).\n",
            "  warnings.warn(\n",
            "/home/vinicius/.local/lib/python3.8/site-packages/sklearn/covariance/_robust_covariance.py:186: RuntimeWarning: Determinant has increased; this should not happen: log(det) > log(previous_det) (193.779946546807736 > 193.764456656282334). You may want to try with a higher value of support_fraction (current value: 0.501).\n",
            "  warnings.warn(\n",
            "/home/vinicius/.local/lib/python3.8/site-packages/sklearn/covariance/_robust_covariance.py:186: RuntimeWarning: Determinant has increased; this should not happen: log(det) > log(previous_det) (194.029063875193032 > 194.014450723595445). You may want to try with a higher value of support_fraction (current value: 0.501).\n",
            "  warnings.warn(\n",
            "/home/vinicius/.local/lib/python3.8/site-packages/sklearn/covariance/_robust_covariance.py:186: RuntimeWarning: Determinant has increased; this should not happen: log(det) > log(previous_det) (193.939086802184192 > 193.935559268563878). You may want to try with a higher value of support_fraction (current value: 0.501).\n",
            "  warnings.warn(\n",
            "/home/vinicius/.local/lib/python3.8/site-packages/sklearn/covariance/_robust_covariance.py:186: RuntimeWarning: Determinant has increased; this should not happen: log(det) > log(previous_det) (193.810816099470117 > 193.808199901396108). You may want to try with a higher value of support_fraction (current value: 0.501).\n",
            "  warnings.warn(\n",
            "/home/vinicius/.local/lib/python3.8/site-packages/sklearn/covariance/_robust_covariance.py:186: RuntimeWarning: Determinant has increased; this should not happen: log(det) > log(previous_det) (193.805793660785923 > 193.783666327753224). You may want to try with a higher value of support_fraction (current value: 0.501).\n",
            "  warnings.warn(\n",
            "/home/vinicius/.local/lib/python3.8/site-packages/sklearn/covariance/_robust_covariance.py:186: RuntimeWarning: Determinant has increased; this should not happen: log(det) > log(previous_det) (193.936973010640827 > 193.916539033142641). You may want to try with a higher value of support_fraction (current value: 0.501).\n",
            "  warnings.warn(\n",
            "/home/vinicius/.local/lib/python3.8/site-packages/sklearn/covariance/_robust_covariance.py:186: RuntimeWarning: Determinant has increased; this should not happen: log(det) > log(previous_det) (193.809725857552536 > 193.797482161192363). You may want to try with a higher value of support_fraction (current value: 0.501).\n",
            "  warnings.warn(\n",
            "/home/vinicius/.local/lib/python3.8/site-packages/sklearn/covariance/_robust_covariance.py:186: RuntimeWarning: Determinant has increased; this should not happen: log(det) > log(previous_det) (193.796206821515455 > 193.783413636073419). You may want to try with a higher value of support_fraction (current value: 0.501).\n",
            "  warnings.warn(\n",
            "/home/vinicius/.local/lib/python3.8/site-packages/sklearn/covariance/_robust_covariance.py:186: RuntimeWarning: Determinant has increased; this should not happen: log(det) > log(previous_det) (193.783725084600320 > 193.743792038845527). You may want to try with a higher value of support_fraction (current value: 0.501).\n",
            "  warnings.warn(\n",
            "/home/vinicius/.local/lib/python3.8/site-packages/sklearn/covariance/_robust_covariance.py:186: RuntimeWarning: Determinant has increased; this should not happen: log(det) > log(previous_det) (194.017218637714791 > 193.993164199302498). You may want to try with a higher value of support_fraction (current value: 0.501).\n",
            "  warnings.warn(\n",
            "/home/vinicius/.local/lib/python3.8/site-packages/sklearn/covariance/_robust_covariance.py:186: RuntimeWarning: Determinant has increased; this should not happen: log(det) > log(previous_det) (193.803621876540859 > 193.787515869301501). You may want to try with a higher value of support_fraction (current value: 0.501).\n",
            "  warnings.warn(\n",
            "/home/vinicius/.local/lib/python3.8/site-packages/sklearn/covariance/_robust_covariance.py:186: RuntimeWarning: Determinant has increased; this should not happen: log(det) > log(previous_det) (194.007802622647489 > 194.005146032512869). You may want to try with a higher value of support_fraction (current value: 0.501).\n",
            "  warnings.warn(\n",
            "/home/vinicius/.local/lib/python3.8/site-packages/sklearn/covariance/_robust_covariance.py:186: RuntimeWarning: Determinant has increased; this should not happen: log(det) > log(previous_det) (193.766429896315600 > 193.762495308308672). You may want to try with a higher value of support_fraction (current value: 0.501).\n",
            "  warnings.warn(\n",
            "/home/vinicius/.local/lib/python3.8/site-packages/sklearn/covariance/_robust_covariance.py:186: RuntimeWarning: Determinant has increased; this should not happen: log(det) > log(previous_det) (194.016998964071405 > 194.014577098842636). You may want to try with a higher value of support_fraction (current value: 0.501).\n",
            "  warnings.warn(\n",
            "/home/vinicius/.local/lib/python3.8/site-packages/sklearn/covariance/_robust_covariance.py:186: RuntimeWarning: Determinant has increased; this should not happen: log(det) > log(previous_det) (193.802949509523472 > 193.798072049936707). You may want to try with a higher value of support_fraction (current value: 0.501).\n",
            "  warnings.warn(\n",
            "/home/vinicius/.local/lib/python3.8/site-packages/sklearn/covariance/_robust_covariance.py:186: RuntimeWarning: Determinant has increased; this should not happen: log(det) > log(previous_det) (193.946058842162159 > 193.922997963677204). You may want to try with a higher value of support_fraction (current value: 0.501).\n",
            "  warnings.warn(\n",
            "/home/vinicius/.local/lib/python3.8/site-packages/sklearn/covariance/_robust_covariance.py:186: RuntimeWarning: Determinant has increased; this should not happen: log(det) > log(previous_det) (193.949569011188345 > 193.928125067813284). You may want to try with a higher value of support_fraction (current value: 0.501).\n",
            "  warnings.warn(\n",
            "/home/vinicius/.local/lib/python3.8/site-packages/sklearn/covariance/_robust_covariance.py:186: RuntimeWarning: Determinant has increased; this should not happen: log(det) > log(previous_det) (194.036384680880957 > 193.998847356824740). You may want to try with a higher value of support_fraction (current value: 0.501).\n",
            "  warnings.warn(\n",
            "/home/vinicius/.local/lib/python3.8/site-packages/sklearn/covariance/_robust_covariance.py:186: RuntimeWarning: Determinant has increased; this should not happen: log(det) > log(previous_det) (194.020975440342539 > 194.006362540662423). You may want to try with a higher value of support_fraction (current value: 0.501).\n",
            "  warnings.warn(\n",
            "/home/vinicius/.local/lib/python3.8/site-packages/sklearn/covariance/_robust_covariance.py:186: RuntimeWarning: Determinant has increased; this should not happen: log(det) > log(previous_det) (193.943837888873276 > 193.934829438709073). You may want to try with a higher value of support_fraction (current value: 0.501).\n",
            "  warnings.warn(\n",
            "/home/vinicius/.local/lib/python3.8/site-packages/sklearn/covariance/_robust_covariance.py:186: RuntimeWarning: Determinant has increased; this should not happen: log(det) > log(previous_det) (193.921311648975632 > 193.911430061765429). You may want to try with a higher value of support_fraction (current value: 0.501).\n",
            "  warnings.warn(\n",
            "/home/vinicius/.local/lib/python3.8/site-packages/sklearn/covariance/_robust_covariance.py:186: RuntimeWarning: Determinant has increased; this should not happen: log(det) > log(previous_det) (193.778048906588509 > 193.775292880779489). You may want to try with a higher value of support_fraction (current value: 0.501).\n",
            "  warnings.warn(\n",
            "/home/vinicius/.local/lib/python3.8/site-packages/sklearn/covariance/_robust_covariance.py:186: RuntimeWarning: Determinant has increased; this should not happen: log(det) > log(previous_det) (193.796206821515455 > 193.783413636073419). You may want to try with a higher value of support_fraction (current value: 0.501).\n",
            "  warnings.warn(\n",
            "/home/vinicius/.local/lib/python3.8/site-packages/sklearn/covariance/_robust_covariance.py:186: RuntimeWarning: Determinant has increased; this should not happen: log(det) > log(previous_det) (193.913461975195844 > 193.908328123639279). You may want to try with a higher value of support_fraction (current value: 0.501).\n",
            "  warnings.warn(\n",
            "/home/vinicius/.local/lib/python3.8/site-packages/sklearn/covariance/_robust_covariance.py:186: RuntimeWarning: Determinant has increased; this should not happen: log(det) > log(previous_det) (193.933757040752141 > 193.911995920618921). You may want to try with a higher value of support_fraction (current value: 0.501).\n",
            "  warnings.warn(\n",
            "/home/vinicius/.local/lib/python3.8/site-packages/sklearn/covariance/_robust_covariance.py:186: RuntimeWarning: Determinant has increased; this should not happen: log(det) > log(previous_det) (193.803073725492794 > 193.774049775839870). You may want to try with a higher value of support_fraction (current value: 0.501).\n",
            "  warnings.warn(\n",
            "/home/vinicius/.local/lib/python3.8/site-packages/sklearn/covariance/_robust_covariance.py:186: RuntimeWarning: Determinant has increased; this should not happen: log(det) > log(previous_det) (193.921353591264420 > 193.907552976798399). You may want to try with a higher value of support_fraction (current value: 0.501).\n",
            "  warnings.warn(\n",
            "/home/vinicius/.local/lib/python3.8/site-packages/sklearn/covariance/_robust_covariance.py:186: RuntimeWarning: Determinant has increased; this should not happen: log(det) > log(previous_det) (193.797977128341643 > 193.787528162657907). You may want to try with a higher value of support_fraction (current value: 0.501).\n",
            "  warnings.warn(\n",
            "/home/vinicius/.local/lib/python3.8/site-packages/sklearn/covariance/_robust_covariance.py:186: RuntimeWarning: Determinant has increased; this should not happen: log(det) > log(previous_det) (193.946174956377206 > 193.939916778690332). You may want to try with a higher value of support_fraction (current value: 0.501).\n",
            "  warnings.warn(\n",
            "/home/vinicius/.local/lib/python3.8/site-packages/sklearn/covariance/_robust_covariance.py:186: RuntimeWarning: Determinant has increased; this should not happen: log(det) > log(previous_det) (193.808760542107365 > 193.805632991896033). You may want to try with a higher value of support_fraction (current value: 0.501).\n",
            "  warnings.warn(\n",
            "/home/vinicius/.local/lib/python3.8/site-packages/sklearn/covariance/_robust_covariance.py:186: RuntimeWarning: Determinant has increased; this should not happen: log(det) > log(previous_det) (193.813562694236765 > 193.789707672468069). You may want to try with a higher value of support_fraction (current value: 0.501).\n",
            "  warnings.warn(\n",
            "/home/vinicius/.local/lib/python3.8/site-packages/sklearn/covariance/_robust_covariance.py:186: RuntimeWarning: Determinant has increased; this should not happen: log(det) > log(previous_det) (193.938000507654237 > 193.933109826292565). You may want to try with a higher value of support_fraction (current value: 0.501).\n",
            "  warnings.warn(\n",
            "/home/vinicius/.local/lib/python3.8/site-packages/sklearn/covariance/_robust_covariance.py:186: RuntimeWarning: Determinant has increased; this should not happen: log(det) > log(previous_det) (194.059259848702851 > 194.056062918743720). You may want to try with a higher value of support_fraction (current value: 0.501).\n",
            "  warnings.warn(\n",
            "/home/vinicius/.local/lib/python3.8/site-packages/sklearn/covariance/_robust_covariance.py:186: RuntimeWarning: Determinant has increased; this should not happen: log(det) > log(previous_det) (193.770864375669760 > 193.760600256513840). You may want to try with a higher value of support_fraction (current value: 0.501).\n",
            "  warnings.warn(\n",
            "/home/vinicius/.local/lib/python3.8/site-packages/sklearn/covariance/_robust_covariance.py:186: RuntimeWarning: Determinant has increased; this should not happen: log(det) > log(previous_det) (194.023551338835375 > 194.004105137170285). You may want to try with a higher value of support_fraction (current value: 0.501).\n",
            "  warnings.warn(\n",
            "/home/vinicius/.local/lib/python3.8/site-packages/sklearn/covariance/_robust_covariance.py:186: RuntimeWarning: Determinant has increased; this should not happen: log(det) > log(previous_det) (193.942032317936508 > 193.937372913062603). You may want to try with a higher value of support_fraction (current value: 0.501).\n",
            "  warnings.warn(\n",
            "/home/vinicius/.local/lib/python3.8/site-packages/sklearn/covariance/_robust_covariance.py:186: RuntimeWarning: Determinant has increased; this should not happen: log(det) > log(previous_det) (193.808760542107365 > 193.793038570929497). You may want to try with a higher value of support_fraction (current value: 0.501).\n",
            "  warnings.warn(\n",
            "/home/vinicius/.local/lib/python3.8/site-packages/sklearn/covariance/_robust_covariance.py:186: RuntimeWarning: Determinant has increased; this should not happen: log(det) > log(previous_det) (194.085909692861492 > 194.060041537868187). You may want to try with a higher value of support_fraction (current value: 0.501).\n",
            "  warnings.warn(\n",
            "/home/vinicius/.local/lib/python3.8/site-packages/sklearn/covariance/_robust_covariance.py:186: RuntimeWarning: Determinant has increased; this should not happen: log(det) > log(previous_det) (193.988067409439424 > 193.983925733077285). You may want to try with a higher value of support_fraction (current value: 0.501).\n",
            "  warnings.warn(\n",
            "/home/vinicius/.local/lib/python3.8/site-packages/sklearn/covariance/_robust_covariance.py:186: RuntimeWarning: Determinant has increased; this should not happen: log(det) > log(previous_det) (194.096637628116412 > 194.075183597902026). You may want to try with a higher value of support_fraction (current value: 0.501).\n",
            "  warnings.warn(\n",
            "/home/vinicius/.local/lib/python3.8/site-packages/sklearn/covariance/_robust_covariance.py:186: RuntimeWarning: Determinant has increased; this should not happen: log(det) > log(previous_det) (193.808760542107365 > 193.801064751073540). You may want to try with a higher value of support_fraction (current value: 0.501).\n",
            "  warnings.warn(\n",
            "/home/vinicius/.local/lib/python3.8/site-packages/sklearn/covariance/_robust_covariance.py:186: RuntimeWarning: Determinant has increased; this should not happen: log(det) > log(previous_det) (193.986388245216204 > 193.972142753557932). You may want to try with a higher value of support_fraction (current value: 0.501).\n",
            "  warnings.warn(\n",
            "/home/vinicius/.local/lib/python3.8/site-packages/sklearn/covariance/_robust_covariance.py:186: RuntimeWarning: Determinant has increased; this should not happen: log(det) > log(previous_det) (193.808760542107365 > 193.801064751073540). You may want to try with a higher value of support_fraction (current value: 0.501).\n",
            "  warnings.warn(\n",
            "/home/vinicius/.local/lib/python3.8/site-packages/sklearn/covariance/_robust_covariance.py:186: RuntimeWarning: Determinant has increased; this should not happen: log(det) > log(previous_det) (193.988067409439424 > 193.983925733077285). You may want to try with a higher value of support_fraction (current value: 0.501).\n",
            "  warnings.warn(\n",
            "/home/vinicius/.local/lib/python3.8/site-packages/sklearn/covariance/_robust_covariance.py:186: RuntimeWarning: Determinant has increased; this should not happen: log(det) > log(previous_det) (194.013442927353196 > 194.010342887643503). You may want to try with a higher value of support_fraction (current value: 0.501).\n",
            "  warnings.warn(\n",
            "/home/vinicius/.local/lib/python3.8/site-packages/sklearn/covariance/_robust_covariance.py:186: RuntimeWarning: Determinant has increased; this should not happen: log(det) > log(previous_det) (193.808760542107365 > 193.801064751073540). You may want to try with a higher value of support_fraction (current value: 0.501).\n",
            "  warnings.warn(\n",
            "/home/vinicius/.local/lib/python3.8/site-packages/sklearn/covariance/_robust_covariance.py:186: RuntimeWarning: Determinant has increased; this should not happen: log(det) > log(previous_det) (193.808760542107365 > 193.801064751073540). You may want to try with a higher value of support_fraction (current value: 0.501).\n",
            "  warnings.warn(\n",
            "/home/vinicius/.local/lib/python3.8/site-packages/sklearn/covariance/_robust_covariance.py:186: RuntimeWarning: Determinant has increased; this should not happen: log(det) > log(previous_det) (193.949268415898729 > 193.933782059697307). You may want to try with a higher value of support_fraction (current value: 0.501).\n",
            "  warnings.warn(\n",
            "/home/vinicius/.local/lib/python3.8/site-packages/sklearn/covariance/_robust_covariance.py:186: RuntimeWarning: Determinant has increased; this should not happen: log(det) > log(previous_det) (193.949268415898729 > 193.933782059697307). You may want to try with a higher value of support_fraction (current value: 0.501).\n",
            "  warnings.warn(\n",
            "/home/vinicius/.local/lib/python3.8/site-packages/sklearn/covariance/_robust_covariance.py:186: RuntimeWarning: Determinant has increased; this should not happen: log(det) > log(previous_det) (193.950916267615128 > 193.940934717358545). You may want to try with a higher value of support_fraction (current value: 0.501).\n",
            "  warnings.warn(\n",
            "/home/vinicius/.local/lib/python3.8/site-packages/sklearn/covariance/_robust_covariance.py:186: RuntimeWarning: Determinant has increased; this should not happen: log(det) > log(previous_det) (193.770864375669760 > 193.760600256513840). You may want to try with a higher value of support_fraction (current value: 0.501).\n",
            "  warnings.warn(\n",
            "/home/vinicius/.local/lib/python3.8/site-packages/sklearn/covariance/_robust_covariance.py:186: RuntimeWarning: Determinant has increased; this should not happen: log(det) > log(previous_det) (193.804323413482365 > 193.786367113537466). You may want to try with a higher value of support_fraction (current value: 0.501).\n",
            "  warnings.warn(\n",
            "/home/vinicius/.local/lib/python3.8/site-packages/sklearn/covariance/_robust_covariance.py:186: RuntimeWarning: Determinant has increased; this should not happen: log(det) > log(previous_det) (193.770864375669760 > 193.760600256513840). You may want to try with a higher value of support_fraction (current value: 0.501).\n",
            "  warnings.warn(\n",
            "/home/vinicius/.local/lib/python3.8/site-packages/sklearn/covariance/_robust_covariance.py:186: RuntimeWarning: Determinant has increased; this should not happen: log(det) > log(previous_det) (193.949268415898729 > 193.933782059697307). You may want to try with a higher value of support_fraction (current value: 0.501).\n",
            "  warnings.warn(\n",
            "/home/vinicius/.local/lib/python3.8/site-packages/sklearn/covariance/_robust_covariance.py:186: RuntimeWarning: Determinant has increased; this should not happen: log(det) > log(previous_det) (193.770864375669760 > 193.760600256513840). You may want to try with a higher value of support_fraction (current value: 0.501).\n",
            "  warnings.warn(\n",
            "/home/vinicius/.local/lib/python3.8/site-packages/sklearn/covariance/_robust_covariance.py:186: RuntimeWarning: Determinant has increased; this should not happen: log(det) > log(previous_det) (193.770864375669760 > 193.760600256513840). You may want to try with a higher value of support_fraction (current value: 0.501).\n",
            "  warnings.warn(\n",
            "/home/vinicius/.local/lib/python3.8/site-packages/sklearn/covariance/_robust_covariance.py:186: RuntimeWarning: Determinant has increased; this should not happen: log(det) > log(previous_det) (193.949268415898729 > 193.925243730928059). You may want to try with a higher value of support_fraction (current value: 0.501).\n",
            "  warnings.warn(\n",
            "/home/vinicius/.local/lib/python3.8/site-packages/sklearn/covariance/_robust_covariance.py:186: RuntimeWarning: Determinant has increased; this should not happen: log(det) > log(previous_det) (194.108824388848745 > 194.094055487276336). You may want to try with a higher value of support_fraction (current value: 0.501).\n",
            "  warnings.warn(\n",
            "/home/vinicius/.local/lib/python3.8/site-packages/sklearn/covariance/_robust_covariance.py:186: RuntimeWarning: Determinant has increased; this should not happen: log(det) > log(previous_det) (194.112927026978156 > 194.103618458506617). You may want to try with a higher value of support_fraction (current value: 0.501).\n",
            "  warnings.warn(\n",
            "/home/vinicius/.local/lib/python3.8/site-packages/sklearn/covariance/_robust_covariance.py:186: RuntimeWarning: Determinant has increased; this should not happen: log(det) > log(previous_det) (194.113731361467359 > 194.062742064653378). You may want to try with a higher value of support_fraction (current value: 0.501).\n",
            "  warnings.warn(\n",
            "/home/vinicius/.local/lib/python3.8/site-packages/sklearn/covariance/_robust_covariance.py:186: RuntimeWarning: Determinant has increased; this should not happen: log(det) > log(previous_det) (194.036644866139113 > 194.033635456504044). You may want to try with a higher value of support_fraction (current value: 0.501).\n",
            "  warnings.warn(\n",
            "/home/vinicius/.local/lib/python3.8/site-packages/sklearn/covariance/_robust_covariance.py:186: RuntimeWarning: Determinant has increased; this should not happen: log(det) > log(previous_det) (194.113731361467359 > 194.057636416061541). You may want to try with a higher value of support_fraction (current value: 0.501).\n",
            "  warnings.warn(\n",
            "/home/vinicius/.local/lib/python3.8/site-packages/sklearn/covariance/_robust_covariance.py:186: RuntimeWarning: Determinant has increased; this should not happen: log(det) > log(previous_det) (194.056496580014311 > 194.050955193763144). You may want to try with a higher value of support_fraction (current value: 0.501).\n",
            "  warnings.warn(\n",
            "/home/vinicius/.local/lib/python3.8/site-packages/sklearn/covariance/_robust_covariance.py:186: RuntimeWarning: Determinant has increased; this should not happen: log(det) > log(previous_det) (194.094466048915905 > 194.080943669904428). You may want to try with a higher value of support_fraction (current value: 0.501).\n",
            "  warnings.warn(\n",
            "/home/vinicius/.local/lib/python3.8/site-packages/sklearn/covariance/_robust_covariance.py:186: RuntimeWarning: Determinant has increased; this should not happen: log(det) > log(previous_det) (194.019920102593744 > 194.001273812414553). You may want to try with a higher value of support_fraction (current value: 0.501).\n",
            "  warnings.warn(\n",
            "/home/vinicius/.local/lib/python3.8/site-packages/sklearn/covariance/_robust_covariance.py:186: RuntimeWarning: Determinant has increased; this should not happen: log(det) > log(previous_det) (194.012219517616501 > 194.004558480966978). You may want to try with a higher value of support_fraction (current value: 0.501).\n",
            "  warnings.warn(\n",
            "/home/vinicius/.local/lib/python3.8/site-packages/sklearn/covariance/_robust_covariance.py:186: RuntimeWarning: Determinant has increased; this should not happen: log(det) > log(previous_det) (194.058358247647732 > 194.041184484078173). You may want to try with a higher value of support_fraction (current value: 0.501).\n",
            "  warnings.warn(\n",
            "/home/vinicius/.local/lib/python3.8/site-packages/sklearn/covariance/_robust_covariance.py:186: RuntimeWarning: Determinant has increased; this should not happen: log(det) > log(previous_det) (193.962325868268351 > 193.957910004527918). You may want to try with a higher value of support_fraction (current value: 0.501).\n",
            "  warnings.warn(\n",
            "/home/vinicius/.local/lib/python3.8/site-packages/sklearn/covariance/_robust_covariance.py:186: RuntimeWarning: Determinant has increased; this should not happen: log(det) > log(previous_det) (193.808760542107365 > 193.801064751073540). You may want to try with a higher value of support_fraction (current value: 0.501).\n",
            "  warnings.warn(\n",
            "/home/vinicius/.local/lib/python3.8/site-packages/sklearn/covariance/_robust_covariance.py:186: RuntimeWarning: Determinant has increased; this should not happen: log(det) > log(previous_det) (193.976984829942182 > 193.967788324783498). You may want to try with a higher value of support_fraction (current value: 0.501).\n",
            "  warnings.warn(\n",
            "/home/vinicius/.local/lib/python3.8/site-packages/sklearn/covariance/_robust_covariance.py:186: RuntimeWarning: Determinant has increased; this should not happen: log(det) > log(previous_det) (193.955311761087984 > 193.943179470984632). You may want to try with a higher value of support_fraction (current value: 0.501).\n",
            "  warnings.warn(\n",
            "/home/vinicius/.local/lib/python3.8/site-packages/sklearn/covariance/_robust_covariance.py:186: RuntimeWarning: Determinant has increased; this should not happen: log(det) > log(previous_det) (194.039308380826270 > 194.032852142098193). You may want to try with a higher value of support_fraction (current value: 0.501).\n",
            "  warnings.warn(\n",
            "/home/vinicius/.local/lib/python3.8/site-packages/sklearn/covariance/_robust_covariance.py:186: RuntimeWarning: Determinant has increased; this should not happen: log(det) > log(previous_det) (194.038926201819919 > 194.024356478604233). You may want to try with a higher value of support_fraction (current value: 0.501).\n",
            "  warnings.warn(\n",
            "/home/vinicius/.local/lib/python3.8/site-packages/sklearn/covariance/_robust_covariance.py:186: RuntimeWarning: Determinant has increased; this should not happen: log(det) > log(previous_det) (193.997245666839092 > 193.984250611040920). You may want to try with a higher value of support_fraction (current value: 0.501).\n",
            "  warnings.warn(\n",
            "/home/vinicius/.local/lib/python3.8/site-packages/sklearn/covariance/_robust_covariance.py:186: RuntimeWarning: Determinant has increased; this should not happen: log(det) > log(previous_det) (194.043748063002909 > 194.009980580156594). You may want to try with a higher value of support_fraction (current value: 0.501).\n",
            "  warnings.warn(\n",
            "/home/vinicius/.local/lib/python3.8/site-packages/sklearn/covariance/_robust_covariance.py:186: RuntimeWarning: Determinant has increased; this should not happen: log(det) > log(previous_det) (194.047622056682201 > 194.014363735237254). You may want to try with a higher value of support_fraction (current value: 0.501).\n",
            "  warnings.warn(\n",
            "/home/vinicius/.local/lib/python3.8/site-packages/sklearn/covariance/_robust_covariance.py:186: RuntimeWarning: Determinant has increased; this should not happen: log(det) > log(previous_det) (194.017644741089612 > 193.990981200882487). You may want to try with a higher value of support_fraction (current value: 0.501).\n",
            "  warnings.warn(\n",
            "/home/vinicius/.local/lib/python3.8/site-packages/sklearn/covariance/_robust_covariance.py:186: RuntimeWarning: Determinant has increased; this should not happen: log(det) > log(previous_det) (193.805197375923939 > 193.801869314931537). You may want to try with a higher value of support_fraction (current value: 0.501).\n",
            "  warnings.warn(\n",
            "/home/vinicius/.local/lib/python3.8/site-packages/sklearn/covariance/_robust_covariance.py:186: RuntimeWarning: Determinant has increased; this should not happen: log(det) > log(previous_det) (193.929577412700183 > 193.919728536490084). You may want to try with a higher value of support_fraction (current value: 0.501).\n",
            "  warnings.warn(\n",
            "/home/vinicius/.local/lib/python3.8/site-packages/sklearn/covariance/_robust_covariance.py:186: RuntimeWarning: Determinant has increased; this should not happen: log(det) > log(previous_det) (193.948304608255853 > 193.943635167160068). You may want to try with a higher value of support_fraction (current value: 0.501).\n",
            "  warnings.warn(\n",
            "/home/vinicius/.local/lib/python3.8/site-packages/sklearn/covariance/_robust_covariance.py:186: RuntimeWarning: Determinant has increased; this should not happen: log(det) > log(previous_det) (193.917521788104494 > 193.807881989678066). You may want to try with a higher value of support_fraction (current value: 0.501).\n",
            "  warnings.warn(\n",
            "/home/vinicius/.local/lib/python3.8/site-packages/sklearn/covariance/_robust_covariance.py:186: RuntimeWarning: Determinant has increased; this should not happen: log(det) > log(previous_det) (193.947412954746028 > 193.934717946675363). You may want to try with a higher value of support_fraction (current value: 0.501).\n",
            "  warnings.warn(\n",
            "/home/vinicius/.local/lib/python3.8/site-packages/sklearn/covariance/_robust_covariance.py:186: RuntimeWarning: Determinant has increased; this should not happen: log(det) > log(previous_det) (193.961848847937006 > 193.939456055684843). You may want to try with a higher value of support_fraction (current value: 0.501).\n",
            "  warnings.warn(\n",
            "/home/vinicius/.local/lib/python3.8/site-packages/sklearn/covariance/_robust_covariance.py:186: RuntimeWarning: Determinant has increased; this should not happen: log(det) > log(previous_det) (193.803621876540859 > 193.768295166104963). You may want to try with a higher value of support_fraction (current value: 0.501).\n",
            "  warnings.warn(\n",
            "/home/vinicius/.local/lib/python3.8/site-packages/sklearn/covariance/_robust_covariance.py:186: RuntimeWarning: Determinant has increased; this should not happen: log(det) > log(previous_det) (194.026943562151871 > 194.007532760149900). You may want to try with a higher value of support_fraction (current value: 0.501).\n",
            "  warnings.warn(\n",
            "/home/vinicius/.local/lib/python3.8/site-packages/sklearn/covariance/_robust_covariance.py:186: RuntimeWarning: Determinant has increased; this should not happen: log(det) > log(previous_det) (193.949706911262496 > 193.943525141731755). You may want to try with a higher value of support_fraction (current value: 0.501).\n",
            "  warnings.warn(\n",
            "/home/vinicius/.local/lib/python3.8/site-packages/sklearn/covariance/_robust_covariance.py:186: RuntimeWarning: Determinant has increased; this should not happen: log(det) > log(previous_det) (193.950622339456629 > 193.930523223760019). You may want to try with a higher value of support_fraction (current value: 0.501).\n",
            "  warnings.warn(\n",
            "/home/vinicius/.local/lib/python3.8/site-packages/sklearn/covariance/_robust_covariance.py:186: RuntimeWarning: Determinant has increased; this should not happen: log(det) > log(previous_det) (193.774492235699796 > 193.772098357510288). You may want to try with a higher value of support_fraction (current value: 0.501).\n",
            "  warnings.warn(\n",
            "/home/vinicius/.local/lib/python3.8/site-packages/sklearn/covariance/_robust_covariance.py:186: RuntimeWarning: Determinant has increased; this should not happen: log(det) > log(previous_det) (193.808760542107365 > 193.793038570929497). You may want to try with a higher value of support_fraction (current value: 0.501).\n",
            "  warnings.warn(\n",
            "/home/vinicius/.local/lib/python3.8/site-packages/sklearn/covariance/_robust_covariance.py:186: RuntimeWarning: Determinant has increased; this should not happen: log(det) > log(previous_det) (193.806715747189429 > 193.801030446903070). You may want to try with a higher value of support_fraction (current value: 0.501).\n",
            "  warnings.warn(\n",
            "/home/vinicius/.local/lib/python3.8/site-packages/sklearn/covariance/_robust_covariance.py:186: RuntimeWarning: Determinant has increased; this should not happen: log(det) > log(previous_det) (194.056246431154278 > 194.033353827539202). You may want to try with a higher value of support_fraction (current value: 0.501).\n",
            "  warnings.warn(\n",
            "/home/vinicius/.local/lib/python3.8/site-packages/sklearn/covariance/_robust_covariance.py:186: RuntimeWarning: Determinant has increased; this should not happen: log(det) > log(previous_det) (193.774492235699796 > 193.772098357510288). You may want to try with a higher value of support_fraction (current value: 0.501).\n",
            "  warnings.warn(\n",
            "/home/vinicius/.local/lib/python3.8/site-packages/sklearn/covariance/_robust_covariance.py:186: RuntimeWarning: Determinant has increased; this should not happen: log(det) > log(previous_det) (194.036069836652757 > 194.010864903843952). You may want to try with a higher value of support_fraction (current value: 0.501).\n",
            "  warnings.warn(\n",
            "/home/vinicius/.local/lib/python3.8/site-packages/sklearn/covariance/_robust_covariance.py:186: RuntimeWarning: Determinant has increased; this should not happen: log(det) > log(previous_det) (193.808760542107365 > 193.793038570929497). You may want to try with a higher value of support_fraction (current value: 0.501).\n",
            "  warnings.warn(\n",
            "/home/vinicius/.local/lib/python3.8/site-packages/sklearn/covariance/_robust_covariance.py:186: RuntimeWarning: Determinant has increased; this should not happen: log(det) > log(previous_det) (193.803621876540859 > 193.801341779288521). You may want to try with a higher value of support_fraction (current value: 0.501).\n",
            "  warnings.warn(\n",
            "/home/vinicius/.local/lib/python3.8/site-packages/sklearn/covariance/_robust_covariance.py:186: RuntimeWarning: Determinant has increased; this should not happen: log(det) > log(previous_det) (193.802949509523472 > 193.798072049936707). You may want to try with a higher value of support_fraction (current value: 0.501).\n",
            "  warnings.warn(\n",
            "/home/vinicius/.local/lib/python3.8/site-packages/sklearn/covariance/_robust_covariance.py:186: RuntimeWarning: Determinant has increased; this should not happen: log(det) > log(previous_det) (193.954068939046124 > 193.949833987941787). You may want to try with a higher value of support_fraction (current value: 0.501).\n",
            "  warnings.warn(\n",
            "/home/vinicius/.local/lib/python3.8/site-packages/sklearn/covariance/_robust_covariance.py:186: RuntimeWarning: Determinant has increased; this should not happen: log(det) > log(previous_det) (194.038373015286737 > 194.036168376748662). You may want to try with a higher value of support_fraction (current value: 0.501).\n",
            "  warnings.warn(\n",
            "/home/vinicius/.local/lib/python3.8/site-packages/sklearn/covariance/_robust_covariance.py:186: RuntimeWarning: Determinant has increased; this should not happen: log(det) > log(previous_det) (193.813562694236765 > 193.788532654227907). You may want to try with a higher value of support_fraction (current value: 0.501).\n",
            "  warnings.warn(\n",
            "/home/vinicius/.local/lib/python3.8/site-packages/sklearn/covariance/_robust_covariance.py:186: RuntimeWarning: Determinant has increased; this should not happen: log(det) > log(previous_det) (193.937778951619094 > 193.927324724573793). You may want to try with a higher value of support_fraction (current value: 0.501).\n",
            "  warnings.warn(\n",
            "/home/vinicius/.local/lib/python3.8/site-packages/sklearn/covariance/_robust_covariance.py:186: RuntimeWarning: Determinant has increased; this should not happen: log(det) > log(previous_det) (193.768088374949258 > 193.763609984575425). You may want to try with a higher value of support_fraction (current value: 0.501).\n",
            "  warnings.warn(\n",
            "/home/vinicius/.local/lib/python3.8/site-packages/sklearn/covariance/_robust_covariance.py:186: RuntimeWarning: Determinant has increased; this should not happen: log(det) > log(previous_det) (193.950095401241867 > 193.940735485599305). You may want to try with a higher value of support_fraction (current value: 0.501).\n",
            "  warnings.warn(\n",
            "/home/vinicius/.local/lib/python3.8/site-packages/sklearn/covariance/_robust_covariance.py:186: RuntimeWarning: Determinant has increased; this should not happen: log(det) > log(previous_det) (193.945332720935710 > 193.931879445538158). You may want to try with a higher value of support_fraction (current value: 0.501).\n",
            "  warnings.warn(\n",
            "/home/vinicius/.local/lib/python3.8/site-packages/sklearn/covariance/_robust_covariance.py:186: RuntimeWarning: Determinant has increased; this should not happen: log(det) > log(previous_det) (193.943634207230588 > 193.927037136455994). You may want to try with a higher value of support_fraction (current value: 0.501).\n",
            "  warnings.warn(\n",
            "/home/vinicius/.local/lib/python3.8/site-packages/sklearn/covariance/_robust_covariance.py:186: RuntimeWarning: Determinant has increased; this should not happen: log(det) > log(previous_det) (193.770864375669760 > 193.760600256513840). You may want to try with a higher value of support_fraction (current value: 0.501).\n",
            "  warnings.warn(\n",
            "/home/vinicius/.local/lib/python3.8/site-packages/sklearn/covariance/_robust_covariance.py:186: RuntimeWarning: Determinant has increased; this should not happen: log(det) > log(previous_det) (193.764793563077376 > 193.662365952098838). You may want to try with a higher value of support_fraction (current value: 0.501).\n",
            "  warnings.warn(\n",
            "/home/vinicius/.local/lib/python3.8/site-packages/sklearn/covariance/_robust_covariance.py:186: RuntimeWarning: Determinant has increased; this should not happen: log(det) > log(previous_det) (193.945527001431230 > 193.941977272430279). You may want to try with a higher value of support_fraction (current value: 0.501).\n",
            "  warnings.warn(\n",
            "/home/vinicius/.local/lib/python3.8/site-packages/sklearn/covariance/_robust_covariance.py:186: RuntimeWarning: Determinant has increased; this should not happen: log(det) > log(previous_det) (194.012963077294813 > 193.989179866914242). You may want to try with a higher value of support_fraction (current value: 0.501).\n",
            "  warnings.warn(\n",
            "/home/vinicius/.local/lib/python3.8/site-packages/sklearn/covariance/_robust_covariance.py:186: RuntimeWarning: Determinant has increased; this should not happen: log(det) > log(previous_det) (193.952546701970959 > 193.939862569498160). You may want to try with a higher value of support_fraction (current value: 0.501).\n",
            "  warnings.warn(\n",
            "/home/vinicius/.local/lib/python3.8/site-packages/sklearn/covariance/_robust_covariance.py:186: RuntimeWarning: Determinant has increased; this should not happen: log(det) > log(previous_det) (193.936944935606732 > 193.919436350649050). You may want to try with a higher value of support_fraction (current value: 0.501).\n",
            "  warnings.warn(\n",
            "/home/vinicius/.local/lib/python3.8/site-packages/sklearn/covariance/_robust_covariance.py:186: RuntimeWarning: Determinant has increased; this should not happen: log(det) > log(previous_det) (193.783725084600320 > 193.743792038845527). You may want to try with a higher value of support_fraction (current value: 0.501).\n",
            "  warnings.warn(\n",
            "/home/vinicius/.local/lib/python3.8/site-packages/sklearn/covariance/_robust_covariance.py:186: RuntimeWarning: Determinant has increased; this should not happen: log(det) > log(previous_det) (193.958741504608781 > 193.954432475533878). You may want to try with a higher value of support_fraction (current value: 0.501).\n",
            "  warnings.warn(\n",
            "/home/vinicius/.local/lib/python3.8/site-packages/sklearn/covariance/_robust_covariance.py:186: RuntimeWarning: Determinant has increased; this should not happen: log(det) > log(previous_det) (193.981519872304688 > 193.945361476040858). You may want to try with a higher value of support_fraction (current value: 0.501).\n",
            "  warnings.warn(\n",
            "/home/vinicius/.local/lib/python3.8/site-packages/sklearn/covariance/_robust_covariance.py:186: RuntimeWarning: Determinant has increased; this should not happen: log(det) > log(previous_det) (193.802949509523472 > 193.798072049936707). You may want to try with a higher value of support_fraction (current value: 0.501).\n",
            "  warnings.warn(\n",
            "/home/vinicius/.local/lib/python3.8/site-packages/sklearn/covariance/_robust_covariance.py:186: RuntimeWarning: Determinant has increased; this should not happen: log(det) > log(previous_det) (193.792250848809715 > 193.788697032835415). You may want to try with a higher value of support_fraction (current value: 0.501).\n",
            "  warnings.warn(\n",
            "/home/vinicius/.local/lib/python3.8/site-packages/sklearn/covariance/_robust_covariance.py:186: RuntimeWarning: Determinant has increased; this should not happen: log(det) > log(previous_det) (194.061792779773896 > 194.020271863600698). You may want to try with a higher value of support_fraction (current value: 0.501).\n",
            "  warnings.warn(\n",
            "/home/vinicius/.local/lib/python3.8/site-packages/sklearn/covariance/_robust_covariance.py:186: RuntimeWarning: Determinant has increased; this should not happen: log(det) > log(previous_det) (193.808760542107365 > 193.793038570929497). You may want to try with a higher value of support_fraction (current value: 0.501).\n",
            "  warnings.warn(\n",
            "/home/vinicius/.local/lib/python3.8/site-packages/sklearn/covariance/_robust_covariance.py:186: RuntimeWarning: Determinant has increased; this should not happen: log(det) > log(previous_det) (194.042706574344066 > 193.992331817105878). You may want to try with a higher value of support_fraction (current value: 0.501).\n",
            "  warnings.warn(\n",
            "/home/vinicius/.local/lib/python3.8/site-packages/sklearn/covariance/_robust_covariance.py:186: RuntimeWarning: Determinant has increased; this should not happen: log(det) > log(previous_det) (194.064913767702819 > 194.050863485121312). You may want to try with a higher value of support_fraction (current value: 0.501).\n",
            "  warnings.warn(\n",
            "/home/vinicius/.local/lib/python3.8/site-packages/sklearn/covariance/_robust_covariance.py:186: RuntimeWarning: Determinant has increased; this should not happen: log(det) > log(previous_det) (194.054910532286016 > 194.003772604851008). You may want to try with a higher value of support_fraction (current value: 0.501).\n",
            "  warnings.warn(\n",
            "/home/vinicius/.local/lib/python3.8/site-packages/sklearn/covariance/_robust_covariance.py:186: RuntimeWarning: Determinant has increased; this should not happen: log(det) > log(previous_det) (194.092269478847015 > 194.013463248212133). You may want to try with a higher value of support_fraction (current value: 0.501).\n",
            "  warnings.warn(\n",
            "/home/vinicius/.local/lib/python3.8/site-packages/sklearn/covariance/_robust_covariance.py:186: RuntimeWarning: Determinant has increased; this should not happen: log(det) > log(previous_det) (193.988067409439424 > 193.983925733077285). You may want to try with a higher value of support_fraction (current value: 0.501).\n",
            "  warnings.warn(\n",
            "/home/vinicius/.local/lib/python3.8/site-packages/sklearn/covariance/_robust_covariance.py:186: RuntimeWarning: Determinant has increased; this should not happen: log(det) > log(previous_det) (194.075990465910564 > 194.020251208376663). You may want to try with a higher value of support_fraction (current value: 0.501).\n",
            "  warnings.warn(\n",
            "/home/vinicius/.local/lib/python3.8/site-packages/sklearn/covariance/_robust_covariance.py:186: RuntimeWarning: Determinant has increased; this should not happen: log(det) > log(previous_det) (194.073572393917686 > 194.071295767889694). You may want to try with a higher value of support_fraction (current value: 0.501).\n",
            "  warnings.warn(\n",
            "/home/vinicius/.local/lib/python3.8/site-packages/sklearn/covariance/_robust_covariance.py:186: RuntimeWarning: Determinant has increased; this should not happen: log(det) > log(previous_det) (193.956897920928412 > 193.948816373917168). You may want to try with a higher value of support_fraction (current value: 0.501).\n",
            "  warnings.warn(\n",
            "/home/vinicius/.local/lib/python3.8/site-packages/sklearn/covariance/_robust_covariance.py:186: RuntimeWarning: Determinant has increased; this should not happen: log(det) > log(previous_det) (194.055644153716514 > 194.049604466388246). You may want to try with a higher value of support_fraction (current value: 0.501).\n",
            "  warnings.warn(\n",
            "/home/vinicius/.local/lib/python3.8/site-packages/sklearn/covariance/_robust_covariance.py:186: RuntimeWarning: Determinant has increased; this should not happen: log(det) > log(previous_det) (194.042564860804703 > 194.021991714545550). You may want to try with a higher value of support_fraction (current value: 0.501).\n",
            "  warnings.warn(\n",
            "/home/vinicius/.local/lib/python3.8/site-packages/sklearn/covariance/_robust_covariance.py:186: RuntimeWarning: Determinant has increased; this should not happen: log(det) > log(previous_det) (194.032676034286567 > 194.015371150132921). You may want to try with a higher value of support_fraction (current value: 0.501).\n",
            "  warnings.warn(\n",
            "/home/vinicius/.local/lib/python3.8/site-packages/sklearn/covariance/_robust_covariance.py:186: RuntimeWarning: Determinant has increased; this should not happen: log(det) > log(previous_det) (193.960688606711273 > 193.942791078662907). You may want to try with a higher value of support_fraction (current value: 0.501).\n",
            "  warnings.warn(\n",
            "/home/vinicius/.local/lib/python3.8/site-packages/sklearn/covariance/_robust_covariance.py:186: RuntimeWarning: Determinant has increased; this should not happen: log(det) > log(previous_det) (194.061746322903502 > 194.052527008107148). You may want to try with a higher value of support_fraction (current value: 0.501).\n",
            "  warnings.warn(\n",
            "/home/vinicius/.local/lib/python3.8/site-packages/sklearn/covariance/_robust_covariance.py:186: RuntimeWarning: Determinant has increased; this should not happen: log(det) > log(previous_det) (193.808760542107365 > 193.793038570929497). You may want to try with a higher value of support_fraction (current value: 0.501).\n",
            "  warnings.warn(\n",
            "/home/vinicius/.local/lib/python3.8/site-packages/sklearn/covariance/_robust_covariance.py:186: RuntimeWarning: Determinant has increased; this should not happen: log(det) > log(previous_det) (194.026726984531308 > 194.009186010357496). You may want to try with a higher value of support_fraction (current value: 0.501).\n",
            "  warnings.warn(\n",
            "/home/vinicius/.local/lib/python3.8/site-packages/sklearn/covariance/_robust_covariance.py:186: RuntimeWarning: Determinant has increased; this should not happen: log(det) > log(previous_det) (194.022951631068707 > 194.018331393492872). You may want to try with a higher value of support_fraction (current value: 0.501).\n",
            "  warnings.warn(\n",
            "/home/vinicius/.local/lib/python3.8/site-packages/sklearn/covariance/_robust_covariance.py:186: RuntimeWarning: Determinant has increased; this should not happen: log(det) > log(previous_det) (194.005898049273810 > 194.001707314861846). You may want to try with a higher value of support_fraction (current value: 0.501).\n",
            "  warnings.warn(\n",
            "/home/vinicius/.local/lib/python3.8/site-packages/sklearn/covariance/_robust_covariance.py:186: RuntimeWarning: Determinant has increased; this should not happen: log(det) > log(previous_det) (194.047206694278884 > 194.000806076351637). You may want to try with a higher value of support_fraction (current value: 0.501).\n",
            "  warnings.warn(\n",
            "/home/vinicius/.local/lib/python3.8/site-packages/sklearn/covariance/_robust_covariance.py:186: RuntimeWarning: Determinant has increased; this should not happen: log(det) > log(previous_det) (193.973518170327651 > 193.957681582129254). You may want to try with a higher value of support_fraction (current value: 0.501).\n",
            "  warnings.warn(\n",
            "/home/vinicius/.local/lib/python3.8/site-packages/sklearn/covariance/_robust_covariance.py:186: RuntimeWarning: Determinant has increased; this should not happen: log(det) > log(previous_det) (194.092983897553864 > 194.087859519355845). You may want to try with a higher value of support_fraction (current value: 0.501).\n",
            "  warnings.warn(\n",
            "/home/vinicius/.local/lib/python3.8/site-packages/sklearn/covariance/_robust_covariance.py:186: RuntimeWarning: Determinant has increased; this should not happen: log(det) > log(previous_det) (194.021608273897499 > 194.006684247151043). You may want to try with a higher value of support_fraction (current value: 0.501).\n",
            "  warnings.warn(\n",
            "/home/vinicius/.local/lib/python3.8/site-packages/sklearn/covariance/_robust_covariance.py:186: RuntimeWarning: Determinant has increased; this should not happen: log(det) > log(previous_det) (194.045974977516323 > 194.043824738736220). You may want to try with a higher value of support_fraction (current value: 0.501).\n",
            "  warnings.warn(\n",
            "/home/vinicius/.local/lib/python3.8/site-packages/sklearn/covariance/_robust_covariance.py:186: RuntimeWarning: Determinant has increased; this should not happen: log(det) > log(previous_det) (194.026309271294082 > 194.022587786464243). You may want to try with a higher value of support_fraction (current value: 0.501).\n",
            "  warnings.warn(\n",
            "/home/vinicius/.local/lib/python3.8/site-packages/sklearn/covariance/_robust_covariance.py:186: RuntimeWarning: Determinant has increased; this should not happen: log(det) > log(previous_det) (194.072568083366207 > 194.048360882594011). You may want to try with a higher value of support_fraction (current value: 0.501).\n",
            "  warnings.warn(\n",
            "/home/vinicius/.local/lib/python3.8/site-packages/sklearn/covariance/_robust_covariance.py:186: RuntimeWarning: Determinant has increased; this should not happen: log(det) > log(previous_det) (194.101518420856422 > 194.044690746431144). You may want to try with a higher value of support_fraction (current value: 0.501).\n",
            "  warnings.warn(\n",
            "/home/vinicius/.local/lib/python3.8/site-packages/sklearn/covariance/_robust_covariance.py:186: RuntimeWarning: Determinant has increased; this should not happen: log(det) > log(previous_det) (194.065684302353787 > 194.063072346631003). You may want to try with a higher value of support_fraction (current value: 0.501).\n",
            "  warnings.warn(\n",
            "/home/vinicius/.local/lib/python3.8/site-packages/sklearn/covariance/_robust_covariance.py:186: RuntimeWarning: Determinant has increased; this should not happen: log(det) > log(previous_det) (194.108570732943974 > 194.081014003111676). You may want to try with a higher value of support_fraction (current value: 0.501).\n",
            "  warnings.warn(\n",
            "/home/vinicius/.local/lib/python3.8/site-packages/sklearn/covariance/_robust_covariance.py:186: RuntimeWarning: Determinant has increased; this should not happen: log(det) > log(previous_det) (194.084832266720952 > 194.038560278712168). You may want to try with a higher value of support_fraction (current value: 0.501).\n",
            "  warnings.warn(\n",
            "/home/vinicius/.local/lib/python3.8/site-packages/sklearn/covariance/_robust_covariance.py:186: RuntimeWarning: Determinant has increased; this should not happen: log(det) > log(previous_det) (194.101323452637246 > 194.075506526641902). You may want to try with a higher value of support_fraction (current value: 0.501).\n",
            "  warnings.warn(\n",
            "/home/vinicius/.local/lib/python3.8/site-packages/sklearn/covariance/_robust_covariance.py:186: RuntimeWarning: Determinant has increased; this should not happen: log(det) > log(previous_det) (194.050759490000416 > 194.013791357513156). You may want to try with a higher value of support_fraction (current value: 0.501).\n",
            "  warnings.warn(\n",
            "/home/vinicius/.local/lib/python3.8/site-packages/sklearn/covariance/_robust_covariance.py:186: RuntimeWarning: Determinant has increased; this should not happen: log(det) > log(previous_det) (194.096337085172593 > 194.040701784618363). You may want to try with a higher value of support_fraction (current value: 0.501).\n",
            "  warnings.warn(\n",
            "/home/vinicius/.local/lib/python3.8/site-packages/sklearn/covariance/_robust_covariance.py:186: RuntimeWarning: Determinant has increased; this should not happen: log(det) > log(previous_det) (194.071764000173459 > 194.060876404132785). You may want to try with a higher value of support_fraction (current value: 0.501).\n",
            "  warnings.warn(\n",
            "/home/vinicius/.local/lib/python3.8/site-packages/sklearn/covariance/_robust_covariance.py:186: RuntimeWarning: Determinant has increased; this should not happen: log(det) > log(previous_det) (194.093179192821509 > 194.083845220463900). You may want to try with a higher value of support_fraction (current value: 0.501).\n",
            "  warnings.warn(\n",
            "/home/vinicius/.local/lib/python3.8/site-packages/sklearn/covariance/_robust_covariance.py:186: RuntimeWarning: Determinant has increased; this should not happen: log(det) > log(previous_det) (194.077647556012778 > 194.050061481295927). You may want to try with a higher value of support_fraction (current value: 0.501).\n",
            "  warnings.warn(\n",
            "/home/vinicius/.local/lib/python3.8/site-packages/sklearn/covariance/_robust_covariance.py:186: RuntimeWarning: Determinant has increased; this should not happen: log(det) > log(previous_det) (193.808760542107365 > 193.793038570929497). You may want to try with a higher value of support_fraction (current value: 0.501).\n",
            "  warnings.warn(\n",
            "/home/vinicius/.local/lib/python3.8/site-packages/sklearn/covariance/_robust_covariance.py:186: RuntimeWarning: Determinant has increased; this should not happen: log(det) > log(previous_det) (193.776978490980213 > 193.771870099165284). You may want to try with a higher value of support_fraction (current value: 0.501).\n",
            "  warnings.warn(\n",
            "/home/vinicius/.local/lib/python3.8/site-packages/sklearn/covariance/_robust_covariance.py:186: RuntimeWarning: Determinant has increased; this should not happen: log(det) > log(previous_det) (193.768088374949258 > 193.763609984575425). You may want to try with a higher value of support_fraction (current value: 0.501).\n",
            "  warnings.warn(\n",
            "/home/vinicius/.local/lib/python3.8/site-packages/sklearn/covariance/_robust_covariance.py:186: RuntimeWarning: Determinant has increased; this should not happen: log(det) > log(previous_det) (193.802949509523472 > 193.798072049936707). You may want to try with a higher value of support_fraction (current value: 0.501).\n",
            "  warnings.warn(\n",
            "/home/vinicius/.local/lib/python3.8/site-packages/sklearn/covariance/_robust_covariance.py:186: RuntimeWarning: Determinant has increased; this should not happen: log(det) > log(previous_det) (193.937960772125876 > 193.923052730970085). You may want to try with a higher value of support_fraction (current value: 0.501).\n",
            "  warnings.warn(\n",
            "/home/vinicius/.local/lib/python3.8/site-packages/sklearn/covariance/_robust_covariance.py:186: RuntimeWarning: Determinant has increased; this should not happen: log(det) > log(previous_det) (193.808760542107365 > 193.793038570929497). You may want to try with a higher value of support_fraction (current value: 0.501).\n",
            "  warnings.warn(\n",
            "/home/vinicius/.local/lib/python3.8/site-packages/sklearn/covariance/_robust_covariance.py:186: RuntimeWarning: Determinant has increased; this should not happen: log(det) > log(previous_det) (193.808760542107365 > 193.793038570929497). You may want to try with a higher value of support_fraction (current value: 0.501).\n",
            "  warnings.warn(\n",
            "/home/vinicius/.local/lib/python3.8/site-packages/sklearn/covariance/_robust_covariance.py:186: RuntimeWarning: Determinant has increased; this should not happen: log(det) > log(previous_det) (193.963027279349916 > 193.960753612921735). You may want to try with a higher value of support_fraction (current value: 0.501).\n",
            "  warnings.warn(\n",
            "/home/vinicius/.local/lib/python3.8/site-packages/sklearn/covariance/_robust_covariance.py:186: RuntimeWarning: Determinant has increased; this should not happen: log(det) > log(previous_det) (193.950632596680606 > 193.932730379983184). You may want to try with a higher value of support_fraction (current value: 0.501).\n",
            "  warnings.warn(\n",
            "/home/vinicius/.local/lib/python3.8/site-packages/sklearn/covariance/_robust_covariance.py:186: RuntimeWarning: Determinant has increased; this should not happen: log(det) > log(previous_det) (194.011745467863534 > 193.979291101535807). You may want to try with a higher value of support_fraction (current value: 0.501).\n",
            "  warnings.warn(\n",
            "/home/vinicius/.local/lib/python3.8/site-packages/sklearn/covariance/_robust_covariance.py:186: RuntimeWarning: Determinant has increased; this should not happen: log(det) > log(previous_det) (194.067820677999407 > 194.049902369587898). You may want to try with a higher value of support_fraction (current value: 0.501).\n",
            "  warnings.warn(\n",
            "/home/vinicius/.local/lib/python3.8/site-packages/sklearn/covariance/_robust_covariance.py:186: RuntimeWarning: Determinant has increased; this should not happen: log(det) > log(previous_det) (193.805029400806234 > 193.791061569846107). You may want to try with a higher value of support_fraction (current value: 0.501).\n",
            "  warnings.warn(\n",
            "/home/vinicius/.local/lib/python3.8/site-packages/sklearn/covariance/_robust_covariance.py:186: RuntimeWarning: Determinant has increased; this should not happen: log(det) > log(previous_det) (194.072432516552510 > 194.032910188864605). You may want to try with a higher value of support_fraction (current value: 0.501).\n",
            "  warnings.warn(\n",
            "/home/vinicius/.local/lib/python3.8/site-packages/sklearn/covariance/_robust_covariance.py:186: RuntimeWarning: Determinant has increased; this should not happen: log(det) > log(previous_det) (193.944789769528455 > 193.930038563398512). You may want to try with a higher value of support_fraction (current value: 0.501).\n",
            "  warnings.warn(\n",
            "/home/vinicius/.local/lib/python3.8/site-packages/sklearn/covariance/_robust_covariance.py:186: RuntimeWarning: Determinant has increased; this should not happen: log(det) > log(previous_det) (194.045495760556719 > 194.042721355632693). You may want to try with a higher value of support_fraction (current value: 0.501).\n",
            "  warnings.warn(\n",
            "/home/vinicius/.local/lib/python3.8/site-packages/sklearn/covariance/_robust_covariance.py:186: RuntimeWarning: Determinant has increased; this should not happen: log(det) > log(previous_det) (193.809882797927173 > 193.790927479046900). You may want to try with a higher value of support_fraction (current value: 0.501).\n",
            "  warnings.warn(\n",
            "/home/vinicius/.local/lib/python3.8/site-packages/sklearn/covariance/_robust_covariance.py:186: RuntimeWarning: Determinant has increased; this should not happen: log(det) > log(previous_det) (193.952546701970959 > 193.929412248144757). You may want to try with a higher value of support_fraction (current value: 0.501).\n",
            "  warnings.warn(\n",
            "/home/vinicius/.local/lib/python3.8/site-packages/sklearn/covariance/_robust_covariance.py:186: RuntimeWarning: Determinant has increased; this should not happen: log(det) > log(previous_det) (193.770864375669760 > 193.760600256513840). You may want to try with a higher value of support_fraction (current value: 0.501).\n",
            "  warnings.warn(\n",
            "/home/vinicius/.local/lib/python3.8/site-packages/sklearn/covariance/_robust_covariance.py:186: RuntimeWarning: Determinant has increased; this should not happen: log(det) > log(previous_det) (193.967774036704128 > 193.955355030369475). You may want to try with a higher value of support_fraction (current value: 0.501).\n",
            "  warnings.warn(\n",
            "/home/vinicius/.local/lib/python3.8/site-packages/sklearn/covariance/_robust_covariance.py:186: RuntimeWarning: Determinant has increased; this should not happen: log(det) > log(previous_det) (194.009903290129131 > 193.996090232004235). You may want to try with a higher value of support_fraction (current value: 0.501).\n",
            "  warnings.warn(\n",
            "/home/vinicius/.local/lib/python3.8/site-packages/sklearn/covariance/_robust_covariance.py:186: RuntimeWarning: Determinant has increased; this should not happen: log(det) > log(previous_det) (193.936722715440624 > 193.930741203684704). You may want to try with a higher value of support_fraction (current value: 0.501).\n",
            "  warnings.warn(\n",
            "/home/vinicius/.local/lib/python3.8/site-packages/sklearn/covariance/_robust_covariance.py:186: RuntimeWarning: Determinant has increased; this should not happen: log(det) > log(previous_det) (193.967478308328197 > 193.957984107486624). You may want to try with a higher value of support_fraction (current value: 0.501).\n",
            "  warnings.warn(\n",
            "/home/vinicius/.local/lib/python3.8/site-packages/sklearn/covariance/_robust_covariance.py:186: RuntimeWarning: Determinant has increased; this should not happen: log(det) > log(previous_det) (193.955756778364389 > 193.950681179218236). You may want to try with a higher value of support_fraction (current value: 0.501).\n",
            "  warnings.warn(\n",
            "/home/vinicius/.local/lib/python3.8/site-packages/sklearn/covariance/_robust_covariance.py:186: RuntimeWarning: Determinant has increased; this should not happen: log(det) > log(previous_det) (194.053794440732190 > 194.029352378660292). You may want to try with a higher value of support_fraction (current value: 0.501).\n",
            "  warnings.warn(\n",
            "/home/vinicius/.local/lib/python3.8/site-packages/sklearn/covariance/_robust_covariance.py:186: RuntimeWarning: Determinant has increased; this should not happen: log(det) > log(previous_det) (194.056179983298023 > 194.038973239235020). You may want to try with a higher value of support_fraction (current value: 0.501).\n",
            "  warnings.warn(\n",
            "/home/vinicius/.local/lib/python3.8/site-packages/sklearn/covariance/_robust_covariance.py:186: RuntimeWarning: Determinant has increased; this should not happen: log(det) > log(previous_det) (193.986414719434066 > 193.982253545544552). You may want to try with a higher value of support_fraction (current value: 0.501).\n",
            "  warnings.warn(\n",
            "/home/vinicius/.local/lib/python3.8/site-packages/sklearn/covariance/_robust_covariance.py:186: RuntimeWarning: Determinant has increased; this should not happen: log(det) > log(previous_det) (193.813562694236765 > 193.789707672468069). You may want to try with a higher value of support_fraction (current value: 0.501).\n",
            "  warnings.warn(\n",
            "/home/vinicius/.local/lib/python3.8/site-packages/sklearn/covariance/_robust_covariance.py:186: RuntimeWarning: Determinant has increased; this should not happen: log(det) > log(previous_det) (194.029177882220324 > 194.011966021442049). You may want to try with a higher value of support_fraction (current value: 0.501).\n",
            "  warnings.warn(\n",
            "/home/vinicius/.local/lib/python3.8/site-packages/sklearn/covariance/_robust_covariance.py:186: RuntimeWarning: Determinant has increased; this should not happen: log(det) > log(previous_det) (194.049236975075530 > 194.007667876846511). You may want to try with a higher value of support_fraction (current value: 0.501).\n",
            "  warnings.warn(\n",
            "/home/vinicius/.local/lib/python3.8/site-packages/sklearn/covariance/_robust_covariance.py:186: RuntimeWarning: Determinant has increased; this should not happen: log(det) > log(previous_det) (194.086889849635611 > 194.028263941986523). You may want to try with a higher value of support_fraction (current value: 0.501).\n",
            "  warnings.warn(\n",
            "/home/vinicius/.local/lib/python3.8/site-packages/sklearn/covariance/_robust_covariance.py:186: RuntimeWarning: Determinant has increased; this should not happen: log(det) > log(previous_det) (194.070080843716909 > 194.036489368344292). You may want to try with a higher value of support_fraction (current value: 0.501).\n",
            "  warnings.warn(\n",
            "/home/vinicius/.local/lib/python3.8/site-packages/sklearn/covariance/_robust_covariance.py:186: RuntimeWarning: Determinant has increased; this should not happen: log(det) > log(previous_det) (194.017871180260499 > 194.009036233028809). You may want to try with a higher value of support_fraction (current value: 0.501).\n",
            "  warnings.warn(\n",
            "/home/vinicius/.local/lib/python3.8/site-packages/sklearn/covariance/_robust_covariance.py:186: RuntimeWarning: Determinant has increased; this should not happen: log(det) > log(previous_det) (194.094497165919364 > 194.033473809754753). You may want to try with a higher value of support_fraction (current value: 0.501).\n",
            "  warnings.warn(\n",
            "/home/vinicius/.local/lib/python3.8/site-packages/sklearn/covariance/_robust_covariance.py:186: RuntimeWarning: Determinant has increased; this should not happen: log(det) > log(previous_det) (194.069079177333521 > 194.009402290087365). You may want to try with a higher value of support_fraction (current value: 0.501).\n",
            "  warnings.warn(\n",
            "/home/vinicius/.local/lib/python3.8/site-packages/sklearn/covariance/_robust_covariance.py:186: RuntimeWarning: Determinant has increased; this should not happen: log(det) > log(previous_det) (194.056561854660600 > 194.017972477298713). You may want to try with a higher value of support_fraction (current value: 0.501).\n",
            "  warnings.warn(\n",
            "/home/vinicius/.local/lib/python3.8/site-packages/sklearn/covariance/_robust_covariance.py:186: RuntimeWarning: Determinant has increased; this should not happen: log(det) > log(previous_det) (194.066597321663039 > 194.042485013663367). You may want to try with a higher value of support_fraction (current value: 0.501).\n",
            "  warnings.warn(\n",
            "/home/vinicius/.local/lib/python3.8/site-packages/sklearn/covariance/_robust_covariance.py:186: RuntimeWarning: Determinant has increased; this should not happen: log(det) > log(previous_det) (194.048289772283283 > 194.002191274314129). You may want to try with a higher value of support_fraction (current value: 0.501).\n",
            "  warnings.warn(\n",
            "/home/vinicius/.local/lib/python3.8/site-packages/sklearn/covariance/_robust_covariance.py:186: RuntimeWarning: Determinant has increased; this should not happen: log(det) > log(previous_det) (194.010342887643503 > 194.001614113386410). You may want to try with a higher value of support_fraction (current value: 0.501).\n",
            "  warnings.warn(\n",
            "/home/vinicius/.local/lib/python3.8/site-packages/sklearn/covariance/_robust_covariance.py:186: RuntimeWarning: Determinant has increased; this should not happen: log(det) > log(previous_det) (194.124137009458138 > 194.091984919991773). You may want to try with a higher value of support_fraction (current value: 0.501).\n",
            "  warnings.warn(\n",
            "/home/vinicius/.local/lib/python3.8/site-packages/sklearn/covariance/_robust_covariance.py:186: RuntimeWarning: Determinant has increased; this should not happen: log(det) > log(previous_det) (194.125226274003523 > 194.087677910371696). You may want to try with a higher value of support_fraction (current value: 0.501).\n",
            "  warnings.warn(\n",
            "/home/vinicius/.local/lib/python3.8/site-packages/sklearn/covariance/_robust_covariance.py:186: RuntimeWarning: Determinant has increased; this should not happen: log(det) > log(previous_det) (194.115780940621448 > 194.088769839378529). You may want to try with a higher value of support_fraction (current value: 0.501).\n",
            "  warnings.warn(\n",
            "/home/vinicius/.local/lib/python3.8/site-packages/sklearn/covariance/_robust_covariance.py:186: RuntimeWarning: Determinant has increased; this should not happen: log(det) > log(previous_det) (194.130706824020194 > 194.059766975029845). You may want to try with a higher value of support_fraction (current value: 0.501).\n",
            "  warnings.warn(\n",
            "/home/vinicius/.local/lib/python3.8/site-packages/sklearn/covariance/_robust_covariance.py:186: RuntimeWarning: Determinant has increased; this should not happen: log(det) > log(previous_det) (194.013442927353196 > 194.010342887643503). You may want to try with a higher value of support_fraction (current value: 0.501).\n",
            "  warnings.warn(\n",
            "/home/vinicius/.local/lib/python3.8/site-packages/sklearn/covariance/_robust_covariance.py:186: RuntimeWarning: Determinant has increased; this should not happen: log(det) > log(previous_det) (194.096033255283885 > 194.084077702893495). You may want to try with a higher value of support_fraction (current value: 0.501).\n",
            "  warnings.warn(\n",
            "/home/vinicius/.local/lib/python3.8/site-packages/sklearn/covariance/_robust_covariance.py:186: RuntimeWarning: Determinant has increased; this should not happen: log(det) > log(previous_det) (194.144597305617054 > 194.099519688504813). You may want to try with a higher value of support_fraction (current value: 0.501).\n",
            "  warnings.warn(\n",
            "/home/vinicius/.local/lib/python3.8/site-packages/sklearn/covariance/_robust_covariance.py:186: RuntimeWarning: Determinant has increased; this should not happen: log(det) > log(previous_det) (194.129114103597743 > 194.063621542793442). You may want to try with a higher value of support_fraction (current value: 0.501).\n",
            "  warnings.warn(\n",
            "/home/vinicius/.local/lib/python3.8/site-packages/sklearn/covariance/_robust_covariance.py:186: RuntimeWarning: Determinant has increased; this should not happen: log(det) > log(previous_det) (194.135905212526183 > 194.091227720149931). You may want to try with a higher value of support_fraction (current value: 0.501).\n",
            "  warnings.warn(\n",
            "/home/vinicius/.local/lib/python3.8/site-packages/sklearn/covariance/_robust_covariance.py:186: RuntimeWarning: Determinant has increased; this should not happen: log(det) > log(previous_det) (193.808760542107365 > 193.793038570929497). You may want to try with a higher value of support_fraction (current value: 0.501).\n",
            "  warnings.warn(\n",
            "/home/vinicius/.local/lib/python3.8/site-packages/sklearn/covariance/_robust_covariance.py:186: RuntimeWarning: Determinant has increased; this should not happen: log(det) > log(previous_det) (193.948083150923935 > 193.931432739154815). You may want to try with a higher value of support_fraction (current value: 0.501).\n",
            "  warnings.warn(\n",
            "/home/vinicius/.local/lib/python3.8/site-packages/sklearn/covariance/_robust_covariance.py:186: RuntimeWarning: Determinant has increased; this should not happen: log(det) > log(previous_det) (194.017209546695113 > 194.006228876055786). You may want to try with a higher value of support_fraction (current value: 0.501).\n",
            "  warnings.warn(\n",
            "/home/vinicius/.local/lib/python3.8/site-packages/sklearn/covariance/_robust_covariance.py:186: RuntimeWarning: Determinant has increased; this should not happen: log(det) > log(previous_det) (194.017209546695113 > 194.001490746078815). You may want to try with a higher value of support_fraction (current value: 0.501).\n",
            "  warnings.warn(\n",
            "/home/vinicius/.local/lib/python3.8/site-packages/sklearn/covariance/_robust_covariance.py:186: RuntimeWarning: Determinant has increased; this should not happen: log(det) > log(previous_det) (193.957168219213429 > 193.951614072515582). You may want to try with a higher value of support_fraction (current value: 0.501).\n",
            "  warnings.warn(\n",
            "/home/vinicius/.local/lib/python3.8/site-packages/sklearn/covariance/_robust_covariance.py:186: RuntimeWarning: Determinant has increased; this should not happen: log(det) > log(previous_det) (194.018719642127451 > 194.004681605406375). You may want to try with a higher value of support_fraction (current value: 0.501).\n",
            "  warnings.warn(\n",
            "/home/vinicius/.local/lib/python3.8/site-packages/sklearn/covariance/_robust_covariance.py:186: RuntimeWarning: Determinant has increased; this should not happen: log(det) > log(previous_det) (194.052927421060588 > 194.039041079339626). You may want to try with a higher value of support_fraction (current value: 0.501).\n",
            "  warnings.warn(\n",
            "/home/vinicius/.local/lib/python3.8/site-packages/sklearn/covariance/_robust_covariance.py:186: RuntimeWarning: Determinant has increased; this should not happen: log(det) > log(previous_det) (194.016978732367932 > 193.992425665165200). You may want to try with a higher value of support_fraction (current value: 0.501).\n",
            "  warnings.warn(\n",
            "/home/vinicius/.local/lib/python3.8/site-packages/sklearn/covariance/_robust_covariance.py:186: RuntimeWarning: Determinant has increased; this should not happen: log(det) > log(previous_det) (193.939313905435455 > 193.930375845613810). You may want to try with a higher value of support_fraction (current value: 0.501).\n",
            "  warnings.warn(\n",
            "/home/vinicius/.local/lib/python3.8/site-packages/sklearn/covariance/_robust_covariance.py:186: RuntimeWarning: Determinant has increased; this should not happen: log(det) > log(previous_det) (193.804323413482365 > 193.786367113537466). You may want to try with a higher value of support_fraction (current value: 0.501).\n",
            "  warnings.warn(\n",
            "/home/vinicius/.local/lib/python3.8/site-packages/sklearn/covariance/_robust_covariance.py:186: RuntimeWarning: Determinant has increased; this should not happen: log(det) > log(previous_det) (193.768088374949258 > 193.763609984575425). You may want to try with a higher value of support_fraction (current value: 0.501).\n",
            "  warnings.warn(\n",
            "/home/vinicius/.local/lib/python3.8/site-packages/sklearn/covariance/_robust_covariance.py:186: RuntimeWarning: Determinant has increased; this should not happen: log(det) > log(previous_det) (193.930818567411450 > 193.915123301670377). You may want to try with a higher value of support_fraction (current value: 0.501).\n",
            "  warnings.warn(\n",
            "/home/vinicius/.local/lib/python3.8/site-packages/sklearn/covariance/_robust_covariance.py:186: RuntimeWarning: Determinant has increased; this should not happen: log(det) > log(previous_det) (193.931963542244489 > 193.926125821506304). You may want to try with a higher value of support_fraction (current value: 0.501).\n",
            "  warnings.warn(\n",
            "/home/vinicius/.local/lib/python3.8/site-packages/sklearn/covariance/_robust_covariance.py:186: RuntimeWarning: Determinant has increased; this should not happen: log(det) > log(previous_det) (193.780381173886809 > 193.772532371193705). You may want to try with a higher value of support_fraction (current value: 0.501).\n",
            "  warnings.warn(\n",
            "/home/vinicius/.local/lib/python3.8/site-packages/sklearn/covariance/_robust_covariance.py:186: RuntimeWarning: Determinant has increased; this should not happen: log(det) > log(previous_det) (193.759321054911908 > 193.668648342871478). You may want to try with a higher value of support_fraction (current value: 0.501).\n",
            "  warnings.warn(\n",
            "/home/vinicius/.local/lib/python3.8/site-packages/sklearn/covariance/_robust_covariance.py:186: RuntimeWarning: Determinant has increased; this should not happen: log(det) > log(previous_det) (193.768949451854127 > 193.762516451440860). You may want to try with a higher value of support_fraction (current value: 0.501).\n",
            "  warnings.warn(\n",
            "/home/vinicius/.local/lib/python3.8/site-packages/sklearn/covariance/_robust_covariance.py:186: RuntimeWarning: Determinant has increased; this should not happen: log(det) > log(previous_det) (193.921187574190213 > 193.906821063465628). You may want to try with a higher value of support_fraction (current value: 0.501).\n",
            "  warnings.warn(\n",
            "/home/vinicius/.local/lib/python3.8/site-packages/sklearn/covariance/_robust_covariance.py:186: RuntimeWarning: Determinant has increased; this should not happen: log(det) > log(previous_det) (193.783101030567991 > 193.780257019163741). You may want to try with a higher value of support_fraction (current value: 0.501).\n",
            "  warnings.warn(\n",
            "/home/vinicius/.local/lib/python3.8/site-packages/sklearn/covariance/_robust_covariance.py:186: RuntimeWarning: Determinant has increased; this should not happen: log(det) > log(previous_det) (194.026818365441528 > 194.000500014504297). You may want to try with a higher value of support_fraction (current value: 0.501).\n",
            "  warnings.warn(\n",
            "/home/vinicius/.local/lib/python3.8/site-packages/sklearn/covariance/_robust_covariance.py:186: RuntimeWarning: Determinant has increased; this should not happen: log(det) > log(previous_det) (194.039669053173981 > 194.034305774777749). You may want to try with a higher value of support_fraction (current value: 0.501).\n",
            "  warnings.warn(\n",
            "/home/vinicius/.local/lib/python3.8/site-packages/sklearn/covariance/_robust_covariance.py:186: RuntimeWarning: Determinant has increased; this should not happen: log(det) > log(previous_det) (194.081266714801501 > 194.036904323632598). You may want to try with a higher value of support_fraction (current value: 0.501).\n",
            "  warnings.warn(\n",
            "/home/vinicius/.local/lib/python3.8/site-packages/sklearn/covariance/_robust_covariance.py:186: RuntimeWarning: Determinant has increased; this should not happen: log(det) > log(previous_det) (194.122850564672888 > 194.062419173873849). You may want to try with a higher value of support_fraction (current value: 0.501).\n",
            "  warnings.warn(\n",
            "/home/vinicius/.local/lib/python3.8/site-packages/sklearn/covariance/_robust_covariance.py:186: RuntimeWarning: Determinant has increased; this should not happen: log(det) > log(previous_det) (194.039372720615205 > 194.020303315955061). You may want to try with a higher value of support_fraction (current value: 0.501).\n",
            "  warnings.warn(\n",
            "/home/vinicius/.local/lib/python3.8/site-packages/sklearn/covariance/_robust_covariance.py:186: RuntimeWarning: Determinant has increased; this should not happen: log(det) > log(previous_det) (194.046109069997641 > 194.009858947899431). You may want to try with a higher value of support_fraction (current value: 0.501).\n",
            "  warnings.warn(\n",
            "/home/vinicius/.local/lib/python3.8/site-packages/sklearn/covariance/_robust_covariance.py:186: RuntimeWarning: Determinant has increased; this should not happen: log(det) > log(previous_det) (194.013192787685369 > 193.984605952112219). You may want to try with a higher value of support_fraction (current value: 0.501).\n",
            "  warnings.warn(\n",
            "/home/vinicius/.local/lib/python3.8/site-packages/sklearn/covariance/_robust_covariance.py:186: RuntimeWarning: Determinant has increased; this should not happen: log(det) > log(previous_det) (194.018069284691023 > 194.006778489739162). You may want to try with a higher value of support_fraction (current value: 0.501).\n",
            "  warnings.warn(\n",
            "/home/vinicius/.local/lib/python3.8/site-packages/sklearn/covariance/_robust_covariance.py:186: RuntimeWarning: Determinant has increased; this should not happen: log(det) > log(previous_det) (193.948466780211220 > 193.937495422848912). You may want to try with a higher value of support_fraction (current value: 0.501).\n",
            "  warnings.warn(\n",
            "/home/vinicius/.local/lib/python3.8/site-packages/sklearn/covariance/_robust_covariance.py:186: RuntimeWarning: Determinant has increased; this should not happen: log(det) > log(previous_det) (193.940628120638564 > 193.912779802939070). You may want to try with a higher value of support_fraction (current value: 0.501).\n",
            "  warnings.warn(\n",
            "/home/vinicius/.local/lib/python3.8/site-packages/sklearn/covariance/_robust_covariance.py:186: RuntimeWarning: Determinant has increased; this should not happen: log(det) > log(previous_det) (193.959356603773386 > 193.945837533804252). You may want to try with a higher value of support_fraction (current value: 0.501).\n",
            "  warnings.warn(\n",
            "/home/vinicius/.local/lib/python3.8/site-packages/sklearn/covariance/_robust_covariance.py:186: RuntimeWarning: Determinant has increased; this should not happen: log(det) > log(previous_det) (193.804453011467587 > 193.797619955105404). You may want to try with a higher value of support_fraction (current value: 0.501).\n",
            "  warnings.warn(\n",
            "/home/vinicius/.local/lib/python3.8/site-packages/sklearn/covariance/_robust_covariance.py:186: RuntimeWarning: Determinant has increased; this should not happen: log(det) > log(previous_det) (193.966245753962056 > 193.942949171438329). You may want to try with a higher value of support_fraction (current value: 0.501).\n",
            "  warnings.warn(\n",
            "/home/vinicius/.local/lib/python3.8/site-packages/sklearn/covariance/_robust_covariance.py:186: RuntimeWarning: Determinant has increased; this should not happen: log(det) > log(previous_det) (193.939313905435455 > 193.931904836442953). You may want to try with a higher value of support_fraction (current value: 0.501).\n",
            "  warnings.warn(\n",
            "/home/vinicius/.local/lib/python3.8/site-packages/sklearn/covariance/_robust_covariance.py:186: RuntimeWarning: Determinant has increased; this should not happen: log(det) > log(previous_det) (194.007667426676790 > 193.989149689138458). You may want to try with a higher value of support_fraction (current value: 0.501).\n",
            "  warnings.warn(\n",
            "/home/vinicius/.local/lib/python3.8/site-packages/sklearn/covariance/_robust_covariance.py:186: RuntimeWarning: Determinant has increased; this should not happen: log(det) > log(previous_det) (194.033008232023377 > 193.995941141607858). You may want to try with a higher value of support_fraction (current value: 0.501).\n",
            "  warnings.warn(\n",
            "/home/vinicius/.local/lib/python3.8/site-packages/sklearn/covariance/_robust_covariance.py:186: RuntimeWarning: Determinant has increased; this should not happen: log(det) > log(previous_det) (194.005751478950543 > 193.990831174520395). You may want to try with a higher value of support_fraction (current value: 0.501).\n",
            "  warnings.warn(\n",
            "/home/vinicius/.local/lib/python3.8/site-packages/sklearn/covariance/_robust_covariance.py:186: RuntimeWarning: Determinant has increased; this should not happen: log(det) > log(previous_det) (194.053856506258228 > 194.030049580092481). You may want to try with a higher value of support_fraction (current value: 0.501).\n",
            "  warnings.warn(\n",
            "/home/vinicius/.local/lib/python3.8/site-packages/sklearn/covariance/_robust_covariance.py:186: RuntimeWarning: Determinant has increased; this should not happen: log(det) > log(previous_det) (193.808760542107365 > 193.793038570929497). You may want to try with a higher value of support_fraction (current value: 0.501).\n",
            "  warnings.warn(\n",
            "/home/vinicius/.local/lib/python3.8/site-packages/sklearn/covariance/_robust_covariance.py:186: RuntimeWarning: Determinant has increased; this should not happen: log(det) > log(previous_det) (194.035229053732422 > 194.021429937837041). You may want to try with a higher value of support_fraction (current value: 0.501).\n",
            "  warnings.warn(\n",
            "/home/vinicius/.local/lib/python3.8/site-packages/sklearn/covariance/_robust_covariance.py:186: RuntimeWarning: Determinant has increased; this should not happen: log(det) > log(previous_det) (194.054963903454762 > 194.041452191313454). You may want to try with a higher value of support_fraction (current value: 0.501).\n",
            "  warnings.warn(\n",
            "/home/vinicius/.local/lib/python3.8/site-packages/sklearn/covariance/_robust_covariance.py:186: RuntimeWarning: Determinant has increased; this should not happen: log(det) > log(previous_det) (194.021761292361361 > 194.018175258270475). You may want to try with a higher value of support_fraction (current value: 0.501).\n",
            "  warnings.warn(\n",
            "/home/vinicius/.local/lib/python3.8/site-packages/sklearn/covariance/_robust_covariance.py:186: RuntimeWarning: Determinant has increased; this should not happen: log(det) > log(previous_det) (193.808760542107365 > 193.805632991896033). You may want to try with a higher value of support_fraction (current value: 0.501).\n",
            "  warnings.warn(\n",
            "/home/vinicius/.local/lib/python3.8/site-packages/sklearn/covariance/_robust_covariance.py:186: RuntimeWarning: Determinant has increased; this should not happen: log(det) > log(previous_det) (194.031036633330388 > 194.001906507621953). You may want to try with a higher value of support_fraction (current value: 0.501).\n",
            "  warnings.warn(\n",
            "/home/vinicius/.local/lib/python3.8/site-packages/sklearn/covariance/_robust_covariance.py:186: RuntimeWarning: Determinant has increased; this should not happen: log(det) > log(previous_det) (194.061504798861563 > 194.057572039254779). You may want to try with a higher value of support_fraction (current value: 0.501).\n",
            "  warnings.warn(\n",
            "/home/vinicius/.local/lib/python3.8/site-packages/sklearn/covariance/_robust_covariance.py:186: RuntimeWarning: Determinant has increased; this should not happen: log(det) > log(previous_det) (194.062041931424119 > 194.025030634564985). You may want to try with a higher value of support_fraction (current value: 0.501).\n",
            "  warnings.warn(\n",
            "/home/vinicius/.local/lib/python3.8/site-packages/sklearn/covariance/_robust_covariance.py:186: RuntimeWarning: Determinant has increased; this should not happen: log(det) > log(previous_det) (194.030569285534227 > 194.025131838942571). You may want to try with a higher value of support_fraction (current value: 0.501).\n",
            "  warnings.warn(\n",
            "/home/vinicius/.local/lib/python3.8/site-packages/sklearn/covariance/_robust_covariance.py:186: RuntimeWarning: Determinant has increased; this should not happen: log(det) > log(previous_det) (193.808760542107365 > 193.793038570929497). You may want to try with a higher value of support_fraction (current value: 0.501).\n",
            "  warnings.warn(\n",
            "/home/vinicius/.local/lib/python3.8/site-packages/sklearn/covariance/_robust_covariance.py:186: RuntimeWarning: Determinant has increased; this should not happen: log(det) > log(previous_det) (193.988067409439424 > 193.983925733077285). You may want to try with a higher value of support_fraction (current value: 0.501).\n",
            "  warnings.warn(\n",
            "/home/vinicius/.local/lib/python3.8/site-packages/sklearn/covariance/_robust_covariance.py:186: RuntimeWarning: Determinant has increased; this should not happen: log(det) > log(previous_det) (194.049245533397198 > 194.037947993041826). You may want to try with a higher value of support_fraction (current value: 0.501).\n",
            "  warnings.warn(\n",
            "/home/vinicius/.local/lib/python3.8/site-packages/sklearn/covariance/_robust_covariance.py:186: RuntimeWarning: Determinant has increased; this should not happen: log(det) > log(previous_det) (194.052549584198232 > 194.033986287828782). You may want to try with a higher value of support_fraction (current value: 0.501).\n",
            "  warnings.warn(\n",
            "/home/vinicius/.local/lib/python3.8/site-packages/sklearn/covariance/_robust_covariance.py:186: RuntimeWarning: Determinant has increased; this should not happen: log(det) > log(previous_det) (194.042922407362198 > 194.029819702348590). You may want to try with a higher value of support_fraction (current value: 0.501).\n",
            "  warnings.warn(\n",
            "/home/vinicius/.local/lib/python3.8/site-packages/sklearn/covariance/_robust_covariance.py:186: RuntimeWarning: Determinant has increased; this should not happen: log(det) > log(previous_det) (194.057047475442630 > 194.041608372623216). You may want to try with a higher value of support_fraction (current value: 0.501).\n",
            "  warnings.warn(\n",
            "/home/vinicius/.local/lib/python3.8/site-packages/sklearn/covariance/_robust_covariance.py:186: RuntimeWarning: Determinant has increased; this should not happen: log(det) > log(previous_det) (194.017022901512320 > 194.014395274015044). You may want to try with a higher value of support_fraction (current value: 0.501).\n",
            "  warnings.warn(\n",
            "/home/vinicius/.local/lib/python3.8/site-packages/sklearn/covariance/_robust_covariance.py:186: RuntimeWarning: Determinant has increased; this should not happen: log(det) > log(previous_det) (194.031087193131611 > 193.997980727895026). You may want to try with a higher value of support_fraction (current value: 0.501).\n",
            "  warnings.warn(\n",
            "/home/vinicius/.local/lib/python3.8/site-packages/sklearn/covariance/_robust_covariance.py:186: RuntimeWarning: Determinant has increased; this should not happen: log(det) > log(previous_det) (194.065085636486288 > 194.057456315290722). You may want to try with a higher value of support_fraction (current value: 0.501).\n",
            "  warnings.warn(\n",
            "/home/vinicius/.local/lib/python3.8/site-packages/sklearn/covariance/_robust_covariance.py:186: RuntimeWarning: Determinant has increased; this should not happen: log(det) > log(previous_det) (194.101122818955446 > 194.091084261264143). You may want to try with a higher value of support_fraction (current value: 0.501).\n",
            "  warnings.warn(\n",
            "/home/vinicius/.local/lib/python3.8/site-packages/sklearn/covariance/_robust_covariance.py:186: RuntimeWarning: Determinant has increased; this should not happen: log(det) > log(previous_det) (193.804323413482365 > 193.801908521059346). You may want to try with a higher value of support_fraction (current value: 0.501).\n",
            "  warnings.warn(\n",
            "/home/vinicius/.local/lib/python3.8/site-packages/sklearn/covariance/_robust_covariance.py:186: RuntimeWarning: Determinant has increased; this should not happen: log(det) > log(previous_det) (193.930195145296267 > 193.909200369288783). You may want to try with a higher value of support_fraction (current value: 0.501).\n",
            "  warnings.warn(\n",
            "/home/vinicius/.local/lib/python3.8/site-packages/sklearn/covariance/_robust_covariance.py:186: RuntimeWarning: Determinant has increased; this should not happen: log(det) > log(previous_det) (193.959345171813510 > 193.926512059302667). You may want to try with a higher value of support_fraction (current value: 0.501).\n",
            "  warnings.warn(\n",
            "/home/vinicius/.local/lib/python3.8/site-packages/sklearn/covariance/_robust_covariance.py:186: RuntimeWarning: Determinant has increased; this should not happen: log(det) > log(previous_det) (194.002861440285756 > 193.944561464709011). You may want to try with a higher value of support_fraction (current value: 0.501).\n",
            "  warnings.warn(\n",
            "/home/vinicius/.local/lib/python3.8/site-packages/sklearn/covariance/_robust_covariance.py:186: RuntimeWarning: Determinant has increased; this should not happen: log(det) > log(previous_det) (193.955311761087984 > 193.930116191881808). You may want to try with a higher value of support_fraction (current value: 0.501).\n",
            "  warnings.warn(\n",
            "/home/vinicius/.local/lib/python3.8/site-packages/sklearn/covariance/_robust_covariance.py:186: RuntimeWarning: Determinant has increased; this should not happen: log(det) > log(previous_det) (194.035163669442483 > 194.008577238700838). You may want to try with a higher value of support_fraction (current value: 0.501).\n",
            "  warnings.warn(\n",
            "/home/vinicius/.local/lib/python3.8/site-packages/sklearn/covariance/_robust_covariance.py:186: RuntimeWarning: Determinant has increased; this should not happen: log(det) > log(previous_det) (194.036229080519490 > 194.033386714395334). You may want to try with a higher value of support_fraction (current value: 0.501).\n",
            "  warnings.warn(\n",
            "/home/vinicius/.local/lib/python3.8/site-packages/sklearn/covariance/_robust_covariance.py:186: RuntimeWarning: Determinant has increased; this should not happen: log(det) > log(previous_det) (193.808760542107365 > 193.793038570929497). You may want to try with a higher value of support_fraction (current value: 0.501).\n",
            "  warnings.warn(\n",
            "/home/vinicius/.local/lib/python3.8/site-packages/sklearn/covariance/_robust_covariance.py:186: RuntimeWarning: Determinant has increased; this should not happen: log(det) > log(previous_det) (194.049478284397850 > 194.014700804252840). You may want to try with a higher value of support_fraction (current value: 0.501).\n",
            "  warnings.warn(\n",
            "/home/vinicius/.local/lib/python3.8/site-packages/sklearn/covariance/_robust_covariance.py:186: RuntimeWarning: Determinant has increased; this should not happen: log(det) > log(previous_det) (193.808760542107365 > 193.793038570929497). You may want to try with a higher value of support_fraction (current value: 0.501).\n",
            "  warnings.warn(\n",
            "/home/vinicius/.local/lib/python3.8/site-packages/sklearn/covariance/_robust_covariance.py:186: RuntimeWarning: Determinant has increased; this should not happen: log(det) > log(previous_det) (194.038183803206323 > 194.005386182054082). You may want to try with a higher value of support_fraction (current value: 0.501).\n",
            "  warnings.warn(\n",
            "/home/vinicius/.local/lib/python3.8/site-packages/sklearn/covariance/_robust_covariance.py:186: RuntimeWarning: Determinant has increased; this should not happen: log(det) > log(previous_det) (194.047573461955494 > 194.028904121071491). You may want to try with a higher value of support_fraction (current value: 0.501).\n",
            "  warnings.warn(\n",
            "/home/vinicius/.local/lib/python3.8/site-packages/sklearn/covariance/_robust_covariance.py:186: RuntimeWarning: Determinant has increased; this should not happen: log(det) > log(previous_det) (194.096663460085267 > 194.042819231745597). You may want to try with a higher value of support_fraction (current value: 0.501).\n",
            "  warnings.warn(\n",
            "/home/vinicius/.local/lib/python3.8/site-packages/sklearn/covariance/_robust_covariance.py:186: RuntimeWarning: Determinant has increased; this should not happen: log(det) > log(previous_det) (194.082414771882299 > 194.061971576038729). You may want to try with a higher value of support_fraction (current value: 0.501).\n",
            "  warnings.warn(\n",
            "/home/vinicius/.local/lib/python3.8/site-packages/sklearn/covariance/_robust_covariance.py:186: RuntimeWarning: Determinant has increased; this should not happen: log(det) > log(previous_det) (194.076308452180740 > 194.023851295106113). You may want to try with a higher value of support_fraction (current value: 0.501).\n",
            "  warnings.warn(\n",
            "/home/vinicius/.local/lib/python3.8/site-packages/sklearn/covariance/_robust_covariance.py:186: RuntimeWarning: Determinant has increased; this should not happen: log(det) > log(previous_det) (193.996487936929981 > 193.990376087549066). You may want to try with a higher value of support_fraction (current value: 0.501).\n",
            "  warnings.warn(\n",
            "/home/vinicius/.local/lib/python3.8/site-packages/sklearn/covariance/_robust_covariance.py:186: RuntimeWarning: Determinant has increased; this should not happen: log(det) > log(previous_det) (194.101677591754878 > 194.019202570177839). You may want to try with a higher value of support_fraction (current value: 0.501).\n",
            "  warnings.warn(\n",
            "/home/vinicius/.local/lib/python3.8/site-packages/sklearn/covariance/_robust_covariance.py:186: RuntimeWarning: Determinant has increased; this should not happen: log(det) > log(previous_det) (194.040918859770443 > 194.035873759806037). You may want to try with a higher value of support_fraction (current value: 0.501).\n",
            "  warnings.warn(\n",
            "/home/vinicius/.local/lib/python3.8/site-packages/sklearn/covariance/_robust_covariance.py:186: RuntimeWarning: Determinant has increased; this should not happen: log(det) > log(previous_det) (194.108275394346180 > 194.060686143761870). You may want to try with a higher value of support_fraction (current value: 0.501).\n",
            "  warnings.warn(\n",
            "/home/vinicius/.local/lib/python3.8/site-packages/sklearn/covariance/_robust_covariance.py:186: RuntimeWarning: Determinant has increased; this should not happen: log(det) > log(previous_det) (194.048752911652286 > 193.988916992885009). You may want to try with a higher value of support_fraction (current value: 0.501).\n",
            "  warnings.warn(\n",
            "/home/vinicius/.local/lib/python3.8/site-packages/sklearn/covariance/_robust_covariance.py:186: RuntimeWarning: Determinant has increased; this should not happen: log(det) > log(previous_det) (194.050006017351961 > 194.009193407705055). You may want to try with a higher value of support_fraction (current value: 0.501).\n",
            "  warnings.warn(\n",
            "/home/vinicius/.local/lib/python3.8/site-packages/sklearn/covariance/_robust_covariance.py:186: RuntimeWarning: Determinant has increased; this should not happen: log(det) > log(previous_det) (194.040216969949483 > 193.956759931102738). You may want to try with a higher value of support_fraction (current value: 0.501).\n",
            "  warnings.warn(\n",
            "/home/vinicius/.local/lib/python3.8/site-packages/sklearn/covariance/_robust_covariance.py:186: RuntimeWarning: Determinant has increased; this should not happen: log(det) > log(previous_det) (194.051393243422382 > 194.045968136620388). You may want to try with a higher value of support_fraction (current value: 0.501).\n",
            "  warnings.warn(\n",
            "/home/vinicius/.local/lib/python3.8/site-packages/sklearn/covariance/_robust_covariance.py:186: RuntimeWarning: Determinant has increased; this should not happen: log(det) > log(previous_det) (194.037023453220741 > 193.963814052177980). You may want to try with a higher value of support_fraction (current value: 0.501).\n",
            "  warnings.warn(\n",
            "/home/vinicius/.local/lib/python3.8/site-packages/sklearn/covariance/_robust_covariance.py:186: RuntimeWarning: Determinant has increased; this should not happen: log(det) > log(previous_det) (193.948466780211220 > 193.942594462097134). You may want to try with a higher value of support_fraction (current value: 0.501).\n",
            "  warnings.warn(\n",
            "/home/vinicius/.local/lib/python3.8/site-packages/sklearn/covariance/_robust_covariance.py:186: RuntimeWarning: Determinant has increased; this should not happen: log(det) > log(previous_det) (194.024271448214847 > 193.960722796647985). You may want to try with a higher value of support_fraction (current value: 0.501).\n",
            "  warnings.warn(\n",
            "/home/vinicius/.local/lib/python3.8/site-packages/sklearn/covariance/_robust_covariance.py:186: RuntimeWarning: Determinant has increased; this should not happen: log(det) > log(previous_det) (194.063283301667440 > 193.977117980176700). You may want to try with a higher value of support_fraction (current value: 0.501).\n",
            "  warnings.warn(\n",
            "/home/vinicius/.local/lib/python3.8/site-packages/sklearn/covariance/_robust_covariance.py:186: RuntimeWarning: Determinant has increased; this should not happen: log(det) > log(previous_det) (194.037023453220741 > 193.957227872275638). You may want to try with a higher value of support_fraction (current value: 0.501).\n",
            "  warnings.warn(\n",
            "/home/vinicius/.local/lib/python3.8/site-packages/sklearn/covariance/_robust_covariance.py:186: RuntimeWarning: Determinant has increased; this should not happen: log(det) > log(previous_det) (194.013081850710932 > 194.000512591677051). You may want to try with a higher value of support_fraction (current value: 0.501).\n",
            "  warnings.warn(\n",
            "/home/vinicius/.local/lib/python3.8/site-packages/sklearn/covariance/_robust_covariance.py:186: RuntimeWarning: Determinant has increased; this should not happen: log(det) > log(previous_det) (193.952107034640989 > 193.916362261366828). You may want to try with a higher value of support_fraction (current value: 0.501).\n",
            "  warnings.warn(\n",
            "/home/vinicius/.local/lib/python3.8/site-packages/sklearn/covariance/_robust_covariance.py:186: RuntimeWarning: Determinant has increased; this should not happen: log(det) > log(previous_det) (193.942594462097134 > 193.939650377328888). You may want to try with a higher value of support_fraction (current value: 0.501).\n",
            "  warnings.warn(\n",
            "/home/vinicius/.local/lib/python3.8/site-packages/sklearn/covariance/_robust_covariance.py:186: RuntimeWarning: Determinant has increased; this should not happen: log(det) > log(previous_det) (193.951970347652633 > 193.911296775659224). You may want to try with a higher value of support_fraction (current value: 0.501).\n",
            "  warnings.warn(\n",
            "/home/vinicius/.local/lib/python3.8/site-packages/sklearn/covariance/_robust_covariance.py:186: RuntimeWarning: Determinant has increased; this should not happen: log(det) > log(previous_det) (193.953365771359756 > 193.924182248515081). You may want to try with a higher value of support_fraction (current value: 0.501).\n",
            "  warnings.warn(\n",
            "/home/vinicius/.local/lib/python3.8/site-packages/sklearn/covariance/_robust_covariance.py:186: RuntimeWarning: Determinant has increased; this should not happen: log(det) > log(previous_det) (194.049583900079909 > 194.046481851714390). You may want to try with a higher value of support_fraction (current value: 0.501).\n",
            "  warnings.warn(\n",
            "/home/vinicius/.local/lib/python3.8/site-packages/sklearn/covariance/_robust_covariance.py:186: RuntimeWarning: Determinant has increased; this should not happen: log(det) > log(previous_det) (194.054764919372701 > 194.039297958870605). You may want to try with a higher value of support_fraction (current value: 0.501).\n",
            "  warnings.warn(\n",
            "/home/vinicius/.local/lib/python3.8/site-packages/sklearn/covariance/_robust_covariance.py:186: RuntimeWarning: Determinant has increased; this should not happen: log(det) > log(previous_det) (193.808760542107365 > 193.801064751073540). You may want to try with a higher value of support_fraction (current value: 0.501).\n",
            "  warnings.warn(\n",
            "/home/vinicius/.local/lib/python3.8/site-packages/sklearn/covariance/_robust_covariance.py:186: RuntimeWarning: Determinant has increased; this should not happen: log(det) > log(previous_det) (193.803445490021801 > 193.792565257169031). You may want to try with a higher value of support_fraction (current value: 0.501).\n",
            "  warnings.warn(\n",
            "/home/vinicius/.local/lib/python3.8/site-packages/sklearn/covariance/_robust_covariance.py:186: RuntimeWarning: Determinant has increased; this should not happen: log(det) > log(previous_det) (193.768088374949258 > 193.763609984575425). You may want to try with a higher value of support_fraction (current value: 0.501).\n",
            "  warnings.warn(\n",
            "/home/vinicius/.local/lib/python3.8/site-packages/sklearn/covariance/_robust_covariance.py:186: RuntimeWarning: Determinant has increased; this should not happen: log(det) > log(previous_det) (193.943949869891014 > 193.928089298138275). You may want to try with a higher value of support_fraction (current value: 0.501).\n",
            "  warnings.warn(\n",
            "/home/vinicius/.local/lib/python3.8/site-packages/sklearn/covariance/_robust_covariance.py:186: RuntimeWarning: Determinant has increased; this should not happen: log(det) > log(previous_det) (194.053773314950860 > 194.015941270306939). You may want to try with a higher value of support_fraction (current value: 0.501).\n",
            "  warnings.warn(\n",
            "/home/vinicius/.local/lib/python3.8/site-packages/sklearn/covariance/_robust_covariance.py:186: RuntimeWarning: Determinant has increased; this should not happen: log(det) > log(previous_det) (194.060050724895149 > 194.022046440036320). You may want to try with a higher value of support_fraction (current value: 0.501).\n",
            "  warnings.warn(\n",
            "/home/vinicius/.local/lib/python3.8/site-packages/sklearn/covariance/_robust_covariance.py:186: RuntimeWarning: Determinant has increased; this should not happen: log(det) > log(previous_det) (194.024018635244147 > 194.003970680617670). You may want to try with a higher value of support_fraction (current value: 0.501).\n",
            "  warnings.warn(\n",
            "/home/vinicius/.local/lib/python3.8/site-packages/sklearn/covariance/_robust_covariance.py:186: RuntimeWarning: Determinant has increased; this should not happen: log(det) > log(previous_det) (193.952546701970959 > 193.939862569498160). You may want to try with a higher value of support_fraction (current value: 0.501).\n",
            "  warnings.warn(\n",
            "/home/vinicius/.local/lib/python3.8/site-packages/sklearn/covariance/_robust_covariance.py:186: RuntimeWarning: Determinant has increased; this should not happen: log(det) > log(previous_det) (193.937866657766591 > 193.920057818522935). You may want to try with a higher value of support_fraction (current value: 0.501).\n",
            "  warnings.warn(\n",
            "/home/vinicius/.local/lib/python3.8/site-packages/sklearn/covariance/_robust_covariance.py:186: RuntimeWarning: Determinant has increased; this should not happen: log(det) > log(previous_det) (194.013453566313814 > 193.983682699920081). You may want to try with a higher value of support_fraction (current value: 0.501).\n",
            "  warnings.warn(\n",
            "/home/vinicius/.local/lib/python3.8/site-packages/sklearn/covariance/_robust_covariance.py:186: RuntimeWarning: Determinant has increased; this should not happen: log(det) > log(previous_det) (193.783725084600320 > 193.743792038845527). You may want to try with a higher value of support_fraction (current value: 0.501).\n",
            "  warnings.warn(\n",
            "/home/vinicius/.local/lib/python3.8/site-packages/sklearn/covariance/_robust_covariance.py:186: RuntimeWarning: Determinant has increased; this should not happen: log(det) > log(previous_det) (193.976714721039599 > 193.970676742954879). You may want to try with a higher value of support_fraction (current value: 0.501).\n",
            "  warnings.warn(\n",
            "/home/vinicius/.local/lib/python3.8/site-packages/sklearn/covariance/_robust_covariance.py:186: RuntimeWarning: Determinant has increased; this should not happen: log(det) > log(previous_det) (194.033573838088103 > 194.028624453161996). You may want to try with a higher value of support_fraction (current value: 0.501).\n",
            "  warnings.warn(\n",
            "/home/vinicius/.local/lib/python3.8/site-packages/sklearn/covariance/_robust_covariance.py:186: RuntimeWarning: Determinant has increased; this should not happen: log(det) > log(previous_det) (194.057095464625036 > 194.023058215810607). You may want to try with a higher value of support_fraction (current value: 0.501).\n",
            "  warnings.warn(\n",
            "/home/vinicius/.local/lib/python3.8/site-packages/sklearn/covariance/_robust_covariance.py:186: RuntimeWarning: Determinant has increased; this should not happen: log(det) > log(previous_det) (193.952616914547633 > 193.930930619603089). You may want to try with a higher value of support_fraction (current value: 0.501).\n",
            "  warnings.warn(\n",
            "/home/vinicius/.local/lib/python3.8/site-packages/sklearn/covariance/_robust_covariance.py:186: RuntimeWarning: Determinant has increased; this should not happen: log(det) > log(previous_det) (194.007785141503774 > 194.005595112425226). You may want to try with a higher value of support_fraction (current value: 0.501).\n",
            "  warnings.warn(\n",
            "/home/vinicius/.local/lib/python3.8/site-packages/sklearn/covariance/_robust_covariance.py:186: RuntimeWarning: Determinant has increased; this should not happen: log(det) > log(previous_det) (194.036579710763334 > 194.006294090263935). You may want to try with a higher value of support_fraction (current value: 0.501).\n",
            "  warnings.warn(\n",
            "/home/vinicius/.local/lib/python3.8/site-packages/sklearn/covariance/_robust_covariance.py:186: RuntimeWarning: Determinant has increased; this should not happen: log(det) > log(previous_det) (194.075305046060322 > 194.049628561302001). You may want to try with a higher value of support_fraction (current value: 0.501).\n",
            "  warnings.warn(\n",
            "/home/vinicius/.local/lib/python3.8/site-packages/sklearn/covariance/_robust_covariance.py:186: RuntimeWarning: Determinant has increased; this should not happen: log(det) > log(previous_det) (194.053292442690321 > 194.036553179606358). You may want to try with a higher value of support_fraction (current value: 0.501).\n",
            "  warnings.warn(\n",
            "/home/vinicius/.local/lib/python3.8/site-packages/sklearn/covariance/_robust_covariance.py:186: RuntimeWarning: Determinant has increased; this should not happen: log(det) > log(previous_det) (194.038954121665824 > 193.982290454451686). You may want to try with a higher value of support_fraction (current value: 0.501).\n",
            "  warnings.warn(\n",
            "/home/vinicius/.local/lib/python3.8/site-packages/sklearn/covariance/_robust_covariance.py:186: RuntimeWarning: Determinant has increased; this should not happen: log(det) > log(previous_det) (193.982644884001274 > 193.963899386095164). You may want to try with a higher value of support_fraction (current value: 0.501).\n",
            "  warnings.warn(\n",
            "/home/vinicius/.local/lib/python3.8/site-packages/sklearn/covariance/_robust_covariance.py:186: RuntimeWarning: Determinant has increased; this should not happen: log(det) > log(previous_det) (193.993219551183074 > 193.984643469484041). You may want to try with a higher value of support_fraction (current value: 0.501).\n",
            "  warnings.warn(\n",
            "/home/vinicius/.local/lib/python3.8/site-packages/sklearn/covariance/_robust_covariance.py:186: RuntimeWarning: Determinant has increased; this should not happen: log(det) > log(previous_det) (194.124388288992549 > 194.072817790534458). You may want to try with a higher value of support_fraction (current value: 0.501).\n",
            "  warnings.warn(\n",
            "/home/vinicius/.local/lib/python3.8/site-packages/sklearn/covariance/_robust_covariance.py:186: RuntimeWarning: Determinant has increased; this should not happen: log(det) > log(previous_det) (194.019289748943663 > 194.009758507470707). You may want to try with a higher value of support_fraction (current value: 0.501).\n",
            "  warnings.warn(\n",
            "/home/vinicius/.local/lib/python3.8/site-packages/sklearn/covariance/_robust_covariance.py:186: RuntimeWarning: Determinant has increased; this should not happen: log(det) > log(previous_det) (194.042037057657524 > 194.021472790091394). You may want to try with a higher value of support_fraction (current value: 0.501).\n",
            "  warnings.warn(\n",
            "/home/vinicius/.local/lib/python3.8/site-packages/sklearn/covariance/_robust_covariance.py:186: RuntimeWarning: Determinant has increased; this should not happen: log(det) > log(previous_det) (193.937423084616171 > 193.908150793994736). You may want to try with a higher value of support_fraction (current value: 0.501).\n",
            "  warnings.warn(\n",
            "/home/vinicius/.local/lib/python3.8/site-packages/sklearn/covariance/_robust_covariance.py:186: RuntimeWarning: Determinant has increased; this should not happen: log(det) > log(previous_det) (193.932457612260862 > 193.918766341036218). You may want to try with a higher value of support_fraction (current value: 0.501).\n",
            "  warnings.warn(\n",
            "/home/vinicius/.local/lib/python3.8/site-packages/sklearn/covariance/_robust_covariance.py:186: RuntimeWarning: Determinant has increased; this should not happen: log(det) > log(previous_det) (193.942895564632977 > 193.927326024354613). You may want to try with a higher value of support_fraction (current value: 0.501).\n",
            "  warnings.warn(\n",
            "/home/vinicius/.local/lib/python3.8/site-packages/sklearn/covariance/_robust_covariance.py:186: RuntimeWarning: Determinant has increased; this should not happen: log(det) > log(previous_det) (193.946038349867848 > 193.922256276932956). You may want to try with a higher value of support_fraction (current value: 0.501).\n",
            "  warnings.warn(\n",
            "/home/vinicius/.local/lib/python3.8/site-packages/sklearn/covariance/_robust_covariance.py:186: RuntimeWarning: Determinant has increased; this should not happen: log(det) > log(previous_det) (193.796628831584655 > 193.773973730146906). You may want to try with a higher value of support_fraction (current value: 0.501).\n",
            "  warnings.warn(\n",
            "/home/vinicius/.local/lib/python3.8/site-packages/sklearn/covariance/_robust_covariance.py:186: RuntimeWarning: Determinant has increased; this should not happen: log(det) > log(previous_det) (193.936002105547601 > 193.931786866211013). You may want to try with a higher value of support_fraction (current value: 0.501).\n",
            "  warnings.warn(\n",
            "/home/vinicius/.local/lib/python3.8/site-packages/sklearn/covariance/_robust_covariance.py:186: RuntimeWarning: Determinant has increased; this should not happen: log(det) > log(previous_det) (193.939109048915611 > 193.936617562878894). You may want to try with a higher value of support_fraction (current value: 0.501).\n",
            "  warnings.warn(\n",
            "/home/vinicius/.local/lib/python3.8/site-packages/sklearn/covariance/_robust_covariance.py:186: RuntimeWarning: Determinant has increased; this should not happen: log(det) > log(previous_det) (193.945433260005871 > 193.940575069361870). You may want to try with a higher value of support_fraction (current value: 0.501).\n",
            "  warnings.warn(\n",
            "/home/vinicius/.local/lib/python3.8/site-packages/sklearn/covariance/_robust_covariance.py:186: RuntimeWarning: Determinant has increased; this should not happen: log(det) > log(previous_det) (193.784827028442351 > 193.781635978187410). You may want to try with a higher value of support_fraction (current value: 0.501).\n",
            "  warnings.warn(\n",
            "/home/vinicius/.local/lib/python3.8/site-packages/sklearn/covariance/_robust_covariance.py:186: RuntimeWarning: Determinant has increased; this should not happen: log(det) > log(previous_det) (193.775486426086445 > 193.766008774468787). You may want to try with a higher value of support_fraction (current value: 0.501).\n",
            "  warnings.warn(\n",
            "/home/vinicius/.local/lib/python3.8/site-packages/sklearn/covariance/_robust_covariance.py:186: RuntimeWarning: Determinant has increased; this should not happen: log(det) > log(previous_det) (194.028088051739218 > 193.965116318707260). You may want to try with a higher value of support_fraction (current value: 0.501).\n",
            "  warnings.warn(\n",
            "/home/vinicius/.local/lib/python3.8/site-packages/sklearn/covariance/_robust_covariance.py:186: RuntimeWarning: Determinant has increased; this should not happen: log(det) > log(previous_det) (194.012054732579287 > 193.950293729778195). You may want to try with a higher value of support_fraction (current value: 0.501).\n",
            "  warnings.warn(\n",
            "/home/vinicius/.local/lib/python3.8/site-packages/sklearn/covariance/_robust_covariance.py:186: RuntimeWarning: Determinant has increased; this should not happen: log(det) > log(previous_det) (193.974010378676127 > 193.931831401253703). You may want to try with a higher value of support_fraction (current value: 0.501).\n",
            "  warnings.warn(\n",
            "/home/vinicius/.local/lib/python3.8/site-packages/sklearn/covariance/_robust_covariance.py:186: RuntimeWarning: Determinant has increased; this should not happen: log(det) > log(previous_det) (194.025431622198340 > 193.980352771958536). You may want to try with a higher value of support_fraction (current value: 0.501).\n",
            "  warnings.warn(\n",
            "/home/vinicius/.local/lib/python3.8/site-packages/sklearn/covariance/_robust_covariance.py:186: RuntimeWarning: Determinant has increased; this should not happen: log(det) > log(previous_det) (194.017132130386358 > 193.962436591316333). You may want to try with a higher value of support_fraction (current value: 0.501).\n",
            "  warnings.warn(\n",
            "/home/vinicius/.local/lib/python3.8/site-packages/sklearn/covariance/_robust_covariance.py:186: RuntimeWarning: Determinant has increased; this should not happen: log(det) > log(previous_det) (193.952748270450400 > 193.937179675040312). You may want to try with a higher value of support_fraction (current value: 0.501).\n",
            "  warnings.warn(\n",
            "/home/vinicius/.local/lib/python3.8/site-packages/sklearn/covariance/_robust_covariance.py:186: RuntimeWarning: Determinant has increased; this should not happen: log(det) > log(previous_det) (193.813562694236765 > 193.788532654227907). You may want to try with a higher value of support_fraction (current value: 0.501).\n",
            "  warnings.warn(\n",
            "/home/vinicius/.local/lib/python3.8/site-packages/sklearn/covariance/_robust_covariance.py:186: RuntimeWarning: Determinant has increased; this should not happen: log(det) > log(previous_det) (193.986388245216204 > 193.972142753557932). You may want to try with a higher value of support_fraction (current value: 0.501).\n",
            "  warnings.warn(\n",
            "/home/vinicius/.local/lib/python3.8/site-packages/sklearn/covariance/_robust_covariance.py:186: RuntimeWarning: Determinant has increased; this should not happen: log(det) > log(previous_det) (194.056719923993370 > 194.044275331737680). You may want to try with a higher value of support_fraction (current value: 0.501).\n",
            "  warnings.warn(\n",
            "/home/vinicius/.local/lib/python3.8/site-packages/sklearn/covariance/_robust_covariance.py:186: RuntimeWarning: Determinant has increased; this should not happen: log(det) > log(previous_det) (194.090281091462543 > 194.067740117313377). You may want to try with a higher value of support_fraction (current value: 0.501).\n",
            "  warnings.warn(\n",
            "/home/vinicius/.local/lib/python3.8/site-packages/sklearn/covariance/_robust_covariance.py:186: RuntimeWarning: Determinant has increased; this should not happen: log(det) > log(previous_det) (194.026682273656945 > 193.999039827811401). You may want to try with a higher value of support_fraction (current value: 0.501).\n",
            "  warnings.warn(\n",
            "/home/vinicius/.local/lib/python3.8/site-packages/sklearn/covariance/_robust_covariance.py:186: RuntimeWarning: Determinant has increased; this should not happen: log(det) > log(previous_det) (194.053563476921880 > 194.041488504958920). You may want to try with a higher value of support_fraction (current value: 0.501).\n",
            "  warnings.warn(\n",
            "/home/vinicius/.local/lib/python3.8/site-packages/sklearn/covariance/_robust_covariance.py:186: RuntimeWarning: Determinant has increased; this should not happen: log(det) > log(previous_det) (194.028270070108022 > 194.021790533537853). You may want to try with a higher value of support_fraction (current value: 0.501).\n",
            "  warnings.warn(\n",
            "/home/vinicius/.local/lib/python3.8/site-packages/sklearn/covariance/_robust_covariance.py:186: RuntimeWarning: Determinant has increased; this should not happen: log(det) > log(previous_det) (194.040812260092764 > 194.029940000042643). You may want to try with a higher value of support_fraction (current value: 0.501).\n",
            "  warnings.warn(\n",
            "/home/vinicius/.local/lib/python3.8/site-packages/sklearn/covariance/_robust_covariance.py:186: RuntimeWarning: Determinant has increased; this should not happen: log(det) > log(previous_det) (194.045190634940951 > 194.036319912662748). You may want to try with a higher value of support_fraction (current value: 0.501).\n",
            "  warnings.warn(\n",
            "/home/vinicius/.local/lib/python3.8/site-packages/sklearn/covariance/_robust_covariance.py:186: RuntimeWarning: Determinant has increased; this should not happen: log(det) > log(previous_det) (194.097738812750919 > 194.066492620274516). You may want to try with a higher value of support_fraction (current value: 0.501).\n",
            "  warnings.warn(\n",
            "/home/vinicius/.local/lib/python3.8/site-packages/sklearn/covariance/_robust_covariance.py:186: RuntimeWarning: Determinant has increased; this should not happen: log(det) > log(previous_det) (194.095568794692724 > 194.074892433314886). You may want to try with a higher value of support_fraction (current value: 0.501).\n",
            "  warnings.warn(\n",
            "/home/vinicius/.local/lib/python3.8/site-packages/sklearn/covariance/_robust_covariance.py:186: RuntimeWarning: Determinant has increased; this should not happen: log(det) > log(previous_det) (194.067943079851801 > 194.021750691409864). You may want to try with a higher value of support_fraction (current value: 0.501).\n",
            "  warnings.warn(\n",
            "/home/vinicius/.local/lib/python3.8/site-packages/sklearn/covariance/_robust_covariance.py:186: RuntimeWarning: Determinant has increased; this should not happen: log(det) > log(previous_det) (194.082707873384180 > 194.022813762259659). You may want to try with a higher value of support_fraction (current value: 0.501).\n",
            "  warnings.warn(\n",
            "/home/vinicius/.local/lib/python3.8/site-packages/sklearn/covariance/_robust_covariance.py:186: RuntimeWarning: Determinant has increased; this should not happen: log(det) > log(previous_det) (194.111745388824005 > 194.042442845099345). You may want to try with a higher value of support_fraction (current value: 0.501).\n",
            "  warnings.warn(\n",
            "/home/vinicius/.local/lib/python3.8/site-packages/sklearn/covariance/_robust_covariance.py:186: RuntimeWarning: Determinant has increased; this should not happen: log(det) > log(previous_det) (194.100720742072838 > 194.093846478636266). You may want to try with a higher value of support_fraction (current value: 0.501).\n",
            "  warnings.warn(\n",
            "/home/vinicius/.local/lib/python3.8/site-packages/sklearn/covariance/_robust_covariance.py:186: RuntimeWarning: Determinant has increased; this should not happen: log(det) > log(previous_det) (194.091503226021644 > 194.017398724387618). You may want to try with a higher value of support_fraction (current value: 0.501).\n",
            "  warnings.warn(\n",
            "/home/vinicius/.local/lib/python3.8/site-packages/sklearn/covariance/_robust_covariance.py:186: RuntimeWarning: Determinant has increased; this should not happen: log(det) > log(previous_det) (194.114768697037732 > 194.069613228084393). You may want to try with a higher value of support_fraction (current value: 0.501).\n",
            "  warnings.warn(\n",
            "/home/vinicius/.local/lib/python3.8/site-packages/sklearn/covariance/_robust_covariance.py:186: RuntimeWarning: Determinant has increased; this should not happen: log(det) > log(previous_det) (194.058431287302028 > 194.027785732537183). You may want to try with a higher value of support_fraction (current value: 0.501).\n",
            "  warnings.warn(\n",
            "/home/vinicius/.local/lib/python3.8/site-packages/sklearn/covariance/_robust_covariance.py:186: RuntimeWarning: Determinant has increased; this should not happen: log(det) > log(previous_det) (194.040104075309358 > 194.030474153882921). You may want to try with a higher value of support_fraction (current value: 0.501).\n",
            "  warnings.warn(\n",
            "/home/vinicius/.local/lib/python3.8/site-packages/sklearn/covariance/_robust_covariance.py:186: RuntimeWarning: Determinant has increased; this should not happen: log(det) > log(previous_det) (194.097893885988412 > 194.068653478619240). You may want to try with a higher value of support_fraction (current value: 0.501).\n",
            "  warnings.warn(\n",
            "/home/vinicius/.local/lib/python3.8/site-packages/sklearn/covariance/_robust_covariance.py:186: RuntimeWarning: Determinant has increased; this should not happen: log(det) > log(previous_det) (193.808760542107365 > 193.793038570929497). You may want to try with a higher value of support_fraction (current value: 0.501).\n",
            "  warnings.warn(\n",
            "/home/vinicius/.local/lib/python3.8/site-packages/sklearn/covariance/_robust_covariance.py:186: RuntimeWarning: Determinant has increased; this should not happen: log(det) > log(previous_det) (193.808760542107365 > 193.793038570929497). You may want to try with a higher value of support_fraction (current value: 0.501).\n",
            "  warnings.warn(\n",
            "/home/vinicius/.local/lib/python3.8/site-packages/sklearn/covariance/_robust_covariance.py:186: RuntimeWarning: Determinant has increased; this should not happen: log(det) > log(previous_det) (194.046051511295360 > 194.032115506979352). You may want to try with a higher value of support_fraction (current value: 0.501).\n",
            "  warnings.warn(\n",
            "/home/vinicius/.local/lib/python3.8/site-packages/sklearn/covariance/_robust_covariance.py:186: RuntimeWarning: Determinant has increased; this should not happen: log(det) > log(previous_det) (193.764793563077376 > 193.662365952098838). You may want to try with a higher value of support_fraction (current value: 0.501).\n",
            "  warnings.warn(\n",
            "/home/vinicius/.local/lib/python3.8/site-packages/sklearn/covariance/_robust_covariance.py:186: RuntimeWarning: Determinant has increased; this should not happen: log(det) > log(previous_det) (193.800197616361572 > 193.784101485038605). You may want to try with a higher value of support_fraction (current value: 0.501).\n",
            "  warnings.warn(\n",
            "/home/vinicius/.local/lib/python3.8/site-packages/sklearn/covariance/_robust_covariance.py:186: RuntimeWarning: Determinant has increased; this should not happen: log(det) > log(previous_det) (194.041910828992059 > 194.014172780430954). You may want to try with a higher value of support_fraction (current value: 0.501).\n",
            "  warnings.warn(\n",
            "/home/vinicius/.local/lib/python3.8/site-packages/sklearn/covariance/_robust_covariance.py:186: RuntimeWarning: Determinant has increased; this should not happen: log(det) > log(previous_det) (193.774492235699796 > 193.772098357510288). You may want to try with a higher value of support_fraction (current value: 0.501).\n",
            "  warnings.warn(\n",
            "/home/vinicius/.local/lib/python3.8/site-packages/sklearn/covariance/_robust_covariance.py:186: RuntimeWarning: Determinant has increased; this should not happen: log(det) > log(previous_det) (194.046870113134787 > 194.031256623949076). You may want to try with a higher value of support_fraction (current value: 0.501).\n",
            "  warnings.warn(\n",
            "/home/vinicius/.local/lib/python3.8/site-packages/sklearn/covariance/_robust_covariance.py:186: RuntimeWarning: Determinant has increased; this should not happen: log(det) > log(previous_det) (194.033715565082758 > 193.964880888914166). You may want to try with a higher value of support_fraction (current value: 0.501).\n",
            "  warnings.warn(\n",
            "/home/vinicius/.local/lib/python3.8/site-packages/sklearn/covariance/_robust_covariance.py:186: RuntimeWarning: Determinant has increased; this should not happen: log(det) > log(previous_det) (194.058762433084411 > 194.039294409102382). You may want to try with a higher value of support_fraction (current value: 0.501).\n",
            "  warnings.warn(\n",
            "/home/vinicius/.local/lib/python3.8/site-packages/sklearn/covariance/_robust_covariance.py:186: RuntimeWarning: Determinant has increased; this should not happen: log(det) > log(previous_det) (194.011882470760469 > 194.007934847620106). You may want to try with a higher value of support_fraction (current value: 0.501).\n",
            "  warnings.warn(\n",
            "/home/vinicius/.local/lib/python3.8/site-packages/sklearn/covariance/_robust_covariance.py:186: RuntimeWarning: Determinant has increased; this should not happen: log(det) > log(previous_det) (194.021982594396860 > 193.996518508645096). You may want to try with a higher value of support_fraction (current value: 0.501).\n",
            "  warnings.warn(\n",
            "/home/vinicius/.local/lib/python3.8/site-packages/sklearn/covariance/_robust_covariance.py:186: RuntimeWarning: Determinant has increased; this should not happen: log(det) > log(previous_det) (194.044777989736019 > 194.037194080065149). You may want to try with a higher value of support_fraction (current value: 0.501).\n",
            "  warnings.warn(\n",
            "/home/vinicius/.local/lib/python3.8/site-packages/sklearn/covariance/_robust_covariance.py:186: RuntimeWarning: Determinant has increased; this should not happen: log(det) > log(previous_det) (194.095583078790980 > 194.073567466363670). You may want to try with a higher value of support_fraction (current value: 0.501).\n",
            "  warnings.warn(\n",
            "/home/vinicius/.local/lib/python3.8/site-packages/sklearn/covariance/_robust_covariance.py:186: RuntimeWarning: Determinant has increased; this should not happen: log(det) > log(previous_det) (194.083529936279319 > 194.013476749338707). You may want to try with a higher value of support_fraction (current value: 0.501).\n",
            "  warnings.warn(\n",
            "/home/vinicius/.local/lib/python3.8/site-packages/sklearn/covariance/_robust_covariance.py:186: RuntimeWarning: Determinant has increased; this should not happen: log(det) > log(previous_det) (194.081241967028717 > 194.052425206740622). You may want to try with a higher value of support_fraction (current value: 0.501).\n",
            "  warnings.warn(\n",
            "/home/vinicius/.local/lib/python3.8/site-packages/sklearn/covariance/_robust_covariance.py:186: RuntimeWarning: Determinant has increased; this should not happen: log(det) > log(previous_det) (193.808760542107365 > 193.793038570929497). You may want to try with a higher value of support_fraction (current value: 0.501).\n",
            "  warnings.warn(\n",
            "/home/vinicius/.local/lib/python3.8/site-packages/sklearn/covariance/_robust_covariance.py:186: RuntimeWarning: Determinant has increased; this should not happen: log(det) > log(previous_det) (194.040352333227020 > 194.004376736461296). You may want to try with a higher value of support_fraction (current value: 0.501).\n",
            "  warnings.warn(\n",
            "/home/vinicius/.local/lib/python3.8/site-packages/sklearn/covariance/_robust_covariance.py:186: RuntimeWarning: Determinant has increased; this should not happen: log(det) > log(previous_det) (194.041668719045077 > 194.038758395893979). You may want to try with a higher value of support_fraction (current value: 0.501).\n",
            "  warnings.warn(\n",
            "/home/vinicius/.local/lib/python3.8/site-packages/sklearn/covariance/_robust_covariance.py:186: RuntimeWarning: Determinant has increased; this should not happen: log(det) > log(previous_det) (194.039968912940310 > 194.029723847863210). You may want to try with a higher value of support_fraction (current value: 0.501).\n",
            "  warnings.warn(\n",
            "/home/vinicius/.local/lib/python3.8/site-packages/sklearn/covariance/_robust_covariance.py:186: RuntimeWarning: Determinant has increased; this should not happen: log(det) > log(previous_det) (193.974363982595747 > 193.970129290272013). You may want to try with a higher value of support_fraction (current value: 0.501).\n",
            "  warnings.warn(\n",
            "/home/vinicius/.local/lib/python3.8/site-packages/sklearn/covariance/_robust_covariance.py:186: RuntimeWarning: Determinant has increased; this should not happen: log(det) > log(previous_det) (194.058358247647732 > 194.054161931882874). You may want to try with a higher value of support_fraction (current value: 0.501).\n",
            "  warnings.warn(\n",
            "/home/vinicius/.local/lib/python3.8/site-packages/sklearn/covariance/_robust_covariance.py:186: RuntimeWarning: Determinant has increased; this should not happen: log(det) > log(previous_det) (193.999494967119176 > 193.984595633688741). You may want to try with a higher value of support_fraction (current value: 0.501).\n",
            "  warnings.warn(\n",
            "/home/vinicius/.local/lib/python3.8/site-packages/sklearn/covariance/_robust_covariance.py:186: RuntimeWarning: Determinant has increased; this should not happen: log(det) > log(previous_det) (194.045633033690876 > 194.041968406580196). You may want to try with a higher value of support_fraction (current value: 0.501).\n",
            "  warnings.warn(\n",
            "/home/vinicius/.local/lib/python3.8/site-packages/sklearn/covariance/_robust_covariance.py:186: RuntimeWarning: Determinant has increased; this should not happen: log(det) > log(previous_det) (194.030778702583120 > 194.022658252943188). You may want to try with a higher value of support_fraction (current value: 0.501).\n",
            "  warnings.warn(\n",
            "/home/vinicius/.local/lib/python3.8/site-packages/sklearn/covariance/_robust_covariance.py:186: RuntimeWarning: Determinant has increased; this should not happen: log(det) > log(previous_det) (194.054584126587486 > 194.047580109776902). You may want to try with a higher value of support_fraction (current value: 0.501).\n",
            "  warnings.warn(\n",
            "/home/vinicius/.local/lib/python3.8/site-packages/sklearn/covariance/_robust_covariance.py:186: RuntimeWarning: Determinant has increased; this should not happen: log(det) > log(previous_det) (194.008854705114516 > 194.006265948935209). You may want to try with a higher value of support_fraction (current value: 0.501).\n",
            "  warnings.warn(\n",
            "/home/vinicius/.local/lib/python3.8/site-packages/sklearn/covariance/_robust_covariance.py:186: RuntimeWarning: Determinant has increased; this should not happen: log(det) > log(previous_det) (194.021547315749160 > 193.980281020880540). You may want to try with a higher value of support_fraction (current value: 0.501).\n",
            "  warnings.warn(\n",
            "/home/vinicius/.local/lib/python3.8/site-packages/sklearn/covariance/_robust_covariance.py:186: RuntimeWarning: Determinant has increased; this should not happen: log(det) > log(previous_det) (194.031929328238363 > 194.021240118905638). You may want to try with a higher value of support_fraction (current value: 0.501).\n",
            "  warnings.warn(\n",
            "/home/vinicius/.local/lib/python3.8/site-packages/sklearn/covariance/_robust_covariance.py:186: RuntimeWarning: Determinant has increased; this should not happen: log(det) > log(previous_det) (194.031809764722482 > 194.026869374027513). You may want to try with a higher value of support_fraction (current value: 0.501).\n",
            "  warnings.warn(\n",
            "/home/vinicius/.local/lib/python3.8/site-packages/sklearn/covariance/_robust_covariance.py:186: RuntimeWarning: Determinant has increased; this should not happen: log(det) > log(previous_det) (194.025153463498697 > 194.010986140874110). You may want to try with a higher value of support_fraction (current value: 0.501).\n",
            "  warnings.warn(\n",
            "/home/vinicius/.local/lib/python3.8/site-packages/sklearn/covariance/_robust_covariance.py:186: RuntimeWarning: Determinant has increased; this should not happen: log(det) > log(previous_det) (194.048101460619506 > 194.015163807561777). You may want to try with a higher value of support_fraction (current value: 0.501).\n",
            "  warnings.warn(\n",
            "/home/vinicius/.local/lib/python3.8/site-packages/sklearn/covariance/_robust_covariance.py:186: RuntimeWarning: Determinant has increased; this should not happen: log(det) > log(previous_det) (193.943643946642680 > 193.930145649676490). You may want to try with a higher value of support_fraction (current value: 0.501).\n",
            "  warnings.warn(\n",
            "/home/vinicius/.local/lib/python3.8/site-packages/sklearn/covariance/_robust_covariance.py:186: RuntimeWarning: Determinant has increased; this should not happen: log(det) > log(previous_det) (194.037657281873550 > 193.997018445115685). You may want to try with a higher value of support_fraction (current value: 0.501).\n",
            "  warnings.warn(\n",
            "/home/vinicius/.local/lib/python3.8/site-packages/sklearn/covariance/_robust_covariance.py:186: RuntimeWarning: Determinant has increased; this should not happen: log(det) > log(previous_det) (194.053418078250957 > 194.042566503711157). You may want to try with a higher value of support_fraction (current value: 0.501).\n",
            "  warnings.warn(\n",
            "/home/vinicius/.local/lib/python3.8/site-packages/sklearn/covariance/_robust_covariance.py:186: RuntimeWarning: Determinant has increased; this should not happen: log(det) > log(previous_det) (194.057075189995402 > 194.021126561098100). You may want to try with a higher value of support_fraction (current value: 0.501).\n",
            "  warnings.warn(\n",
            "/home/vinicius/.local/lib/python3.8/site-packages/sklearn/covariance/_robust_covariance.py:186: RuntimeWarning: Determinant has increased; this should not happen: log(det) > log(previous_det) (194.068468912065725 > 194.034777366218094). You may want to try with a higher value of support_fraction (current value: 0.501).\n",
            "  warnings.warn(\n",
            "/home/vinicius/.local/lib/python3.8/site-packages/sklearn/covariance/_robust_covariance.py:186: RuntimeWarning: Determinant has increased; this should not happen: log(det) > log(previous_det) (194.027363396071792 > 194.001102087995349). You may want to try with a higher value of support_fraction (current value: 0.501).\n",
            "  warnings.warn(\n",
            "/home/vinicius/.local/lib/python3.8/site-packages/sklearn/covariance/_robust_covariance.py:186: RuntimeWarning: Determinant has increased; this should not happen: log(det) > log(previous_det) (194.060243004821501 > 194.027613571182201). You may want to try with a higher value of support_fraction (current value: 0.501).\n",
            "  warnings.warn(\n",
            "/home/vinicius/.local/lib/python3.8/site-packages/sklearn/covariance/_robust_covariance.py:186: RuntimeWarning: Determinant has increased; this should not happen: log(det) > log(previous_det) (194.037864346309078 > 194.009846825334677). You may want to try with a higher value of support_fraction (current value: 0.501).\n",
            "  warnings.warn(\n",
            "/home/vinicius/.local/lib/python3.8/site-packages/sklearn/covariance/_robust_covariance.py:186: RuntimeWarning: Determinant has increased; this should not happen: log(det) > log(previous_det) (194.047981670105884 > 194.040360277371491). You may want to try with a higher value of support_fraction (current value: 0.501).\n",
            "  warnings.warn(\n",
            "/home/vinicius/.local/lib/python3.8/site-packages/sklearn/covariance/_robust_covariance.py:186: RuntimeWarning: Determinant has increased; this should not happen: log(det) > log(previous_det) (194.021408483989035 > 194.015861268326404). You may want to try with a higher value of support_fraction (current value: 0.501).\n",
            "  warnings.warn(\n",
            "/home/vinicius/.local/lib/python3.8/site-packages/sklearn/covariance/_robust_covariance.py:186: RuntimeWarning: Determinant has increased; this should not happen: log(det) > log(previous_det) (194.064222454923737 > 194.034486192464612). You may want to try with a higher value of support_fraction (current value: 0.501).\n",
            "  warnings.warn(\n",
            "/home/vinicius/.local/lib/python3.8/site-packages/sklearn/covariance/_robust_covariance.py:186: RuntimeWarning: Determinant has increased; this should not happen: log(det) > log(previous_det) (194.128739954920007 > 194.090520400830769). You may want to try with a higher value of support_fraction (current value: 0.501).\n",
            "  warnings.warn(\n",
            "/home/vinicius/.local/lib/python3.8/site-packages/sklearn/covariance/_robust_covariance.py:186: RuntimeWarning: Determinant has increased; this should not happen: log(det) > log(previous_det) (194.135409259138868 > 194.063083999935486). You may want to try with a higher value of support_fraction (current value: 0.501).\n",
            "  warnings.warn(\n",
            "/home/vinicius/.local/lib/python3.8/site-packages/sklearn/covariance/_robust_covariance.py:186: RuntimeWarning: Determinant has increased; this should not happen: log(det) > log(previous_det) (194.060617512839144 > 194.054611650627976). You may want to try with a higher value of support_fraction (current value: 0.501).\n",
            "  warnings.warn(\n",
            "/home/vinicius/.local/lib/python3.8/site-packages/sklearn/covariance/_robust_covariance.py:186: RuntimeWarning: Determinant has increased; this should not happen: log(det) > log(previous_det) (194.137670241369165 > 194.128378957535091). You may want to try with a higher value of support_fraction (current value: 0.501).\n",
            "  warnings.warn(\n",
            "/home/vinicius/.local/lib/python3.8/site-packages/sklearn/covariance/_robust_covariance.py:186: RuntimeWarning: Determinant has increased; this should not happen: log(det) > log(previous_det) (194.103735297305974 > 194.098413038322548). You may want to try with a higher value of support_fraction (current value: 0.501).\n",
            "  warnings.warn(\n",
            "/home/vinicius/.local/lib/python3.8/site-packages/sklearn/covariance/_robust_covariance.py:186: RuntimeWarning: Determinant has increased; this should not happen: log(det) > log(previous_det) (194.118446665755215 > 194.084986106664246). You may want to try with a higher value of support_fraction (current value: 0.501).\n",
            "  warnings.warn(\n",
            "/home/vinicius/.local/lib/python3.8/site-packages/sklearn/covariance/_robust_covariance.py:186: RuntimeWarning: Determinant has increased; this should not happen: log(det) > log(previous_det) (194.113491525906880 > 194.087341907280774). You may want to try with a higher value of support_fraction (current value: 0.501).\n",
            "  warnings.warn(\n",
            "/home/vinicius/.local/lib/python3.8/site-packages/sklearn/covariance/_robust_covariance.py:186: RuntimeWarning: Determinant has increased; this should not happen: log(det) > log(previous_det) (194.127214887384156 > 194.076946696326928). You may want to try with a higher value of support_fraction (current value: 0.501).\n",
            "  warnings.warn(\n",
            "/home/vinicius/.local/lib/python3.8/site-packages/sklearn/covariance/_robust_covariance.py:186: RuntimeWarning: Determinant has increased; this should not happen: log(det) > log(previous_det) (193.944839204390178 > 193.917278952356043). You may want to try with a higher value of support_fraction (current value: 0.501).\n",
            "  warnings.warn(\n",
            "/home/vinicius/.local/lib/python3.8/site-packages/sklearn/covariance/_robust_covariance.py:186: RuntimeWarning: Determinant has increased; this should not happen: log(det) > log(previous_det) (193.792250848809715 > 193.788697032835415). You may want to try with a higher value of support_fraction (current value: 0.501).\n",
            "  warnings.warn(\n",
            "/home/vinicius/.local/lib/python3.8/site-packages/sklearn/covariance/_robust_covariance.py:186: RuntimeWarning: Determinant has increased; this should not happen: log(det) > log(previous_det) (193.791694971403331 > 193.772730943244284). You may want to try with a higher value of support_fraction (current value: 0.501).\n",
            "  warnings.warn(\n",
            "/home/vinicius/.local/lib/python3.8/site-packages/sklearn/covariance/_robust_covariance.py:186: RuntimeWarning: Determinant has increased; this should not happen: log(det) > log(previous_det) (193.766429896315600 > 193.739740326193271). You may want to try with a higher value of support_fraction (current value: 0.501).\n",
            "  warnings.warn(\n",
            "/home/vinicius/.local/lib/python3.8/site-packages/sklearn/covariance/_robust_covariance.py:186: RuntimeWarning: Determinant has increased; this should not happen: log(det) > log(previous_det) (193.944944598546897 > 193.919574357726361). You may want to try with a higher value of support_fraction (current value: 0.501).\n",
            "  warnings.warn(\n",
            "/home/vinicius/.local/lib/python3.8/site-packages/sklearn/covariance/_robust_covariance.py:186: RuntimeWarning: Determinant has increased; this should not happen: log(det) > log(previous_det) (193.944839204390178 > 193.917278952356043). You may want to try with a higher value of support_fraction (current value: 0.501).\n",
            "  warnings.warn(\n",
            "/home/vinicius/.local/lib/python3.8/site-packages/sklearn/covariance/_robust_covariance.py:186: RuntimeWarning: Determinant has increased; this should not happen: log(det) > log(previous_det) (193.794708518457384 > 193.785012277232397). You may want to try with a higher value of support_fraction (current value: 0.501).\n",
            "  warnings.warn(\n",
            "/home/vinicius/.local/lib/python3.8/site-packages/sklearn/covariance/_robust_covariance.py:186: RuntimeWarning: Determinant has increased; this should not happen: log(det) > log(previous_det) (193.951301789083857 > 193.914402379696554). You may want to try with a higher value of support_fraction (current value: 0.501).\n",
            "  warnings.warn(\n",
            "/home/vinicius/.local/lib/python3.8/site-packages/sklearn/covariance/_robust_covariance.py:186: RuntimeWarning: Determinant has increased; this should not happen: log(det) > log(previous_det) (193.951620202390558 > 193.939374542218872). You may want to try with a higher value of support_fraction (current value: 0.501).\n",
            "  warnings.warn(\n",
            "/home/vinicius/.local/lib/python3.8/site-packages/sklearn/covariance/_robust_covariance.py:186: RuntimeWarning: Determinant has increased; this should not happen: log(det) > log(previous_det) (193.949302557830862 > 193.938748485534944). You may want to try with a higher value of support_fraction (current value: 0.501).\n",
            "  warnings.warn(\n",
            "/home/vinicius/.local/lib/python3.8/site-packages/sklearn/covariance/_robust_covariance.py:186: RuntimeWarning: Determinant has increased; this should not happen: log(det) > log(previous_det) (194.107699204726316 > 194.101922837784684). You may want to try with a higher value of support_fraction (current value: 0.501).\n",
            "  warnings.warn(\n",
            "/home/vinicius/.local/lib/python3.8/site-packages/sklearn/covariance/_robust_covariance.py:186: RuntimeWarning: Determinant has increased; this should not happen: log(det) > log(previous_det) (194.053262361237245 > 194.035224968223730). You may want to try with a higher value of support_fraction (current value: 0.501).\n",
            "  warnings.warn(\n",
            "/home/vinicius/.local/lib/python3.8/site-packages/sklearn/covariance/_robust_covariance.py:186: RuntimeWarning: Determinant has increased; this should not happen: log(det) > log(previous_det) (194.077875360072454 > 194.072486513611551). You may want to try with a higher value of support_fraction (current value: 0.501).\n",
            "  warnings.warn(\n",
            "/home/vinicius/.local/lib/python3.8/site-packages/sklearn/covariance/_robust_covariance.py:186: RuntimeWarning: Determinant has increased; this should not happen: log(det) > log(previous_det) (194.074686696380951 > 194.037393104709565). You may want to try with a higher value of support_fraction (current value: 0.501).\n",
            "  warnings.warn(\n",
            "/home/vinicius/.local/lib/python3.8/site-packages/sklearn/covariance/_robust_covariance.py:186: RuntimeWarning: Determinant has increased; this should not happen: log(det) > log(previous_det) (194.026622615123131 > 194.018861629841041). You may want to try with a higher value of support_fraction (current value: 0.501).\n",
            "  warnings.warn(\n",
            "/home/vinicius/.local/lib/python3.8/site-packages/sklearn/covariance/_robust_covariance.py:186: RuntimeWarning: Determinant has increased; this should not happen: log(det) > log(previous_det) (194.121163268545672 > 194.102491053466707). You may want to try with a higher value of support_fraction (current value: 0.501).\n",
            "  warnings.warn(\n",
            "/home/vinicius/.local/lib/python3.8/site-packages/sklearn/covariance/_robust_covariance.py:186: RuntimeWarning: Determinant has increased; this should not happen: log(det) > log(previous_det) (194.120822486831059 > 194.108576841282456). You may want to try with a higher value of support_fraction (current value: 0.501).\n",
            "  warnings.warn(\n",
            "/home/vinicius/.local/lib/python3.8/site-packages/sklearn/covariance/_robust_covariance.py:186: RuntimeWarning: Determinant has increased; this should not happen: log(det) > log(previous_det) (194.080683109347746 > 194.033602464603632). You may want to try with a higher value of support_fraction (current value: 0.501).\n",
            "  warnings.warn(\n",
            "/home/vinicius/.local/lib/python3.8/site-packages/sklearn/covariance/_robust_covariance.py:186: RuntimeWarning: Determinant has increased; this should not happen: log(det) > log(previous_det) (194.032712950241176 > 194.005594690958958). You may want to try with a higher value of support_fraction (current value: 0.501).\n",
            "  warnings.warn(\n",
            "/home/vinicius/.local/lib/python3.8/site-packages/sklearn/covariance/_robust_covariance.py:186: RuntimeWarning: Determinant has increased; this should not happen: log(det) > log(previous_det) (194.034863328964320 > 194.032232233124148). You may want to try with a higher value of support_fraction (current value: 0.501).\n",
            "  warnings.warn(\n",
            "/home/vinicius/.local/lib/python3.8/site-packages/sklearn/covariance/_robust_covariance.py:186: RuntimeWarning: Determinant has increased; this should not happen: log(det) > log(previous_det) (194.029219720729827 > 194.004733107064624). You may want to try with a higher value of support_fraction (current value: 0.501).\n",
            "  warnings.warn(\n",
            "/home/vinicius/.local/lib/python3.8/site-packages/sklearn/covariance/_robust_covariance.py:186: RuntimeWarning: Determinant has increased; this should not happen: log(det) > log(previous_det) (194.037956102153515 > 193.990880410828169). You may want to try with a higher value of support_fraction (current value: 0.501).\n",
            "  warnings.warn(\n",
            "/home/vinicius/.local/lib/python3.8/site-packages/sklearn/covariance/_robust_covariance.py:186: RuntimeWarning: Determinant has increased; this should not happen: log(det) > log(previous_det) (194.042921122731883 > 194.000462194667563). You may want to try with a higher value of support_fraction (current value: 0.501).\n",
            "  warnings.warn(\n",
            "/home/vinicius/.local/lib/python3.8/site-packages/sklearn/covariance/_robust_covariance.py:186: RuntimeWarning: Determinant has increased; this should not happen: log(det) > log(previous_det) (194.057680792117992 > 194.041526039444875). You may want to try with a higher value of support_fraction (current value: 0.501).\n",
            "  warnings.warn(\n",
            "/home/vinicius/.local/lib/python3.8/site-packages/sklearn/covariance/_robust_covariance.py:186: RuntimeWarning: Determinant has increased; this should not happen: log(det) > log(previous_det) (193.952546701970959 > 193.943947496154379). You may want to try with a higher value of support_fraction (current value: 0.501).\n",
            "  warnings.warn(\n",
            "/home/vinicius/.local/lib/python3.8/site-packages/sklearn/covariance/_robust_covariance.py:186: RuntimeWarning: Determinant has increased; this should not happen: log(det) > log(previous_det) (193.940590821161607 > 193.931433074657434). You may want to try with a higher value of support_fraction (current value: 0.501).\n",
            "  warnings.warn(\n",
            "/home/vinicius/.local/lib/python3.8/site-packages/sklearn/covariance/_robust_covariance.py:186: RuntimeWarning: Determinant has increased; this should not happen: log(det) > log(previous_det) (193.802949509523472 > 193.798072049936707). You may want to try with a higher value of support_fraction (current value: 0.501).\n",
            "  warnings.warn(\n",
            "/home/vinicius/.local/lib/python3.8/site-packages/sklearn/covariance/_robust_covariance.py:186: RuntimeWarning: Determinant has increased; this should not happen: log(det) > log(previous_det) (194.132514625836990 > 194.083497100094121). You may want to try with a higher value of support_fraction (current value: 0.501).\n",
            "  warnings.warn(\n",
            "/home/vinicius/.local/lib/python3.8/site-packages/sklearn/covariance/_robust_covariance.py:186: RuntimeWarning: Determinant has increased; this should not happen: log(det) > log(previous_det) (194.091832891408416 > 194.088612250521948). You may want to try with a higher value of support_fraction (current value: 0.501).\n",
            "  warnings.warn(\n",
            "/home/vinicius/.local/lib/python3.8/site-packages/sklearn/covariance/_robust_covariance.py:186: RuntimeWarning: Determinant has increased; this should not happen: log(det) > log(previous_det) (194.022671295574781 > 194.015165537973701). You may want to try with a higher value of support_fraction (current value: 0.501).\n",
            "  warnings.warn(\n",
            "/home/vinicius/.local/lib/python3.8/site-packages/sklearn/covariance/_robust_covariance.py:186: RuntimeWarning: Determinant has increased; this should not happen: log(det) > log(previous_det) (194.090032882510997 > 194.078518152341189). You may want to try with a higher value of support_fraction (current value: 0.501).\n",
            "  warnings.warn(\n",
            "/home/vinicius/.local/lib/python3.8/site-packages/sklearn/covariance/_robust_covariance.py:186: RuntimeWarning: Determinant has increased; this should not happen: log(det) > log(previous_det) (194.088322341798460 > 194.060904866032843). You may want to try with a higher value of support_fraction (current value: 0.501).\n",
            "  warnings.warn(\n",
            "/home/vinicius/.local/lib/python3.8/site-packages/sklearn/covariance/_robust_covariance.py:186: RuntimeWarning: Determinant has increased; this should not happen: log(det) > log(previous_det) (194.094512627137846 > 194.078484587972923). You may want to try with a higher value of support_fraction (current value: 0.501).\n",
            "  warnings.warn(\n",
            "/home/vinicius/.local/lib/python3.8/site-packages/sklearn/covariance/_robust_covariance.py:186: RuntimeWarning: Determinant has increased; this should not happen: log(det) > log(previous_det) (194.092348016530082 > 194.088138389802850). You may want to try with a higher value of support_fraction (current value: 0.501).\n",
            "  warnings.warn(\n",
            "/home/vinicius/.local/lib/python3.8/site-packages/sklearn/covariance/_robust_covariance.py:186: RuntimeWarning: Determinant has increased; this should not happen: log(det) > log(previous_det) (194.088887431526331 > 194.080416448825986). You may want to try with a higher value of support_fraction (current value: 0.501).\n",
            "  warnings.warn(\n",
            "/home/vinicius/.local/lib/python3.8/site-packages/sklearn/covariance/_robust_covariance.py:186: RuntimeWarning: Determinant has increased; this should not happen: log(det) > log(previous_det) (194.122685076417582 > 194.088138523015857). You may want to try with a higher value of support_fraction (current value: 0.501).\n",
            "  warnings.warn(\n",
            "/home/vinicius/.local/lib/python3.8/site-packages/sklearn/covariance/_robust_covariance.py:186: RuntimeWarning: Determinant has increased; this should not happen: log(det) > log(previous_det) (193.952711006024174 > 193.948441236561990). You may want to try with a higher value of support_fraction (current value: 0.501).\n",
            "  warnings.warn(\n",
            "/home/vinicius/.local/lib/python3.8/site-packages/sklearn/covariance/_robust_covariance.py:186: RuntimeWarning: Determinant has increased; this should not happen: log(det) > log(previous_det) (193.944901372386880 > 193.941047556019669). You may want to try with a higher value of support_fraction (current value: 0.501).\n",
            "  warnings.warn(\n",
            "/home/vinicius/.local/lib/python3.8/site-packages/sklearn/covariance/_robust_covariance.py:186: RuntimeWarning: Determinant has increased; this should not happen: log(det) > log(previous_det) (193.809882797927173 > 193.790927479046900). You may want to try with a higher value of support_fraction (current value: 0.501).\n",
            "  warnings.warn(\n",
            "/home/vinicius/.local/lib/python3.8/site-packages/sklearn/covariance/_robust_covariance.py:186: RuntimeWarning: Determinant has increased; this should not happen: log(det) > log(previous_det) (193.955531161391974 > 193.939160678752955). You may want to try with a higher value of support_fraction (current value: 0.501).\n",
            "  warnings.warn(\n",
            "/home/vinicius/.local/lib/python3.8/site-packages/sklearn/covariance/_robust_covariance.py:186: RuntimeWarning: Determinant has increased; this should not happen: log(det) > log(previous_det) (193.958289509569397 > 193.951174405068883). You may want to try with a higher value of support_fraction (current value: 0.501).\n",
            "  warnings.warn(\n",
            "/home/vinicius/.local/lib/python3.8/site-packages/sklearn/covariance/_robust_covariance.py:186: RuntimeWarning: Determinant has increased; this should not happen: log(det) > log(previous_det) (193.792250848809715 > 193.788697032835415). You may want to try with a higher value of support_fraction (current value: 0.501).\n",
            "  warnings.warn(\n",
            "/home/vinicius/.local/lib/python3.8/site-packages/sklearn/covariance/_robust_covariance.py:186: RuntimeWarning: Determinant has increased; this should not happen: log(det) > log(previous_det) (193.767618450212865 > 193.756516787630432). You may want to try with a higher value of support_fraction (current value: 0.501).\n",
            "  warnings.warn(\n",
            "/home/vinicius/.local/lib/python3.8/site-packages/sklearn/covariance/_robust_covariance.py:186: RuntimeWarning: Determinant has increased; this should not happen: log(det) > log(previous_det) (193.932471836242797 > 193.899105103289770). You may want to try with a higher value of support_fraction (current value: 0.501).\n",
            "  warnings.warn(\n",
            "/home/vinicius/.local/lib/python3.8/site-packages/sklearn/covariance/_robust_covariance.py:186: RuntimeWarning: Determinant has increased; this should not happen: log(det) > log(previous_det) (193.973648153108883 > 193.918503101335205). You may want to try with a higher value of support_fraction (current value: 0.501).\n",
            "  warnings.warn(\n",
            "/home/vinicius/.local/lib/python3.8/site-packages/sklearn/covariance/_robust_covariance.py:186: RuntimeWarning: Determinant has increased; this should not happen: log(det) > log(previous_det) (194.049468850129500 > 194.045408743354415). You may want to try with a higher value of support_fraction (current value: 0.501).\n",
            "  warnings.warn(\n",
            "/home/vinicius/.local/lib/python3.8/site-packages/sklearn/covariance/_robust_covariance.py:186: RuntimeWarning: Determinant has increased; this should not happen: log(det) > log(previous_det) (193.808760542107365 > 193.793038570929497). You may want to try with a higher value of support_fraction (current value: 0.501).\n",
            "  warnings.warn(\n",
            "/home/vinicius/.local/lib/python3.8/site-packages/sklearn/covariance/_robust_covariance.py:186: RuntimeWarning: Determinant has increased; this should not happen: log(det) > log(previous_det) (194.082661055723122 > 194.076021818816486). You may want to try with a higher value of support_fraction (current value: 0.501).\n",
            "  warnings.warn(\n",
            "/home/vinicius/.local/lib/python3.8/site-packages/sklearn/covariance/_robust_covariance.py:186: RuntimeWarning: Determinant has increased; this should not happen: log(det) > log(previous_det) (194.040883960383496 > 194.033002187413416). You may want to try with a higher value of support_fraction (current value: 0.501).\n",
            "  warnings.warn(\n",
            "/home/vinicius/.local/lib/python3.8/site-packages/sklearn/covariance/_robust_covariance.py:186: RuntimeWarning: Determinant has increased; this should not happen: log(det) > log(previous_det) (194.065322907122066 > 194.057544390566136). You may want to try with a higher value of support_fraction (current value: 0.501).\n",
            "  warnings.warn(\n",
            "/home/vinicius/.local/lib/python3.8/site-packages/sklearn/covariance/_robust_covariance.py:186: RuntimeWarning: Determinant has increased; this should not happen: log(det) > log(previous_det) (194.030075076138615 > 194.025862198640567). You may want to try with a higher value of support_fraction (current value: 0.501).\n",
            "  warnings.warn(\n",
            "/home/vinicius/.local/lib/python3.8/site-packages/sklearn/covariance/_robust_covariance.py:186: RuntimeWarning: Determinant has increased; this should not happen: log(det) > log(previous_det) (193.808760542107365 > 193.801064751073540). You may want to try with a higher value of support_fraction (current value: 0.501).\n",
            "  warnings.warn(\n",
            "/home/vinicius/.local/lib/python3.8/site-packages/sklearn/covariance/_robust_covariance.py:186: RuntimeWarning: Determinant has increased; this should not happen: log(det) > log(previous_det) (194.066150448480613 > 194.062717849508573). You may want to try with a higher value of support_fraction (current value: 0.501).\n",
            "  warnings.warn(\n",
            "/home/vinicius/.local/lib/python3.8/site-packages/sklearn/covariance/_robust_covariance.py:186: RuntimeWarning: Determinant has increased; this should not happen: log(det) > log(previous_det) (193.808760542107365 > 193.801064751073540). You may want to try with a higher value of support_fraction (current value: 0.501).\n",
            "  warnings.warn(\n",
            "/home/vinicius/.local/lib/python3.8/site-packages/sklearn/covariance/_robust_covariance.py:186: RuntimeWarning: Determinant has increased; this should not happen: log(det) > log(previous_det) (193.808760542107365 > 193.801064751073540). You may want to try with a higher value of support_fraction (current value: 0.501).\n",
            "  warnings.warn(\n",
            "/home/vinicius/.local/lib/python3.8/site-packages/sklearn/covariance/_robust_covariance.py:186: RuntimeWarning: Determinant has increased; this should not happen: log(det) > log(previous_det) (193.963395289638697 > 193.956805703721216). You may want to try with a higher value of support_fraction (current value: 0.501).\n",
            "  warnings.warn(\n",
            "/home/vinicius/.local/lib/python3.8/site-packages/sklearn/covariance/_robust_covariance.py:186: RuntimeWarning: Determinant has increased; this should not happen: log(det) > log(previous_det) (193.808760542107365 > 193.793038570929497). You may want to try with a higher value of support_fraction (current value: 0.501).\n",
            "  warnings.warn(\n",
            "/home/vinicius/.local/lib/python3.8/site-packages/sklearn/covariance/_robust_covariance.py:186: RuntimeWarning: Determinant has increased; this should not happen: log(det) > log(previous_det) (193.954068939046124 > 193.947049726116830). You may want to try with a higher value of support_fraction (current value: 0.501).\n",
            "  warnings.warn(\n",
            "/home/vinicius/.local/lib/python3.8/site-packages/sklearn/covariance/_robust_covariance.py:186: RuntimeWarning: Determinant has increased; this should not happen: log(det) > log(previous_det) (193.963951835411052 > 193.961881211598694). You may want to try with a higher value of support_fraction (current value: 0.501).\n",
            "  warnings.warn(\n",
            "/home/vinicius/.local/lib/python3.8/site-packages/sklearn/covariance/_robust_covariance.py:186: RuntimeWarning: Determinant has increased; this should not happen: log(det) > log(previous_det) (193.808760542107365 > 193.793038570929497). You may want to try with a higher value of support_fraction (current value: 0.501).\n",
            "  warnings.warn(\n",
            "/home/vinicius/.local/lib/python3.8/site-packages/sklearn/covariance/_robust_covariance.py:186: RuntimeWarning: Determinant has increased; this should not happen: log(det) > log(previous_det) (193.969986101105206 > 193.961060103921341). You may want to try with a higher value of support_fraction (current value: 0.501).\n",
            "  warnings.warn(\n",
            "/home/vinicius/.local/lib/python3.8/site-packages/sklearn/covariance/_robust_covariance.py:186: RuntimeWarning: Determinant has increased; this should not happen: log(det) > log(previous_det) (193.949321577093968 > 193.945001299996164). You may want to try with a higher value of support_fraction (current value: 0.501).\n",
            "  warnings.warn(\n",
            "/home/vinicius/.local/lib/python3.8/site-packages/sklearn/covariance/_robust_covariance.py:186: RuntimeWarning: Determinant has increased; this should not happen: log(det) > log(previous_det) (193.794708518457384 > 193.785012277232397). You may want to try with a higher value of support_fraction (current value: 0.501).\n",
            "  warnings.warn(\n",
            "/home/vinicius/.local/lib/python3.8/site-packages/sklearn/covariance/_robust_covariance.py:186: RuntimeWarning: Determinant has increased; this should not happen: log(det) > log(previous_det) (193.943634207230588 > 193.931327440673158). You may want to try with a higher value of support_fraction (current value: 0.501).\n",
            "  warnings.warn(\n",
            "/home/vinicius/.local/lib/python3.8/site-packages/sklearn/covariance/_robust_covariance.py:186: RuntimeWarning: Determinant has increased; this should not happen: log(det) > log(previous_det) (193.770864375669760 > 193.760600256513840). You may want to try with a higher value of support_fraction (current value: 0.501).\n",
            "  warnings.warn(\n",
            "/home/vinicius/.local/lib/python3.8/site-packages/sklearn/covariance/_robust_covariance.py:186: RuntimeWarning: Determinant has increased; this should not happen: log(det) > log(previous_det) (193.775486426086445 > 193.766008774468787). You may want to try with a higher value of support_fraction (current value: 0.501).\n",
            "  warnings.warn(\n",
            "/home/vinicius/.local/lib/python3.8/site-packages/sklearn/covariance/_robust_covariance.py:186: RuntimeWarning: Determinant has increased; this should not happen: log(det) > log(previous_det) (193.796206821515455 > 193.783413636073419). You may want to try with a higher value of support_fraction (current value: 0.501).\n",
            "  warnings.warn(\n",
            "/home/vinicius/.local/lib/python3.8/site-packages/sklearn/covariance/_robust_covariance.py:186: RuntimeWarning: Determinant has increased; this should not happen: log(det) > log(previous_det) (193.800099446858439 > 193.785193990656097). You may want to try with a higher value of support_fraction (current value: 0.501).\n",
            "  warnings.warn(\n",
            "/home/vinicius/.local/lib/python3.8/site-packages/sklearn/covariance/_robust_covariance.py:186: RuntimeWarning: Determinant has increased; this should not happen: log(det) > log(previous_det) (193.770864375669760 > 193.760600256513840). You may want to try with a higher value of support_fraction (current value: 0.501).\n",
            "  warnings.warn(\n",
            "/home/vinicius/.local/lib/python3.8/site-packages/sklearn/covariance/_robust_covariance.py:186: RuntimeWarning: Determinant has increased; this should not happen: log(det) > log(previous_det) (193.959515219833719 > 193.955659401833401). You may want to try with a higher value of support_fraction (current value: 0.501).\n",
            "  warnings.warn(\n",
            "/home/vinicius/.local/lib/python3.8/site-packages/sklearn/covariance/_robust_covariance.py:186: RuntimeWarning: Determinant has increased; this should not happen: log(det) > log(previous_det) (193.806002831463701 > 193.777390916992687). You may want to try with a higher value of support_fraction (current value: 0.501).\n",
            "  warnings.warn(\n",
            "/home/vinicius/.local/lib/python3.8/site-packages/sklearn/covariance/_robust_covariance.py:186: RuntimeWarning: Determinant has increased; this should not happen: log(det) > log(previous_det) (193.806715747189429 > 193.784673183695304). You may want to try with a higher value of support_fraction (current value: 0.501).\n",
            "  warnings.warn(\n",
            "/home/vinicius/.local/lib/python3.8/site-packages/sklearn/covariance/_robust_covariance.py:186: RuntimeWarning: Determinant has increased; this should not happen: log(det) > log(previous_det) (193.945329637964676 > 193.930224452008900). You may want to try with a higher value of support_fraction (current value: 0.501).\n",
            "  warnings.warn(\n",
            "/home/vinicius/.local/lib/python3.8/site-packages/sklearn/covariance/_robust_covariance.py:186: RuntimeWarning: Determinant has increased; this should not happen: log(det) > log(previous_det) (193.804453011467587 > 193.797059340301104). You may want to try with a higher value of support_fraction (current value: 0.501).\n",
            "  warnings.warn(\n",
            "/home/vinicius/.local/lib/python3.8/site-packages/sklearn/covariance/_robust_covariance.py:186: RuntimeWarning: Determinant has increased; this should not happen: log(det) > log(previous_det) (193.803621876540859 > 193.768295166104963). You may want to try with a higher value of support_fraction (current value: 0.501).\n",
            "  warnings.warn(\n",
            "/home/vinicius/.local/lib/python3.8/site-packages/sklearn/covariance/_robust_covariance.py:186: RuntimeWarning: Determinant has increased; this should not happen: log(det) > log(previous_det) (194.026542644192517 > 194.002259510764333). You may want to try with a higher value of support_fraction (current value: 0.501).\n",
            "  warnings.warn(\n",
            "/home/vinicius/.local/lib/python3.8/site-packages/sklearn/covariance/_robust_covariance.py:186: RuntimeWarning: Determinant has increased; this should not happen: log(det) > log(previous_det) (193.776978490980213 > 193.771870099165284). You may want to try with a higher value of support_fraction (current value: 0.501).\n",
            "  warnings.warn(\n",
            "/home/vinicius/.local/lib/python3.8/site-packages/sklearn/covariance/_robust_covariance.py:186: RuntimeWarning: Determinant has increased; this should not happen: log(det) > log(previous_det) (193.803148400844947 > 193.800197019041178). You may want to try with a higher value of support_fraction (current value: 0.501).\n",
            "  warnings.warn(\n",
            "/home/vinicius/.local/lib/python3.8/site-packages/sklearn/covariance/_robust_covariance.py:186: RuntimeWarning: Determinant has increased; this should not happen: log(det) > log(previous_det) (193.802949509523472 > 193.798072049936707). You may want to try with a higher value of support_fraction (current value: 0.501).\n",
            "  warnings.warn(\n",
            "/home/vinicius/.local/lib/python3.8/site-packages/sklearn/covariance/_robust_covariance.py:186: RuntimeWarning: Determinant has increased; this should not happen: log(det) > log(previous_det) (193.943634207230588 > 193.930778029688753). You may want to try with a higher value of support_fraction (current value: 0.501).\n",
            "  warnings.warn(\n",
            "/home/vinicius/.local/lib/python3.8/site-packages/sklearn/covariance/_robust_covariance.py:186: RuntimeWarning: Determinant has increased; this should not happen: log(det) > log(previous_det) (193.796206821515455 > 193.783413636073419). You may want to try with a higher value of support_fraction (current value: 0.501).\n",
            "  warnings.warn(\n",
            "/home/vinicius/.local/lib/python3.8/site-packages/sklearn/covariance/_robust_covariance.py:186: RuntimeWarning: Determinant has increased; this should not happen: log(det) > log(previous_det) (193.942806884309363 > 193.930539312604338). You may want to try with a higher value of support_fraction (current value: 0.501).\n",
            "  warnings.warn(\n",
            "/home/vinicius/.local/lib/python3.8/site-packages/sklearn/covariance/_robust_covariance.py:186: RuntimeWarning: Determinant has increased; this should not happen: log(det) > log(previous_det) (193.945280380585956 > 193.936394892444810). You may want to try with a higher value of support_fraction (current value: 0.501).\n",
            "  warnings.warn(\n",
            "/home/vinicius/.local/lib/python3.8/site-packages/sklearn/covariance/_robust_covariance.py:186: RuntimeWarning: Determinant has increased; this should not happen: log(det) > log(previous_det) (193.770864375669760 > 193.760600256513840). You may want to try with a higher value of support_fraction (current value: 0.501).\n",
            "  warnings.warn(\n",
            "/home/vinicius/.local/lib/python3.8/site-packages/sklearn/covariance/_robust_covariance.py:186: RuntimeWarning: Determinant has increased; this should not happen: log(det) > log(previous_det) (193.808760542107365 > 193.801064751073540). You may want to try with a higher value of support_fraction (current value: 0.501).\n",
            "  warnings.warn(\n",
            "/home/vinicius/.local/lib/python3.8/site-packages/sklearn/covariance/_robust_covariance.py:186: RuntimeWarning: Determinant has increased; this should not happen: log(det) > log(previous_det) (193.957168219213429 > 193.952346247904671). You may want to try with a higher value of support_fraction (current value: 0.501).\n",
            "  warnings.warn(\n",
            "/home/vinicius/.local/lib/python3.8/site-packages/sklearn/covariance/_robust_covariance.py:186: RuntimeWarning: Determinant has increased; this should not happen: log(det) > log(previous_det) (193.808760542107365 > 193.793038570929497). You may want to try with a higher value of support_fraction (current value: 0.501).\n",
            "  warnings.warn(\n",
            "/home/vinicius/.local/lib/python3.8/site-packages/sklearn/covariance/_robust_covariance.py:186: RuntimeWarning: Determinant has increased; this should not happen: log(det) > log(previous_det) (193.774492235699796 > 193.772098357510288). You may want to try with a higher value of support_fraction (current value: 0.501).\n",
            "  warnings.warn(\n",
            "/home/vinicius/.local/lib/python3.8/site-packages/sklearn/covariance/_robust_covariance.py:186: RuntimeWarning: Determinant has increased; this should not happen: log(det) > log(previous_det) (193.766429896315600 > 193.762495308308672). You may want to try with a higher value of support_fraction (current value: 0.501).\n",
            "  warnings.warn(\n",
            "/home/vinicius/.local/lib/python3.8/site-packages/sklearn/covariance/_robust_covariance.py:186: RuntimeWarning: Determinant has increased; this should not happen: log(det) > log(previous_det) (193.917521788104494 > 193.806734683630765). You may want to try with a higher value of support_fraction (current value: 0.501).\n",
            "  warnings.warn(\n",
            "/home/vinicius/.local/lib/python3.8/site-packages/sklearn/covariance/_robust_covariance.py:186: RuntimeWarning: Determinant has increased; this should not happen: log(det) > log(previous_det) (194.037525147751154 > 194.019764722051178). You may want to try with a higher value of support_fraction (current value: 0.501).\n",
            "  warnings.warn(\n",
            "/home/vinicius/.local/lib/python3.8/site-packages/sklearn/covariance/_robust_covariance.py:186: RuntimeWarning: Determinant has increased; this should not happen: log(det) > log(previous_det) (194.031108083748620 > 194.027916972917950). You may want to try with a higher value of support_fraction (current value: 0.501).\n",
            "  warnings.warn(\n",
            "/home/vinicius/.local/lib/python3.8/site-packages/sklearn/covariance/_robust_covariance.py:186: RuntimeWarning: Determinant has increased; this should not happen: log(det) > log(previous_det) (194.429375289745849 > 194.423867011138725). You may want to try with a higher value of support_fraction (current value: 0.500).\n",
            "  warnings.warn(\n",
            "/home/vinicius/.local/lib/python3.8/site-packages/sklearn/covariance/_robust_covariance.py:186: RuntimeWarning: Determinant has increased; this should not happen: log(det) > log(previous_det) (194.429375289745849 > 194.423867011138725). You may want to try with a higher value of support_fraction (current value: 0.500).\n",
            "  warnings.warn(\n",
            "/home/vinicius/.local/lib/python3.8/site-packages/sklearn/covariance/_robust_covariance.py:186: RuntimeWarning: Determinant has increased; this should not happen: log(det) > log(previous_det) (194.431994492096635 > 194.294731549228061). You may want to try with a higher value of support_fraction (current value: 0.500).\n",
            "  warnings.warn(\n",
            "/home/vinicius/.local/lib/python3.8/site-packages/sklearn/covariance/_robust_covariance.py:186: RuntimeWarning: Determinant has increased; this should not happen: log(det) > log(previous_det) (194.421384675547586 > 194.416404411967392). You may want to try with a higher value of support_fraction (current value: 0.500).\n",
            "  warnings.warn(\n",
            "/home/vinicius/.local/lib/python3.8/site-packages/sklearn/covariance/_robust_covariance.py:186: RuntimeWarning: Determinant has increased; this should not happen: log(det) > log(previous_det) (194.424776584358767 > 194.415214158652788). You may want to try with a higher value of support_fraction (current value: 0.500).\n",
            "  warnings.warn(\n",
            "/home/vinicius/.local/lib/python3.8/site-packages/sklearn/covariance/_robust_covariance.py:186: RuntimeWarning: Determinant has increased; this should not happen: log(det) > log(previous_det) (194.424776584358767 > 194.415214158652788). You may want to try with a higher value of support_fraction (current value: 0.500).\n",
            "  warnings.warn(\n",
            "/home/vinicius/.local/lib/python3.8/site-packages/sklearn/covariance/_robust_covariance.py:186: RuntimeWarning: Determinant has increased; this should not happen: log(det) > log(previous_det) (194.424776584358767 > 194.415214158652788). You may want to try with a higher value of support_fraction (current value: 0.500).\n",
            "  warnings.warn(\n",
            "/home/vinicius/.local/lib/python3.8/site-packages/sklearn/covariance/_robust_covariance.py:186: RuntimeWarning: Determinant has increased; this should not happen: log(det) > log(previous_det) (194.422226750057035 > 194.416173575685633). You may want to try with a higher value of support_fraction (current value: 0.500).\n",
            "  warnings.warn(\n",
            "/home/vinicius/.local/lib/python3.8/site-packages/sklearn/covariance/_robust_covariance.py:186: RuntimeWarning: Determinant has increased; this should not happen: log(det) > log(previous_det) (194.423064829628146 > 194.419083979514483). You may want to try with a higher value of support_fraction (current value: 0.500).\n",
            "  warnings.warn(\n",
            "/home/vinicius/.local/lib/python3.8/site-packages/sklearn/covariance/_robust_covariance.py:186: RuntimeWarning: Determinant has increased; this should not happen: log(det) > log(previous_det) (194.424895009142489 > 194.310208757944054). You may want to try with a higher value of support_fraction (current value: 0.500).\n",
            "  warnings.warn(\n"
          ]
        },
        {
          "data": {
            "text/html": [
              "<style>#sk-container-id-1 {color: black;}#sk-container-id-1 pre{padding: 0;}#sk-container-id-1 div.sk-toggleable {background-color: white;}#sk-container-id-1 label.sk-toggleable__label {cursor: pointer;display: block;width: 100%;margin-bottom: 0;padding: 0.3em;box-sizing: border-box;text-align: center;}#sk-container-id-1 label.sk-toggleable__label-arrow:before {content: \"▸\";float: left;margin-right: 0.25em;color: #696969;}#sk-container-id-1 label.sk-toggleable__label-arrow:hover:before {color: black;}#sk-container-id-1 div.sk-estimator:hover label.sk-toggleable__label-arrow:before {color: black;}#sk-container-id-1 div.sk-toggleable__content {max-height: 0;max-width: 0;overflow: hidden;text-align: left;background-color: #f0f8ff;}#sk-container-id-1 div.sk-toggleable__content pre {margin: 0.2em;color: black;border-radius: 0.25em;background-color: #f0f8ff;}#sk-container-id-1 input.sk-toggleable__control:checked~div.sk-toggleable__content {max-height: 200px;max-width: 100%;overflow: auto;}#sk-container-id-1 input.sk-toggleable__control:checked~label.sk-toggleable__label-arrow:before {content: \"▾\";}#sk-container-id-1 div.sk-estimator input.sk-toggleable__control:checked~label.sk-toggleable__label {background-color: #d4ebff;}#sk-container-id-1 div.sk-label input.sk-toggleable__control:checked~label.sk-toggleable__label {background-color: #d4ebff;}#sk-container-id-1 input.sk-hidden--visually {border: 0;clip: rect(1px 1px 1px 1px);clip: rect(1px, 1px, 1px, 1px);height: 1px;margin: -1px;overflow: hidden;padding: 0;position: absolute;width: 1px;}#sk-container-id-1 div.sk-estimator {font-family: monospace;background-color: #f0f8ff;border: 1px dotted black;border-radius: 0.25em;box-sizing: border-box;margin-bottom: 0.5em;}#sk-container-id-1 div.sk-estimator:hover {background-color: #d4ebff;}#sk-container-id-1 div.sk-parallel-item::after {content: \"\";width: 100%;border-bottom: 1px solid gray;flex-grow: 1;}#sk-container-id-1 div.sk-label:hover label.sk-toggleable__label {background-color: #d4ebff;}#sk-container-id-1 div.sk-serial::before {content: \"\";position: absolute;border-left: 1px solid gray;box-sizing: border-box;top: 0;bottom: 0;left: 50%;z-index: 0;}#sk-container-id-1 div.sk-serial {display: flex;flex-direction: column;align-items: center;background-color: white;padding-right: 0.2em;padding-left: 0.2em;position: relative;}#sk-container-id-1 div.sk-item {position: relative;z-index: 1;}#sk-container-id-1 div.sk-parallel {display: flex;align-items: stretch;justify-content: center;background-color: white;position: relative;}#sk-container-id-1 div.sk-item::before, #sk-container-id-1 div.sk-parallel-item::before {content: \"\";position: absolute;border-left: 1px solid gray;box-sizing: border-box;top: 0;bottom: 0;left: 50%;z-index: -1;}#sk-container-id-1 div.sk-parallel-item {display: flex;flex-direction: column;z-index: 1;position: relative;background-color: white;}#sk-container-id-1 div.sk-parallel-item:first-child::after {align-self: flex-end;width: 50%;}#sk-container-id-1 div.sk-parallel-item:last-child::after {align-self: flex-start;width: 50%;}#sk-container-id-1 div.sk-parallel-item:only-child::after {width: 0;}#sk-container-id-1 div.sk-dashed-wrapped {border: 1px dashed gray;margin: 0 0.4em 0.5em 0.4em;box-sizing: border-box;padding-bottom: 0.4em;background-color: white;}#sk-container-id-1 div.sk-label label {font-family: monospace;font-weight: bold;display: inline-block;line-height: 1.2em;}#sk-container-id-1 div.sk-label-container {text-align: center;}#sk-container-id-1 div.sk-container {/* jupyter's `normalize.less` sets `[hidden] { display: none; }` but bootstrap.min.css set `[hidden] { display: none !important; }` so we also need the `!important` here to be able to override the default hidden behavior on the sphinx rendered scikit-learn.org. See: https://github.com/scikit-learn/scikit-learn/issues/21755 */display: inline-block !important;position: relative;}#sk-container-id-1 div.sk-text-repr-fallback {display: none;}</style><div id=\"sk-container-id-1\" class=\"sk-top-container\"><div class=\"sk-text-repr-fallback\"><pre>EllipticEnvelope(contamination=0.01)</pre><b>In a Jupyter environment, please rerun this cell to show the HTML representation or trust the notebook. <br />On GitHub, the HTML representation is unable to render, please try loading this page with nbviewer.org.</b></div><div class=\"sk-container\" hidden><div class=\"sk-item\"><div class=\"sk-estimator sk-toggleable\"><input class=\"sk-toggleable__control sk-hidden--visually\" id=\"sk-estimator-id-1\" type=\"checkbox\" checked><label for=\"sk-estimator-id-1\" class=\"sk-toggleable__label sk-toggleable__label-arrow\">EllipticEnvelope</label><div class=\"sk-toggleable__content\"><pre>EllipticEnvelope(contamination=0.01)</pre></div></div></div></div></div>"
            ],
            "text/plain": [
              "EllipticEnvelope(contamination=0.01)"
            ]
          },
          "execution_count": 68,
          "metadata": {},
          "output_type": "execute_result"
        }
      ],
      "source": [
        "from sklearn.covariance import EllipticEnvelope\n",
        "detector = EllipticEnvelope(contamination=0.01)\n",
        "detector.fit(chess_games)"
      ]
    },
    {
      "cell_type": "code",
      "execution_count": 69,
      "metadata": {},
      "outputs": [],
      "source": [
        "scores = detector.predict(chess_games)"
      ]
    },
    {
      "cell_type": "code",
      "execution_count": 70,
      "metadata": {},
      "outputs": [],
      "source": [
        "chess_games['outlier'] = scores"
      ]
    },
    {
      "cell_type": "code",
      "execution_count": 71,
      "metadata": {},
      "outputs": [
        {
          "data": {
            "text/html": [
              "<div>\n",
              "<style scoped>\n",
              "    .dataframe tbody tr th:only-of-type {\n",
              "        vertical-align: middle;\n",
              "    }\n",
              "\n",
              "    .dataframe tbody tr th {\n",
              "        vertical-align: top;\n",
              "    }\n",
              "\n",
              "    .dataframe thead th {\n",
              "        text-align: right;\n",
              "    }\n",
              "</style>\n",
              "<table border=\"1\" class=\"dataframe\">\n",
              "  <thead>\n",
              "    <tr style=\"text-align: right;\">\n",
              "      <th></th>\n",
              "      <th>id</th>\n",
              "      <th>rated</th>\n",
              "      <th>created_at</th>\n",
              "      <th>last_move_at</th>\n",
              "      <th>turns</th>\n",
              "      <th>victory_status</th>\n",
              "      <th>winner</th>\n",
              "      <th>increment_code</th>\n",
              "      <th>white_id</th>\n",
              "      <th>white_rating</th>\n",
              "      <th>black_id</th>\n",
              "      <th>black_rating</th>\n",
              "      <th>moves</th>\n",
              "      <th>opening_eco</th>\n",
              "      <th>opening_name</th>\n",
              "      <th>opening_ply</th>\n",
              "      <th>outlier</th>\n",
              "    </tr>\n",
              "  </thead>\n",
              "  <tbody>\n",
              "    <tr>\n",
              "      <th>2658</th>\n",
              "      <td>13868</td>\n",
              "      <td>False</td>\n",
              "      <td>1.489780e+12</td>\n",
              "      <td>1.489800e+12</td>\n",
              "      <td>32</td>\n",
              "      <td>2</td>\n",
              "      <td>0</td>\n",
              "      <td>158</td>\n",
              "      <td>9082</td>\n",
              "      <td>1250</td>\n",
              "      <td>3095</td>\n",
              "      <td>1500</td>\n",
              "      <td>12321</td>\n",
              "      <td>216</td>\n",
              "      <td>1039</td>\n",
              "      <td>6</td>\n",
              "      <td>-1</td>\n",
              "    </tr>\n",
              "    <tr>\n",
              "      <th>3737</th>\n",
              "      <td>14470</td>\n",
              "      <td>False</td>\n",
              "      <td>1.470950e+12</td>\n",
              "      <td>1.470960e+12</td>\n",
              "      <td>39</td>\n",
              "      <td>1</td>\n",
              "      <td>2</td>\n",
              "      <td>19</td>\n",
              "      <td>958</td>\n",
              "      <td>1848</td>\n",
              "      <td>1748</td>\n",
              "      <td>1838</td>\n",
              "      <td>11708</td>\n",
              "      <td>195</td>\n",
              "      <td>1170</td>\n",
              "      <td>8</td>\n",
              "      <td>-1</td>\n",
              "    </tr>\n",
              "    <tr>\n",
              "      <th>4043</th>\n",
              "      <td>11688</td>\n",
              "      <td>False</td>\n",
              "      <td>1.488230e+12</td>\n",
              "      <td>1.488250e+12</td>\n",
              "      <td>65</td>\n",
              "      <td>2</td>\n",
              "      <td>2</td>\n",
              "      <td>158</td>\n",
              "      <td>3767</td>\n",
              "      <td>1255</td>\n",
              "      <td>2043</td>\n",
              "      <td>1108</td>\n",
              "      <td>18836</td>\n",
              "      <td>0</td>\n",
              "      <td>442</td>\n",
              "      <td>2</td>\n",
              "      <td>-1</td>\n",
              "    </tr>\n",
              "    <tr>\n",
              "      <th>4051</th>\n",
              "      <td>2556</td>\n",
              "      <td>False</td>\n",
              "      <td>1.481230e+12</td>\n",
              "      <td>1.481250e+12</td>\n",
              "      <td>32</td>\n",
              "      <td>2</td>\n",
              "      <td>0</td>\n",
              "      <td>158</td>\n",
              "      <td>2026</td>\n",
              "      <td>1107</td>\n",
              "      <td>3895</td>\n",
              "      <td>1352</td>\n",
              "      <td>16401</td>\n",
              "      <td>171</td>\n",
              "      <td>650</td>\n",
              "      <td>3</td>\n",
              "      <td>-1</td>\n",
              "    </tr>\n",
              "    <tr>\n",
              "      <th>4114</th>\n",
              "      <td>2740</td>\n",
              "      <td>True</td>\n",
              "      <td>1.469140e+12</td>\n",
              "      <td>1.469150e+12</td>\n",
              "      <td>78</td>\n",
              "      <td>1</td>\n",
              "      <td>0</td>\n",
              "      <td>26</td>\n",
              "      <td>980</td>\n",
              "      <td>1446</td>\n",
              "      <td>6307</td>\n",
              "      <td>1133</td>\n",
              "      <td>16616</td>\n",
              "      <td>172</td>\n",
              "      <td>163</td>\n",
              "      <td>5</td>\n",
              "      <td>-1</td>\n",
              "    </tr>\n",
              "  </tbody>\n",
              "</table>\n",
              "</div>"
            ],
            "text/plain": [
              "         id  rated    created_at  last_move_at  turns  victory_status  winner  \\\n",
              "2658  13868  False  1.489780e+12  1.489800e+12     32               2       0   \n",
              "3737  14470  False  1.470950e+12  1.470960e+12     39               1       2   \n",
              "4043  11688  False  1.488230e+12  1.488250e+12     65               2       2   \n",
              "4051   2556  False  1.481230e+12  1.481250e+12     32               2       0   \n",
              "4114   2740   True  1.469140e+12  1.469150e+12     78               1       0   \n",
              "\n",
              "      increment_code  white_id  white_rating  black_id  black_rating  moves  \\\n",
              "2658             158      9082          1250      3095          1500  12321   \n",
              "3737              19       958          1848      1748          1838  11708   \n",
              "4043             158      3767          1255      2043          1108  18836   \n",
              "4051             158      2026          1107      3895          1352  16401   \n",
              "4114              26       980          1446      6307          1133  16616   \n",
              "\n",
              "      opening_eco  opening_name  opening_ply  outlier  \n",
              "2658          216          1039            6       -1  \n",
              "3737          195          1170            8       -1  \n",
              "4043            0           442            2       -1  \n",
              "4051          171           650            3       -1  \n",
              "4114          172           163            5       -1  "
            ]
          },
          "execution_count": 71,
          "metadata": {},
          "output_type": "execute_result"
        }
      ],
      "source": [
        "# outliers\n",
        "chess_games[chess_games['outlier'] == -1].head()"
      ]
    },
    {
      "cell_type": "code",
      "execution_count": 72,
      "metadata": {},
      "outputs": [
        {
          "data": {
            "text/plain": [
              "(19113, 17)"
            ]
          },
          "execution_count": 72,
          "metadata": {},
          "output_type": "execute_result"
        }
      ],
      "source": [
        "chess_games.shape"
      ]
    },
    {
      "cell_type": "code",
      "execution_count": 73,
      "metadata": {},
      "outputs": [
        {
          "data": {
            "text/plain": [
              "(18921, 17)"
            ]
          },
          "execution_count": 73,
          "metadata": {},
          "output_type": "execute_result"
        }
      ],
      "source": [
        "chess_games_elliptic = chess_games[chess_games['outlier'] != -1]\n",
        "chess_games_elliptic.shape"
      ]
    },
    {
      "cell_type": "markdown",
      "metadata": {},
      "source": [
        "Após a execução do método Elliptic Envelope, foi possível identificar 192 outliers."
      ]
    },
    {
      "cell_type": "markdown",
      "metadata": {},
      "source": [
        "### Isolation Forest"
      ]
    },
    {
      "cell_type": "code",
      "execution_count": 78,
      "metadata": {},
      "outputs": [
        {
          "data": {
            "text/plain": [
              "id                  int16\n",
              "rated                bool\n",
              "created_at        float64\n",
              "last_move_at      float64\n",
              "turns               int64\n",
              "victory_status       int8\n",
              "winner               int8\n",
              "increment_code      int16\n",
              "white_id            int16\n",
              "white_rating        int64\n",
              "black_id            int16\n",
              "black_rating        int64\n",
              "moves               int16\n",
              "opening_eco         int16\n",
              "opening_name        int16\n",
              "opening_ply         int64\n",
              "dtype: object"
            ]
          },
          "execution_count": 78,
          "metadata": {},
          "output_type": "execute_result"
        }
      ],
      "source": [
        "chess_games.drop(columns=['outlier'], inplace=True)\n",
        "chess_games.dtypes"
      ]
    },
    {
      "cell_type": "code",
      "execution_count": 79,
      "metadata": {},
      "outputs": [
        {
          "data": {
            "text/html": [
              "<style>#sk-container-id-2 {color: black;}#sk-container-id-2 pre{padding: 0;}#sk-container-id-2 div.sk-toggleable {background-color: white;}#sk-container-id-2 label.sk-toggleable__label {cursor: pointer;display: block;width: 100%;margin-bottom: 0;padding: 0.3em;box-sizing: border-box;text-align: center;}#sk-container-id-2 label.sk-toggleable__label-arrow:before {content: \"▸\";float: left;margin-right: 0.25em;color: #696969;}#sk-container-id-2 label.sk-toggleable__label-arrow:hover:before {color: black;}#sk-container-id-2 div.sk-estimator:hover label.sk-toggleable__label-arrow:before {color: black;}#sk-container-id-2 div.sk-toggleable__content {max-height: 0;max-width: 0;overflow: hidden;text-align: left;background-color: #f0f8ff;}#sk-container-id-2 div.sk-toggleable__content pre {margin: 0.2em;color: black;border-radius: 0.25em;background-color: #f0f8ff;}#sk-container-id-2 input.sk-toggleable__control:checked~div.sk-toggleable__content {max-height: 200px;max-width: 100%;overflow: auto;}#sk-container-id-2 input.sk-toggleable__control:checked~label.sk-toggleable__label-arrow:before {content: \"▾\";}#sk-container-id-2 div.sk-estimator input.sk-toggleable__control:checked~label.sk-toggleable__label {background-color: #d4ebff;}#sk-container-id-2 div.sk-label input.sk-toggleable__control:checked~label.sk-toggleable__label {background-color: #d4ebff;}#sk-container-id-2 input.sk-hidden--visually {border: 0;clip: rect(1px 1px 1px 1px);clip: rect(1px, 1px, 1px, 1px);height: 1px;margin: -1px;overflow: hidden;padding: 0;position: absolute;width: 1px;}#sk-container-id-2 div.sk-estimator {font-family: monospace;background-color: #f0f8ff;border: 1px dotted black;border-radius: 0.25em;box-sizing: border-box;margin-bottom: 0.5em;}#sk-container-id-2 div.sk-estimator:hover {background-color: #d4ebff;}#sk-container-id-2 div.sk-parallel-item::after {content: \"\";width: 100%;border-bottom: 1px solid gray;flex-grow: 1;}#sk-container-id-2 div.sk-label:hover label.sk-toggleable__label {background-color: #d4ebff;}#sk-container-id-2 div.sk-serial::before {content: \"\";position: absolute;border-left: 1px solid gray;box-sizing: border-box;top: 0;bottom: 0;left: 50%;z-index: 0;}#sk-container-id-2 div.sk-serial {display: flex;flex-direction: column;align-items: center;background-color: white;padding-right: 0.2em;padding-left: 0.2em;position: relative;}#sk-container-id-2 div.sk-item {position: relative;z-index: 1;}#sk-container-id-2 div.sk-parallel {display: flex;align-items: stretch;justify-content: center;background-color: white;position: relative;}#sk-container-id-2 div.sk-item::before, #sk-container-id-2 div.sk-parallel-item::before {content: \"\";position: absolute;border-left: 1px solid gray;box-sizing: border-box;top: 0;bottom: 0;left: 50%;z-index: -1;}#sk-container-id-2 div.sk-parallel-item {display: flex;flex-direction: column;z-index: 1;position: relative;background-color: white;}#sk-container-id-2 div.sk-parallel-item:first-child::after {align-self: flex-end;width: 50%;}#sk-container-id-2 div.sk-parallel-item:last-child::after {align-self: flex-start;width: 50%;}#sk-container-id-2 div.sk-parallel-item:only-child::after {width: 0;}#sk-container-id-2 div.sk-dashed-wrapped {border: 1px dashed gray;margin: 0 0.4em 0.5em 0.4em;box-sizing: border-box;padding-bottom: 0.4em;background-color: white;}#sk-container-id-2 div.sk-label label {font-family: monospace;font-weight: bold;display: inline-block;line-height: 1.2em;}#sk-container-id-2 div.sk-label-container {text-align: center;}#sk-container-id-2 div.sk-container {/* jupyter's `normalize.less` sets `[hidden] { display: none; }` but bootstrap.min.css set `[hidden] { display: none !important; }` so we also need the `!important` here to be able to override the default hidden behavior on the sphinx rendered scikit-learn.org. See: https://github.com/scikit-learn/scikit-learn/issues/21755 */display: inline-block !important;position: relative;}#sk-container-id-2 div.sk-text-repr-fallback {display: none;}</style><div id=\"sk-container-id-2\" class=\"sk-top-container\"><div class=\"sk-text-repr-fallback\"><pre>IsolationForest(max_samples=100,\n",
              "                random_state=RandomState(MT19937) at 0x7F9581CC3440)</pre><b>In a Jupyter environment, please rerun this cell to show the HTML representation or trust the notebook. <br />On GitHub, the HTML representation is unable to render, please try loading this page with nbviewer.org.</b></div><div class=\"sk-container\" hidden><div class=\"sk-item\"><div class=\"sk-estimator sk-toggleable\"><input class=\"sk-toggleable__control sk-hidden--visually\" id=\"sk-estimator-id-2\" type=\"checkbox\" checked><label for=\"sk-estimator-id-2\" class=\"sk-toggleable__label sk-toggleable__label-arrow\">IsolationForest</label><div class=\"sk-toggleable__content\"><pre>IsolationForest(max_samples=100,\n",
              "                random_state=RandomState(MT19937) at 0x7F9581CC3440)</pre></div></div></div></div></div>"
            ],
            "text/plain": [
              "IsolationForest(max_samples=100,\n",
              "                random_state=RandomState(MT19937) at 0x7F9581CC3440)"
            ]
          },
          "execution_count": 79,
          "metadata": {},
          "output_type": "execute_result"
        }
      ],
      "source": [
        "from sklearn.ensemble import IsolationForest\n",
        "rng = np.random.RandomState(42)\n",
        "clf = IsolationForest(max_samples=100, random_state=rng)\n",
        "clf.fit(chess_games)"
      ]
    },
    {
      "cell_type": "code",
      "execution_count": 80,
      "metadata": {},
      "outputs": [],
      "source": [
        "scores = clf.predict(chess_games)"
      ]
    },
    {
      "cell_type": "code",
      "execution_count": 81,
      "metadata": {},
      "outputs": [],
      "source": [
        "chess_games['outliers'] = scores"
      ]
    },
    {
      "cell_type": "code",
      "execution_count": 82,
      "metadata": {},
      "outputs": [
        {
          "data": {
            "text/html": [
              "<div>\n",
              "<style scoped>\n",
              "    .dataframe tbody tr th:only-of-type {\n",
              "        vertical-align: middle;\n",
              "    }\n",
              "\n",
              "    .dataframe tbody tr th {\n",
              "        vertical-align: top;\n",
              "    }\n",
              "\n",
              "    .dataframe thead th {\n",
              "        text-align: right;\n",
              "    }\n",
              "</style>\n",
              "<table border=\"1\" class=\"dataframe\">\n",
              "  <thead>\n",
              "    <tr style=\"text-align: right;\">\n",
              "      <th></th>\n",
              "      <th>id</th>\n",
              "      <th>rated</th>\n",
              "      <th>created_at</th>\n",
              "      <th>last_move_at</th>\n",
              "      <th>turns</th>\n",
              "      <th>victory_status</th>\n",
              "      <th>winner</th>\n",
              "      <th>increment_code</th>\n",
              "      <th>white_id</th>\n",
              "      <th>white_rating</th>\n",
              "      <th>black_id</th>\n",
              "      <th>black_rating</th>\n",
              "      <th>moves</th>\n",
              "      <th>opening_eco</th>\n",
              "      <th>opening_name</th>\n",
              "      <th>opening_ply</th>\n",
              "      <th>outliers</th>\n",
              "    </tr>\n",
              "  </thead>\n",
              "  <tbody>\n",
              "    <tr>\n",
              "      <th>0</th>\n",
              "      <td>9068</td>\n",
              "      <td>False</td>\n",
              "      <td>1.504210e+12</td>\n",
              "      <td>1.504210e+12</td>\n",
              "      <td>13</td>\n",
              "      <td>2</td>\n",
              "      <td>2</td>\n",
              "      <td>110</td>\n",
              "      <td>1287</td>\n",
              "      <td>1500</td>\n",
              "      <td>11</td>\n",
              "      <td>1191</td>\n",
              "      <td>4524</td>\n",
              "      <td>248</td>\n",
              "      <td>1387</td>\n",
              "      <td>5</td>\n",
              "      <td>-1</td>\n",
              "    </tr>\n",
              "    <tr>\n",
              "      <th>1</th>\n",
              "      <td>14512</td>\n",
              "      <td>True</td>\n",
              "      <td>1.504130e+12</td>\n",
              "      <td>1.504130e+12</td>\n",
              "      <td>16</td>\n",
              "      <td>3</td>\n",
              "      <td>0</td>\n",
              "      <td>298</td>\n",
              "      <td>16</td>\n",
              "      <td>1322</td>\n",
              "      <td>7748</td>\n",
              "      <td>1261</td>\n",
              "      <td>1987</td>\n",
              "      <td>71</td>\n",
              "      <td>750</td>\n",
              "      <td>4</td>\n",
              "      <td>-1</td>\n",
              "    </tr>\n",
              "    <tr>\n",
              "      <th>5</th>\n",
              "      <td>7069</td>\n",
              "      <td>False</td>\n",
              "      <td>1.504240e+12</td>\n",
              "      <td>1.504240e+12</td>\n",
              "      <td>5</td>\n",
              "      <td>0</td>\n",
              "      <td>1</td>\n",
              "      <td>19</td>\n",
              "      <td>8568</td>\n",
              "      <td>1250</td>\n",
              "      <td>3065</td>\n",
              "      <td>1002</td>\n",
              "      <td>8205</td>\n",
              "      <td>96</td>\n",
              "      <td>1292</td>\n",
              "      <td>4</td>\n",
              "      <td>-1</td>\n",
              "    </tr>\n",
              "    <tr>\n",
              "      <th>6</th>\n",
              "      <td>16315</td>\n",
              "      <td>True</td>\n",
              "      <td>1.504230e+12</td>\n",
              "      <td>1.504230e+12</td>\n",
              "      <td>33</td>\n",
              "      <td>3</td>\n",
              "      <td>2</td>\n",
              "      <td>19</td>\n",
              "      <td>1467</td>\n",
              "      <td>1520</td>\n",
              "      <td>2041</td>\n",
              "      <td>1423</td>\n",
              "      <td>5332</td>\n",
              "      <td>239</td>\n",
              "      <td>91</td>\n",
              "      <td>10</td>\n",
              "      <td>-1</td>\n",
              "    </tr>\n",
              "    <tr>\n",
              "      <th>7</th>\n",
              "      <td>8463</td>\n",
              "      <td>False</td>\n",
              "      <td>1.503680e+12</td>\n",
              "      <td>1.503680e+12</td>\n",
              "      <td>9</td>\n",
              "      <td>3</td>\n",
              "      <td>0</td>\n",
              "      <td>114</td>\n",
              "      <td>2023</td>\n",
              "      <td>1413</td>\n",
              "      <td>7866</td>\n",
              "      <td>2108</td>\n",
              "      <td>6811</td>\n",
              "      <td>71</td>\n",
              "      <td>752</td>\n",
              "      <td>5</td>\n",
              "      <td>-1</td>\n",
              "    </tr>\n",
              "  </tbody>\n",
              "</table>\n",
              "</div>"
            ],
            "text/plain": [
              "      id  rated    created_at  last_move_at  turns  victory_status  winner  \\\n",
              "0   9068  False  1.504210e+12  1.504210e+12     13               2       2   \n",
              "1  14512   True  1.504130e+12  1.504130e+12     16               3       0   \n",
              "5   7069  False  1.504240e+12  1.504240e+12      5               0       1   \n",
              "6  16315   True  1.504230e+12  1.504230e+12     33               3       2   \n",
              "7   8463  False  1.503680e+12  1.503680e+12      9               3       0   \n",
              "\n",
              "   increment_code  white_id  white_rating  black_id  black_rating  moves  \\\n",
              "0             110      1287          1500        11          1191   4524   \n",
              "1             298        16          1322      7748          1261   1987   \n",
              "5              19      8568          1250      3065          1002   8205   \n",
              "6              19      1467          1520      2041          1423   5332   \n",
              "7             114      2023          1413      7866          2108   6811   \n",
              "\n",
              "   opening_eco  opening_name  opening_ply  outliers  \n",
              "0          248          1387            5        -1  \n",
              "1           71           750            4        -1  \n",
              "5           96          1292            4        -1  \n",
              "6          239            91           10        -1  \n",
              "7           71           752            5        -1  "
            ]
          },
          "execution_count": 82,
          "metadata": {},
          "output_type": "execute_result"
        }
      ],
      "source": [
        "# outliers\n",
        "chess_games[chess_games['outliers'] == -1].head()"
      ]
    },
    {
      "cell_type": "code",
      "execution_count": 83,
      "metadata": {},
      "outputs": [
        {
          "data": {
            "text/plain": [
              "(19113, 17)"
            ]
          },
          "execution_count": 83,
          "metadata": {},
          "output_type": "execute_result"
        }
      ],
      "source": [
        "chess_games.shape"
      ]
    },
    {
      "cell_type": "code",
      "execution_count": 84,
      "metadata": {},
      "outputs": [
        {
          "data": {
            "text/plain": [
              "(10560, 17)"
            ]
          },
          "execution_count": 84,
          "metadata": {},
          "output_type": "execute_result"
        }
      ],
      "source": [
        "chess_games_isolation = chess_games[chess_games['outliers'] != -1]\n",
        "chess_games_isolation.shape"
      ]
    },
    {
      "cell_type": "markdown",
      "metadata": {},
      "source": [
        "Após a execução do método Isolation Forest, foi possível identificar 8553 outliers, um número muito maior do que o método anterior."
      ]
    },
    {
      "cell_type": "markdown",
      "metadata": {
        "id": "QBkQSpsUDwNB"
      },
      "source": [
        "# Estatísticas Descritivas"
      ]
    },
    {
      "cell_type": "markdown",
      "metadata": {
        "id": "iVedNOsnTyqV"
      },
      "source": [
        "## Distribuição dos ratings de todos os jogadores"
      ]
    },
    {
      "cell_type": "code",
      "execution_count": 74,
      "metadata": {
        "id": "8s3VA_cGT4tc"
      },
      "outputs": [],
      "source": [
        "all_ratings = pd.concat([chess_games['white_rating'], chess_games['black_rating']])"
      ]
    },
    {
      "cell_type": "code",
      "execution_count": 75,
      "metadata": {
        "colab": {
          "base_uri": "https://localhost:8080/"
        },
        "id": "zJMa7H1cU1Pq",
        "outputId": "d4a0c65f-5422-414f-b405-7796c9c8385a"
      },
      "outputs": [
        {
          "data": {
            "text/plain": [
              "count    38226.000000\n",
              "mean      1593.672762\n",
              "std        290.251163\n",
              "min        784.000000\n",
              "25%       1398.000000\n",
              "50%       1565.000000\n",
              "75%       1788.000000\n",
              "max       2723.000000\n",
              "dtype: float64"
            ]
          },
          "execution_count": 75,
          "metadata": {},
          "output_type": "execute_result"
        }
      ],
      "source": [
        "all_ratings.describe()"
      ]
    },
    {
      "cell_type": "code",
      "execution_count": 76,
      "metadata": {
        "colab": {
          "base_uri": "https://localhost:8080/",
          "height": 447
        },
        "id": "UOgMzsaiRsjr",
        "outputId": "71d681d2-0c03-4f3d-fb0f-f0dc0cf4bd64"
      },
      "outputs": [
        {
          "data": {
            "text/plain": [
              "<Axes: >"
            ]
          },
          "execution_count": 76,
          "metadata": {},
          "output_type": "execute_result"
        },
        {
          "data": {
            "image/png": "[encoded data removed]",
            "text/plain": [
              "<Figure size 640x480 with 1 Axes>"
            ]
          },
          "metadata": {},
          "output_type": "display_data"
        }
      ],
      "source": [
        "all_ratings.hist()"
      ]
    },
    {
      "cell_type": "code",
      "execution_count": 77,
      "metadata": {
        "colab": {
          "base_uri": "https://localhost:8080/",
          "height": 428
        },
        "id": "FcO61fKFT3LV",
        "outputId": "ae0fec26-7958-408d-b381-39cf3b1c9274"
      },
      "outputs": [
        {
          "data": {
            "text/plain": [
              "<Axes: >"
            ]
          },
          "execution_count": 77,
          "metadata": {},
          "output_type": "execute_result"
        },
        {
          "data": {
            "image/png": "[encoded data removed]",
            "text/plain": [
              "<Figure size 640x480 with 1 Axes>"
            ]
          },
          "metadata": {},
          "output_type": "display_data"
        }
      ],
      "source": [
        "all_ratings.plot.box()"
      ]
    }
  ],
  "metadata": {
    "colab": {
      "collapsed_sections": [
        "xr4KxIm-Kevf",
        "8s3goxuOOe9W",
        "OOH6JN-DOXEI",
        "9zcOvytXOi5B",
        "QBkQSpsUDwNB",
        "iVedNOsnTyqV"
      ],
      "provenance": []
    },
    "kernelspec": {
      "display_name": "Python 3",
      "name": "python3"
    },
    "language_info": {
      "codemirror_mode": {
        "name": "ipython",
        "version": 3
      },
      "file_extension": ".py",
      "mimetype": "text/x-python",
      "name": "python",
      "nbconvert_exporter": "python",
      "pygments_lexer": "ipython3",
      "version": "3.8.10"
    }
  },
  "nbformat": 4,
  "nbformat_minor": 0
}
