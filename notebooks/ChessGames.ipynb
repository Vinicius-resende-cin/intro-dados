{
  "cells": [
    {
      "cell_type": "markdown",
      "metadata": {
        "id": "xr4KxIm-Kevf"
      },
      "source": [
        "# Importando bibliotecas e o dataset"
      ]
    },
    {
      "cell_type": "markdown",
      "metadata": {
        "id": "8s3goxuOOe9W"
      },
      "source": [
        "## Importando bibliotecas"
      ]
    },
    {
      "cell_type": "code",
      "execution_count": 202,
      "metadata": {
        "id": "THCBAQ8DKqs8"
      },
      "outputs": [],
      "source": [
        "import numpy as np\n",
        "import pandas as pd\n",
        "np.random.seed(0) # for reproducibility"
      ]
    },
    {
      "cell_type": "markdown",
      "metadata": {},
      "source": [
        "## Importando os dados"
      ]
    },
    {
      "cell_type": "code",
      "execution_count": 203,
      "metadata": {
        "id": "XkgJeTKVLGjI"
      },
      "outputs": [],
      "source": [
        "chess_games = pd.read_csv(\"https://raw.githubusercontent.com/Vinicius-resende-cin/intro-dados/master/data/chess_games.csv\", encoding = \"ISO-8859-1\")"
      ]
    },
    {
      "cell_type": "code",
      "execution_count": 204,
      "metadata": {
        "colab": {
          "base_uri": "https://localhost:8080/",
          "height": 380
        },
        "id": "veIlGVNtOJ-r",
        "outputId": "ea2e9d94-e6b8-4787-e0d4-2683a0398b30"
      },
      "outputs": [
        {
          "data": {
            "text/html": [
              "<div>\n",
              "<style scoped>\n",
              "    .dataframe tbody tr th:only-of-type {\n",
              "        vertical-align: middle;\n",
              "    }\n",
              "\n",
              "    .dataframe tbody tr th {\n",
              "        vertical-align: top;\n",
              "    }\n",
              "\n",
              "    .dataframe thead th {\n",
              "        text-align: right;\n",
              "    }\n",
              "</style>\n",
              "<table border=\"1\" class=\"dataframe\">\n",
              "  <thead>\n",
              "    <tr style=\"text-align: right;\">\n",
              "      <th></th>\n",
              "      <th>id</th>\n",
              "      <th>rated</th>\n",
              "      <th>created_at</th>\n",
              "      <th>last_move_at</th>\n",
              "      <th>turns</th>\n",
              "      <th>victory_status</th>\n",
              "      <th>winner</th>\n",
              "      <th>increment_code</th>\n",
              "      <th>white_id</th>\n",
              "      <th>white_rating</th>\n",
              "      <th>black_id</th>\n",
              "      <th>black_rating</th>\n",
              "      <th>moves</th>\n",
              "      <th>opening_eco</th>\n",
              "      <th>opening_name</th>\n",
              "      <th>opening_ply</th>\n",
              "    </tr>\n",
              "  </thead>\n",
              "  <tbody>\n",
              "    <tr>\n",
              "      <th>0</th>\n",
              "      <td>TZJHLljE</td>\n",
              "      <td>False</td>\n",
              "      <td>1.504210e+12</td>\n",
              "      <td>1.504210e+12</td>\n",
              "      <td>13</td>\n",
              "      <td>outoftime</td>\n",
              "      <td>white</td>\n",
              "      <td>15+2</td>\n",
              "      <td>bourgris</td>\n",
              "      <td>1500</td>\n",
              "      <td>a-00</td>\n",
              "      <td>1191</td>\n",
              "      <td>d4 d5 c4 c6 cxd5 e6 dxe6 fxe6 Nf3 Bb4+ Nc3 Ba5...</td>\n",
              "      <td>D10</td>\n",
              "      <td>Slav Defense: Exchange Variation</td>\n",
              "      <td>5</td>\n",
              "    </tr>\n",
              "    <tr>\n",
              "      <th>1</th>\n",
              "      <td>l1NXvwaE</td>\n",
              "      <td>True</td>\n",
              "      <td>1.504130e+12</td>\n",
              "      <td>1.504130e+12</td>\n",
              "      <td>16</td>\n",
              "      <td>resign</td>\n",
              "      <td>black</td>\n",
              "      <td>5+10</td>\n",
              "      <td>a-00</td>\n",
              "      <td>1322</td>\n",
              "      <td>skinnerua</td>\n",
              "      <td>1261</td>\n",
              "      <td>d4 Nc6 e4 e5 f4 f6 dxe5 fxe5 fxe5 Nxe5 Qd4 Nc6...</td>\n",
              "      <td>B00</td>\n",
              "      <td>Nimzowitsch Defense: Kennedy Variation</td>\n",
              "      <td>4</td>\n",
              "    </tr>\n",
              "    <tr>\n",
              "      <th>2</th>\n",
              "      <td>mIICvQHh</td>\n",
              "      <td>True</td>\n",
              "      <td>1.504130e+12</td>\n",
              "      <td>1.504130e+12</td>\n",
              "      <td>61</td>\n",
              "      <td>mate</td>\n",
              "      <td>white</td>\n",
              "      <td>5+10</td>\n",
              "      <td>ischia</td>\n",
              "      <td>1496</td>\n",
              "      <td>a-00</td>\n",
              "      <td>1500</td>\n",
              "      <td>e4 e5 d3 d6 Be3 c6 Be2 b5 Nd2 a5 a4 c5 axb5 Nc...</td>\n",
              "      <td>C20</td>\n",
              "      <td>King's Pawn Game: Leonardis Variation</td>\n",
              "      <td>3</td>\n",
              "    </tr>\n",
              "    <tr>\n",
              "      <th>3</th>\n",
              "      <td>kWKvrqYL</td>\n",
              "      <td>True</td>\n",
              "      <td>1.504110e+12</td>\n",
              "      <td>1.504110e+12</td>\n",
              "      <td>61</td>\n",
              "      <td>mate</td>\n",
              "      <td>white</td>\n",
              "      <td>20+0</td>\n",
              "      <td>daniamurashov</td>\n",
              "      <td>1439</td>\n",
              "      <td>adivanov2009</td>\n",
              "      <td>1454</td>\n",
              "      <td>d4 d5 Nf3 Bf5 Nc3 Nf6 Bf4 Ng4 e3 Nc6 Be2 Qd7 O...</td>\n",
              "      <td>D02</td>\n",
              "      <td>Queen's Pawn Game: Zukertort Variation</td>\n",
              "      <td>3</td>\n",
              "    </tr>\n",
              "    <tr>\n",
              "      <th>4</th>\n",
              "      <td>9tXo1AUZ</td>\n",
              "      <td>True</td>\n",
              "      <td>1.504030e+12</td>\n",
              "      <td>1.504030e+12</td>\n",
              "      <td>95</td>\n",
              "      <td>mate</td>\n",
              "      <td>white</td>\n",
              "      <td>30+3</td>\n",
              "      <td>nik221107</td>\n",
              "      <td>1523</td>\n",
              "      <td>adivanov2009</td>\n",
              "      <td>1469</td>\n",
              "      <td>e4 e5 Nf3 d6 d4 Nc6 d5 Nb4 a3 Na6 Nc3 Be7 b4 N...</td>\n",
              "      <td>C41</td>\n",
              "      <td>Philidor Defense</td>\n",
              "      <td>5</td>\n",
              "    </tr>\n",
              "  </tbody>\n",
              "</table>\n",
              "</div>"
            ],
            "text/plain": [
              "         id  rated    created_at  last_move_at  turns victory_status winner  \\\n",
              "0  TZJHLljE  False  1.504210e+12  1.504210e+12     13      outoftime  white   \n",
              "1  l1NXvwaE   True  1.504130e+12  1.504130e+12     16         resign  black   \n",
              "2  mIICvQHh   True  1.504130e+12  1.504130e+12     61           mate  white   \n",
              "3  kWKvrqYL   True  1.504110e+12  1.504110e+12     61           mate  white   \n",
              "4  9tXo1AUZ   True  1.504030e+12  1.504030e+12     95           mate  white   \n",
              "\n",
              "  increment_code       white_id  white_rating      black_id  black_rating  \\\n",
              "0           15+2       bourgris          1500          a-00          1191   \n",
              "1           5+10           a-00          1322     skinnerua          1261   \n",
              "2           5+10         ischia          1496          a-00          1500   \n",
              "3           20+0  daniamurashov          1439  adivanov2009          1454   \n",
              "4           30+3      nik221107          1523  adivanov2009          1469   \n",
              "\n",
              "                                               moves opening_eco  \\\n",
              "0  d4 d5 c4 c6 cxd5 e6 dxe6 fxe6 Nf3 Bb4+ Nc3 Ba5...         D10   \n",
              "1  d4 Nc6 e4 e5 f4 f6 dxe5 fxe5 fxe5 Nxe5 Qd4 Nc6...         B00   \n",
              "2  e4 e5 d3 d6 Be3 c6 Be2 b5 Nd2 a5 a4 c5 axb5 Nc...         C20   \n",
              "3  d4 d5 Nf3 Bf5 Nc3 Nf6 Bf4 Ng4 e3 Nc6 Be2 Qd7 O...         D02   \n",
              "4  e4 e5 Nf3 d6 d4 Nc6 d5 Nb4 a3 Na6 Nc3 Be7 b4 N...         C41   \n",
              "\n",
              "                             opening_name  opening_ply  \n",
              "0        Slav Defense: Exchange Variation            5  \n",
              "1  Nimzowitsch Defense: Kennedy Variation            4  \n",
              "2   King's Pawn Game: Leonardis Variation            3  \n",
              "3  Queen's Pawn Game: Zukertort Variation            3  \n",
              "4                        Philidor Defense            5  "
            ]
          },
          "execution_count": 204,
          "metadata": {},
          "output_type": "execute_result"
        }
      ],
      "source": [
        "chess_games.head()"
      ]
    },
    {
      "cell_type": "markdown",
      "metadata": {
        "id": "TROMbYo77jTJ"
      },
      "source": [
        "# Definição de tipos"
      ]
    },
    {
      "cell_type": "code",
      "execution_count": 205,
      "metadata": {
        "colab": {
          "base_uri": "https://localhost:8080/"
        },
        "id": "wQc3c9j2O9j4",
        "outputId": "bbec4a62-3437-447f-eecb-1b76a35c3039"
      },
      "outputs": [
        {
          "data": {
            "text/plain": [
              "id                 object\n",
              "rated                bool\n",
              "created_at        float64\n",
              "last_move_at      float64\n",
              "turns               int64\n",
              "victory_status     object\n",
              "winner             object\n",
              "increment_code     object\n",
              "white_id           object\n",
              "white_rating        int64\n",
              "black_id           object\n",
              "black_rating        int64\n",
              "moves              object\n",
              "opening_eco        object\n",
              "opening_name       object\n",
              "opening_ply         int64\n",
              "dtype: object"
            ]
          },
          "execution_count": 205,
          "metadata": {},
          "output_type": "execute_result"
        }
      ],
      "source": [
        "# verificando os tipos de todas as colunas\n",
        "chess_games.dtypes"
      ]
    },
    {
      "cell_type": "markdown",
      "metadata": {},
      "source": [
        "Primeiro, as colunas relacionadas ao tempo de início e fim serão convertidas em uma única coluna com a duração da partida."
      ]
    },
    {
      "cell_type": "code",
      "execution_count": 206,
      "metadata": {},
      "outputs": [],
      "source": [
        "# convertendo para datetime format\n",
        "chess_games['created_at'] = pd.to_datetime(chess_games['created_at'], unit='ms', origin='unix')\n",
        "chess_games['last_move_at'] = pd.to_datetime(chess_games['last_move_at'], unit='ms', origin='unix')"
      ]
    },
    {
      "cell_type": "code",
      "execution_count": 207,
      "metadata": {},
      "outputs": [],
      "source": [
        "chess_games['duration_sec'] = chess_games['last_move_at'] - chess_games['created_at']\n",
        "chess_games['duration_sec'] = chess_games['duration_sec'].dt.total_seconds()"
      ]
    },
    {
      "cell_type": "code",
      "execution_count": 208,
      "metadata": {},
      "outputs": [],
      "source": [
        "# as colunas originais de tempo serão removidas\n",
        "chess_games = chess_games.drop(columns=['created_at', 'last_move_at'])"
      ]
    },
    {
      "cell_type": "code",
      "execution_count": 209,
      "metadata": {},
      "outputs": [
        {
          "data": {
            "text/html": [
              "<div>\n",
              "<style scoped>\n",
              "    .dataframe tbody tr th:only-of-type {\n",
              "        vertical-align: middle;\n",
              "    }\n",
              "\n",
              "    .dataframe tbody tr th {\n",
              "        vertical-align: top;\n",
              "    }\n",
              "\n",
              "    .dataframe thead th {\n",
              "        text-align: right;\n",
              "    }\n",
              "</style>\n",
              "<table border=\"1\" class=\"dataframe\">\n",
              "  <thead>\n",
              "    <tr style=\"text-align: right;\">\n",
              "      <th></th>\n",
              "      <th>id</th>\n",
              "      <th>rated</th>\n",
              "      <th>turns</th>\n",
              "      <th>victory_status</th>\n",
              "      <th>winner</th>\n",
              "      <th>increment_code</th>\n",
              "      <th>white_id</th>\n",
              "      <th>white_rating</th>\n",
              "      <th>black_id</th>\n",
              "      <th>black_rating</th>\n",
              "      <th>moves</th>\n",
              "      <th>opening_eco</th>\n",
              "      <th>opening_name</th>\n",
              "      <th>opening_ply</th>\n",
              "      <th>duration_sec</th>\n",
              "    </tr>\n",
              "  </thead>\n",
              "  <tbody>\n",
              "    <tr>\n",
              "      <th>0</th>\n",
              "      <td>TZJHLljE</td>\n",
              "      <td>False</td>\n",
              "      <td>13</td>\n",
              "      <td>outoftime</td>\n",
              "      <td>white</td>\n",
              "      <td>15+2</td>\n",
              "      <td>bourgris</td>\n",
              "      <td>1500</td>\n",
              "      <td>a-00</td>\n",
              "      <td>1191</td>\n",
              "      <td>d4 d5 c4 c6 cxd5 e6 dxe6 fxe6 Nf3 Bb4+ Nc3 Ba5...</td>\n",
              "      <td>D10</td>\n",
              "      <td>Slav Defense: Exchange Variation</td>\n",
              "      <td>5</td>\n",
              "      <td>0.0</td>\n",
              "    </tr>\n",
              "    <tr>\n",
              "      <th>1</th>\n",
              "      <td>l1NXvwaE</td>\n",
              "      <td>True</td>\n",
              "      <td>16</td>\n",
              "      <td>resign</td>\n",
              "      <td>black</td>\n",
              "      <td>5+10</td>\n",
              "      <td>a-00</td>\n",
              "      <td>1322</td>\n",
              "      <td>skinnerua</td>\n",
              "      <td>1261</td>\n",
              "      <td>d4 Nc6 e4 e5 f4 f6 dxe5 fxe5 fxe5 Nxe5 Qd4 Nc6...</td>\n",
              "      <td>B00</td>\n",
              "      <td>Nimzowitsch Defense: Kennedy Variation</td>\n",
              "      <td>4</td>\n",
              "      <td>0.0</td>\n",
              "    </tr>\n",
              "    <tr>\n",
              "      <th>2</th>\n",
              "      <td>mIICvQHh</td>\n",
              "      <td>True</td>\n",
              "      <td>61</td>\n",
              "      <td>mate</td>\n",
              "      <td>white</td>\n",
              "      <td>5+10</td>\n",
              "      <td>ischia</td>\n",
              "      <td>1496</td>\n",
              "      <td>a-00</td>\n",
              "      <td>1500</td>\n",
              "      <td>e4 e5 d3 d6 Be3 c6 Be2 b5 Nd2 a5 a4 c5 axb5 Nc...</td>\n",
              "      <td>C20</td>\n",
              "      <td>King's Pawn Game: Leonardis Variation</td>\n",
              "      <td>3</td>\n",
              "      <td>0.0</td>\n",
              "    </tr>\n",
              "    <tr>\n",
              "      <th>3</th>\n",
              "      <td>kWKvrqYL</td>\n",
              "      <td>True</td>\n",
              "      <td>61</td>\n",
              "      <td>mate</td>\n",
              "      <td>white</td>\n",
              "      <td>20+0</td>\n",
              "      <td>daniamurashov</td>\n",
              "      <td>1439</td>\n",
              "      <td>adivanov2009</td>\n",
              "      <td>1454</td>\n",
              "      <td>d4 d5 Nf3 Bf5 Nc3 Nf6 Bf4 Ng4 e3 Nc6 Be2 Qd7 O...</td>\n",
              "      <td>D02</td>\n",
              "      <td>Queen's Pawn Game: Zukertort Variation</td>\n",
              "      <td>3</td>\n",
              "      <td>0.0</td>\n",
              "    </tr>\n",
              "    <tr>\n",
              "      <th>4</th>\n",
              "      <td>9tXo1AUZ</td>\n",
              "      <td>True</td>\n",
              "      <td>95</td>\n",
              "      <td>mate</td>\n",
              "      <td>white</td>\n",
              "      <td>30+3</td>\n",
              "      <td>nik221107</td>\n",
              "      <td>1523</td>\n",
              "      <td>adivanov2009</td>\n",
              "      <td>1469</td>\n",
              "      <td>e4 e5 Nf3 d6 d4 Nc6 d5 Nb4 a3 Na6 Nc3 Be7 b4 N...</td>\n",
              "      <td>C41</td>\n",
              "      <td>Philidor Defense</td>\n",
              "      <td>5</td>\n",
              "      <td>0.0</td>\n",
              "    </tr>\n",
              "  </tbody>\n",
              "</table>\n",
              "</div>"
            ],
            "text/plain": [
              "         id  rated  turns victory_status winner increment_code       white_id  \\\n",
              "0  TZJHLljE  False     13      outoftime  white           15+2       bourgris   \n",
              "1  l1NXvwaE   True     16         resign  black           5+10           a-00   \n",
              "2  mIICvQHh   True     61           mate  white           5+10         ischia   \n",
              "3  kWKvrqYL   True     61           mate  white           20+0  daniamurashov   \n",
              "4  9tXo1AUZ   True     95           mate  white           30+3      nik221107   \n",
              "\n",
              "   white_rating      black_id  black_rating  \\\n",
              "0          1500          a-00          1191   \n",
              "1          1322     skinnerua          1261   \n",
              "2          1496          a-00          1500   \n",
              "3          1439  adivanov2009          1454   \n",
              "4          1523  adivanov2009          1469   \n",
              "\n",
              "                                               moves opening_eco  \\\n",
              "0  d4 d5 c4 c6 cxd5 e6 dxe6 fxe6 Nf3 Bb4+ Nc3 Ba5...         D10   \n",
              "1  d4 Nc6 e4 e5 f4 f6 dxe5 fxe5 fxe5 Nxe5 Qd4 Nc6...         B00   \n",
              "2  e4 e5 d3 d6 Be3 c6 Be2 b5 Nd2 a5 a4 c5 axb5 Nc...         C20   \n",
              "3  d4 d5 Nf3 Bf5 Nc3 Nf6 Bf4 Ng4 e3 Nc6 Be2 Qd7 O...         D02   \n",
              "4  e4 e5 Nf3 d6 d4 Nc6 d5 Nb4 a3 Na6 Nc3 Be7 b4 N...         C41   \n",
              "\n",
              "                             opening_name  opening_ply  duration_sec  \n",
              "0        Slav Defense: Exchange Variation            5           0.0  \n",
              "1  Nimzowitsch Defense: Kennedy Variation            4           0.0  \n",
              "2   King's Pawn Game: Leonardis Variation            3           0.0  \n",
              "3  Queen's Pawn Game: Zukertort Variation            3           0.0  \n",
              "4                        Philidor Defense            5           0.0  "
            ]
          },
          "execution_count": 209,
          "metadata": {},
          "output_type": "execute_result"
        }
      ],
      "source": [
        "chess_games.head()"
      ]
    },
    {
      "cell_type": "code",
      "execution_count": 210,
      "metadata": {
        "id": "-6jNIeJ_7v44"
      },
      "outputs": [],
      "source": [
        "# convertendo 'object' para 'category'\n",
        "chess_games['id'] = chess_games['id'].astype('category')\n",
        "chess_games['victory_status'] = chess_games['victory_status'].astype('category')\n",
        "chess_games['winner'] = chess_games['winner'].astype('category')\n",
        "chess_games['increment_code'] = chess_games['increment_code'].astype('category')\n",
        "chess_games['white_id'] = chess_games['white_id'].astype('category')\n",
        "chess_games['black_id'] = chess_games['black_id'].astype('category')\n",
        "chess_games['moves'] = chess_games['moves'].astype('category')\n",
        "chess_games['opening_eco'] = chess_games['opening_eco'].astype('category')\n",
        "chess_games['opening_name'] = chess_games['opening_name'].astype('category')\n",
        "\n",
        "# convertendo categorico para numérico\n",
        "chess_games['id'] = chess_games['id'].cat.codes\n",
        "chess_games['victory_status'] = chess_games['victory_status'].cat.codes\n",
        "chess_games['winner'] = chess_games['winner'].cat.codes\n",
        "chess_games['increment_code'] = chess_games['increment_code'].cat.codes\n",
        "chess_games['white_id'] = chess_games['white_id'].cat.codes\n",
        "chess_games['black_id'] = chess_games['black_id'].cat.codes\n",
        "chess_games['moves'] = chess_games['moves'].cat.codes\n",
        "chess_games['opening_eco'] = chess_games['opening_eco'].cat.codes\n",
        "chess_games['opening_name'] = chess_games['opening_name'].cat.codes"
      ]
    },
    {
      "cell_type": "code",
      "execution_count": 211,
      "metadata": {
        "colab": {
          "base_uri": "https://localhost:8080/"
        },
        "id": "pZvTy3P58php",
        "outputId": "9dd8a83c-b6c8-4887-c71b-aab33872b646"
      },
      "outputs": [
        {
          "data": {
            "text/plain": [
              "id                  int16\n",
              "rated                bool\n",
              "turns               int64\n",
              "victory_status       int8\n",
              "winner               int8\n",
              "increment_code      int16\n",
              "white_id            int16\n",
              "white_rating        int64\n",
              "black_id            int16\n",
              "black_rating        int64\n",
              "moves               int16\n",
              "opening_eco         int16\n",
              "opening_name        int16\n",
              "opening_ply         int64\n",
              "duration_sec      float64\n",
              "dtype: object"
            ]
          },
          "execution_count": 211,
          "metadata": {},
          "output_type": "execute_result"
        }
      ],
      "source": [
        "# verificando novos tipos\n",
        "chess_games.dtypes"
      ]
    },
    {
      "cell_type": "code",
      "execution_count": 212,
      "metadata": {
        "colab": {
          "base_uri": "https://localhost:8080/",
          "height": 293
        },
        "id": "RWeitbgx-M-B",
        "outputId": "5ead425d-e58c-4d2a-ec95-394c0c47ded1"
      },
      "outputs": [
        {
          "data": {
            "text/html": [
              "<div>\n",
              "<style scoped>\n",
              "    .dataframe tbody tr th:only-of-type {\n",
              "        vertical-align: middle;\n",
              "    }\n",
              "\n",
              "    .dataframe tbody tr th {\n",
              "        vertical-align: top;\n",
              "    }\n",
              "\n",
              "    .dataframe thead th {\n",
              "        text-align: right;\n",
              "    }\n",
              "</style>\n",
              "<table border=\"1\" class=\"dataframe\">\n",
              "  <thead>\n",
              "    <tr style=\"text-align: right;\">\n",
              "      <th></th>\n",
              "      <th>id</th>\n",
              "      <th>rated</th>\n",
              "      <th>turns</th>\n",
              "      <th>victory_status</th>\n",
              "      <th>winner</th>\n",
              "      <th>increment_code</th>\n",
              "      <th>white_id</th>\n",
              "      <th>white_rating</th>\n",
              "      <th>black_id</th>\n",
              "      <th>black_rating</th>\n",
              "      <th>moves</th>\n",
              "      <th>opening_eco</th>\n",
              "      <th>opening_name</th>\n",
              "      <th>opening_ply</th>\n",
              "      <th>duration_sec</th>\n",
              "    </tr>\n",
              "  </thead>\n",
              "  <tbody>\n",
              "    <tr>\n",
              "      <th>0</th>\n",
              "      <td>9068</td>\n",
              "      <td>False</td>\n",
              "      <td>13</td>\n",
              "      <td>2</td>\n",
              "      <td>2</td>\n",
              "      <td>110</td>\n",
              "      <td>1287</td>\n",
              "      <td>1500</td>\n",
              "      <td>11</td>\n",
              "      <td>1191</td>\n",
              "      <td>4524</td>\n",
              "      <td>248</td>\n",
              "      <td>1387</td>\n",
              "      <td>5</td>\n",
              "      <td>0.0</td>\n",
              "    </tr>\n",
              "    <tr>\n",
              "      <th>1</th>\n",
              "      <td>14512</td>\n",
              "      <td>True</td>\n",
              "      <td>16</td>\n",
              "      <td>3</td>\n",
              "      <td>0</td>\n",
              "      <td>298</td>\n",
              "      <td>16</td>\n",
              "      <td>1322</td>\n",
              "      <td>7748</td>\n",
              "      <td>1261</td>\n",
              "      <td>1987</td>\n",
              "      <td>71</td>\n",
              "      <td>750</td>\n",
              "      <td>4</td>\n",
              "      <td>0.0</td>\n",
              "    </tr>\n",
              "    <tr>\n",
              "      <th>2</th>\n",
              "      <td>14904</td>\n",
              "      <td>True</td>\n",
              "      <td>61</td>\n",
              "      <td>1</td>\n",
              "      <td>2</td>\n",
              "      <td>298</td>\n",
              "      <td>3823</td>\n",
              "      <td>1496</td>\n",
              "      <td>11</td>\n",
              "      <td>1500</td>\n",
              "      <td>16383</td>\n",
              "      <td>171</td>\n",
              "      <td>650</td>\n",
              "      <td>3</td>\n",
              "      <td>0.0</td>\n",
              "    </tr>\n",
              "    <tr>\n",
              "      <th>3</th>\n",
              "      <td>14350</td>\n",
              "      <td>True</td>\n",
              "      <td>61</td>\n",
              "      <td>1</td>\n",
              "      <td>2</td>\n",
              "      <td>187</td>\n",
              "      <td>2017</td>\n",
              "      <td>1439</td>\n",
              "      <td>134</td>\n",
              "      <td>1454</td>\n",
              "      <td>3770</td>\n",
              "      <td>241</td>\n",
              "      <td>992</td>\n",
              "      <td>3</td>\n",
              "      <td>0.0</td>\n",
              "    </tr>\n",
              "    <tr>\n",
              "      <th>4</th>\n",
              "      <td>3091</td>\n",
              "      <td>True</td>\n",
              "      <td>95</td>\n",
              "      <td>1</td>\n",
              "      <td>2</td>\n",
              "      <td>247</td>\n",
              "      <td>6056</td>\n",
              "      <td>1523</td>\n",
              "      <td>134</td>\n",
              "      <td>1469</td>\n",
              "      <td>15622</td>\n",
              "      <td>192</td>\n",
              "      <td>783</td>\n",
              "      <td>5</td>\n",
              "      <td>0.0</td>\n",
              "    </tr>\n",
              "  </tbody>\n",
              "</table>\n",
              "</div>"
            ],
            "text/plain": [
              "      id  rated  turns  victory_status  winner  increment_code  white_id  \\\n",
              "0   9068  False     13               2       2             110      1287   \n",
              "1  14512   True     16               3       0             298        16   \n",
              "2  14904   True     61               1       2             298      3823   \n",
              "3  14350   True     61               1       2             187      2017   \n",
              "4   3091   True     95               1       2             247      6056   \n",
              "\n",
              "   white_rating  black_id  black_rating  moves  opening_eco  opening_name  \\\n",
              "0          1500        11          1191   4524          248          1387   \n",
              "1          1322      7748          1261   1987           71           750   \n",
              "2          1496        11          1500  16383          171           650   \n",
              "3          1439       134          1454   3770          241           992   \n",
              "4          1523       134          1469  15622          192           783   \n",
              "\n",
              "   opening_ply  duration_sec  \n",
              "0            5           0.0  \n",
              "1            4           0.0  \n",
              "2            3           0.0  \n",
              "3            3           0.0  \n",
              "4            5           0.0  "
            ]
          },
          "execution_count": 212,
          "metadata": {},
          "output_type": "execute_result"
        }
      ],
      "source": [
        "chess_games.head()"
      ]
    },
    {
      "cell_type": "markdown",
      "metadata": {},
      "source": [
        "# Tratamento de dados duplicados"
      ]
    },
    {
      "cell_type": "markdown",
      "metadata": {},
      "source": [
        "## Verificando se há dados duplicados"
      ]
    },
    {
      "cell_type": "markdown",
      "metadata": {},
      "source": [
        "Como um mesmo jogo pode acontecer mais de uma vez, serão considerados duplicados os jogos que possuem o mesmo id."
      ]
    },
    {
      "cell_type": "code",
      "execution_count": 213,
      "metadata": {},
      "outputs": [],
      "source": [
        "duplicated_games = chess_games.duplicated(keep=False, subset=['id'])"
      ]
    },
    {
      "cell_type": "code",
      "execution_count": 214,
      "metadata": {},
      "outputs": [
        {
          "data": {
            "text/html": [
              "<div>\n",
              "<style scoped>\n",
              "    .dataframe tbody tr th:only-of-type {\n",
              "        vertical-align: middle;\n",
              "    }\n",
              "\n",
              "    .dataframe tbody tr th {\n",
              "        vertical-align: top;\n",
              "    }\n",
              "\n",
              "    .dataframe thead th {\n",
              "        text-align: right;\n",
              "    }\n",
              "</style>\n",
              "<table border=\"1\" class=\"dataframe\">\n",
              "  <thead>\n",
              "    <tr style=\"text-align: right;\">\n",
              "      <th></th>\n",
              "      <th>id</th>\n",
              "      <th>rated</th>\n",
              "      <th>turns</th>\n",
              "      <th>victory_status</th>\n",
              "      <th>winner</th>\n",
              "      <th>increment_code</th>\n",
              "      <th>white_id</th>\n",
              "      <th>white_rating</th>\n",
              "      <th>black_id</th>\n",
              "      <th>black_rating</th>\n",
              "      <th>moves</th>\n",
              "      <th>opening_eco</th>\n",
              "      <th>opening_name</th>\n",
              "      <th>opening_ply</th>\n",
              "      <th>duration_sec</th>\n",
              "    </tr>\n",
              "  </thead>\n",
              "  <tbody>\n",
              "    <tr>\n",
              "      <th>11279</th>\n",
              "      <td>30</td>\n",
              "      <td>True</td>\n",
              "      <td>66</td>\n",
              "      <td>0</td>\n",
              "      <td>1</td>\n",
              "      <td>26</td>\n",
              "      <td>2795</td>\n",
              "      <td>1630</td>\n",
              "      <td>8822</td>\n",
              "      <td>1584</td>\n",
              "      <td>17286</td>\n",
              "      <td>152</td>\n",
              "      <td>352</td>\n",
              "      <td>3</td>\n",
              "      <td>887.434</td>\n",
              "    </tr>\n",
              "    <tr>\n",
              "      <th>10570</th>\n",
              "      <td>30</td>\n",
              "      <td>True</td>\n",
              "      <td>66</td>\n",
              "      <td>0</td>\n",
              "      <td>1</td>\n",
              "      <td>26</td>\n",
              "      <td>2795</td>\n",
              "      <td>1630</td>\n",
              "      <td>8822</td>\n",
              "      <td>1584</td>\n",
              "      <td>17286</td>\n",
              "      <td>152</td>\n",
              "      <td>352</td>\n",
              "      <td>3</td>\n",
              "      <td>887.434</td>\n",
              "    </tr>\n",
              "    <tr>\n",
              "      <th>12208</th>\n",
              "      <td>37</td>\n",
              "      <td>True</td>\n",
              "      <td>32</td>\n",
              "      <td>3</td>\n",
              "      <td>0</td>\n",
              "      <td>19</td>\n",
              "      <td>9071</td>\n",
              "      <td>1448</td>\n",
              "      <td>6546</td>\n",
              "      <td>1436</td>\n",
              "      <td>4148</td>\n",
              "      <td>241</td>\n",
              "      <td>931</td>\n",
              "      <td>4</td>\n",
              "      <td>235.773</td>\n",
              "    </tr>\n",
              "    <tr>\n",
              "      <th>720</th>\n",
              "      <td>37</td>\n",
              "      <td>True</td>\n",
              "      <td>32</td>\n",
              "      <td>3</td>\n",
              "      <td>0</td>\n",
              "      <td>19</td>\n",
              "      <td>9071</td>\n",
              "      <td>1448</td>\n",
              "      <td>6546</td>\n",
              "      <td>1436</td>\n",
              "      <td>4148</td>\n",
              "      <td>241</td>\n",
              "      <td>931</td>\n",
              "      <td>4</td>\n",
              "      <td>0.000</td>\n",
              "    </tr>\n",
              "    <tr>\n",
              "      <th>3882</th>\n",
              "      <td>40</td>\n",
              "      <td>True</td>\n",
              "      <td>35</td>\n",
              "      <td>1</td>\n",
              "      <td>2</td>\n",
              "      <td>236</td>\n",
              "      <td>1664</td>\n",
              "      <td>1259</td>\n",
              "      <td>3636</td>\n",
              "      <td>1319</td>\n",
              "      <td>14968</td>\n",
              "      <td>193</td>\n",
              "      <td>777</td>\n",
              "      <td>4</td>\n",
              "      <td>10000.000</td>\n",
              "    </tr>\n",
              "    <tr>\n",
              "      <th>18642</th>\n",
              "      <td>40</td>\n",
              "      <td>True</td>\n",
              "      <td>35</td>\n",
              "      <td>1</td>\n",
              "      <td>2</td>\n",
              "      <td>236</td>\n",
              "      <td>1664</td>\n",
              "      <td>1259</td>\n",
              "      <td>3636</td>\n",
              "      <td>1319</td>\n",
              "      <td>14968</td>\n",
              "      <td>193</td>\n",
              "      <td>777</td>\n",
              "      <td>4</td>\n",
              "      <td>515.314</td>\n",
              "    </tr>\n",
              "  </tbody>\n",
              "</table>\n",
              "</div>"
            ],
            "text/plain": [
              "       id  rated  turns  victory_status  winner  increment_code  white_id  \\\n",
              "11279  30   True     66               0       1              26      2795   \n",
              "10570  30   True     66               0       1              26      2795   \n",
              "12208  37   True     32               3       0              19      9071   \n",
              "720    37   True     32               3       0              19      9071   \n",
              "3882   40   True     35               1       2             236      1664   \n",
              "18642  40   True     35               1       2             236      1664   \n",
              "\n",
              "       white_rating  black_id  black_rating  moves  opening_eco  opening_name  \\\n",
              "11279          1630      8822          1584  17286          152           352   \n",
              "10570          1630      8822          1584  17286          152           352   \n",
              "12208          1448      6546          1436   4148          241           931   \n",
              "720            1448      6546          1436   4148          241           931   \n",
              "3882           1259      3636          1319  14968          193           777   \n",
              "18642          1259      3636          1319  14968          193           777   \n",
              "\n",
              "       opening_ply  duration_sec  \n",
              "11279            3       887.434  \n",
              "10570            3       887.434  \n",
              "12208            4       235.773  \n",
              "720              4         0.000  \n",
              "3882             4     10000.000  \n",
              "18642            4       515.314  "
            ]
          },
          "execution_count": 214,
          "metadata": {},
          "output_type": "execute_result"
        }
      ],
      "source": [
        "chess_games[duplicated_games].sort_values(by='id').head(6)"
      ]
    },
    {
      "cell_type": "code",
      "execution_count": 215,
      "metadata": {},
      "outputs": [
        {
          "data": {
            "text/plain": [
              "(20058, 15)"
            ]
          },
          "execution_count": 215,
          "metadata": {},
          "output_type": "execute_result"
        }
      ],
      "source": [
        "# tamanho antes da remoção de dados duplicados\n",
        "chess_games.shape"
      ]
    },
    {
      "cell_type": "markdown",
      "metadata": {},
      "source": [
        "## Remoção de dados duplicados"
      ]
    },
    {
      "cell_type": "code",
      "execution_count": 216,
      "metadata": {},
      "outputs": [],
      "source": [
        "chess_games.drop_duplicates(inplace=True, subset=['id'])"
      ]
    },
    {
      "cell_type": "code",
      "execution_count": 217,
      "metadata": {},
      "outputs": [
        {
          "data": {
            "text/plain": [
              "(19113, 15)"
            ]
          },
          "execution_count": 217,
          "metadata": {},
          "output_type": "execute_result"
        }
      ],
      "source": [
        "chess_games.shape"
      ]
    },
    {
      "cell_type": "markdown",
      "metadata": {
        "id": "NXW15s_LD37Q"
      },
      "source": [
        "# Tratamento de dados ausentes"
      ]
    },
    {
      "cell_type": "code",
      "execution_count": 218,
      "metadata": {
        "colab": {
          "base_uri": "https://localhost:8080/"
        },
        "id": "mhocDl4nD_ep",
        "outputId": "d768e1ef-5617-4d80-f182-651bbd70ed39"
      },
      "outputs": [
        {
          "data": {
            "text/plain": [
              "(19113, 15)"
            ]
          },
          "execution_count": 218,
          "metadata": {},
          "output_type": "execute_result"
        }
      ],
      "source": [
        "chess_games.shape"
      ]
    },
    {
      "cell_type": "code",
      "execution_count": 219,
      "metadata": {
        "colab": {
          "base_uri": "https://localhost:8080/"
        },
        "id": "2vXFwG0YEDvo",
        "outputId": "a53df129-bc5b-4924-dd6f-a385638f9daa"
      },
      "outputs": [
        {
          "name": "stdout",
          "output_type": "stream",
          "text": [
            "id                0\n",
            "rated             0\n",
            "turns             0\n",
            "victory_status    0\n",
            "winner            0\n",
            "increment_code    0\n",
            "white_id          0\n",
            "white_rating      0\n",
            "black_id          0\n",
            "black_rating      0\n",
            "moves             0\n",
            "opening_eco       0\n",
            "opening_name      0\n",
            "opening_ply       0\n",
            "duration_sec      0\n",
            "dtype: int64\n"
          ]
        }
      ],
      "source": [
        "# verificando se há dados ausentes\n",
        "print(chess_games.isnull().sum())"
      ]
    },
    {
      "cell_type": "markdown",
      "metadata": {
        "id": "BJmWjMN0EgIw"
      },
      "source": [
        "O dataset selecionado não contém dados ausentes, portanto será feita uma remoção aleatória de dados para que possa ser realizada uma imputação em seguida"
      ]
    },
    {
      "cell_type": "markdown",
      "metadata": {},
      "source": [
        "## Normalização"
      ]
    },
    {
      "cell_type": "markdown",
      "metadata": {},
      "source": [
        "Antes de realizar a imputação, é necessário normalizar os dados para que a imputação seja feita de forma correta. Apenas as colunas que se referem aos ratings dos jogadores serão utilizadas."
      ]
    },
    {
      "cell_type": "code",
      "execution_count": 220,
      "metadata": {},
      "outputs": [],
      "source": [
        "chess_games_norm = chess_games.copy()"
      ]
    },
    {
      "cell_type": "code",
      "execution_count": 221,
      "metadata": {},
      "outputs": [],
      "source": [
        "# normalização entre 0 e 1\n",
        "chess_games_norm['white_rating'] = (chess_games['white_rating'] - chess_games['white_rating'].min()) \\\n",
        "    / (chess_games['white_rating'].max() - chess_games['white_rating'].min())\n",
        "chess_games_norm['black_rating'] = (chess_games['black_rating'] - chess_games['black_rating'].min()) \\\n",
        "    / (chess_games['black_rating'].max() - chess_games['black_rating'].min())"
      ]
    },
    {
      "cell_type": "code",
      "execution_count": 222,
      "metadata": {},
      "outputs": [
        {
          "data": {
            "text/html": [
              "<div>\n",
              "<style scoped>\n",
              "    .dataframe tbody tr th:only-of-type {\n",
              "        vertical-align: middle;\n",
              "    }\n",
              "\n",
              "    .dataframe tbody tr th {\n",
              "        vertical-align: top;\n",
              "    }\n",
              "\n",
              "    .dataframe thead th {\n",
              "        text-align: right;\n",
              "    }\n",
              "</style>\n",
              "<table border=\"1\" class=\"dataframe\">\n",
              "  <thead>\n",
              "    <tr style=\"text-align: right;\">\n",
              "      <th></th>\n",
              "      <th>white_rating</th>\n",
              "      <th>black_rating</th>\n",
              "    </tr>\n",
              "  </thead>\n",
              "  <tbody>\n",
              "    <tr>\n",
              "      <th>count</th>\n",
              "      <td>19113.000000</td>\n",
              "      <td>19113.000000</td>\n",
              "    </tr>\n",
              "    <tr>\n",
              "      <th>mean</th>\n",
              "      <td>0.424478</td>\n",
              "      <td>0.414191</td>\n",
              "    </tr>\n",
              "    <tr>\n",
              "      <th>std</th>\n",
              "      <td>0.151369</td>\n",
              "      <td>0.150177</td>\n",
              "    </tr>\n",
              "    <tr>\n",
              "      <th>min</th>\n",
              "      <td>0.000000</td>\n",
              "      <td>0.000000</td>\n",
              "    </tr>\n",
              "    <tr>\n",
              "      <th>25%</th>\n",
              "      <td>0.322025</td>\n",
              "      <td>0.312823</td>\n",
              "    </tr>\n",
              "    <tr>\n",
              "      <th>50%</th>\n",
              "      <td>0.408664</td>\n",
              "      <td>0.400207</td>\n",
              "    </tr>\n",
              "    <tr>\n",
              "      <th>75%</th>\n",
              "      <td>0.526096</td>\n",
              "      <td>0.514995</td>\n",
              "    </tr>\n",
              "    <tr>\n",
              "      <th>max</th>\n",
              "      <td>1.000000</td>\n",
              "      <td>1.000000</td>\n",
              "    </tr>\n",
              "  </tbody>\n",
              "</table>\n",
              "</div>"
            ],
            "text/plain": [
              "       white_rating  black_rating\n",
              "count  19113.000000  19113.000000\n",
              "mean       0.424478      0.414191\n",
              "std        0.151369      0.150177\n",
              "min        0.000000      0.000000\n",
              "25%        0.322025      0.312823\n",
              "50%        0.408664      0.400207\n",
              "75%        0.526096      0.514995\n",
              "max        1.000000      1.000000"
            ]
          },
          "execution_count": 222,
          "metadata": {},
          "output_type": "execute_result"
        }
      ],
      "source": [
        "chess_games_norm[['white_rating', 'black_rating']].describe()"
      ]
    },
    {
      "cell_type": "markdown",
      "metadata": {},
      "source": [
        "## Remoção de dados"
      ]
    },
    {
      "cell_type": "code",
      "execution_count": 223,
      "metadata": {},
      "outputs": [],
      "source": [
        "# gerando indices aleatórios\n",
        "random_indices_white_rating = np.random.choice(chess_games.index, size=int(len(chess_games)*0.05), replace=False)\n",
        "random_indices_black_rating = np.random.choice(chess_games.index, size=int(len(chess_games)*0.05), replace=False)\n",
        "\n",
        "# substituindo valores por NaN\n",
        "chess_games2 = chess_games_norm.copy()\n",
        "chess_games2.loc[random_indices_white_rating, ['white_rating']] = np.nan\n",
        "chess_games2.loc[random_indices_black_rating, ['black_rating']] = np.nan"
      ]
    },
    {
      "cell_type": "code",
      "execution_count": 224,
      "metadata": {},
      "outputs": [
        {
          "data": {
            "text/plain": [
              "id                  0\n",
              "rated               0\n",
              "turns               0\n",
              "victory_status      0\n",
              "winner              0\n",
              "increment_code      0\n",
              "white_id            0\n",
              "white_rating      955\n",
              "black_id            0\n",
              "black_rating      955\n",
              "moves               0\n",
              "opening_eco         0\n",
              "opening_name        0\n",
              "opening_ply         0\n",
              "duration_sec        0\n",
              "dtype: int64"
            ]
          },
          "execution_count": 224,
          "metadata": {},
          "output_type": "execute_result"
        }
      ],
      "source": [
        "chess_games2.isnull().sum()"
      ]
    },
    {
      "cell_type": "markdown",
      "metadata": {},
      "source": [
        "## Imputação de dados"
      ]
    },
    {
      "cell_type": "markdown",
      "metadata": {},
      "source": [
        "### Usando a média"
      ]
    },
    {
      "cell_type": "code",
      "execution_count": 225,
      "metadata": {},
      "outputs": [],
      "source": [
        "chess_games_mean_fill = chess_games2.copy()"
      ]
    },
    {
      "cell_type": "code",
      "execution_count": 226,
      "metadata": {},
      "outputs": [
        {
          "name": "stdout",
          "output_type": "stream",
          "text": [
            "white_rating\n",
            "mean: 0.42429824980954695\n",
            "median: 0.40866388308977036\n",
            "\n",
            "black_rating\n",
            "mean: 0.4143820364346374\n",
            "median: 0.40020682523267836\n"
          ]
        }
      ],
      "source": [
        "print(\"white_rating\")\n",
        "print(\"mean:\", chess_games_mean_fill['white_rating'].mean())\n",
        "print(\"median:\", chess_games_mean_fill['white_rating'].median(), end='\\n\\n')\n",
        "\n",
        "print(\"black_rating\")\n",
        "print(\"mean:\", chess_games_mean_fill['black_rating'].mean())\n",
        "print(\"median:\", chess_games_mean_fill['black_rating'].median())"
      ]
    },
    {
      "cell_type": "code",
      "execution_count": 227,
      "metadata": {},
      "outputs": [],
      "source": [
        "chess_games_mean_fill['white_rating'].fillna(chess_games2['white_rating'].mean(), inplace=True)\n",
        "chess_games_mean_fill['black_rating'].fillna(chess_games2['black_rating'].mean(), inplace=True)"
      ]
    },
    {
      "cell_type": "code",
      "execution_count": 228,
      "metadata": {},
      "outputs": [
        {
          "data": {
            "text/plain": [
              "id                0\n",
              "rated             0\n",
              "turns             0\n",
              "victory_status    0\n",
              "winner            0\n",
              "increment_code    0\n",
              "white_id          0\n",
              "white_rating      0\n",
              "black_id          0\n",
              "black_rating      0\n",
              "moves             0\n",
              "opening_eco       0\n",
              "opening_name      0\n",
              "opening_ply       0\n",
              "duration_sec      0\n",
              "dtype: int64"
            ]
          },
          "execution_count": 228,
          "metadata": {},
          "output_type": "execute_result"
        }
      ],
      "source": [
        "chess_games_mean_fill.isnull().sum()"
      ]
    },
    {
      "cell_type": "code",
      "execution_count": 229,
      "metadata": {},
      "outputs": [
        {
          "name": "stdout",
          "output_type": "stream",
          "text": [
            "white_rating\n",
            "mean: 0.42429824980954695\n",
            "median: 0.4196242171189979\n",
            "\n",
            "black_rating\n",
            "mean: 0.41438203643463734\n",
            "median: 0.41003102378490175\n"
          ]
        }
      ],
      "source": [
        "print(\"white_rating\")\n",
        "print(\"mean:\", chess_games_mean_fill['white_rating'].mean())\n",
        "print(\"median:\", chess_games_mean_fill['white_rating'].median(), end='\\n\\n')\n",
        "\n",
        "print(\"black_rating\")\n",
        "print(\"mean:\", chess_games_mean_fill['black_rating'].mean())\n",
        "print(\"median:\", chess_games_mean_fill['black_rating'].median())"
      ]
    },
    {
      "cell_type": "markdown",
      "metadata": {},
      "source": [
        "Quando a média é utilizada, o seu valor é alterado, além de afetar o valor da mediana, deslocando-a para um valor mais próximo do seu próprio."
      ]
    },
    {
      "cell_type": "markdown",
      "metadata": {},
      "source": [
        "### Usando a mediana"
      ]
    },
    {
      "cell_type": "code",
      "execution_count": 230,
      "metadata": {},
      "outputs": [],
      "source": [
        "chess_games_median_fill = chess_games2.copy()"
      ]
    },
    {
      "cell_type": "code",
      "execution_count": 231,
      "metadata": {},
      "outputs": [
        {
          "name": "stdout",
          "output_type": "stream",
          "text": [
            "white_rating\n",
            "mean: 0.42429824980954695\n",
            "median: 0.40866388308977036\n",
            "\n",
            "black_rating\n",
            "mean: 0.4143820364346374\n",
            "median: 0.40020682523267836\n"
          ]
        }
      ],
      "source": [
        "print(\"white_rating\")\n",
        "print(\"mean:\", chess_games_median_fill['white_rating'].mean())\n",
        "print(\"median:\", chess_games_median_fill['white_rating'].median(), end='\\n\\n')\n",
        "\n",
        "print(\"black_rating\")\n",
        "print(\"mean:\", chess_games_median_fill['black_rating'].mean())\n",
        "print(\"median:\", chess_games_median_fill['black_rating'].median())"
      ]
    },
    {
      "cell_type": "code",
      "execution_count": 232,
      "metadata": {},
      "outputs": [],
      "source": [
        "chess_games_median_fill['white_rating'].fillna(chess_games2['white_rating'].median(), inplace=True)\n",
        "chess_games_median_fill['black_rating'].fillna(chess_games2['black_rating'].median(), inplace=True)"
      ]
    },
    {
      "cell_type": "code",
      "execution_count": 233,
      "metadata": {},
      "outputs": [
        {
          "data": {
            "text/plain": [
              "id                0\n",
              "rated             0\n",
              "turns             0\n",
              "victory_status    0\n",
              "winner            0\n",
              "increment_code    0\n",
              "white_id          0\n",
              "white_rating      0\n",
              "black_id          0\n",
              "black_rating      0\n",
              "moves             0\n",
              "opening_eco       0\n",
              "opening_name      0\n",
              "opening_ply       0\n",
              "duration_sec      0\n",
              "dtype: int64"
            ]
          },
          "execution_count": 233,
          "metadata": {},
          "output_type": "execute_result"
        }
      ],
      "source": [
        "chess_games_median_fill.isnull().sum()"
      ]
    },
    {
      "cell_type": "code",
      "execution_count": 234,
      "metadata": {},
      "outputs": [
        {
          "name": "stdout",
          "output_type": "stream",
          "text": [
            "white_rating\n",
            "mean: 0.42351706317127\n",
            "median: 0.40866388308977036\n",
            "\n",
            "black_rating\n",
            "mean: 0.4136737579489014\n",
            "median: 0.40020682523267836\n"
          ]
        }
      ],
      "source": [
        "print(\"white_rating\")\n",
        "print(\"mean:\", chess_games_median_fill['white_rating'].mean())\n",
        "print(\"median:\", chess_games_median_fill['white_rating'].median(), end='\\n\\n')\n",
        "\n",
        "print(\"black_rating\")\n",
        "print(\"mean:\", chess_games_median_fill['black_rating'].mean())\n",
        "print(\"median:\", chess_games_median_fill['black_rating'].median())"
      ]
    },
    {
      "cell_type": "markdown",
      "metadata": {},
      "source": [
        "Quando a mediana é utilizada, o seu valor se mantém e o valor da média é levemente alterado, sem apresentar um grande impacto nas estatísticas originais."
      ]
    },
    {
      "cell_type": "markdown",
      "metadata": {},
      "source": [
        "### Usando um valor aleatório"
      ]
    },
    {
      "cell_type": "code",
      "execution_count": 235,
      "metadata": {},
      "outputs": [],
      "source": [
        "chess_games_random_fill = chess_games2.copy()"
      ]
    },
    {
      "cell_type": "code",
      "execution_count": 236,
      "metadata": {},
      "outputs": [
        {
          "name": "stdout",
          "output_type": "stream",
          "text": [
            "white_rating\n",
            "mean: 0.42429824980954695\n",
            "median: 0.40866388308977036\n",
            "\n",
            "black_rating\n",
            "mean: 0.4143820364346374\n",
            "median: 0.40020682523267836\n"
          ]
        }
      ],
      "source": [
        "print(\"white_rating\")\n",
        "print(\"mean:\", chess_games_random_fill['white_rating'].mean())\n",
        "print(\"median:\", chess_games_random_fill['white_rating'].median(), end='\\n\\n')\n",
        "\n",
        "print(\"black_rating\")\n",
        "print(\"mean:\", chess_games_random_fill['black_rating'].mean())\n",
        "print(\"median:\", chess_games_random_fill['black_rating'].median())"
      ]
    },
    {
      "cell_type": "code",
      "execution_count": 237,
      "metadata": {},
      "outputs": [],
      "source": [
        "# imputando valores aleatórios\n",
        "import random\n",
        "random.seed(0) # for reproducibility\n",
        "chess_games_random_fill['white_rating'].fillna(random.randint(chess_games2['white_rating'].min(), chess_games2['white_rating'].max()), inplace=True)\n",
        "chess_games_random_fill['black_rating'].fillna(random.randint(chess_games2['black_rating'].min(), chess_games2['black_rating'].max()), inplace=True)"
      ]
    },
    {
      "cell_type": "code",
      "execution_count": 238,
      "metadata": {},
      "outputs": [
        {
          "data": {
            "text/plain": [
              "id                0\n",
              "rated             0\n",
              "turns             0\n",
              "victory_status    0\n",
              "winner            0\n",
              "increment_code    0\n",
              "white_id          0\n",
              "white_rating      0\n",
              "black_id          0\n",
              "black_rating      0\n",
              "moves             0\n",
              "opening_eco       0\n",
              "opening_name      0\n",
              "opening_ply       0\n",
              "duration_sec      0\n",
              "dtype: int64"
            ]
          },
          "execution_count": 238,
          "metadata": {},
          "output_type": "execute_result"
        }
      ],
      "source": [
        "chess_games_random_fill.isnull().sum()"
      ]
    },
    {
      "cell_type": "code",
      "execution_count": 239,
      "metadata": {},
      "outputs": [
        {
          "name": "stdout",
          "output_type": "stream",
          "text": [
            "white_rating\n",
            "mean: 0.45306375870045273\n",
            "median: 0.4196242171189979\n",
            "\n",
            "black_rating\n",
            "mean: 0.44364301876106027\n",
            "median: 0.41003102378490175\n"
          ]
        }
      ],
      "source": [
        "print(\"white_rating\")\n",
        "print(\"mean:\", chess_games_random_fill['white_rating'].mean())\n",
        "print(\"median:\", chess_games_random_fill['white_rating'].median(), end='\\n\\n')\n",
        "\n",
        "print(\"black_rating\")\n",
        "print(\"mean:\", chess_games_random_fill['black_rating'].mean())\n",
        "print(\"median:\", chess_games_random_fill['black_rating'].median())"
      ]
    },
    {
      "cell_type": "markdown",
      "metadata": {},
      "source": [
        "A utilização de valores aleatórios se mostra uma opção ruim para a imputação de dados, pois pode distorcer as estatísticas originais do dataset, perdendo assim informações importantes."
      ]
    },
    {
      "cell_type": "markdown",
      "metadata": {},
      "source": [
        "### Usando um preditor KNN"
      ]
    },
    {
      "cell_type": "code",
      "execution_count": 240,
      "metadata": {},
      "outputs": [],
      "source": [
        "chess_games_knn_fill = chess_games2.copy()"
      ]
    },
    {
      "cell_type": "markdown",
      "metadata": {},
      "source": [
        "#### Executando o KNN"
      ]
    },
    {
      "cell_type": "code",
      "execution_count": 241,
      "metadata": {},
      "outputs": [
        {
          "name": "stdout",
          "output_type": "stream",
          "text": [
            "Requirement already satisfied: fancyimpute in /home/vinicius/.local/lib/python3.8/site-packages (0.7.0)\n",
            "Requirement already satisfied: scikit-learn>=0.24.2 in /home/vinicius/.local/lib/python3.8/site-packages (from fancyimpute) (1.3.2)\n",
            "Requirement already satisfied: knnimpute>=0.1.0 in /home/vinicius/.local/lib/python3.8/site-packages (from fancyimpute) (0.1.0)\n",
            "Requirement already satisfied: cvxpy in /home/vinicius/.local/lib/python3.8/site-packages (from fancyimpute) (1.5.1)\n",
            "Requirement already satisfied: cvxopt in /home/vinicius/.local/lib/python3.8/site-packages (from fancyimpute) (1.3.2)\n",
            "Requirement already satisfied: pytest in /home/vinicius/.local/lib/python3.8/site-packages (from fancyimpute) (8.2.0)\n",
            "Requirement already satisfied: nose in /home/vinicius/.local/lib/python3.8/site-packages (from fancyimpute) (1.3.7)\n",
            "Requirement already satisfied: scipy>=1.5.0 in /home/vinicius/.local/lib/python3.8/site-packages (from scikit-learn>=0.24.2->fancyimpute) (1.10.1)\n",
            "Requirement already satisfied: numpy<2.0,>=1.17.3 in /home/vinicius/.local/lib/python3.8/site-packages (from scikit-learn>=0.24.2->fancyimpute) (1.24.4)\n",
            "Requirement already satisfied: joblib>=1.1.1 in /home/vinicius/.local/lib/python3.8/site-packages (from scikit-learn>=0.24.2->fancyimpute) (1.4.2)\n",
            "Requirement already satisfied: threadpoolctl>=2.0.0 in /home/vinicius/.local/lib/python3.8/site-packages (from scikit-learn>=0.24.2->fancyimpute) (3.5.0)\n",
            "Requirement already satisfied: six in /usr/lib/python3/dist-packages (from knnimpute>=0.1.0->fancyimpute) (1.14.0)\n",
            "Requirement already satisfied: clarabel>=0.5.0 in /home/vinicius/.local/lib/python3.8/site-packages (from cvxpy->fancyimpute) (0.7.1)\n",
            "Requirement already satisfied: osqp>=0.6.2 in /home/vinicius/.local/lib/python3.8/site-packages (from cvxpy->fancyimpute) (0.6.5)\n",
            "Requirement already satisfied: ecos>=2 in /home/vinicius/.local/lib/python3.8/site-packages (from cvxpy->fancyimpute) (2.0.13)\n",
            "Requirement already satisfied: scs>=3.2.4.post1 in /home/vinicius/.local/lib/python3.8/site-packages (from cvxpy->fancyimpute) (3.2.4.post1)\n",
            "Requirement already satisfied: iniconfig in /home/vinicius/.local/lib/python3.8/site-packages (from pytest->fancyimpute) (2.0.0)\n",
            "Requirement already satisfied: packaging in /home/vinicius/.local/lib/python3.8/site-packages (from pytest->fancyimpute) (23.2)\n",
            "Requirement already satisfied: tomli>=1; python_version < \"3.11\" in /home/vinicius/.local/lib/python3.8/site-packages (from pytest->fancyimpute) (2.0.1)\n",
            "Requirement already satisfied: exceptiongroup>=1.0.0rc8; python_version < \"3.11\" in /home/vinicius/.local/lib/python3.8/site-packages (from pytest->fancyimpute) (1.2.1)\n",
            "Requirement already satisfied: pluggy<2.0,>=1.5 in /home/vinicius/.local/lib/python3.8/site-packages (from pytest->fancyimpute) (1.5.0)\n",
            "Requirement already satisfied: qdldl in /home/vinicius/.local/lib/python3.8/site-packages (from osqp>=0.6.2->cvxpy->fancyimpute) (0.1.7.post2)\n",
            "Note: you may need to restart the kernel to use updated packages.\n"
          ]
        }
      ],
      "source": [
        "%pip install fancyimpute"
      ]
    },
    {
      "cell_type": "code",
      "execution_count": 242,
      "metadata": {},
      "outputs": [
        {
          "name": "stdout",
          "output_type": "stream",
          "text": [
            "Imputing row 1/19113 with 0 missing, elapsed time: 75.741\n",
            "Imputing row 101/19113 with 0 missing, elapsed time: 75.743\n",
            "Imputing row 201/19113 with 0 missing, elapsed time: 75.744\n",
            "Imputing row 301/19113 with 1 missing, elapsed time: 75.746\n",
            "Imputing row 401/19113 with 0 missing, elapsed time: 75.747\n",
            "Imputing row 501/19113 with 0 missing, elapsed time: 75.747\n",
            "Imputing row 601/19113 with 0 missing, elapsed time: 75.748\n",
            "Imputing row 701/19113 with 0 missing, elapsed time: 75.749\n",
            "Imputing row 801/19113 with 0 missing, elapsed time: 75.750\n",
            "Imputing row 901/19113 with 0 missing, elapsed time: 75.751\n",
            "Imputing row 1001/19113 with 0 missing, elapsed time: 75.752\n",
            "Imputing row 1101/19113 with 0 missing, elapsed time: 75.753\n",
            "Imputing row 1201/19113 with 0 missing, elapsed time: 75.754\n",
            "Imputing row 1301/19113 with 0 missing, elapsed time: 75.754\n",
            "Imputing row 1401/19113 with 0 missing, elapsed time: 75.755\n",
            "Imputing row 1501/19113 with 0 missing, elapsed time: 75.756\n",
            "Imputing row 1601/19113 with 0 missing, elapsed time: 75.756\n",
            "Imputing row 1701/19113 with 0 missing, elapsed time: 75.757\n",
            "Imputing row 1801/19113 with 0 missing, elapsed time: 75.758\n",
            "Imputing row 1901/19113 with 0 missing, elapsed time: 75.759\n",
            "Imputing row 2001/19113 with 0 missing, elapsed time: 75.760\n",
            "Imputing row 2101/19113 with 0 missing, elapsed time: 75.761\n",
            "Imputing row 2201/19113 with 0 missing, elapsed time: 75.762\n",
            "Imputing row 2301/19113 with 0 missing, elapsed time: 75.763\n",
            "Imputing row 2401/19113 with 1 missing, elapsed time: 75.763\n",
            "Imputing row 2501/19113 with 0 missing, elapsed time: 75.764\n",
            "Imputing row 2601/19113 with 1 missing, elapsed time: 75.765\n",
            "Imputing row 2701/19113 with 1 missing, elapsed time: 75.765\n",
            "Imputing row 2801/19113 with 1 missing, elapsed time: 75.766\n",
            "Imputing row 2901/19113 with 0 missing, elapsed time: 75.767\n",
            "Imputing row 3001/19113 with 0 missing, elapsed time: 75.768\n",
            "Imputing row 3101/19113 with 0 missing, elapsed time: 75.769\n",
            "Imputing row 3201/19113 with 1 missing, elapsed time: 75.770\n",
            "Imputing row 3301/19113 with 0 missing, elapsed time: 75.771\n",
            "Imputing row 3401/19113 with 0 missing, elapsed time: 75.772\n",
            "Imputing row 3501/19113 with 0 missing, elapsed time: 75.773\n",
            "Imputing row 3601/19113 with 0 missing, elapsed time: 75.774\n",
            "Imputing row 3701/19113 with 0 missing, elapsed time: 75.775\n",
            "Imputing row 3801/19113 with 0 missing, elapsed time: 75.776\n",
            "Imputing row 3901/19113 with 0 missing, elapsed time: 75.777\n",
            "Imputing row 4001/19113 with 1 missing, elapsed time: 75.778\n",
            "Imputing row 4101/19113 with 0 missing, elapsed time: 75.779\n",
            "Imputing row 4201/19113 with 0 missing, elapsed time: 75.780\n",
            "Imputing row 4301/19113 with 0 missing, elapsed time: 75.781\n",
            "Imputing row 4401/19113 with 0 missing, elapsed time: 75.782\n",
            "Imputing row 4501/19113 with 0 missing, elapsed time: 75.783\n",
            "Imputing row 4601/19113 with 0 missing, elapsed time: 75.784\n",
            "Imputing row 4701/19113 with 0 missing, elapsed time: 75.785\n",
            "Imputing row 4801/19113 with 0 missing, elapsed time: 75.786\n",
            "Imputing row 4901/19113 with 0 missing, elapsed time: 75.787\n",
            "Imputing row 5001/19113 with 0 missing, elapsed time: 75.788\n",
            "Imputing row 5101/19113 with 0 missing, elapsed time: 75.789\n",
            "Imputing row 5201/19113 with 0 missing, elapsed time: 75.790\n",
            "Imputing row 5301/19113 with 0 missing, elapsed time: 75.790\n",
            "Imputing row 5401/19113 with 0 missing, elapsed time: 75.791\n",
            "Imputing row 5501/19113 with 0 missing, elapsed time: 75.792\n",
            "Imputing row 5601/19113 with 1 missing, elapsed time: 75.793\n",
            "Imputing row 5701/19113 with 0 missing, elapsed time: 75.794\n",
            "Imputing row 5801/19113 with 0 missing, elapsed time: 75.795\n",
            "Imputing row 5901/19113 with 0 missing, elapsed time: 75.796\n",
            "Imputing row 6001/19113 with 0 missing, elapsed time: 75.797\n",
            "Imputing row 6101/19113 with 0 missing, elapsed time: 75.798\n",
            "Imputing row 6201/19113 with 0 missing, elapsed time: 75.799\n",
            "Imputing row 6301/19113 with 0 missing, elapsed time: 75.799\n",
            "Imputing row 6401/19113 with 0 missing, elapsed time: 75.800\n",
            "Imputing row 6501/19113 with 0 missing, elapsed time: 75.801\n",
            "Imputing row 6601/19113 with 0 missing, elapsed time: 75.802\n",
            "Imputing row 6701/19113 with 0 missing, elapsed time: 75.803\n",
            "Imputing row 6801/19113 with 1 missing, elapsed time: 75.804\n",
            "Imputing row 6901/19113 with 0 missing, elapsed time: 75.805\n",
            "Imputing row 7001/19113 with 0 missing, elapsed time: 75.807\n",
            "Imputing row 7101/19113 with 0 missing, elapsed time: 75.808\n",
            "Imputing row 7201/19113 with 1 missing, elapsed time: 75.808\n",
            "Imputing row 7301/19113 with 0 missing, elapsed time: 75.809\n",
            "Imputing row 7401/19113 with 0 missing, elapsed time: 75.810\n",
            "Imputing row 7501/19113 with 0 missing, elapsed time: 75.811\n",
            "Imputing row 7601/19113 with 1 missing, elapsed time: 75.812\n",
            "Imputing row 7701/19113 with 0 missing, elapsed time: 75.813\n",
            "Imputing row 7801/19113 with 0 missing, elapsed time: 75.814\n",
            "Imputing row 7901/19113 with 0 missing, elapsed time: 75.815\n",
            "Imputing row 8001/19113 with 0 missing, elapsed time: 75.816\n",
            "Imputing row 8101/19113 with 0 missing, elapsed time: 75.817\n",
            "Imputing row 8201/19113 with 0 missing, elapsed time: 75.817\n",
            "Imputing row 8301/19113 with 0 missing, elapsed time: 75.819\n",
            "Imputing row 8401/19113 with 0 missing, elapsed time: 75.820\n",
            "Imputing row 8501/19113 with 0 missing, elapsed time: 75.821\n",
            "Imputing row 8601/19113 with 0 missing, elapsed time: 75.821\n",
            "Imputing row 8701/19113 with 0 missing, elapsed time: 75.822\n",
            "Imputing row 8801/19113 with 0 missing, elapsed time: 75.823\n",
            "Imputing row 8901/19113 with 0 missing, elapsed time: 75.823\n",
            "Imputing row 9001/19113 with 0 missing, elapsed time: 75.824\n",
            "Imputing row 9101/19113 with 0 missing, elapsed time: 75.825\n",
            "Imputing row 9201/19113 with 0 missing, elapsed time: 75.826\n",
            "Imputing row 9301/19113 with 1 missing, elapsed time: 75.826\n",
            "Imputing row 9401/19113 with 0 missing, elapsed time: 75.828\n",
            "Imputing row 9501/19113 with 0 missing, elapsed time: 75.829\n",
            "Imputing row 9601/19113 with 0 missing, elapsed time: 75.830\n",
            "Imputing row 9701/19113 with 0 missing, elapsed time: 75.831\n",
            "Imputing row 9801/19113 with 0 missing, elapsed time: 75.831\n",
            "Imputing row 9901/19113 with 0 missing, elapsed time: 75.832\n",
            "Imputing row 10001/19113 with 0 missing, elapsed time: 75.834\n",
            "Imputing row 10101/19113 with 0 missing, elapsed time: 75.835\n",
            "Imputing row 10201/19113 with 0 missing, elapsed time: 75.836\n",
            "Imputing row 10301/19113 with 0 missing, elapsed time: 75.837\n",
            "Imputing row 10401/19113 with 0 missing, elapsed time: 75.838\n",
            "Imputing row 10501/19113 with 1 missing, elapsed time: 75.839\n",
            "Imputing row 10601/19113 with 0 missing, elapsed time: 75.841\n",
            "Imputing row 10701/19113 with 0 missing, elapsed time: 75.842\n",
            "Imputing row 10801/19113 with 0 missing, elapsed time: 75.843\n",
            "Imputing row 10901/19113 with 0 missing, elapsed time: 75.844\n",
            "Imputing row 11001/19113 with 0 missing, elapsed time: 75.844\n",
            "Imputing row 11101/19113 with 1 missing, elapsed time: 75.845\n",
            "Imputing row 11201/19113 with 0 missing, elapsed time: 75.846\n",
            "Imputing row 11301/19113 with 0 missing, elapsed time: 75.847\n",
            "Imputing row 11401/19113 with 0 missing, elapsed time: 75.848\n",
            "Imputing row 11501/19113 with 0 missing, elapsed time: 75.849\n",
            "Imputing row 11601/19113 with 0 missing, elapsed time: 75.850\n",
            "Imputing row 11701/19113 with 0 missing, elapsed time: 75.851\n",
            "Imputing row 11801/19113 with 0 missing, elapsed time: 75.852\n",
            "Imputing row 11901/19113 with 0 missing, elapsed time: 75.852\n",
            "Imputing row 12001/19113 with 0 missing, elapsed time: 75.853\n",
            "Imputing row 12101/19113 with 0 missing, elapsed time: 75.854\n",
            "Imputing row 12201/19113 with 0 missing, elapsed time: 75.855\n",
            "Imputing row 12301/19113 with 0 missing, elapsed time: 75.856\n",
            "Imputing row 12401/19113 with 0 missing, elapsed time: 75.857\n",
            "Imputing row 12501/19113 with 0 missing, elapsed time: 75.858\n",
            "Imputing row 12601/19113 with 0 missing, elapsed time: 75.859\n",
            "Imputing row 12701/19113 with 0 missing, elapsed time: 75.860\n",
            "Imputing row 12801/19113 with 1 missing, elapsed time: 75.861\n",
            "Imputing row 12901/19113 with 0 missing, elapsed time: 75.862\n",
            "Imputing row 13001/19113 with 1 missing, elapsed time: 75.862\n",
            "Imputing row 13101/19113 with 1 missing, elapsed time: 75.863\n",
            "Imputing row 13201/19113 with 0 missing, elapsed time: 75.865\n",
            "Imputing row 13301/19113 with 0 missing, elapsed time: 75.866\n",
            "Imputing row 13401/19113 with 0 missing, elapsed time: 75.867\n",
            "Imputing row 13501/19113 with 0 missing, elapsed time: 75.867\n",
            "Imputing row 13601/19113 with 0 missing, elapsed time: 75.868\n",
            "Imputing row 13701/19113 with 0 missing, elapsed time: 75.869\n",
            "Imputing row 13801/19113 with 0 missing, elapsed time: 75.870\n",
            "Imputing row 13901/19113 with 0 missing, elapsed time: 75.871\n",
            "Imputing row 14001/19113 with 0 missing, elapsed time: 75.872\n",
            "Imputing row 14101/19113 with 0 missing, elapsed time: 75.873\n",
            "Imputing row 14201/19113 with 0 missing, elapsed time: 75.874\n",
            "Imputing row 14301/19113 with 0 missing, elapsed time: 75.875\n",
            "Imputing row 14401/19113 with 0 missing, elapsed time: 75.876\n",
            "Imputing row 14501/19113 with 0 missing, elapsed time: 75.877\n",
            "Imputing row 14601/19113 with 0 missing, elapsed time: 75.878\n",
            "Imputing row 14701/19113 with 0 missing, elapsed time: 75.879\n",
            "Imputing row 14801/19113 with 0 missing, elapsed time: 75.880\n",
            "Imputing row 14901/19113 with 1 missing, elapsed time: 75.881\n",
            "Imputing row 15001/19113 with 0 missing, elapsed time: 75.882\n",
            "Imputing row 15101/19113 with 0 missing, elapsed time: 75.883\n",
            "Imputing row 15201/19113 with 1 missing, elapsed time: 75.884\n",
            "Imputing row 15301/19113 with 0 missing, elapsed time: 75.885\n",
            "Imputing row 15401/19113 with 0 missing, elapsed time: 75.886\n",
            "Imputing row 15501/19113 with 0 missing, elapsed time: 75.887\n",
            "Imputing row 15601/19113 with 0 missing, elapsed time: 75.888\n",
            "Imputing row 15701/19113 with 0 missing, elapsed time: 75.889\n",
            "Imputing row 15801/19113 with 0 missing, elapsed time: 75.890\n",
            "Imputing row 15901/19113 with 0 missing, elapsed time: 75.891\n",
            "Imputing row 16001/19113 with 0 missing, elapsed time: 75.892\n",
            "Imputing row 16101/19113 with 0 missing, elapsed time: 75.894\n",
            "Imputing row 16201/19113 with 0 missing, elapsed time: 75.894\n",
            "Imputing row 16301/19113 with 0 missing, elapsed time: 75.895\n",
            "Imputing row 16401/19113 with 1 missing, elapsed time: 75.896\n",
            "Imputing row 16501/19113 with 0 missing, elapsed time: 75.897\n",
            "Imputing row 16601/19113 with 0 missing, elapsed time: 75.898\n",
            "Imputing row 16701/19113 with 0 missing, elapsed time: 75.899\n",
            "Imputing row 16801/19113 with 0 missing, elapsed time: 75.900\n",
            "Imputing row 16901/19113 with 0 missing, elapsed time: 75.901\n",
            "Imputing row 17001/19113 with 0 missing, elapsed time: 75.902\n",
            "Imputing row 17101/19113 with 0 missing, elapsed time: 75.903\n",
            "Imputing row 17201/19113 with 0 missing, elapsed time: 75.904\n",
            "Imputing row 17301/19113 with 0 missing, elapsed time: 75.905\n",
            "Imputing row 17401/19113 with 0 missing, elapsed time: 75.906\n",
            "Imputing row 17501/19113 with 0 missing, elapsed time: 75.906\n",
            "Imputing row 17601/19113 with 0 missing, elapsed time: 75.908\n",
            "Imputing row 17701/19113 with 0 missing, elapsed time: 75.908\n",
            "Imputing row 17801/19113 with 0 missing, elapsed time: 75.909\n",
            "Imputing row 17901/19113 with 0 missing, elapsed time: 75.910\n",
            "Imputing row 18001/19113 with 0 missing, elapsed time: 75.912\n",
            "Imputing row 18101/19113 with 0 missing, elapsed time: 75.912\n",
            "Imputing row 18201/19113 with 0 missing, elapsed time: 75.913\n",
            "Imputing row 18301/19113 with 0 missing, elapsed time: 75.914\n",
            "Imputing row 18401/19113 with 0 missing, elapsed time: 75.915\n",
            "Imputing row 18501/19113 with 0 missing, elapsed time: 75.916\n",
            "Imputing row 18601/19113 with 0 missing, elapsed time: 75.916\n",
            "Imputing row 18701/19113 with 0 missing, elapsed time: 75.917\n",
            "Imputing row 18801/19113 with 0 missing, elapsed time: 75.918\n",
            "Imputing row 18901/19113 with 0 missing, elapsed time: 75.919\n",
            "Imputing row 19001/19113 with 0 missing, elapsed time: 75.920\n",
            "Imputing row 19101/19113 with 0 missing, elapsed time: 75.921\n"
          ]
        }
      ],
      "source": [
        "from fancyimpute import KNN\n",
        "chess_games_knn = KNN(k=3).fit_transform(chess_games_knn_fill)"
      ]
    },
    {
      "cell_type": "code",
      "execution_count": 243,
      "metadata": {},
      "outputs": [],
      "source": [
        "chess_games_knn_fill = pd.DataFrame(chess_games_knn, columns=chess_games_knn_fill.columns, index=chess_games_knn_fill.index)"
      ]
    },
    {
      "cell_type": "code",
      "execution_count": 244,
      "metadata": {},
      "outputs": [
        {
          "data": {
            "text/html": [
              "<div>\n",
              "<style scoped>\n",
              "    .dataframe tbody tr th:only-of-type {\n",
              "        vertical-align: middle;\n",
              "    }\n",
              "\n",
              "    .dataframe tbody tr th {\n",
              "        vertical-align: top;\n",
              "    }\n",
              "\n",
              "    .dataframe thead th {\n",
              "        text-align: right;\n",
              "    }\n",
              "</style>\n",
              "<table border=\"1\" class=\"dataframe\">\n",
              "  <thead>\n",
              "    <tr style=\"text-align: right;\">\n",
              "      <th></th>\n",
              "      <th>id</th>\n",
              "      <th>rated</th>\n",
              "      <th>turns</th>\n",
              "      <th>victory_status</th>\n",
              "      <th>winner</th>\n",
              "      <th>increment_code</th>\n",
              "      <th>white_id</th>\n",
              "      <th>white_rating</th>\n",
              "      <th>black_id</th>\n",
              "      <th>black_rating</th>\n",
              "      <th>moves</th>\n",
              "      <th>opening_eco</th>\n",
              "      <th>opening_name</th>\n",
              "      <th>opening_ply</th>\n",
              "      <th>duration_sec</th>\n",
              "    </tr>\n",
              "  </thead>\n",
              "  <tbody>\n",
              "    <tr>\n",
              "      <th>0</th>\n",
              "      <td>9068.0</td>\n",
              "      <td>0.0</td>\n",
              "      <td>13.0</td>\n",
              "      <td>2.0</td>\n",
              "      <td>2.0</td>\n",
              "      <td>110.0</td>\n",
              "      <td>1287.0</td>\n",
              "      <td>0.373695</td>\n",
              "      <td>11.0</td>\n",
              "      <td>0.207859</td>\n",
              "      <td>4524.0</td>\n",
              "      <td>248.0</td>\n",
              "      <td>1387.0</td>\n",
              "      <td>5.0</td>\n",
              "      <td>0.0</td>\n",
              "    </tr>\n",
              "    <tr>\n",
              "      <th>1</th>\n",
              "      <td>14512.0</td>\n",
              "      <td>1.0</td>\n",
              "      <td>16.0</td>\n",
              "      <td>3.0</td>\n",
              "      <td>0.0</td>\n",
              "      <td>298.0</td>\n",
              "      <td>16.0</td>\n",
              "      <td>0.280793</td>\n",
              "      <td>7748.0</td>\n",
              "      <td>0.244054</td>\n",
              "      <td>1987.0</td>\n",
              "      <td>71.0</td>\n",
              "      <td>750.0</td>\n",
              "      <td>4.0</td>\n",
              "      <td>0.0</td>\n",
              "    </tr>\n",
              "    <tr>\n",
              "      <th>2</th>\n",
              "      <td>14904.0</td>\n",
              "      <td>1.0</td>\n",
              "      <td>61.0</td>\n",
              "      <td>1.0</td>\n",
              "      <td>2.0</td>\n",
              "      <td>298.0</td>\n",
              "      <td>3823.0</td>\n",
              "      <td>0.371608</td>\n",
              "      <td>11.0</td>\n",
              "      <td>0.367632</td>\n",
              "      <td>16383.0</td>\n",
              "      <td>171.0</td>\n",
              "      <td>650.0</td>\n",
              "      <td>3.0</td>\n",
              "      <td>0.0</td>\n",
              "    </tr>\n",
              "    <tr>\n",
              "      <th>3</th>\n",
              "      <td>14350.0</td>\n",
              "      <td>1.0</td>\n",
              "      <td>61.0</td>\n",
              "      <td>1.0</td>\n",
              "      <td>2.0</td>\n",
              "      <td>187.0</td>\n",
              "      <td>2017.0</td>\n",
              "      <td>0.341858</td>\n",
              "      <td>134.0</td>\n",
              "      <td>0.343847</td>\n",
              "      <td>3770.0</td>\n",
              "      <td>241.0</td>\n",
              "      <td>992.0</td>\n",
              "      <td>3.0</td>\n",
              "      <td>0.0</td>\n",
              "    </tr>\n",
              "    <tr>\n",
              "      <th>4</th>\n",
              "      <td>3091.0</td>\n",
              "      <td>1.0</td>\n",
              "      <td>95.0</td>\n",
              "      <td>1.0</td>\n",
              "      <td>2.0</td>\n",
              "      <td>247.0</td>\n",
              "      <td>6056.0</td>\n",
              "      <td>0.385699</td>\n",
              "      <td>134.0</td>\n",
              "      <td>0.351603</td>\n",
              "      <td>15622.0</td>\n",
              "      <td>192.0</td>\n",
              "      <td>783.0</td>\n",
              "      <td>5.0</td>\n",
              "      <td>0.0</td>\n",
              "    </tr>\n",
              "  </tbody>\n",
              "</table>\n",
              "</div>"
            ],
            "text/plain": [
              "        id  rated  turns  victory_status  winner  increment_code  white_id  \\\n",
              "0   9068.0    0.0   13.0             2.0     2.0           110.0    1287.0   \n",
              "1  14512.0    1.0   16.0             3.0     0.0           298.0      16.0   \n",
              "2  14904.0    1.0   61.0             1.0     2.0           298.0    3823.0   \n",
              "3  14350.0    1.0   61.0             1.0     2.0           187.0    2017.0   \n",
              "4   3091.0    1.0   95.0             1.0     2.0           247.0    6056.0   \n",
              "\n",
              "   white_rating  black_id  black_rating    moves  opening_eco  opening_name  \\\n",
              "0      0.373695      11.0      0.207859   4524.0        248.0        1387.0   \n",
              "1      0.280793    7748.0      0.244054   1987.0         71.0         750.0   \n",
              "2      0.371608      11.0      0.367632  16383.0        171.0         650.0   \n",
              "3      0.341858     134.0      0.343847   3770.0        241.0         992.0   \n",
              "4      0.385699     134.0      0.351603  15622.0        192.0         783.0   \n",
              "\n",
              "   opening_ply  duration_sec  \n",
              "0          5.0           0.0  \n",
              "1          4.0           0.0  \n",
              "2          3.0           0.0  \n",
              "3          3.0           0.0  \n",
              "4          5.0           0.0  "
            ]
          },
          "execution_count": 244,
          "metadata": {},
          "output_type": "execute_result"
        }
      ],
      "source": [
        "chess_games_knn_fill.head()"
      ]
    },
    {
      "cell_type": "code",
      "execution_count": 245,
      "metadata": {},
      "outputs": [
        {
          "data": {
            "text/plain": [
              "id                0\n",
              "rated             0\n",
              "turns             0\n",
              "victory_status    0\n",
              "winner            0\n",
              "increment_code    0\n",
              "white_id          0\n",
              "white_rating      0\n",
              "black_id          0\n",
              "black_rating      0\n",
              "moves             0\n",
              "opening_eco       0\n",
              "opening_name      0\n",
              "opening_ply       0\n",
              "duration_sec      0\n",
              "dtype: int64"
            ]
          },
          "execution_count": 245,
          "metadata": {},
          "output_type": "execute_result"
        }
      ],
      "source": [
        "chess_games_knn_fill.isnull().sum()"
      ]
    },
    {
      "cell_type": "code",
      "execution_count": 246,
      "metadata": {},
      "outputs": [
        {
          "data": {
            "text/html": [
              "<div>\n",
              "<style scoped>\n",
              "    .dataframe tbody tr th:only-of-type {\n",
              "        vertical-align: middle;\n",
              "    }\n",
              "\n",
              "    .dataframe tbody tr th {\n",
              "        vertical-align: top;\n",
              "    }\n",
              "\n",
              "    .dataframe thead th {\n",
              "        text-align: right;\n",
              "    }\n",
              "</style>\n",
              "<table border=\"1\" class=\"dataframe\">\n",
              "  <thead>\n",
              "    <tr style=\"text-align: right;\">\n",
              "      <th></th>\n",
              "      <th>white_rating</th>\n",
              "      <th>black_rating</th>\n",
              "    </tr>\n",
              "  </thead>\n",
              "  <tbody>\n",
              "    <tr>\n",
              "      <th>count</th>\n",
              "      <td>19113.000000</td>\n",
              "      <td>19113.000000</td>\n",
              "    </tr>\n",
              "    <tr>\n",
              "      <th>mean</th>\n",
              "      <td>0.424095</td>\n",
              "      <td>0.414142</td>\n",
              "    </tr>\n",
              "    <tr>\n",
              "      <th>std</th>\n",
              "      <td>0.149173</td>\n",
              "      <td>0.147979</td>\n",
              "    </tr>\n",
              "    <tr>\n",
              "      <th>min</th>\n",
              "      <td>0.000000</td>\n",
              "      <td>0.000000</td>\n",
              "    </tr>\n",
              "    <tr>\n",
              "      <th>25%</th>\n",
              "      <td>0.324113</td>\n",
              "      <td>0.315926</td>\n",
              "    </tr>\n",
              "    <tr>\n",
              "      <th>50%</th>\n",
              "      <td>0.409186</td>\n",
              "      <td>0.400724</td>\n",
              "    </tr>\n",
              "    <tr>\n",
              "      <th>75%</th>\n",
              "      <td>0.522965</td>\n",
              "      <td>0.510858</td>\n",
              "    </tr>\n",
              "    <tr>\n",
              "      <th>max</th>\n",
              "      <td>1.000000</td>\n",
              "      <td>1.000000</td>\n",
              "    </tr>\n",
              "  </tbody>\n",
              "</table>\n",
              "</div>"
            ],
            "text/plain": [
              "       white_rating  black_rating\n",
              "count  19113.000000  19113.000000\n",
              "mean       0.424095      0.414142\n",
              "std        0.149173      0.147979\n",
              "min        0.000000      0.000000\n",
              "25%        0.324113      0.315926\n",
              "50%        0.409186      0.400724\n",
              "75%        0.522965      0.510858\n",
              "max        1.000000      1.000000"
            ]
          },
          "execution_count": 246,
          "metadata": {},
          "output_type": "execute_result"
        }
      ],
      "source": [
        "chess_games_knn_fill[['white_rating', 'black_rating']].describe()"
      ]
    },
    {
      "cell_type": "markdown",
      "metadata": {},
      "source": [
        "O uso do KNN para imputação de dados é uma boa opção, pois ele é capaz de prever valores ausentes com base em valores próximos, sem distorcer as estatísticas originais do dataset."
      ]
    },
    {
      "cell_type": "markdown",
      "metadata": {},
      "source": [
        "#### Verificando o erro do modelo KNN"
      ]
    },
    {
      "cell_type": "code",
      "execution_count": 247,
      "metadata": {},
      "outputs": [
        {
          "name": "stdout",
          "output_type": "stream",
          "text": [
            "white_rating\n",
            "MAPE: 0.38350063123869643\n",
            "\n",
            "black_rating\n",
            "MAPE: 0.45066216710229345\n",
            "\n",
            "Mean MAPE: 0.4170813991704949\n"
          ]
        }
      ],
      "source": [
        "target_white = chess_games_norm.loc[random_indices_white_rating, ['white_rating']]\n",
        "target_black = chess_games_norm.loc[random_indices_black_rating, ['black_rating']]\n",
        "pred_white = chess_games_knn_fill.loc[random_indices_white_rating, ['white_rating']]\n",
        "pred_black = chess_games_knn_fill.loc[random_indices_black_rating, ['black_rating']]\n",
        "\n",
        "from sklearn.metrics import mean_absolute_percentage_error\n",
        "white_error = mean_absolute_percentage_error(target_white, pred_white)\n",
        "black_error = mean_absolute_percentage_error(target_black, pred_black)\n",
        "\n",
        "print(\"white_rating\")\n",
        "print(\"MAPE:\", white_error, end='\\n\\n')\n",
        "\n",
        "print(\"black_rating\")\n",
        "print(\"MAPE:\", black_error, end='\\n\\n')\n",
        "\n",
        "print(\"Mean MAPE:\", (white_error + black_error) / 2)"
      ]
    },
    {
      "cell_type": "code",
      "execution_count": 248,
      "metadata": {},
      "outputs": [
        {
          "data": {
            "text/html": [
              "<div>\n",
              "<style scoped>\n",
              "    .dataframe tbody tr th:only-of-type {\n",
              "        vertical-align: middle;\n",
              "    }\n",
              "\n",
              "    .dataframe tbody tr th {\n",
              "        vertical-align: top;\n",
              "    }\n",
              "\n",
              "    .dataframe thead th {\n",
              "        text-align: right;\n",
              "    }\n",
              "</style>\n",
              "<table border=\"1\" class=\"dataframe\">\n",
              "  <thead>\n",
              "    <tr style=\"text-align: right;\">\n",
              "      <th></th>\n",
              "      <th>white_rating</th>\n",
              "      <th>black_rating</th>\n",
              "    </tr>\n",
              "  </thead>\n",
              "  <tbody>\n",
              "    <tr>\n",
              "      <th>count</th>\n",
              "      <td>19113.000000</td>\n",
              "      <td>19113.000000</td>\n",
              "    </tr>\n",
              "    <tr>\n",
              "      <th>mean</th>\n",
              "      <td>0.424478</td>\n",
              "      <td>0.414191</td>\n",
              "    </tr>\n",
              "    <tr>\n",
              "      <th>std</th>\n",
              "      <td>0.151369</td>\n",
              "      <td>0.150177</td>\n",
              "    </tr>\n",
              "    <tr>\n",
              "      <th>min</th>\n",
              "      <td>0.000000</td>\n",
              "      <td>0.000000</td>\n",
              "    </tr>\n",
              "    <tr>\n",
              "      <th>25%</th>\n",
              "      <td>0.322025</td>\n",
              "      <td>0.312823</td>\n",
              "    </tr>\n",
              "    <tr>\n",
              "      <th>50%</th>\n",
              "      <td>0.408664</td>\n",
              "      <td>0.400207</td>\n",
              "    </tr>\n",
              "    <tr>\n",
              "      <th>75%</th>\n",
              "      <td>0.526096</td>\n",
              "      <td>0.514995</td>\n",
              "    </tr>\n",
              "    <tr>\n",
              "      <th>max</th>\n",
              "      <td>1.000000</td>\n",
              "      <td>1.000000</td>\n",
              "    </tr>\n",
              "  </tbody>\n",
              "</table>\n",
              "</div>"
            ],
            "text/plain": [
              "       white_rating  black_rating\n",
              "count  19113.000000  19113.000000\n",
              "mean       0.424478      0.414191\n",
              "std        0.151369      0.150177\n",
              "min        0.000000      0.000000\n",
              "25%        0.322025      0.312823\n",
              "50%        0.408664      0.400207\n",
              "75%        0.526096      0.514995\n",
              "max        1.000000      1.000000"
            ]
          },
          "execution_count": 248,
          "metadata": {},
          "output_type": "execute_result"
        }
      ],
      "source": [
        "chess_games_norm[['white_rating', 'black_rating']].describe()"
      ]
    },
    {
      "cell_type": "code",
      "execution_count": 249,
      "metadata": {},
      "outputs": [
        {
          "data": {
            "text/html": [
              "<div>\n",
              "<style scoped>\n",
              "    .dataframe tbody tr th:only-of-type {\n",
              "        vertical-align: middle;\n",
              "    }\n",
              "\n",
              "    .dataframe tbody tr th {\n",
              "        vertical-align: top;\n",
              "    }\n",
              "\n",
              "    .dataframe thead th {\n",
              "        text-align: right;\n",
              "    }\n",
              "</style>\n",
              "<table border=\"1\" class=\"dataframe\">\n",
              "  <thead>\n",
              "    <tr style=\"text-align: right;\">\n",
              "      <th></th>\n",
              "      <th>white_rating</th>\n",
              "      <th>black_rating</th>\n",
              "    </tr>\n",
              "  </thead>\n",
              "  <tbody>\n",
              "    <tr>\n",
              "      <th>count</th>\n",
              "      <td>19113.000000</td>\n",
              "      <td>19113.000000</td>\n",
              "    </tr>\n",
              "    <tr>\n",
              "      <th>mean</th>\n",
              "      <td>0.424095</td>\n",
              "      <td>0.414142</td>\n",
              "    </tr>\n",
              "    <tr>\n",
              "      <th>std</th>\n",
              "      <td>0.149173</td>\n",
              "      <td>0.147979</td>\n",
              "    </tr>\n",
              "    <tr>\n",
              "      <th>min</th>\n",
              "      <td>0.000000</td>\n",
              "      <td>0.000000</td>\n",
              "    </tr>\n",
              "    <tr>\n",
              "      <th>25%</th>\n",
              "      <td>0.324113</td>\n",
              "      <td>0.315926</td>\n",
              "    </tr>\n",
              "    <tr>\n",
              "      <th>50%</th>\n",
              "      <td>0.409186</td>\n",
              "      <td>0.400724</td>\n",
              "    </tr>\n",
              "    <tr>\n",
              "      <th>75%</th>\n",
              "      <td>0.522965</td>\n",
              "      <td>0.510858</td>\n",
              "    </tr>\n",
              "    <tr>\n",
              "      <th>max</th>\n",
              "      <td>1.000000</td>\n",
              "      <td>1.000000</td>\n",
              "    </tr>\n",
              "  </tbody>\n",
              "</table>\n",
              "</div>"
            ],
            "text/plain": [
              "       white_rating  black_rating\n",
              "count  19113.000000  19113.000000\n",
              "mean       0.424095      0.414142\n",
              "std        0.149173      0.147979\n",
              "min        0.000000      0.000000\n",
              "25%        0.324113      0.315926\n",
              "50%        0.409186      0.400724\n",
              "75%        0.522965      0.510858\n",
              "max        1.000000      1.000000"
            ]
          },
          "execution_count": 249,
          "metadata": {},
          "output_type": "execute_result"
        }
      ],
      "source": [
        "chess_games_knn_fill[['white_rating', 'black_rating']].describe()"
      ]
    },
    {
      "cell_type": "markdown",
      "metadata": {},
      "source": [
        "De acordo com os resultados obtidos, o modelo KNN apresentou um erro médio em torno de 41%, um valor bastante alto, mas sua distribuição compensou a variação das estatísticas, mantendo-as próximas das originais do dataset."
      ]
    },
    {
      "cell_type": "markdown",
      "metadata": {},
      "source": [
        "# Remoção de outliers"
      ]
    },
    {
      "cell_type": "markdown",
      "metadata": {},
      "source": [
        "## Univariado"
      ]
    },
    {
      "cell_type": "markdown",
      "metadata": {},
      "source": [
        "Partidas com muitos ou poucos turnos podem ser consideradas outliers, pois fogem do padrão de uma partida normal. Portanto, será usado o método de Tukey para identificar e remover esses outliers."
      ]
    },
    {
      "cell_type": "code",
      "execution_count": 250,
      "metadata": {},
      "outputs": [
        {
          "data": {
            "text/plain": [
              "<Axes: >"
            ]
          },
          "execution_count": 250,
          "metadata": {},
          "output_type": "execute_result"
        },
        {
          "data": {
            "image/png": "[encoded data removed]",
            "text/plain": [
              "<Figure size 640x480 with 1 Axes>"
            ]
          },
          "metadata": {},
          "output_type": "display_data"
        }
      ],
      "source": [
        "# verificando o boxplot antes da remoção de outliers\n",
        "chess_games['turns'].plot.box()"
      ]
    },
    {
      "cell_type": "markdown",
      "metadata": {},
      "source": [
        "A partir da análise do boxplot, é possível identificar outliers com muitos turnos, que serão removidos."
      ]
    },
    {
      "cell_type": "code",
      "execution_count": 251,
      "metadata": {},
      "outputs": [
        {
          "data": {
            "text/plain": [
              "<Axes: >"
            ]
          },
          "execution_count": 251,
          "metadata": {},
          "output_type": "execute_result"
        },
        {
          "data": {
            "image/png": "[encoded data removed]",
            "text/plain": [
              "<Figure size 640x480 with 1 Axes>"
            ]
          },
          "metadata": {},
          "output_type": "display_data"
        }
      ],
      "source": [
        "# verificando a distribuição dos dados\n",
        "chess_games['turns'].hist()"
      ]
    },
    {
      "cell_type": "code",
      "execution_count": 252,
      "metadata": {},
      "outputs": [
        {
          "data": {
            "text/plain": [
              "count    19113.000000\n",
              "mean        60.513839\n",
              "std         33.488264\n",
              "min          1.000000\n",
              "25%         37.000000\n",
              "50%         55.000000\n",
              "75%         79.000000\n",
              "max        349.000000\n",
              "Name: turns, dtype: float64"
            ]
          },
          "execution_count": 252,
          "metadata": {},
          "output_type": "execute_result"
        }
      ],
      "source": [
        "chess_games['turns'].describe()"
      ]
    },
    {
      "cell_type": "markdown",
      "metadata": {},
      "source": [
        "Será aplicado o método de Tukey para identificar e remover os outliers."
      ]
    },
    {
      "cell_type": "code",
      "execution_count": 253,
      "metadata": {},
      "outputs": [
        {
          "name": "stdout",
          "output_type": "stream",
          "text": [
            "42.0\n"
          ]
        }
      ],
      "source": [
        "# definição dos quantis e do IQR\n",
        "q1 = chess_games['turns'].quantile(0.25)\n",
        "q3 = chess_games['turns'].quantile(0.75)\n",
        "iqr = q3 - q1\n",
        "print(iqr)"
      ]
    },
    {
      "cell_type": "code",
      "execution_count": 254,
      "metadata": {},
      "outputs": [
        {
          "data": {
            "text/plain": [
              "(0, 15)"
            ]
          },
          "execution_count": 254,
          "metadata": {},
          "output_type": "execute_result"
        }
      ],
      "source": [
        "# outliers inferiores\n",
        "chess_games[chess_games['turns'] < (q1 - 1.5 * iqr)].shape"
      ]
    },
    {
      "cell_type": "code",
      "execution_count": 255,
      "metadata": {},
      "outputs": [
        {
          "data": {
            "text/plain": [
              "(412, 15)"
            ]
          },
          "execution_count": 255,
          "metadata": {},
          "output_type": "execute_result"
        }
      ],
      "source": [
        "# outliers superiores\n",
        "chess_games[chess_games['turns'] > (q3 + 1.5 * iqr)].shape"
      ]
    },
    {
      "cell_type": "code",
      "execution_count": 256,
      "metadata": {},
      "outputs": [
        {
          "data": {
            "text/plain": [
              "<Axes: >"
            ]
          },
          "execution_count": 256,
          "metadata": {},
          "output_type": "execute_result"
        },
        {
          "data": {
            "image/png": "[encoded data removed]",
            "text/plain": [
              "<Figure size 640x480 with 1 Axes>"
            ]
          },
          "metadata": {},
          "output_type": "display_data"
        }
      ],
      "source": [
        "# removendo os outliers\n",
        "chess_games_turns = chess_games[(chess_games['turns'] > (q1 - 1.5 * iqr)) & (chess_games['turns'] < (q3 + 1.5 * iqr))]\n",
        "chess_games_turns['turns'].plot.box()"
      ]
    },
    {
      "cell_type": "markdown",
      "metadata": {},
      "source": [
        "## Bivariado"
      ]
    },
    {
      "cell_type": "markdown",
      "metadata": {},
      "source": [
        "Nessa seção será analisada a relação entre os ratings dos jogadores. Partidas com uma diferença muito grande entre esses ratings podem ser consideradas outliers."
      ]
    },
    {
      "cell_type": "code",
      "execution_count": 257,
      "metadata": {},
      "outputs": [
        {
          "data": {
            "text/plain": [
              "<Axes: xlabel='white_rating', ylabel='black_rating'>"
            ]
          },
          "execution_count": 257,
          "metadata": {},
          "output_type": "execute_result"
        },
        {
          "data": {
            "image/png": "[encoded data removed]",
            "text/plain": [
              "<Figure size 640x480 with 1 Axes>"
            ]
          },
          "metadata": {},
          "output_type": "display_data"
        }
      ],
      "source": [
        "chess_games.plot.scatter(x='white_rating', y='black_rating')"
      ]
    },
    {
      "cell_type": "code",
      "execution_count": 258,
      "metadata": {},
      "outputs": [
        {
          "data": {
            "text/html": [
              "<div>\n",
              "<style scoped>\n",
              "    .dataframe tbody tr th:only-of-type {\n",
              "        vertical-align: middle;\n",
              "    }\n",
              "\n",
              "    .dataframe tbody tr th {\n",
              "        vertical-align: top;\n",
              "    }\n",
              "\n",
              "    .dataframe thead th {\n",
              "        text-align: right;\n",
              "    }\n",
              "</style>\n",
              "<table border=\"1\" class=\"dataframe\">\n",
              "  <thead>\n",
              "    <tr style=\"text-align: right;\">\n",
              "      <th></th>\n",
              "      <th>white_rating</th>\n",
              "      <th>black_rating</th>\n",
              "      <th>rating_diff</th>\n",
              "    </tr>\n",
              "  </thead>\n",
              "  <tbody>\n",
              "    <tr>\n",
              "      <th>0</th>\n",
              "      <td>1500</td>\n",
              "      <td>1191</td>\n",
              "      <td>309</td>\n",
              "    </tr>\n",
              "    <tr>\n",
              "      <th>1</th>\n",
              "      <td>1322</td>\n",
              "      <td>1261</td>\n",
              "      <td>61</td>\n",
              "    </tr>\n",
              "    <tr>\n",
              "      <th>2</th>\n",
              "      <td>1496</td>\n",
              "      <td>1500</td>\n",
              "      <td>4</td>\n",
              "    </tr>\n",
              "    <tr>\n",
              "      <th>3</th>\n",
              "      <td>1439</td>\n",
              "      <td>1454</td>\n",
              "      <td>15</td>\n",
              "    </tr>\n",
              "    <tr>\n",
              "      <th>4</th>\n",
              "      <td>1523</td>\n",
              "      <td>1469</td>\n",
              "      <td>54</td>\n",
              "    </tr>\n",
              "  </tbody>\n",
              "</table>\n",
              "</div>"
            ],
            "text/plain": [
              "   white_rating  black_rating  rating_diff\n",
              "0          1500          1191          309\n",
              "1          1322          1261           61\n",
              "2          1496          1500            4\n",
              "3          1439          1454           15\n",
              "4          1523          1469           54"
            ]
          },
          "execution_count": 258,
          "metadata": {},
          "output_type": "execute_result"
        }
      ],
      "source": [
        "chess_games_rating = chess_games.copy()\n",
        "chess_games_rating['rating_diff'] = abs(chess_games['white_rating'] - chess_games['black_rating'])\n",
        "chess_games_rating[['white_rating', 'black_rating', 'rating_diff']].head()"
      ]
    },
    {
      "cell_type": "code",
      "execution_count": 259,
      "metadata": {},
      "outputs": [
        {
          "data": {
            "text/plain": [
              "count    19113.000000\n",
              "mean       172.336786\n",
              "std        177.702696\n",
              "min          0.000000\n",
              "25%         46.000000\n",
              "50%        115.000000\n",
              "75%        240.000000\n",
              "max       1605.000000\n",
              "Name: rating_diff, dtype: float64"
            ]
          },
          "execution_count": 259,
          "metadata": {},
          "output_type": "execute_result"
        }
      ],
      "source": [
        "chess_games_rating['rating_diff'].describe()"
      ]
    },
    {
      "cell_type": "code",
      "execution_count": 260,
      "metadata": {},
      "outputs": [
        {
          "data": {
            "text/plain": [
              "<Axes: >"
            ]
          },
          "execution_count": 260,
          "metadata": {},
          "output_type": "execute_result"
        },
        {
          "data": {
            "image/png": "[encoded data removed]",
            "text/plain": [
              "<Figure size 640x480 with 1 Axes>"
            ]
          },
          "metadata": {},
          "output_type": "display_data"
        }
      ],
      "source": [
        "chess_games_rating['rating_diff'].plot.box()"
      ]
    },
    {
      "cell_type": "code",
      "execution_count": 261,
      "metadata": {},
      "outputs": [
        {
          "data": {
            "text/plain": [
              "<Axes: >"
            ]
          },
          "execution_count": 261,
          "metadata": {},
          "output_type": "execute_result"
        },
        {
          "data": {
            "image/png": "[encoded data removed]",
            "text/plain": [
              "<Figure size 640x480 with 1 Axes>"
            ]
          },
          "metadata": {},
          "output_type": "display_data"
        }
      ],
      "source": [
        "chess_games_rating['rating_diff'].hist()"
      ]
    },
    {
      "cell_type": "markdown",
      "metadata": {},
      "source": [
        "Nesse caso específico, diferenças muito baixas não são consideradas outliers, mas um comportamento esperado. Sendo assim, apenas pontos com diferenças muito altas serão removidos. Dessa forma, valores acima de `q3 + 1.5 * IQR` serão considerados outliers."
      ]
    },
    {
      "cell_type": "code",
      "execution_count": 262,
      "metadata": {},
      "outputs": [],
      "source": [
        "q1 = chess_games_rating['rating_diff'].quantile(0.25)\n",
        "q3 = chess_games_rating['rating_diff'].quantile(0.75)\n",
        "iqr = q3 - q1"
      ]
    },
    {
      "cell_type": "code",
      "execution_count": 263,
      "metadata": {},
      "outputs": [
        {
          "data": {
            "text/plain": [
              "<Axes: >"
            ]
          },
          "execution_count": 263,
          "metadata": {},
          "output_type": "execute_result"
        },
        {
          "data": {
            "image/png": "[encoded data removed]",
            "text/plain": [
              "<Figure size 640x480 with 1 Axes>"
            ]
          },
          "metadata": {},
          "output_type": "display_data"
        }
      ],
      "source": [
        "chess_games_rating = chess_games_rating[chess_games_rating['rating_diff'] < (q3 + 1.5 * iqr)]\n",
        "chess_games_rating['rating_diff'].plot.box()"
      ]
    },
    {
      "cell_type": "code",
      "execution_count": 264,
      "metadata": {},
      "outputs": [
        {
          "data": {
            "text/plain": [
              "<Axes: xlabel='white_rating', ylabel='black_rating'>"
            ]
          },
          "execution_count": 264,
          "metadata": {},
          "output_type": "execute_result"
        },
        {
          "data": {
            "image/png": "[encoded data removed]",
            "text/plain": [
              "<Figure size 640x480 with 1 Axes>"
            ]
          },
          "metadata": {},
          "output_type": "display_data"
        }
      ],
      "source": [
        "chess_games_rating.plot.scatter(x='white_rating', y='black_rating')"
      ]
    },
    {
      "cell_type": "markdown",
      "metadata": {},
      "source": [
        "## Multivariado"
      ]
    },
    {
      "cell_type": "markdown",
      "metadata": {},
      "source": [
        "### Elliptic Envelope"
      ]
    },
    {
      "cell_type": "code",
      "execution_count": 265,
      "metadata": {},
      "outputs": [
        {
          "data": {
            "text/plain": [
              "id                  int16\n",
              "rated                bool\n",
              "turns               int64\n",
              "victory_status       int8\n",
              "winner               int8\n",
              "increment_code      int16\n",
              "white_id            int16\n",
              "white_rating        int64\n",
              "black_id            int16\n",
              "black_rating        int64\n",
              "moves               int16\n",
              "opening_eco         int16\n",
              "opening_name        int16\n",
              "opening_ply         int64\n",
              "duration_sec      float64\n",
              "dtype: object"
            ]
          },
          "execution_count": 265,
          "metadata": {},
          "output_type": "execute_result"
        }
      ],
      "source": [
        "chess_games.dtypes"
      ]
    },
    {
      "cell_type": "code",
      "execution_count": 266,
      "metadata": {},
      "outputs": [
        {
          "data": {
            "text/html": [
              "<style>#sk-container-id-5 {color: black;}#sk-container-id-5 pre{padding: 0;}#sk-container-id-5 div.sk-toggleable {background-color: white;}#sk-container-id-5 label.sk-toggleable__label {cursor: pointer;display: block;width: 100%;margin-bottom: 0;padding: 0.3em;box-sizing: border-box;text-align: center;}#sk-container-id-5 label.sk-toggleable__label-arrow:before {content: \"▸\";float: left;margin-right: 0.25em;color: #696969;}#sk-container-id-5 label.sk-toggleable__label-arrow:hover:before {color: black;}#sk-container-id-5 div.sk-estimator:hover label.sk-toggleable__label-arrow:before {color: black;}#sk-container-id-5 div.sk-toggleable__content {max-height: 0;max-width: 0;overflow: hidden;text-align: left;background-color: #f0f8ff;}#sk-container-id-5 div.sk-toggleable__content pre {margin: 0.2em;color: black;border-radius: 0.25em;background-color: #f0f8ff;}#sk-container-id-5 input.sk-toggleable__control:checked~div.sk-toggleable__content {max-height: 200px;max-width: 100%;overflow: auto;}#sk-container-id-5 input.sk-toggleable__control:checked~label.sk-toggleable__label-arrow:before {content: \"▾\";}#sk-container-id-5 div.sk-estimator input.sk-toggleable__control:checked~label.sk-toggleable__label {background-color: #d4ebff;}#sk-container-id-5 div.sk-label input.sk-toggleable__control:checked~label.sk-toggleable__label {background-color: #d4ebff;}#sk-container-id-5 input.sk-hidden--visually {border: 0;clip: rect(1px 1px 1px 1px);clip: rect(1px, 1px, 1px, 1px);height: 1px;margin: -1px;overflow: hidden;padding: 0;position: absolute;width: 1px;}#sk-container-id-5 div.sk-estimator {font-family: monospace;background-color: #f0f8ff;border: 1px dotted black;border-radius: 0.25em;box-sizing: border-box;margin-bottom: 0.5em;}#sk-container-id-5 div.sk-estimator:hover {background-color: #d4ebff;}#sk-container-id-5 div.sk-parallel-item::after {content: \"\";width: 100%;border-bottom: 1px solid gray;flex-grow: 1;}#sk-container-id-5 div.sk-label:hover label.sk-toggleable__label {background-color: #d4ebff;}#sk-container-id-5 div.sk-serial::before {content: \"\";position: absolute;border-left: 1px solid gray;box-sizing: border-box;top: 0;bottom: 0;left: 50%;z-index: 0;}#sk-container-id-5 div.sk-serial {display: flex;flex-direction: column;align-items: center;background-color: white;padding-right: 0.2em;padding-left: 0.2em;position: relative;}#sk-container-id-5 div.sk-item {position: relative;z-index: 1;}#sk-container-id-5 div.sk-parallel {display: flex;align-items: stretch;justify-content: center;background-color: white;position: relative;}#sk-container-id-5 div.sk-item::before, #sk-container-id-5 div.sk-parallel-item::before {content: \"\";position: absolute;border-left: 1px solid gray;box-sizing: border-box;top: 0;bottom: 0;left: 50%;z-index: -1;}#sk-container-id-5 div.sk-parallel-item {display: flex;flex-direction: column;z-index: 1;position: relative;background-color: white;}#sk-container-id-5 div.sk-parallel-item:first-child::after {align-self: flex-end;width: 50%;}#sk-container-id-5 div.sk-parallel-item:last-child::after {align-self: flex-start;width: 50%;}#sk-container-id-5 div.sk-parallel-item:only-child::after {width: 0;}#sk-container-id-5 div.sk-dashed-wrapped {border: 1px dashed gray;margin: 0 0.4em 0.5em 0.4em;box-sizing: border-box;padding-bottom: 0.4em;background-color: white;}#sk-container-id-5 div.sk-label label {font-family: monospace;font-weight: bold;display: inline-block;line-height: 1.2em;}#sk-container-id-5 div.sk-label-container {text-align: center;}#sk-container-id-5 div.sk-container {/* jupyter's `normalize.less` sets `[hidden] { display: none; }` but bootstrap.min.css set `[hidden] { display: none !important; }` so we also need the `!important` here to be able to override the default hidden behavior on the sphinx rendered scikit-learn.org. See: https://github.com/scikit-learn/scikit-learn/issues/21755 */display: inline-block !important;position: relative;}#sk-container-id-5 div.sk-text-repr-fallback {display: none;}</style><div id=\"sk-container-id-5\" class=\"sk-top-container\"><div class=\"sk-text-repr-fallback\"><pre>EllipticEnvelope(contamination=0.01)</pre><b>In a Jupyter environment, please rerun this cell to show the HTML representation or trust the notebook. <br />On GitHub, the HTML representation is unable to render, please try loading this page with nbviewer.org.</b></div><div class=\"sk-container\" hidden><div class=\"sk-item\"><div class=\"sk-estimator sk-toggleable\"><input class=\"sk-toggleable__control sk-hidden--visually\" id=\"sk-estimator-id-5\" type=\"checkbox\" checked><label for=\"sk-estimator-id-5\" class=\"sk-toggleable__label sk-toggleable__label-arrow\">EllipticEnvelope</label><div class=\"sk-toggleable__content\"><pre>EllipticEnvelope(contamination=0.01)</pre></div></div></div></div></div>"
            ],
            "text/plain": [
              "EllipticEnvelope(contamination=0.01)"
            ]
          },
          "execution_count": 266,
          "metadata": {},
          "output_type": "execute_result"
        }
      ],
      "source": [
        "from sklearn.covariance import EllipticEnvelope\n",
        "detector = EllipticEnvelope(contamination=0.01)\n",
        "detector.fit(chess_games)"
      ]
    },
    {
      "cell_type": "code",
      "execution_count": 267,
      "metadata": {},
      "outputs": [],
      "source": [
        "scores = detector.predict(chess_games)"
      ]
    },
    {
      "cell_type": "code",
      "execution_count": 268,
      "metadata": {},
      "outputs": [],
      "source": [
        "chess_games['outlier'] = scores"
      ]
    },
    {
      "cell_type": "code",
      "execution_count": 269,
      "metadata": {},
      "outputs": [
        {
          "data": {
            "text/html": [
              "<div>\n",
              "<style scoped>\n",
              "    .dataframe tbody tr th:only-of-type {\n",
              "        vertical-align: middle;\n",
              "    }\n",
              "\n",
              "    .dataframe tbody tr th {\n",
              "        vertical-align: top;\n",
              "    }\n",
              "\n",
              "    .dataframe thead th {\n",
              "        text-align: right;\n",
              "    }\n",
              "</style>\n",
              "<table border=\"1\" class=\"dataframe\">\n",
              "  <thead>\n",
              "    <tr style=\"text-align: right;\">\n",
              "      <th></th>\n",
              "      <th>id</th>\n",
              "      <th>rated</th>\n",
              "      <th>turns</th>\n",
              "      <th>victory_status</th>\n",
              "      <th>winner</th>\n",
              "      <th>increment_code</th>\n",
              "      <th>white_id</th>\n",
              "      <th>white_rating</th>\n",
              "      <th>black_id</th>\n",
              "      <th>black_rating</th>\n",
              "      <th>moves</th>\n",
              "      <th>opening_eco</th>\n",
              "      <th>opening_name</th>\n",
              "      <th>opening_ply</th>\n",
              "      <th>duration_sec</th>\n",
              "      <th>outlier</th>\n",
              "    </tr>\n",
              "  </thead>\n",
              "  <tbody>\n",
              "    <tr>\n",
              "      <th>14</th>\n",
              "      <td>17302</td>\n",
              "      <td>False</td>\n",
              "      <td>31</td>\n",
              "      <td>1</td>\n",
              "      <td>2</td>\n",
              "      <td>108</td>\n",
              "      <td>7667</td>\n",
              "      <td>1094</td>\n",
              "      <td>8057</td>\n",
              "      <td>1141</td>\n",
              "      <td>13274</td>\n",
              "      <td>201</td>\n",
              "      <td>297</td>\n",
              "      <td>8</td>\n",
              "      <td>10000.0</td>\n",
              "      <td>-1</td>\n",
              "    </tr>\n",
              "    <tr>\n",
              "      <th>43</th>\n",
              "      <td>15679</td>\n",
              "      <td>False</td>\n",
              "      <td>66</td>\n",
              "      <td>3</td>\n",
              "      <td>2</td>\n",
              "      <td>284</td>\n",
              "      <td>6869</td>\n",
              "      <td>2443</td>\n",
              "      <td>7656</td>\n",
              "      <td>978</td>\n",
              "      <td>8797</td>\n",
              "      <td>133</td>\n",
              "      <td>1240</td>\n",
              "      <td>17</td>\n",
              "      <td>10000.0</td>\n",
              "      <td>-1</td>\n",
              "    </tr>\n",
              "    <tr>\n",
              "      <th>49</th>\n",
              "      <td>13839</td>\n",
              "      <td>False</td>\n",
              "      <td>41</td>\n",
              "      <td>1</td>\n",
              "      <td>2</td>\n",
              "      <td>284</td>\n",
              "      <td>6869</td>\n",
              "      <td>2436</td>\n",
              "      <td>7656</td>\n",
              "      <td>978</td>\n",
              "      <td>10919</td>\n",
              "      <td>72</td>\n",
              "      <td>1141</td>\n",
              "      <td>4</td>\n",
              "      <td>10000.0</td>\n",
              "      <td>-1</td>\n",
              "    </tr>\n",
              "    <tr>\n",
              "      <th>52</th>\n",
              "      <td>6393</td>\n",
              "      <td>False</td>\n",
              "      <td>53</td>\n",
              "      <td>1</td>\n",
              "      <td>2</td>\n",
              "      <td>19</td>\n",
              "      <td>7667</td>\n",
              "      <td>978</td>\n",
              "      <td>5086</td>\n",
              "      <td>1500</td>\n",
              "      <td>6113</td>\n",
              "      <td>61</td>\n",
              "      <td>191</td>\n",
              "      <td>2</td>\n",
              "      <td>10000.0</td>\n",
              "      <td>-1</td>\n",
              "    </tr>\n",
              "    <tr>\n",
              "      <th>54</th>\n",
              "      <td>7784</td>\n",
              "      <td>True</td>\n",
              "      <td>8</td>\n",
              "      <td>3</td>\n",
              "      <td>2</td>\n",
              "      <td>128</td>\n",
              "      <td>9093</td>\n",
              "      <td>1521</td>\n",
              "      <td>3247</td>\n",
              "      <td>1162</td>\n",
              "      <td>626</td>\n",
              "      <td>4</td>\n",
              "      <td>1469</td>\n",
              "      <td>2</td>\n",
              "      <td>10000.0</td>\n",
              "      <td>-1</td>\n",
              "    </tr>\n",
              "  </tbody>\n",
              "</table>\n",
              "</div>"
            ],
            "text/plain": [
              "       id  rated  turns  victory_status  winner  increment_code  white_id  \\\n",
              "14  17302  False     31               1       2             108      7667   \n",
              "43  15679  False     66               3       2             284      6869   \n",
              "49  13839  False     41               1       2             284      6869   \n",
              "52   6393  False     53               1       2              19      7667   \n",
              "54   7784   True      8               3       2             128      9093   \n",
              "\n",
              "    white_rating  black_id  black_rating  moves  opening_eco  opening_name  \\\n",
              "14          1094      8057          1141  13274          201           297   \n",
              "43          2443      7656           978   8797          133          1240   \n",
              "49          2436      7656           978  10919           72          1141   \n",
              "52           978      5086          1500   6113           61           191   \n",
              "54          1521      3247          1162    626            4          1469   \n",
              "\n",
              "    opening_ply  duration_sec  outlier  \n",
              "14            8       10000.0       -1  \n",
              "43           17       10000.0       -1  \n",
              "49            4       10000.0       -1  \n",
              "52            2       10000.0       -1  \n",
              "54            2       10000.0       -1  "
            ]
          },
          "execution_count": 269,
          "metadata": {},
          "output_type": "execute_result"
        }
      ],
      "source": [
        "# outliers\n",
        "chess_games[chess_games['outlier'] == -1].head()"
      ]
    },
    {
      "cell_type": "markdown",
      "metadata": {},
      "source": [
        "Os outliers encontrados parecem ser partidas onde o jogador com maior rating perdeu para o jogador com menor rating, ou partidas com uma diferença muito grande entre os ratings que duram muitos turnos."
      ]
    },
    {
      "cell_type": "code",
      "execution_count": 270,
      "metadata": {},
      "outputs": [
        {
          "data": {
            "text/plain": [
              "(19113, 16)"
            ]
          },
          "execution_count": 270,
          "metadata": {},
          "output_type": "execute_result"
        }
      ],
      "source": [
        "chess_games.shape"
      ]
    },
    {
      "cell_type": "code",
      "execution_count": 271,
      "metadata": {},
      "outputs": [
        {
          "data": {
            "text/plain": [
              "(18921, 16)"
            ]
          },
          "execution_count": 271,
          "metadata": {},
          "output_type": "execute_result"
        }
      ],
      "source": [
        "chess_games_elliptic = chess_games[chess_games['outlier'] != -1]\n",
        "chess_games_elliptic.shape"
      ]
    },
    {
      "cell_type": "markdown",
      "metadata": {},
      "source": [
        "Após a execução do método Elliptic Envelope, foi possível identificar um pequeno número de outliers."
      ]
    },
    {
      "cell_type": "markdown",
      "metadata": {},
      "source": [
        "### Isolation Forest"
      ]
    },
    {
      "cell_type": "code",
      "execution_count": 272,
      "metadata": {},
      "outputs": [
        {
          "data": {
            "text/plain": [
              "id                  int16\n",
              "rated                bool\n",
              "turns               int64\n",
              "victory_status       int8\n",
              "winner               int8\n",
              "increment_code      int16\n",
              "white_id            int16\n",
              "white_rating        int64\n",
              "black_id            int16\n",
              "black_rating        int64\n",
              "moves               int16\n",
              "opening_eco         int16\n",
              "opening_name        int16\n",
              "opening_ply         int64\n",
              "duration_sec      float64\n",
              "dtype: object"
            ]
          },
          "execution_count": 272,
          "metadata": {},
          "output_type": "execute_result"
        }
      ],
      "source": [
        "chess_games.drop(columns=['outlier'], inplace=True)\n",
        "chess_games.dtypes"
      ]
    },
    {
      "cell_type": "code",
      "execution_count": 273,
      "metadata": {},
      "outputs": [
        {
          "data": {
            "text/html": [
              "<style>#sk-container-id-6 {color: black;}#sk-container-id-6 pre{padding: 0;}#sk-container-id-6 div.sk-toggleable {background-color: white;}#sk-container-id-6 label.sk-toggleable__label {cursor: pointer;display: block;width: 100%;margin-bottom: 0;padding: 0.3em;box-sizing: border-box;text-align: center;}#sk-container-id-6 label.sk-toggleable__label-arrow:before {content: \"▸\";float: left;margin-right: 0.25em;color: #696969;}#sk-container-id-6 label.sk-toggleable__label-arrow:hover:before {color: black;}#sk-container-id-6 div.sk-estimator:hover label.sk-toggleable__label-arrow:before {color: black;}#sk-container-id-6 div.sk-toggleable__content {max-height: 0;max-width: 0;overflow: hidden;text-align: left;background-color: #f0f8ff;}#sk-container-id-6 div.sk-toggleable__content pre {margin: 0.2em;color: black;border-radius: 0.25em;background-color: #f0f8ff;}#sk-container-id-6 input.sk-toggleable__control:checked~div.sk-toggleable__content {max-height: 200px;max-width: 100%;overflow: auto;}#sk-container-id-6 input.sk-toggleable__control:checked~label.sk-toggleable__label-arrow:before {content: \"▾\";}#sk-container-id-6 div.sk-estimator input.sk-toggleable__control:checked~label.sk-toggleable__label {background-color: #d4ebff;}#sk-container-id-6 div.sk-label input.sk-toggleable__control:checked~label.sk-toggleable__label {background-color: #d4ebff;}#sk-container-id-6 input.sk-hidden--visually {border: 0;clip: rect(1px 1px 1px 1px);clip: rect(1px, 1px, 1px, 1px);height: 1px;margin: -1px;overflow: hidden;padding: 0;position: absolute;width: 1px;}#sk-container-id-6 div.sk-estimator {font-family: monospace;background-color: #f0f8ff;border: 1px dotted black;border-radius: 0.25em;box-sizing: border-box;margin-bottom: 0.5em;}#sk-container-id-6 div.sk-estimator:hover {background-color: #d4ebff;}#sk-container-id-6 div.sk-parallel-item::after {content: \"\";width: 100%;border-bottom: 1px solid gray;flex-grow: 1;}#sk-container-id-6 div.sk-label:hover label.sk-toggleable__label {background-color: #d4ebff;}#sk-container-id-6 div.sk-serial::before {content: \"\";position: absolute;border-left: 1px solid gray;box-sizing: border-box;top: 0;bottom: 0;left: 50%;z-index: 0;}#sk-container-id-6 div.sk-serial {display: flex;flex-direction: column;align-items: center;background-color: white;padding-right: 0.2em;padding-left: 0.2em;position: relative;}#sk-container-id-6 div.sk-item {position: relative;z-index: 1;}#sk-container-id-6 div.sk-parallel {display: flex;align-items: stretch;justify-content: center;background-color: white;position: relative;}#sk-container-id-6 div.sk-item::before, #sk-container-id-6 div.sk-parallel-item::before {content: \"\";position: absolute;border-left: 1px solid gray;box-sizing: border-box;top: 0;bottom: 0;left: 50%;z-index: -1;}#sk-container-id-6 div.sk-parallel-item {display: flex;flex-direction: column;z-index: 1;position: relative;background-color: white;}#sk-container-id-6 div.sk-parallel-item:first-child::after {align-self: flex-end;width: 50%;}#sk-container-id-6 div.sk-parallel-item:last-child::after {align-self: flex-start;width: 50%;}#sk-container-id-6 div.sk-parallel-item:only-child::after {width: 0;}#sk-container-id-6 div.sk-dashed-wrapped {border: 1px dashed gray;margin: 0 0.4em 0.5em 0.4em;box-sizing: border-box;padding-bottom: 0.4em;background-color: white;}#sk-container-id-6 div.sk-label label {font-family: monospace;font-weight: bold;display: inline-block;line-height: 1.2em;}#sk-container-id-6 div.sk-label-container {text-align: center;}#sk-container-id-6 div.sk-container {/* jupyter's `normalize.less` sets `[hidden] { display: none; }` but bootstrap.min.css set `[hidden] { display: none !important; }` so we also need the `!important` here to be able to override the default hidden behavior on the sphinx rendered scikit-learn.org. See: https://github.com/scikit-learn/scikit-learn/issues/21755 */display: inline-block !important;position: relative;}#sk-container-id-6 div.sk-text-repr-fallback {display: none;}</style><div id=\"sk-container-id-6\" class=\"sk-top-container\"><div class=\"sk-text-repr-fallback\"><pre>IsolationForest(max_samples=100,\n",
              "                random_state=RandomState(MT19937) at 0x7F3BBB982240)</pre><b>In a Jupyter environment, please rerun this cell to show the HTML representation or trust the notebook. <br />On GitHub, the HTML representation is unable to render, please try loading this page with nbviewer.org.</b></div><div class=\"sk-container\" hidden><div class=\"sk-item\"><div class=\"sk-estimator sk-toggleable\"><input class=\"sk-toggleable__control sk-hidden--visually\" id=\"sk-estimator-id-6\" type=\"checkbox\" checked><label for=\"sk-estimator-id-6\" class=\"sk-toggleable__label sk-toggleable__label-arrow\">IsolationForest</label><div class=\"sk-toggleable__content\"><pre>IsolationForest(max_samples=100,\n",
              "                random_state=RandomState(MT19937) at 0x7F3BBB982240)</pre></div></div></div></div></div>"
            ],
            "text/plain": [
              "IsolationForest(max_samples=100,\n",
              "                random_state=RandomState(MT19937) at 0x7F3BBB982240)"
            ]
          },
          "execution_count": 273,
          "metadata": {},
          "output_type": "execute_result"
        }
      ],
      "source": [
        "from sklearn.ensemble import IsolationForest\n",
        "rng = np.random.RandomState(42)\n",
        "clf = IsolationForest(max_samples=100, random_state=rng)\n",
        "clf.fit(chess_games)"
      ]
    },
    {
      "cell_type": "code",
      "execution_count": 274,
      "metadata": {},
      "outputs": [],
      "source": [
        "scores = clf.predict(chess_games)"
      ]
    },
    {
      "cell_type": "code",
      "execution_count": 275,
      "metadata": {},
      "outputs": [],
      "source": [
        "chess_games['outliers'] = scores"
      ]
    },
    {
      "cell_type": "code",
      "execution_count": 276,
      "metadata": {},
      "outputs": [
        {
          "data": {
            "text/html": [
              "<div>\n",
              "<style scoped>\n",
              "    .dataframe tbody tr th:only-of-type {\n",
              "        vertical-align: middle;\n",
              "    }\n",
              "\n",
              "    .dataframe tbody tr th {\n",
              "        vertical-align: top;\n",
              "    }\n",
              "\n",
              "    .dataframe thead th {\n",
              "        text-align: right;\n",
              "    }\n",
              "</style>\n",
              "<table border=\"1\" class=\"dataframe\">\n",
              "  <thead>\n",
              "    <tr style=\"text-align: right;\">\n",
              "      <th></th>\n",
              "      <th>id</th>\n",
              "      <th>rated</th>\n",
              "      <th>turns</th>\n",
              "      <th>victory_status</th>\n",
              "      <th>winner</th>\n",
              "      <th>increment_code</th>\n",
              "      <th>white_id</th>\n",
              "      <th>white_rating</th>\n",
              "      <th>black_id</th>\n",
              "      <th>black_rating</th>\n",
              "      <th>moves</th>\n",
              "      <th>opening_eco</th>\n",
              "      <th>opening_name</th>\n",
              "      <th>opening_ply</th>\n",
              "      <th>duration_sec</th>\n",
              "      <th>outliers</th>\n",
              "    </tr>\n",
              "  </thead>\n",
              "  <tbody>\n",
              "    <tr>\n",
              "      <th>0</th>\n",
              "      <td>9068</td>\n",
              "      <td>False</td>\n",
              "      <td>13</td>\n",
              "      <td>2</td>\n",
              "      <td>2</td>\n",
              "      <td>110</td>\n",
              "      <td>1287</td>\n",
              "      <td>1500</td>\n",
              "      <td>11</td>\n",
              "      <td>1191</td>\n",
              "      <td>4524</td>\n",
              "      <td>248</td>\n",
              "      <td>1387</td>\n",
              "      <td>5</td>\n",
              "      <td>0.0</td>\n",
              "      <td>-1</td>\n",
              "    </tr>\n",
              "    <tr>\n",
              "      <th>1</th>\n",
              "      <td>14512</td>\n",
              "      <td>True</td>\n",
              "      <td>16</td>\n",
              "      <td>3</td>\n",
              "      <td>0</td>\n",
              "      <td>298</td>\n",
              "      <td>16</td>\n",
              "      <td>1322</td>\n",
              "      <td>7748</td>\n",
              "      <td>1261</td>\n",
              "      <td>1987</td>\n",
              "      <td>71</td>\n",
              "      <td>750</td>\n",
              "      <td>4</td>\n",
              "      <td>0.0</td>\n",
              "      <td>-1</td>\n",
              "    </tr>\n",
              "    <tr>\n",
              "      <th>5</th>\n",
              "      <td>7069</td>\n",
              "      <td>False</td>\n",
              "      <td>5</td>\n",
              "      <td>0</td>\n",
              "      <td>1</td>\n",
              "      <td>19</td>\n",
              "      <td>8568</td>\n",
              "      <td>1250</td>\n",
              "      <td>3065</td>\n",
              "      <td>1002</td>\n",
              "      <td>8205</td>\n",
              "      <td>96</td>\n",
              "      <td>1292</td>\n",
              "      <td>4</td>\n",
              "      <td>0.0</td>\n",
              "      <td>-1</td>\n",
              "    </tr>\n",
              "    <tr>\n",
              "      <th>7</th>\n",
              "      <td>8463</td>\n",
              "      <td>False</td>\n",
              "      <td>9</td>\n",
              "      <td>3</td>\n",
              "      <td>0</td>\n",
              "      <td>114</td>\n",
              "      <td>2023</td>\n",
              "      <td>1413</td>\n",
              "      <td>7866</td>\n",
              "      <td>2108</td>\n",
              "      <td>6811</td>\n",
              "      <td>71</td>\n",
              "      <td>752</td>\n",
              "      <td>5</td>\n",
              "      <td>0.0</td>\n",
              "      <td>-1</td>\n",
              "    </tr>\n",
              "    <tr>\n",
              "      <th>10</th>\n",
              "      <td>5465</td>\n",
              "      <td>False</td>\n",
              "      <td>39</td>\n",
              "      <td>1</td>\n",
              "      <td>2</td>\n",
              "      <td>205</td>\n",
              "      <td>2023</td>\n",
              "      <td>1381</td>\n",
              "      <td>517</td>\n",
              "      <td>1272</td>\n",
              "      <td>6607</td>\n",
              "      <td>0</td>\n",
              "      <td>1433</td>\n",
              "      <td>1</td>\n",
              "      <td>0.0</td>\n",
              "      <td>-1</td>\n",
              "    </tr>\n",
              "  </tbody>\n",
              "</table>\n",
              "</div>"
            ],
            "text/plain": [
              "       id  rated  turns  victory_status  winner  increment_code  white_id  \\\n",
              "0    9068  False     13               2       2             110      1287   \n",
              "1   14512   True     16               3       0             298        16   \n",
              "5    7069  False      5               0       1              19      8568   \n",
              "7    8463  False      9               3       0             114      2023   \n",
              "10   5465  False     39               1       2             205      2023   \n",
              "\n",
              "    white_rating  black_id  black_rating  moves  opening_eco  opening_name  \\\n",
              "0           1500        11          1191   4524          248          1387   \n",
              "1           1322      7748          1261   1987           71           750   \n",
              "5           1250      3065          1002   8205           96          1292   \n",
              "7           1413      7866          2108   6811           71           752   \n",
              "10          1381       517          1272   6607            0          1433   \n",
              "\n",
              "    opening_ply  duration_sec  outliers  \n",
              "0             5           0.0        -1  \n",
              "1             4           0.0        -1  \n",
              "5             4           0.0        -1  \n",
              "7             5           0.0        -1  \n",
              "10            1           0.0        -1  "
            ]
          },
          "execution_count": 276,
          "metadata": {},
          "output_type": "execute_result"
        }
      ],
      "source": [
        "# outliers\n",
        "chess_games[chess_games['outliers'] == -1].head()"
      ]
    },
    {
      "cell_type": "markdown",
      "metadata": {},
      "source": [
        "As causas dos outliers identificados pelo Isolation Forest são as mesmas identificadas pelo Elliptic Envelope, mas o Isolation Forest parece ser mais sensível às inconsistências dos dados."
      ]
    },
    {
      "cell_type": "code",
      "execution_count": 277,
      "metadata": {},
      "outputs": [
        {
          "data": {
            "text/plain": [
              "(19113, 16)"
            ]
          },
          "execution_count": 277,
          "metadata": {},
          "output_type": "execute_result"
        }
      ],
      "source": [
        "chess_games.shape"
      ]
    },
    {
      "cell_type": "code",
      "execution_count": 278,
      "metadata": {},
      "outputs": [
        {
          "data": {
            "text/plain": [
              "(11212, 16)"
            ]
          },
          "execution_count": 278,
          "metadata": {},
          "output_type": "execute_result"
        }
      ],
      "source": [
        "chess_games_isolation = chess_games[chess_games['outliers'] != -1]\n",
        "chess_games_isolation.shape"
      ]
    },
    {
      "cell_type": "markdown",
      "metadata": {},
      "source": [
        "Após a execução do método Isolation Forest, foi possível identificar um número muito maior de outliers do que o método anterior."
      ]
    },
    {
      "cell_type": "code",
      "execution_count": 279,
      "metadata": {},
      "outputs": [],
      "source": [
        "# remoção dos outliers detectados pelo Elliptic Envelope\n",
        "chess_games = chess_games.loc[chess_games_elliptic.index]"
      ]
    },
    {
      "cell_type": "markdown",
      "metadata": {},
      "source": [
        "# Discretização"
      ]
    },
    {
      "cell_type": "markdown",
      "metadata": {},
      "source": [
        "A base de dados apresenta em sua maioria dados discretos, com excessão da coluna que representa a duração das partidas. Portanto, a discretização será feita apenas a essa coluna."
      ]
    },
    {
      "cell_type": "code",
      "execution_count": 280,
      "metadata": {},
      "outputs": [
        {
          "data": {
            "text/plain": [
              "count    18921.000000\n",
              "mean       734.605445\n",
              "std       1772.437520\n",
              "min          0.000000\n",
              "25%          0.000000\n",
              "50%        179.543000\n",
              "75%        761.361000\n",
              "max      10351.034000\n",
              "Name: duration_sec, dtype: float64"
            ]
          },
          "execution_count": 280,
          "metadata": {},
          "output_type": "execute_result"
        }
      ],
      "source": [
        "chess_games['duration_sec'].describe()"
      ]
    },
    {
      "cell_type": "markdown",
      "metadata": {},
      "source": [
        "## Remoção de dados incorretos"
      ]
    },
    {
      "cell_type": "markdown",
      "metadata": {},
      "source": [
        "Analisando a distribuição dos dados, é possível identificar que grande parte dos jogos possuem uma duração de 0 segundos, indicando um problema nos dados. Esses valores serão removidos."
      ]
    },
    {
      "cell_type": "code",
      "execution_count": 281,
      "metadata": {},
      "outputs": [],
      "source": [
        "chess_games = chess_games[chess_games['duration_sec'] > 0]"
      ]
    },
    {
      "cell_type": "code",
      "execution_count": 282,
      "metadata": {},
      "outputs": [
        {
          "data": {
            "text/plain": [
              "<Axes: xlabel='id', ylabel='duration_sec'>"
            ]
          },
          "execution_count": 282,
          "metadata": {},
          "output_type": "execute_result"
        },
        {
          "data": {
            "image/png": "[encoded data removed]",
            "text/plain": [
              "<Figure size 640x480 with 1 Axes>"
            ]
          },
          "metadata": {},
          "output_type": "display_data"
        }
      ],
      "source": [
        "chess_games.plot.scatter(x='id', y='duration_sec')"
      ]
    },
    {
      "cell_type": "markdown",
      "metadata": {},
      "source": [
        "Mesmo após a remoção de jogos com duração 0, ainda é possível identificar um problema: há muitos jogos com a duração de extamanete 10000 segundos. Como isso pode indicar um problema, esses valores também serão removidos."
      ]
    },
    {
      "cell_type": "code",
      "execution_count": 283,
      "metadata": {},
      "outputs": [],
      "source": [
        "chess_games = chess_games[chess_games['duration_sec'] != 10000]"
      ]
    },
    {
      "cell_type": "code",
      "execution_count": 284,
      "metadata": {},
      "outputs": [
        {
          "data": {
            "text/plain": [
              "<Axes: xlabel='id', ylabel='duration_sec'>"
            ]
          },
          "execution_count": 284,
          "metadata": {},
          "output_type": "execute_result"
        },
        {
          "data": {
            "image/png": "[encoded data removed]",
            "text/plain": [
              "<Figure size 640x480 with 1 Axes>"
            ]
          },
          "metadata": {},
          "output_type": "display_data"
        }
      ],
      "source": [
        "chess_games.plot.scatter(x='id', y='duration_sec')"
      ]
    },
    {
      "cell_type": "code",
      "execution_count": 285,
      "metadata": {},
      "outputs": [
        {
          "data": {
            "text/plain": [
              "count     9836.000000\n",
              "mean       851.918424\n",
              "std        862.118034\n",
              "min          1.922000\n",
              "25%        383.972750\n",
              "50%        664.616500\n",
              "75%       1022.917250\n",
              "max      10351.034000\n",
              "Name: duration_sec, dtype: float64"
            ]
          },
          "execution_count": 285,
          "metadata": {},
          "output_type": "execute_result"
        }
      ],
      "source": [
        "chess_games['duration_sec'].describe()"
      ]
    },
    {
      "cell_type": "markdown",
      "metadata": {},
      "source": [
        "## Discretização da duração das partidas"
      ]
    },
    {
      "cell_type": "markdown",
      "metadata": {},
      "source": [
        "Com os dados problemáticos removidos, a discretização pode então ser feita."
      ]
    },
    {
      "cell_type": "code",
      "execution_count": 286,
      "metadata": {},
      "outputs": [],
      "source": [
        "# discretizando bins com mesmo intervalo\n",
        "chess_games_duration_dist = pd.cut(chess_games['duration_sec'], 4)"
      ]
    },
    {
      "cell_type": "code",
      "execution_count": 287,
      "metadata": {},
      "outputs": [
        {
          "data": {
            "text/plain": [
              "<Axes: ylabel='duration_sec'>"
            ]
          },
          "execution_count": 287,
          "metadata": {},
          "output_type": "execute_result"
        },
        {
          "data": {
            "image/png": "[encoded data removed]",
            "text/plain": [
              "<Figure size 640x480 with 1 Axes>"
            ]
          },
          "metadata": {},
          "output_type": "display_data"
        }
      ],
      "source": [
        "chess_games_duration_dist.value_counts().plot(kind='barh')"
      ]
    },
    {
      "cell_type": "markdown",
      "metadata": {},
      "source": [
        "Por conta da distribuição extremamente desigual dos dados, dividir em intervalos iguais não é uma boa opção. Portanto, será feita a discretização em intervalos baseados nos quartis dos dados."
      ]
    },
    {
      "cell_type": "code",
      "execution_count": 288,
      "metadata": {},
      "outputs": [],
      "source": [
        "# discretizando bins baseado nos quartis\n",
        "chess_games_duration_dist = pd.qcut(chess_games['duration_sec'], 4, duplicates='drop')"
      ]
    },
    {
      "cell_type": "code",
      "execution_count": 289,
      "metadata": {},
      "outputs": [
        {
          "data": {
            "text/plain": [
              "<Axes: ylabel='duration_sec'>"
            ]
          },
          "execution_count": 289,
          "metadata": {},
          "output_type": "execute_result"
        },
        {
          "data": {
            "image/png": "[encoded data removed]",
            "text/plain": [
              "<Figure size 640x480 with 1 Axes>"
            ]
          },
          "metadata": {},
          "output_type": "display_data"
        }
      ],
      "source": [
        "chess_games_duration_dist.value_counts().plot(kind='barh')"
      ]
    },
    {
      "cell_type": "code",
      "execution_count": 290,
      "metadata": {},
      "outputs": [
        {
          "data": {
            "text/html": [
              "<div>\n",
              "<style scoped>\n",
              "    .dataframe tbody tr th:only-of-type {\n",
              "        vertical-align: middle;\n",
              "    }\n",
              "\n",
              "    .dataframe tbody tr th {\n",
              "        vertical-align: top;\n",
              "    }\n",
              "\n",
              "    .dataframe thead th {\n",
              "        text-align: right;\n",
              "    }\n",
              "</style>\n",
              "<table border=\"1\" class=\"dataframe\">\n",
              "  <thead>\n",
              "    <tr style=\"text-align: right;\">\n",
              "      <th></th>\n",
              "      <th>id</th>\n",
              "      <th>rated</th>\n",
              "      <th>turns</th>\n",
              "      <th>victory_status</th>\n",
              "      <th>winner</th>\n",
              "      <th>increment_code</th>\n",
              "      <th>white_id</th>\n",
              "      <th>white_rating</th>\n",
              "      <th>black_id</th>\n",
              "      <th>black_rating</th>\n",
              "      <th>moves</th>\n",
              "      <th>opening_eco</th>\n",
              "      <th>opening_name</th>\n",
              "      <th>opening_ply</th>\n",
              "      <th>duration_sec</th>\n",
              "      <th>outliers</th>\n",
              "    </tr>\n",
              "  </thead>\n",
              "  <tbody>\n",
              "    <tr>\n",
              "      <th>9288</th>\n",
              "      <td>4926</td>\n",
              "      <td>False</td>\n",
              "      <td>50</td>\n",
              "      <td>1</td>\n",
              "      <td>0</td>\n",
              "      <td>175</td>\n",
              "      <td>717</td>\n",
              "      <td>1265</td>\n",
              "      <td>4869</td>\n",
              "      <td>1500</td>\n",
              "      <td>3694</td>\n",
              "      <td>240</td>\n",
              "      <td>967</td>\n",
              "      <td>4</td>\n",
              "      <td>916.013</td>\n",
              "      <td>-1</td>\n",
              "    </tr>\n",
              "    <tr>\n",
              "      <th>9289</th>\n",
              "      <td>16218</td>\n",
              "      <td>False</td>\n",
              "      <td>30</td>\n",
              "      <td>1</td>\n",
              "      <td>0</td>\n",
              "      <td>175</td>\n",
              "      <td>4789</td>\n",
              "      <td>1500</td>\n",
              "      <td>707</td>\n",
              "      <td>1265</td>\n",
              "      <td>14794</td>\n",
              "      <td>198</td>\n",
              "      <td>301</td>\n",
              "      <td>7</td>\n",
              "      <td>885.794</td>\n",
              "      <td>-1</td>\n",
              "    </tr>\n",
              "    <tr>\n",
              "      <th>9290</th>\n",
              "      <td>8791</td>\n",
              "      <td>False</td>\n",
              "      <td>50</td>\n",
              "      <td>1</td>\n",
              "      <td>0</td>\n",
              "      <td>175</td>\n",
              "      <td>717</td>\n",
              "      <td>1265</td>\n",
              "      <td>4869</td>\n",
              "      <td>1500</td>\n",
              "      <td>6437</td>\n",
              "      <td>0</td>\n",
              "      <td>1433</td>\n",
              "      <td>1</td>\n",
              "      <td>811.024</td>\n",
              "      <td>-1</td>\n",
              "    </tr>\n",
              "    <tr>\n",
              "      <th>9291</th>\n",
              "      <td>15338</td>\n",
              "      <td>True</td>\n",
              "      <td>10</td>\n",
              "      <td>2</td>\n",
              "      <td>0</td>\n",
              "      <td>361</td>\n",
              "      <td>7941</td>\n",
              "      <td>1099</td>\n",
              "      <td>397</td>\n",
              "      <td>1574</td>\n",
              "      <td>10359</td>\n",
              "      <td>72</td>\n",
              "      <td>1125</td>\n",
              "      <td>2</td>\n",
              "      <td>510.205</td>\n",
              "      <td>-1</td>\n",
              "    </tr>\n",
              "    <tr>\n",
              "      <th>9292</th>\n",
              "      <td>13794</td>\n",
              "      <td>True</td>\n",
              "      <td>21</td>\n",
              "      <td>1</td>\n",
              "      <td>2</td>\n",
              "      <td>372</td>\n",
              "      <td>6251</td>\n",
              "      <td>1459</td>\n",
              "      <td>7906</td>\n",
              "      <td>1143</td>\n",
              "      <td>14875</td>\n",
              "      <td>193</td>\n",
              "      <td>1020</td>\n",
              "      <td>6</td>\n",
              "      <td>200.445</td>\n",
              "      <td>-1</td>\n",
              "    </tr>\n",
              "  </tbody>\n",
              "</table>\n",
              "</div>"
            ],
            "text/plain": [
              "         id  rated  turns  victory_status  winner  increment_code  white_id  \\\n",
              "9288   4926  False     50               1       0             175       717   \n",
              "9289  16218  False     30               1       0             175      4789   \n",
              "9290   8791  False     50               1       0             175       717   \n",
              "9291  15338   True     10               2       0             361      7941   \n",
              "9292  13794   True     21               1       2             372      6251   \n",
              "\n",
              "      white_rating  black_id  black_rating  moves  opening_eco  opening_name  \\\n",
              "9288          1265      4869          1500   3694          240           967   \n",
              "9289          1500       707          1265  14794          198           301   \n",
              "9290          1265      4869          1500   6437            0          1433   \n",
              "9291          1099       397          1574  10359           72          1125   \n",
              "9292          1459      7906          1143  14875          193          1020   \n",
              "\n",
              "      opening_ply  duration_sec  outliers  \n",
              "9288            4       916.013        -1  \n",
              "9289            7       885.794        -1  \n",
              "9290            1       811.024        -1  \n",
              "9291            2       510.205        -1  \n",
              "9292            6       200.445        -1  "
            ]
          },
          "execution_count": 290,
          "metadata": {},
          "output_type": "execute_result"
        }
      ],
      "source": [
        "chess_games.head()"
      ]
    },
    {
      "cell_type": "markdown",
      "metadata": {
        "id": "QBkQSpsUDwNB"
      },
      "source": [
        "# Estatísticas Descritivas"
      ]
    },
    {
      "cell_type": "markdown",
      "metadata": {},
      "source": [
        "Para tornar a análise mais compreensível, os dados serão transformados novamente para categóricos. Os outliers identificados anteriormente serão removidos."
      ]
    },
    {
      "cell_type": "code",
      "execution_count": 291,
      "metadata": {},
      "outputs": [],
      "source": [
        "chess_games = pd.read_csv(\"https://raw.githubusercontent.com/Vinicius-resende-cin/intro-dados/master/data/chess_games.csv\", encoding = \"ISO-8859-1\")"
      ]
    },
    {
      "cell_type": "code",
      "execution_count": 292,
      "metadata": {},
      "outputs": [],
      "source": [
        "# convertendo 'object' para 'category'\n",
        "chess_games['id'] = chess_games['id'].astype('category')\n",
        "chess_games['victory_status'] = chess_games['victory_status'].astype('category')\n",
        "chess_games['winner'] = chess_games['winner'].astype('category')\n",
        "chess_games['increment_code'] = chess_games['increment_code'].astype('category')\n",
        "chess_games['white_id'] = chess_games['white_id'].astype('category')\n",
        "chess_games['black_id'] = chess_games['black_id'].astype('category')\n",
        "chess_games['moves'] = chess_games['moves'].astype('category')\n",
        "chess_games['opening_eco'] = chess_games['opening_eco'].astype('category')\n",
        "chess_games['opening_name'] = chess_games['opening_name'].astype('category')\n",
        "\n",
        "# o id será mantido como numérico\n",
        "chess_games['id'] = chess_games['id'].cat.codes"
      ]
    },
    {
      "cell_type": "code",
      "execution_count": 293,
      "metadata": {},
      "outputs": [],
      "source": [
        "# convertendo para datetime format\n",
        "chess_games['created_at'] = pd.to_datetime(chess_games['created_at'], unit='ms', origin='unix')\n",
        "chess_games['last_move_at'] = pd.to_datetime(chess_games['last_move_at'], unit='ms', origin='unix')"
      ]
    },
    {
      "cell_type": "code",
      "execution_count": 294,
      "metadata": {},
      "outputs": [],
      "source": [
        "chess_games['duration_sec'] = chess_games['last_move_at'] - chess_games['created_at']\n",
        "chess_games['duration_sec'] = chess_games['duration_sec'].dt.total_seconds()"
      ]
    },
    {
      "cell_type": "code",
      "execution_count": 295,
      "metadata": {},
      "outputs": [],
      "source": [
        "chess_games.drop(columns=['created_at', 'last_move_at'], inplace=True)"
      ]
    },
    {
      "cell_type": "code",
      "execution_count": 296,
      "metadata": {},
      "outputs": [
        {
          "data": {
            "text/plain": [
              "id                   int16\n",
              "rated                 bool\n",
              "turns                int64\n",
              "victory_status    category\n",
              "winner            category\n",
              "increment_code    category\n",
              "white_id          category\n",
              "white_rating         int64\n",
              "black_id          category\n",
              "black_rating         int64\n",
              "moves             category\n",
              "opening_eco       category\n",
              "opening_name      category\n",
              "opening_ply          int64\n",
              "duration_sec       float64\n",
              "dtype: object"
            ]
          },
          "execution_count": 296,
          "metadata": {},
          "output_type": "execute_result"
        }
      ],
      "source": [
        "chess_games.dtypes"
      ]
    },
    {
      "cell_type": "code",
      "execution_count": 297,
      "metadata": {},
      "outputs": [
        {
          "data": {
            "text/plain": [
              "(20058, 15)"
            ]
          },
          "execution_count": 297,
          "metadata": {},
          "output_type": "execute_result"
        }
      ],
      "source": [
        "chess_games.shape"
      ]
    },
    {
      "cell_type": "code",
      "execution_count": 298,
      "metadata": {},
      "outputs": [
        {
          "data": {
            "text/plain": [
              "(18921, 15)"
            ]
          },
          "execution_count": 298,
          "metadata": {},
          "output_type": "execute_result"
        }
      ],
      "source": [
        "# remoção dos outliers detectados pelo Elliptic Envelope\n",
        "chess_games = chess_games.loc[chess_games_elliptic.index]\n",
        "chess_games.shape"
      ]
    },
    {
      "cell_type": "markdown",
      "metadata": {},
      "source": [
        "Os dados incorretos identificados anteriormente também serão removidos."
      ]
    },
    {
      "cell_type": "code",
      "execution_count": 299,
      "metadata": {},
      "outputs": [
        {
          "data": {
            "text/plain": [
              "(9836, 15)"
            ]
          },
          "execution_count": 299,
          "metadata": {},
          "output_type": "execute_result"
        }
      ],
      "source": [
        "chess_games = chess_games[(chess_games['duration_sec'] > 0) & (chess_games['duration_sec'] != 10000)]\n",
        "chess_games.shape"
      ]
    },
    {
      "cell_type": "code",
      "execution_count": 300,
      "metadata": {},
      "outputs": [
        {
          "data": {
            "text/html": [
              "<div>\n",
              "<style scoped>\n",
              "    .dataframe tbody tr th:only-of-type {\n",
              "        vertical-align: middle;\n",
              "    }\n",
              "\n",
              "    .dataframe tbody tr th {\n",
              "        vertical-align: top;\n",
              "    }\n",
              "\n",
              "    .dataframe thead th {\n",
              "        text-align: right;\n",
              "    }\n",
              "</style>\n",
              "<table border=\"1\" class=\"dataframe\">\n",
              "  <thead>\n",
              "    <tr style=\"text-align: right;\">\n",
              "      <th></th>\n",
              "      <th>id</th>\n",
              "      <th>rated</th>\n",
              "      <th>turns</th>\n",
              "      <th>victory_status</th>\n",
              "      <th>winner</th>\n",
              "      <th>increment_code</th>\n",
              "      <th>white_id</th>\n",
              "      <th>white_rating</th>\n",
              "      <th>black_id</th>\n",
              "      <th>black_rating</th>\n",
              "      <th>moves</th>\n",
              "      <th>opening_eco</th>\n",
              "      <th>opening_name</th>\n",
              "      <th>opening_ply</th>\n",
              "      <th>duration_sec</th>\n",
              "    </tr>\n",
              "  </thead>\n",
              "  <tbody>\n",
              "    <tr>\n",
              "      <th>9288</th>\n",
              "      <td>4926</td>\n",
              "      <td>False</td>\n",
              "      <td>50</td>\n",
              "      <td>mate</td>\n",
              "      <td>black</td>\n",
              "      <td>19+30</td>\n",
              "      <td>arfhan</td>\n",
              "      <td>1265</td>\n",
              "      <td>lasttry</td>\n",
              "      <td>1500</td>\n",
              "      <td>d4 d5 Nc3 Nf6 Nf3 e6 e4 dxe4 Ne5 c5 Bg5 cxd4 N...</td>\n",
              "      <td>D01</td>\n",
              "      <td>Queen's Pawn Game: Chigorin Variation</td>\n",
              "      <td>4</td>\n",
              "      <td>916.013</td>\n",
              "    </tr>\n",
              "    <tr>\n",
              "      <th>9289</th>\n",
              "      <td>16218</td>\n",
              "      <td>False</td>\n",
              "      <td>30</td>\n",
              "      <td>mate</td>\n",
              "      <td>black</td>\n",
              "      <td>19+30</td>\n",
              "      <td>lasttry</td>\n",
              "      <td>1500</td>\n",
              "      <td>arfhan</td>\n",
              "      <td>1265</td>\n",
              "      <td>e4 e5 Nf3 Nf6 Nc3 Nc6 d4 d5 dxe5 dxe4 exf6 exf...</td>\n",
              "      <td>C47</td>\n",
              "      <td>Four Knights Game: Scotch Variation</td>\n",
              "      <td>7</td>\n",
              "      <td>885.794</td>\n",
              "    </tr>\n",
              "    <tr>\n",
              "      <th>9290</th>\n",
              "      <td>8791</td>\n",
              "      <td>False</td>\n",
              "      <td>50</td>\n",
              "      <td>mate</td>\n",
              "      <td>black</td>\n",
              "      <td>19+30</td>\n",
              "      <td>arfhan</td>\n",
              "      <td>1265</td>\n",
              "      <td>lasttry</td>\n",
              "      <td>1500</td>\n",
              "      <td>e3 e5 Nf3 Nc6 h4 Nf6 Bc4 d5 Bd3 e4 Bb5 exf3 gx...</td>\n",
              "      <td>A00</td>\n",
              "      <td>Van't Kruijs Opening</td>\n",
              "      <td>1</td>\n",
              "      <td>811.024</td>\n",
              "    </tr>\n",
              "    <tr>\n",
              "      <th>9291</th>\n",
              "      <td>15338</td>\n",
              "      <td>True</td>\n",
              "      <td>10</td>\n",
              "      <td>outoftime</td>\n",
              "      <td>black</td>\n",
              "      <td>8+0</td>\n",
              "      <td>spitfire999</td>\n",
              "      <td>1099</td>\n",
              "      <td>alin86</td>\n",
              "      <td>1574</td>\n",
              "      <td>e4 d5 c3 dxe4 a4 Nf6 h4 Bg4 Qb3 b6</td>\n",
              "      <td>B01</td>\n",
              "      <td>Scandinavian Defense</td>\n",
              "      <td>2</td>\n",
              "      <td>510.205</td>\n",
              "    </tr>\n",
              "    <tr>\n",
              "      <th>9292</th>\n",
              "      <td>13794</td>\n",
              "      <td>True</td>\n",
              "      <td>21</td>\n",
              "      <td>mate</td>\n",
              "      <td>white</td>\n",
              "      <td>8+4</td>\n",
              "      <td>olivia77</td>\n",
              "      <td>1459</td>\n",
              "      <td>spitfire999</td>\n",
              "      <td>1143</td>\n",
              "      <td>e4 e5 Nf3 Nf6 Nxe5 Nxe4 Qf3 Ke7 Qxf7+ Kd6 Nc4+...</td>\n",
              "      <td>C42</td>\n",
              "      <td>Russian Game: Damiano Variation</td>\n",
              "      <td>6</td>\n",
              "      <td>200.445</td>\n",
              "    </tr>\n",
              "  </tbody>\n",
              "</table>\n",
              "</div>"
            ],
            "text/plain": [
              "         id  rated  turns victory_status winner increment_code     white_id  \\\n",
              "9288   4926  False     50           mate  black          19+30       arfhan   \n",
              "9289  16218  False     30           mate  black          19+30      lasttry   \n",
              "9290   8791  False     50           mate  black          19+30       arfhan   \n",
              "9291  15338   True     10      outoftime  black            8+0  spitfire999   \n",
              "9292  13794   True     21           mate  white            8+4     olivia77   \n",
              "\n",
              "      white_rating     black_id  black_rating  \\\n",
              "9288          1265      lasttry          1500   \n",
              "9289          1500       arfhan          1265   \n",
              "9290          1265      lasttry          1500   \n",
              "9291          1099       alin86          1574   \n",
              "9292          1459  spitfire999          1143   \n",
              "\n",
              "                                                  moves opening_eco  \\\n",
              "9288  d4 d5 Nc3 Nf6 Nf3 e6 e4 dxe4 Ne5 c5 Bg5 cxd4 N...         D01   \n",
              "9289  e4 e5 Nf3 Nf6 Nc3 Nc6 d4 d5 dxe5 dxe4 exf6 exf...         C47   \n",
              "9290  e3 e5 Nf3 Nc6 h4 Nf6 Bc4 d5 Bd3 e4 Bb5 exf3 gx...         A00   \n",
              "9291                 e4 d5 c3 dxe4 a4 Nf6 h4 Bg4 Qb3 b6         B01   \n",
              "9292  e4 e5 Nf3 Nf6 Nxe5 Nxe4 Qf3 Ke7 Qxf7+ Kd6 Nc4+...         C42   \n",
              "\n",
              "                               opening_name  opening_ply  duration_sec  \n",
              "9288  Queen's Pawn Game: Chigorin Variation            4       916.013  \n",
              "9289    Four Knights Game: Scotch Variation            7       885.794  \n",
              "9290                   Van't Kruijs Opening            1       811.024  \n",
              "9291                   Scandinavian Defense            2       510.205  \n",
              "9292        Russian Game: Damiano Variation            6       200.445  "
            ]
          },
          "execution_count": 300,
          "metadata": {},
          "output_type": "execute_result"
        }
      ],
      "source": [
        "chess_games.head()"
      ]
    },
    {
      "cell_type": "code",
      "execution_count": 301,
      "metadata": {},
      "outputs": [
        {
          "data": {
            "text/html": [
              "<div>\n",
              "<style scoped>\n",
              "    .dataframe tbody tr th:only-of-type {\n",
              "        vertical-align: middle;\n",
              "    }\n",
              "\n",
              "    .dataframe tbody tr th {\n",
              "        vertical-align: top;\n",
              "    }\n",
              "\n",
              "    .dataframe thead th {\n",
              "        text-align: right;\n",
              "    }\n",
              "</style>\n",
              "<table border=\"1\" class=\"dataframe\">\n",
              "  <thead>\n",
              "    <tr style=\"text-align: right;\">\n",
              "      <th></th>\n",
              "      <th>id</th>\n",
              "      <th>turns</th>\n",
              "      <th>white_rating</th>\n",
              "      <th>black_rating</th>\n",
              "      <th>opening_ply</th>\n",
              "      <th>duration_sec</th>\n",
              "    </tr>\n",
              "  </thead>\n",
              "  <tbody>\n",
              "    <tr>\n",
              "      <th>count</th>\n",
              "      <td>9836.000000</td>\n",
              "      <td>9836.000000</td>\n",
              "      <td>9836.000000</td>\n",
              "      <td>9836.000000</td>\n",
              "      <td>9836.000000</td>\n",
              "      <td>9836.000000</td>\n",
              "    </tr>\n",
              "    <tr>\n",
              "      <th>mean</th>\n",
              "      <td>9608.834282</td>\n",
              "      <td>61.388878</td>\n",
              "      <td>1621.268402</td>\n",
              "      <td>1614.081537</td>\n",
              "      <td>4.930968</td>\n",
              "      <td>851.918424</td>\n",
              "    </tr>\n",
              "    <tr>\n",
              "      <th>std</th>\n",
              "      <td>5522.975865</td>\n",
              "      <td>34.133009</td>\n",
              "      <td>286.325750</td>\n",
              "      <td>284.963528</td>\n",
              "      <td>2.923045</td>\n",
              "      <td>862.118034</td>\n",
              "    </tr>\n",
              "    <tr>\n",
              "      <th>min</th>\n",
              "      <td>0.000000</td>\n",
              "      <td>1.000000</td>\n",
              "      <td>784.000000</td>\n",
              "      <td>789.000000</td>\n",
              "      <td>1.000000</td>\n",
              "      <td>1.922000</td>\n",
              "    </tr>\n",
              "    <tr>\n",
              "      <th>25%</th>\n",
              "      <td>4886.750000</td>\n",
              "      <td>38.000000</td>\n",
              "      <td>1436.000000</td>\n",
              "      <td>1431.000000</td>\n",
              "      <td>3.000000</td>\n",
              "      <td>383.972750</td>\n",
              "    </tr>\n",
              "    <tr>\n",
              "      <th>50%</th>\n",
              "      <td>9607.500000</td>\n",
              "      <td>56.000000</td>\n",
              "      <td>1596.500000</td>\n",
              "      <td>1591.000000</td>\n",
              "      <td>4.000000</td>\n",
              "      <td>664.616500</td>\n",
              "    </tr>\n",
              "    <tr>\n",
              "      <th>75%</th>\n",
              "      <td>14393.250000</td>\n",
              "      <td>80.000000</td>\n",
              "      <td>1809.000000</td>\n",
              "      <td>1802.000000</td>\n",
              "      <td>6.000000</td>\n",
              "      <td>1022.917250</td>\n",
              "    </tr>\n",
              "    <tr>\n",
              "      <th>max</th>\n",
              "      <td>19112.000000</td>\n",
              "      <td>349.000000</td>\n",
              "      <td>2700.000000</td>\n",
              "      <td>2621.000000</td>\n",
              "      <td>28.000000</td>\n",
              "      <td>10351.034000</td>\n",
              "    </tr>\n",
              "  </tbody>\n",
              "</table>\n",
              "</div>"
            ],
            "text/plain": [
              "                 id        turns  white_rating  black_rating  opening_ply  \\\n",
              "count   9836.000000  9836.000000   9836.000000   9836.000000  9836.000000   \n",
              "mean    9608.834282    61.388878   1621.268402   1614.081537     4.930968   \n",
              "std     5522.975865    34.133009    286.325750    284.963528     2.923045   \n",
              "min        0.000000     1.000000    784.000000    789.000000     1.000000   \n",
              "25%     4886.750000    38.000000   1436.000000   1431.000000     3.000000   \n",
              "50%     9607.500000    56.000000   1596.500000   1591.000000     4.000000   \n",
              "75%    14393.250000    80.000000   1809.000000   1802.000000     6.000000   \n",
              "max    19112.000000   349.000000   2700.000000   2621.000000    28.000000   \n",
              "\n",
              "       duration_sec  \n",
              "count   9836.000000  \n",
              "mean     851.918424  \n",
              "std      862.118034  \n",
              "min        1.922000  \n",
              "25%      383.972750  \n",
              "50%      664.616500  \n",
              "75%     1022.917250  \n",
              "max    10351.034000  "
            ]
          },
          "execution_count": 301,
          "metadata": {},
          "output_type": "execute_result"
        }
      ],
      "source": [
        "chess_games.describe()"
      ]
    },
    {
      "cell_type": "markdown",
      "metadata": {},
      "source": [
        "## Comportamento de turnos para as partidas"
      ]
    },
    {
      "cell_type": "code",
      "execution_count": 302,
      "metadata": {},
      "outputs": [
        {
          "data": {
            "text/plain": [
              "count    9836.000000\n",
              "mean       61.388878\n",
              "std        34.133009\n",
              "min         1.000000\n",
              "25%        38.000000\n",
              "50%        56.000000\n",
              "75%        80.000000\n",
              "max       349.000000\n",
              "Name: turns, dtype: float64"
            ]
          },
          "execution_count": 302,
          "metadata": {},
          "output_type": "execute_result"
        }
      ],
      "source": [
        "chess_games['turns'].describe()"
      ]
    },
    {
      "cell_type": "code",
      "execution_count": 303,
      "metadata": {},
      "outputs": [
        {
          "data": {
            "text/plain": [
              "<Axes: >"
            ]
          },
          "execution_count": 303,
          "metadata": {},
          "output_type": "execute_result"
        },
        {
          "data": {
            "image/png": "[encoded data removed]",
            "text/plain": [
              "<Figure size 640x480 with 1 Axes>"
            ]
          },
          "metadata": {},
          "output_type": "display_data"
        }
      ],
      "source": [
        "chess_games['turns'].hist(bins=20)"
      ]
    },
    {
      "cell_type": "markdown",
      "metadata": {},
      "source": [
        "As partidas possuem uma mediana de 56 turnos, com uma média em torno de 61 e um desvio padrão de 34 turnos.\n",
        "Nota-se que poucas partidas ultrapassam a marca de 80 turnos, sendo mais comum haver partidas de duração média ou curtas."
      ]
    },
    {
      "cell_type": "code",
      "execution_count": 304,
      "metadata": {},
      "outputs": [
        {
          "data": {
            "text/plain": [
              "['resign', 'outoftime', 'draw']\n",
              "Categories (4, object): ['draw', 'mate', 'outoftime', 'resign']"
            ]
          },
          "execution_count": 304,
          "metadata": {},
          "output_type": "execute_result"
        }
      ],
      "source": [
        "chess_games[chess_games['turns'] < 4]['victory_status'].unique()"
      ]
    },
    {
      "cell_type": "markdown",
      "metadata": {},
      "source": [
        "Algo interessante de se notar é que as condições de vitória de partidas com menos de 4 turnos não inclui mates, o que é esperado, já que existem poucas formas de se vencer uma partida dessa maneira em tão poucos turnos."
      ]
    },
    {
      "cell_type": "markdown",
      "metadata": {
        "id": "iVedNOsnTyqV"
      },
      "source": [
        "## Distribuição dos ratings de todos os jogadores"
      ]
    },
    {
      "cell_type": "code",
      "execution_count": 305,
      "metadata": {
        "id": "8s3VA_cGT4tc"
      },
      "outputs": [],
      "source": [
        "all_ratings = pd.concat([chess_games['white_rating'], chess_games['black_rating']])"
      ]
    },
    {
      "cell_type": "code",
      "execution_count": 306,
      "metadata": {
        "colab": {
          "base_uri": "https://localhost:8080/"
        },
        "id": "zJMa7H1cU1Pq",
        "outputId": "d4a0c65f-5422-414f-b405-7796c9c8385a"
      },
      "outputs": [
        {
          "data": {
            "text/plain": [
              "count    19672.000000\n",
              "mean      1617.674969\n",
              "std        285.660794\n",
              "min        784.000000\n",
              "25%       1433.750000\n",
              "50%       1594.000000\n",
              "75%       1806.000000\n",
              "max       2700.000000\n",
              "dtype: float64"
            ]
          },
          "execution_count": 306,
          "metadata": {},
          "output_type": "execute_result"
        }
      ],
      "source": [
        "all_ratings.describe()"
      ]
    },
    {
      "cell_type": "code",
      "execution_count": 307,
      "metadata": {
        "colab": {
          "base_uri": "https://localhost:8080/",
          "height": 447
        },
        "id": "UOgMzsaiRsjr",
        "outputId": "71d681d2-0c03-4f3d-fb0f-f0dc0cf4bd64"
      },
      "outputs": [
        {
          "data": {
            "text/plain": [
              "<Axes: >"
            ]
          },
          "execution_count": 307,
          "metadata": {},
          "output_type": "execute_result"
        },
        {
          "data": {
            "image/png": "[encoded data removed]",
            "text/plain": [
              "<Figure size 640x480 with 1 Axes>"
            ]
          },
          "metadata": {},
          "output_type": "display_data"
        }
      ],
      "source": [
        "all_ratings.hist()"
      ]
    },
    {
      "cell_type": "markdown",
      "metadata": {},
      "source": [
        "Os ratings dos jogadores se concentram em torno da mediana 1594 com uma média próxima de 1617 e um desvio padrão de 285 de rating. Os ratings seguem uma distribuição aparentemente normal, com poucos jogadores com ratings muito altos ou muito baixos."
      ]
    },
    {
      "cell_type": "markdown",
      "metadata": {},
      "source": [
        "## Vitórias"
      ]
    },
    {
      "cell_type": "code",
      "execution_count": 308,
      "metadata": {},
      "outputs": [
        {
          "data": {
            "text/plain": [
              "<Axes: xlabel='victory_status'>"
            ]
          },
          "execution_count": 308,
          "metadata": {},
          "output_type": "execute_result"
        },
        {
          "data": {
            "image/png": "[encoded data removed]",
            "text/plain": [
              "<Figure size 640x480 with 1 Axes>"
            ]
          },
          "metadata": {},
          "output_type": "display_data"
        }
      ],
      "source": [
        "chess_games['victory_status'].value_counts().plot.bar()"
      ]
    },
    {
      "cell_type": "markdown",
      "metadata": {},
      "source": [
        "Analisando as estatísticas, nota-se uma alta taxa de desistências, sendo essa a principal forma de vitória, com quase o dobro de ocorrências da segunda principal forma de vitória, o mate."
      ]
    },
    {
      "cell_type": "code",
      "execution_count": 309,
      "metadata": {},
      "outputs": [
        {
          "data": {
            "text/plain": [
              "<Axes: xlabel='winner'>"
            ]
          },
          "execution_count": 309,
          "metadata": {},
          "output_type": "execute_result"
        },
        {
          "data": {
            "image/png": "[encoded data removed]",
            "text/plain": [
              "<Figure size 640x480 with 1 Axes>"
            ]
          },
          "metadata": {},
          "output_type": "display_data"
        }
      ],
      "source": [
        "chess_games['winner'].value_counts().plot.bar()"
      ]
    },
    {
      "cell_type": "markdown",
      "metadata": {},
      "source": [
        "Já ao analisar quem venceu cada partida, percebe-se uma tendência de vitória para o jogador que inicia com as peças brancas. Isso é esperado, já que o jogador que inicia tem uma pequena vantagem."
      ]
    },
    {
      "cell_type": "markdown",
      "metadata": {},
      "source": [
        "## Tipos de partidas mais jogadas (por incremento)"
      ]
    },
    {
      "cell_type": "code",
      "execution_count": 373,
      "metadata": {},
      "outputs": [
        {
          "data": {
            "text/plain": [
              "<Axes: ylabel='increment_code'>"
            ]
          },
          "execution_count": 373,
          "metadata": {},
          "output_type": "execute_result"
        },
        {
          "data": {
            "image/png": "[encoded data removed]",
            "text/plain": [
              "<Figure size 640x480 with 1 Axes>"
            ]
          },
          "metadata": {},
          "output_type": "display_data"
        }
      ],
      "source": [
        "chess_games['increment_code'].value_counts().head(10).plot.barh()"
      ]
    },
    {
      "cell_type": "markdown",
      "metadata": {},
      "source": [
        "O tipo de partida mais jogado são as partidas rápidas, ou partidas que iniciam com 10 minutos para cada jogador e não possuem incremento de tempo. A diferença entre esse tipo de partida e o restante é bastante grande, com as partidas rápidas sendo cerca de 8 vezes mais comuns que o segundo tipo mais comum de partida, este sendo as partidas com 15 minutos para cada jogador e também sem incremento."
      ]
    },
    {
      "cell_type": "markdown",
      "metadata": {},
      "source": [
        "## Correlação entre as variáveis"
      ]
    },
    {
      "cell_type": "code",
      "execution_count": 317,
      "metadata": {},
      "outputs": [],
      "source": [
        "chess_games['rating_diff'] = abs(chess_games['white_rating'] - chess_games['black_rating'])\n",
        "chess_games['rating_avg'] = (chess_games['white_rating'] + chess_games['black_rating']) / 2"
      ]
    },
    {
      "cell_type": "code",
      "execution_count": 377,
      "metadata": {},
      "outputs": [
        {
          "data": {
            "text/html": [
              "<div>\n",
              "<style scoped>\n",
              "    .dataframe tbody tr th:only-of-type {\n",
              "        vertical-align: middle;\n",
              "    }\n",
              "\n",
              "    .dataframe tbody tr th {\n",
              "        vertical-align: top;\n",
              "    }\n",
              "\n",
              "    .dataframe thead th {\n",
              "        text-align: right;\n",
              "    }\n",
              "</style>\n",
              "<table border=\"1\" class=\"dataframe\">\n",
              "  <thead>\n",
              "    <tr style=\"text-align: right;\">\n",
              "      <th></th>\n",
              "      <th>rated</th>\n",
              "      <th>turns</th>\n",
              "      <th>rating_avg</th>\n",
              "      <th>rating_diff</th>\n",
              "      <th>opening_ply</th>\n",
              "      <th>duration_sec</th>\n",
              "    </tr>\n",
              "  </thead>\n",
              "  <tbody>\n",
              "    <tr>\n",
              "      <th>rated</th>\n",
              "      <td>1.000000</td>\n",
              "      <td>0.089163</td>\n",
              "      <td>0.018226</td>\n",
              "      <td>-0.190800</td>\n",
              "      <td>-0.026858</td>\n",
              "      <td>-0.013875</td>\n",
              "    </tr>\n",
              "    <tr>\n",
              "      <th>turns</th>\n",
              "      <td>0.089163</td>\n",
              "      <td>1.000000</td>\n",
              "      <td>0.181389</td>\n",
              "      <td>-0.111353</td>\n",
              "      <td>0.054202</td>\n",
              "      <td>0.676496</td>\n",
              "    </tr>\n",
              "    <tr>\n",
              "      <th>rating_avg</th>\n",
              "      <td>0.018226</td>\n",
              "      <td>0.181389</td>\n",
              "      <td>1.000000</td>\n",
              "      <td>0.013562</td>\n",
              "      <td>0.281784</td>\n",
              "      <td>0.164321</td>\n",
              "    </tr>\n",
              "    <tr>\n",
              "      <th>rating_diff</th>\n",
              "      <td>-0.190800</td>\n",
              "      <td>-0.111353</td>\n",
              "      <td>0.013562</td>\n",
              "      <td>1.000000</td>\n",
              "      <td>-0.028343</td>\n",
              "      <td>-0.089014</td>\n",
              "    </tr>\n",
              "    <tr>\n",
              "      <th>opening_ply</th>\n",
              "      <td>-0.026858</td>\n",
              "      <td>0.054202</td>\n",
              "      <td>0.281784</td>\n",
              "      <td>-0.028343</td>\n",
              "      <td>1.000000</td>\n",
              "      <td>0.091210</td>\n",
              "    </tr>\n",
              "    <tr>\n",
              "      <th>duration_sec</th>\n",
              "      <td>-0.013875</td>\n",
              "      <td>0.676496</td>\n",
              "      <td>0.164321</td>\n",
              "      <td>-0.089014</td>\n",
              "      <td>0.091210</td>\n",
              "      <td>1.000000</td>\n",
              "    </tr>\n",
              "  </tbody>\n",
              "</table>\n",
              "</div>"
            ],
            "text/plain": [
              "                 rated     turns  rating_avg  rating_diff  opening_ply  \\\n",
              "rated         1.000000  0.089163    0.018226    -0.190800    -0.026858   \n",
              "turns         0.089163  1.000000    0.181389    -0.111353     0.054202   \n",
              "rating_avg    0.018226  0.181389    1.000000     0.013562     0.281784   \n",
              "rating_diff  -0.190800 -0.111353    0.013562     1.000000    -0.028343   \n",
              "opening_ply  -0.026858  0.054202    0.281784    -0.028343     1.000000   \n",
              "duration_sec -0.013875  0.676496    0.164321    -0.089014     0.091210   \n",
              "\n",
              "              duration_sec  \n",
              "rated            -0.013875  \n",
              "turns             0.676496  \n",
              "rating_avg        0.164321  \n",
              "rating_diff      -0.089014  \n",
              "opening_ply       0.091210  \n",
              "duration_sec      1.000000  "
            ]
          },
          "execution_count": 377,
          "metadata": {},
          "output_type": "execute_result"
        }
      ],
      "source": [
        "corr = chess_games[['rated', 'turns', 'rating_avg', 'rating_diff', 'opening_ply', 'duration_sec']].corr(method='spearman')\n",
        "corr"
      ]
    },
    {
      "cell_type": "markdown",
      "metadata": {},
      "source": [
        "Analisando a correlação entre as variáveis, é possível derivar algumas afirmações:\n",
        "1. Quanto maior a quantidade de turnos, maior é a duração da partida.\n",
        "2. Quanto maior a diferença de rating entre os jogadores, menor é a quantidade de turnos da partida.\n",
        "3. Partidas com um nível médio mais alto entre os jogadores tendem a durar mais.\n",
        "4. Partidas competitivas tendem a ter uma menor diferença entre os ratings dos jogadores."
      ]
    },
    {
      "cell_type": "markdown",
      "metadata": {},
      "source": [
        "Para uma melhor visualização, pode-se observar a correlação entre as variáveis através de um mapa de calor."
      ]
    },
    {
      "cell_type": "code",
      "execution_count": 379,
      "metadata": {},
      "outputs": [
        {
          "data": {
            "text/plain": [
              "<Axes: >"
            ]
          },
          "execution_count": 379,
          "metadata": {},
          "output_type": "execute_result"
        },
        {
          "data": {
            "image/png": "[encoded data removed]",
            "text/plain": [
              "<Figure size 640x480 with 2 Axes>"
            ]
          },
          "metadata": {},
          "output_type": "display_data"
        }
      ],
      "source": [
        "import seaborn as sns\n",
        "sns.heatmap(corr, cmap='coolwarm', annot=True)"
      ]
    },
    {
      "cell_type": "markdown",
      "metadata": {},
      "source": [
        "Quanto mais próximo da cor vermelha, maior é a correlação entre as variáveis. Já quanto mais próximo da cor azul, menor é a correlação."
      ]
    }
  ],
  "metadata": {
    "colab": {
      "collapsed_sections": [
        "xr4KxIm-Kevf",
        "8s3goxuOOe9W",
        "OOH6JN-DOXEI",
        "9zcOvytXOi5B",
        "QBkQSpsUDwNB",
        "iVedNOsnTyqV"
      ],
      "provenance": []
    },
    "kernelspec": {
      "display_name": "Python 3",
      "name": "python3"
    },
    "language_info": {
      "codemirror_mode": {
        "name": "ipython",
        "version": 3
      },
      "file_extension": ".py",
      "mimetype": "text/x-python",
      "name": "python",
      "nbconvert_exporter": "python",
      "pygments_lexer": "ipython3",
      "version": "3.8.10"
    }
  },
  "nbformat": 4,
  "nbformat_minor": 0
}
