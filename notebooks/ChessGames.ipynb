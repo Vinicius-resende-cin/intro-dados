{
  "cells": [
    {
      "cell_type": "markdown",
      "metadata": {
        "id": "xr4KxIm-Kevf"
      },
      "source": [
        "# Importando bibliotecas e o dataset"
      ]
    },
    {
      "cell_type": "markdown",
      "metadata": {
        "id": "8s3goxuOOe9W"
      },
      "source": [
        "## Importando bibliotecas"
      ]
    },
    {
      "cell_type": "code",
      "execution_count": 1,
      "metadata": {
        "id": "THCBAQ8DKqs8"
      },
      "outputs": [],
      "source": [
        "import numpy as np\n",
        "import pandas as pd\n",
        "np.random.seed(0) # for reproducibility"
      ]
    },
    {
      "cell_type": "markdown",
      "metadata": {},
      "source": [
        "## Importando os dados"
      ]
    },
    {
      "cell_type": "code",
      "execution_count": 2,
      "metadata": {
        "id": "XkgJeTKVLGjI"
      },
      "outputs": [],
      "source": [
        "chess_games = pd.read_csv(\"https://raw.githubusercontent.com/Vinicius-resende-cin/intro-dados/master/data/chess_games.csv\", encoding = \"ISO-8859-1\")"
      ]
    },
    {
      "cell_type": "code",
      "execution_count": 3,
      "metadata": {
        "colab": {
          "base_uri": "https://localhost:8080/",
          "height": 380
        },
        "id": "veIlGVNtOJ-r",
        "outputId": "ea2e9d94-e6b8-4787-e0d4-2683a0398b30"
      },
      "outputs": [
        {
          "data": {
            "text/html": [
              "<div>\n",
              "<style scoped>\n",
              "    .dataframe tbody tr th:only-of-type {\n",
              "        vertical-align: middle;\n",
              "    }\n",
              "\n",
              "    .dataframe tbody tr th {\n",
              "        vertical-align: top;\n",
              "    }\n",
              "\n",
              "    .dataframe thead th {\n",
              "        text-align: right;\n",
              "    }\n",
              "</style>\n",
              "<table border=\"1\" class=\"dataframe\">\n",
              "  <thead>\n",
              "    <tr style=\"text-align: right;\">\n",
              "      <th></th>\n",
              "      <th>id</th>\n",
              "      <th>rated</th>\n",
              "      <th>created_at</th>\n",
              "      <th>last_move_at</th>\n",
              "      <th>turns</th>\n",
              "      <th>victory_status</th>\n",
              "      <th>winner</th>\n",
              "      <th>increment_code</th>\n",
              "      <th>white_id</th>\n",
              "      <th>white_rating</th>\n",
              "      <th>black_id</th>\n",
              "      <th>black_rating</th>\n",
              "      <th>moves</th>\n",
              "      <th>opening_eco</th>\n",
              "      <th>opening_name</th>\n",
              "      <th>opening_ply</th>\n",
              "    </tr>\n",
              "  </thead>\n",
              "  <tbody>\n",
              "    <tr>\n",
              "      <th>0</th>\n",
              "      <td>TZJHLljE</td>\n",
              "      <td>False</td>\n",
              "      <td>1.504210e+12</td>\n",
              "      <td>1.504210e+12</td>\n",
              "      <td>13</td>\n",
              "      <td>outoftime</td>\n",
              "      <td>white</td>\n",
              "      <td>15+2</td>\n",
              "      <td>bourgris</td>\n",
              "      <td>1500</td>\n",
              "      <td>a-00</td>\n",
              "      <td>1191</td>\n",
              "      <td>d4 d5 c4 c6 cxd5 e6 dxe6 fxe6 Nf3 Bb4+ Nc3 Ba5...</td>\n",
              "      <td>D10</td>\n",
              "      <td>Slav Defense: Exchange Variation</td>\n",
              "      <td>5</td>\n",
              "    </tr>\n",
              "    <tr>\n",
              "      <th>1</th>\n",
              "      <td>l1NXvwaE</td>\n",
              "      <td>True</td>\n",
              "      <td>1.504130e+12</td>\n",
              "      <td>1.504130e+12</td>\n",
              "      <td>16</td>\n",
              "      <td>resign</td>\n",
              "      <td>black</td>\n",
              "      <td>5+10</td>\n",
              "      <td>a-00</td>\n",
              "      <td>1322</td>\n",
              "      <td>skinnerua</td>\n",
              "      <td>1261</td>\n",
              "      <td>d4 Nc6 e4 e5 f4 f6 dxe5 fxe5 fxe5 Nxe5 Qd4 Nc6...</td>\n",
              "      <td>B00</td>\n",
              "      <td>Nimzowitsch Defense: Kennedy Variation</td>\n",
              "      <td>4</td>\n",
              "    </tr>\n",
              "    <tr>\n",
              "      <th>2</th>\n",
              "      <td>mIICvQHh</td>\n",
              "      <td>True</td>\n",
              "      <td>1.504130e+12</td>\n",
              "      <td>1.504130e+12</td>\n",
              "      <td>61</td>\n",
              "      <td>mate</td>\n",
              "      <td>white</td>\n",
              "      <td>5+10</td>\n",
              "      <td>ischia</td>\n",
              "      <td>1496</td>\n",
              "      <td>a-00</td>\n",
              "      <td>1500</td>\n",
              "      <td>e4 e5 d3 d6 Be3 c6 Be2 b5 Nd2 a5 a4 c5 axb5 Nc...</td>\n",
              "      <td>C20</td>\n",
              "      <td>King's Pawn Game: Leonardis Variation</td>\n",
              "      <td>3</td>\n",
              "    </tr>\n",
              "    <tr>\n",
              "      <th>3</th>\n",
              "      <td>kWKvrqYL</td>\n",
              "      <td>True</td>\n",
              "      <td>1.504110e+12</td>\n",
              "      <td>1.504110e+12</td>\n",
              "      <td>61</td>\n",
              "      <td>mate</td>\n",
              "      <td>white</td>\n",
              "      <td>20+0</td>\n",
              "      <td>daniamurashov</td>\n",
              "      <td>1439</td>\n",
              "      <td>adivanov2009</td>\n",
              "      <td>1454</td>\n",
              "      <td>d4 d5 Nf3 Bf5 Nc3 Nf6 Bf4 Ng4 e3 Nc6 Be2 Qd7 O...</td>\n",
              "      <td>D02</td>\n",
              "      <td>Queen's Pawn Game: Zukertort Variation</td>\n",
              "      <td>3</td>\n",
              "    </tr>\n",
              "    <tr>\n",
              "      <th>4</th>\n",
              "      <td>9tXo1AUZ</td>\n",
              "      <td>True</td>\n",
              "      <td>1.504030e+12</td>\n",
              "      <td>1.504030e+12</td>\n",
              "      <td>95</td>\n",
              "      <td>mate</td>\n",
              "      <td>white</td>\n",
              "      <td>30+3</td>\n",
              "      <td>nik221107</td>\n",
              "      <td>1523</td>\n",
              "      <td>adivanov2009</td>\n",
              "      <td>1469</td>\n",
              "      <td>e4 e5 Nf3 d6 d4 Nc6 d5 Nb4 a3 Na6 Nc3 Be7 b4 N...</td>\n",
              "      <td>C41</td>\n",
              "      <td>Philidor Defense</td>\n",
              "      <td>5</td>\n",
              "    </tr>\n",
              "  </tbody>\n",
              "</table>\n",
              "</div>"
            ],
            "text/plain": [
              "         id  rated    created_at  last_move_at  turns victory_status winner  \\\n",
              "0  TZJHLljE  False  1.504210e+12  1.504210e+12     13      outoftime  white   \n",
              "1  l1NXvwaE   True  1.504130e+12  1.504130e+12     16         resign  black   \n",
              "2  mIICvQHh   True  1.504130e+12  1.504130e+12     61           mate  white   \n",
              "3  kWKvrqYL   True  1.504110e+12  1.504110e+12     61           mate  white   \n",
              "4  9tXo1AUZ   True  1.504030e+12  1.504030e+12     95           mate  white   \n",
              "\n",
              "  increment_code       white_id  white_rating      black_id  black_rating  \\\n",
              "0           15+2       bourgris          1500          a-00          1191   \n",
              "1           5+10           a-00          1322     skinnerua          1261   \n",
              "2           5+10         ischia          1496          a-00          1500   \n",
              "3           20+0  daniamurashov          1439  adivanov2009          1454   \n",
              "4           30+3      nik221107          1523  adivanov2009          1469   \n",
              "\n",
              "                                               moves opening_eco  \\\n",
              "0  d4 d5 c4 c6 cxd5 e6 dxe6 fxe6 Nf3 Bb4+ Nc3 Ba5...         D10   \n",
              "1  d4 Nc6 e4 e5 f4 f6 dxe5 fxe5 fxe5 Nxe5 Qd4 Nc6...         B00   \n",
              "2  e4 e5 d3 d6 Be3 c6 Be2 b5 Nd2 a5 a4 c5 axb5 Nc...         C20   \n",
              "3  d4 d5 Nf3 Bf5 Nc3 Nf6 Bf4 Ng4 e3 Nc6 Be2 Qd7 O...         D02   \n",
              "4  e4 e5 Nf3 d6 d4 Nc6 d5 Nb4 a3 Na6 Nc3 Be7 b4 N...         C41   \n",
              "\n",
              "                             opening_name  opening_ply  \n",
              "0        Slav Defense: Exchange Variation            5  \n",
              "1  Nimzowitsch Defense: Kennedy Variation            4  \n",
              "2   King's Pawn Game: Leonardis Variation            3  \n",
              "3  Queen's Pawn Game: Zukertort Variation            3  \n",
              "4                        Philidor Defense            5  "
            ]
          },
          "execution_count": 3,
          "metadata": {},
          "output_type": "execute_result"
        }
      ],
      "source": [
        "chess_games.head()"
      ]
    },
    {
      "cell_type": "markdown",
      "metadata": {
        "id": "TROMbYo77jTJ"
      },
      "source": [
        "# Definição de tipos"
      ]
    },
    {
      "cell_type": "code",
      "execution_count": 4,
      "metadata": {
        "colab": {
          "base_uri": "https://localhost:8080/"
        },
        "id": "wQc3c9j2O9j4",
        "outputId": "bbec4a62-3437-447f-eecb-1b76a35c3039"
      },
      "outputs": [
        {
          "data": {
            "text/plain": [
              "id                 object\n",
              "rated                bool\n",
              "created_at        float64\n",
              "last_move_at      float64\n",
              "turns               int64\n",
              "victory_status     object\n",
              "winner             object\n",
              "increment_code     object\n",
              "white_id           object\n",
              "white_rating        int64\n",
              "black_id           object\n",
              "black_rating        int64\n",
              "moves              object\n",
              "opening_eco        object\n",
              "opening_name       object\n",
              "opening_ply         int64\n",
              "dtype: object"
            ]
          },
          "execution_count": 4,
          "metadata": {},
          "output_type": "execute_result"
        }
      ],
      "source": [
        "# verificando os tipos de todas as colunas\n",
        "chess_games.dtypes"
      ]
    },
    {
      "cell_type": "code",
      "execution_count": 5,
      "metadata": {
        "id": "-6jNIeJ_7v44"
      },
      "outputs": [],
      "source": [
        "# convertendo 'object' para 'category'\n",
        "chess_games['id'] = chess_games['id'].astype('category')\n",
        "chess_games['victory_status'] = chess_games['victory_status'].astype('category')\n",
        "chess_games['winner'] = chess_games['winner'].astype('category')\n",
        "chess_games['increment_code'] = chess_games['increment_code'].astype('category')\n",
        "chess_games['white_id'] = chess_games['white_id'].astype('category')\n",
        "chess_games['black_id'] = chess_games['black_id'].astype('category')\n",
        "chess_games['moves'] = chess_games['moves'].astype('category')\n",
        "chess_games['opening_eco'] = chess_games['opening_eco'].astype('category')\n",
        "chess_games['opening_name'] = chess_games['opening_name'].astype('category')\n",
        "\n",
        "# convertendo categorico para numérico\n",
        "chess_games['id'] = chess_games['id'].cat.codes\n",
        "chess_games['victory_status'] = chess_games['victory_status'].cat.codes\n",
        "chess_games['winner'] = chess_games['winner'].cat.codes\n",
        "chess_games['increment_code'] = chess_games['increment_code'].cat.codes\n",
        "chess_games['white_id'] = chess_games['white_id'].cat.codes\n",
        "chess_games['black_id'] = chess_games['black_id'].cat.codes\n",
        "chess_games['moves'] = chess_games['moves'].cat.codes\n",
        "chess_games['opening_eco'] = chess_games['opening_eco'].cat.codes\n",
        "chess_games['opening_name'] = chess_games['opening_name'].cat.codes"
      ]
    },
    {
      "cell_type": "code",
      "execution_count": 6,
      "metadata": {
        "colab": {
          "base_uri": "https://localhost:8080/"
        },
        "id": "pZvTy3P58php",
        "outputId": "9dd8a83c-b6c8-4887-c71b-aab33872b646"
      },
      "outputs": [
        {
          "data": {
            "text/plain": [
              "id                  int16\n",
              "rated                bool\n",
              "created_at        float64\n",
              "last_move_at      float64\n",
              "turns               int64\n",
              "victory_status       int8\n",
              "winner               int8\n",
              "increment_code      int16\n",
              "white_id            int16\n",
              "white_rating        int64\n",
              "black_id            int16\n",
              "black_rating        int64\n",
              "moves               int16\n",
              "opening_eco         int16\n",
              "opening_name        int16\n",
              "opening_ply         int64\n",
              "dtype: object"
            ]
          },
          "execution_count": 6,
          "metadata": {},
          "output_type": "execute_result"
        }
      ],
      "source": [
        "# verificando novos tipos\n",
        "chess_games.dtypes"
      ]
    },
    {
      "cell_type": "code",
      "execution_count": 7,
      "metadata": {
        "colab": {
          "base_uri": "https://localhost:8080/",
          "height": 293
        },
        "id": "RWeitbgx-M-B",
        "outputId": "5ead425d-e58c-4d2a-ec95-394c0c47ded1"
      },
      "outputs": [
        {
          "data": {
            "text/html": [
              "<div>\n",
              "<style scoped>\n",
              "    .dataframe tbody tr th:only-of-type {\n",
              "        vertical-align: middle;\n",
              "    }\n",
              "\n",
              "    .dataframe tbody tr th {\n",
              "        vertical-align: top;\n",
              "    }\n",
              "\n",
              "    .dataframe thead th {\n",
              "        text-align: right;\n",
              "    }\n",
              "</style>\n",
              "<table border=\"1\" class=\"dataframe\">\n",
              "  <thead>\n",
              "    <tr style=\"text-align: right;\">\n",
              "      <th></th>\n",
              "      <th>id</th>\n",
              "      <th>rated</th>\n",
              "      <th>created_at</th>\n",
              "      <th>last_move_at</th>\n",
              "      <th>turns</th>\n",
              "      <th>victory_status</th>\n",
              "      <th>winner</th>\n",
              "      <th>increment_code</th>\n",
              "      <th>white_id</th>\n",
              "      <th>white_rating</th>\n",
              "      <th>black_id</th>\n",
              "      <th>black_rating</th>\n",
              "      <th>moves</th>\n",
              "      <th>opening_eco</th>\n",
              "      <th>opening_name</th>\n",
              "      <th>opening_ply</th>\n",
              "    </tr>\n",
              "  </thead>\n",
              "  <tbody>\n",
              "    <tr>\n",
              "      <th>0</th>\n",
              "      <td>9068</td>\n",
              "      <td>False</td>\n",
              "      <td>1.504210e+12</td>\n",
              "      <td>1.504210e+12</td>\n",
              "      <td>13</td>\n",
              "      <td>2</td>\n",
              "      <td>2</td>\n",
              "      <td>110</td>\n",
              "      <td>1287</td>\n",
              "      <td>1500</td>\n",
              "      <td>11</td>\n",
              "      <td>1191</td>\n",
              "      <td>4524</td>\n",
              "      <td>248</td>\n",
              "      <td>1387</td>\n",
              "      <td>5</td>\n",
              "    </tr>\n",
              "    <tr>\n",
              "      <th>1</th>\n",
              "      <td>14512</td>\n",
              "      <td>True</td>\n",
              "      <td>1.504130e+12</td>\n",
              "      <td>1.504130e+12</td>\n",
              "      <td>16</td>\n",
              "      <td>3</td>\n",
              "      <td>0</td>\n",
              "      <td>298</td>\n",
              "      <td>16</td>\n",
              "      <td>1322</td>\n",
              "      <td>7748</td>\n",
              "      <td>1261</td>\n",
              "      <td>1987</td>\n",
              "      <td>71</td>\n",
              "      <td>750</td>\n",
              "      <td>4</td>\n",
              "    </tr>\n",
              "    <tr>\n",
              "      <th>2</th>\n",
              "      <td>14904</td>\n",
              "      <td>True</td>\n",
              "      <td>1.504130e+12</td>\n",
              "      <td>1.504130e+12</td>\n",
              "      <td>61</td>\n",
              "      <td>1</td>\n",
              "      <td>2</td>\n",
              "      <td>298</td>\n",
              "      <td>3823</td>\n",
              "      <td>1496</td>\n",
              "      <td>11</td>\n",
              "      <td>1500</td>\n",
              "      <td>16383</td>\n",
              "      <td>171</td>\n",
              "      <td>650</td>\n",
              "      <td>3</td>\n",
              "    </tr>\n",
              "    <tr>\n",
              "      <th>3</th>\n",
              "      <td>14350</td>\n",
              "      <td>True</td>\n",
              "      <td>1.504110e+12</td>\n",
              "      <td>1.504110e+12</td>\n",
              "      <td>61</td>\n",
              "      <td>1</td>\n",
              "      <td>2</td>\n",
              "      <td>187</td>\n",
              "      <td>2017</td>\n",
              "      <td>1439</td>\n",
              "      <td>134</td>\n",
              "      <td>1454</td>\n",
              "      <td>3770</td>\n",
              "      <td>241</td>\n",
              "      <td>992</td>\n",
              "      <td>3</td>\n",
              "    </tr>\n",
              "    <tr>\n",
              "      <th>4</th>\n",
              "      <td>3091</td>\n",
              "      <td>True</td>\n",
              "      <td>1.504030e+12</td>\n",
              "      <td>1.504030e+12</td>\n",
              "      <td>95</td>\n",
              "      <td>1</td>\n",
              "      <td>2</td>\n",
              "      <td>247</td>\n",
              "      <td>6056</td>\n",
              "      <td>1523</td>\n",
              "      <td>134</td>\n",
              "      <td>1469</td>\n",
              "      <td>15622</td>\n",
              "      <td>192</td>\n",
              "      <td>783</td>\n",
              "      <td>5</td>\n",
              "    </tr>\n",
              "  </tbody>\n",
              "</table>\n",
              "</div>"
            ],
            "text/plain": [
              "      id  rated    created_at  last_move_at  turns  victory_status  winner  \\\n",
              "0   9068  False  1.504210e+12  1.504210e+12     13               2       2   \n",
              "1  14512   True  1.504130e+12  1.504130e+12     16               3       0   \n",
              "2  14904   True  1.504130e+12  1.504130e+12     61               1       2   \n",
              "3  14350   True  1.504110e+12  1.504110e+12     61               1       2   \n",
              "4   3091   True  1.504030e+12  1.504030e+12     95               1       2   \n",
              "\n",
              "   increment_code  white_id  white_rating  black_id  black_rating  moves  \\\n",
              "0             110      1287          1500        11          1191   4524   \n",
              "1             298        16          1322      7748          1261   1987   \n",
              "2             298      3823          1496        11          1500  16383   \n",
              "3             187      2017          1439       134          1454   3770   \n",
              "4             247      6056          1523       134          1469  15622   \n",
              "\n",
              "   opening_eco  opening_name  opening_ply  \n",
              "0          248          1387            5  \n",
              "1           71           750            4  \n",
              "2          171           650            3  \n",
              "3          241           992            3  \n",
              "4          192           783            5  "
            ]
          },
          "execution_count": 7,
          "metadata": {},
          "output_type": "execute_result"
        }
      ],
      "source": [
        "chess_games.head()"
      ]
    },
    {
      "cell_type": "markdown",
      "metadata": {},
      "source": [
        "# Tratamento de dados duplicados"
      ]
    },
    {
      "cell_type": "markdown",
      "metadata": {},
      "source": [
        "## Verificando se há dados duplicados"
      ]
    },
    {
      "cell_type": "markdown",
      "metadata": {},
      "source": [
        "Como um mesmo jogo pode acontecer mais de uma vez, serão considerados duplicados os jogos que possuem o mesmo id."
      ]
    },
    {
      "cell_type": "code",
      "execution_count": 8,
      "metadata": {},
      "outputs": [],
      "source": [
        "duplicated_games = chess_games.duplicated(keep=False, subset=['id'])"
      ]
    },
    {
      "cell_type": "code",
      "execution_count": 9,
      "metadata": {},
      "outputs": [
        {
          "data": {
            "text/html": [
              "<div>\n",
              "<style scoped>\n",
              "    .dataframe tbody tr th:only-of-type {\n",
              "        vertical-align: middle;\n",
              "    }\n",
              "\n",
              "    .dataframe tbody tr th {\n",
              "        vertical-align: top;\n",
              "    }\n",
              "\n",
              "    .dataframe thead th {\n",
              "        text-align: right;\n",
              "    }\n",
              "</style>\n",
              "<table border=\"1\" class=\"dataframe\">\n",
              "  <thead>\n",
              "    <tr style=\"text-align: right;\">\n",
              "      <th></th>\n",
              "      <th>id</th>\n",
              "      <th>rated</th>\n",
              "      <th>created_at</th>\n",
              "      <th>last_move_at</th>\n",
              "      <th>turns</th>\n",
              "      <th>victory_status</th>\n",
              "      <th>winner</th>\n",
              "      <th>increment_code</th>\n",
              "      <th>white_id</th>\n",
              "      <th>white_rating</th>\n",
              "      <th>black_id</th>\n",
              "      <th>black_rating</th>\n",
              "      <th>moves</th>\n",
              "      <th>opening_eco</th>\n",
              "      <th>opening_name</th>\n",
              "      <th>opening_ply</th>\n",
              "    </tr>\n",
              "  </thead>\n",
              "  <tbody>\n",
              "    <tr>\n",
              "      <th>11279</th>\n",
              "      <td>30</td>\n",
              "      <td>True</td>\n",
              "      <td>1.396113e+12</td>\n",
              "      <td>1.396114e+12</td>\n",
              "      <td>66</td>\n",
              "      <td>0</td>\n",
              "      <td>1</td>\n",
              "      <td>26</td>\n",
              "      <td>2795</td>\n",
              "      <td>1630</td>\n",
              "      <td>8822</td>\n",
              "      <td>1584</td>\n",
              "      <td>17286</td>\n",
              "      <td>152</td>\n",
              "      <td>352</td>\n",
              "      <td>3</td>\n",
              "    </tr>\n",
              "    <tr>\n",
              "      <th>10570</th>\n",
              "      <td>30</td>\n",
              "      <td>True</td>\n",
              "      <td>1.396113e+12</td>\n",
              "      <td>1.396114e+12</td>\n",
              "      <td>66</td>\n",
              "      <td>0</td>\n",
              "      <td>1</td>\n",
              "      <td>26</td>\n",
              "      <td>2795</td>\n",
              "      <td>1630</td>\n",
              "      <td>8822</td>\n",
              "      <td>1584</td>\n",
              "      <td>17286</td>\n",
              "      <td>152</td>\n",
              "      <td>352</td>\n",
              "      <td>3</td>\n",
              "    </tr>\n",
              "    <tr>\n",
              "      <th>12208</th>\n",
              "      <td>37</td>\n",
              "      <td>True</td>\n",
              "      <td>1.504113e+12</td>\n",
              "      <td>1.504113e+12</td>\n",
              "      <td>32</td>\n",
              "      <td>3</td>\n",
              "      <td>0</td>\n",
              "      <td>19</td>\n",
              "      <td>9071</td>\n",
              "      <td>1448</td>\n",
              "      <td>6546</td>\n",
              "      <td>1436</td>\n",
              "      <td>4148</td>\n",
              "      <td>241</td>\n",
              "      <td>931</td>\n",
              "      <td>4</td>\n",
              "    </tr>\n",
              "    <tr>\n",
              "      <th>720</th>\n",
              "      <td>37</td>\n",
              "      <td>True</td>\n",
              "      <td>1.504110e+12</td>\n",
              "      <td>1.504110e+12</td>\n",
              "      <td>32</td>\n",
              "      <td>3</td>\n",
              "      <td>0</td>\n",
              "      <td>19</td>\n",
              "      <td>9071</td>\n",
              "      <td>1448</td>\n",
              "      <td>6546</td>\n",
              "      <td>1436</td>\n",
              "      <td>4148</td>\n",
              "      <td>241</td>\n",
              "      <td>931</td>\n",
              "      <td>4</td>\n",
              "    </tr>\n",
              "    <tr>\n",
              "      <th>3882</th>\n",
              "      <td>40</td>\n",
              "      <td>True</td>\n",
              "      <td>1.491950e+12</td>\n",
              "      <td>1.491960e+12</td>\n",
              "      <td>35</td>\n",
              "      <td>1</td>\n",
              "      <td>2</td>\n",
              "      <td>236</td>\n",
              "      <td>1664</td>\n",
              "      <td>1259</td>\n",
              "      <td>3636</td>\n",
              "      <td>1319</td>\n",
              "      <td>14968</td>\n",
              "      <td>193</td>\n",
              "      <td>777</td>\n",
              "      <td>4</td>\n",
              "    </tr>\n",
              "    <tr>\n",
              "      <th>18642</th>\n",
              "      <td>40</td>\n",
              "      <td>True</td>\n",
              "      <td>1.491955e+12</td>\n",
              "      <td>1.491955e+12</td>\n",
              "      <td>35</td>\n",
              "      <td>1</td>\n",
              "      <td>2</td>\n",
              "      <td>236</td>\n",
              "      <td>1664</td>\n",
              "      <td>1259</td>\n",
              "      <td>3636</td>\n",
              "      <td>1319</td>\n",
              "      <td>14968</td>\n",
              "      <td>193</td>\n",
              "      <td>777</td>\n",
              "      <td>4</td>\n",
              "    </tr>\n",
              "  </tbody>\n",
              "</table>\n",
              "</div>"
            ],
            "text/plain": [
              "       id  rated    created_at  last_move_at  turns  victory_status  winner  \\\n",
              "11279  30   True  1.396113e+12  1.396114e+12     66               0       1   \n",
              "10570  30   True  1.396113e+12  1.396114e+12     66               0       1   \n",
              "12208  37   True  1.504113e+12  1.504113e+12     32               3       0   \n",
              "720    37   True  1.504110e+12  1.504110e+12     32               3       0   \n",
              "3882   40   True  1.491950e+12  1.491960e+12     35               1       2   \n",
              "18642  40   True  1.491955e+12  1.491955e+12     35               1       2   \n",
              "\n",
              "       increment_code  white_id  white_rating  black_id  black_rating  moves  \\\n",
              "11279              26      2795          1630      8822          1584  17286   \n",
              "10570              26      2795          1630      8822          1584  17286   \n",
              "12208              19      9071          1448      6546          1436   4148   \n",
              "720                19      9071          1448      6546          1436   4148   \n",
              "3882              236      1664          1259      3636          1319  14968   \n",
              "18642             236      1664          1259      3636          1319  14968   \n",
              "\n",
              "       opening_eco  opening_name  opening_ply  \n",
              "11279          152           352            3  \n",
              "10570          152           352            3  \n",
              "12208          241           931            4  \n",
              "720            241           931            4  \n",
              "3882           193           777            4  \n",
              "18642          193           777            4  "
            ]
          },
          "execution_count": 9,
          "metadata": {},
          "output_type": "execute_result"
        }
      ],
      "source": [
        "chess_games[duplicated_games].sort_values(by='id').head(6)"
      ]
    },
    {
      "cell_type": "code",
      "execution_count": 10,
      "metadata": {},
      "outputs": [
        {
          "data": {
            "text/plain": [
              "(20058, 16)"
            ]
          },
          "execution_count": 10,
          "metadata": {},
          "output_type": "execute_result"
        }
      ],
      "source": [
        "# tamanho antes da remoção de dados duplicados\n",
        "chess_games.shape"
      ]
    },
    {
      "cell_type": "markdown",
      "metadata": {},
      "source": [
        "## Remoção de dados duplicados"
      ]
    },
    {
      "cell_type": "code",
      "execution_count": 11,
      "metadata": {},
      "outputs": [],
      "source": [
        "chess_games.drop_duplicates(inplace=True, subset=['id'])"
      ]
    },
    {
      "cell_type": "code",
      "execution_count": 12,
      "metadata": {},
      "outputs": [
        {
          "data": {
            "text/plain": [
              "(19113, 16)"
            ]
          },
          "execution_count": 12,
          "metadata": {},
          "output_type": "execute_result"
        }
      ],
      "source": [
        "chess_games.shape"
      ]
    },
    {
      "cell_type": "markdown",
      "metadata": {
        "id": "NXW15s_LD37Q"
      },
      "source": [
        "# Tratamento de dados ausentes"
      ]
    },
    {
      "cell_type": "code",
      "execution_count": 13,
      "metadata": {
        "colab": {
          "base_uri": "https://localhost:8080/"
        },
        "id": "mhocDl4nD_ep",
        "outputId": "d768e1ef-5617-4d80-f182-651bbd70ed39"
      },
      "outputs": [
        {
          "data": {
            "text/plain": [
              "(19113, 16)"
            ]
          },
          "execution_count": 13,
          "metadata": {},
          "output_type": "execute_result"
        }
      ],
      "source": [
        "chess_games.shape"
      ]
    },
    {
      "cell_type": "code",
      "execution_count": 14,
      "metadata": {
        "colab": {
          "base_uri": "https://localhost:8080/"
        },
        "id": "2vXFwG0YEDvo",
        "outputId": "a53df129-bc5b-4924-dd6f-a385638f9daa"
      },
      "outputs": [
        {
          "name": "stdout",
          "output_type": "stream",
          "text": [
            "id                0\n",
            "rated             0\n",
            "created_at        0\n",
            "last_move_at      0\n",
            "turns             0\n",
            "victory_status    0\n",
            "winner            0\n",
            "increment_code    0\n",
            "white_id          0\n",
            "white_rating      0\n",
            "black_id          0\n",
            "black_rating      0\n",
            "moves             0\n",
            "opening_eco       0\n",
            "opening_name      0\n",
            "opening_ply       0\n",
            "dtype: int64\n"
          ]
        }
      ],
      "source": [
        "# verificando se há dados ausentes\n",
        "print(chess_games.isnull().sum())"
      ]
    },
    {
      "cell_type": "markdown",
      "metadata": {
        "id": "BJmWjMN0EgIw"
      },
      "source": [
        "O dataset selecionado não contém dados ausentes, portanto será feita uma remoção aleatória de dados para que possa ser realizada uma imputação em seguida"
      ]
    },
    {
      "cell_type": "markdown",
      "metadata": {},
      "source": [
        "## Normalização"
      ]
    },
    {
      "cell_type": "markdown",
      "metadata": {},
      "source": [
        "Antes de realizar a imputação, é necessário normalizar os dados para que a imputação seja feita de forma correta. Apenas as colunas que se referem aos ratings dos jogadores serão utilizadas."
      ]
    },
    {
      "cell_type": "code",
      "execution_count": 15,
      "metadata": {},
      "outputs": [],
      "source": [
        "chess_games_norm = chess_games.copy()"
      ]
    },
    {
      "cell_type": "code",
      "execution_count": 16,
      "metadata": {},
      "outputs": [],
      "source": [
        "# normalização entre 0 e 1\n",
        "chess_games_norm['white_rating'] = (chess_games['white_rating'] - chess_games['white_rating'].min()) \\\n",
        "    / (chess_games['white_rating'].max() - chess_games['white_rating'].min())\n",
        "chess_games_norm['black_rating'] = (chess_games['black_rating'] - chess_games['black_rating'].min()) \\\n",
        "    / (chess_games['black_rating'].max() - chess_games['black_rating'].min())"
      ]
    },
    {
      "cell_type": "code",
      "execution_count": 17,
      "metadata": {},
      "outputs": [
        {
          "data": {
            "text/html": [
              "<div>\n",
              "<style scoped>\n",
              "    .dataframe tbody tr th:only-of-type {\n",
              "        vertical-align: middle;\n",
              "    }\n",
              "\n",
              "    .dataframe tbody tr th {\n",
              "        vertical-align: top;\n",
              "    }\n",
              "\n",
              "    .dataframe thead th {\n",
              "        text-align: right;\n",
              "    }\n",
              "</style>\n",
              "<table border=\"1\" class=\"dataframe\">\n",
              "  <thead>\n",
              "    <tr style=\"text-align: right;\">\n",
              "      <th></th>\n",
              "      <th>white_rating</th>\n",
              "      <th>black_rating</th>\n",
              "    </tr>\n",
              "  </thead>\n",
              "  <tbody>\n",
              "    <tr>\n",
              "      <th>count</th>\n",
              "      <td>19113.000000</td>\n",
              "      <td>19113.000000</td>\n",
              "    </tr>\n",
              "    <tr>\n",
              "      <th>mean</th>\n",
              "      <td>0.424478</td>\n",
              "      <td>0.414191</td>\n",
              "    </tr>\n",
              "    <tr>\n",
              "      <th>std</th>\n",
              "      <td>0.151369</td>\n",
              "      <td>0.150177</td>\n",
              "    </tr>\n",
              "    <tr>\n",
              "      <th>min</th>\n",
              "      <td>0.000000</td>\n",
              "      <td>0.000000</td>\n",
              "    </tr>\n",
              "    <tr>\n",
              "      <th>25%</th>\n",
              "      <td>0.322025</td>\n",
              "      <td>0.312823</td>\n",
              "    </tr>\n",
              "    <tr>\n",
              "      <th>50%</th>\n",
              "      <td>0.408664</td>\n",
              "      <td>0.400207</td>\n",
              "    </tr>\n",
              "    <tr>\n",
              "      <th>75%</th>\n",
              "      <td>0.526096</td>\n",
              "      <td>0.514995</td>\n",
              "    </tr>\n",
              "    <tr>\n",
              "      <th>max</th>\n",
              "      <td>1.000000</td>\n",
              "      <td>1.000000</td>\n",
              "    </tr>\n",
              "  </tbody>\n",
              "</table>\n",
              "</div>"
            ],
            "text/plain": [
              "       white_rating  black_rating\n",
              "count  19113.000000  19113.000000\n",
              "mean       0.424478      0.414191\n",
              "std        0.151369      0.150177\n",
              "min        0.000000      0.000000\n",
              "25%        0.322025      0.312823\n",
              "50%        0.408664      0.400207\n",
              "75%        0.526096      0.514995\n",
              "max        1.000000      1.000000"
            ]
          },
          "execution_count": 17,
          "metadata": {},
          "output_type": "execute_result"
        }
      ],
      "source": [
        "chess_games_norm[['white_rating', 'black_rating']].describe()"
      ]
    },
    {
      "cell_type": "markdown",
      "metadata": {},
      "source": [
        "## Remoção de dados"
      ]
    },
    {
      "cell_type": "code",
      "execution_count": 18,
      "metadata": {},
      "outputs": [],
      "source": [
        "# gerando indices aleatórios\n",
        "random_indices_white_rating = np.random.choice(chess_games.index, size=int(len(chess_games)*0.05), replace=False)\n",
        "random_indices_black_rating = np.random.choice(chess_games.index, size=int(len(chess_games)*0.05), replace=False)\n",
        "\n",
        "# substituindo valores por NaN\n",
        "chess_games2 = chess_games_norm.copy()\n",
        "chess_games2.loc[random_indices_white_rating, ['white_rating']] = np.nan\n",
        "chess_games2.loc[random_indices_black_rating, ['black_rating']] = np.nan"
      ]
    },
    {
      "cell_type": "code",
      "execution_count": 19,
      "metadata": {},
      "outputs": [
        {
          "data": {
            "text/plain": [
              "id                  0\n",
              "rated               0\n",
              "created_at          0\n",
              "last_move_at        0\n",
              "turns               0\n",
              "victory_status      0\n",
              "winner              0\n",
              "increment_code      0\n",
              "white_id            0\n",
              "white_rating      955\n",
              "black_id            0\n",
              "black_rating      955\n",
              "moves               0\n",
              "opening_eco         0\n",
              "opening_name        0\n",
              "opening_ply         0\n",
              "dtype: int64"
            ]
          },
          "execution_count": 19,
          "metadata": {},
          "output_type": "execute_result"
        }
      ],
      "source": [
        "chess_games2.isnull().sum()"
      ]
    },
    {
      "cell_type": "markdown",
      "metadata": {},
      "source": [
        "## Imputação de dados"
      ]
    },
    {
      "cell_type": "markdown",
      "metadata": {},
      "source": [
        "### Usando a média"
      ]
    },
    {
      "cell_type": "code",
      "execution_count": 20,
      "metadata": {},
      "outputs": [],
      "source": [
        "chess_games_mean_fill = chess_games2.copy()"
      ]
    },
    {
      "cell_type": "code",
      "execution_count": 21,
      "metadata": {},
      "outputs": [
        {
          "name": "stdout",
          "output_type": "stream",
          "text": [
            "white_rating\n",
            "mean: 0.42429824980954695\n",
            "median: 0.40866388308977036\n",
            "\n",
            "black_rating\n",
            "mean: 0.4143820364346374\n",
            "median: 0.40020682523267836\n"
          ]
        }
      ],
      "source": [
        "print(\"white_rating\")\n",
        "print(\"mean:\", chess_games_mean_fill['white_rating'].mean())\n",
        "print(\"median:\", chess_games_mean_fill['white_rating'].median(), end='\\n\\n')\n",
        "\n",
        "print(\"black_rating\")\n",
        "print(\"mean:\", chess_games_mean_fill['black_rating'].mean())\n",
        "print(\"median:\", chess_games_mean_fill['black_rating'].median())"
      ]
    },
    {
      "cell_type": "code",
      "execution_count": 22,
      "metadata": {},
      "outputs": [],
      "source": [
        "chess_games_mean_fill['white_rating'].fillna(chess_games2['white_rating'].mean(), inplace=True)\n",
        "chess_games_mean_fill['black_rating'].fillna(chess_games2['black_rating'].mean(), inplace=True)"
      ]
    },
    {
      "cell_type": "code",
      "execution_count": 23,
      "metadata": {},
      "outputs": [
        {
          "data": {
            "text/plain": [
              "id                0\n",
              "rated             0\n",
              "created_at        0\n",
              "last_move_at      0\n",
              "turns             0\n",
              "victory_status    0\n",
              "winner            0\n",
              "increment_code    0\n",
              "white_id          0\n",
              "white_rating      0\n",
              "black_id          0\n",
              "black_rating      0\n",
              "moves             0\n",
              "opening_eco       0\n",
              "opening_name      0\n",
              "opening_ply       0\n",
              "dtype: int64"
            ]
          },
          "execution_count": 23,
          "metadata": {},
          "output_type": "execute_result"
        }
      ],
      "source": [
        "chess_games_mean_fill.isnull().sum()"
      ]
    },
    {
      "cell_type": "code",
      "execution_count": 24,
      "metadata": {},
      "outputs": [
        {
          "name": "stdout",
          "output_type": "stream",
          "text": [
            "white_rating\n",
            "mean: 0.42429824980954695\n",
            "median: 0.4196242171189979\n",
            "\n",
            "black_rating\n",
            "mean: 0.41438203643463734\n",
            "median: 0.41003102378490175\n"
          ]
        }
      ],
      "source": [
        "print(\"white_rating\")\n",
        "print(\"mean:\", chess_games_mean_fill['white_rating'].mean())\n",
        "print(\"median:\", chess_games_mean_fill['white_rating'].median(), end='\\n\\n')\n",
        "\n",
        "print(\"black_rating\")\n",
        "print(\"mean:\", chess_games_mean_fill['black_rating'].mean())\n",
        "print(\"median:\", chess_games_mean_fill['black_rating'].median())"
      ]
    },
    {
      "cell_type": "markdown",
      "metadata": {},
      "source": [
        "Quando a média é utilizada, o seu valor é alterado, além de afetar o valor da mediana, deslocando-a para um valor mais próximo do seu próprio."
      ]
    },
    {
      "cell_type": "markdown",
      "metadata": {},
      "source": [
        "### Usando a mediana"
      ]
    },
    {
      "cell_type": "code",
      "execution_count": 25,
      "metadata": {},
      "outputs": [],
      "source": [
        "chess_games_median_fill = chess_games2.copy()"
      ]
    },
    {
      "cell_type": "code",
      "execution_count": 26,
      "metadata": {},
      "outputs": [
        {
          "name": "stdout",
          "output_type": "stream",
          "text": [
            "white_rating\n",
            "mean: 0.42429824980954695\n",
            "median: 0.40866388308977036\n",
            "\n",
            "black_rating\n",
            "mean: 0.4143820364346374\n",
            "median: 0.40020682523267836\n"
          ]
        }
      ],
      "source": [
        "print(\"white_rating\")\n",
        "print(\"mean:\", chess_games_median_fill['white_rating'].mean())\n",
        "print(\"median:\", chess_games_median_fill['white_rating'].median(), end='\\n\\n')\n",
        "\n",
        "print(\"black_rating\")\n",
        "print(\"mean:\", chess_games_median_fill['black_rating'].mean())\n",
        "print(\"median:\", chess_games_median_fill['black_rating'].median())"
      ]
    },
    {
      "cell_type": "code",
      "execution_count": 27,
      "metadata": {},
      "outputs": [],
      "source": [
        "chess_games_median_fill['white_rating'].fillna(chess_games2['white_rating'].median(), inplace=True)\n",
        "chess_games_median_fill['black_rating'].fillna(chess_games2['black_rating'].median(), inplace=True)"
      ]
    },
    {
      "cell_type": "code",
      "execution_count": 28,
      "metadata": {},
      "outputs": [
        {
          "data": {
            "text/plain": [
              "id                0\n",
              "rated             0\n",
              "created_at        0\n",
              "last_move_at      0\n",
              "turns             0\n",
              "victory_status    0\n",
              "winner            0\n",
              "increment_code    0\n",
              "white_id          0\n",
              "white_rating      0\n",
              "black_id          0\n",
              "black_rating      0\n",
              "moves             0\n",
              "opening_eco       0\n",
              "opening_name      0\n",
              "opening_ply       0\n",
              "dtype: int64"
            ]
          },
          "execution_count": 28,
          "metadata": {},
          "output_type": "execute_result"
        }
      ],
      "source": [
        "chess_games_median_fill.isnull().sum()"
      ]
    },
    {
      "cell_type": "code",
      "execution_count": 29,
      "metadata": {},
      "outputs": [
        {
          "name": "stdout",
          "output_type": "stream",
          "text": [
            "white_rating\n",
            "mean: 0.42351706317127\n",
            "median: 0.40866388308977036\n",
            "\n",
            "black_rating\n",
            "mean: 0.4136737579489014\n",
            "median: 0.40020682523267836\n"
          ]
        }
      ],
      "source": [
        "print(\"white_rating\")\n",
        "print(\"mean:\", chess_games_median_fill['white_rating'].mean())\n",
        "print(\"median:\", chess_games_median_fill['white_rating'].median(), end='\\n\\n')\n",
        "\n",
        "print(\"black_rating\")\n",
        "print(\"mean:\", chess_games_median_fill['black_rating'].mean())\n",
        "print(\"median:\", chess_games_median_fill['black_rating'].median())"
      ]
    },
    {
      "cell_type": "markdown",
      "metadata": {},
      "source": [
        "Quando a mediana é utilizada, o seu valor se mantém e o valor da média é levemente alterado, sem apresentar um grande impacto nas estatísticas originais."
      ]
    },
    {
      "cell_type": "markdown",
      "metadata": {},
      "source": [
        "### Usando um valor aleatório"
      ]
    },
    {
      "cell_type": "code",
      "execution_count": 30,
      "metadata": {},
      "outputs": [],
      "source": [
        "chess_games_random_fill = chess_games2.copy()"
      ]
    },
    {
      "cell_type": "code",
      "execution_count": 31,
      "metadata": {},
      "outputs": [
        {
          "name": "stdout",
          "output_type": "stream",
          "text": [
            "white_rating\n",
            "mean: 0.42429824980954695\n",
            "median: 0.40866388308977036\n",
            "\n",
            "black_rating\n",
            "mean: 0.4143820364346374\n",
            "median: 0.40020682523267836\n"
          ]
        }
      ],
      "source": [
        "print(\"white_rating\")\n",
        "print(\"mean:\", chess_games_random_fill['white_rating'].mean())\n",
        "print(\"median:\", chess_games_random_fill['white_rating'].median(), end='\\n\\n')\n",
        "\n",
        "print(\"black_rating\")\n",
        "print(\"mean:\", chess_games_random_fill['black_rating'].mean())\n",
        "print(\"median:\", chess_games_random_fill['black_rating'].median())"
      ]
    },
    {
      "cell_type": "code",
      "execution_count": 32,
      "metadata": {},
      "outputs": [],
      "source": [
        "# imputando valores aleatórios\n",
        "import random\n",
        "chess_games_random_fill['white_rating'].fillna(random.randint(chess_games2['white_rating'].min(), chess_games2['white_rating'].max()), inplace=True)\n",
        "chess_games_random_fill['black_rating'].fillna(random.randint(chess_games2['black_rating'].min(), chess_games2['black_rating'].max()), inplace=True)"
      ]
    },
    {
      "cell_type": "code",
      "execution_count": 33,
      "metadata": {},
      "outputs": [
        {
          "data": {
            "text/plain": [
              "id                0\n",
              "rated             0\n",
              "created_at        0\n",
              "last_move_at      0\n",
              "turns             0\n",
              "victory_status    0\n",
              "winner            0\n",
              "increment_code    0\n",
              "white_id          0\n",
              "white_rating      0\n",
              "black_id          0\n",
              "black_rating      0\n",
              "moves             0\n",
              "opening_eco       0\n",
              "opening_name      0\n",
              "opening_ply       0\n",
              "dtype: int64"
            ]
          },
          "execution_count": 33,
          "metadata": {},
          "output_type": "execute_result"
        }
      ],
      "source": [
        "chess_games_random_fill.isnull().sum()"
      ]
    },
    {
      "cell_type": "code",
      "execution_count": 34,
      "metadata": {},
      "outputs": [
        {
          "name": "stdout",
          "output_type": "stream",
          "text": [
            "white_rating\n",
            "mean: 0.45306375870045273\n",
            "median: 0.4196242171189979\n",
            "\n",
            "black_rating\n",
            "mean: 0.44364301876106027\n",
            "median: 0.41003102378490175\n"
          ]
        }
      ],
      "source": [
        "print(\"white_rating\")\n",
        "print(\"mean:\", chess_games_random_fill['white_rating'].mean())\n",
        "print(\"median:\", chess_games_random_fill['white_rating'].median(), end='\\n\\n')\n",
        "\n",
        "print(\"black_rating\")\n",
        "print(\"mean:\", chess_games_random_fill['black_rating'].mean())\n",
        "print(\"median:\", chess_games_random_fill['black_rating'].median())"
      ]
    },
    {
      "cell_type": "markdown",
      "metadata": {},
      "source": [
        "A utilização de valores aleatórios se mostra uma opção ruim para a imputação de dados, pois pode distorcer as estatísticas originais do dataset, perdendo assim informações importantes."
      ]
    },
    {
      "cell_type": "markdown",
      "metadata": {},
      "source": [
        "### Usando um preditor KNN"
      ]
    },
    {
      "cell_type": "code",
      "execution_count": 35,
      "metadata": {},
      "outputs": [],
      "source": [
        "chess_games_knn_fill = chess_games2.copy()"
      ]
    },
    {
      "cell_type": "markdown",
      "metadata": {},
      "source": [
        "#### Executando o KNN"
      ]
    },
    {
      "cell_type": "code",
      "execution_count": 36,
      "metadata": {},
      "outputs": [
        {
          "name": "stdout",
          "output_type": "stream",
          "text": [
            "Requirement already satisfied: fancyimpute in /home/vinicius/.local/lib/python3.8/site-packages (0.7.0)\n",
            "Requirement already satisfied: nose in /home/vinicius/.local/lib/python3.8/site-packages (from fancyimpute) (1.3.7)\n",
            "Requirement already satisfied: knnimpute>=0.1.0 in /home/vinicius/.local/lib/python3.8/site-packages (from fancyimpute) (0.1.0)\n",
            "Requirement already satisfied: pytest in /home/vinicius/.local/lib/python3.8/site-packages (from fancyimpute) (8.2.0)\n",
            "Requirement already satisfied: scikit-learn>=0.24.2 in /home/vinicius/.local/lib/python3.8/site-packages (from fancyimpute) (1.3.2)\n",
            "Requirement already satisfied: cvxpy in /home/vinicius/.local/lib/python3.8/site-packages (from fancyimpute) (1.5.1)\n",
            "Requirement already satisfied: cvxopt in /home/vinicius/.local/lib/python3.8/site-packages (from fancyimpute) (1.3.2)\n",
            "Requirement already satisfied: six in /usr/lib/python3/dist-packages (from knnimpute>=0.1.0->fancyimpute) (1.14.0)\n",
            "Requirement already satisfied: numpy>=1.10 in /home/vinicius/.local/lib/python3.8/site-packages (from knnimpute>=0.1.0->fancyimpute) (1.24.4)\n",
            "Requirement already satisfied: tomli>=1; python_version < \"3.11\" in /home/vinicius/.local/lib/python3.8/site-packages (from pytest->fancyimpute) (2.0.1)\n",
            "Requirement already satisfied: packaging in /home/vinicius/.local/lib/python3.8/site-packages (from pytest->fancyimpute) (23.2)\n",
            "Requirement already satisfied: exceptiongroup>=1.0.0rc8; python_version < \"3.11\" in /home/vinicius/.local/lib/python3.8/site-packages (from pytest->fancyimpute) (1.2.1)\n",
            "Requirement already satisfied: iniconfig in /home/vinicius/.local/lib/python3.8/site-packages (from pytest->fancyimpute) (2.0.0)\n",
            "Requirement already satisfied: pluggy<2.0,>=1.5 in /home/vinicius/.local/lib/python3.8/site-packages (from pytest->fancyimpute) (1.5.0)\n",
            "Requirement already satisfied: joblib>=1.1.1 in /home/vinicius/.local/lib/python3.8/site-packages (from scikit-learn>=0.24.2->fancyimpute) (1.4.2)\n",
            "Requirement already satisfied: scipy>=1.5.0 in /home/vinicius/.local/lib/python3.8/site-packages (from scikit-learn>=0.24.2->fancyimpute) (1.10.1)\n",
            "Requirement already satisfied: threadpoolctl>=2.0.0 in /home/vinicius/.local/lib/python3.8/site-packages (from scikit-learn>=0.24.2->fancyimpute) (3.5.0)\n",
            "Requirement already satisfied: scs>=3.2.4.post1 in /home/vinicius/.local/lib/python3.8/site-packages (from cvxpy->fancyimpute) (3.2.4.post1)\n",
            "Requirement already satisfied: ecos>=2 in /home/vinicius/.local/lib/python3.8/site-packages (from cvxpy->fancyimpute) (2.0.13)\n",
            "Requirement already satisfied: osqp>=0.6.2 in /home/vinicius/.local/lib/python3.8/site-packages (from cvxpy->fancyimpute) (0.6.5)\n",
            "Requirement already satisfied: clarabel>=0.5.0 in /home/vinicius/.local/lib/python3.8/site-packages (from cvxpy->fancyimpute) (0.7.1)\n",
            "Requirement already satisfied: qdldl in /home/vinicius/.local/lib/python3.8/site-packages (from osqp>=0.6.2->cvxpy->fancyimpute) (0.1.7.post2)\n",
            "Note: you may need to restart the kernel to use updated packages.\n"
          ]
        }
      ],
      "source": [
        "%pip install fancyimpute"
      ]
    },
    {
      "cell_type": "code",
      "execution_count": 37,
      "metadata": {},
      "outputs": [
        {
          "name": "stdout",
          "output_type": "stream",
          "text": [
            "Imputing row 1/19113 with 0 missing, elapsed time: 63.031\n",
            "Imputing row 101/19113 with 0 missing, elapsed time: 63.033\n",
            "Imputing row 201/19113 with 0 missing, elapsed time: 63.034\n",
            "Imputing row 301/19113 with 1 missing, elapsed time: 63.036\n",
            "Imputing row 401/19113 with 0 missing, elapsed time: 63.037\n",
            "Imputing row 501/19113 with 0 missing, elapsed time: 63.037\n",
            "Imputing row 601/19113 with 0 missing, elapsed time: 63.038\n",
            "Imputing row 701/19113 with 0 missing, elapsed time: 63.039\n",
            "Imputing row 801/19113 with 0 missing, elapsed time: 63.040\n",
            "Imputing row 901/19113 with 0 missing, elapsed time: 63.041\n",
            "Imputing row 1001/19113 with 0 missing, elapsed time: 63.042\n",
            "Imputing row 1101/19113 with 0 missing, elapsed time: 63.043\n",
            "Imputing row 1201/19113 with 0 missing, elapsed time: 63.044\n",
            "Imputing row 1301/19113 with 0 missing, elapsed time: 63.044\n",
            "Imputing row 1401/19113 with 0 missing, elapsed time: 63.045\n",
            "Imputing row 1501/19113 with 0 missing, elapsed time: 63.046\n",
            "Imputing row 1601/19113 with 0 missing, elapsed time: 63.046\n",
            "Imputing row 1701/19113 with 0 missing, elapsed time: 63.047\n",
            "Imputing row 1801/19113 with 0 missing, elapsed time: 63.048\n",
            "Imputing row 1901/19113 with 0 missing, elapsed time: 63.049\n",
            "Imputing row 2001/19113 with 0 missing, elapsed time: 63.050\n",
            "Imputing row 2101/19113 with 0 missing, elapsed time: 63.051\n",
            "Imputing row 2201/19113 with 0 missing, elapsed time: 63.052\n",
            "Imputing row 2301/19113 with 0 missing, elapsed time: 63.052\n",
            "Imputing row 2401/19113 with 1 missing, elapsed time: 63.053\n",
            "Imputing row 2501/19113 with 0 missing, elapsed time: 63.054\n",
            "Imputing row 2601/19113 with 1 missing, elapsed time: 63.054\n",
            "Imputing row 2701/19113 with 1 missing, elapsed time: 63.055\n",
            "Imputing row 2801/19113 with 1 missing, elapsed time: 63.056\n",
            "Imputing row 2901/19113 with 0 missing, elapsed time: 63.057\n",
            "Imputing row 3001/19113 with 0 missing, elapsed time: 63.058\n",
            "Imputing row 3101/19113 with 0 missing, elapsed time: 63.059\n",
            "Imputing row 3201/19113 with 1 missing, elapsed time: 63.060\n",
            "Imputing row 3301/19113 with 0 missing, elapsed time: 63.061\n",
            "Imputing row 3401/19113 with 0 missing, elapsed time: 63.062\n",
            "Imputing row 3501/19113 with 0 missing, elapsed time: 63.063\n",
            "Imputing row 3601/19113 with 0 missing, elapsed time: 63.064\n",
            "Imputing row 3701/19113 with 0 missing, elapsed time: 63.064\n",
            "Imputing row 3801/19113 with 0 missing, elapsed time: 63.065\n",
            "Imputing row 3901/19113 with 0 missing, elapsed time: 63.066\n",
            "Imputing row 4001/19113 with 1 missing, elapsed time: 63.068\n",
            "Imputing row 4101/19113 with 0 missing, elapsed time: 63.069\n",
            "Imputing row 4201/19113 with 0 missing, elapsed time: 63.070\n",
            "Imputing row 4301/19113 with 0 missing, elapsed time: 63.070\n",
            "Imputing row 4401/19113 with 0 missing, elapsed time: 63.071\n",
            "Imputing row 4501/19113 with 0 missing, elapsed time: 63.072\n",
            "Imputing row 4601/19113 with 0 missing, elapsed time: 63.073\n",
            "Imputing row 4701/19113 with 0 missing, elapsed time: 63.075\n",
            "Imputing row 4801/19113 with 0 missing, elapsed time: 63.076\n",
            "Imputing row 4901/19113 with 0 missing, elapsed time: 63.077\n",
            "Imputing row 5001/19113 with 0 missing, elapsed time: 63.078\n",
            "Imputing row 5101/19113 with 0 missing, elapsed time: 63.078\n",
            "Imputing row 5201/19113 with 0 missing, elapsed time: 63.079\n",
            "Imputing row 5301/19113 with 0 missing, elapsed time: 63.080\n",
            "Imputing row 5401/19113 with 0 missing, elapsed time: 63.081\n",
            "Imputing row 5501/19113 with 0 missing, elapsed time: 63.082\n",
            "Imputing row 5601/19113 with 1 missing, elapsed time: 63.083\n",
            "Imputing row 5701/19113 with 0 missing, elapsed time: 63.083\n",
            "Imputing row 5801/19113 with 0 missing, elapsed time: 63.085\n",
            "Imputing row 5901/19113 with 0 missing, elapsed time: 63.085\n",
            "Imputing row 6001/19113 with 0 missing, elapsed time: 63.086\n",
            "Imputing row 6101/19113 with 0 missing, elapsed time: 63.088\n",
            "Imputing row 6201/19113 with 0 missing, elapsed time: 63.088\n",
            "Imputing row 6301/19113 with 0 missing, elapsed time: 63.089\n",
            "Imputing row 6401/19113 with 0 missing, elapsed time: 63.090\n",
            "Imputing row 6501/19113 with 0 missing, elapsed time: 63.091\n",
            "Imputing row 6601/19113 with 0 missing, elapsed time: 63.092\n",
            "Imputing row 6701/19113 with 0 missing, elapsed time: 63.093\n",
            "Imputing row 6801/19113 with 1 missing, elapsed time: 63.094\n",
            "Imputing row 6901/19113 with 0 missing, elapsed time: 63.095\n",
            "Imputing row 7001/19113 with 0 missing, elapsed time: 63.096\n",
            "Imputing row 7101/19113 with 0 missing, elapsed time: 63.097\n",
            "Imputing row 7201/19113 with 1 missing, elapsed time: 63.098\n",
            "Imputing row 7301/19113 with 0 missing, elapsed time: 63.099\n",
            "Imputing row 7401/19113 with 0 missing, elapsed time: 63.100\n",
            "Imputing row 7501/19113 with 0 missing, elapsed time: 63.101\n",
            "Imputing row 7601/19113 with 1 missing, elapsed time: 63.101\n",
            "Imputing row 7701/19113 with 0 missing, elapsed time: 63.103\n",
            "Imputing row 7801/19113 with 0 missing, elapsed time: 63.104\n",
            "Imputing row 7901/19113 with 0 missing, elapsed time: 63.104\n",
            "Imputing row 8001/19113 with 0 missing, elapsed time: 63.105\n",
            "Imputing row 8101/19113 with 0 missing, elapsed time: 63.106\n",
            "Imputing row 8201/19113 with 0 missing, elapsed time: 63.107\n",
            "Imputing row 8301/19113 with 0 missing, elapsed time: 63.108\n",
            "Imputing row 8401/19113 with 0 missing, elapsed time: 63.109\n",
            "Imputing row 8501/19113 with 0 missing, elapsed time: 63.110\n",
            "Imputing row 8601/19113 with 0 missing, elapsed time: 63.111\n",
            "Imputing row 8701/19113 with 0 missing, elapsed time: 63.111\n",
            "Imputing row 8801/19113 with 0 missing, elapsed time: 63.112\n",
            "Imputing row 8901/19113 with 0 missing, elapsed time: 63.113\n",
            "Imputing row 9001/19113 with 0 missing, elapsed time: 63.113\n",
            "Imputing row 9101/19113 with 0 missing, elapsed time: 63.114\n",
            "Imputing row 9201/19113 with 0 missing, elapsed time: 63.115\n",
            "Imputing row 9301/19113 with 1 missing, elapsed time: 63.116\n",
            "Imputing row 9401/19113 with 0 missing, elapsed time: 63.117\n",
            "Imputing row 9501/19113 with 0 missing, elapsed time: 63.118\n",
            "Imputing row 9601/19113 with 0 missing, elapsed time: 63.119\n",
            "Imputing row 9701/19113 with 0 missing, elapsed time: 63.120\n",
            "Imputing row 9801/19113 with 0 missing, elapsed time: 63.121\n",
            "Imputing row 9901/19113 with 0 missing, elapsed time: 63.122\n",
            "Imputing row 10001/19113 with 0 missing, elapsed time: 63.123\n",
            "Imputing row 10101/19113 with 0 missing, elapsed time: 63.124\n",
            "Imputing row 10201/19113 with 0 missing, elapsed time: 63.125\n",
            "Imputing row 10301/19113 with 0 missing, elapsed time: 63.126\n",
            "Imputing row 10401/19113 with 0 missing, elapsed time: 63.127\n",
            "Imputing row 10501/19113 with 1 missing, elapsed time: 63.128\n",
            "Imputing row 10601/19113 with 0 missing, elapsed time: 63.130\n",
            "Imputing row 10701/19113 with 0 missing, elapsed time: 63.131\n",
            "Imputing row 10801/19113 with 0 missing, elapsed time: 63.132\n",
            "Imputing row 10901/19113 with 0 missing, elapsed time: 63.133\n",
            "Imputing row 11001/19113 with 0 missing, elapsed time: 63.133\n",
            "Imputing row 11101/19113 with 1 missing, elapsed time: 63.134\n",
            "Imputing row 11201/19113 with 0 missing, elapsed time: 63.135\n",
            "Imputing row 11301/19113 with 0 missing, elapsed time: 63.136\n",
            "Imputing row 11401/19113 with 0 missing, elapsed time: 63.137\n",
            "Imputing row 11501/19113 with 0 missing, elapsed time: 63.138\n",
            "Imputing row 11601/19113 with 0 missing, elapsed time: 63.139\n",
            "Imputing row 11701/19113 with 0 missing, elapsed time: 63.140\n",
            "Imputing row 11801/19113 with 0 missing, elapsed time: 63.141\n",
            "Imputing row 11901/19113 with 0 missing, elapsed time: 63.141\n",
            "Imputing row 12001/19113 with 0 missing, elapsed time: 63.142\n",
            "Imputing row 12101/19113 with 0 missing, elapsed time: 63.143\n",
            "Imputing row 12201/19113 with 0 missing, elapsed time: 63.144\n",
            "Imputing row 12301/19113 with 0 missing, elapsed time: 63.145\n",
            "Imputing row 12401/19113 with 0 missing, elapsed time: 63.145\n",
            "Imputing row 12501/19113 with 0 missing, elapsed time: 63.147\n",
            "Imputing row 12601/19113 with 0 missing, elapsed time: 63.148\n",
            "Imputing row 12701/19113 with 0 missing, elapsed time: 63.149\n",
            "Imputing row 12801/19113 with 1 missing, elapsed time: 63.150\n",
            "Imputing row 12901/19113 with 0 missing, elapsed time: 63.150\n",
            "Imputing row 13001/19113 with 1 missing, elapsed time: 63.151\n",
            "Imputing row 13101/19113 with 1 missing, elapsed time: 63.152\n",
            "Imputing row 13201/19113 with 0 missing, elapsed time: 63.153\n",
            "Imputing row 13301/19113 with 0 missing, elapsed time: 63.155\n",
            "Imputing row 13401/19113 with 0 missing, elapsed time: 63.155\n",
            "Imputing row 13501/19113 with 0 missing, elapsed time: 63.156\n",
            "Imputing row 13601/19113 with 0 missing, elapsed time: 63.157\n",
            "Imputing row 13701/19113 with 0 missing, elapsed time: 63.157\n",
            "Imputing row 13801/19113 with 0 missing, elapsed time: 63.158\n",
            "Imputing row 13901/19113 with 0 missing, elapsed time: 63.159\n",
            "Imputing row 14001/19113 with 0 missing, elapsed time: 63.160\n",
            "Imputing row 14101/19113 with 0 missing, elapsed time: 63.161\n",
            "Imputing row 14201/19113 with 0 missing, elapsed time: 63.162\n",
            "Imputing row 14301/19113 with 0 missing, elapsed time: 63.163\n",
            "Imputing row 14401/19113 with 0 missing, elapsed time: 63.164\n",
            "Imputing row 14501/19113 with 0 missing, elapsed time: 63.165\n",
            "Imputing row 14601/19113 with 0 missing, elapsed time: 63.166\n",
            "Imputing row 14701/19113 with 0 missing, elapsed time: 63.167\n",
            "Imputing row 14801/19113 with 0 missing, elapsed time: 63.168\n",
            "Imputing row 14901/19113 with 1 missing, elapsed time: 63.169\n",
            "Imputing row 15001/19113 with 0 missing, elapsed time: 63.170\n",
            "Imputing row 15101/19113 with 0 missing, elapsed time: 63.171\n",
            "Imputing row 15201/19113 with 1 missing, elapsed time: 63.172\n",
            "Imputing row 15301/19113 with 0 missing, elapsed time: 63.173\n",
            "Imputing row 15401/19113 with 0 missing, elapsed time: 63.174\n",
            "Imputing row 15501/19113 with 0 missing, elapsed time: 63.175\n",
            "Imputing row 15601/19113 with 0 missing, elapsed time: 63.177\n",
            "Imputing row 15701/19113 with 0 missing, elapsed time: 63.177\n",
            "Imputing row 15801/19113 with 0 missing, elapsed time: 63.178\n",
            "Imputing row 15901/19113 with 0 missing, elapsed time: 63.180\n",
            "Imputing row 16001/19113 with 0 missing, elapsed time: 63.180\n",
            "Imputing row 16101/19113 with 0 missing, elapsed time: 63.182\n",
            "Imputing row 16201/19113 with 0 missing, elapsed time: 63.182\n",
            "Imputing row 16301/19113 with 0 missing, elapsed time: 63.183\n",
            "Imputing row 16401/19113 with 1 missing, elapsed time: 63.184\n",
            "Imputing row 16501/19113 with 0 missing, elapsed time: 63.185\n",
            "Imputing row 16601/19113 with 0 missing, elapsed time: 63.186\n",
            "Imputing row 16701/19113 with 0 missing, elapsed time: 63.187\n",
            "Imputing row 16801/19113 with 0 missing, elapsed time: 63.188\n",
            "Imputing row 16901/19113 with 0 missing, elapsed time: 63.189\n",
            "Imputing row 17001/19113 with 0 missing, elapsed time: 63.190\n",
            "Imputing row 17101/19113 with 0 missing, elapsed time: 63.191\n",
            "Imputing row 17201/19113 with 0 missing, elapsed time: 63.192\n",
            "Imputing row 17301/19113 with 0 missing, elapsed time: 63.193\n",
            "Imputing row 17401/19113 with 0 missing, elapsed time: 63.194\n",
            "Imputing row 17501/19113 with 0 missing, elapsed time: 63.194\n",
            "Imputing row 17601/19113 with 0 missing, elapsed time: 63.196\n",
            "Imputing row 17701/19113 with 0 missing, elapsed time: 63.196\n",
            "Imputing row 17801/19113 with 0 missing, elapsed time: 63.197\n",
            "Imputing row 17901/19113 with 0 missing, elapsed time: 63.198\n",
            "Imputing row 18001/19113 with 0 missing, elapsed time: 63.200\n",
            "Imputing row 18101/19113 with 0 missing, elapsed time: 63.200\n",
            "Imputing row 18201/19113 with 0 missing, elapsed time: 63.201\n",
            "Imputing row 18301/19113 with 0 missing, elapsed time: 63.202\n",
            "Imputing row 18401/19113 with 0 missing, elapsed time: 63.203\n",
            "Imputing row 18501/19113 with 0 missing, elapsed time: 63.203\n",
            "Imputing row 18601/19113 with 0 missing, elapsed time: 63.204\n",
            "Imputing row 18701/19113 with 0 missing, elapsed time: 63.205\n",
            "Imputing row 18801/19113 with 0 missing, elapsed time: 63.206\n",
            "Imputing row 18901/19113 with 0 missing, elapsed time: 63.207\n",
            "Imputing row 19001/19113 with 0 missing, elapsed time: 63.208\n",
            "Imputing row 19101/19113 with 0 missing, elapsed time: 63.209\n"
          ]
        }
      ],
      "source": [
        "from fancyimpute import KNN\n",
        "chess_games_knn = KNN(k=3).fit_transform(chess_games_knn_fill)"
      ]
    },
    {
      "cell_type": "code",
      "execution_count": 38,
      "metadata": {},
      "outputs": [],
      "source": [
        "chess_games_knn_fill = pd.DataFrame(chess_games_knn, columns=chess_games_knn_fill.columns, index=chess_games_knn_fill.index)"
      ]
    },
    {
      "cell_type": "code",
      "execution_count": 39,
      "metadata": {},
      "outputs": [
        {
          "data": {
            "text/html": [
              "<div>\n",
              "<style scoped>\n",
              "    .dataframe tbody tr th:only-of-type {\n",
              "        vertical-align: middle;\n",
              "    }\n",
              "\n",
              "    .dataframe tbody tr th {\n",
              "        vertical-align: top;\n",
              "    }\n",
              "\n",
              "    .dataframe thead th {\n",
              "        text-align: right;\n",
              "    }\n",
              "</style>\n",
              "<table border=\"1\" class=\"dataframe\">\n",
              "  <thead>\n",
              "    <tr style=\"text-align: right;\">\n",
              "      <th></th>\n",
              "      <th>id</th>\n",
              "      <th>rated</th>\n",
              "      <th>created_at</th>\n",
              "      <th>last_move_at</th>\n",
              "      <th>turns</th>\n",
              "      <th>victory_status</th>\n",
              "      <th>winner</th>\n",
              "      <th>increment_code</th>\n",
              "      <th>white_id</th>\n",
              "      <th>white_rating</th>\n",
              "      <th>black_id</th>\n",
              "      <th>black_rating</th>\n",
              "      <th>moves</th>\n",
              "      <th>opening_eco</th>\n",
              "      <th>opening_name</th>\n",
              "      <th>opening_ply</th>\n",
              "    </tr>\n",
              "  </thead>\n",
              "  <tbody>\n",
              "    <tr>\n",
              "      <th>0</th>\n",
              "      <td>9068.0</td>\n",
              "      <td>0.0</td>\n",
              "      <td>1.504210e+12</td>\n",
              "      <td>1.504210e+12</td>\n",
              "      <td>13.0</td>\n",
              "      <td>2.0</td>\n",
              "      <td>2.0</td>\n",
              "      <td>110.0</td>\n",
              "      <td>1287.0</td>\n",
              "      <td>0.373695</td>\n",
              "      <td>11.0</td>\n",
              "      <td>0.207859</td>\n",
              "      <td>4524.0</td>\n",
              "      <td>248.0</td>\n",
              "      <td>1387.0</td>\n",
              "      <td>5.0</td>\n",
              "    </tr>\n",
              "    <tr>\n",
              "      <th>1</th>\n",
              "      <td>14512.0</td>\n",
              "      <td>1.0</td>\n",
              "      <td>1.504130e+12</td>\n",
              "      <td>1.504130e+12</td>\n",
              "      <td>16.0</td>\n",
              "      <td>3.0</td>\n",
              "      <td>0.0</td>\n",
              "      <td>298.0</td>\n",
              "      <td>16.0</td>\n",
              "      <td>0.280793</td>\n",
              "      <td>7748.0</td>\n",
              "      <td>0.244054</td>\n",
              "      <td>1987.0</td>\n",
              "      <td>71.0</td>\n",
              "      <td>750.0</td>\n",
              "      <td>4.0</td>\n",
              "    </tr>\n",
              "    <tr>\n",
              "      <th>2</th>\n",
              "      <td>14904.0</td>\n",
              "      <td>1.0</td>\n",
              "      <td>1.504130e+12</td>\n",
              "      <td>1.504130e+12</td>\n",
              "      <td>61.0</td>\n",
              "      <td>1.0</td>\n",
              "      <td>2.0</td>\n",
              "      <td>298.0</td>\n",
              "      <td>3823.0</td>\n",
              "      <td>0.371608</td>\n",
              "      <td>11.0</td>\n",
              "      <td>0.367632</td>\n",
              "      <td>16383.0</td>\n",
              "      <td>171.0</td>\n",
              "      <td>650.0</td>\n",
              "      <td>3.0</td>\n",
              "    </tr>\n",
              "    <tr>\n",
              "      <th>3</th>\n",
              "      <td>14350.0</td>\n",
              "      <td>1.0</td>\n",
              "      <td>1.504110e+12</td>\n",
              "      <td>1.504110e+12</td>\n",
              "      <td>61.0</td>\n",
              "      <td>1.0</td>\n",
              "      <td>2.0</td>\n",
              "      <td>187.0</td>\n",
              "      <td>2017.0</td>\n",
              "      <td>0.341858</td>\n",
              "      <td>134.0</td>\n",
              "      <td>0.343847</td>\n",
              "      <td>3770.0</td>\n",
              "      <td>241.0</td>\n",
              "      <td>992.0</td>\n",
              "      <td>3.0</td>\n",
              "    </tr>\n",
              "    <tr>\n",
              "      <th>4</th>\n",
              "      <td>3091.0</td>\n",
              "      <td>1.0</td>\n",
              "      <td>1.504030e+12</td>\n",
              "      <td>1.504030e+12</td>\n",
              "      <td>95.0</td>\n",
              "      <td>1.0</td>\n",
              "      <td>2.0</td>\n",
              "      <td>247.0</td>\n",
              "      <td>6056.0</td>\n",
              "      <td>0.385699</td>\n",
              "      <td>134.0</td>\n",
              "      <td>0.351603</td>\n",
              "      <td>15622.0</td>\n",
              "      <td>192.0</td>\n",
              "      <td>783.0</td>\n",
              "      <td>5.0</td>\n",
              "    </tr>\n",
              "  </tbody>\n",
              "</table>\n",
              "</div>"
            ],
            "text/plain": [
              "        id  rated    created_at  last_move_at  turns  victory_status  winner  \\\n",
              "0   9068.0    0.0  1.504210e+12  1.504210e+12   13.0             2.0     2.0   \n",
              "1  14512.0    1.0  1.504130e+12  1.504130e+12   16.0             3.0     0.0   \n",
              "2  14904.0    1.0  1.504130e+12  1.504130e+12   61.0             1.0     2.0   \n",
              "3  14350.0    1.0  1.504110e+12  1.504110e+12   61.0             1.0     2.0   \n",
              "4   3091.0    1.0  1.504030e+12  1.504030e+12   95.0             1.0     2.0   \n",
              "\n",
              "   increment_code  white_id  white_rating  black_id  black_rating    moves  \\\n",
              "0           110.0    1287.0      0.373695      11.0      0.207859   4524.0   \n",
              "1           298.0      16.0      0.280793    7748.0      0.244054   1987.0   \n",
              "2           298.0    3823.0      0.371608      11.0      0.367632  16383.0   \n",
              "3           187.0    2017.0      0.341858     134.0      0.343847   3770.0   \n",
              "4           247.0    6056.0      0.385699     134.0      0.351603  15622.0   \n",
              "\n",
              "   opening_eco  opening_name  opening_ply  \n",
              "0        248.0        1387.0          5.0  \n",
              "1         71.0         750.0          4.0  \n",
              "2        171.0         650.0          3.0  \n",
              "3        241.0         992.0          3.0  \n",
              "4        192.0         783.0          5.0  "
            ]
          },
          "execution_count": 39,
          "metadata": {},
          "output_type": "execute_result"
        }
      ],
      "source": [
        "chess_games_knn_fill.head()"
      ]
    },
    {
      "cell_type": "code",
      "execution_count": 40,
      "metadata": {},
      "outputs": [
        {
          "data": {
            "text/plain": [
              "id                0\n",
              "rated             0\n",
              "created_at        0\n",
              "last_move_at      0\n",
              "turns             0\n",
              "victory_status    0\n",
              "winner            0\n",
              "increment_code    0\n",
              "white_id          0\n",
              "white_rating      0\n",
              "black_id          0\n",
              "black_rating      0\n",
              "moves             0\n",
              "opening_eco       0\n",
              "opening_name      0\n",
              "opening_ply       0\n",
              "dtype: int64"
            ]
          },
          "execution_count": 40,
          "metadata": {},
          "output_type": "execute_result"
        }
      ],
      "source": [
        "chess_games_knn_fill.isnull().sum()"
      ]
    },
    {
      "cell_type": "code",
      "execution_count": 41,
      "metadata": {},
      "outputs": [
        {
          "data": {
            "text/html": [
              "<div>\n",
              "<style scoped>\n",
              "    .dataframe tbody tr th:only-of-type {\n",
              "        vertical-align: middle;\n",
              "    }\n",
              "\n",
              "    .dataframe tbody tr th {\n",
              "        vertical-align: top;\n",
              "    }\n",
              "\n",
              "    .dataframe thead th {\n",
              "        text-align: right;\n",
              "    }\n",
              "</style>\n",
              "<table border=\"1\" class=\"dataframe\">\n",
              "  <thead>\n",
              "    <tr style=\"text-align: right;\">\n",
              "      <th></th>\n",
              "      <th>white_rating</th>\n",
              "      <th>black_rating</th>\n",
              "    </tr>\n",
              "  </thead>\n",
              "  <tbody>\n",
              "    <tr>\n",
              "      <th>count</th>\n",
              "      <td>19113.000000</td>\n",
              "      <td>19113.000000</td>\n",
              "    </tr>\n",
              "    <tr>\n",
              "      <th>mean</th>\n",
              "      <td>0.423946</td>\n",
              "      <td>0.414228</td>\n",
              "    </tr>\n",
              "    <tr>\n",
              "      <th>std</th>\n",
              "      <td>0.150486</td>\n",
              "      <td>0.148953</td>\n",
              "    </tr>\n",
              "    <tr>\n",
              "      <th>min</th>\n",
              "      <td>0.000000</td>\n",
              "      <td>0.000000</td>\n",
              "    </tr>\n",
              "    <tr>\n",
              "      <th>25%</th>\n",
              "      <td>0.322547</td>\n",
              "      <td>0.314818</td>\n",
              "    </tr>\n",
              "    <tr>\n",
              "      <th>50%</th>\n",
              "      <td>0.409186</td>\n",
              "      <td>0.400207</td>\n",
              "    </tr>\n",
              "    <tr>\n",
              "      <th>75%</th>\n",
              "      <td>0.524530</td>\n",
              "      <td>0.512927</td>\n",
              "    </tr>\n",
              "    <tr>\n",
              "      <th>max</th>\n",
              "      <td>1.000000</td>\n",
              "      <td>1.000000</td>\n",
              "    </tr>\n",
              "  </tbody>\n",
              "</table>\n",
              "</div>"
            ],
            "text/plain": [
              "       white_rating  black_rating\n",
              "count  19113.000000  19113.000000\n",
              "mean       0.423946      0.414228\n",
              "std        0.150486      0.148953\n",
              "min        0.000000      0.000000\n",
              "25%        0.322547      0.314818\n",
              "50%        0.409186      0.400207\n",
              "75%        0.524530      0.512927\n",
              "max        1.000000      1.000000"
            ]
          },
          "execution_count": 41,
          "metadata": {},
          "output_type": "execute_result"
        }
      ],
      "source": [
        "chess_games_knn_fill[['white_rating', 'black_rating']].describe()"
      ]
    },
    {
      "cell_type": "markdown",
      "metadata": {},
      "source": [
        "O uso do KNN para imputação de dados é uma boa opção, pois ele é capaz de prever valores ausentes com base em valores próximos, sem distorcer as estatísticas originais do dataset."
      ]
    },
    {
      "cell_type": "markdown",
      "metadata": {},
      "source": [
        "#### Verificando o erro do modelo KNN"
      ]
    },
    {
      "cell_type": "code",
      "execution_count": 42,
      "metadata": {},
      "outputs": [
        {
          "name": "stdout",
          "output_type": "stream",
          "text": [
            "white_rating\n",
            "MAPE: 0.30787961428966676\n",
            "\n",
            "black_rating\n",
            "MAPE: 0.3727056268986676\n",
            "\n",
            "Mean MAPE: 0.3402926205941672\n"
          ]
        }
      ],
      "source": [
        "target_white = chess_games_norm.loc[random_indices_white_rating, ['white_rating']]\n",
        "target_black = chess_games_norm.loc[random_indices_black_rating, ['black_rating']]\n",
        "pred_white = chess_games_knn_fill.loc[random_indices_white_rating, ['white_rating']]\n",
        "pred_black = chess_games_knn_fill.loc[random_indices_black_rating, ['black_rating']]\n",
        "\n",
        "from sklearn.metrics import mean_absolute_percentage_error\n",
        "white_error = mean_absolute_percentage_error(target_white, pred_white)\n",
        "black_error = mean_absolute_percentage_error(target_black, pred_black)\n",
        "\n",
        "print(\"white_rating\")\n",
        "print(\"MAPE:\", white_error, end='\\n\\n')\n",
        "\n",
        "print(\"black_rating\")\n",
        "print(\"MAPE:\", black_error, end='\\n\\n')\n",
        "\n",
        "print(\"Mean MAPE:\", (white_error + black_error) / 2)"
      ]
    },
    {
      "cell_type": "code",
      "execution_count": 43,
      "metadata": {},
      "outputs": [
        {
          "data": {
            "text/html": [
              "<div>\n",
              "<style scoped>\n",
              "    .dataframe tbody tr th:only-of-type {\n",
              "        vertical-align: middle;\n",
              "    }\n",
              "\n",
              "    .dataframe tbody tr th {\n",
              "        vertical-align: top;\n",
              "    }\n",
              "\n",
              "    .dataframe thead th {\n",
              "        text-align: right;\n",
              "    }\n",
              "</style>\n",
              "<table border=\"1\" class=\"dataframe\">\n",
              "  <thead>\n",
              "    <tr style=\"text-align: right;\">\n",
              "      <th></th>\n",
              "      <th>white_rating</th>\n",
              "      <th>black_rating</th>\n",
              "    </tr>\n",
              "  </thead>\n",
              "  <tbody>\n",
              "    <tr>\n",
              "      <th>count</th>\n",
              "      <td>19113.000000</td>\n",
              "      <td>19113.000000</td>\n",
              "    </tr>\n",
              "    <tr>\n",
              "      <th>mean</th>\n",
              "      <td>1597.300005</td>\n",
              "      <td>1590.045519</td>\n",
              "    </tr>\n",
              "    <tr>\n",
              "      <th>std</th>\n",
              "      <td>290.022740</td>\n",
              "      <td>290.441694</td>\n",
              "    </tr>\n",
              "    <tr>\n",
              "      <th>min</th>\n",
              "      <td>784.000000</td>\n",
              "      <td>789.000000</td>\n",
              "    </tr>\n",
              "    <tr>\n",
              "      <th>25%</th>\n",
              "      <td>1401.000000</td>\n",
              "      <td>1394.000000</td>\n",
              "    </tr>\n",
              "    <tr>\n",
              "      <th>50%</th>\n",
              "      <td>1567.000000</td>\n",
              "      <td>1563.000000</td>\n",
              "    </tr>\n",
              "    <tr>\n",
              "      <th>75%</th>\n",
              "      <td>1792.000000</td>\n",
              "      <td>1785.000000</td>\n",
              "    </tr>\n",
              "    <tr>\n",
              "      <th>max</th>\n",
              "      <td>2700.000000</td>\n",
              "      <td>2723.000000</td>\n",
              "    </tr>\n",
              "  </tbody>\n",
              "</table>\n",
              "</div>"
            ],
            "text/plain": [
              "       white_rating  black_rating\n",
              "count  19113.000000  19113.000000\n",
              "mean    1597.300005   1590.045519\n",
              "std      290.022740    290.441694\n",
              "min      784.000000    789.000000\n",
              "25%     1401.000000   1394.000000\n",
              "50%     1567.000000   1563.000000\n",
              "75%     1792.000000   1785.000000\n",
              "max     2700.000000   2723.000000"
            ]
          },
          "execution_count": 43,
          "metadata": {},
          "output_type": "execute_result"
        }
      ],
      "source": [
        "chess_games[['white_rating', 'black_rating']].describe()"
      ]
    },
    {
      "cell_type": "code",
      "execution_count": 44,
      "metadata": {},
      "outputs": [
        {
          "data": {
            "text/html": [
              "<div>\n",
              "<style scoped>\n",
              "    .dataframe tbody tr th:only-of-type {\n",
              "        vertical-align: middle;\n",
              "    }\n",
              "\n",
              "    .dataframe tbody tr th {\n",
              "        vertical-align: top;\n",
              "    }\n",
              "\n",
              "    .dataframe thead th {\n",
              "        text-align: right;\n",
              "    }\n",
              "</style>\n",
              "<table border=\"1\" class=\"dataframe\">\n",
              "  <thead>\n",
              "    <tr style=\"text-align: right;\">\n",
              "      <th></th>\n",
              "      <th>white_rating</th>\n",
              "      <th>black_rating</th>\n",
              "    </tr>\n",
              "  </thead>\n",
              "  <tbody>\n",
              "    <tr>\n",
              "      <th>count</th>\n",
              "      <td>19113.000000</td>\n",
              "      <td>19113.000000</td>\n",
              "    </tr>\n",
              "    <tr>\n",
              "      <th>mean</th>\n",
              "      <td>0.423946</td>\n",
              "      <td>0.414228</td>\n",
              "    </tr>\n",
              "    <tr>\n",
              "      <th>std</th>\n",
              "      <td>0.150486</td>\n",
              "      <td>0.148953</td>\n",
              "    </tr>\n",
              "    <tr>\n",
              "      <th>min</th>\n",
              "      <td>0.000000</td>\n",
              "      <td>0.000000</td>\n",
              "    </tr>\n",
              "    <tr>\n",
              "      <th>25%</th>\n",
              "      <td>0.322547</td>\n",
              "      <td>0.314818</td>\n",
              "    </tr>\n",
              "    <tr>\n",
              "      <th>50%</th>\n",
              "      <td>0.409186</td>\n",
              "      <td>0.400207</td>\n",
              "    </tr>\n",
              "    <tr>\n",
              "      <th>75%</th>\n",
              "      <td>0.524530</td>\n",
              "      <td>0.512927</td>\n",
              "    </tr>\n",
              "    <tr>\n",
              "      <th>max</th>\n",
              "      <td>1.000000</td>\n",
              "      <td>1.000000</td>\n",
              "    </tr>\n",
              "  </tbody>\n",
              "</table>\n",
              "</div>"
            ],
            "text/plain": [
              "       white_rating  black_rating\n",
              "count  19113.000000  19113.000000\n",
              "mean       0.423946      0.414228\n",
              "std        0.150486      0.148953\n",
              "min        0.000000      0.000000\n",
              "25%        0.322547      0.314818\n",
              "50%        0.409186      0.400207\n",
              "75%        0.524530      0.512927\n",
              "max        1.000000      1.000000"
            ]
          },
          "execution_count": 44,
          "metadata": {},
          "output_type": "execute_result"
        }
      ],
      "source": [
        "chess_games_knn_fill[['white_rating', 'black_rating']].describe()"
      ]
    },
    {
      "cell_type": "markdown",
      "metadata": {},
      "source": [
        "De acordo com os resultados obtidos, o modelo KNN apresentou um erro médio em torno de 34%, o que não é um valor desprezível, mas sua distribuição compensou a variação das estatísticas, mantendo-as próximas das originais do dataset."
      ]
    },
    {
      "cell_type": "markdown",
      "metadata": {},
      "source": [
        "# Discretização"
      ]
    },
    {
      "cell_type": "markdown",
      "metadata": {},
      "source": [
        "A base de dados apresenta em sua maioria dados discretos, com excessão das colunas relacionadas aos timestamps das partidas. Portanto, a discretização será feita apenas nas colunas que se referem a esses dados."
      ]
    },
    {
      "cell_type": "code",
      "execution_count": 45,
      "metadata": {},
      "outputs": [
        {
          "data": {
            "text/html": [
              "<div>\n",
              "<style scoped>\n",
              "    .dataframe tbody tr th:only-of-type {\n",
              "        vertical-align: middle;\n",
              "    }\n",
              "\n",
              "    .dataframe tbody tr th {\n",
              "        vertical-align: top;\n",
              "    }\n",
              "\n",
              "    .dataframe thead th {\n",
              "        text-align: right;\n",
              "    }\n",
              "</style>\n",
              "<table border=\"1\" class=\"dataframe\">\n",
              "  <thead>\n",
              "    <tr style=\"text-align: right;\">\n",
              "      <th></th>\n",
              "      <th>created_at</th>\n",
              "      <th>last_move_at</th>\n",
              "    </tr>\n",
              "  </thead>\n",
              "  <tbody>\n",
              "    <tr>\n",
              "      <th>count</th>\n",
              "      <td>1.911300e+04</td>\n",
              "      <td>1.911300e+04</td>\n",
              "    </tr>\n",
              "    <tr>\n",
              "      <th>mean</th>\n",
              "      <td>1.483413e+12</td>\n",
              "      <td>1.483414e+12</td>\n",
              "    </tr>\n",
              "    <tr>\n",
              "      <th>std</th>\n",
              "      <td>2.833975e+10</td>\n",
              "      <td>2.833964e+10</td>\n",
              "    </tr>\n",
              "    <tr>\n",
              "      <th>min</th>\n",
              "      <td>1.376772e+12</td>\n",
              "      <td>1.376772e+12</td>\n",
              "    </tr>\n",
              "    <tr>\n",
              "      <th>25%</th>\n",
              "      <td>1.476910e+12</td>\n",
              "      <td>1.476912e+12</td>\n",
              "    </tr>\n",
              "    <tr>\n",
              "      <th>50%</th>\n",
              "      <td>1.495670e+12</td>\n",
              "      <td>1.495670e+12</td>\n",
              "    </tr>\n",
              "    <tr>\n",
              "      <th>75%</th>\n",
              "      <td>1.503080e+12</td>\n",
              "      <td>1.503080e+12</td>\n",
              "    </tr>\n",
              "    <tr>\n",
              "      <th>max</th>\n",
              "      <td>1.504493e+12</td>\n",
              "      <td>1.504494e+12</td>\n",
              "    </tr>\n",
              "  </tbody>\n",
              "</table>\n",
              "</div>"
            ],
            "text/plain": [
              "         created_at  last_move_at\n",
              "count  1.911300e+04  1.911300e+04\n",
              "mean   1.483413e+12  1.483414e+12\n",
              "std    2.833975e+10  2.833964e+10\n",
              "min    1.376772e+12  1.376772e+12\n",
              "25%    1.476910e+12  1.476912e+12\n",
              "50%    1.495670e+12  1.495670e+12\n",
              "75%    1.503080e+12  1.503080e+12\n",
              "max    1.504493e+12  1.504494e+12"
            ]
          },
          "execution_count": 45,
          "metadata": {},
          "output_type": "execute_result"
        }
      ],
      "source": [
        "chess_games[['created_at', 'last_move_at']].describe()"
      ]
    },
    {
      "cell_type": "code",
      "execution_count": 46,
      "metadata": {},
      "outputs": [],
      "source": [
        "# discretizando com 10 bins com mesmo intervalo\n",
        "chess_games['created_at_dist'] = pd.cut(chess_games['created_at'], 10)\n",
        "chess_games['last_move_at_dist'] = pd.cut(chess_games['last_move_at'], 10)"
      ]
    },
    {
      "cell_type": "code",
      "execution_count": 47,
      "metadata": {},
      "outputs": [
        {
          "data": {
            "text/plain": [
              "<Axes: ylabel='created_at_dist'>"
            ]
          },
          "execution_count": 47,
          "metadata": {},
          "output_type": "execute_result"
        },
        {
          "data": {
            "image/png": "[encoded data removed]",
            "text/plain": [
              "<Figure size 640x480 with 1 Axes>"
            ]
          },
          "metadata": {},
          "output_type": "display_data"
        }
      ],
      "source": [
        "chess_games['created_at_dist'].value_counts().plot(kind='barh')"
      ]
    },
    {
      "cell_type": "markdown",
      "metadata": {},
      "source": [
        "Dividir os dados baseando-se em intervalos iguais pode não ser a melhor opção, pois pode haver uma distribuição desigual dos dados em cada intervalo. Portanto, a melhor opção é dividir os dados baseando-se em intervalos que contenham a mesma quantidade de dados. Isso pode ser feito ao utilizar quantis para fazer a divisão."
      ]
    },
    {
      "cell_type": "code",
      "execution_count": 48,
      "metadata": {},
      "outputs": [],
      "source": [
        "# discretizando com 10 bins com mesma quantidade de elementos\n",
        "chess_games['created_at_dist'] = pd.qcut(chess_games['created_at'], 10)\n",
        "chess_games['last_move_at_dist'] = pd.qcut(chess_games['last_move_at'], 10)"
      ]
    },
    {
      "cell_type": "code",
      "execution_count": 49,
      "metadata": {},
      "outputs": [
        {
          "data": {
            "text/plain": [
              "<Axes: ylabel='created_at_dist'>"
            ]
          },
          "execution_count": 49,
          "metadata": {},
          "output_type": "execute_result"
        },
        {
          "data": {
            "image/png": "[encoded data removed]",
            "text/plain": [
              "<Figure size 640x480 with 1 Axes>"
            ]
          },
          "metadata": {},
          "output_type": "display_data"
        }
      ],
      "source": [
        "chess_games['created_at_dist'].value_counts().plot(kind='barh')"
      ]
    },
    {
      "cell_type": "code",
      "execution_count": 50,
      "metadata": {},
      "outputs": [
        {
          "data": {
            "text/plain": [
              "<Axes: ylabel='last_move_at_dist'>"
            ]
          },
          "execution_count": 50,
          "metadata": {},
          "output_type": "execute_result"
        },
        {
          "data": {
            "image/png": "[encoded data removed]",
            "text/plain": [
              "<Figure size 640x480 with 1 Axes>"
            ]
          },
          "metadata": {},
          "output_type": "display_data"
        }
      ],
      "source": [
        "chess_games['last_move_at_dist'].value_counts().plot(kind='barh')"
      ]
    },
    {
      "cell_type": "markdown",
      "metadata": {},
      "source": [
        "# Remoção de outliers"
      ]
    },
    {
      "cell_type": "markdown",
      "metadata": {},
      "source": [
        "## Univariado"
      ]
    },
    {
      "cell_type": "markdown",
      "metadata": {},
      "source": [
        "Partidas com muitos ou poucos turnos podem ser consideradas outliers, pois fogem do padrão de uma partida normal. Portanto, será usado o método de Tukey para identificar e remover esses outliers."
      ]
    },
    {
      "cell_type": "code",
      "execution_count": 51,
      "metadata": {},
      "outputs": [
        {
          "data": {
            "text/plain": [
              "<Axes: >"
            ]
          },
          "execution_count": 51,
          "metadata": {},
          "output_type": "execute_result"
        },
        {
          "data": {
            "image/png": "[encoded data removed]",
            "text/plain": [
              "<Figure size 640x480 with 1 Axes>"
            ]
          },
          "metadata": {},
          "output_type": "display_data"
        }
      ],
      "source": [
        "# verificando o boxplot antes da remoção de outliers\n",
        "chess_games['turns'].plot.box()"
      ]
    },
    {
      "cell_type": "markdown",
      "metadata": {},
      "source": [
        "A partir da análise do boxplot, é possível identificar outliers com muitos turnos, que serão removidos."
      ]
    },
    {
      "cell_type": "code",
      "execution_count": 52,
      "metadata": {},
      "outputs": [
        {
          "data": {
            "text/plain": [
              "<Axes: >"
            ]
          },
          "execution_count": 52,
          "metadata": {},
          "output_type": "execute_result"
        },
        {
          "data": {
            "image/png": "[encoded data removed]",
            "text/plain": [
              "<Figure size 640x480 with 1 Axes>"
            ]
          },
          "metadata": {},
          "output_type": "display_data"
        }
      ],
      "source": [
        "# verificando a distribuição dos dados\n",
        "chess_games['turns'].hist()"
      ]
    },
    {
      "cell_type": "markdown",
      "metadata": {},
      "source": [
        "Os dados possuem uma distribuição próxima à normal, com algumas ocorrências muito acima das estatísticas centrais."
      ]
    },
    {
      "cell_type": "code",
      "execution_count": 53,
      "metadata": {},
      "outputs": [
        {
          "data": {
            "text/plain": [
              "count    19113.000000\n",
              "mean        60.513839\n",
              "std         33.488264\n",
              "min          1.000000\n",
              "25%         37.000000\n",
              "50%         55.000000\n",
              "75%         79.000000\n",
              "max        349.000000\n",
              "Name: turns, dtype: float64"
            ]
          },
          "execution_count": 53,
          "metadata": {},
          "output_type": "execute_result"
        }
      ],
      "source": [
        "chess_games['turns'].describe()"
      ]
    },
    {
      "cell_type": "markdown",
      "metadata": {},
      "source": [
        "Agora que a distribuição dos dados está mais próxima de uma distribuição normal, será aplicado o método de Tukey para identificar e remover os outliers."
      ]
    },
    {
      "cell_type": "code",
      "execution_count": 54,
      "metadata": {},
      "outputs": [
        {
          "name": "stdout",
          "output_type": "stream",
          "text": [
            "42.0\n"
          ]
        }
      ],
      "source": [
        "# definição dos quantis e do IQR\n",
        "q1 = chess_games['turns'].quantile(0.25)\n",
        "q3 = chess_games['turns'].quantile(0.75)\n",
        "iqr = q3 - q1\n",
        "print(iqr)"
      ]
    },
    {
      "cell_type": "code",
      "execution_count": 55,
      "metadata": {},
      "outputs": [
        {
          "data": {
            "text/plain": [
              "(0, 18)"
            ]
          },
          "execution_count": 55,
          "metadata": {},
          "output_type": "execute_result"
        }
      ],
      "source": [
        "# outliers inferiores\n",
        "chess_games[chess_games['turns'] < (q1 - 1.5 * iqr)].shape"
      ]
    },
    {
      "cell_type": "code",
      "execution_count": 56,
      "metadata": {},
      "outputs": [
        {
          "data": {
            "text/plain": [
              "(412, 18)"
            ]
          },
          "execution_count": 56,
          "metadata": {},
          "output_type": "execute_result"
        }
      ],
      "source": [
        "# outliers superiores\n",
        "chess_games[chess_games['turns'] > (q3 + 1.5 * iqr)].shape"
      ]
    },
    {
      "cell_type": "code",
      "execution_count": 57,
      "metadata": {},
      "outputs": [
        {
          "data": {
            "text/plain": [
              "<Axes: >"
            ]
          },
          "execution_count": 57,
          "metadata": {},
          "output_type": "execute_result"
        },
        {
          "data": {
            "image/png": "[encoded data removed]",
            "text/plain": [
              "<Figure size 640x480 with 1 Axes>"
            ]
          },
          "metadata": {},
          "output_type": "display_data"
        }
      ],
      "source": [
        "# removendo os outliers\n",
        "chess_games = chess_games[(chess_games['turns'] > (q1 - 1.5 * iqr)) & (chess_games['turns'] < (q3 + 1.5 * iqr))]\n",
        "chess_games['turns'].plot.box()"
      ]
    },
    {
      "cell_type": "markdown",
      "metadata": {},
      "source": [
        "## Bivariado"
      ]
    },
    {
      "cell_type": "markdown",
      "metadata": {},
      "source": [
        "Nessa seção será analisada a relação entre os ratings dos jogadores. Partidas com uma diferença muito grande entre esses ratings podem ser consideradas outliers."
      ]
    },
    {
      "cell_type": "code",
      "execution_count": 58,
      "metadata": {},
      "outputs": [
        {
          "data": {
            "text/plain": [
              "<Axes: xlabel='white_rating', ylabel='black_rating'>"
            ]
          },
          "execution_count": 58,
          "metadata": {},
          "output_type": "execute_result"
        },
        {
          "data": {
            "image/png": "[encoded data removed]",
            "text/plain": [
              "<Figure size 640x480 with 1 Axes>"
            ]
          },
          "metadata": {},
          "output_type": "display_data"
        }
      ],
      "source": [
        "chess_games.plot.scatter(x='white_rating', y='black_rating')"
      ]
    },
    {
      "cell_type": "markdown",
      "metadata": {
        "id": "QBkQSpsUDwNB"
      },
      "source": [
        "# Estatísticas Descritivas"
      ]
    },
    {
      "cell_type": "markdown",
      "metadata": {
        "id": "iVedNOsnTyqV"
      },
      "source": [
        "## Distribuição dos ratings de todos os jogadores"
      ]
    },
    {
      "cell_type": "code",
      "execution_count": 59,
      "metadata": {
        "id": "8s3VA_cGT4tc"
      },
      "outputs": [],
      "source": [
        "all_ratings = pd.concat([chess_games['white_rating'], chess_games['black_rating']])"
      ]
    },
    {
      "cell_type": "code",
      "execution_count": 60,
      "metadata": {
        "colab": {
          "base_uri": "https://localhost:8080/"
        },
        "id": "zJMa7H1cU1Pq",
        "outputId": "d4a0c65f-5422-414f-b405-7796c9c8385a"
      },
      "outputs": [
        {
          "data": {
            "text/plain": [
              "count    37358.000000\n",
              "mean      1591.259650\n",
              "std        290.190917\n",
              "min        784.000000\n",
              "25%       1395.250000\n",
              "50%       1563.000000\n",
              "75%       1785.000000\n",
              "max       2723.000000\n",
              "dtype: float64"
            ]
          },
          "execution_count": 60,
          "metadata": {},
          "output_type": "execute_result"
        }
      ],
      "source": [
        "all_ratings.describe()"
      ]
    },
    {
      "cell_type": "code",
      "execution_count": 61,
      "metadata": {
        "colab": {
          "base_uri": "https://localhost:8080/",
          "height": 447
        },
        "id": "UOgMzsaiRsjr",
        "outputId": "71d681d2-0c03-4f3d-fb0f-f0dc0cf4bd64"
      },
      "outputs": [
        {
          "data": {
            "text/plain": [
              "<Axes: >"
            ]
          },
          "execution_count": 61,
          "metadata": {},
          "output_type": "execute_result"
        },
        {
          "data": {
            "image/png": "[encoded data removed]",
            "text/plain": [
              "<Figure size 640x480 with 1 Axes>"
            ]
          },
          "metadata": {},
          "output_type": "display_data"
        }
      ],
      "source": [
        "all_ratings.hist()"
      ]
    },
    {
      "cell_type": "code",
      "execution_count": 62,
      "metadata": {
        "colab": {
          "base_uri": "https://localhost:8080/",
          "height": 428
        },
        "id": "FcO61fKFT3LV",
        "outputId": "ae0fec26-7958-408d-b381-39cf3b1c9274"
      },
      "outputs": [
        {
          "data": {
            "text/plain": [
              "<Axes: >"
            ]
          },
          "execution_count": 62,
          "metadata": {},
          "output_type": "execute_result"
        },
        {
          "data": {
            "image/png": "[encoded data removed]",
            "text/plain": [
              "<Figure size 640x480 with 1 Axes>"
            ]
          },
          "metadata": {},
          "output_type": "display_data"
        }
      ],
      "source": [
        "all_ratings.plot.box()"
      ]
    }
  ],
  "metadata": {
    "colab": {
      "collapsed_sections": [
        "xr4KxIm-Kevf",
        "8s3goxuOOe9W",
        "OOH6JN-DOXEI",
        "9zcOvytXOi5B",
        "QBkQSpsUDwNB",
        "iVedNOsnTyqV"
      ],
      "provenance": []
    },
    "kernelspec": {
      "display_name": "Python 3",
      "name": "python3"
    },
    "language_info": {
      "codemirror_mode": {
        "name": "ipython",
        "version": 3
      },
      "file_extension": ".py",
      "mimetype": "text/x-python",
      "name": "python",
      "nbconvert_exporter": "python",
      "pygments_lexer": "ipython3",
      "version": "3.8.10"
    }
  },
  "nbformat": 4,
  "nbformat_minor": 0
}
