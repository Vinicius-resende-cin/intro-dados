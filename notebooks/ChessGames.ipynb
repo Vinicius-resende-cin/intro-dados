{
  "cells": [
    {
      "cell_type": "markdown",
      "metadata": {
        "id": "xr4KxIm-Kevf"
      },
      "source": [
        "# Importando bibliotecas e o dataset"
      ]
    },
    {
      "cell_type": "markdown",
      "metadata": {
        "id": "8s3goxuOOe9W"
      },
      "source": [
        "## Importando bibliotecas"
      ]
    },
    {
      "cell_type": "code",
      "execution_count": 1,
      "metadata": {
        "id": "THCBAQ8DKqs8"
      },
      "outputs": [],
      "source": [
        "import numpy as np\n",
        "import pandas as pd"
      ]
    },
    {
      "cell_type": "markdown",
      "metadata": {},
      "source": [
        "## Importando os dados"
      ]
    },
    {
      "cell_type": "code",
      "execution_count": 2,
      "metadata": {
        "id": "XkgJeTKVLGjI"
      },
      "outputs": [],
      "source": [
        "chess_games = pd.read_csv(\"https://raw.githubusercontent.com/Vinicius-resende-cin/intro-dados/master/data/chess_games.csv\", encoding = \"ISO-8859-1\")"
      ]
    },
    {
      "cell_type": "code",
      "execution_count": 3,
      "metadata": {
        "colab": {
          "base_uri": "https://localhost:8080/",
          "height": 380
        },
        "id": "veIlGVNtOJ-r",
        "outputId": "ea2e9d94-e6b8-4787-e0d4-2683a0398b30"
      },
      "outputs": [
        {
          "data": {
            "text/html": [
              "<div>\n",
              "<style scoped>\n",
              "    .dataframe tbody tr th:only-of-type {\n",
              "        vertical-align: middle;\n",
              "    }\n",
              "\n",
              "    .dataframe tbody tr th {\n",
              "        vertical-align: top;\n",
              "    }\n",
              "\n",
              "    .dataframe thead th {\n",
              "        text-align: right;\n",
              "    }\n",
              "</style>\n",
              "<table border=\"1\" class=\"dataframe\">\n",
              "  <thead>\n",
              "    <tr style=\"text-align: right;\">\n",
              "      <th></th>\n",
              "      <th>id</th>\n",
              "      <th>rated</th>\n",
              "      <th>created_at</th>\n",
              "      <th>last_move_at</th>\n",
              "      <th>turns</th>\n",
              "      <th>victory_status</th>\n",
              "      <th>winner</th>\n",
              "      <th>increment_code</th>\n",
              "      <th>white_id</th>\n",
              "      <th>white_rating</th>\n",
              "      <th>black_id</th>\n",
              "      <th>black_rating</th>\n",
              "      <th>moves</th>\n",
              "      <th>opening_eco</th>\n",
              "      <th>opening_name</th>\n",
              "      <th>opening_ply</th>\n",
              "    </tr>\n",
              "  </thead>\n",
              "  <tbody>\n",
              "    <tr>\n",
              "      <th>0</th>\n",
              "      <td>TZJHLljE</td>\n",
              "      <td>False</td>\n",
              "      <td>1.504210e+12</td>\n",
              "      <td>1.504210e+12</td>\n",
              "      <td>13</td>\n",
              "      <td>outoftime</td>\n",
              "      <td>white</td>\n",
              "      <td>15+2</td>\n",
              "      <td>bourgris</td>\n",
              "      <td>1500</td>\n",
              "      <td>a-00</td>\n",
              "      <td>1191</td>\n",
              "      <td>d4 d5 c4 c6 cxd5 e6 dxe6 fxe6 Nf3 Bb4+ Nc3 Ba5...</td>\n",
              "      <td>D10</td>\n",
              "      <td>Slav Defense: Exchange Variation</td>\n",
              "      <td>5</td>\n",
              "    </tr>\n",
              "    <tr>\n",
              "      <th>1</th>\n",
              "      <td>l1NXvwaE</td>\n",
              "      <td>True</td>\n",
              "      <td>1.504130e+12</td>\n",
              "      <td>1.504130e+12</td>\n",
              "      <td>16</td>\n",
              "      <td>resign</td>\n",
              "      <td>black</td>\n",
              "      <td>5+10</td>\n",
              "      <td>a-00</td>\n",
              "      <td>1322</td>\n",
              "      <td>skinnerua</td>\n",
              "      <td>1261</td>\n",
              "      <td>d4 Nc6 e4 e5 f4 f6 dxe5 fxe5 fxe5 Nxe5 Qd4 Nc6...</td>\n",
              "      <td>B00</td>\n",
              "      <td>Nimzowitsch Defense: Kennedy Variation</td>\n",
              "      <td>4</td>\n",
              "    </tr>\n",
              "    <tr>\n",
              "      <th>2</th>\n",
              "      <td>mIICvQHh</td>\n",
              "      <td>True</td>\n",
              "      <td>1.504130e+12</td>\n",
              "      <td>1.504130e+12</td>\n",
              "      <td>61</td>\n",
              "      <td>mate</td>\n",
              "      <td>white</td>\n",
              "      <td>5+10</td>\n",
              "      <td>ischia</td>\n",
              "      <td>1496</td>\n",
              "      <td>a-00</td>\n",
              "      <td>1500</td>\n",
              "      <td>e4 e5 d3 d6 Be3 c6 Be2 b5 Nd2 a5 a4 c5 axb5 Nc...</td>\n",
              "      <td>C20</td>\n",
              "      <td>King's Pawn Game: Leonardis Variation</td>\n",
              "      <td>3</td>\n",
              "    </tr>\n",
              "    <tr>\n",
              "      <th>3</th>\n",
              "      <td>kWKvrqYL</td>\n",
              "      <td>True</td>\n",
              "      <td>1.504110e+12</td>\n",
              "      <td>1.504110e+12</td>\n",
              "      <td>61</td>\n",
              "      <td>mate</td>\n",
              "      <td>white</td>\n",
              "      <td>20+0</td>\n",
              "      <td>daniamurashov</td>\n",
              "      <td>1439</td>\n",
              "      <td>adivanov2009</td>\n",
              "      <td>1454</td>\n",
              "      <td>d4 d5 Nf3 Bf5 Nc3 Nf6 Bf4 Ng4 e3 Nc6 Be2 Qd7 O...</td>\n",
              "      <td>D02</td>\n",
              "      <td>Queen's Pawn Game: Zukertort Variation</td>\n",
              "      <td>3</td>\n",
              "    </tr>\n",
              "    <tr>\n",
              "      <th>4</th>\n",
              "      <td>9tXo1AUZ</td>\n",
              "      <td>True</td>\n",
              "      <td>1.504030e+12</td>\n",
              "      <td>1.504030e+12</td>\n",
              "      <td>95</td>\n",
              "      <td>mate</td>\n",
              "      <td>white</td>\n",
              "      <td>30+3</td>\n",
              "      <td>nik221107</td>\n",
              "      <td>1523</td>\n",
              "      <td>adivanov2009</td>\n",
              "      <td>1469</td>\n",
              "      <td>e4 e5 Nf3 d6 d4 Nc6 d5 Nb4 a3 Na6 Nc3 Be7 b4 N...</td>\n",
              "      <td>C41</td>\n",
              "      <td>Philidor Defense</td>\n",
              "      <td>5</td>\n",
              "    </tr>\n",
              "  </tbody>\n",
              "</table>\n",
              "</div>"
            ],
            "text/plain": [
              "         id  rated    created_at  last_move_at  turns victory_status winner  \\\n",
              "0  TZJHLljE  False  1.504210e+12  1.504210e+12     13      outoftime  white   \n",
              "1  l1NXvwaE   True  1.504130e+12  1.504130e+12     16         resign  black   \n",
              "2  mIICvQHh   True  1.504130e+12  1.504130e+12     61           mate  white   \n",
              "3  kWKvrqYL   True  1.504110e+12  1.504110e+12     61           mate  white   \n",
              "4  9tXo1AUZ   True  1.504030e+12  1.504030e+12     95           mate  white   \n",
              "\n",
              "  increment_code       white_id  white_rating      black_id  black_rating  \\\n",
              "0           15+2       bourgris          1500          a-00          1191   \n",
              "1           5+10           a-00          1322     skinnerua          1261   \n",
              "2           5+10         ischia          1496          a-00          1500   \n",
              "3           20+0  daniamurashov          1439  adivanov2009          1454   \n",
              "4           30+3      nik221107          1523  adivanov2009          1469   \n",
              "\n",
              "                                               moves opening_eco  \\\n",
              "0  d4 d5 c4 c6 cxd5 e6 dxe6 fxe6 Nf3 Bb4+ Nc3 Ba5...         D10   \n",
              "1  d4 Nc6 e4 e5 f4 f6 dxe5 fxe5 fxe5 Nxe5 Qd4 Nc6...         B00   \n",
              "2  e4 e5 d3 d6 Be3 c6 Be2 b5 Nd2 a5 a4 c5 axb5 Nc...         C20   \n",
              "3  d4 d5 Nf3 Bf5 Nc3 Nf6 Bf4 Ng4 e3 Nc6 Be2 Qd7 O...         D02   \n",
              "4  e4 e5 Nf3 d6 d4 Nc6 d5 Nb4 a3 Na6 Nc3 Be7 b4 N...         C41   \n",
              "\n",
              "                             opening_name  opening_ply  \n",
              "0        Slav Defense: Exchange Variation            5  \n",
              "1  Nimzowitsch Defense: Kennedy Variation            4  \n",
              "2   King's Pawn Game: Leonardis Variation            3  \n",
              "3  Queen's Pawn Game: Zukertort Variation            3  \n",
              "4                        Philidor Defense            5  "
            ]
          },
          "execution_count": 3,
          "metadata": {},
          "output_type": "execute_result"
        }
      ],
      "source": [
        "chess_games.head()"
      ]
    },
    {
      "cell_type": "markdown",
      "metadata": {
        "id": "TROMbYo77jTJ"
      },
      "source": [
        "# Definição de tipos"
      ]
    },
    {
      "cell_type": "code",
      "execution_count": 4,
      "metadata": {
        "colab": {
          "base_uri": "https://localhost:8080/"
        },
        "id": "wQc3c9j2O9j4",
        "outputId": "bbec4a62-3437-447f-eecb-1b76a35c3039"
      },
      "outputs": [
        {
          "data": {
            "text/plain": [
              "id                 object\n",
              "rated                bool\n",
              "created_at        float64\n",
              "last_move_at      float64\n",
              "turns               int64\n",
              "victory_status     object\n",
              "winner             object\n",
              "increment_code     object\n",
              "white_id           object\n",
              "white_rating        int64\n",
              "black_id           object\n",
              "black_rating        int64\n",
              "moves              object\n",
              "opening_eco        object\n",
              "opening_name       object\n",
              "opening_ply         int64\n",
              "dtype: object"
            ]
          },
          "execution_count": 4,
          "metadata": {},
          "output_type": "execute_result"
        }
      ],
      "source": [
        "# verificando os tipos de todas as colunas\n",
        "chess_games.dtypes"
      ]
    },
    {
      "cell_type": "code",
      "execution_count": 5,
      "metadata": {
        "id": "-6jNIeJ_7v44"
      },
      "outputs": [],
      "source": [
        "# convertendo 'object' para 'category'\n",
        "chess_games['id'] = chess_games['id'].astype('category')\n",
        "chess_games['victory_status'] = chess_games['victory_status'].astype('category')\n",
        "chess_games['winner'] = chess_games['winner'].astype('category')\n",
        "chess_games['increment_code'] = chess_games['increment_code'].astype('category')\n",
        "chess_games['white_id'] = chess_games['white_id'].astype('category')\n",
        "chess_games['black_id'] = chess_games['black_id'].astype('category')\n",
        "chess_games['moves'] = chess_games['moves'].astype('category')\n",
        "chess_games['opening_eco'] = chess_games['opening_eco'].astype('category')\n",
        "chess_games['opening_name'] = chess_games['opening_name'].astype('category')\n",
        "\n",
        "# convertendo categorico para numérico\n",
        "chess_games['id'] = chess_games['id'].cat.codes\n",
        "chess_games['victory_status'] = chess_games['victory_status'].cat.codes\n",
        "chess_games['winner'] = chess_games['winner'].cat.codes\n",
        "chess_games['increment_code'] = chess_games['increment_code'].cat.codes\n",
        "chess_games['white_id'] = chess_games['white_id'].cat.codes\n",
        "chess_games['black_id'] = chess_games['black_id'].cat.codes\n",
        "chess_games['moves'] = chess_games['moves'].cat.codes\n",
        "chess_games['opening_eco'] = chess_games['opening_eco'].cat.codes\n",
        "chess_games['opening_name'] = chess_games['opening_name'].cat.codes"
      ]
    },
    {
      "cell_type": "code",
      "execution_count": 6,
      "metadata": {
        "colab": {
          "base_uri": "https://localhost:8080/"
        },
        "id": "pZvTy3P58php",
        "outputId": "9dd8a83c-b6c8-4887-c71b-aab33872b646"
      },
      "outputs": [
        {
          "data": {
            "text/plain": [
              "id                  int16\n",
              "rated                bool\n",
              "created_at        float64\n",
              "last_move_at      float64\n",
              "turns               int64\n",
              "victory_status       int8\n",
              "winner               int8\n",
              "increment_code      int16\n",
              "white_id            int16\n",
              "white_rating        int64\n",
              "black_id            int16\n",
              "black_rating        int64\n",
              "moves               int16\n",
              "opening_eco         int16\n",
              "opening_name        int16\n",
              "opening_ply         int64\n",
              "dtype: object"
            ]
          },
          "execution_count": 6,
          "metadata": {},
          "output_type": "execute_result"
        }
      ],
      "source": [
        "# verificando novos tipos\n",
        "chess_games.dtypes"
      ]
    },
    {
      "cell_type": "code",
      "execution_count": 7,
      "metadata": {
        "colab": {
          "base_uri": "https://localhost:8080/",
          "height": 293
        },
        "id": "RWeitbgx-M-B",
        "outputId": "5ead425d-e58c-4d2a-ec95-394c0c47ded1"
      },
      "outputs": [
        {
          "data": {
            "text/html": [
              "<div>\n",
              "<style scoped>\n",
              "    .dataframe tbody tr th:only-of-type {\n",
              "        vertical-align: middle;\n",
              "    }\n",
              "\n",
              "    .dataframe tbody tr th {\n",
              "        vertical-align: top;\n",
              "    }\n",
              "\n",
              "    .dataframe thead th {\n",
              "        text-align: right;\n",
              "    }\n",
              "</style>\n",
              "<table border=\"1\" class=\"dataframe\">\n",
              "  <thead>\n",
              "    <tr style=\"text-align: right;\">\n",
              "      <th></th>\n",
              "      <th>id</th>\n",
              "      <th>rated</th>\n",
              "      <th>created_at</th>\n",
              "      <th>last_move_at</th>\n",
              "      <th>turns</th>\n",
              "      <th>victory_status</th>\n",
              "      <th>winner</th>\n",
              "      <th>increment_code</th>\n",
              "      <th>white_id</th>\n",
              "      <th>white_rating</th>\n",
              "      <th>black_id</th>\n",
              "      <th>black_rating</th>\n",
              "      <th>moves</th>\n",
              "      <th>opening_eco</th>\n",
              "      <th>opening_name</th>\n",
              "      <th>opening_ply</th>\n",
              "    </tr>\n",
              "  </thead>\n",
              "  <tbody>\n",
              "    <tr>\n",
              "      <th>0</th>\n",
              "      <td>9068</td>\n",
              "      <td>False</td>\n",
              "      <td>1.504210e+12</td>\n",
              "      <td>1.504210e+12</td>\n",
              "      <td>13</td>\n",
              "      <td>2</td>\n",
              "      <td>2</td>\n",
              "      <td>110</td>\n",
              "      <td>1287</td>\n",
              "      <td>1500</td>\n",
              "      <td>11</td>\n",
              "      <td>1191</td>\n",
              "      <td>4524</td>\n",
              "      <td>248</td>\n",
              "      <td>1387</td>\n",
              "      <td>5</td>\n",
              "    </tr>\n",
              "    <tr>\n",
              "      <th>1</th>\n",
              "      <td>14512</td>\n",
              "      <td>True</td>\n",
              "      <td>1.504130e+12</td>\n",
              "      <td>1.504130e+12</td>\n",
              "      <td>16</td>\n",
              "      <td>3</td>\n",
              "      <td>0</td>\n",
              "      <td>298</td>\n",
              "      <td>16</td>\n",
              "      <td>1322</td>\n",
              "      <td>7748</td>\n",
              "      <td>1261</td>\n",
              "      <td>1987</td>\n",
              "      <td>71</td>\n",
              "      <td>750</td>\n",
              "      <td>4</td>\n",
              "    </tr>\n",
              "    <tr>\n",
              "      <th>2</th>\n",
              "      <td>14904</td>\n",
              "      <td>True</td>\n",
              "      <td>1.504130e+12</td>\n",
              "      <td>1.504130e+12</td>\n",
              "      <td>61</td>\n",
              "      <td>1</td>\n",
              "      <td>2</td>\n",
              "      <td>298</td>\n",
              "      <td>3823</td>\n",
              "      <td>1496</td>\n",
              "      <td>11</td>\n",
              "      <td>1500</td>\n",
              "      <td>16383</td>\n",
              "      <td>171</td>\n",
              "      <td>650</td>\n",
              "      <td>3</td>\n",
              "    </tr>\n",
              "    <tr>\n",
              "      <th>3</th>\n",
              "      <td>14350</td>\n",
              "      <td>True</td>\n",
              "      <td>1.504110e+12</td>\n",
              "      <td>1.504110e+12</td>\n",
              "      <td>61</td>\n",
              "      <td>1</td>\n",
              "      <td>2</td>\n",
              "      <td>187</td>\n",
              "      <td>2017</td>\n",
              "      <td>1439</td>\n",
              "      <td>134</td>\n",
              "      <td>1454</td>\n",
              "      <td>3770</td>\n",
              "      <td>241</td>\n",
              "      <td>992</td>\n",
              "      <td>3</td>\n",
              "    </tr>\n",
              "    <tr>\n",
              "      <th>4</th>\n",
              "      <td>3091</td>\n",
              "      <td>True</td>\n",
              "      <td>1.504030e+12</td>\n",
              "      <td>1.504030e+12</td>\n",
              "      <td>95</td>\n",
              "      <td>1</td>\n",
              "      <td>2</td>\n",
              "      <td>247</td>\n",
              "      <td>6056</td>\n",
              "      <td>1523</td>\n",
              "      <td>134</td>\n",
              "      <td>1469</td>\n",
              "      <td>15622</td>\n",
              "      <td>192</td>\n",
              "      <td>783</td>\n",
              "      <td>5</td>\n",
              "    </tr>\n",
              "  </tbody>\n",
              "</table>\n",
              "</div>"
            ],
            "text/plain": [
              "      id  rated    created_at  last_move_at  turns  victory_status  winner  \\\n",
              "0   9068  False  1.504210e+12  1.504210e+12     13               2       2   \n",
              "1  14512   True  1.504130e+12  1.504130e+12     16               3       0   \n",
              "2  14904   True  1.504130e+12  1.504130e+12     61               1       2   \n",
              "3  14350   True  1.504110e+12  1.504110e+12     61               1       2   \n",
              "4   3091   True  1.504030e+12  1.504030e+12     95               1       2   \n",
              "\n",
              "   increment_code  white_id  white_rating  black_id  black_rating  moves  \\\n",
              "0             110      1287          1500        11          1191   4524   \n",
              "1             298        16          1322      7748          1261   1987   \n",
              "2             298      3823          1496        11          1500  16383   \n",
              "3             187      2017          1439       134          1454   3770   \n",
              "4             247      6056          1523       134          1469  15622   \n",
              "\n",
              "   opening_eco  opening_name  opening_ply  \n",
              "0          248          1387            5  \n",
              "1           71           750            4  \n",
              "2          171           650            3  \n",
              "3          241           992            3  \n",
              "4          192           783            5  "
            ]
          },
          "execution_count": 7,
          "metadata": {},
          "output_type": "execute_result"
        }
      ],
      "source": [
        "chess_games.head()"
      ]
    },
    {
      "cell_type": "markdown",
      "metadata": {
        "id": "NXW15s_LD37Q"
      },
      "source": [
        "# Tratamento de dados ausentes"
      ]
    },
    {
      "cell_type": "code",
      "execution_count": 8,
      "metadata": {
        "colab": {
          "base_uri": "https://localhost:8080/"
        },
        "id": "mhocDl4nD_ep",
        "outputId": "d768e1ef-5617-4d80-f182-651bbd70ed39"
      },
      "outputs": [
        {
          "data": {
            "text/plain": [
              "(20058, 16)"
            ]
          },
          "execution_count": 8,
          "metadata": {},
          "output_type": "execute_result"
        }
      ],
      "source": [
        "chess_games.shape"
      ]
    },
    {
      "cell_type": "code",
      "execution_count": 9,
      "metadata": {
        "colab": {
          "base_uri": "https://localhost:8080/"
        },
        "id": "2vXFwG0YEDvo",
        "outputId": "a53df129-bc5b-4924-dd6f-a385638f9daa"
      },
      "outputs": [
        {
          "name": "stdout",
          "output_type": "stream",
          "text": [
            "id                0\n",
            "rated             0\n",
            "created_at        0\n",
            "last_move_at      0\n",
            "turns             0\n",
            "victory_status    0\n",
            "winner            0\n",
            "increment_code    0\n",
            "white_id          0\n",
            "white_rating      0\n",
            "black_id          0\n",
            "black_rating      0\n",
            "moves             0\n",
            "opening_eco       0\n",
            "opening_name      0\n",
            "opening_ply       0\n",
            "dtype: int64\n"
          ]
        }
      ],
      "source": [
        "# verificando se há dados ausentes\n",
        "print(chess_games.isnull().sum())"
      ]
    },
    {
      "cell_type": "markdown",
      "metadata": {
        "id": "BJmWjMN0EgIw"
      },
      "source": [
        "O dataset selecionado não contém dados ausentes, portanto será feita uma remoção aleatória de dados para que possa ser realizada uma imputação em seguida"
      ]
    },
    {
      "cell_type": "markdown",
      "metadata": {},
      "source": [
        "## Normalização"
      ]
    },
    {
      "cell_type": "markdown",
      "metadata": {},
      "source": [
        "Antes de realizar a imputação, é necessário normalizar os dados para que a imputação seja feita de forma correta. Apenas as colunas que se referem aos ratings dos jogadores serão utilizadas."
      ]
    },
    {
      "cell_type": "code",
      "execution_count": 10,
      "metadata": {},
      "outputs": [],
      "source": [
        "# normalização entre 0 e 1\n",
        "chess_games['white_rating'] = (chess_games['white_rating'] - chess_games['white_rating'].min()) \\\n",
        "    / (chess_games['white_rating'].max() - chess_games['white_rating'].min())\n",
        "chess_games['black_rating'] = (chess_games['black_rating'] - chess_games['black_rating'].min()) \\\n",
        "    / (chess_games['black_rating'].max() - chess_games['black_rating'].min())"
      ]
    },
    {
      "cell_type": "code",
      "execution_count": 11,
      "metadata": {},
      "outputs": [
        {
          "data": {
            "text/html": [
              "<div>\n",
              "<style scoped>\n",
              "    .dataframe tbody tr th:only-of-type {\n",
              "        vertical-align: middle;\n",
              "    }\n",
              "\n",
              "    .dataframe tbody tr th {\n",
              "        vertical-align: top;\n",
              "    }\n",
              "\n",
              "    .dataframe thead th {\n",
              "        text-align: right;\n",
              "    }\n",
              "</style>\n",
              "<table border=\"1\" class=\"dataframe\">\n",
              "  <thead>\n",
              "    <tr style=\"text-align: right;\">\n",
              "      <th></th>\n",
              "      <th>white_rating</th>\n",
              "      <th>black_rating</th>\n",
              "    </tr>\n",
              "  </thead>\n",
              "  <tbody>\n",
              "    <tr>\n",
              "      <th>count</th>\n",
              "      <td>20058.000000</td>\n",
              "      <td>20058.000000</td>\n",
              "    </tr>\n",
              "    <tr>\n",
              "      <th>mean</th>\n",
              "      <td>0.424129</td>\n",
              "      <td>0.413564</td>\n",
              "    </tr>\n",
              "    <tr>\n",
              "      <th>std</th>\n",
              "      <td>0.152011</td>\n",
              "      <td>0.150484</td>\n",
              "    </tr>\n",
              "    <tr>\n",
              "      <th>min</th>\n",
              "      <td>0.000000</td>\n",
              "      <td>0.000000</td>\n",
              "    </tr>\n",
              "    <tr>\n",
              "      <th>25%</th>\n",
              "      <td>0.320459</td>\n",
              "      <td>0.311272</td>\n",
              "    </tr>\n",
              "    <tr>\n",
              "      <th>50%</th>\n",
              "      <td>0.408664</td>\n",
              "      <td>0.399690</td>\n",
              "    </tr>\n",
              "    <tr>\n",
              "      <th>75%</th>\n",
              "      <td>0.526618</td>\n",
              "      <td>0.514478</td>\n",
              "    </tr>\n",
              "    <tr>\n",
              "      <th>max</th>\n",
              "      <td>1.000000</td>\n",
              "      <td>1.000000</td>\n",
              "    </tr>\n",
              "  </tbody>\n",
              "</table>\n",
              "</div>"
            ],
            "text/plain": [
              "       white_rating  black_rating\n",
              "count  20058.000000  20058.000000\n",
              "mean       0.424129      0.413564\n",
              "std        0.152011      0.150484\n",
              "min        0.000000      0.000000\n",
              "25%        0.320459      0.311272\n",
              "50%        0.408664      0.399690\n",
              "75%        0.526618      0.514478\n",
              "max        1.000000      1.000000"
            ]
          },
          "execution_count": 11,
          "metadata": {},
          "output_type": "execute_result"
        }
      ],
      "source": [
        "chess_games[['white_rating', 'black_rating']].describe()"
      ]
    },
    {
      "cell_type": "markdown",
      "metadata": {},
      "source": [
        "## Remoção de dados"
      ]
    },
    {
      "cell_type": "code",
      "execution_count": 12,
      "metadata": {},
      "outputs": [],
      "source": [
        "# gerando indices aleatórios\n",
        "random_indices_white_rating = np.random.choice(chess_games.index, size=int(len(chess_games)*0.05), replace=False)\n",
        "random_indices_black_rating = np.random.choice(chess_games.index, size=int(len(chess_games)*0.05), replace=False)\n",
        "\n",
        "# substituindo valores por NaN\n",
        "chess_games2 = chess_games.copy()\n",
        "chess_games2.loc[random_indices_white_rating, ['white_rating']] = np.nan\n",
        "chess_games2.loc[random_indices_black_rating, ['black_rating']] = np.nan"
      ]
    },
    {
      "cell_type": "code",
      "execution_count": 13,
      "metadata": {},
      "outputs": [
        {
          "data": {
            "text/plain": [
              "id                   0\n",
              "rated                0\n",
              "created_at           0\n",
              "last_move_at         0\n",
              "turns                0\n",
              "victory_status       0\n",
              "winner               0\n",
              "increment_code       0\n",
              "white_id             0\n",
              "white_rating      1002\n",
              "black_id             0\n",
              "black_rating      1002\n",
              "moves                0\n",
              "opening_eco          0\n",
              "opening_name         0\n",
              "opening_ply          0\n",
              "dtype: int64"
            ]
          },
          "execution_count": 13,
          "metadata": {},
          "output_type": "execute_result"
        }
      ],
      "source": [
        "chess_games2.isnull().sum()"
      ]
    },
    {
      "cell_type": "markdown",
      "metadata": {},
      "source": [
        "## Imputação de dados"
      ]
    },
    {
      "cell_type": "markdown",
      "metadata": {},
      "source": [
        "### Usando a média"
      ]
    },
    {
      "cell_type": "code",
      "execution_count": 14,
      "metadata": {},
      "outputs": [],
      "source": [
        "chess_games_mean_fill = chess_games2.copy()"
      ]
    },
    {
      "cell_type": "code",
      "execution_count": 15,
      "metadata": {},
      "outputs": [
        {
          "name": "stdout",
          "output_type": "stream",
          "text": [
            "white_rating\n",
            "mean: 0.4243211744661159\n",
            "median: 0.40866388308977036\n",
            "\n",
            "black_rating\n",
            "mean: 0.41402787039473055\n",
            "median: 0.3996897621509824\n"
          ]
        }
      ],
      "source": [
        "print(\"white_rating\")\n",
        "print(\"mean:\", chess_games_mean_fill['white_rating'].mean())\n",
        "print(\"median:\", chess_games_mean_fill['white_rating'].median(), end='\\n\\n')\n",
        "\n",
        "print(\"black_rating\")\n",
        "print(\"mean:\", chess_games_mean_fill['black_rating'].mean())\n",
        "print(\"median:\", chess_games_mean_fill['black_rating'].median())"
      ]
    },
    {
      "cell_type": "code",
      "execution_count": 16,
      "metadata": {},
      "outputs": [],
      "source": [
        "chess_games_mean_fill['white_rating'].fillna(chess_games2['white_rating'].mean(), inplace=True)\n",
        "chess_games_mean_fill['black_rating'].fillna(chess_games2['black_rating'].mean(), inplace=True)"
      ]
    },
    {
      "cell_type": "code",
      "execution_count": 17,
      "metadata": {},
      "outputs": [
        {
          "data": {
            "text/plain": [
              "id                0\n",
              "rated             0\n",
              "created_at        0\n",
              "last_move_at      0\n",
              "turns             0\n",
              "victory_status    0\n",
              "winner            0\n",
              "increment_code    0\n",
              "white_id          0\n",
              "white_rating      0\n",
              "black_id          0\n",
              "black_rating      0\n",
              "moves             0\n",
              "opening_eco       0\n",
              "opening_name      0\n",
              "opening_ply       0\n",
              "dtype: int64"
            ]
          },
          "execution_count": 17,
          "metadata": {},
          "output_type": "execute_result"
        }
      ],
      "source": [
        "chess_games_mean_fill.isnull().sum()"
      ]
    },
    {
      "cell_type": "code",
      "execution_count": 18,
      "metadata": {},
      "outputs": [
        {
          "name": "stdout",
          "output_type": "stream",
          "text": [
            "white_rating\n",
            "mean: 0.42432117446611584\n",
            "median: 0.4196242171189979\n",
            "\n",
            "black_rating\n",
            "mean: 0.4140278703947306\n",
            "median: 0.4095139607032058\n"
          ]
        }
      ],
      "source": [
        "print(\"white_rating\")\n",
        "print(\"mean:\", chess_games_mean_fill['white_rating'].mean())\n",
        "print(\"median:\", chess_games_mean_fill['white_rating'].median(), end='\\n\\n')\n",
        "\n",
        "print(\"black_rating\")\n",
        "print(\"mean:\", chess_games_mean_fill['black_rating'].mean())\n",
        "print(\"median:\", chess_games_mean_fill['black_rating'].median())"
      ]
    },
    {
      "cell_type": "markdown",
      "metadata": {},
      "source": [
        "Quando a média é utilizada, o seu valor é alterado, além de afetar o valor da mediana, deslocando-a para um valor mais próximo do seu próprio."
      ]
    },
    {
      "cell_type": "markdown",
      "metadata": {},
      "source": [
        "### Usando a mediana"
      ]
    },
    {
      "cell_type": "code",
      "execution_count": 19,
      "metadata": {},
      "outputs": [],
      "source": [
        "chess_games_median_fill = chess_games2.copy()"
      ]
    },
    {
      "cell_type": "code",
      "execution_count": 20,
      "metadata": {},
      "outputs": [
        {
          "name": "stdout",
          "output_type": "stream",
          "text": [
            "white_rating\n",
            "mean: 0.4243211744661159\n",
            "median: 0.40866388308977036\n",
            "\n",
            "black_rating\n",
            "mean: 0.41402787039473055\n",
            "median: 0.3996897621509824\n"
          ]
        }
      ],
      "source": [
        "print(\"white_rating\")\n",
        "print(\"mean:\", chess_games_median_fill['white_rating'].mean())\n",
        "print(\"median:\", chess_games_median_fill['white_rating'].median(), end='\\n\\n')\n",
        "\n",
        "print(\"black_rating\")\n",
        "print(\"mean:\", chess_games_median_fill['black_rating'].mean())\n",
        "print(\"median:\", chess_games_median_fill['black_rating'].median())"
      ]
    },
    {
      "cell_type": "code",
      "execution_count": 21,
      "metadata": {},
      "outputs": [],
      "source": [
        "chess_games_median_fill['white_rating'].fillna(chess_games2['white_rating'].median(), inplace=True)\n",
        "chess_games_median_fill['black_rating'].fillna(chess_games2['black_rating'].median(), inplace=True)"
      ]
    },
    {
      "cell_type": "code",
      "execution_count": 22,
      "metadata": {},
      "outputs": [
        {
          "data": {
            "text/plain": [
              "id                0\n",
              "rated             0\n",
              "created_at        0\n",
              "last_move_at      0\n",
              "turns             0\n",
              "victory_status    0\n",
              "winner            0\n",
              "increment_code    0\n",
              "white_id          0\n",
              "white_rating      0\n",
              "black_id          0\n",
              "black_rating      0\n",
              "moves             0\n",
              "opening_eco       0\n",
              "opening_name      0\n",
              "opening_ply       0\n",
              "dtype: int64"
            ]
          },
          "execution_count": 22,
          "metadata": {},
          "output_type": "execute_result"
        }
      ],
      "source": [
        "chess_games_median_fill.isnull().sum()"
      ]
    },
    {
      "cell_type": "code",
      "execution_count": 23,
      "metadata": {},
      "outputs": [
        {
          "name": "stdout",
          "output_type": "stream",
          "text": [
            "white_rating\n",
            "mean: 0.4235390124380424\n",
            "median: 0.40866388308977036\n",
            "\n",
            "black_rating\n",
            "mean: 0.41331160833170155\n",
            "median: 0.3996897621509824\n"
          ]
        }
      ],
      "source": [
        "print(\"white_rating\")\n",
        "print(\"mean:\", chess_games_median_fill['white_rating'].mean())\n",
        "print(\"median:\", chess_games_median_fill['white_rating'].median(), end='\\n\\n')\n",
        "\n",
        "print(\"black_rating\")\n",
        "print(\"mean:\", chess_games_median_fill['black_rating'].mean())\n",
        "print(\"median:\", chess_games_median_fill['black_rating'].median())"
      ]
    },
    {
      "cell_type": "markdown",
      "metadata": {},
      "source": [
        "Quando a mediana é utilizada, o seu valor se mantém e o valor da média é levemente alterado, sem apresentar um grande impacto nas estatísticas originais."
      ]
    },
    {
      "cell_type": "markdown",
      "metadata": {},
      "source": [
        "### Usando um valor aleatório"
      ]
    },
    {
      "cell_type": "code",
      "execution_count": 24,
      "metadata": {},
      "outputs": [],
      "source": [
        "chess_games_random_fill = chess_games2.copy()"
      ]
    },
    {
      "cell_type": "code",
      "execution_count": 25,
      "metadata": {},
      "outputs": [
        {
          "name": "stdout",
          "output_type": "stream",
          "text": [
            "white_rating\n",
            "mean: 0.4243211744661159\n",
            "median: 0.40866388308977036\n",
            "\n",
            "black_rating\n",
            "mean: 0.41402787039473055\n",
            "median: 0.3996897621509824\n"
          ]
        }
      ],
      "source": [
        "print(\"white_rating\")\n",
        "print(\"mean:\", chess_games_random_fill['white_rating'].mean())\n",
        "print(\"median:\", chess_games_random_fill['white_rating'].median(), end='\\n\\n')\n",
        "\n",
        "print(\"black_rating\")\n",
        "print(\"mean:\", chess_games_random_fill['black_rating'].mean())\n",
        "print(\"median:\", chess_games_random_fill['black_rating'].median())"
      ]
    },
    {
      "cell_type": "code",
      "execution_count": 26,
      "metadata": {},
      "outputs": [
        {
          "data": {
            "text/plain": [
              "count    19056.000000\n",
              "mean         0.424321\n",
              "std          0.151927\n",
              "min          0.000000\n",
              "25%          0.320459\n",
              "50%          0.408664\n",
              "75%          0.526618\n",
              "max          1.000000\n",
              "Name: white_rating, dtype: float64"
            ]
          },
          "execution_count": 26,
          "metadata": {},
          "output_type": "execute_result"
        }
      ],
      "source": [
        "# verificando os valores mínimo e máximo do white_rating\n",
        "chess_games_random_fill['white_rating'].describe()"
      ]
    },
    {
      "cell_type": "code",
      "execution_count": 27,
      "metadata": {},
      "outputs": [
        {
          "data": {
            "text/plain": [
              "count    19056.000000\n",
              "mean         0.414028\n",
              "std          0.150430\n",
              "min          0.000000\n",
              "25%          0.311789\n",
              "50%          0.399690\n",
              "75%          0.514995\n",
              "max          1.000000\n",
              "Name: black_rating, dtype: float64"
            ]
          },
          "execution_count": 27,
          "metadata": {},
          "output_type": "execute_result"
        }
      ],
      "source": [
        "# verificando os valores mínimo e máximo do black_rating\n",
        "chess_games_random_fill['black_rating'].describe()"
      ]
    },
    {
      "cell_type": "code",
      "execution_count": 28,
      "metadata": {},
      "outputs": [],
      "source": [
        "import random\n",
        "chess_games_random_fill['white_rating'].fillna(random.randint(chess_games2['white_rating'].min(), chess_games2['white_rating'].max()), inplace=True)\n",
        "chess_games_random_fill['black_rating'].fillna(random.randint(chess_games2['black_rating'].min(), chess_games2['black_rating'].max()), inplace=True)"
      ]
    },
    {
      "cell_type": "code",
      "execution_count": 29,
      "metadata": {},
      "outputs": [
        {
          "data": {
            "text/plain": [
              "id                0\n",
              "rated             0\n",
              "created_at        0\n",
              "last_move_at      0\n",
              "turns             0\n",
              "victory_status    0\n",
              "winner            0\n",
              "increment_code    0\n",
              "white_id          0\n",
              "white_rating      0\n",
              "black_id          0\n",
              "black_rating      0\n",
              "moves             0\n",
              "opening_eco       0\n",
              "opening_name      0\n",
              "opening_ply       0\n",
              "dtype: int64"
            ]
          },
          "execution_count": 29,
          "metadata": {},
          "output_type": "execute_result"
        }
      ],
      "source": [
        "chess_games_random_fill.isnull().sum()"
      ]
    },
    {
      "cell_type": "code",
      "execution_count": 30,
      "metadata": {},
      "outputs": [
        {
          "name": "stdout",
          "output_type": "stream",
          "text": [
            "white_rating\n",
            "mean: 0.4031241549818678\n",
            "median: 0.39926931106471814\n",
            "\n",
            "black_rating\n",
            "mean: 0.44330018437740476\n",
            "median: 0.4095139607032058\n"
          ]
        }
      ],
      "source": [
        "print(\"white_rating\")\n",
        "print(\"mean:\", chess_games_random_fill['white_rating'].mean())\n",
        "print(\"median:\", chess_games_random_fill['white_rating'].median(), end='\\n\\n')\n",
        "\n",
        "print(\"black_rating\")\n",
        "print(\"mean:\", chess_games_random_fill['black_rating'].mean())\n",
        "print(\"median:\", chess_games_random_fill['black_rating'].median())"
      ]
    },
    {
      "cell_type": "markdown",
      "metadata": {},
      "source": [
        "A utilização de valores aleatórios se mostra uma opção ruim para a imputação de dados, pois pode distorcer as estatísticas originais do dataset, perdendo assim informações importantes."
      ]
    },
    {
      "cell_type": "markdown",
      "metadata": {},
      "source": [
        "### Usando um preditor KNN"
      ]
    },
    {
      "cell_type": "code",
      "execution_count": 31,
      "metadata": {},
      "outputs": [],
      "source": [
        "chess_games_knn_fill = chess_games2.copy()"
      ]
    },
    {
      "cell_type": "markdown",
      "metadata": {},
      "source": [
        "#### Executando o KNN"
      ]
    },
    {
      "cell_type": "code",
      "execution_count": 32,
      "metadata": {},
      "outputs": [
        {
          "name": "stdout",
          "output_type": "stream",
          "text": [
            "Requirement already satisfied: fancyimpute in /home/vinicius/.local/lib/python3.8/site-packages (0.7.0)\n",
            "Requirement already satisfied: cvxopt in /home/vinicius/.local/lib/python3.8/site-packages (from fancyimpute) (1.3.2)\n",
            "Requirement already satisfied: nose in /home/vinicius/.local/lib/python3.8/site-packages (from fancyimpute) (1.3.7)\n",
            "Requirement already satisfied: scikit-learn>=0.24.2 in /home/vinicius/.local/lib/python3.8/site-packages (from fancyimpute) (1.3.2)\n",
            "Requirement already satisfied: knnimpute>=0.1.0 in /home/vinicius/.local/lib/python3.8/site-packages (from fancyimpute) (0.1.0)\n",
            "Requirement already satisfied: pytest in /home/vinicius/.local/lib/python3.8/site-packages (from fancyimpute) (8.2.0)\n",
            "Requirement already satisfied: cvxpy in /home/vinicius/.local/lib/python3.8/site-packages (from fancyimpute) (1.5.1)\n",
            "Requirement already satisfied: numpy<2.0,>=1.17.3 in /home/vinicius/.local/lib/python3.8/site-packages (from scikit-learn>=0.24.2->fancyimpute) (1.24.4)\n",
            "Requirement already satisfied: joblib>=1.1.1 in /home/vinicius/.local/lib/python3.8/site-packages (from scikit-learn>=0.24.2->fancyimpute) (1.4.2)\n",
            "Requirement already satisfied: threadpoolctl>=2.0.0 in /home/vinicius/.local/lib/python3.8/site-packages (from scikit-learn>=0.24.2->fancyimpute) (3.5.0)\n",
            "Requirement already satisfied: scipy>=1.5.0 in /home/vinicius/.local/lib/python3.8/site-packages (from scikit-learn>=0.24.2->fancyimpute) (1.10.1)\n",
            "Requirement already satisfied: six in /usr/lib/python3/dist-packages (from knnimpute>=0.1.0->fancyimpute) (1.14.0)\n",
            "Requirement already satisfied: packaging in /home/vinicius/.local/lib/python3.8/site-packages (from pytest->fancyimpute) (23.2)\n",
            "Requirement already satisfied: iniconfig in /home/vinicius/.local/lib/python3.8/site-packages (from pytest->fancyimpute) (2.0.0)\n",
            "Requirement already satisfied: tomli>=1; python_version < \"3.11\" in /home/vinicius/.local/lib/python3.8/site-packages (from pytest->fancyimpute) (2.0.1)\n",
            "Requirement already satisfied: pluggy<2.0,>=1.5 in /home/vinicius/.local/lib/python3.8/site-packages (from pytest->fancyimpute) (1.5.0)\n",
            "Requirement already satisfied: exceptiongroup>=1.0.0rc8; python_version < \"3.11\" in /home/vinicius/.local/lib/python3.8/site-packages (from pytest->fancyimpute) (1.2.1)\n",
            "Requirement already satisfied: scs>=3.2.4.post1 in /home/vinicius/.local/lib/python3.8/site-packages (from cvxpy->fancyimpute) (3.2.4.post1)\n",
            "Requirement already satisfied: clarabel>=0.5.0 in /home/vinicius/.local/lib/python3.8/site-packages (from cvxpy->fancyimpute) (0.7.1)\n",
            "Requirement already satisfied: ecos>=2 in /home/vinicius/.local/lib/python3.8/site-packages (from cvxpy->fancyimpute) (2.0.13)\n",
            "Requirement already satisfied: osqp>=0.6.2 in /home/vinicius/.local/lib/python3.8/site-packages (from cvxpy->fancyimpute) (0.6.5)\n",
            "Requirement already satisfied: qdldl in /home/vinicius/.local/lib/python3.8/site-packages (from osqp>=0.6.2->cvxpy->fancyimpute) (0.1.7.post2)\n",
            "Note: you may need to restart the kernel to use updated packages.\n"
          ]
        }
      ],
      "source": [
        "%pip install fancyimpute"
      ]
    },
    {
      "cell_type": "code",
      "execution_count": 33,
      "metadata": {},
      "outputs": [
        {
          "name": "stdout",
          "output_type": "stream",
          "text": [
            "Imputing row 1/20058 with 1 missing, elapsed time: 40.634\n",
            "Imputing row 101/20058 with 0 missing, elapsed time: 40.635\n",
            "Imputing row 201/20058 with 0 missing, elapsed time: 40.636\n",
            "Imputing row 301/20058 with 0 missing, elapsed time: 40.636\n",
            "Imputing row 401/20058 with 0 missing, elapsed time: 40.637\n",
            "Imputing row 501/20058 with 0 missing, elapsed time: 40.637\n",
            "Imputing row 601/20058 with 0 missing, elapsed time: 40.638\n",
            "Imputing row 701/20058 with 0 missing, elapsed time: 40.639\n",
            "Imputing row 801/20058 with 0 missing, elapsed time: 40.639\n",
            "Imputing row 901/20058 with 0 missing, elapsed time: 40.640\n",
            "Imputing row 1001/20058 with 0 missing, elapsed time: 40.640\n",
            "Imputing row 1101/20058 with 0 missing, elapsed time: 40.641\n",
            "Imputing row 1201/20058 with 0 missing, elapsed time: 40.641\n",
            "Imputing row 1301/20058 with 0 missing, elapsed time: 40.642\n",
            "Imputing row 1401/20058 with 0 missing, elapsed time: 40.642\n",
            "Imputing row 1501/20058 with 0 missing, elapsed time: 40.643\n",
            "Imputing row 1601/20058 with 1 missing, elapsed time: 40.643\n",
            "Imputing row 1701/20058 with 0 missing, elapsed time: 40.644\n",
            "Imputing row 1801/20058 with 0 missing, elapsed time: 40.645\n",
            "Imputing row 1901/20058 with 0 missing, elapsed time: 40.645\n",
            "Imputing row 2001/20058 with 0 missing, elapsed time: 40.646\n",
            "Imputing row 2101/20058 with 0 missing, elapsed time: 40.647\n",
            "Imputing row 2201/20058 with 0 missing, elapsed time: 40.647\n",
            "Imputing row 2301/20058 with 0 missing, elapsed time: 40.648\n",
            "Imputing row 2401/20058 with 0 missing, elapsed time: 40.648\n",
            "Imputing row 2501/20058 with 0 missing, elapsed time: 40.649\n",
            "Imputing row 2601/20058 with 0 missing, elapsed time: 40.649\n",
            "Imputing row 2701/20058 with 0 missing, elapsed time: 40.650\n",
            "Imputing row 2801/20058 with 0 missing, elapsed time: 40.650\n",
            "Imputing row 2901/20058 with 0 missing, elapsed time: 40.651\n",
            "Imputing row 3001/20058 with 0 missing, elapsed time: 40.652\n",
            "Imputing row 3101/20058 with 0 missing, elapsed time: 40.652\n",
            "Imputing row 3201/20058 with 1 missing, elapsed time: 40.653\n",
            "Imputing row 3301/20058 with 0 missing, elapsed time: 40.653\n",
            "Imputing row 3401/20058 with 0 missing, elapsed time: 40.654\n",
            "Imputing row 3501/20058 with 0 missing, elapsed time: 40.654\n",
            "Imputing row 3601/20058 with 0 missing, elapsed time: 40.655\n",
            "Imputing row 3701/20058 with 0 missing, elapsed time: 40.655\n",
            "Imputing row 3801/20058 with 0 missing, elapsed time: 40.656\n",
            "Imputing row 3901/20058 with 0 missing, elapsed time: 40.656\n",
            "Imputing row 4001/20058 with 0 missing, elapsed time: 40.656\n",
            "Imputing row 4101/20058 with 0 missing, elapsed time: 40.657\n",
            "Imputing row 4201/20058 with 0 missing, elapsed time: 40.657\n",
            "Imputing row 4301/20058 with 0 missing, elapsed time: 40.658\n",
            "Imputing row 4401/20058 with 0 missing, elapsed time: 40.659\n",
            "Imputing row 4501/20058 with 0 missing, elapsed time: 40.659\n",
            "Imputing row 4601/20058 with 0 missing, elapsed time: 40.660\n",
            "Imputing row 4701/20058 with 0 missing, elapsed time: 40.660\n",
            "Imputing row 4801/20058 with 0 missing, elapsed time: 40.661\n",
            "Imputing row 4901/20058 with 1 missing, elapsed time: 40.662\n",
            "Imputing row 5001/20058 with 0 missing, elapsed time: 40.662\n",
            "Imputing row 5101/20058 with 0 missing, elapsed time: 40.663\n",
            "Imputing row 5201/20058 with 0 missing, elapsed time: 40.663\n",
            "Imputing row 5301/20058 with 0 missing, elapsed time: 40.664\n",
            "Imputing row 5401/20058 with 0 missing, elapsed time: 40.664\n",
            "Imputing row 5501/20058 with 0 missing, elapsed time: 40.665\n",
            "Imputing row 5601/20058 with 0 missing, elapsed time: 40.665\n",
            "Imputing row 5701/20058 with 1 missing, elapsed time: 40.666\n",
            "Imputing row 5801/20058 with 0 missing, elapsed time: 40.666\n",
            "Imputing row 5901/20058 with 0 missing, elapsed time: 40.667\n",
            "Imputing row 6001/20058 with 0 missing, elapsed time: 40.667\n",
            "Imputing row 6101/20058 with 0 missing, elapsed time: 40.668\n",
            "Imputing row 6201/20058 with 0 missing, elapsed time: 40.669\n",
            "Imputing row 6301/20058 with 0 missing, elapsed time: 40.669\n",
            "Imputing row 6401/20058 with 0 missing, elapsed time: 40.669\n",
            "Imputing row 6501/20058 with 0 missing, elapsed time: 40.670\n",
            "Imputing row 6601/20058 with 0 missing, elapsed time: 40.670\n",
            "Imputing row 6701/20058 with 0 missing, elapsed time: 40.671\n",
            "Imputing row 6801/20058 with 0 missing, elapsed time: 40.671\n",
            "Imputing row 6901/20058 with 0 missing, elapsed time: 40.672\n",
            "Imputing row 7001/20058 with 0 missing, elapsed time: 40.673\n",
            "Imputing row 7101/20058 with 0 missing, elapsed time: 40.673\n",
            "Imputing row 7201/20058 with 0 missing, elapsed time: 40.674\n",
            "Imputing row 7301/20058 with 0 missing, elapsed time: 40.674\n",
            "Imputing row 7401/20058 with 1 missing, elapsed time: 40.675\n",
            "Imputing row 7501/20058 with 0 missing, elapsed time: 40.676\n",
            "Imputing row 7601/20058 with 1 missing, elapsed time: 40.677\n",
            "Imputing row 7701/20058 with 0 missing, elapsed time: 40.677\n",
            "Imputing row 7801/20058 with 0 missing, elapsed time: 40.678\n",
            "Imputing row 7901/20058 with 0 missing, elapsed time: 40.679\n",
            "Imputing row 8001/20058 with 0 missing, elapsed time: 40.679\n",
            "Imputing row 8101/20058 with 0 missing, elapsed time: 40.680\n",
            "Imputing row 8201/20058 with 1 missing, elapsed time: 40.680\n",
            "Imputing row 8301/20058 with 0 missing, elapsed time: 40.681\n",
            "Imputing row 8401/20058 with 0 missing, elapsed time: 40.681\n",
            "Imputing row 8501/20058 with 0 missing, elapsed time: 40.682\n",
            "Imputing row 8601/20058 with 0 missing, elapsed time: 40.682\n",
            "Imputing row 8701/20058 with 0 missing, elapsed time: 40.683\n",
            "Imputing row 8801/20058 with 0 missing, elapsed time: 40.683\n",
            "Imputing row 8901/20058 with 0 missing, elapsed time: 40.684\n",
            "Imputing row 9001/20058 with 0 missing, elapsed time: 40.684\n",
            "Imputing row 9101/20058 with 0 missing, elapsed time: 40.685\n",
            "Imputing row 9201/20058 with 0 missing, elapsed time: 40.685\n",
            "Imputing row 9301/20058 with 0 missing, elapsed time: 40.686\n",
            "Imputing row 9401/20058 with 0 missing, elapsed time: 40.686\n",
            "Imputing row 9501/20058 with 0 missing, elapsed time: 40.687\n",
            "Imputing row 9601/20058 with 1 missing, elapsed time: 40.687\n",
            "Imputing row 9701/20058 with 0 missing, elapsed time: 40.688\n",
            "Imputing row 9801/20058 with 0 missing, elapsed time: 40.688\n",
            "Imputing row 9901/20058 with 1 missing, elapsed time: 40.689\n",
            "Imputing row 10001/20058 with 0 missing, elapsed time: 40.689\n",
            "Imputing row 10101/20058 with 0 missing, elapsed time: 40.690\n",
            "Imputing row 10201/20058 with 0 missing, elapsed time: 40.690\n",
            "Imputing row 10301/20058 with 0 missing, elapsed time: 40.691\n",
            "Imputing row 10401/20058 with 1 missing, elapsed time: 40.692\n",
            "Imputing row 10501/20058 with 0 missing, elapsed time: 40.692\n",
            "Imputing row 10601/20058 with 0 missing, elapsed time: 40.693\n",
            "Imputing row 10701/20058 with 0 missing, elapsed time: 40.694\n",
            "Imputing row 10801/20058 with 0 missing, elapsed time: 40.695\n",
            "Imputing row 10901/20058 with 0 missing, elapsed time: 40.695\n",
            "Imputing row 11001/20058 with 1 missing, elapsed time: 40.696\n",
            "Imputing row 11101/20058 with 1 missing, elapsed time: 40.697\n",
            "Imputing row 11201/20058 with 0 missing, elapsed time: 40.697\n",
            "Imputing row 11301/20058 with 0 missing, elapsed time: 40.698\n",
            "Imputing row 11401/20058 with 0 missing, elapsed time: 40.698\n",
            "Imputing row 11501/20058 with 1 missing, elapsed time: 40.699\n",
            "Imputing row 11601/20058 with 0 missing, elapsed time: 40.699\n",
            "Imputing row 11701/20058 with 1 missing, elapsed time: 40.700\n",
            "Imputing row 11801/20058 with 0 missing, elapsed time: 40.701\n",
            "Imputing row 11901/20058 with 0 missing, elapsed time: 40.702\n",
            "Imputing row 12001/20058 with 0 missing, elapsed time: 40.703\n",
            "Imputing row 12101/20058 with 0 missing, elapsed time: 40.704\n",
            "Imputing row 12201/20058 with 0 missing, elapsed time: 40.704\n",
            "Imputing row 12301/20058 with 0 missing, elapsed time: 40.705\n",
            "Imputing row 12401/20058 with 0 missing, elapsed time: 40.706\n",
            "Imputing row 12501/20058 with 1 missing, elapsed time: 40.707\n",
            "Imputing row 12601/20058 with 0 missing, elapsed time: 40.707\n",
            "Imputing row 12701/20058 with 0 missing, elapsed time: 40.708\n",
            "Imputing row 12801/20058 with 0 missing, elapsed time: 40.709\n",
            "Imputing row 12901/20058 with 0 missing, elapsed time: 40.710\n",
            "Imputing row 13001/20058 with 0 missing, elapsed time: 40.710\n",
            "Imputing row 13101/20058 with 0 missing, elapsed time: 40.711\n",
            "Imputing row 13201/20058 with 0 missing, elapsed time: 40.712\n",
            "Imputing row 13301/20058 with 0 missing, elapsed time: 40.712\n",
            "Imputing row 13401/20058 with 0 missing, elapsed time: 40.713\n",
            "Imputing row 13501/20058 with 0 missing, elapsed time: 40.713\n",
            "Imputing row 13601/20058 with 0 missing, elapsed time: 40.714\n",
            "Imputing row 13701/20058 with 1 missing, elapsed time: 40.715\n",
            "Imputing row 13801/20058 with 0 missing, elapsed time: 40.715\n",
            "Imputing row 13901/20058 with 0 missing, elapsed time: 40.716\n",
            "Imputing row 14001/20058 with 0 missing, elapsed time: 40.716\n",
            "Imputing row 14101/20058 with 0 missing, elapsed time: 40.716\n",
            "Imputing row 14201/20058 with 0 missing, elapsed time: 40.717\n",
            "Imputing row 14301/20058 with 0 missing, elapsed time: 40.717\n",
            "Imputing row 14401/20058 with 0 missing, elapsed time: 40.718\n",
            "Imputing row 14501/20058 with 0 missing, elapsed time: 40.719\n",
            "Imputing row 14601/20058 with 1 missing, elapsed time: 40.719\n",
            "Imputing row 14701/20058 with 0 missing, elapsed time: 40.720\n",
            "Imputing row 14801/20058 with 0 missing, elapsed time: 40.721\n",
            "Imputing row 14901/20058 with 0 missing, elapsed time: 40.721\n",
            "Imputing row 15001/20058 with 1 missing, elapsed time: 40.721\n",
            "Imputing row 15101/20058 with 0 missing, elapsed time: 40.722\n",
            "Imputing row 15201/20058 with 1 missing, elapsed time: 40.723\n",
            "Imputing row 15301/20058 with 0 missing, elapsed time: 40.723\n",
            "Imputing row 15401/20058 with 0 missing, elapsed time: 40.724\n",
            "Imputing row 15501/20058 with 0 missing, elapsed time: 40.724\n",
            "Imputing row 15601/20058 with 0 missing, elapsed time: 40.725\n",
            "Imputing row 15701/20058 with 0 missing, elapsed time: 40.725\n",
            "Imputing row 15801/20058 with 1 missing, elapsed time: 40.726\n",
            "Imputing row 15901/20058 with 0 missing, elapsed time: 40.726\n",
            "Imputing row 16001/20058 with 0 missing, elapsed time: 40.727\n",
            "Imputing row 16101/20058 with 0 missing, elapsed time: 40.728\n",
            "Imputing row 16201/20058 with 0 missing, elapsed time: 40.728\n",
            "Imputing row 16301/20058 with 0 missing, elapsed time: 40.728\n",
            "Imputing row 16401/20058 with 0 missing, elapsed time: 40.729\n",
            "Imputing row 16501/20058 with 0 missing, elapsed time: 40.730\n",
            "Imputing row 16601/20058 with 0 missing, elapsed time: 40.730\n",
            "Imputing row 16701/20058 with 0 missing, elapsed time: 40.730\n",
            "Imputing row 16801/20058 with 0 missing, elapsed time: 40.731\n",
            "Imputing row 16901/20058 with 0 missing, elapsed time: 40.731\n",
            "Imputing row 17001/20058 with 0 missing, elapsed time: 40.732\n",
            "Imputing row 17101/20058 with 0 missing, elapsed time: 40.732\n",
            "Imputing row 17201/20058 with 0 missing, elapsed time: 40.733\n",
            "Imputing row 17301/20058 with 0 missing, elapsed time: 40.734\n",
            "Imputing row 17401/20058 with 0 missing, elapsed time: 40.734\n",
            "Imputing row 17501/20058 with 0 missing, elapsed time: 40.735\n",
            "Imputing row 17601/20058 with 0 missing, elapsed time: 40.735\n",
            "Imputing row 17701/20058 with 0 missing, elapsed time: 40.736\n",
            "Imputing row 17801/20058 with 0 missing, elapsed time: 40.736\n",
            "Imputing row 17901/20058 with 0 missing, elapsed time: 40.737\n",
            "Imputing row 18001/20058 with 0 missing, elapsed time: 40.737\n",
            "Imputing row 18101/20058 with 0 missing, elapsed time: 40.738\n",
            "Imputing row 18201/20058 with 0 missing, elapsed time: 40.738\n",
            "Imputing row 18301/20058 with 0 missing, elapsed time: 40.739\n",
            "Imputing row 18401/20058 with 0 missing, elapsed time: 40.739\n",
            "Imputing row 18501/20058 with 0 missing, elapsed time: 40.740\n",
            "Imputing row 18601/20058 with 0 missing, elapsed time: 40.740\n",
            "Imputing row 18701/20058 with 0 missing, elapsed time: 40.741\n",
            "Imputing row 18801/20058 with 0 missing, elapsed time: 40.741\n",
            "Imputing row 18901/20058 with 0 missing, elapsed time: 40.742\n",
            "Imputing row 19001/20058 with 0 missing, elapsed time: 40.743\n",
            "Imputing row 19101/20058 with 0 missing, elapsed time: 40.743\n",
            "Imputing row 19201/20058 with 0 missing, elapsed time: 40.744\n",
            "Imputing row 19301/20058 with 0 missing, elapsed time: 40.744\n",
            "Imputing row 19401/20058 with 0 missing, elapsed time: 40.745\n",
            "Imputing row 19501/20058 with 0 missing, elapsed time: 40.745\n",
            "Imputing row 19601/20058 with 0 missing, elapsed time: 40.746\n",
            "Imputing row 19701/20058 with 0 missing, elapsed time: 40.747\n",
            "Imputing row 19801/20058 with 0 missing, elapsed time: 40.747\n",
            "Imputing row 19901/20058 with 0 missing, elapsed time: 40.748\n",
            "Imputing row 20001/20058 with 0 missing, elapsed time: 40.748\n"
          ]
        }
      ],
      "source": [
        "from fancyimpute import KNN\n",
        "chess_games_knn = KNN(k=3).fit_transform(chess_games_knn_fill)"
      ]
    },
    {
      "cell_type": "code",
      "execution_count": 34,
      "metadata": {},
      "outputs": [],
      "source": [
        "chess_games_knn_fill = pd.DataFrame(chess_games_knn, columns=chess_games_knn_fill.columns)"
      ]
    },
    {
      "cell_type": "code",
      "execution_count": 35,
      "metadata": {},
      "outputs": [
        {
          "data": {
            "text/html": [
              "<div>\n",
              "<style scoped>\n",
              "    .dataframe tbody tr th:only-of-type {\n",
              "        vertical-align: middle;\n",
              "    }\n",
              "\n",
              "    .dataframe tbody tr th {\n",
              "        vertical-align: top;\n",
              "    }\n",
              "\n",
              "    .dataframe thead th {\n",
              "        text-align: right;\n",
              "    }\n",
              "</style>\n",
              "<table border=\"1\" class=\"dataframe\">\n",
              "  <thead>\n",
              "    <tr style=\"text-align: right;\">\n",
              "      <th></th>\n",
              "      <th>id</th>\n",
              "      <th>rated</th>\n",
              "      <th>created_at</th>\n",
              "      <th>last_move_at</th>\n",
              "      <th>turns</th>\n",
              "      <th>victory_status</th>\n",
              "      <th>winner</th>\n",
              "      <th>increment_code</th>\n",
              "      <th>white_id</th>\n",
              "      <th>white_rating</th>\n",
              "      <th>black_id</th>\n",
              "      <th>black_rating</th>\n",
              "      <th>moves</th>\n",
              "      <th>opening_eco</th>\n",
              "      <th>opening_name</th>\n",
              "      <th>opening_ply</th>\n",
              "    </tr>\n",
              "  </thead>\n",
              "  <tbody>\n",
              "    <tr>\n",
              "      <th>0</th>\n",
              "      <td>9068.0</td>\n",
              "      <td>0.0</td>\n",
              "      <td>1.504210e+12</td>\n",
              "      <td>1.504210e+12</td>\n",
              "      <td>13.0</td>\n",
              "      <td>2.0</td>\n",
              "      <td>2.0</td>\n",
              "      <td>110.0</td>\n",
              "      <td>1287.0</td>\n",
              "      <td>0.373695</td>\n",
              "      <td>11.0</td>\n",
              "      <td>0.470698</td>\n",
              "      <td>4524.0</td>\n",
              "      <td>248.0</td>\n",
              "      <td>1387.0</td>\n",
              "      <td>5.0</td>\n",
              "    </tr>\n",
              "    <tr>\n",
              "      <th>1</th>\n",
              "      <td>14512.0</td>\n",
              "      <td>1.0</td>\n",
              "      <td>1.504130e+12</td>\n",
              "      <td>1.504130e+12</td>\n",
              "      <td>16.0</td>\n",
              "      <td>3.0</td>\n",
              "      <td>0.0</td>\n",
              "      <td>298.0</td>\n",
              "      <td>16.0</td>\n",
              "      <td>0.280793</td>\n",
              "      <td>7748.0</td>\n",
              "      <td>0.244054</td>\n",
              "      <td>1987.0</td>\n",
              "      <td>71.0</td>\n",
              "      <td>750.0</td>\n",
              "      <td>4.0</td>\n",
              "    </tr>\n",
              "    <tr>\n",
              "      <th>2</th>\n",
              "      <td>14904.0</td>\n",
              "      <td>1.0</td>\n",
              "      <td>1.504130e+12</td>\n",
              "      <td>1.504130e+12</td>\n",
              "      <td>61.0</td>\n",
              "      <td>1.0</td>\n",
              "      <td>2.0</td>\n",
              "      <td>298.0</td>\n",
              "      <td>3823.0</td>\n",
              "      <td>0.371608</td>\n",
              "      <td>11.0</td>\n",
              "      <td>0.367632</td>\n",
              "      <td>16383.0</td>\n",
              "      <td>171.0</td>\n",
              "      <td>650.0</td>\n",
              "      <td>3.0</td>\n",
              "    </tr>\n",
              "    <tr>\n",
              "      <th>3</th>\n",
              "      <td>14350.0</td>\n",
              "      <td>1.0</td>\n",
              "      <td>1.504110e+12</td>\n",
              "      <td>1.504110e+12</td>\n",
              "      <td>61.0</td>\n",
              "      <td>1.0</td>\n",
              "      <td>2.0</td>\n",
              "      <td>187.0</td>\n",
              "      <td>2017.0</td>\n",
              "      <td>0.341858</td>\n",
              "      <td>134.0</td>\n",
              "      <td>0.343847</td>\n",
              "      <td>3770.0</td>\n",
              "      <td>241.0</td>\n",
              "      <td>992.0</td>\n",
              "      <td>3.0</td>\n",
              "    </tr>\n",
              "    <tr>\n",
              "      <th>4</th>\n",
              "      <td>3091.0</td>\n",
              "      <td>1.0</td>\n",
              "      <td>1.504030e+12</td>\n",
              "      <td>1.504030e+12</td>\n",
              "      <td>95.0</td>\n",
              "      <td>1.0</td>\n",
              "      <td>2.0</td>\n",
              "      <td>247.0</td>\n",
              "      <td>6056.0</td>\n",
              "      <td>0.385699</td>\n",
              "      <td>134.0</td>\n",
              "      <td>0.351603</td>\n",
              "      <td>15622.0</td>\n",
              "      <td>192.0</td>\n",
              "      <td>783.0</td>\n",
              "      <td>5.0</td>\n",
              "    </tr>\n",
              "  </tbody>\n",
              "</table>\n",
              "</div>"
            ],
            "text/plain": [
              "        id  rated    created_at  last_move_at  turns  victory_status  winner  \\\n",
              "0   9068.0    0.0  1.504210e+12  1.504210e+12   13.0             2.0     2.0   \n",
              "1  14512.0    1.0  1.504130e+12  1.504130e+12   16.0             3.0     0.0   \n",
              "2  14904.0    1.0  1.504130e+12  1.504130e+12   61.0             1.0     2.0   \n",
              "3  14350.0    1.0  1.504110e+12  1.504110e+12   61.0             1.0     2.0   \n",
              "4   3091.0    1.0  1.504030e+12  1.504030e+12   95.0             1.0     2.0   \n",
              "\n",
              "   increment_code  white_id  white_rating  black_id  black_rating    moves  \\\n",
              "0           110.0    1287.0      0.373695      11.0      0.470698   4524.0   \n",
              "1           298.0      16.0      0.280793    7748.0      0.244054   1987.0   \n",
              "2           298.0    3823.0      0.371608      11.0      0.367632  16383.0   \n",
              "3           187.0    2017.0      0.341858     134.0      0.343847   3770.0   \n",
              "4           247.0    6056.0      0.385699     134.0      0.351603  15622.0   \n",
              "\n",
              "   opening_eco  opening_name  opening_ply  \n",
              "0        248.0        1387.0          5.0  \n",
              "1         71.0         750.0          4.0  \n",
              "2        171.0         650.0          3.0  \n",
              "3        241.0         992.0          3.0  \n",
              "4        192.0         783.0          5.0  "
            ]
          },
          "execution_count": 35,
          "metadata": {},
          "output_type": "execute_result"
        }
      ],
      "source": [
        "chess_games_knn_fill.head()"
      ]
    },
    {
      "cell_type": "code",
      "execution_count": 36,
      "metadata": {},
      "outputs": [
        {
          "data": {
            "text/plain": [
              "id                0\n",
              "rated             0\n",
              "created_at        0\n",
              "last_move_at      0\n",
              "turns             0\n",
              "victory_status    0\n",
              "winner            0\n",
              "increment_code    0\n",
              "white_id          0\n",
              "white_rating      0\n",
              "black_id          0\n",
              "black_rating      0\n",
              "moves             0\n",
              "opening_eco       0\n",
              "opening_name      0\n",
              "opening_ply       0\n",
              "dtype: int64"
            ]
          },
          "execution_count": 36,
          "metadata": {},
          "output_type": "execute_result"
        }
      ],
      "source": [
        "chess_games_knn_fill.isnull().sum()"
      ]
    },
    {
      "cell_type": "code",
      "execution_count": 37,
      "metadata": {},
      "outputs": [
        {
          "data": {
            "text/html": [
              "<div>\n",
              "<style scoped>\n",
              "    .dataframe tbody tr th:only-of-type {\n",
              "        vertical-align: middle;\n",
              "    }\n",
              "\n",
              "    .dataframe tbody tr th {\n",
              "        vertical-align: top;\n",
              "    }\n",
              "\n",
              "    .dataframe thead th {\n",
              "        text-align: right;\n",
              "    }\n",
              "</style>\n",
              "<table border=\"1\" class=\"dataframe\">\n",
              "  <thead>\n",
              "    <tr style=\"text-align: right;\">\n",
              "      <th></th>\n",
              "      <th>white_rating</th>\n",
              "      <th>black_rating</th>\n",
              "    </tr>\n",
              "  </thead>\n",
              "  <tbody>\n",
              "    <tr>\n",
              "      <th>count</th>\n",
              "      <td>20058.000000</td>\n",
              "      <td>20058.000000</td>\n",
              "    </tr>\n",
              "    <tr>\n",
              "      <th>mean</th>\n",
              "      <td>0.424046</td>\n",
              "      <td>0.413510</td>\n",
              "    </tr>\n",
              "    <tr>\n",
              "      <th>std</th>\n",
              "      <td>0.150732</td>\n",
              "      <td>0.149389</td>\n",
              "    </tr>\n",
              "    <tr>\n",
              "      <th>min</th>\n",
              "      <td>0.000000</td>\n",
              "      <td>0.000000</td>\n",
              "    </tr>\n",
              "    <tr>\n",
              "      <th>25%</th>\n",
              "      <td>0.321503</td>\n",
              "      <td>0.311789</td>\n",
              "    </tr>\n",
              "    <tr>\n",
              "      <th>50%</th>\n",
              "      <td>0.409186</td>\n",
              "      <td>0.399690</td>\n",
              "    </tr>\n",
              "    <tr>\n",
              "      <th>75%</th>\n",
              "      <td>0.524530</td>\n",
              "      <td>0.513444</td>\n",
              "    </tr>\n",
              "    <tr>\n",
              "      <th>max</th>\n",
              "      <td>1.000000</td>\n",
              "      <td>1.000000</td>\n",
              "    </tr>\n",
              "  </tbody>\n",
              "</table>\n",
              "</div>"
            ],
            "text/plain": [
              "       white_rating  black_rating\n",
              "count  20058.000000  20058.000000\n",
              "mean       0.424046      0.413510\n",
              "std        0.150732      0.149389\n",
              "min        0.000000      0.000000\n",
              "25%        0.321503      0.311789\n",
              "50%        0.409186      0.399690\n",
              "75%        0.524530      0.513444\n",
              "max        1.000000      1.000000"
            ]
          },
          "execution_count": 37,
          "metadata": {},
          "output_type": "execute_result"
        }
      ],
      "source": [
        "chess_games_knn_fill[['white_rating', 'black_rating']].describe()"
      ]
    },
    {
      "cell_type": "markdown",
      "metadata": {},
      "source": [
        "O uso do KNN para imputação de dados é uma boa opção, pois ele é capaz de prever valores ausentes com base em valores próximos, sem distorcer as estatísticas originais do dataset."
      ]
    },
    {
      "cell_type": "markdown",
      "metadata": {},
      "source": [
        "#### Verificando o erro do modelo KNN"
      ]
    },
    {
      "cell_type": "code",
      "execution_count": 38,
      "metadata": {},
      "outputs": [
        {
          "name": "stdout",
          "output_type": "stream",
          "text": [
            "white_rating\n",
            "MAE: 0.10350506313957891\n",
            "\n",
            "black_rating\n",
            "MAE: 0.10572639184328436\n"
          ]
        }
      ],
      "source": [
        "target_white = chess_games.loc[random_indices_white_rating, ['white_rating']]\n",
        "target_black = chess_games.loc[random_indices_black_rating, ['black_rating']]\n",
        "pred_white = chess_games_knn_fill.loc[random_indices_white_rating, ['white_rating']]\n",
        "pred_black = chess_games_knn_fill.loc[random_indices_black_rating, ['black_rating']]\n",
        "\n",
        "from sklearn.metrics import mean_absolute_error\n",
        "print(\"white_rating\")\n",
        "print(\"MAE:\", mean_absolute_error(target_white, pred_white), end='\\n\\n')\n",
        "\n",
        "print(\"black_rating\")\n",
        "print(\"MAE:\", mean_absolute_error(target_black, pred_black))"
      ]
    },
    {
      "cell_type": "code",
      "execution_count": 39,
      "metadata": {},
      "outputs": [
        {
          "data": {
            "text/html": [
              "<div>\n",
              "<style scoped>\n",
              "    .dataframe tbody tr th:only-of-type {\n",
              "        vertical-align: middle;\n",
              "    }\n",
              "\n",
              "    .dataframe tbody tr th {\n",
              "        vertical-align: top;\n",
              "    }\n",
              "\n",
              "    .dataframe thead th {\n",
              "        text-align: right;\n",
              "    }\n",
              "</style>\n",
              "<table border=\"1\" class=\"dataframe\">\n",
              "  <thead>\n",
              "    <tr style=\"text-align: right;\">\n",
              "      <th></th>\n",
              "      <th>white_rating</th>\n",
              "      <th>black_rating</th>\n",
              "    </tr>\n",
              "  </thead>\n",
              "  <tbody>\n",
              "    <tr>\n",
              "      <th>count</th>\n",
              "      <td>20058.000000</td>\n",
              "      <td>20058.000000</td>\n",
              "    </tr>\n",
              "    <tr>\n",
              "      <th>mean</th>\n",
              "      <td>0.424129</td>\n",
              "      <td>0.413564</td>\n",
              "    </tr>\n",
              "    <tr>\n",
              "      <th>std</th>\n",
              "      <td>0.152011</td>\n",
              "      <td>0.150484</td>\n",
              "    </tr>\n",
              "    <tr>\n",
              "      <th>min</th>\n",
              "      <td>0.000000</td>\n",
              "      <td>0.000000</td>\n",
              "    </tr>\n",
              "    <tr>\n",
              "      <th>25%</th>\n",
              "      <td>0.320459</td>\n",
              "      <td>0.311272</td>\n",
              "    </tr>\n",
              "    <tr>\n",
              "      <th>50%</th>\n",
              "      <td>0.408664</td>\n",
              "      <td>0.399690</td>\n",
              "    </tr>\n",
              "    <tr>\n",
              "      <th>75%</th>\n",
              "      <td>0.526618</td>\n",
              "      <td>0.514478</td>\n",
              "    </tr>\n",
              "    <tr>\n",
              "      <th>max</th>\n",
              "      <td>1.000000</td>\n",
              "      <td>1.000000</td>\n",
              "    </tr>\n",
              "  </tbody>\n",
              "</table>\n",
              "</div>"
            ],
            "text/plain": [
              "       white_rating  black_rating\n",
              "count  20058.000000  20058.000000\n",
              "mean       0.424129      0.413564\n",
              "std        0.152011      0.150484\n",
              "min        0.000000      0.000000\n",
              "25%        0.320459      0.311272\n",
              "50%        0.408664      0.399690\n",
              "75%        0.526618      0.514478\n",
              "max        1.000000      1.000000"
            ]
          },
          "execution_count": 39,
          "metadata": {},
          "output_type": "execute_result"
        }
      ],
      "source": [
        "chess_games[['white_rating', 'black_rating']].describe()"
      ]
    },
    {
      "cell_type": "code",
      "execution_count": 40,
      "metadata": {},
      "outputs": [
        {
          "data": {
            "text/html": [
              "<div>\n",
              "<style scoped>\n",
              "    .dataframe tbody tr th:only-of-type {\n",
              "        vertical-align: middle;\n",
              "    }\n",
              "\n",
              "    .dataframe tbody tr th {\n",
              "        vertical-align: top;\n",
              "    }\n",
              "\n",
              "    .dataframe thead th {\n",
              "        text-align: right;\n",
              "    }\n",
              "</style>\n",
              "<table border=\"1\" class=\"dataframe\">\n",
              "  <thead>\n",
              "    <tr style=\"text-align: right;\">\n",
              "      <th></th>\n",
              "      <th>white_rating</th>\n",
              "      <th>black_rating</th>\n",
              "    </tr>\n",
              "  </thead>\n",
              "  <tbody>\n",
              "    <tr>\n",
              "      <th>count</th>\n",
              "      <td>20058.000000</td>\n",
              "      <td>20058.000000</td>\n",
              "    </tr>\n",
              "    <tr>\n",
              "      <th>mean</th>\n",
              "      <td>0.424046</td>\n",
              "      <td>0.413510</td>\n",
              "    </tr>\n",
              "    <tr>\n",
              "      <th>std</th>\n",
              "      <td>0.150732</td>\n",
              "      <td>0.149389</td>\n",
              "    </tr>\n",
              "    <tr>\n",
              "      <th>min</th>\n",
              "      <td>0.000000</td>\n",
              "      <td>0.000000</td>\n",
              "    </tr>\n",
              "    <tr>\n",
              "      <th>25%</th>\n",
              "      <td>0.321503</td>\n",
              "      <td>0.311789</td>\n",
              "    </tr>\n",
              "    <tr>\n",
              "      <th>50%</th>\n",
              "      <td>0.409186</td>\n",
              "      <td>0.399690</td>\n",
              "    </tr>\n",
              "    <tr>\n",
              "      <th>75%</th>\n",
              "      <td>0.524530</td>\n",
              "      <td>0.513444</td>\n",
              "    </tr>\n",
              "    <tr>\n",
              "      <th>max</th>\n",
              "      <td>1.000000</td>\n",
              "      <td>1.000000</td>\n",
              "    </tr>\n",
              "  </tbody>\n",
              "</table>\n",
              "</div>"
            ],
            "text/plain": [
              "       white_rating  black_rating\n",
              "count  20058.000000  20058.000000\n",
              "mean       0.424046      0.413510\n",
              "std        0.150732      0.149389\n",
              "min        0.000000      0.000000\n",
              "25%        0.321503      0.311789\n",
              "50%        0.409186      0.399690\n",
              "75%        0.524530      0.513444\n",
              "max        1.000000      1.000000"
            ]
          },
          "execution_count": 40,
          "metadata": {},
          "output_type": "execute_result"
        }
      ],
      "source": [
        "chess_games_knn_fill[['white_rating', 'black_rating']].describe()"
      ]
    },
    {
      "cell_type": "markdown",
      "metadata": {},
      "source": [
        "De acordo com os resultados obtidos, o modelo KNN apresentou um erro médio em torno de 200 de rating, o que não é um valor desprezível, mas sua distribuição compensou a variação das estatísticas, mantendo-as próximas das originais do dataset."
      ]
    },
    {
      "cell_type": "markdown",
      "metadata": {},
      "source": [
        "# Discretização"
      ]
    },
    {
      "cell_type": "markdown",
      "metadata": {},
      "source": [
        "A base de dados apresenta em sua maioria dados discretos, com excessão das colunas relacionadas aos timestamps das partidas. Portanto, a discretização será feita apenas nas colunas que se referem a esses dados."
      ]
    },
    {
      "cell_type": "code",
      "execution_count": 41,
      "metadata": {},
      "outputs": [
        {
          "data": {
            "text/html": [
              "<div>\n",
              "<style scoped>\n",
              "    .dataframe tbody tr th:only-of-type {\n",
              "        vertical-align: middle;\n",
              "    }\n",
              "\n",
              "    .dataframe tbody tr th {\n",
              "        vertical-align: top;\n",
              "    }\n",
              "\n",
              "    .dataframe thead th {\n",
              "        text-align: right;\n",
              "    }\n",
              "</style>\n",
              "<table border=\"1\" class=\"dataframe\">\n",
              "  <thead>\n",
              "    <tr style=\"text-align: right;\">\n",
              "      <th></th>\n",
              "      <th>created_at</th>\n",
              "      <th>last_move_at</th>\n",
              "    </tr>\n",
              "  </thead>\n",
              "  <tbody>\n",
              "    <tr>\n",
              "      <th>count</th>\n",
              "      <td>2.005800e+04</td>\n",
              "      <td>2.005800e+04</td>\n",
              "    </tr>\n",
              "    <tr>\n",
              "      <th>mean</th>\n",
              "      <td>1.483617e+12</td>\n",
              "      <td>1.483618e+12</td>\n",
              "    </tr>\n",
              "    <tr>\n",
              "      <th>std</th>\n",
              "      <td>2.850151e+10</td>\n",
              "      <td>2.850140e+10</td>\n",
              "    </tr>\n",
              "    <tr>\n",
              "      <th>min</th>\n",
              "      <td>1.376772e+12</td>\n",
              "      <td>1.376772e+12</td>\n",
              "    </tr>\n",
              "    <tr>\n",
              "      <th>25%</th>\n",
              "      <td>1.477548e+12</td>\n",
              "      <td>1.477548e+12</td>\n",
              "    </tr>\n",
              "    <tr>\n",
              "      <th>50%</th>\n",
              "      <td>1.496010e+12</td>\n",
              "      <td>1.496010e+12</td>\n",
              "    </tr>\n",
              "    <tr>\n",
              "      <th>75%</th>\n",
              "      <td>1.503170e+12</td>\n",
              "      <td>1.503170e+12</td>\n",
              "    </tr>\n",
              "    <tr>\n",
              "      <th>max</th>\n",
              "      <td>1.504493e+12</td>\n",
              "      <td>1.504494e+12</td>\n",
              "    </tr>\n",
              "  </tbody>\n",
              "</table>\n",
              "</div>"
            ],
            "text/plain": [
              "         created_at  last_move_at\n",
              "count  2.005800e+04  2.005800e+04\n",
              "mean   1.483617e+12  1.483618e+12\n",
              "std    2.850151e+10  2.850140e+10\n",
              "min    1.376772e+12  1.376772e+12\n",
              "25%    1.477548e+12  1.477548e+12\n",
              "50%    1.496010e+12  1.496010e+12\n",
              "75%    1.503170e+12  1.503170e+12\n",
              "max    1.504493e+12  1.504494e+12"
            ]
          },
          "execution_count": 41,
          "metadata": {},
          "output_type": "execute_result"
        }
      ],
      "source": [
        "chess_games[['created_at', 'last_move_at']].describe()"
      ]
    },
    {
      "cell_type": "code",
      "execution_count": 42,
      "metadata": {},
      "outputs": [],
      "source": [
        "# discretizando com 10 bins com mesmo intervalo\n",
        "chess_games['created_at_dist'] = pd.cut(chess_games['created_at'], 10)\n",
        "chess_games['last_move_at_dist'] = pd.cut(chess_games['last_move_at'], 10)"
      ]
    },
    {
      "cell_type": "code",
      "execution_count": 43,
      "metadata": {},
      "outputs": [
        {
          "data": {
            "text/plain": [
              "<Axes: ylabel='created_at_dist'>"
            ]
          },
          "execution_count": 43,
          "metadata": {},
          "output_type": "execute_result"
        },
        {
          "data": {
            "image/png": "[encoded data removed]",
            "text/plain": [
              "<Figure size 640x480 with 1 Axes>"
            ]
          },
          "metadata": {},
          "output_type": "display_data"
        }
      ],
      "source": [
        "chess_games['created_at_dist'].value_counts().plot(kind='barh')"
      ]
    },
    {
      "cell_type": "markdown",
      "metadata": {},
      "source": [
        "Dividir os dados baseando-se em intervalos iguais pode não ser a melhor opção, pois pode haver uma distribuição desigual dos dados em cada intervalo. Portanto, a melhor opção é dividir os dados baseando-se em intervalos que contenham a mesma quantidade de dados. Isso pode ser feito ao utilizar quantis para fazer a divisão."
      ]
    },
    {
      "cell_type": "code",
      "execution_count": 48,
      "metadata": {},
      "outputs": [],
      "source": [
        "# discretizando com 10 bins com mesma quantidade de elementos\n",
        "chess_games['created_at_dist'] = pd.qcut(chess_games['created_at'], 10)\n",
        "chess_games['last_move_at_dist'] = pd.qcut(chess_games['last_move_at'], 10)"
      ]
    },
    {
      "cell_type": "code",
      "execution_count": 49,
      "metadata": {},
      "outputs": [
        {
          "data": {
            "text/plain": [
              "<Axes: ylabel='created_at_dist'>"
            ]
          },
          "execution_count": 49,
          "metadata": {},
          "output_type": "execute_result"
        },
        {
          "data": {
            "image/png": "[encoded data removed]",
            "text/plain": [
              "<Figure size 640x480 with 1 Axes>"
            ]
          },
          "metadata": {},
          "output_type": "display_data"
        }
      ],
      "source": [
        "chess_games['created_at_dist'].value_counts().plot(kind='barh')"
      ]
    },
    {
      "cell_type": "code",
      "execution_count": 50,
      "metadata": {},
      "outputs": [
        {
          "data": {
            "text/plain": [
              "<Axes: ylabel='last_move_at_dist'>"
            ]
          },
          "execution_count": 50,
          "metadata": {},
          "output_type": "execute_result"
        },
        {
          "data": {
            "image/png": "[encoded data removed]",
            "text/plain": [
              "<Figure size 640x480 with 1 Axes>"
            ]
          },
          "metadata": {},
          "output_type": "display_data"
        }
      ],
      "source": [
        "chess_games['last_move_at_dist'].value_counts().plot(kind='barh')"
      ]
    },
    {
      "cell_type": "markdown",
      "metadata": {},
      "source": [
        "# Limpeza de Dados"
      ]
    },
    {
      "cell_type": "markdown",
      "metadata": {
        "id": "QBkQSpsUDwNB"
      },
      "source": [
        "# Estatísticas Descritivas"
      ]
    },
    {
      "cell_type": "markdown",
      "metadata": {
        "id": "iVedNOsnTyqV"
      },
      "source": [
        "## Distribuição dos ratings de todos os jogadores"
      ]
    },
    {
      "cell_type": "code",
      "execution_count": 44,
      "metadata": {
        "id": "8s3VA_cGT4tc"
      },
      "outputs": [],
      "source": [
        "all_ratings = pd.concat([chess_games['white_rating'], chess_games['black_rating']])"
      ]
    },
    {
      "cell_type": "code",
      "execution_count": 45,
      "metadata": {
        "colab": {
          "base_uri": "https://localhost:8080/"
        },
        "id": "zJMa7H1cU1Pq",
        "outputId": "d4a0c65f-5422-414f-b405-7796c9c8385a"
      },
      "outputs": [
        {
          "data": {
            "text/plain": [
              "count    40116.000000\n",
              "mean         0.418846\n",
              "std          0.151340\n",
              "min          0.000000\n",
              "25%          0.315762\n",
              "50%          0.403967\n",
              "75%          0.520683\n",
              "max          1.000000\n",
              "dtype: float64"
            ]
          },
          "execution_count": 45,
          "metadata": {},
          "output_type": "execute_result"
        }
      ],
      "source": [
        "all_ratings.describe()"
      ]
    },
    {
      "cell_type": "code",
      "execution_count": 46,
      "metadata": {
        "colab": {
          "base_uri": "https://localhost:8080/",
          "height": 447
        },
        "id": "UOgMzsaiRsjr",
        "outputId": "71d681d2-0c03-4f3d-fb0f-f0dc0cf4bd64"
      },
      "outputs": [
        {
          "data": {
            "text/plain": [
              "<Axes: >"
            ]
          },
          "execution_count": 46,
          "metadata": {},
          "output_type": "execute_result"
        },
        {
          "data": {
            "image/png": "[encoded data removed]",
            "text/plain": [
              "<Figure size 640x480 with 1 Axes>"
            ]
          },
          "metadata": {},
          "output_type": "display_data"
        }
      ],
      "source": [
        "all_ratings.hist()"
      ]
    },
    {
      "cell_type": "code",
      "execution_count": 47,
      "metadata": {
        "colab": {
          "base_uri": "https://localhost:8080/",
          "height": 428
        },
        "id": "FcO61fKFT3LV",
        "outputId": "ae0fec26-7958-408d-b381-39cf3b1c9274"
      },
      "outputs": [
        {
          "data": {
            "text/plain": [
              "<Axes: >"
            ]
          },
          "execution_count": 47,
          "metadata": {},
          "output_type": "execute_result"
        },
        {
          "data": {
            "image/png": "[encoded data removed]",
            "text/plain": [
              "<Figure size 640x480 with 1 Axes>"
            ]
          },
          "metadata": {},
          "output_type": "display_data"
        }
      ],
      "source": [
        "all_ratings.plot.box()"
      ]
    }
  ],
  "metadata": {
    "colab": {
      "collapsed_sections": [
        "xr4KxIm-Kevf",
        "8s3goxuOOe9W",
        "OOH6JN-DOXEI",
        "9zcOvytXOi5B",
        "QBkQSpsUDwNB",
        "iVedNOsnTyqV"
      ],
      "provenance": []
    },
    "kernelspec": {
      "display_name": "Python 3",
      "name": "python3"
    },
    "language_info": {
      "codemirror_mode": {
        "name": "ipython",
        "version": 3
      },
      "file_extension": ".py",
      "mimetype": "text/x-python",
      "name": "python",
      "nbconvert_exporter": "python",
      "pygments_lexer": "ipython3",
      "version": "3.8.10"
    }
  },
  "nbformat": 4,
  "nbformat_minor": 0
}
