{
  "cells": [
    {
      "cell_type": "markdown",
      "metadata": {
        "id": "xr4KxIm-Kevf"
      },
      "source": [
        "# Importando bibliotecas e o dataset"
      ]
    },
    {
      "cell_type": "markdown",
      "metadata": {
        "id": "8s3goxuOOe9W"
      },
      "source": [
        "## Importando bibliotecas"
      ]
    },
    {
      "cell_type": "code",
      "execution_count": 1,
      "metadata": {
        "id": "THCBAQ8DKqs8"
      },
      "outputs": [],
      "source": [
        "import numpy as np\n",
        "import pandas as pd"
      ]
    },
    {
      "cell_type": "code",
      "execution_count": 2,
      "metadata": {
        "id": "XkgJeTKVLGjI"
      },
      "outputs": [],
      "source": [
        "chess_games = pd.read_csv(\"https://raw.githubusercontent.com/Vinicius-resende-cin/intro-dados/master/data/chess_games.csv\", encoding = \"ISO-8859-1\")"
      ]
    },
    {
      "cell_type": "code",
      "execution_count": 3,
      "metadata": {
        "colab": {
          "base_uri": "https://localhost:8080/",
          "height": 380
        },
        "id": "veIlGVNtOJ-r",
        "outputId": "ea2e9d94-e6b8-4787-e0d4-2683a0398b30"
      },
      "outputs": [
        {
          "data": {
            "text/html": [
              "<div>\n",
              "<style scoped>\n",
              "    .dataframe tbody tr th:only-of-type {\n",
              "        vertical-align: middle;\n",
              "    }\n",
              "\n",
              "    .dataframe tbody tr th {\n",
              "        vertical-align: top;\n",
              "    }\n",
              "\n",
              "    .dataframe thead th {\n",
              "        text-align: right;\n",
              "    }\n",
              "</style>\n",
              "<table border=\"1\" class=\"dataframe\">\n",
              "  <thead>\n",
              "    <tr style=\"text-align: right;\">\n",
              "      <th></th>\n",
              "      <th>id</th>\n",
              "      <th>rated</th>\n",
              "      <th>created_at</th>\n",
              "      <th>last_move_at</th>\n",
              "      <th>turns</th>\n",
              "      <th>victory_status</th>\n",
              "      <th>winner</th>\n",
              "      <th>increment_code</th>\n",
              "      <th>white_id</th>\n",
              "      <th>white_rating</th>\n",
              "      <th>black_id</th>\n",
              "      <th>black_rating</th>\n",
              "      <th>moves</th>\n",
              "      <th>opening_eco</th>\n",
              "      <th>opening_name</th>\n",
              "      <th>opening_ply</th>\n",
              "    </tr>\n",
              "  </thead>\n",
              "  <tbody>\n",
              "    <tr>\n",
              "      <th>0</th>\n",
              "      <td>TZJHLljE</td>\n",
              "      <td>False</td>\n",
              "      <td>1.504210e+12</td>\n",
              "      <td>1.504210e+12</td>\n",
              "      <td>13</td>\n",
              "      <td>outoftime</td>\n",
              "      <td>white</td>\n",
              "      <td>15+2</td>\n",
              "      <td>bourgris</td>\n",
              "      <td>1500</td>\n",
              "      <td>a-00</td>\n",
              "      <td>1191</td>\n",
              "      <td>d4 d5 c4 c6 cxd5 e6 dxe6 fxe6 Nf3 Bb4+ Nc3 Ba5...</td>\n",
              "      <td>D10</td>\n",
              "      <td>Slav Defense: Exchange Variation</td>\n",
              "      <td>5</td>\n",
              "    </tr>\n",
              "    <tr>\n",
              "      <th>1</th>\n",
              "      <td>l1NXvwaE</td>\n",
              "      <td>True</td>\n",
              "      <td>1.504130e+12</td>\n",
              "      <td>1.504130e+12</td>\n",
              "      <td>16</td>\n",
              "      <td>resign</td>\n",
              "      <td>black</td>\n",
              "      <td>5+10</td>\n",
              "      <td>a-00</td>\n",
              "      <td>1322</td>\n",
              "      <td>skinnerua</td>\n",
              "      <td>1261</td>\n",
              "      <td>d4 Nc6 e4 e5 f4 f6 dxe5 fxe5 fxe5 Nxe5 Qd4 Nc6...</td>\n",
              "      <td>B00</td>\n",
              "      <td>Nimzowitsch Defense: Kennedy Variation</td>\n",
              "      <td>4</td>\n",
              "    </tr>\n",
              "    <tr>\n",
              "      <th>2</th>\n",
              "      <td>mIICvQHh</td>\n",
              "      <td>True</td>\n",
              "      <td>1.504130e+12</td>\n",
              "      <td>1.504130e+12</td>\n",
              "      <td>61</td>\n",
              "      <td>mate</td>\n",
              "      <td>white</td>\n",
              "      <td>5+10</td>\n",
              "      <td>ischia</td>\n",
              "      <td>1496</td>\n",
              "      <td>a-00</td>\n",
              "      <td>1500</td>\n",
              "      <td>e4 e5 d3 d6 Be3 c6 Be2 b5 Nd2 a5 a4 c5 axb5 Nc...</td>\n",
              "      <td>C20</td>\n",
              "      <td>King's Pawn Game: Leonardis Variation</td>\n",
              "      <td>3</td>\n",
              "    </tr>\n",
              "    <tr>\n",
              "      <th>3</th>\n",
              "      <td>kWKvrqYL</td>\n",
              "      <td>True</td>\n",
              "      <td>1.504110e+12</td>\n",
              "      <td>1.504110e+12</td>\n",
              "      <td>61</td>\n",
              "      <td>mate</td>\n",
              "      <td>white</td>\n",
              "      <td>20+0</td>\n",
              "      <td>daniamurashov</td>\n",
              "      <td>1439</td>\n",
              "      <td>adivanov2009</td>\n",
              "      <td>1454</td>\n",
              "      <td>d4 d5 Nf3 Bf5 Nc3 Nf6 Bf4 Ng4 e3 Nc6 Be2 Qd7 O...</td>\n",
              "      <td>D02</td>\n",
              "      <td>Queen's Pawn Game: Zukertort Variation</td>\n",
              "      <td>3</td>\n",
              "    </tr>\n",
              "    <tr>\n",
              "      <th>4</th>\n",
              "      <td>9tXo1AUZ</td>\n",
              "      <td>True</td>\n",
              "      <td>1.504030e+12</td>\n",
              "      <td>1.504030e+12</td>\n",
              "      <td>95</td>\n",
              "      <td>mate</td>\n",
              "      <td>white</td>\n",
              "      <td>30+3</td>\n",
              "      <td>nik221107</td>\n",
              "      <td>1523</td>\n",
              "      <td>adivanov2009</td>\n",
              "      <td>1469</td>\n",
              "      <td>e4 e5 Nf3 d6 d4 Nc6 d5 Nb4 a3 Na6 Nc3 Be7 b4 N...</td>\n",
              "      <td>C41</td>\n",
              "      <td>Philidor Defense</td>\n",
              "      <td>5</td>\n",
              "    </tr>\n",
              "  </tbody>\n",
              "</table>\n",
              "</div>"
            ],
            "text/plain": [
              "         id  rated    created_at  last_move_at  turns victory_status winner  \\\n",
              "0  TZJHLljE  False  1.504210e+12  1.504210e+12     13      outoftime  white   \n",
              "1  l1NXvwaE   True  1.504130e+12  1.504130e+12     16         resign  black   \n",
              "2  mIICvQHh   True  1.504130e+12  1.504130e+12     61           mate  white   \n",
              "3  kWKvrqYL   True  1.504110e+12  1.504110e+12     61           mate  white   \n",
              "4  9tXo1AUZ   True  1.504030e+12  1.504030e+12     95           mate  white   \n",
              "\n",
              "  increment_code       white_id  white_rating      black_id  black_rating  \\\n",
              "0           15+2       bourgris          1500          a-00          1191   \n",
              "1           5+10           a-00          1322     skinnerua          1261   \n",
              "2           5+10         ischia          1496          a-00          1500   \n",
              "3           20+0  daniamurashov          1439  adivanov2009          1454   \n",
              "4           30+3      nik221107          1523  adivanov2009          1469   \n",
              "\n",
              "                                               moves opening_eco  \\\n",
              "0  d4 d5 c4 c6 cxd5 e6 dxe6 fxe6 Nf3 Bb4+ Nc3 Ba5...         D10   \n",
              "1  d4 Nc6 e4 e5 f4 f6 dxe5 fxe5 fxe5 Nxe5 Qd4 Nc6...         B00   \n",
              "2  e4 e5 d3 d6 Be3 c6 Be2 b5 Nd2 a5 a4 c5 axb5 Nc...         C20   \n",
              "3  d4 d5 Nf3 Bf5 Nc3 Nf6 Bf4 Ng4 e3 Nc6 Be2 Qd7 O...         D02   \n",
              "4  e4 e5 Nf3 d6 d4 Nc6 d5 Nb4 a3 Na6 Nc3 Be7 b4 N...         C41   \n",
              "\n",
              "                             opening_name  opening_ply  \n",
              "0        Slav Defense: Exchange Variation            5  \n",
              "1  Nimzowitsch Defense: Kennedy Variation            4  \n",
              "2   King's Pawn Game: Leonardis Variation            3  \n",
              "3  Queen's Pawn Game: Zukertort Variation            3  \n",
              "4                        Philidor Defense            5  "
            ]
          },
          "execution_count": 3,
          "metadata": {},
          "output_type": "execute_result"
        }
      ],
      "source": [
        "chess_games.head()"
      ]
    },
    {
      "cell_type": "markdown",
      "metadata": {
        "id": "TROMbYo77jTJ"
      },
      "source": [
        "# Definição de tipos"
      ]
    },
    {
      "cell_type": "code",
      "execution_count": 4,
      "metadata": {
        "colab": {
          "base_uri": "https://localhost:8080/"
        },
        "id": "wQc3c9j2O9j4",
        "outputId": "bbec4a62-3437-447f-eecb-1b76a35c3039"
      },
      "outputs": [
        {
          "data": {
            "text/plain": [
              "id                 object\n",
              "rated                bool\n",
              "created_at        float64\n",
              "last_move_at      float64\n",
              "turns               int64\n",
              "victory_status     object\n",
              "winner             object\n",
              "increment_code     object\n",
              "white_id           object\n",
              "white_rating        int64\n",
              "black_id           object\n",
              "black_rating        int64\n",
              "moves              object\n",
              "opening_eco        object\n",
              "opening_name       object\n",
              "opening_ply         int64\n",
              "dtype: object"
            ]
          },
          "execution_count": 4,
          "metadata": {},
          "output_type": "execute_result"
        }
      ],
      "source": [
        "# verificando os tipos de todas as colunas\n",
        "chess_games.dtypes"
      ]
    },
    {
      "cell_type": "code",
      "execution_count": 5,
      "metadata": {
        "id": "-6jNIeJ_7v44"
      },
      "outputs": [],
      "source": [
        "# convertendo 'object' para 'category'\n",
        "chess_games['id'] = chess_games['id'].astype('category')\n",
        "chess_games['victory_status'] = chess_games['victory_status'].astype('category')\n",
        "chess_games['winner'] = chess_games['winner'].astype('category')\n",
        "chess_games['increment_code'] = chess_games['increment_code'].astype('category')\n",
        "chess_games['white_id'] = chess_games['white_id'].astype('category')\n",
        "chess_games['black_id'] = chess_games['black_id'].astype('category')\n",
        "chess_games['moves'] = chess_games['moves'].astype('category')\n",
        "chess_games['opening_eco'] = chess_games['opening_eco'].astype('category')\n",
        "chess_games['opening_name'] = chess_games['opening_name'].astype('category')"
      ]
    },
    {
      "cell_type": "code",
      "execution_count": 6,
      "metadata": {
        "colab": {
          "base_uri": "https://localhost:8080/"
        },
        "id": "pZvTy3P58php",
        "outputId": "9dd8a83c-b6c8-4887-c71b-aab33872b646"
      },
      "outputs": [
        {
          "data": {
            "text/plain": [
              "id                category\n",
              "rated                 bool\n",
              "created_at         float64\n",
              "last_move_at       float64\n",
              "turns                int64\n",
              "victory_status    category\n",
              "winner            category\n",
              "increment_code    category\n",
              "white_id          category\n",
              "white_rating         int64\n",
              "black_id          category\n",
              "black_rating         int64\n",
              "moves             category\n",
              "opening_eco       category\n",
              "opening_name      category\n",
              "opening_ply          int64\n",
              "dtype: object"
            ]
          },
          "execution_count": 6,
          "metadata": {},
          "output_type": "execute_result"
        }
      ],
      "source": [
        "# verificando novos tipos\n",
        "chess_games.dtypes"
      ]
    },
    {
      "cell_type": "code",
      "execution_count": 7,
      "metadata": {
        "colab": {
          "base_uri": "https://localhost:8080/"
        },
        "id": "5bT5M7OY86zA",
        "outputId": "9eb6ff5b-4e57-4871-c422-474ec02563d5"
      },
      "outputs": [
        {
          "data": {
            "text/plain": [
              "Index(['Alekhine Defense', 'Alekhine Defense #2', 'Alekhine Defense #3',\n",
              "       'Alekhine Defense: Balogh Variation',\n",
              "       'Alekhine Defense: Brooklyn Variation',\n",
              "       'Alekhine Defense: Exchange Variation',\n",
              "       'Alekhine Defense: Four Pawns Attack',\n",
              "       'Alekhine Defense: Four Pawns Attack |  6...Nc6',\n",
              "       'Alekhine Defense: Four Pawns Attack |  Fianchetto Variation',\n",
              "       'Alekhine Defense: Four Pawns Attack |  Main Line',\n",
              "       ...\n",
              "       'Zukertort Opening: Quiet System',\n",
              "       'Zukertort Opening: Reversed Mexican Defense',\n",
              "       'Zukertort Opening: Ross Gambit',\n",
              "       'Zukertort Opening: Santasiere's Folly',\n",
              "       'Zukertort Opening: Sicilian Invitation',\n",
              "       'Zukertort Opening: Slav Invitation',\n",
              "       'Zukertort Opening: Tennison Gambit', 'Zukertort Opening: The Walrus',\n",
              "       'Zukertort Opening: Vos Gambit', 'Zukertort Opening: Wade Defense'],\n",
              "      dtype='object', length=1477)"
            ]
          },
          "execution_count": 7,
          "metadata": {},
          "output_type": "execute_result"
        }
      ],
      "source": [
        "# listando nomes de cada abertura\n",
        "chess_games['opening_name'].cat.categories"
      ]
    },
    {
      "cell_type": "code",
      "execution_count": 8,
      "metadata": {
        "colab": {
          "base_uri": "https://localhost:8080/",
          "height": 293
        },
        "id": "RWeitbgx-M-B",
        "outputId": "5ead425d-e58c-4d2a-ec95-394c0c47ded1"
      },
      "outputs": [
        {
          "data": {
            "text/html": [
              "<div>\n",
              "<style scoped>\n",
              "    .dataframe tbody tr th:only-of-type {\n",
              "        vertical-align: middle;\n",
              "    }\n",
              "\n",
              "    .dataframe tbody tr th {\n",
              "        vertical-align: top;\n",
              "    }\n",
              "\n",
              "    .dataframe thead th {\n",
              "        text-align: right;\n",
              "    }\n",
              "</style>\n",
              "<table border=\"1\" class=\"dataframe\">\n",
              "  <thead>\n",
              "    <tr style=\"text-align: right;\">\n",
              "      <th></th>\n",
              "      <th>id</th>\n",
              "      <th>rated</th>\n",
              "      <th>created_at</th>\n",
              "      <th>last_move_at</th>\n",
              "      <th>turns</th>\n",
              "      <th>victory_status</th>\n",
              "      <th>winner</th>\n",
              "      <th>increment_code</th>\n",
              "      <th>white_id</th>\n",
              "      <th>white_rating</th>\n",
              "      <th>black_id</th>\n",
              "      <th>black_rating</th>\n",
              "      <th>moves</th>\n",
              "      <th>opening_eco</th>\n",
              "      <th>opening_name</th>\n",
              "      <th>opening_ply</th>\n",
              "    </tr>\n",
              "  </thead>\n",
              "  <tbody>\n",
              "    <tr>\n",
              "      <th>0</th>\n",
              "      <td>TZJHLljE</td>\n",
              "      <td>False</td>\n",
              "      <td>1.504210e+12</td>\n",
              "      <td>1.504210e+12</td>\n",
              "      <td>13</td>\n",
              "      <td>outoftime</td>\n",
              "      <td>white</td>\n",
              "      <td>15+2</td>\n",
              "      <td>bourgris</td>\n",
              "      <td>1500</td>\n",
              "      <td>a-00</td>\n",
              "      <td>1191</td>\n",
              "      <td>d4 d5 c4 c6 cxd5 e6 dxe6 fxe6 Nf3 Bb4+ Nc3 Ba5...</td>\n",
              "      <td>D10</td>\n",
              "      <td>Slav Defense: Exchange Variation</td>\n",
              "      <td>5</td>\n",
              "    </tr>\n",
              "    <tr>\n",
              "      <th>1</th>\n",
              "      <td>l1NXvwaE</td>\n",
              "      <td>True</td>\n",
              "      <td>1.504130e+12</td>\n",
              "      <td>1.504130e+12</td>\n",
              "      <td>16</td>\n",
              "      <td>resign</td>\n",
              "      <td>black</td>\n",
              "      <td>5+10</td>\n",
              "      <td>a-00</td>\n",
              "      <td>1322</td>\n",
              "      <td>skinnerua</td>\n",
              "      <td>1261</td>\n",
              "      <td>d4 Nc6 e4 e5 f4 f6 dxe5 fxe5 fxe5 Nxe5 Qd4 Nc6...</td>\n",
              "      <td>B00</td>\n",
              "      <td>Nimzowitsch Defense: Kennedy Variation</td>\n",
              "      <td>4</td>\n",
              "    </tr>\n",
              "    <tr>\n",
              "      <th>2</th>\n",
              "      <td>mIICvQHh</td>\n",
              "      <td>True</td>\n",
              "      <td>1.504130e+12</td>\n",
              "      <td>1.504130e+12</td>\n",
              "      <td>61</td>\n",
              "      <td>mate</td>\n",
              "      <td>white</td>\n",
              "      <td>5+10</td>\n",
              "      <td>ischia</td>\n",
              "      <td>1496</td>\n",
              "      <td>a-00</td>\n",
              "      <td>1500</td>\n",
              "      <td>e4 e5 d3 d6 Be3 c6 Be2 b5 Nd2 a5 a4 c5 axb5 Nc...</td>\n",
              "      <td>C20</td>\n",
              "      <td>King's Pawn Game: Leonardis Variation</td>\n",
              "      <td>3</td>\n",
              "    </tr>\n",
              "    <tr>\n",
              "      <th>3</th>\n",
              "      <td>kWKvrqYL</td>\n",
              "      <td>True</td>\n",
              "      <td>1.504110e+12</td>\n",
              "      <td>1.504110e+12</td>\n",
              "      <td>61</td>\n",
              "      <td>mate</td>\n",
              "      <td>white</td>\n",
              "      <td>20+0</td>\n",
              "      <td>daniamurashov</td>\n",
              "      <td>1439</td>\n",
              "      <td>adivanov2009</td>\n",
              "      <td>1454</td>\n",
              "      <td>d4 d5 Nf3 Bf5 Nc3 Nf6 Bf4 Ng4 e3 Nc6 Be2 Qd7 O...</td>\n",
              "      <td>D02</td>\n",
              "      <td>Queen's Pawn Game: Zukertort Variation</td>\n",
              "      <td>3</td>\n",
              "    </tr>\n",
              "    <tr>\n",
              "      <th>4</th>\n",
              "      <td>9tXo1AUZ</td>\n",
              "      <td>True</td>\n",
              "      <td>1.504030e+12</td>\n",
              "      <td>1.504030e+12</td>\n",
              "      <td>95</td>\n",
              "      <td>mate</td>\n",
              "      <td>white</td>\n",
              "      <td>30+3</td>\n",
              "      <td>nik221107</td>\n",
              "      <td>1523</td>\n",
              "      <td>adivanov2009</td>\n",
              "      <td>1469</td>\n",
              "      <td>e4 e5 Nf3 d6 d4 Nc6 d5 Nb4 a3 Na6 Nc3 Be7 b4 N...</td>\n",
              "      <td>C41</td>\n",
              "      <td>Philidor Defense</td>\n",
              "      <td>5</td>\n",
              "    </tr>\n",
              "  </tbody>\n",
              "</table>\n",
              "</div>"
            ],
            "text/plain": [
              "         id  rated    created_at  last_move_at  turns victory_status winner  \\\n",
              "0  TZJHLljE  False  1.504210e+12  1.504210e+12     13      outoftime  white   \n",
              "1  l1NXvwaE   True  1.504130e+12  1.504130e+12     16         resign  black   \n",
              "2  mIICvQHh   True  1.504130e+12  1.504130e+12     61           mate  white   \n",
              "3  kWKvrqYL   True  1.504110e+12  1.504110e+12     61           mate  white   \n",
              "4  9tXo1AUZ   True  1.504030e+12  1.504030e+12     95           mate  white   \n",
              "\n",
              "  increment_code       white_id  white_rating      black_id  black_rating  \\\n",
              "0           15+2       bourgris          1500          a-00          1191   \n",
              "1           5+10           a-00          1322     skinnerua          1261   \n",
              "2           5+10         ischia          1496          a-00          1500   \n",
              "3           20+0  daniamurashov          1439  adivanov2009          1454   \n",
              "4           30+3      nik221107          1523  adivanov2009          1469   \n",
              "\n",
              "                                               moves opening_eco  \\\n",
              "0  d4 d5 c4 c6 cxd5 e6 dxe6 fxe6 Nf3 Bb4+ Nc3 Ba5...         D10   \n",
              "1  d4 Nc6 e4 e5 f4 f6 dxe5 fxe5 fxe5 Nxe5 Qd4 Nc6...         B00   \n",
              "2  e4 e5 d3 d6 Be3 c6 Be2 b5 Nd2 a5 a4 c5 axb5 Nc...         C20   \n",
              "3  d4 d5 Nf3 Bf5 Nc3 Nf6 Bf4 Ng4 e3 Nc6 Be2 Qd7 O...         D02   \n",
              "4  e4 e5 Nf3 d6 d4 Nc6 d5 Nb4 a3 Na6 Nc3 Be7 b4 N...         C41   \n",
              "\n",
              "                             opening_name  opening_ply  \n",
              "0        Slav Defense: Exchange Variation            5  \n",
              "1  Nimzowitsch Defense: Kennedy Variation            4  \n",
              "2   King's Pawn Game: Leonardis Variation            3  \n",
              "3  Queen's Pawn Game: Zukertort Variation            3  \n",
              "4                        Philidor Defense            5  "
            ]
          },
          "execution_count": 8,
          "metadata": {},
          "output_type": "execute_result"
        }
      ],
      "source": [
        "chess_games.head()"
      ]
    },
    {
      "cell_type": "markdown",
      "metadata": {
        "id": "NXW15s_LD37Q"
      },
      "source": [
        "# Tratamento de dados ausentes"
      ]
    },
    {
      "cell_type": "code",
      "execution_count": 9,
      "metadata": {
        "colab": {
          "base_uri": "https://localhost:8080/"
        },
        "id": "mhocDl4nD_ep",
        "outputId": "d768e1ef-5617-4d80-f182-651bbd70ed39"
      },
      "outputs": [
        {
          "data": {
            "text/plain": [
              "(20058, 16)"
            ]
          },
          "execution_count": 9,
          "metadata": {},
          "output_type": "execute_result"
        }
      ],
      "source": [
        "chess_games.shape"
      ]
    },
    {
      "cell_type": "code",
      "execution_count": 10,
      "metadata": {
        "colab": {
          "base_uri": "https://localhost:8080/"
        },
        "id": "2vXFwG0YEDvo",
        "outputId": "a53df129-bc5b-4924-dd6f-a385638f9daa"
      },
      "outputs": [
        {
          "name": "stdout",
          "output_type": "stream",
          "text": [
            "id                0\n",
            "rated             0\n",
            "created_at        0\n",
            "last_move_at      0\n",
            "turns             0\n",
            "victory_status    0\n",
            "winner            0\n",
            "increment_code    0\n",
            "white_id          0\n",
            "white_rating      0\n",
            "black_id          0\n",
            "black_rating      0\n",
            "moves             0\n",
            "opening_eco       0\n",
            "opening_name      0\n",
            "opening_ply       0\n",
            "dtype: int64\n"
          ]
        }
      ],
      "source": [
        "# verificando se há dados ausentes\n",
        "print(chess_games.isnull().sum())"
      ]
    },
    {
      "cell_type": "markdown",
      "metadata": {
        "id": "BJmWjMN0EgIw"
      },
      "source": [
        "O dataset selecionado não contém dados ausentes, portanto será feita uma remoção aleatória de dados para que possa ser realizada uma imputação em seguida"
      ]
    },
    {
      "cell_type": "markdown",
      "metadata": {},
      "source": [
        "## Remoção de dados"
      ]
    },
    {
      "cell_type": "code",
      "execution_count": 11,
      "metadata": {},
      "outputs": [],
      "source": [
        "# gerando indices aleatórios\n",
        "random_indices_white_rating = np.random.choice(chess_games.index, size=int(len(chess_games)*0.05), replace=False)\n",
        "random_indices_black_rating = np.random.choice(chess_games.index, size=int(len(chess_games)*0.05), replace=False)\n",
        "\n",
        "# substituindo valores por NaN\n",
        "chess_games2 = chess_games.copy()\n",
        "chess_games2.loc[random_indices_white_rating, ['white_rating']] = np.nan\n",
        "chess_games2.loc[random_indices_black_rating, ['black_rating']] = np.nan"
      ]
    },
    {
      "cell_type": "code",
      "execution_count": 12,
      "metadata": {},
      "outputs": [
        {
          "data": {
            "text/plain": [
              "id                   0\n",
              "rated                0\n",
              "created_at           0\n",
              "last_move_at         0\n",
              "turns                0\n",
              "victory_status       0\n",
              "winner               0\n",
              "increment_code       0\n",
              "white_id             0\n",
              "white_rating      1002\n",
              "black_id             0\n",
              "black_rating      1002\n",
              "moves                0\n",
              "opening_eco          0\n",
              "opening_name         0\n",
              "opening_ply          0\n",
              "dtype: int64"
            ]
          },
          "execution_count": 12,
          "metadata": {},
          "output_type": "execute_result"
        }
      ],
      "source": [
        "chess_games2.isnull().sum()"
      ]
    },
    {
      "cell_type": "markdown",
      "metadata": {},
      "source": [
        "## Imputação de dados"
      ]
    },
    {
      "cell_type": "markdown",
      "metadata": {},
      "source": [
        "### Usando a média"
      ]
    },
    {
      "cell_type": "code",
      "execution_count": 13,
      "metadata": {},
      "outputs": [],
      "source": [
        "chess_games_mean_fill = chess_games2.copy()"
      ]
    },
    {
      "cell_type": "code",
      "execution_count": 14,
      "metadata": {},
      "outputs": [
        {
          "name": "stdout",
          "output_type": "stream",
          "text": [
            "white_rating\n",
            "mean: 1596.9882976490344\n",
            "median: 1568.0\n",
            "\n",
            "black_rating\n",
            "mean: 1588.915827036104\n",
            "median: 1562.0\n"
          ]
        }
      ],
      "source": [
        "print(\"white_rating\")\n",
        "print(\"mean:\", chess_games_mean_fill['white_rating'].mean())\n",
        "print(\"median:\", chess_games_mean_fill['white_rating'].median(), end='\\n\\n')\n",
        "\n",
        "print(\"black_rating\")\n",
        "print(\"mean:\", chess_games_mean_fill['black_rating'].mean())\n",
        "print(\"median:\", chess_games_mean_fill['black_rating'].median())"
      ]
    },
    {
      "cell_type": "code",
      "execution_count": 15,
      "metadata": {},
      "outputs": [],
      "source": [
        "chess_games_mean_fill['white_rating'].fillna(chess_games2['white_rating'].mean(), inplace=True)\n",
        "chess_games_mean_fill['black_rating'].fillna(chess_games2['black_rating'].mean(), inplace=True)"
      ]
    },
    {
      "cell_type": "code",
      "execution_count": 16,
      "metadata": {},
      "outputs": [
        {
          "data": {
            "text/plain": [
              "id                0\n",
              "rated             0\n",
              "created_at        0\n",
              "last_move_at      0\n",
              "turns             0\n",
              "victory_status    0\n",
              "winner            0\n",
              "increment_code    0\n",
              "white_id          0\n",
              "white_rating      0\n",
              "black_id          0\n",
              "black_rating      0\n",
              "moves             0\n",
              "opening_eco       0\n",
              "opening_name      0\n",
              "opening_ply       0\n",
              "dtype: int64"
            ]
          },
          "execution_count": 16,
          "metadata": {},
          "output_type": "execute_result"
        }
      ],
      "source": [
        "chess_games_mean_fill.isnull().sum()"
      ]
    },
    {
      "cell_type": "code",
      "execution_count": 17,
      "metadata": {},
      "outputs": [
        {
          "name": "stdout",
          "output_type": "stream",
          "text": [
            "white_rating\n",
            "mean: 1596.9882976490344\n",
            "median: 1588.0\n",
            "\n",
            "black_rating\n",
            "mean: 1588.9158270361042\n",
            "median: 1581.0\n"
          ]
        }
      ],
      "source": [
        "print(\"white_rating\")\n",
        "print(\"mean:\", chess_games_mean_fill['white_rating'].mean())\n",
        "print(\"median:\", chess_games_mean_fill['white_rating'].median(), end='\\n\\n')\n",
        "\n",
        "print(\"black_rating\")\n",
        "print(\"mean:\", chess_games_mean_fill['black_rating'].mean())\n",
        "print(\"median:\", chess_games_mean_fill['black_rating'].median())"
      ]
    },
    {
      "cell_type": "markdown",
      "metadata": {},
      "source": [
        "Quando a média é utilizada, o seu valor é alterado, além de afetar o valor da mediana, deslocando-a para um valor mais próximo do seu próprio."
      ]
    },
    {
      "cell_type": "markdown",
      "metadata": {},
      "source": [
        "### Usando a mediana"
      ]
    },
    {
      "cell_type": "code",
      "execution_count": 18,
      "metadata": {},
      "outputs": [],
      "source": [
        "chess_games_median_fill = chess_games2.copy()"
      ]
    },
    {
      "cell_type": "code",
      "execution_count": 19,
      "metadata": {},
      "outputs": [
        {
          "name": "stdout",
          "output_type": "stream",
          "text": [
            "white_rating\n",
            "mean: 1596.9882976490344\n",
            "median: 1568.0\n",
            "\n",
            "black_rating\n",
            "mean: 1588.915827036104\n",
            "median: 1562.0\n"
          ]
        }
      ],
      "source": [
        "print(\"white_rating\")\n",
        "print(\"mean:\", chess_games_median_fill['white_rating'].mean())\n",
        "print(\"median:\", chess_games_median_fill['white_rating'].median(), end='\\n\\n')\n",
        "\n",
        "print(\"black_rating\")\n",
        "print(\"mean:\", chess_games_median_fill['black_rating'].mean())\n",
        "print(\"median:\", chess_games_median_fill['black_rating'].median())"
      ]
    },
    {
      "cell_type": "code",
      "execution_count": 20,
      "metadata": {},
      "outputs": [],
      "source": [
        "chess_games_median_fill['white_rating'].fillna(chess_games2['white_rating'].median(), inplace=True)\n",
        "chess_games_median_fill['black_rating'].fillna(chess_games2['black_rating'].median(), inplace=True)"
      ]
    },
    {
      "cell_type": "code",
      "execution_count": 21,
      "metadata": {},
      "outputs": [
        {
          "data": {
            "text/plain": [
              "id                0\n",
              "rated             0\n",
              "created_at        0\n",
              "last_move_at      0\n",
              "turns             0\n",
              "victory_status    0\n",
              "winner            0\n",
              "increment_code    0\n",
              "white_id          0\n",
              "white_rating      0\n",
              "black_id          0\n",
              "black_rating      0\n",
              "moves             0\n",
              "opening_eco       0\n",
              "opening_name      0\n",
              "opening_ply       0\n",
              "dtype: int64"
            ]
          },
          "execution_count": 21,
          "metadata": {},
          "output_type": "execute_result"
        }
      ],
      "source": [
        "chess_games_median_fill.isnull().sum()"
      ]
    },
    {
      "cell_type": "code",
      "execution_count": 22,
      "metadata": {},
      "outputs": [
        {
          "name": "stdout",
          "output_type": "stream",
          "text": [
            "white_rating\n",
            "mean: 1595.540183467943\n",
            "median: 1568.0\n",
            "\n",
            "black_rating\n",
            "mean: 1587.571243394157\n",
            "median: 1562.0\n"
          ]
        }
      ],
      "source": [
        "print(\"white_rating\")\n",
        "print(\"mean:\", chess_games_median_fill['white_rating'].mean())\n",
        "print(\"median:\", chess_games_median_fill['white_rating'].median(), end='\\n\\n')\n",
        "\n",
        "print(\"black_rating\")\n",
        "print(\"mean:\", chess_games_median_fill['black_rating'].mean())\n",
        "print(\"median:\", chess_games_median_fill['black_rating'].median())"
      ]
    },
    {
      "cell_type": "markdown",
      "metadata": {},
      "source": [
        "Quando a mediana é utilizada, o seu valor se mantém e o valor da média é levemente alterado, sem apresentar um grande impacto nas estatísticas originais."
      ]
    },
    {
      "cell_type": "markdown",
      "metadata": {},
      "source": [
        "### Usando um valor aleatório"
      ]
    },
    {
      "cell_type": "code",
      "execution_count": 23,
      "metadata": {},
      "outputs": [],
      "source": [
        "chess_games_random_fill = chess_games2.copy()"
      ]
    },
    {
      "cell_type": "code",
      "execution_count": 24,
      "metadata": {},
      "outputs": [
        {
          "name": "stdout",
          "output_type": "stream",
          "text": [
            "white_rating\n",
            "mean: 1596.9882976490344\n",
            "median: 1568.0\n",
            "\n",
            "black_rating\n",
            "mean: 1588.915827036104\n",
            "median: 1562.0\n"
          ]
        }
      ],
      "source": [
        "print(\"white_rating\")\n",
        "print(\"mean:\", chess_games_random_fill['white_rating'].mean())\n",
        "print(\"median:\", chess_games_random_fill['white_rating'].median(), end='\\n\\n')\n",
        "\n",
        "print(\"black_rating\")\n",
        "print(\"mean:\", chess_games_random_fill['black_rating'].mean())\n",
        "print(\"median:\", chess_games_random_fill['black_rating'].median())"
      ]
    },
    {
      "cell_type": "code",
      "execution_count": 25,
      "metadata": {},
      "outputs": [
        {
          "data": {
            "text/plain": [
              "count    19056.000000\n",
              "mean      1596.988298\n",
              "std        290.997310\n",
              "min        784.000000\n",
              "25%       1399.000000\n",
              "50%       1568.000000\n",
              "75%       1793.000000\n",
              "max       2700.000000\n",
              "Name: white_rating, dtype: float64"
            ]
          },
          "execution_count": 25,
          "metadata": {},
          "output_type": "execute_result"
        }
      ],
      "source": [
        "# verificando os valores mínimo e máximo do white_rating\n",
        "chess_games_random_fill['white_rating'].describe()"
      ]
    },
    {
      "cell_type": "code",
      "execution_count": 26,
      "metadata": {},
      "outputs": [
        {
          "data": {
            "text/plain": [
              "count    19056.000000\n",
              "mean      1588.915827\n",
              "std        291.079741\n",
              "min        789.000000\n",
              "25%       1391.750000\n",
              "50%       1562.000000\n",
              "75%       1784.000000\n",
              "max       2723.000000\n",
              "Name: black_rating, dtype: float64"
            ]
          },
          "execution_count": 26,
          "metadata": {},
          "output_type": "execute_result"
        }
      ],
      "source": [
        "# verificando os valores mínimo e máximo do black_rating\n",
        "chess_games_random_fill['black_rating'].describe()"
      ]
    },
    {
      "cell_type": "code",
      "execution_count": 27,
      "metadata": {},
      "outputs": [],
      "source": [
        "import random\n",
        "chess_games_random_fill['white_rating'].fillna(random.randint(chess_games2['white_rating'].min(), chess_games2['white_rating'].max()), inplace=True)\n",
        "chess_games_random_fill['black_rating'].fillna(random.randint(chess_games2['black_rating'].min(), chess_games2['black_rating'].max()), inplace=True)"
      ]
    },
    {
      "cell_type": "code",
      "execution_count": 28,
      "metadata": {},
      "outputs": [
        {
          "data": {
            "text/plain": [
              "id                0\n",
              "rated             0\n",
              "created_at        0\n",
              "last_move_at      0\n",
              "turns             0\n",
              "victory_status    0\n",
              "winner            0\n",
              "increment_code    0\n",
              "white_id          0\n",
              "white_rating      0\n",
              "black_id          0\n",
              "black_rating      0\n",
              "moves             0\n",
              "opening_eco       0\n",
              "opening_name      0\n",
              "opening_ply       0\n",
              "dtype: int64"
            ]
          },
          "execution_count": 28,
          "metadata": {},
          "output_type": "execute_result"
        }
      ],
      "source": [
        "chess_games_random_fill.isnull().sum()"
      ]
    },
    {
      "cell_type": "code",
      "execution_count": 29,
      "metadata": {},
      "outputs": [
        {
          "name": "stdout",
          "output_type": "stream",
          "text": [
            "white_rating\n",
            "mean: 1566.7660285173\n",
            "median: 1549.0\n",
            "\n",
            "black_rating\n",
            "mean: 1584.174294545817\n",
            "median: 1542.0\n"
          ]
        }
      ],
      "source": [
        "print(\"white_rating\")\n",
        "print(\"mean:\", chess_games_random_fill['white_rating'].mean())\n",
        "print(\"median:\", chess_games_random_fill['white_rating'].median(), end='\\n\\n')\n",
        "\n",
        "print(\"black_rating\")\n",
        "print(\"mean:\", chess_games_random_fill['black_rating'].mean())\n",
        "print(\"median:\", chess_games_random_fill['black_rating'].median())"
      ]
    },
    {
      "cell_type": "markdown",
      "metadata": {},
      "source": [
        "A utilização de valores aleatórios se mostra uma opção ruim para a imputação de dados, pois pode distorcer as estatísticas originais do dataset, perdendo assim informações importantes."
      ]
    },
    {
      "cell_type": "markdown",
      "metadata": {},
      "source": [
        "### Usando um preditor KNN"
      ]
    },
    {
      "cell_type": "markdown",
      "metadata": {},
      "source": [
        "#### Executando o KNN"
      ]
    },
    {
      "cell_type": "code",
      "execution_count": 30,
      "metadata": {},
      "outputs": [
        {
          "name": "stdout",
          "output_type": "stream",
          "text": [
            "Requirement already satisfied: fancyimpute in /home/vinicius/.local/lib/python3.8/site-packages (0.7.0)\n",
            "Requirement already satisfied: knnimpute>=0.1.0 in /home/vinicius/.local/lib/python3.8/site-packages (from fancyimpute) (0.1.0)\n",
            "Requirement already satisfied: nose in /home/vinicius/.local/lib/python3.8/site-packages (from fancyimpute) (1.3.7)\n",
            "Requirement already satisfied: cvxpy in /home/vinicius/.local/lib/python3.8/site-packages (from fancyimpute) (1.5.1)\n",
            "Requirement already satisfied: scikit-learn>=0.24.2 in /home/vinicius/.local/lib/python3.8/site-packages (from fancyimpute) (1.3.2)\n",
            "Requirement already satisfied: pytest in /home/vinicius/.local/lib/python3.8/site-packages (from fancyimpute) (8.2.0)\n",
            "Requirement already satisfied: cvxopt in /home/vinicius/.local/lib/python3.8/site-packages (from fancyimpute) (1.3.2)\n",
            "Requirement already satisfied: numpy>=1.10 in /home/vinicius/.local/lib/python3.8/site-packages (from knnimpute>=0.1.0->fancyimpute) (1.24.4)\n",
            "Requirement already satisfied: six in /usr/lib/python3/dist-packages (from knnimpute>=0.1.0->fancyimpute) (1.14.0)\n",
            "Requirement already satisfied: osqp>=0.6.2 in /home/vinicius/.local/lib/python3.8/site-packages (from cvxpy->fancyimpute) (0.6.5)\n",
            "Requirement already satisfied: scs>=3.2.4.post1 in /home/vinicius/.local/lib/python3.8/site-packages (from cvxpy->fancyimpute) (3.2.4.post1)\n",
            "Requirement already satisfied: ecos>=2 in /home/vinicius/.local/lib/python3.8/site-packages (from cvxpy->fancyimpute) (2.0.13)\n",
            "Requirement already satisfied: scipy>=1.1.0 in /home/vinicius/.local/lib/python3.8/site-packages (from cvxpy->fancyimpute) (1.10.1)\n",
            "Requirement already satisfied: clarabel>=0.5.0 in /home/vinicius/.local/lib/python3.8/site-packages (from cvxpy->fancyimpute) (0.7.1)\n",
            "Requirement already satisfied: joblib>=1.1.1 in /home/vinicius/.local/lib/python3.8/site-packages (from scikit-learn>=0.24.2->fancyimpute) (1.4.2)\n",
            "Requirement already satisfied: threadpoolctl>=2.0.0 in /home/vinicius/.local/lib/python3.8/site-packages (from scikit-learn>=0.24.2->fancyimpute) (3.5.0)\n",
            "Requirement already satisfied: packaging in /home/vinicius/.local/lib/python3.8/site-packages (from pytest->fancyimpute) (23.2)\n",
            "Requirement already satisfied: exceptiongroup>=1.0.0rc8; python_version < \"3.11\" in /home/vinicius/.local/lib/python3.8/site-packages (from pytest->fancyimpute) (1.2.1)\n",
            "Requirement already satisfied: pluggy<2.0,>=1.5 in /home/vinicius/.local/lib/python3.8/site-packages (from pytest->fancyimpute) (1.5.0)\n",
            "Requirement already satisfied: tomli>=1; python_version < \"3.11\" in /home/vinicius/.local/lib/python3.8/site-packages (from pytest->fancyimpute) (2.0.1)\n",
            "Requirement already satisfied: iniconfig in /home/vinicius/.local/lib/python3.8/site-packages (from pytest->fancyimpute) (2.0.0)\n",
            "Requirement already satisfied: qdldl in /home/vinicius/.local/lib/python3.8/site-packages (from osqp>=0.6.2->cvxpy->fancyimpute) (0.1.7.post2)\n",
            "Note: you may need to restart the kernel to use updated packages.\n"
          ]
        }
      ],
      "source": [
        "%pip install fancyimpute"
      ]
    },
    {
      "cell_type": "code",
      "execution_count": 31,
      "metadata": {},
      "outputs": [],
      "source": [
        "chess_games_knn_fill = chess_games2.copy()"
      ]
    },
    {
      "cell_type": "code",
      "execution_count": 32,
      "metadata": {},
      "outputs": [
        {
          "data": {
            "text/html": [
              "<div>\n",
              "<style scoped>\n",
              "    .dataframe tbody tr th:only-of-type {\n",
              "        vertical-align: middle;\n",
              "    }\n",
              "\n",
              "    .dataframe tbody tr th {\n",
              "        vertical-align: top;\n",
              "    }\n",
              "\n",
              "    .dataframe thead th {\n",
              "        text-align: right;\n",
              "    }\n",
              "</style>\n",
              "<table border=\"1\" class=\"dataframe\">\n",
              "  <thead>\n",
              "    <tr style=\"text-align: right;\">\n",
              "      <th></th>\n",
              "      <th>white_rating</th>\n",
              "      <th>black_rating</th>\n",
              "    </tr>\n",
              "  </thead>\n",
              "  <tbody>\n",
              "    <tr>\n",
              "      <th>count</th>\n",
              "      <td>19056.000000</td>\n",
              "      <td>19056.000000</td>\n",
              "    </tr>\n",
              "    <tr>\n",
              "      <th>mean</th>\n",
              "      <td>1596.988298</td>\n",
              "      <td>1588.915827</td>\n",
              "    </tr>\n",
              "    <tr>\n",
              "      <th>std</th>\n",
              "      <td>290.997310</td>\n",
              "      <td>291.079741</td>\n",
              "    </tr>\n",
              "    <tr>\n",
              "      <th>min</th>\n",
              "      <td>784.000000</td>\n",
              "      <td>789.000000</td>\n",
              "    </tr>\n",
              "    <tr>\n",
              "      <th>25%</th>\n",
              "      <td>1399.000000</td>\n",
              "      <td>1391.750000</td>\n",
              "    </tr>\n",
              "    <tr>\n",
              "      <th>50%</th>\n",
              "      <td>1568.000000</td>\n",
              "      <td>1562.000000</td>\n",
              "    </tr>\n",
              "    <tr>\n",
              "      <th>75%</th>\n",
              "      <td>1793.000000</td>\n",
              "      <td>1784.000000</td>\n",
              "    </tr>\n",
              "    <tr>\n",
              "      <th>max</th>\n",
              "      <td>2700.000000</td>\n",
              "      <td>2723.000000</td>\n",
              "    </tr>\n",
              "  </tbody>\n",
              "</table>\n",
              "</div>"
            ],
            "text/plain": [
              "       white_rating  black_rating\n",
              "count  19056.000000  19056.000000\n",
              "mean    1596.988298   1588.915827\n",
              "std      290.997310    291.079741\n",
              "min      784.000000    789.000000\n",
              "25%     1399.000000   1391.750000\n",
              "50%     1568.000000   1562.000000\n",
              "75%     1793.000000   1784.000000\n",
              "max     2700.000000   2723.000000"
            ]
          },
          "execution_count": 32,
          "metadata": {},
          "output_type": "execute_result"
        }
      ],
      "source": [
        "chess_games_knn_fill[['white_rating', 'black_rating']].describe()"
      ]
    },
    {
      "cell_type": "markdown",
      "metadata": {},
      "source": [
        "Para esse método, é necessário converter tipos categóricos para numéricos"
      ]
    },
    {
      "cell_type": "code",
      "execution_count": 33,
      "metadata": {},
      "outputs": [
        {
          "data": {
            "text/plain": [
              "id                category\n",
              "rated                 bool\n",
              "created_at         float64\n",
              "last_move_at       float64\n",
              "turns                int64\n",
              "victory_status    category\n",
              "winner            category\n",
              "increment_code    category\n",
              "white_id          category\n",
              "white_rating       float64\n",
              "black_id          category\n",
              "black_rating       float64\n",
              "moves             category\n",
              "opening_eco       category\n",
              "opening_name      category\n",
              "opening_ply          int64\n",
              "dtype: object"
            ]
          },
          "execution_count": 33,
          "metadata": {},
          "output_type": "execute_result"
        }
      ],
      "source": [
        "chess_games_knn_fill.dtypes"
      ]
    },
    {
      "cell_type": "code",
      "execution_count": 34,
      "metadata": {},
      "outputs": [],
      "source": [
        "# convertendo categorico para numérico\n",
        "chess_games_knn_fill['id'] = chess_games['id'].cat.codes\n",
        "chess_games_knn_fill['victory_status'] = chess_games['victory_status'].cat.codes\n",
        "chess_games_knn_fill['winner'] = chess_games['winner'].cat.codes\n",
        "chess_games_knn_fill['increment_code'] = chess_games['increment_code'].cat.codes\n",
        "chess_games_knn_fill['white_id'] = chess_games['white_id'].cat.codes\n",
        "chess_games_knn_fill['black_id'] = chess_games['black_id'].cat.codes\n",
        "chess_games_knn_fill['moves'] = chess_games['moves'].cat.codes\n",
        "chess_games_knn_fill['opening_eco'] = chess_games['opening_eco'].cat.codes\n",
        "chess_games_knn_fill['opening_name'] = chess_games['opening_name'].cat.codes"
      ]
    },
    {
      "cell_type": "code",
      "execution_count": 35,
      "metadata": {},
      "outputs": [
        {
          "data": {
            "text/plain": [
              "id                  int16\n",
              "rated                bool\n",
              "created_at        float64\n",
              "last_move_at      float64\n",
              "turns               int64\n",
              "victory_status       int8\n",
              "winner               int8\n",
              "increment_code      int16\n",
              "white_id            int16\n",
              "white_rating      float64\n",
              "black_id            int16\n",
              "black_rating      float64\n",
              "moves               int16\n",
              "opening_eco         int16\n",
              "opening_name        int16\n",
              "opening_ply         int64\n",
              "dtype: object"
            ]
          },
          "execution_count": 35,
          "metadata": {},
          "output_type": "execute_result"
        }
      ],
      "source": [
        "chess_games_knn_fill.dtypes"
      ]
    },
    {
      "cell_type": "code",
      "execution_count": 36,
      "metadata": {},
      "outputs": [
        {
          "name": "stdout",
          "output_type": "stream",
          "text": [
            "Imputing row 1/20058 with 0 missing, elapsed time: 39.019\n",
            "Imputing row 101/20058 with 0 missing, elapsed time: 39.020\n",
            "Imputing row 201/20058 with 0 missing, elapsed time: 39.021\n",
            "Imputing row 301/20058 with 0 missing, elapsed time: 39.022\n",
            "Imputing row 401/20058 with 0 missing, elapsed time: 39.022\n",
            "Imputing row 501/20058 with 0 missing, elapsed time: 39.023\n",
            "Imputing row 601/20058 with 1 missing, elapsed time: 39.023\n",
            "Imputing row 701/20058 with 0 missing, elapsed time: 39.024\n",
            "Imputing row 801/20058 with 0 missing, elapsed time: 39.024\n",
            "Imputing row 901/20058 with 0 missing, elapsed time: 39.025\n",
            "Imputing row 1001/20058 with 0 missing, elapsed time: 39.025\n",
            "Imputing row 1101/20058 with 0 missing, elapsed time: 39.026\n",
            "Imputing row 1201/20058 with 0 missing, elapsed time: 39.027\n",
            "Imputing row 1301/20058 with 0 missing, elapsed time: 39.028\n",
            "Imputing row 1401/20058 with 0 missing, elapsed time: 39.029\n",
            "Imputing row 1501/20058 with 0 missing, elapsed time: 39.029\n",
            "Imputing row 1601/20058 with 0 missing, elapsed time: 39.030\n",
            "Imputing row 1701/20058 with 0 missing, elapsed time: 39.031\n",
            "Imputing row 1801/20058 with 0 missing, elapsed time: 39.031\n",
            "Imputing row 1901/20058 with 0 missing, elapsed time: 39.032\n",
            "Imputing row 2001/20058 with 0 missing, elapsed time: 39.033\n",
            "Imputing row 2101/20058 with 0 missing, elapsed time: 39.033\n",
            "Imputing row 2201/20058 with 0 missing, elapsed time: 39.034\n",
            "Imputing row 2301/20058 with 0 missing, elapsed time: 39.034\n",
            "Imputing row 2401/20058 with 0 missing, elapsed time: 39.035\n",
            "Imputing row 2501/20058 with 0 missing, elapsed time: 39.036\n",
            "Imputing row 2601/20058 with 0 missing, elapsed time: 39.036\n",
            "Imputing row 2701/20058 with 0 missing, elapsed time: 39.037\n",
            "Imputing row 2801/20058 with 0 missing, elapsed time: 39.038\n",
            "Imputing row 2901/20058 with 0 missing, elapsed time: 39.038\n",
            "Imputing row 3001/20058 with 0 missing, elapsed time: 39.039\n",
            "Imputing row 3101/20058 with 0 missing, elapsed time: 39.040\n",
            "Imputing row 3201/20058 with 0 missing, elapsed time: 39.040\n",
            "Imputing row 3301/20058 with 1 missing, elapsed time: 39.041\n",
            "Imputing row 3401/20058 with 0 missing, elapsed time: 39.041\n",
            "Imputing row 3501/20058 with 0 missing, elapsed time: 39.042\n",
            "Imputing row 3601/20058 with 0 missing, elapsed time: 39.042\n",
            "Imputing row 3701/20058 with 0 missing, elapsed time: 39.043\n",
            "Imputing row 3801/20058 with 0 missing, elapsed time: 39.043\n",
            "Imputing row 3901/20058 with 0 missing, elapsed time: 39.044\n",
            "Imputing row 4001/20058 with 0 missing, elapsed time: 39.044\n",
            "Imputing row 4101/20058 with 1 missing, elapsed time: 39.045\n",
            "Imputing row 4201/20058 with 0 missing, elapsed time: 39.046\n",
            "Imputing row 4301/20058 with 0 missing, elapsed time: 39.046\n",
            "Imputing row 4401/20058 with 0 missing, elapsed time: 39.047\n",
            "Imputing row 4501/20058 with 0 missing, elapsed time: 39.048\n",
            "Imputing row 4601/20058 with 0 missing, elapsed time: 39.049\n",
            "Imputing row 4701/20058 with 0 missing, elapsed time: 39.049\n",
            "Imputing row 4801/20058 with 0 missing, elapsed time: 39.050\n",
            "Imputing row 4901/20058 with 0 missing, elapsed time: 39.051\n",
            "Imputing row 5001/20058 with 0 missing, elapsed time: 39.051\n",
            "Imputing row 5101/20058 with 0 missing, elapsed time: 39.052\n",
            "Imputing row 5201/20058 with 0 missing, elapsed time: 39.053\n",
            "Imputing row 5301/20058 with 0 missing, elapsed time: 39.053\n",
            "Imputing row 5401/20058 with 0 missing, elapsed time: 39.053\n",
            "Imputing row 5501/20058 with 0 missing, elapsed time: 39.054\n",
            "Imputing row 5601/20058 with 0 missing, elapsed time: 39.054\n",
            "Imputing row 5701/20058 with 0 missing, elapsed time: 39.055\n",
            "Imputing row 5801/20058 with 0 missing, elapsed time: 39.056\n",
            "Imputing row 5901/20058 with 0 missing, elapsed time: 39.056\n",
            "Imputing row 6001/20058 with 0 missing, elapsed time: 39.057\n",
            "Imputing row 6101/20058 with 0 missing, elapsed time: 39.057\n",
            "Imputing row 6201/20058 with 0 missing, elapsed time: 39.058\n",
            "Imputing row 6301/20058 with 0 missing, elapsed time: 39.058\n",
            "Imputing row 6401/20058 with 0 missing, elapsed time: 39.059\n",
            "Imputing row 6501/20058 with 1 missing, elapsed time: 39.059\n",
            "Imputing row 6601/20058 with 1 missing, elapsed time: 39.060\n",
            "Imputing row 6701/20058 with 0 missing, elapsed time: 39.060\n",
            "Imputing row 6801/20058 with 0 missing, elapsed time: 39.061\n",
            "Imputing row 6901/20058 with 0 missing, elapsed time: 39.061\n",
            "Imputing row 7001/20058 with 0 missing, elapsed time: 39.062\n",
            "Imputing row 7101/20058 with 0 missing, elapsed time: 39.062\n",
            "Imputing row 7201/20058 with 1 missing, elapsed time: 39.063\n",
            "Imputing row 7301/20058 with 0 missing, elapsed time: 39.063\n",
            "Imputing row 7401/20058 with 0 missing, elapsed time: 39.064\n",
            "Imputing row 7501/20058 with 0 missing, elapsed time: 39.065\n",
            "Imputing row 7601/20058 with 0 missing, elapsed time: 39.066\n",
            "Imputing row 7701/20058 with 0 missing, elapsed time: 39.066\n",
            "Imputing row 7801/20058 with 0 missing, elapsed time: 39.066\n",
            "Imputing row 7901/20058 with 0 missing, elapsed time: 39.067\n",
            "Imputing row 8001/20058 with 0 missing, elapsed time: 39.067\n",
            "Imputing row 8101/20058 with 0 missing, elapsed time: 39.067\n",
            "Imputing row 8201/20058 with 0 missing, elapsed time: 39.068\n",
            "Imputing row 8301/20058 with 0 missing, elapsed time: 39.069\n",
            "Imputing row 8401/20058 with 0 missing, elapsed time: 39.069\n",
            "Imputing row 8501/20058 with 0 missing, elapsed time: 39.070\n",
            "Imputing row 8601/20058 with 1 missing, elapsed time: 39.071\n",
            "Imputing row 8701/20058 with 0 missing, elapsed time: 39.071\n",
            "Imputing row 8801/20058 with 0 missing, elapsed time: 39.072\n",
            "Imputing row 8901/20058 with 1 missing, elapsed time: 39.072\n",
            "Imputing row 9001/20058 with 0 missing, elapsed time: 39.073\n",
            "Imputing row 9101/20058 with 0 missing, elapsed time: 39.073\n",
            "Imputing row 9201/20058 with 0 missing, elapsed time: 39.074\n",
            "Imputing row 9301/20058 with 0 missing, elapsed time: 39.074\n",
            "Imputing row 9401/20058 with 0 missing, elapsed time: 39.075\n",
            "Imputing row 9501/20058 with 0 missing, elapsed time: 39.076\n",
            "Imputing row 9601/20058 with 0 missing, elapsed time: 39.076\n",
            "Imputing row 9701/20058 with 0 missing, elapsed time: 39.076\n",
            "Imputing row 9801/20058 with 0 missing, elapsed time: 39.077\n",
            "Imputing row 9901/20058 with 1 missing, elapsed time: 39.078\n",
            "Imputing row 10001/20058 with 0 missing, elapsed time: 39.078\n",
            "Imputing row 10101/20058 with 0 missing, elapsed time: 39.079\n",
            "Imputing row 10201/20058 with 0 missing, elapsed time: 39.079\n",
            "Imputing row 10301/20058 with 0 missing, elapsed time: 39.080\n",
            "Imputing row 10401/20058 with 1 missing, elapsed time: 39.080\n",
            "Imputing row 10501/20058 with 0 missing, elapsed time: 39.081\n",
            "Imputing row 10601/20058 with 0 missing, elapsed time: 39.082\n",
            "Imputing row 10701/20058 with 1 missing, elapsed time: 39.082\n",
            "Imputing row 10801/20058 with 0 missing, elapsed time: 39.083\n",
            "Imputing row 10901/20058 with 0 missing, elapsed time: 39.083\n",
            "Imputing row 11001/20058 with 0 missing, elapsed time: 39.084\n",
            "Imputing row 11101/20058 with 0 missing, elapsed time: 39.084\n",
            "Imputing row 11201/20058 with 0 missing, elapsed time: 39.085\n",
            "Imputing row 11301/20058 with 0 missing, elapsed time: 39.085\n",
            "Imputing row 11401/20058 with 0 missing, elapsed time: 39.086\n",
            "Imputing row 11501/20058 with 0 missing, elapsed time: 39.086\n",
            "Imputing row 11601/20058 with 0 missing, elapsed time: 39.087\n",
            "Imputing row 11701/20058 with 0 missing, elapsed time: 39.088\n",
            "Imputing row 11801/20058 with 0 missing, elapsed time: 39.088\n",
            "Imputing row 11901/20058 with 0 missing, elapsed time: 39.089\n",
            "Imputing row 12001/20058 with 0 missing, elapsed time: 39.089\n",
            "Imputing row 12101/20058 with 0 missing, elapsed time: 39.090\n",
            "Imputing row 12201/20058 with 0 missing, elapsed time: 39.090\n",
            "Imputing row 12301/20058 with 0 missing, elapsed time: 39.091\n",
            "Imputing row 12401/20058 with 0 missing, elapsed time: 39.091\n",
            "Imputing row 12501/20058 with 0 missing, elapsed time: 39.092\n",
            "Imputing row 12601/20058 with 0 missing, elapsed time: 39.093\n",
            "Imputing row 12701/20058 with 0 missing, elapsed time: 39.093\n",
            "Imputing row 12801/20058 with 0 missing, elapsed time: 39.094\n",
            "Imputing row 12901/20058 with 0 missing, elapsed time: 39.095\n",
            "Imputing row 13001/20058 with 0 missing, elapsed time: 39.095\n",
            "Imputing row 13101/20058 with 0 missing, elapsed time: 39.096\n",
            "Imputing row 13201/20058 with 0 missing, elapsed time: 39.097\n",
            "Imputing row 13301/20058 with 0 missing, elapsed time: 39.097\n",
            "Imputing row 13401/20058 with 1 missing, elapsed time: 39.098\n",
            "Imputing row 13501/20058 with 0 missing, elapsed time: 39.099\n",
            "Imputing row 13601/20058 with 0 missing, elapsed time: 39.100\n",
            "Imputing row 13701/20058 with 0 missing, elapsed time: 39.101\n",
            "Imputing row 13801/20058 with 0 missing, elapsed time: 39.102\n",
            "Imputing row 13901/20058 with 0 missing, elapsed time: 39.102\n",
            "Imputing row 14001/20058 with 0 missing, elapsed time: 39.103\n",
            "Imputing row 14101/20058 with 0 missing, elapsed time: 39.104\n",
            "Imputing row 14201/20058 with 0 missing, elapsed time: 39.105\n",
            "Imputing row 14301/20058 with 0 missing, elapsed time: 39.106\n",
            "Imputing row 14401/20058 with 0 missing, elapsed time: 39.107\n",
            "Imputing row 14501/20058 with 0 missing, elapsed time: 39.108\n",
            "Imputing row 14601/20058 with 0 missing, elapsed time: 39.109\n",
            "Imputing row 14701/20058 with 1 missing, elapsed time: 39.109\n",
            "Imputing row 14801/20058 with 0 missing, elapsed time: 39.110\n",
            "Imputing row 14901/20058 with 0 missing, elapsed time: 39.110\n",
            "Imputing row 15001/20058 with 0 missing, elapsed time: 39.111\n",
            "Imputing row 15101/20058 with 0 missing, elapsed time: 39.111\n",
            "Imputing row 15201/20058 with 0 missing, elapsed time: 39.112\n",
            "Imputing row 15301/20058 with 0 missing, elapsed time: 39.113\n",
            "Imputing row 15401/20058 with 0 missing, elapsed time: 39.113\n",
            "Imputing row 15501/20058 with 0 missing, elapsed time: 39.114\n",
            "Imputing row 15601/20058 with 0 missing, elapsed time: 39.114\n",
            "Imputing row 15701/20058 with 0 missing, elapsed time: 39.115\n",
            "Imputing row 15801/20058 with 0 missing, elapsed time: 39.115\n",
            "Imputing row 15901/20058 with 1 missing, elapsed time: 39.116\n",
            "Imputing row 16001/20058 with 0 missing, elapsed time: 39.117\n",
            "Imputing row 16101/20058 with 0 missing, elapsed time: 39.117\n",
            "Imputing row 16201/20058 with 0 missing, elapsed time: 39.117\n",
            "Imputing row 16301/20058 with 0 missing, elapsed time: 39.118\n",
            "Imputing row 16401/20058 with 0 missing, elapsed time: 39.118\n",
            "Imputing row 16501/20058 with 0 missing, elapsed time: 39.119\n",
            "Imputing row 16601/20058 with 0 missing, elapsed time: 39.119\n",
            "Imputing row 16701/20058 with 0 missing, elapsed time: 39.120\n",
            "Imputing row 16801/20058 with 0 missing, elapsed time: 39.120\n",
            "Imputing row 16901/20058 with 0 missing, elapsed time: 39.121\n",
            "Imputing row 17001/20058 with 0 missing, elapsed time: 39.121\n",
            "Imputing row 17101/20058 with 0 missing, elapsed time: 39.122\n",
            "Imputing row 17201/20058 with 0 missing, elapsed time: 39.123\n",
            "Imputing row 17301/20058 with 0 missing, elapsed time: 39.123\n",
            "Imputing row 17401/20058 with 0 missing, elapsed time: 39.124\n",
            "Imputing row 17501/20058 with 0 missing, elapsed time: 39.124\n",
            "Imputing row 17601/20058 with 0 missing, elapsed time: 39.125\n",
            "Imputing row 17701/20058 with 0 missing, elapsed time: 39.125\n",
            "Imputing row 17801/20058 with 0 missing, elapsed time: 39.125\n",
            "Imputing row 17901/20058 with 0 missing, elapsed time: 39.126\n",
            "Imputing row 18001/20058 with 0 missing, elapsed time: 39.126\n",
            "Imputing row 18101/20058 with 0 missing, elapsed time: 39.127\n",
            "Imputing row 18201/20058 with 1 missing, elapsed time: 39.127\n",
            "Imputing row 18301/20058 with 0 missing, elapsed time: 39.128\n",
            "Imputing row 18401/20058 with 0 missing, elapsed time: 39.129\n",
            "Imputing row 18501/20058 with 0 missing, elapsed time: 39.129\n",
            "Imputing row 18601/20058 with 0 missing, elapsed time: 39.130\n",
            "Imputing row 18701/20058 with 0 missing, elapsed time: 39.130\n",
            "Imputing row 18801/20058 with 0 missing, elapsed time: 39.131\n",
            "Imputing row 18901/20058 with 0 missing, elapsed time: 39.131\n",
            "Imputing row 19001/20058 with 0 missing, elapsed time: 39.132\n",
            "Imputing row 19101/20058 with 1 missing, elapsed time: 39.132\n",
            "Imputing row 19201/20058 with 0 missing, elapsed time: 39.133\n",
            "Imputing row 19301/20058 with 1 missing, elapsed time: 39.133\n",
            "Imputing row 19401/20058 with 0 missing, elapsed time: 39.134\n",
            "Imputing row 19501/20058 with 0 missing, elapsed time: 39.134\n",
            "Imputing row 19601/20058 with 0 missing, elapsed time: 39.135\n",
            "Imputing row 19701/20058 with 0 missing, elapsed time: 39.135\n",
            "Imputing row 19801/20058 with 0 missing, elapsed time: 39.136\n",
            "Imputing row 19901/20058 with 0 missing, elapsed time: 39.136\n",
            "Imputing row 20001/20058 with 1 missing, elapsed time: 39.137\n"
          ]
        }
      ],
      "source": [
        "from fancyimpute import KNN\n",
        "chess_games_knn = KNN(k=3).fit_transform(chess_games_knn_fill)"
      ]
    },
    {
      "cell_type": "code",
      "execution_count": 37,
      "metadata": {},
      "outputs": [],
      "source": [
        "chess_games_knn_fill = pd.DataFrame(chess_games_knn, columns=chess_games_knn_fill.columns)"
      ]
    },
    {
      "cell_type": "code",
      "execution_count": 38,
      "metadata": {},
      "outputs": [
        {
          "data": {
            "text/html": [
              "<div>\n",
              "<style scoped>\n",
              "    .dataframe tbody tr th:only-of-type {\n",
              "        vertical-align: middle;\n",
              "    }\n",
              "\n",
              "    .dataframe tbody tr th {\n",
              "        vertical-align: top;\n",
              "    }\n",
              "\n",
              "    .dataframe thead th {\n",
              "        text-align: right;\n",
              "    }\n",
              "</style>\n",
              "<table border=\"1\" class=\"dataframe\">\n",
              "  <thead>\n",
              "    <tr style=\"text-align: right;\">\n",
              "      <th></th>\n",
              "      <th>id</th>\n",
              "      <th>rated</th>\n",
              "      <th>created_at</th>\n",
              "      <th>last_move_at</th>\n",
              "      <th>turns</th>\n",
              "      <th>victory_status</th>\n",
              "      <th>winner</th>\n",
              "      <th>increment_code</th>\n",
              "      <th>white_id</th>\n",
              "      <th>white_rating</th>\n",
              "      <th>black_id</th>\n",
              "      <th>black_rating</th>\n",
              "      <th>moves</th>\n",
              "      <th>opening_eco</th>\n",
              "      <th>opening_name</th>\n",
              "      <th>opening_ply</th>\n",
              "    </tr>\n",
              "  </thead>\n",
              "  <tbody>\n",
              "    <tr>\n",
              "      <th>0</th>\n",
              "      <td>9068.0</td>\n",
              "      <td>0.0</td>\n",
              "      <td>1.504210e+12</td>\n",
              "      <td>1.504210e+12</td>\n",
              "      <td>13.0</td>\n",
              "      <td>2.0</td>\n",
              "      <td>2.0</td>\n",
              "      <td>110.0</td>\n",
              "      <td>1287.0</td>\n",
              "      <td>1500.000000</td>\n",
              "      <td>11.0</td>\n",
              "      <td>1191.0</td>\n",
              "      <td>4524.0</td>\n",
              "      <td>248.0</td>\n",
              "      <td>1387.0</td>\n",
              "      <td>5.0</td>\n",
              "    </tr>\n",
              "    <tr>\n",
              "      <th>1</th>\n",
              "      <td>14512.0</td>\n",
              "      <td>1.0</td>\n",
              "      <td>1.504130e+12</td>\n",
              "      <td>1.504130e+12</td>\n",
              "      <td>16.0</td>\n",
              "      <td>3.0</td>\n",
              "      <td>0.0</td>\n",
              "      <td>298.0</td>\n",
              "      <td>16.0</td>\n",
              "      <td>1322.000000</td>\n",
              "      <td>7748.0</td>\n",
              "      <td>1261.0</td>\n",
              "      <td>1987.0</td>\n",
              "      <td>71.0</td>\n",
              "      <td>750.0</td>\n",
              "      <td>4.0</td>\n",
              "    </tr>\n",
              "    <tr>\n",
              "      <th>2</th>\n",
              "      <td>14904.0</td>\n",
              "      <td>1.0</td>\n",
              "      <td>1.504130e+12</td>\n",
              "      <td>1.504130e+12</td>\n",
              "      <td>61.0</td>\n",
              "      <td>1.0</td>\n",
              "      <td>2.0</td>\n",
              "      <td>298.0</td>\n",
              "      <td>3823.0</td>\n",
              "      <td>1496.000000</td>\n",
              "      <td>11.0</td>\n",
              "      <td>1500.0</td>\n",
              "      <td>16383.0</td>\n",
              "      <td>171.0</td>\n",
              "      <td>650.0</td>\n",
              "      <td>3.0</td>\n",
              "    </tr>\n",
              "    <tr>\n",
              "      <th>3</th>\n",
              "      <td>14350.0</td>\n",
              "      <td>1.0</td>\n",
              "      <td>1.504110e+12</td>\n",
              "      <td>1.504110e+12</td>\n",
              "      <td>61.0</td>\n",
              "      <td>1.0</td>\n",
              "      <td>2.0</td>\n",
              "      <td>187.0</td>\n",
              "      <td>2017.0</td>\n",
              "      <td>1782.550037</td>\n",
              "      <td>134.0</td>\n",
              "      <td>1454.0</td>\n",
              "      <td>3770.0</td>\n",
              "      <td>241.0</td>\n",
              "      <td>992.0</td>\n",
              "      <td>3.0</td>\n",
              "    </tr>\n",
              "    <tr>\n",
              "      <th>4</th>\n",
              "      <td>3091.0</td>\n",
              "      <td>1.0</td>\n",
              "      <td>1.504030e+12</td>\n",
              "      <td>1.504030e+12</td>\n",
              "      <td>95.0</td>\n",
              "      <td>1.0</td>\n",
              "      <td>2.0</td>\n",
              "      <td>247.0</td>\n",
              "      <td>6056.0</td>\n",
              "      <td>1523.000000</td>\n",
              "      <td>134.0</td>\n",
              "      <td>1469.0</td>\n",
              "      <td>15622.0</td>\n",
              "      <td>192.0</td>\n",
              "      <td>783.0</td>\n",
              "      <td>5.0</td>\n",
              "    </tr>\n",
              "  </tbody>\n",
              "</table>\n",
              "</div>"
            ],
            "text/plain": [
              "        id  rated    created_at  last_move_at  turns  victory_status  winner  \\\n",
              "0   9068.0    0.0  1.504210e+12  1.504210e+12   13.0             2.0     2.0   \n",
              "1  14512.0    1.0  1.504130e+12  1.504130e+12   16.0             3.0     0.0   \n",
              "2  14904.0    1.0  1.504130e+12  1.504130e+12   61.0             1.0     2.0   \n",
              "3  14350.0    1.0  1.504110e+12  1.504110e+12   61.0             1.0     2.0   \n",
              "4   3091.0    1.0  1.504030e+12  1.504030e+12   95.0             1.0     2.0   \n",
              "\n",
              "   increment_code  white_id  white_rating  black_id  black_rating    moves  \\\n",
              "0           110.0    1287.0   1500.000000      11.0        1191.0   4524.0   \n",
              "1           298.0      16.0   1322.000000    7748.0        1261.0   1987.0   \n",
              "2           298.0    3823.0   1496.000000      11.0        1500.0  16383.0   \n",
              "3           187.0    2017.0   1782.550037     134.0        1454.0   3770.0   \n",
              "4           247.0    6056.0   1523.000000     134.0        1469.0  15622.0   \n",
              "\n",
              "   opening_eco  opening_name  opening_ply  \n",
              "0        248.0        1387.0          5.0  \n",
              "1         71.0         750.0          4.0  \n",
              "2        171.0         650.0          3.0  \n",
              "3        241.0         992.0          3.0  \n",
              "4        192.0         783.0          5.0  "
            ]
          },
          "execution_count": 38,
          "metadata": {},
          "output_type": "execute_result"
        }
      ],
      "source": [
        "chess_games_knn_fill.head()"
      ]
    },
    {
      "cell_type": "code",
      "execution_count": 39,
      "metadata": {},
      "outputs": [
        {
          "data": {
            "text/plain": [
              "id                0\n",
              "rated             0\n",
              "created_at        0\n",
              "last_move_at      0\n",
              "turns             0\n",
              "victory_status    0\n",
              "winner            0\n",
              "increment_code    0\n",
              "white_id          0\n",
              "white_rating      0\n",
              "black_id          0\n",
              "black_rating      0\n",
              "moves             0\n",
              "opening_eco       0\n",
              "opening_name      0\n",
              "opening_ply       0\n",
              "dtype: int64"
            ]
          },
          "execution_count": 39,
          "metadata": {},
          "output_type": "execute_result"
        }
      ],
      "source": [
        "chess_games_knn_fill.isnull().sum()"
      ]
    },
    {
      "cell_type": "code",
      "execution_count": 40,
      "metadata": {},
      "outputs": [
        {
          "data": {
            "text/html": [
              "<div>\n",
              "<style scoped>\n",
              "    .dataframe tbody tr th:only-of-type {\n",
              "        vertical-align: middle;\n",
              "    }\n",
              "\n",
              "    .dataframe tbody tr th {\n",
              "        vertical-align: top;\n",
              "    }\n",
              "\n",
              "    .dataframe thead th {\n",
              "        text-align: right;\n",
              "    }\n",
              "</style>\n",
              "<table border=\"1\" class=\"dataframe\">\n",
              "  <thead>\n",
              "    <tr style=\"text-align: right;\">\n",
              "      <th></th>\n",
              "      <th>white_rating</th>\n",
              "      <th>black_rating</th>\n",
              "    </tr>\n",
              "  </thead>\n",
              "  <tbody>\n",
              "    <tr>\n",
              "      <th>count</th>\n",
              "      <td>20058.000000</td>\n",
              "      <td>20058.000000</td>\n",
              "    </tr>\n",
              "    <tr>\n",
              "      <th>mean</th>\n",
              "      <td>1596.915314</td>\n",
              "      <td>1588.536090</td>\n",
              "    </tr>\n",
              "    <tr>\n",
              "      <th>std</th>\n",
              "      <td>288.883620</td>\n",
              "      <td>289.017183</td>\n",
              "    </tr>\n",
              "    <tr>\n",
              "      <th>min</th>\n",
              "      <td>784.000000</td>\n",
              "      <td>789.000000</td>\n",
              "    </tr>\n",
              "    <tr>\n",
              "      <th>25%</th>\n",
              "      <td>1400.000000</td>\n",
              "      <td>1392.000000</td>\n",
              "    </tr>\n",
              "    <tr>\n",
              "      <th>50%</th>\n",
              "      <td>1568.000000</td>\n",
              "      <td>1562.000000</td>\n",
              "    </tr>\n",
              "    <tr>\n",
              "      <th>75%</th>\n",
              "      <td>1790.000000</td>\n",
              "      <td>1781.000000</td>\n",
              "    </tr>\n",
              "    <tr>\n",
              "      <th>max</th>\n",
              "      <td>2700.000000</td>\n",
              "      <td>2723.000000</td>\n",
              "    </tr>\n",
              "  </tbody>\n",
              "</table>\n",
              "</div>"
            ],
            "text/plain": [
              "       white_rating  black_rating\n",
              "count  20058.000000  20058.000000\n",
              "mean    1596.915314   1588.536090\n",
              "std      288.883620    289.017183\n",
              "min      784.000000    789.000000\n",
              "25%     1400.000000   1392.000000\n",
              "50%     1568.000000   1562.000000\n",
              "75%     1790.000000   1781.000000\n",
              "max     2700.000000   2723.000000"
            ]
          },
          "execution_count": 40,
          "metadata": {},
          "output_type": "execute_result"
        }
      ],
      "source": [
        "chess_games_knn_fill[['white_rating', 'black_rating']].describe()"
      ]
    },
    {
      "cell_type": "markdown",
      "metadata": {},
      "source": [
        "O uso do KNN para imputação de dados é uma boa opção, pois ele é capaz de prever valores ausentes com base em valores próximos, sem distorcer as estatísticas originais do dataset."
      ]
    },
    {
      "cell_type": "markdown",
      "metadata": {},
      "source": [
        "#### Verificando o erro do modelo KNN"
      ]
    },
    {
      "cell_type": "code",
      "execution_count": 79,
      "metadata": {},
      "outputs": [
        {
          "name": "stdout",
          "output_type": "stream",
          "text": [
            "white_rating\n",
            "MAE: 212.72995402005253\n",
            "\n",
            "black_rating\n",
            "MAE: 199.86107369334874\n"
          ]
        }
      ],
      "source": [
        "target_white = chess_games.loc[random_indices_white_rating, ['white_rating']]\n",
        "target_black = chess_games.loc[random_indices_black_rating, ['black_rating']]\n",
        "pred_white = chess_games_knn_fill.loc[random_indices_white_rating, ['white_rating']]\n",
        "pred_black = chess_games_knn_fill.loc[random_indices_black_rating, ['black_rating']]\n",
        "\n",
        "from sklearn.metrics import mean_absolute_error\n",
        "print(\"white_rating\")\n",
        "print(\"MAE:\", mean_absolute_error(target_white, pred_white), end='\\n\\n')\n",
        "\n",
        "print(\"black_rating\")\n",
        "print(\"MAE:\", mean_absolute_error(target_black, pred_black))"
      ]
    },
    {
      "cell_type": "code",
      "execution_count": 77,
      "metadata": {},
      "outputs": [
        {
          "data": {
            "text/html": [
              "<div>\n",
              "<style scoped>\n",
              "    .dataframe tbody tr th:only-of-type {\n",
              "        vertical-align: middle;\n",
              "    }\n",
              "\n",
              "    .dataframe tbody tr th {\n",
              "        vertical-align: top;\n",
              "    }\n",
              "\n",
              "    .dataframe thead th {\n",
              "        text-align: right;\n",
              "    }\n",
              "</style>\n",
              "<table border=\"1\" class=\"dataframe\">\n",
              "  <thead>\n",
              "    <tr style=\"text-align: right;\">\n",
              "      <th></th>\n",
              "      <th>white_rating</th>\n",
              "      <th>black_rating</th>\n",
              "    </tr>\n",
              "  </thead>\n",
              "  <tbody>\n",
              "    <tr>\n",
              "      <th>count</th>\n",
              "      <td>20058.000000</td>\n",
              "      <td>20058.000000</td>\n",
              "    </tr>\n",
              "    <tr>\n",
              "      <th>mean</th>\n",
              "      <td>1596.631868</td>\n",
              "      <td>1588.831987</td>\n",
              "    </tr>\n",
              "    <tr>\n",
              "      <th>std</th>\n",
              "      <td>291.253376</td>\n",
              "      <td>291.036126</td>\n",
              "    </tr>\n",
              "    <tr>\n",
              "      <th>min</th>\n",
              "      <td>784.000000</td>\n",
              "      <td>789.000000</td>\n",
              "    </tr>\n",
              "    <tr>\n",
              "      <th>25%</th>\n",
              "      <td>1398.000000</td>\n",
              "      <td>1391.000000</td>\n",
              "    </tr>\n",
              "    <tr>\n",
              "      <th>50%</th>\n",
              "      <td>1567.000000</td>\n",
              "      <td>1562.000000</td>\n",
              "    </tr>\n",
              "    <tr>\n",
              "      <th>75%</th>\n",
              "      <td>1793.000000</td>\n",
              "      <td>1784.000000</td>\n",
              "    </tr>\n",
              "    <tr>\n",
              "      <th>max</th>\n",
              "      <td>2700.000000</td>\n",
              "      <td>2723.000000</td>\n",
              "    </tr>\n",
              "  </tbody>\n",
              "</table>\n",
              "</div>"
            ],
            "text/plain": [
              "       white_rating  black_rating\n",
              "count  20058.000000  20058.000000\n",
              "mean    1596.631868   1588.831987\n",
              "std      291.253376    291.036126\n",
              "min      784.000000    789.000000\n",
              "25%     1398.000000   1391.000000\n",
              "50%     1567.000000   1562.000000\n",
              "75%     1793.000000   1784.000000\n",
              "max     2700.000000   2723.000000"
            ]
          },
          "execution_count": 77,
          "metadata": {},
          "output_type": "execute_result"
        }
      ],
      "source": [
        "chess_games[['white_rating', 'black_rating']].describe()"
      ]
    },
    {
      "cell_type": "code",
      "execution_count": 78,
      "metadata": {},
      "outputs": [
        {
          "data": {
            "text/html": [
              "<div>\n",
              "<style scoped>\n",
              "    .dataframe tbody tr th:only-of-type {\n",
              "        vertical-align: middle;\n",
              "    }\n",
              "\n",
              "    .dataframe tbody tr th {\n",
              "        vertical-align: top;\n",
              "    }\n",
              "\n",
              "    .dataframe thead th {\n",
              "        text-align: right;\n",
              "    }\n",
              "</style>\n",
              "<table border=\"1\" class=\"dataframe\">\n",
              "  <thead>\n",
              "    <tr style=\"text-align: right;\">\n",
              "      <th></th>\n",
              "      <th>white_rating</th>\n",
              "      <th>black_rating</th>\n",
              "    </tr>\n",
              "  </thead>\n",
              "  <tbody>\n",
              "    <tr>\n",
              "      <th>count</th>\n",
              "      <td>20058.000000</td>\n",
              "      <td>20058.000000</td>\n",
              "    </tr>\n",
              "    <tr>\n",
              "      <th>mean</th>\n",
              "      <td>1596.915314</td>\n",
              "      <td>1588.536090</td>\n",
              "    </tr>\n",
              "    <tr>\n",
              "      <th>std</th>\n",
              "      <td>288.883620</td>\n",
              "      <td>289.017183</td>\n",
              "    </tr>\n",
              "    <tr>\n",
              "      <th>min</th>\n",
              "      <td>784.000000</td>\n",
              "      <td>789.000000</td>\n",
              "    </tr>\n",
              "    <tr>\n",
              "      <th>25%</th>\n",
              "      <td>1400.000000</td>\n",
              "      <td>1392.000000</td>\n",
              "    </tr>\n",
              "    <tr>\n",
              "      <th>50%</th>\n",
              "      <td>1568.000000</td>\n",
              "      <td>1562.000000</td>\n",
              "    </tr>\n",
              "    <tr>\n",
              "      <th>75%</th>\n",
              "      <td>1790.000000</td>\n",
              "      <td>1781.000000</td>\n",
              "    </tr>\n",
              "    <tr>\n",
              "      <th>max</th>\n",
              "      <td>2700.000000</td>\n",
              "      <td>2723.000000</td>\n",
              "    </tr>\n",
              "  </tbody>\n",
              "</table>\n",
              "</div>"
            ],
            "text/plain": [
              "       white_rating  black_rating\n",
              "count  20058.000000  20058.000000\n",
              "mean    1596.915314   1588.536090\n",
              "std      288.883620    289.017183\n",
              "min      784.000000    789.000000\n",
              "25%     1400.000000   1392.000000\n",
              "50%     1568.000000   1562.000000\n",
              "75%     1790.000000   1781.000000\n",
              "max     2700.000000   2723.000000"
            ]
          },
          "execution_count": 78,
          "metadata": {},
          "output_type": "execute_result"
        }
      ],
      "source": [
        "chess_games_knn_fill[['white_rating', 'black_rating']].describe()"
      ]
    },
    {
      "cell_type": "markdown",
      "metadata": {},
      "source": [
        "De acordo com os resultados obtidos, o modelo KNN apresentou um erro médio em torno de 200 de rating, o que não é um valor desprezível, mas sua distribuição compensou a variação das estatísticas, mantendo-as próximas das originais do dataset."
      ]
    },
    {
      "cell_type": "markdown",
      "metadata": {
        "id": "QBkQSpsUDwNB"
      },
      "source": [
        "# Estatísticas Descritivas"
      ]
    },
    {
      "cell_type": "markdown",
      "metadata": {
        "id": "iVedNOsnTyqV"
      },
      "source": [
        "## Distribuição dos ratings de todos os jogadores"
      ]
    },
    {
      "cell_type": "code",
      "execution_count": 41,
      "metadata": {
        "id": "8s3VA_cGT4tc"
      },
      "outputs": [],
      "source": [
        "all_ratings = pd.concat([chess_games['white_rating'], chess_games['black_rating']])"
      ]
    },
    {
      "cell_type": "code",
      "execution_count": 42,
      "metadata": {
        "colab": {
          "base_uri": "https://localhost:8080/"
        },
        "id": "zJMa7H1cU1Pq",
        "outputId": "d4a0c65f-5422-414f-b405-7796c9c8385a"
      },
      "outputs": [
        {
          "data": {
            "text/plain": [
              "count    40116.000000\n",
              "mean      1592.731927\n",
              "std        291.167262\n",
              "min        784.000000\n",
              "25%       1394.000000\n",
              "50%       1564.000000\n",
              "75%       1788.000000\n",
              "max       2723.000000\n",
              "dtype: float64"
            ]
          },
          "execution_count": 42,
          "metadata": {},
          "output_type": "execute_result"
        }
      ],
      "source": [
        "all_ratings.describe()"
      ]
    },
    {
      "cell_type": "code",
      "execution_count": 43,
      "metadata": {
        "colab": {
          "base_uri": "https://localhost:8080/",
          "height": 447
        },
        "id": "UOgMzsaiRsjr",
        "outputId": "71d681d2-0c03-4f3d-fb0f-f0dc0cf4bd64"
      },
      "outputs": [
        {
          "data": {
            "text/plain": [
              "<Axes: >"
            ]
          },
          "execution_count": 43,
          "metadata": {},
          "output_type": "execute_result"
        },
        {
          "data": {
            "image/png": "[encoded data removed]",
            "text/plain": [
              "<Figure size 640x480 with 1 Axes>"
            ]
          },
          "metadata": {},
          "output_type": "display_data"
        }
      ],
      "source": [
        "all_ratings.hist()"
      ]
    },
    {
      "cell_type": "code",
      "execution_count": 44,
      "metadata": {
        "colab": {
          "base_uri": "https://localhost:8080/",
          "height": 428
        },
        "id": "FcO61fKFT3LV",
        "outputId": "ae0fec26-7958-408d-b381-39cf3b1c9274"
      },
      "outputs": [
        {
          "data": {
            "text/plain": [
              "<Axes: >"
            ]
          },
          "execution_count": 44,
          "metadata": {},
          "output_type": "execute_result"
        },
        {
          "data": {
            "image/png": "[encoded data removed]",
            "text/plain": [
              "<Figure size 640x480 with 1 Axes>"
            ]
          },
          "metadata": {},
          "output_type": "display_data"
        }
      ],
      "source": [
        "all_ratings.plot.box()"
      ]
    }
  ],
  "metadata": {
    "colab": {
      "collapsed_sections": [
        "xr4KxIm-Kevf",
        "8s3goxuOOe9W",
        "OOH6JN-DOXEI",
        "9zcOvytXOi5B",
        "QBkQSpsUDwNB",
        "iVedNOsnTyqV"
      ],
      "provenance": []
    },
    "kernelspec": {
      "display_name": "Python 3",
      "name": "python3"
    },
    "language_info": {
      "codemirror_mode": {
        "name": "ipython",
        "version": 3
      },
      "file_extension": ".py",
      "mimetype": "text/x-python",
      "name": "python",
      "nbconvert_exporter": "python",
      "pygments_lexer": "ipython3",
      "version": "3.8.10"
    }
  },
  "nbformat": 4,
  "nbformat_minor": 0
}
