{
 "cells": [
  {
   "cell_type": "markdown",
   "metadata": {},
   "source": [
    "# Classificação de partidas de xadrez"
   ]
  },
  {
   "cell_type": "markdown",
   "metadata": {},
   "source": [
    "Serão criados modelos de classificação para prever o vencedor de partidas de xadrez, baseado em dados pré-processados no projeto anterior.\n",
    "\n",
    "Será utilizado o MLFlow para rastreamento de experimentos e comparação de modelos."
   ]
  },
  {
   "cell_type": "markdown",
   "metadata": {},
   "source": [
    "# Configuração do MLFLow"
   ]
  },
  {
   "cell_type": "code",
   "execution_count": null,
   "metadata": {},
   "outputs": [],
   "source": [
    "%pip install mlflow"
   ]
  },
  {
   "cell_type": "code",
   "execution_count": null,
   "metadata": {},
   "outputs": [],
   "source": [
    "import numpy as np\n",
    "import pandas as pd\n",
    "\n",
    "from sklearn.model_selection import train_test_split\n",
    "\n",
    "import warnings\n",
    "import mlflow\n",
    "import mlflow.sklearn\n",
    "from mlflow.models import infer_signature\n",
    "from urllib.parse import urlparse\n",
    "import logging\n",
    "\n",
    "logging.basicConfig(level=logging.WARN)\n",
    "logger = logging.getLogger(__name__)\n",
    "\n",
    "warnings.filterwarnings(\"ignore\")\n",
    "\n",
    "mlflow.set_experiment(experiment_name='Chess games classification')"
   ]
  },
  {
   "cell_type": "markdown",
   "metadata": {},
   "source": [
    "Definição das métricas de avaliação dos modelos:"
   ]
  },
  {
   "cell_type": "code",
   "execution_count": null,
   "metadata": {},
   "outputs": [],
   "source": [
    "from sklearn.metrics import mean_squared_error, mean_absolute_error, r2_score\n",
    "\n",
    "def eval_metrics(actual, pred):\n",
    "    rmse = np.sqrt(mean_squared_error(actual, pred))\n",
    "    mae = mean_absolute_error(actual, pred)\n",
    "    r2 = r2_score(actual, pred)\n",
    "    return {\"rmse\": rmse, \"mae\": mae, \"r2\": r2}"
   ]
  },
  {
   "cell_type": "markdown",
   "metadata": {},
   "source": [
    "Definição do método de rastreamento do mlflow:"
   ]
  },
  {
   "cell_type": "code",
   "execution_count": null,
   "metadata": {},
   "outputs": [],
   "source": [
    "def mlflow_track(model, model_name: str, params: dict, model_input, model_output, metrics: dict):\n",
    "    signature = infer_signature(model_input, model_output)\n",
    "    mlflow.log_params(params)\n",
    "    mlflow.log_metrics(metrics)\n",
    "    mlflow.sklearn.log_model(sk_model=model, artifact_path=\"sklearn-model\", signature=signature, registered_model_name=model_name)"
   ]
  },
  {
   "cell_type": "markdown",
   "metadata": {},
   "source": [
    "Definição do método de treinamento e rastreamento do mlflow:"
   ]
  },
  {
   "cell_type": "code",
   "execution_count": null,
   "metadata": {},
   "outputs": [],
   "source": [
    "def mlflow_train_and_track(model_class, model_name, data: pd.DataFrame, target: str, **params):\n",
    "    # Split the data into training and validation sets. (0.75, 0.25) split.\n",
    "    train, val = train_test_split(data)\n",
    "    train_x = train.drop([target], axis=1)\n",
    "    val_x = val.drop([target], axis=1)\n",
    "    train_y = train[[target]]\n",
    "    val_y = val[[target]]\n",
    "\n",
    "    with mlflow.start_run(run_name=model_name):\n",
    "        # Create model, train it, and create predictions\n",
    "        model = model_class(**params)\n",
    "        model.fit(train_x, train_y)\n",
    "\n",
    "        pred = model.predict(val_x)\n",
    "\n",
    "        # Evaluate the model\n",
    "        metrics = eval_metrics(val_y, pred)\n",
    "\n",
    "        print(\"%s(%s):\" %(model_name, str(params).strip(\"{}\")))\n",
    "        print(\"  RMSE: %s\" % metrics[\"rmse\"])\n",
    "        print(\"  MAE: %s\" % metrics[\"mae\"])\n",
    "        print(\"  R2: %s\" % metrics[\"r2\"])\n",
    "\n",
    "        # Log parameter, metrics, and model to MLflow\n",
    "        mlflow_track(model, model_name, params, val_x, pred, metrics)\n",
    "\n",
    "        "
   ]
  },
  {
   "cell_type": "markdown",
   "metadata": {},
   "source": [
    "# Treinando os modelos"
   ]
  },
  {
   "cell_type": "markdown",
   "metadata": {},
   "source": [
    "## Importando o dataset"
   ]
  },
  {
   "cell_type": "code",
   "execution_count": null,
   "metadata": {},
   "outputs": [],
   "source": [
    "csv_url = \"https://raw.githubusercontent.com/Vinicius-resende-cin/intro-dados/master/data/chess_games_cleaned.csv\"\n",
    "try:\n",
    "    data = pd.read_csv(csv_url, encoding = \"ISO-8859-1\")\n",
    "except Exception as e:\n",
    "    logger.exception(f\"Unable to download training & test CSV, check your internet connection. Error: {e}\")"
   ]
  },
  {
   "cell_type": "markdown",
   "metadata": {},
   "source": [
    "Convertendo tipos para execução dos modelos"
   ]
  },
  {
   "cell_type": "code",
   "execution_count": null,
   "metadata": {},
   "outputs": [],
   "source": [
    "data['victory_status'] = data['victory_status'].astype('category')\n",
    "data['winner'] = data['winner'].astype('category')\n",
    "data['increment_code'] = data['increment_code'].astype('category')\n",
    "data['white_id'] = data['white_id'].astype('category')\n",
    "data['black_id'] = data['black_id'].astype('category')\n",
    "data['moves'] = data['moves'].astype('category')\n",
    "data['opening_eco'] = data['opening_eco'].astype('category')\n",
    "data['opening_name'] = data['opening_name'].astype('category')\n",
    "\n",
    "data['victory_status'] = data['victory_status'].cat.codes\n",
    "data['winner'] = data['winner'].cat.codes\n",
    "data['increment_code'] = data['increment_code'].cat.codes\n",
    "data['white_id'] = data['white_id'].cat.codes\n",
    "data['black_id'] = data['black_id'].cat.codes\n",
    "data['moves'] = data['moves'].cat.codes\n",
    "data['opening_eco'] = data['opening_eco'].cat.codes\n",
    "data['opening_name'] = data['opening_name'].cat.codes"
   ]
  },
  {
   "cell_type": "markdown",
   "metadata": {},
   "source": [
    "## Separando dados de treinamento e de teste"
   ]
  },
  {
   "cell_type": "code",
   "execution_count": null,
   "metadata": {},
   "outputs": [],
   "source": [
    "# Split the data into training and test sets. (0.8, 0.2) split.\n",
    "train_data, test_data = train_test_split(data, test_size=0.2)"
   ]
  },
  {
   "cell_type": "markdown",
   "metadata": {},
   "source": [
    "## Executando o treinamento"
   ]
  },
  {
   "cell_type": "markdown",
   "metadata": {},
   "source": [
    "Para visualizar o rastreamento numa interface, execute o comando abaixo no diretório deste notebook (`/notebooks`):\n",
    "\n",
    "```bash\n",
    "mlflow ui --port 5000\n",
    "```\n",
    "\n",
    "A interface será acessível no endereço `http://localhost:5000` em um navegador."
   ]
  },
  {
   "cell_type": "markdown",
   "metadata": {},
   "source": [
    "### Random Forest"
   ]
  },
  {
   "cell_type": "code",
   "execution_count": null,
   "metadata": {},
   "outputs": [],
   "source": [
    "from sklearn.ensemble import RandomForestClassifier\n",
    "mlflow_train_and_track(RandomForestClassifier, 'RandomForestClassifier', train_data, 'winner', n_estimators=100, max_depth=10, random_state=0)"
   ]
  }
 ],
 "metadata": {
  "kernelspec": {
   "display_name": "Python 3",
   "language": "python",
   "name": "python3"
  },
  "language_info": {
   "codemirror_mode": {
    "name": "ipython",
    "version": 3
   },
   "file_extension": ".py",
   "mimetype": "text/x-python",
   "name": "python",
   "nbconvert_exporter": "python",
   "pygments_lexer": "ipython3",
   "version": "3.10.2"
  }
 },
 "nbformat": 4,
 "nbformat_minor": 2
}
