{
 "cells": [
  {
   "cell_type": "markdown",
   "metadata": {},
   "source": [
    "# Classificação de partidas de xadrez"
   ]
  },
  {
   "cell_type": "markdown",
   "metadata": {},
   "source": [
    "Serão criados modelos de classificação para prever o vencedor de partidas de xadrez, baseado em dados pré-processados no projeto anterior.\n",
    "\n",
    "Será utilizado o MLFlow para rastreamento de experimentos e comparação de modelos."
   ]
  },
  {
   "cell_type": "markdown",
   "metadata": {},
   "source": [
    "# Configuração do MLFLow"
   ]
  },
  {
   "cell_type": "code",
   "execution_count": 1,
   "metadata": {},
   "outputs": [
    {
     "name": "stdout",
     "output_type": "stream",
     "text": [
      "Requirement already satisfied: mlflow in d:\\program files\\python310\\lib\\site-packages (2.14.2)\n",
      "Requirement already satisfied: Flask<4 in d:\\program files\\python310\\lib\\site-packages (from mlflow) (3.0.3)\n",
      "Requirement already satisfied: alembic!=1.10.0,<2 in d:\\program files\\python310\\lib\\site-packages (from mlflow) (1.13.2)\n",
      "Requirement already satisfied: cachetools<6,>=5.0.0 in d:\\program files\\python310\\lib\\site-packages (from mlflow) (5.3.1)\n",
      "Requirement already satisfied: click<9,>=7.0 in d:\\program files\\python310\\lib\\site-packages (from mlflow) (8.1.7)\n",
      "Requirement already satisfied: cloudpickle<4 in d:\\program files\\python310\\lib\\site-packages (from mlflow) (3.0.0)\n",
      "Requirement already satisfied: docker<8,>=4.0.0 in d:\\program files\\python310\\lib\\site-packages (from mlflow) (7.1.0)\n",
      "Requirement already satisfied: entrypoints<1 in d:\\program files\\python310\\lib\\site-packages (from mlflow) (0.4)\n",
      "Requirement already satisfied: gitpython<4,>=3.1.9 in d:\\program files\\python310\\lib\\site-packages (from mlflow) (3.1.43)\n",
      "Requirement already satisfied: graphene<4 in d:\\program files\\python310\\lib\\site-packages (from mlflow) (3.3)\n",
      "Requirement already satisfied: importlib-metadata!=4.7.0,<8,>=3.7.0 in d:\\program files\\python310\\lib\\site-packages (from mlflow) (6.8.0)\n",
      "Requirement already satisfied: markdown<4,>=3.3 in d:\\program files\\python310\\lib\\site-packages (from mlflow) (3.4.4)\n",
      "Requirement already satisfied: matplotlib<4 in d:\\program files\\python310\\lib\\site-packages (from mlflow) (3.8.4)\n",
      "Requirement already satisfied: numpy<2 in d:\\program files\\python310\\lib\\site-packages (from mlflow) (1.25.2)\n",
      "Requirement already satisfied: opentelemetry-api<3,>=1.9.0 in d:\\program files\\python310\\lib\\site-packages (from mlflow) (1.25.0)\n",
      "Requirement already satisfied: opentelemetry-sdk<3,>=1.9.0 in d:\\program files\\python310\\lib\\site-packages (from mlflow) (1.25.0)\n",
      "Requirement already satisfied: packaging<25 in d:\\program files\\python310\\lib\\site-packages (from mlflow) (23.1)\n",
      "Requirement already satisfied: pandas<3 in d:\\program files\\python310\\lib\\site-packages (from mlflow) (2.0.3)\n",
      "Requirement already satisfied: protobuf<5,>=3.12.0 in d:\\program files\\python310\\lib\\site-packages (from mlflow) (3.19.6)\n",
      "Requirement already satisfied: pyarrow<16,>=4.0.0 in d:\\program files\\python310\\lib\\site-packages (from mlflow) (15.0.2)\n",
      "Requirement already satisfied: pytz<2025 in d:\\program files\\python310\\lib\\site-packages (from mlflow) (2023.3)\n",
      "Requirement already satisfied: pyyaml<7,>=5.1 in d:\\program files\\python310\\lib\\site-packages (from mlflow) (6.0.1)\n",
      "Requirement already satisfied: querystring-parser<2 in d:\\program files\\python310\\lib\\site-packages (from mlflow) (1.2.4)\n",
      "Requirement already satisfied: requests<3,>=2.17.3 in d:\\program files\\python310\\lib\\site-packages (from mlflow) (2.32.0)\n",
      "Requirement already satisfied: scikit-learn<2 in d:\\program files\\python310\\lib\\site-packages (from mlflow) (1.5.0)\n",
      "Requirement already satisfied: scipy<2 in d:\\program files\\python310\\lib\\site-packages (from mlflow) (1.11.2)\n",
      "Requirement already satisfied: sqlalchemy<3,>=1.4.0 in d:\\program files\\python310\\lib\\site-packages (from mlflow) (2.0.31)\n",
      "Requirement already satisfied: sqlparse<1,>=0.4.0 in d:\\program files\\python310\\lib\\site-packages (from mlflow) (0.5.0)\n",
      "Requirement already satisfied: Jinja2<4,>=3.0 in d:\\program files\\python310\\lib\\site-packages (from mlflow) (3.1.4)\n",
      "Requirement already satisfied: waitress<4 in d:\\program files\\python310\\lib\\site-packages (from mlflow) (3.0.0)\n",
      "Requirement already satisfied: Mako in d:\\program files\\python310\\lib\\site-packages (from alembic!=1.10.0,<2->mlflow) (1.3.5)\n",
      "Requirement already satisfied: typing-extensions>=4 in d:\\program files\\python310\\lib\\site-packages (from alembic!=1.10.0,<2->mlflow) (4.7.1)\n",
      "Requirement already satisfied: colorama in d:\\program files\\python310\\lib\\site-packages (from click<9,>=7.0->mlflow) (0.4.5)\n",
      "Requirement already satisfied: pywin32>=304 in c:\\users\\vinicius\\appdata\\roaming\\python\\python310\\site-packages (from docker<8,>=4.0.0->mlflow) (306)\n",
      "Requirement already satisfied: urllib3>=1.26.0 in d:\\program files\\python310\\lib\\site-packages (from docker<8,>=4.0.0->mlflow) (1.26.18)\n",
      "Requirement already satisfied: Werkzeug>=3.0.0 in d:\\program files\\python310\\lib\\site-packages (from Flask<4->mlflow) (3.0.3)\n",
      "Requirement already satisfied: itsdangerous>=2.1.2 in d:\\program files\\python310\\lib\\site-packages (from Flask<4->mlflow) (2.2.0)\n",
      "Requirement already satisfied: blinker>=1.6.2 in d:\\program files\\python310\\lib\\site-packages (from Flask<4->mlflow) (1.8.2)\n",
      "Requirement already satisfied: gitdb<5,>=4.0.1 in d:\\program files\\python310\\lib\\site-packages (from gitpython<4,>=3.1.9->mlflow) (4.0.11)\n",
      "Requirement already satisfied: graphql-core<3.3,>=3.1 in d:\\program files\\python310\\lib\\site-packages (from graphene<4->mlflow) (3.2.3)\n",
      "Requirement already satisfied: graphql-relay<3.3,>=3.1 in d:\\program files\\python310\\lib\\site-packages (from graphene<4->mlflow) (3.2.0)\n",
      "Requirement already satisfied: aniso8601<10,>=8 in d:\\program files\\python310\\lib\\site-packages (from graphene<4->mlflow) (9.0.1)\n",
      "Requirement already satisfied: zipp>=0.5 in d:\\program files\\python310\\lib\\site-packages (from importlib-metadata!=4.7.0,<8,>=3.7.0->mlflow) (3.16.2)\n",
      "Requirement already satisfied: MarkupSafe>=2.0 in d:\\program files\\python310\\lib\\site-packages (from Jinja2<4,>=3.0->mlflow) (2.1.3)\n",
      "Requirement already satisfied: contourpy>=1.0.1 in d:\\program files\\python310\\lib\\site-packages (from matplotlib<4->mlflow) (1.2.1)\n",
      "Requirement already satisfied: cycler>=0.10 in d:\\program files\\python310\\lib\\site-packages (from matplotlib<4->mlflow) (0.12.1)\n",
      "Requirement already satisfied: fonttools>=4.22.0 in d:\\program files\\python310\\lib\\site-packages (from matplotlib<4->mlflow) (4.51.0)\n",
      "Requirement already satisfied: kiwisolver>=1.3.1 in d:\\program files\\python310\\lib\\site-packages (from matplotlib<4->mlflow) (1.4.5)\n",
      "Requirement already satisfied: pillow>=8 in d:\\program files\\python310\\lib\\site-packages (from matplotlib<4->mlflow) (9.3.0)\n",
      "Requirement already satisfied: pyparsing>=2.3.1 in d:\\program files\\python310\\lib\\site-packages (from matplotlib<4->mlflow) (3.1.2)\n",
      "Requirement already satisfied: python-dateutil>=2.7 in d:\\program files\\python310\\lib\\site-packages (from matplotlib<4->mlflow) (2.8.2)\n",
      "Requirement already satisfied: deprecated>=1.2.6 in d:\\program files\\python310\\lib\\site-packages (from opentelemetry-api<3,>=1.9.0->mlflow) (1.2.14)\n",
      "Requirement already satisfied: opentelemetry-semantic-conventions==0.46b0 in d:\\program files\\python310\\lib\\site-packages (from opentelemetry-sdk<3,>=1.9.0->mlflow) (0.46b0)\n",
      "Requirement already satisfied: tzdata>=2022.1 in d:\\program files\\python310\\lib\\site-packages (from pandas<3->mlflow) (2024.1)\n",
      "Requirement already satisfied: six in d:\\program files\\python310\\lib\\site-packages (from querystring-parser<2->mlflow) (1.16.0)\n",
      "Requirement already satisfied: charset-normalizer<4,>=2 in d:\\program files\\python310\\lib\\site-packages (from requests<3,>=2.17.3->mlflow) (3.2.0)\n",
      "Requirement already satisfied: idna<4,>=2.5 in d:\\program files\\python310\\lib\\site-packages (from requests<3,>=2.17.3->mlflow) (3.7)\n",
      "Requirement already satisfied: certifi>=2017.4.17 in d:\\program files\\python310\\lib\\site-packages (from requests<3,>=2.17.3->mlflow) (2023.7.22)\n",
      "Requirement already satisfied: joblib>=1.2.0 in d:\\program files\\python310\\lib\\site-packages (from scikit-learn<2->mlflow) (1.4.2)\n",
      "Requirement already satisfied: threadpoolctl>=3.1.0 in d:\\program files\\python310\\lib\\site-packages (from scikit-learn<2->mlflow) (3.5.0)\n",
      "Requirement already satisfied: greenlet!=0.4.17 in d:\\program files\\python310\\lib\\site-packages (from sqlalchemy<3,>=1.4.0->mlflow) (3.0.3)\n",
      "Requirement already satisfied: wrapt<2,>=1.10 in d:\\program files\\python310\\lib\\site-packages (from deprecated>=1.2.6->opentelemetry-api<3,>=1.9.0->mlflow) (1.15.0)\n",
      "Requirement already satisfied: smmap<6,>=3.0.1 in d:\\program files\\python310\\lib\\site-packages (from gitdb<5,>=4.0.1->gitpython<4,>=3.1.9->mlflow) (5.0.1)\n",
      "Note: you may need to restart the kernel to use updated packages.\n"
     ]
    }
   ],
   "source": [
    "%pip install mlflow"
   ]
  },
  {
   "cell_type": "code",
   "execution_count": 2,
   "metadata": {},
   "outputs": [
    {
     "data": {
      "text/plain": [
       "<Experiment: artifact_location='file:///d:/Arquivos/Documentos/Faculdade/7p/Intro%20dados/intro-dados/notebooks/mlruns/307563494190722733', creation_time=1720337033259, experiment_id='307563494190722733', last_update_time=1720337033259, lifecycle_stage='active', name='Chess games classification', tags={}>"
      ]
     },
     "execution_count": 2,
     "metadata": {},
     "output_type": "execute_result"
    }
   ],
   "source": [
    "import numpy as np\n",
    "import pandas as pd\n",
    "\n",
    "from sklearn.model_selection import train_test_split, cross_val_score\n",
    "\n",
    "import warnings\n",
    "import mlflow\n",
    "import mlflow.sklearn\n",
    "import logging\n",
    "\n",
    "logging.basicConfig(level=logging.WARN)\n",
    "logger = logging.getLogger(__name__)\n",
    "\n",
    "warnings.filterwarnings(\"ignore\")\n",
    "\n",
    "mlflow.set_experiment(experiment_name='Chess games classification')"
   ]
  },
  {
   "cell_type": "markdown",
   "metadata": {},
   "source": [
    "Definição do método de rastreamento do mlflow:"
   ]
  },
  {
   "cell_type": "code",
   "execution_count": 3,
   "metadata": {},
   "outputs": [],
   "source": [
    "def mlflow_track(model, model_name: str, params: dict, metrics: dict):\n",
    "    mlflow.log_params(params)\n",
    "    mlflow.log_metrics(metrics)\n",
    "    mlflow.sklearn.log_model(sk_model=model, artifact_path=\"sklearn-model\", registered_model_name=model_name)"
   ]
  },
  {
   "cell_type": "markdown",
   "metadata": {},
   "source": [
    "Definição do método de treinamento e rastreamento do mlflow:"
   ]
  },
  {
   "cell_type": "code",
   "execution_count": 4,
   "metadata": {},
   "outputs": [],
   "source": [
    "def mlflow_train_and_track(model_class, model_name, train_data: pd.DataFrame, target: str, **params):\n",
    "    # Split the data labels and features\n",
    "    train_x = train_data.drop([target], axis=1)\n",
    "    train_y = train_data[[target]]\n",
    "\n",
    "    # Train the model and track\n",
    "    with mlflow.start_run(run_name=model_name):\n",
    "        # Create model, train it, and create predictions\n",
    "        model = model_class(**params)\n",
    "        model.fit(train_x, train_y)\n",
    "\n",
    "        # Evaluate the model\n",
    "        scores = cross_val_score(model, train_x, train_y)\n",
    "\n",
    "        print(\"Trained %s(%s).\" %(model_name, str(params).strip(\"{}\")))\n",
    "        print(\"Results: %0.4f mean accuracy with a std of %0.4f\" % (scores.mean(), scores.std()))\n",
    "\n",
    "        # Log parameter, metrics, and model to MLflow\n",
    "        mlflow_track(model, model_name, params, {\"mean_accuracy\": scores.mean(), \"std_accuracy\": scores.std()})\n",
    "\n",
    "        "
   ]
  },
  {
   "cell_type": "markdown",
   "metadata": {},
   "source": [
    "# Treinando os modelos"
   ]
  },
  {
   "cell_type": "markdown",
   "metadata": {},
   "source": [
    "## Importando o dataset"
   ]
  },
  {
   "cell_type": "code",
   "execution_count": 5,
   "metadata": {},
   "outputs": [],
   "source": [
    "csv_url = \"https://raw.githubusercontent.com/Vinicius-resende-cin/intro-dados/master/data/chess_games_cleaned.csv\"\n",
    "try:\n",
    "    data = pd.read_csv(csv_url, encoding = \"ISO-8859-1\")\n",
    "except Exception as e:\n",
    "    logger.exception(f\"Unable to download training & test CSV, check your internet connection. Error: {e}\")"
   ]
  },
  {
   "cell_type": "markdown",
   "metadata": {},
   "source": [
    "Convertendo tipos para execução dos modelos"
   ]
  },
  {
   "cell_type": "code",
   "execution_count": 6,
   "metadata": {},
   "outputs": [],
   "source": [
    "data['victory_status'] = data['victory_status'].astype('category')\n",
    "data['winner'] = data['winner'].astype('category')\n",
    "data['increment_code'] = data['increment_code'].astype('category')\n",
    "data['white_id'] = data['white_id'].astype('category')\n",
    "data['black_id'] = data['black_id'].astype('category')\n",
    "data['moves'] = data['moves'].astype('category')\n",
    "data['opening_eco'] = data['opening_eco'].astype('category')\n",
    "data['opening_name'] = data['opening_name'].astype('category')\n",
    "\n",
    "data['victory_status'] = data['victory_status'].cat.codes\n",
    "data['winner'] = data['winner'].cat.codes\n",
    "data['increment_code'] = data['increment_code'].cat.codes\n",
    "data['white_id'] = data['white_id'].cat.codes\n",
    "data['black_id'] = data['black_id'].cat.codes\n",
    "data['moves'] = data['moves'].cat.codes\n",
    "data['opening_eco'] = data['opening_eco'].cat.codes\n",
    "data['opening_name'] = data['opening_name'].cat.codes"
   ]
  },
  {
   "cell_type": "markdown",
   "metadata": {},
   "source": [
    "## Separando dados de treinamento e de teste"
   ]
  },
  {
   "cell_type": "code",
   "execution_count": 7,
   "metadata": {},
   "outputs": [],
   "source": [
    "# Split the data into training and test sets. (0.75, 0.22) split.\n",
    "train_data, test_data = train_test_split(data)"
   ]
  },
  {
   "cell_type": "markdown",
   "metadata": {},
   "source": [
    "## Executando o treinamento"
   ]
  },
  {
   "cell_type": "markdown",
   "metadata": {},
   "source": [
    "Para visualizar o rastreamento numa interface, execute o comando abaixo no diretório deste notebook (`/notebooks`):\n",
    "\n",
    "```bash\n",
    "mlflow ui --port 5000\n",
    "```\n",
    "\n",
    "A interface será acessível no endereço `http://localhost:5000` em um navegador."
   ]
  },
  {
   "cell_type": "markdown",
   "metadata": {},
   "source": [
    "### Random Forest"
   ]
  },
  {
   "cell_type": "code",
   "execution_count": 8,
   "metadata": {},
   "outputs": [
    {
     "name": "stdout",
     "output_type": "stream",
     "text": [
      "Trained RandomForest('n_estimators': 100, 'max_depth': 10, 'random_state': 0).\n",
      "Results: 0.6707 mean accuracy with a std of 0.0051\n"
     ]
    },
    {
     "name": "stderr",
     "output_type": "stream",
     "text": [
      "Registered model 'RandomForest' already exists. Creating a new version of this model...\n",
      "Created version '2' of model 'RandomForest'.\n"
     ]
    }
   ],
   "source": [
    "from sklearn.ensemble import RandomForestClassifier\n",
    "mlflow_train_and_track(RandomForestClassifier, 'RandomForest', train_data, 'winner', n_estimators=100, max_depth=10, random_state=0)"
   ]
  },
  {
   "cell_type": "markdown",
   "metadata": {},
   "source": [
    "### KNN"
   ]
  },
  {
   "cell_type": "code",
   "execution_count": 9,
   "metadata": {},
   "outputs": [
    {
     "name": "stdout",
     "output_type": "stream",
     "text": [
      "Trained KNN('n_neighbors': 3).\n",
      "Results: 0.4898 mean accuracy with a std of 0.0103\n"
     ]
    },
    {
     "name": "stderr",
     "output_type": "stream",
     "text": [
      "Registered model 'KNN' already exists. Creating a new version of this model...\n",
      "Created version '2' of model 'KNN'.\n"
     ]
    }
   ],
   "source": [
    "from sklearn.neighbors import KNeighborsClassifier\n",
    "mlflow_train_and_track(KNeighborsClassifier, 'KNN', train_data, 'winner', n_neighbors=3)"
   ]
  },
  {
   "cell_type": "markdown",
   "metadata": {},
   "source": [
    "### SVC"
   ]
  },
  {
   "cell_type": "code",
   "execution_count": 10,
   "metadata": {},
   "outputs": [
    {
     "name": "stdout",
     "output_type": "stream",
     "text": [
      "Trained SVC('C': 1.0, 'random_state': 0).\n",
      "Results: 0.6699 mean accuracy with a std of 0.0062\n"
     ]
    },
    {
     "name": "stderr",
     "output_type": "stream",
     "text": [
      "Registered model 'SVC' already exists. Creating a new version of this model...\n",
      "Created version '2' of model 'SVC'.\n"
     ]
    }
   ],
   "source": [
    "from sklearn.svm import LinearSVC\n",
    "mlflow_train_and_track(LinearSVC, 'SVC', train_data, 'winner', C=1.0, random_state=0)"
   ]
  },
  {
   "cell_type": "markdown",
   "metadata": {},
   "source": [
    "### MLP"
   ]
  },
  {
   "cell_type": "code",
   "execution_count": 11,
   "metadata": {},
   "outputs": [
    {
     "name": "stdout",
     "output_type": "stream",
     "text": [
      "Trained MLP('alpha': 1, 'max_iter': 200, 'random_state': 0).\n",
      "Results: 0.5352 mean accuracy with a std of 0.0154\n"
     ]
    },
    {
     "name": "stderr",
     "output_type": "stream",
     "text": [
      "Registered model 'MLP' already exists. Creating a new version of this model...\n",
      "Created version '2' of model 'MLP'.\n"
     ]
    }
   ],
   "source": [
    "from sklearn.neural_network import MLPClassifier\n",
    "mlflow_train_and_track(MLPClassifier, 'MLP', train_data, 'winner', alpha=1, max_iter=200, random_state=0)"
   ]
  }
 ],
 "metadata": {
  "kernelspec": {
   "display_name": "Python 3",
   "language": "python",
   "name": "python3"
  },
  "language_info": {
   "codemirror_mode": {
    "name": "ipython",
    "version": 3
   },
   "file_extension": ".py",
   "mimetype": "text/x-python",
   "name": "python",
   "nbconvert_exporter": "python",
   "pygments_lexer": "ipython3",
   "version": "3.10.2"
  }
 },
 "nbformat": 4,
 "nbformat_minor": 2
}
