{
 "cells": [
  {
   "cell_type": "markdown",
   "metadata": {},
   "source": [
    "# Classificação de partidas de xadrez"
   ]
  },
  {
   "cell_type": "markdown",
   "metadata": {},
   "source": [
    "Serão criados modelos de classificação para prever o vencedor de partidas de xadrez, baseado em dados pré-processados no projeto anterior.\n",
    "\n",
    "Será utilizado o MLFlow para rastreamento de experimentos e comparação de modelos."
   ]
  },
  {
   "cell_type": "markdown",
   "metadata": {},
   "source": [
    "# Configuração do MLFLow"
   ]
  },
  {
   "cell_type": "code",
   "execution_count": 1,
   "metadata": {},
   "outputs": [
    {
     "name": "stdout",
     "output_type": "stream",
     "text": [
      "Requirement already satisfied: mlflow in d:\\program files\\python310\\lib\\site-packages (2.14.2)\n",
      "Requirement already satisfied: Flask<4 in d:\\program files\\python310\\lib\\site-packages (from mlflow) (3.0.3)\n",
      "Requirement already satisfied: alembic!=1.10.0,<2 in d:\\program files\\python310\\lib\\site-packages (from mlflow) (1.13.2)\n",
      "Requirement already satisfied: cachetools<6,>=5.0.0 in d:\\program files\\python310\\lib\\site-packages (from mlflow) (5.3.1)\n",
      "Requirement already satisfied: click<9,>=7.0 in d:\\program files\\python310\\lib\\site-packages (from mlflow) (8.1.7)\n",
      "Requirement already satisfied: cloudpickle<4 in d:\\program files\\python310\\lib\\site-packages (from mlflow) (3.0.0)\n",
      "Requirement already satisfied: docker<8,>=4.0.0 in d:\\program files\\python310\\lib\\site-packages (from mlflow) (7.1.0)\n",
      "Requirement already satisfied: entrypoints<1 in d:\\program files\\python310\\lib\\site-packages (from mlflow) (0.4)\n",
      "Requirement already satisfied: gitpython<4,>=3.1.9 in d:\\program files\\python310\\lib\\site-packages (from mlflow) (3.1.43)\n",
      "Requirement already satisfied: graphene<4 in d:\\program files\\python310\\lib\\site-packages (from mlflow) (3.3)\n",
      "Requirement already satisfied: importlib-metadata!=4.7.0,<8,>=3.7.0 in d:\\program files\\python310\\lib\\site-packages (from mlflow) (6.8.0)\n",
      "Requirement already satisfied: markdown<4,>=3.3 in d:\\program files\\python310\\lib\\site-packages (from mlflow) (3.4.4)\n",
      "Requirement already satisfied: matplotlib<4 in d:\\program files\\python310\\lib\\site-packages (from mlflow) (3.8.4)\n",
      "Requirement already satisfied: numpy<2 in d:\\program files\\python310\\lib\\site-packages (from mlflow) (1.25.2)\n",
      "Requirement already satisfied: opentelemetry-api<3,>=1.9.0 in d:\\program files\\python310\\lib\\site-packages (from mlflow) (1.25.0)\n",
      "Requirement already satisfied: opentelemetry-sdk<3,>=1.9.0 in d:\\program files\\python310\\lib\\site-packages (from mlflow) (1.25.0)\n",
      "Requirement already satisfied: packaging<25 in d:\\program files\\python310\\lib\\site-packages (from mlflow) (23.1)\n",
      "Requirement already satisfied: pandas<3 in d:\\program files\\python310\\lib\\site-packages (from mlflow) (2.0.3)\n",
      "Requirement already satisfied: protobuf<5,>=3.12.0 in d:\\program files\\python310\\lib\\site-packages (from mlflow) (3.19.6)\n",
      "Requirement already satisfied: pyarrow<16,>=4.0.0 in d:\\program files\\python310\\lib\\site-packages (from mlflow) (15.0.2)\n",
      "Requirement already satisfied: pytz<2025 in d:\\program files\\python310\\lib\\site-packages (from mlflow) (2023.3)\n",
      "Requirement already satisfied: pyyaml<7,>=5.1 in d:\\program files\\python310\\lib\\site-packages (from mlflow) (6.0.1)\n",
      "Requirement already satisfied: querystring-parser<2 in d:\\program files\\python310\\lib\\site-packages (from mlflow) (1.2.4)\n",
      "Requirement already satisfied: requests<3,>=2.17.3 in d:\\program files\\python310\\lib\\site-packages (from mlflow) (2.32.0)\n",
      "Requirement already satisfied: scikit-learn<2 in d:\\program files\\python310\\lib\\site-packages (from mlflow) (1.5.0)\n",
      "Requirement already satisfied: scipy<2 in d:\\program files\\python310\\lib\\site-packages (from mlflow) (1.11.2)\n",
      "Requirement already satisfied: sqlalchemy<3,>=1.4.0 in d:\\program files\\python310\\lib\\site-packages (from mlflow) (2.0.31)\n",
      "Requirement already satisfied: sqlparse<1,>=0.4.0 in d:\\program files\\python310\\lib\\site-packages (from mlflow) (0.5.0)\n",
      "Requirement already satisfied: Jinja2<4,>=3.0 in d:\\program files\\python310\\lib\\site-packages (from mlflow) (3.1.4)\n",
      "Requirement already satisfied: waitress<4 in d:\\program files\\python310\\lib\\site-packages (from mlflow) (3.0.0)\n",
      "Requirement already satisfied: Mako in d:\\program files\\python310\\lib\\site-packages (from alembic!=1.10.0,<2->mlflow) (1.3.5)\n",
      "Requirement already satisfied: typing-extensions>=4 in d:\\program files\\python310\\lib\\site-packages (from alembic!=1.10.0,<2->mlflow) (4.7.1)\n",
      "Requirement already satisfied: colorama in d:\\program files\\python310\\lib\\site-packages (from click<9,>=7.0->mlflow) (0.4.5)\n",
      "Requirement already satisfied: pywin32>=304 in c:\\users\\vinicius\\appdata\\roaming\\python\\python310\\site-packages (from docker<8,>=4.0.0->mlflow) (306)\n",
      "Requirement already satisfied: urllib3>=1.26.0 in d:\\program files\\python310\\lib\\site-packages (from docker<8,>=4.0.0->mlflow) (1.26.18)\n",
      "Requirement already satisfied: Werkzeug>=3.0.0 in d:\\program files\\python310\\lib\\site-packages (from Flask<4->mlflow) (3.0.3)\n",
      "Requirement already satisfied: itsdangerous>=2.1.2 in d:\\program files\\python310\\lib\\site-packages (from Flask<4->mlflow) (2.2.0)\n",
      "Requirement already satisfied: blinker>=1.6.2 in d:\\program files\\python310\\lib\\site-packages (from Flask<4->mlflow) (1.8.2)\n",
      "Requirement already satisfied: gitdb<5,>=4.0.1 in d:\\program files\\python310\\lib\\site-packages (from gitpython<4,>=3.1.9->mlflow) (4.0.11)\n",
      "Requirement already satisfied: graphql-core<3.3,>=3.1 in d:\\program files\\python310\\lib\\site-packages (from graphene<4->mlflow) (3.2.3)\n",
      "Requirement already satisfied: graphql-relay<3.3,>=3.1 in d:\\program files\\python310\\lib\\site-packages (from graphene<4->mlflow) (3.2.0)\n",
      "Requirement already satisfied: aniso8601<10,>=8 in d:\\program files\\python310\\lib\\site-packages (from graphene<4->mlflow) (9.0.1)\n",
      "Requirement already satisfied: zipp>=0.5 in d:\\program files\\python310\\lib\\site-packages (from importlib-metadata!=4.7.0,<8,>=3.7.0->mlflow) (3.16.2)\n",
      "Requirement already satisfied: MarkupSafe>=2.0 in d:\\program files\\python310\\lib\\site-packages (from Jinja2<4,>=3.0->mlflow) (2.1.3)\n",
      "Requirement already satisfied: contourpy>=1.0.1 in d:\\program files\\python310\\lib\\site-packages (from matplotlib<4->mlflow) (1.2.1)\n",
      "Requirement already satisfied: cycler>=0.10 in d:\\program files\\python310\\lib\\site-packages (from matplotlib<4->mlflow) (0.12.1)\n",
      "Requirement already satisfied: fonttools>=4.22.0 in d:\\program files\\python310\\lib\\site-packages (from matplotlib<4->mlflow) (4.51.0)\n",
      "Requirement already satisfied: kiwisolver>=1.3.1 in d:\\program files\\python310\\lib\\site-packages (from matplotlib<4->mlflow) (1.4.5)\n",
      "Requirement already satisfied: pillow>=8 in d:\\program files\\python310\\lib\\site-packages (from matplotlib<4->mlflow) (9.3.0)\n",
      "Requirement already satisfied: pyparsing>=2.3.1 in d:\\program files\\python310\\lib\\site-packages (from matplotlib<4->mlflow) (3.1.2)\n",
      "Requirement already satisfied: python-dateutil>=2.7 in d:\\program files\\python310\\lib\\site-packages (from matplotlib<4->mlflow) (2.8.2)\n",
      "Requirement already satisfied: deprecated>=1.2.6 in d:\\program files\\python310\\lib\\site-packages (from opentelemetry-api<3,>=1.9.0->mlflow) (1.2.14)\n",
      "Requirement already satisfied: opentelemetry-semantic-conventions==0.46b0 in d:\\program files\\python310\\lib\\site-packages (from opentelemetry-sdk<3,>=1.9.0->mlflow) (0.46b0)\n",
      "Requirement already satisfied: tzdata>=2022.1 in d:\\program files\\python310\\lib\\site-packages (from pandas<3->mlflow) (2024.1)\n",
      "Requirement already satisfied: six in d:\\program files\\python310\\lib\\site-packages (from querystring-parser<2->mlflow) (1.16.0)\n",
      "Requirement already satisfied: charset-normalizer<4,>=2 in d:\\program files\\python310\\lib\\site-packages (from requests<3,>=2.17.3->mlflow) (3.2.0)\n",
      "Requirement already satisfied: idna<4,>=2.5 in d:\\program files\\python310\\lib\\site-packages (from requests<3,>=2.17.3->mlflow) (3.7)\n",
      "Requirement already satisfied: certifi>=2017.4.17 in d:\\program files\\python310\\lib\\site-packages (from requests<3,>=2.17.3->mlflow) (2023.7.22)\n",
      "Requirement already satisfied: joblib>=1.2.0 in d:\\program files\\python310\\lib\\site-packages (from scikit-learn<2->mlflow) (1.4.2)\n",
      "Requirement already satisfied: threadpoolctl>=3.1.0 in d:\\program files\\python310\\lib\\site-packages (from scikit-learn<2->mlflow) (3.5.0)\n",
      "Requirement already satisfied: greenlet!=0.4.17 in d:\\program files\\python310\\lib\\site-packages (from sqlalchemy<3,>=1.4.0->mlflow) (3.0.3)\n",
      "Requirement already satisfied: wrapt<2,>=1.10 in d:\\program files\\python310\\lib\\site-packages (from deprecated>=1.2.6->opentelemetry-api<3,>=1.9.0->mlflow) (1.15.0)\n",
      "Requirement already satisfied: smmap<6,>=3.0.1 in d:\\program files\\python310\\lib\\site-packages (from gitdb<5,>=4.0.1->gitpython<4,>=3.1.9->mlflow) (5.0.1)\n",
      "Note: you may need to restart the kernel to use updated packages.\n"
     ]
    }
   ],
   "source": [
    "%pip install mlflow"
   ]
  },
  {
   "cell_type": "code",
   "execution_count": 2,
   "metadata": {},
   "outputs": [
    {
     "name": "stderr",
     "output_type": "stream",
     "text": [
      "2024/07/08 23:28:47 INFO mlflow.tracking.fluent: Experiment with name 'Chess games classification' does not exist. Creating a new experiment.\n"
     ]
    },
    {
     "data": {
      "text/plain": [
       "<Experiment: artifact_location='file:///d:/Arquivos/Documentos/Faculdade/7p/Intro%20dados/intro-dados/notebooks/mlruns/289299321287379343', creation_time=1720492127273, experiment_id='289299321287379343', last_update_time=1720492127273, lifecycle_stage='active', name='Chess games classification', tags={}>"
      ]
     },
     "execution_count": 2,
     "metadata": {},
     "output_type": "execute_result"
    }
   ],
   "source": [
    "import numpy as np\n",
    "import pandas as pd\n",
    "import matplotlib.pyplot as plt\n",
    "\n",
    "from sklearn.model_selection import train_test_split, GridSearchCV\n",
    "\n",
    "import warnings\n",
    "import mlflow\n",
    "import mlflow.sklearn\n",
    "import logging\n",
    "\n",
    "logging.basicConfig(level=logging.WARN)\n",
    "logger = logging.getLogger(__name__)\n",
    "\n",
    "warnings.filterwarnings(\"ignore\")\n",
    "\n",
    "mlflow.set_experiment(experiment_name='Chess games classification')"
   ]
  },
  {
   "cell_type": "markdown",
   "metadata": {},
   "source": [
    "Definição do método de rastreamento do mlflow:"
   ]
  },
  {
   "cell_type": "code",
   "execution_count": 3,
   "metadata": {},
   "outputs": [],
   "source": [
    "def mlflow_track(model, model_name: str, params: dict, metrics: dict):\n",
    "    mlflow.log_params(params)\n",
    "    mlflow.log_metrics(metrics)\n",
    "    mlflow.sklearn.log_model(sk_model=model, artifact_path=\"sklearn-model\", registered_model_name=model_name)"
   ]
  },
  {
   "cell_type": "markdown",
   "metadata": {},
   "source": [
    "Definição do método para plotar resultados do treinamento de um modelo"
   ]
  },
  {
   "cell_type": "code",
   "execution_count": 4,
   "metadata": {},
   "outputs": [],
   "source": [
    "def plot_grid_search(results: dict[str, np.ndarray], param: str):\n",
    "    plt.figure(figsize=(10, 10))\n",
    "    plt.title(\"GridSearchCV evaluating\", fontsize=16)\n",
    "\n",
    "    plt.xlabel(param)\n",
    "    plt.ylabel(\"Accuracy Score\")\n",
    "\n",
    "    # Get the regular numpy array from the MaskedArray\n",
    "    X_axis = np.array(results[\"param_%s\" % param].data, dtype=float)\n",
    "\n",
    "    ax = plt.gca()\n",
    "\n",
    "    for sample, style in ((\"train\", \"--\"), (\"test\", \"-\")):\n",
    "        sample_score_mean = results[\"mean_%s_score\" % sample]\n",
    "        sample_score_std = results[\"std_%s_score\" % sample]\n",
    "\n",
    "        ax.fill_between(\n",
    "            X_axis,\n",
    "            sample_score_mean - sample_score_std,\n",
    "            sample_score_mean + sample_score_std,\n",
    "            alpha=0.1 if sample == \"test\" else 0,\n",
    "            color='g',\n",
    "        )\n",
    "        ax.plot(\n",
    "            X_axis,\n",
    "            sample_score_mean,\n",
    "            style,\n",
    "            color='g',\n",
    "            alpha=1 if sample == \"test\" else 0.7,\n",
    "            label=\"Accuracy (%s)\" % sample,\n",
    "        )\n",
    "\n",
    "    margins = ax.get_ylim()\n",
    "    ax.set_ylim(margins[0] - 0.1, margins[1] + 0.1)\n",
    "\n",
    "    best_index = np.nonzero(results[\"rank_test_score\"] == 1)[0][0]\n",
    "    best_score = results[\"mean_test_score\"][best_index]\n",
    "\n",
    "    # Plot a dotted vertical line at the best score for that scorer marked by x\n",
    "    ax.plot(\n",
    "        [\n",
    "            X_axis[best_index],\n",
    "        ]\n",
    "        * 2,\n",
    "        [0, best_score],\n",
    "        linestyle=\"-.\",\n",
    "        color='g',\n",
    "        marker=\"x\",\n",
    "        markeredgewidth=3,\n",
    "        ms=8,\n",
    "    )\n",
    "\n",
    "    # Annotate the best score for that scorer\n",
    "    ax.annotate(\"%0.2f\" % best_score, (X_axis[best_index], best_score + 0.005))\n",
    "\n",
    "    plt.legend(loc=\"best\")\n",
    "    plt.grid(False)\n",
    "    plt.show()"
   ]
  },
  {
   "cell_type": "markdown",
   "metadata": {},
   "source": [
    "Definição do método de treinamento e rastreamento do mlflow:"
   ]
  },
  {
   "cell_type": "code",
   "execution_count": 5,
   "metadata": {},
   "outputs": [],
   "source": [
    "def mlflow_train_and_track(model_class, model_name, train_data: pd.DataFrame, target: str, param_grid: dict, params: dict = {}, plot: bool = False):\n",
    "    # Split the data labels and features\n",
    "    train_x = train_data.drop([target], axis=1)\n",
    "    train_y = train_data[[target]]\n",
    "\n",
    "    # Train the model and track\n",
    "    with mlflow.start_run(run_name=model_name):\n",
    "        # Train the model with a grid search\n",
    "        # GridSearchCV will try all the combinations of the parameters, using cross-validation to evaluate the performance\n",
    "        model = model_class(**params)\n",
    "        gs = GridSearchCV(\n",
    "            model,\n",
    "            param_grid=param_grid,\n",
    "            scoring=\"accuracy\",\n",
    "            n_jobs=-1,\n",
    "            return_train_score=True\n",
    "        )\n",
    "        gs.fit(train_x, train_y)\n",
    "        results = gs.cv_results_\n",
    "\n",
    "        best_params = gs.best_params_\n",
    "        best_score = gs.best_score_\n",
    "\n",
    "        # Print the results\n",
    "        print(\"Trained %s. Best result of %0.4f accuracy was achieved with the params: %s\" %(model_name, best_score, str(best_params).strip(\"{}\")))\n",
    "\n",
    "        # Log best model to MLflow\n",
    "        best_model = gs.best_estimator_\n",
    "        mlflow_track(best_model, model_name, best_params, {\"mean_accuracy\": best_score, \"std_accuracy\": best_score})\n",
    "\n",
    "        # Plot the grid search results of the first parameter\n",
    "        if (plot):\n",
    "            plot_param = list(param_grid.keys())[0]\n",
    "            plot_grid_search(results, plot_param)\n",
    "\n",
    "        "
   ]
  },
  {
   "cell_type": "markdown",
   "metadata": {},
   "source": [
    "# Treinando os modelos"
   ]
  },
  {
   "cell_type": "markdown",
   "metadata": {},
   "source": [
    "## Importando o dataset"
   ]
  },
  {
   "cell_type": "code",
   "execution_count": 6,
   "metadata": {},
   "outputs": [],
   "source": [
    "csv_url = \"https://raw.githubusercontent.com/Vinicius-resende-cin/intro-dados/master/data/chess_games_cleaned.csv\"\n",
    "try:\n",
    "    data = pd.read_csv(csv_url, encoding = \"ISO-8859-1\")\n",
    "except Exception as e:\n",
    "    logger.exception(f\"Unable to download training & test CSV, check your internet connection. Error: {e}\")"
   ]
  },
  {
   "cell_type": "markdown",
   "metadata": {},
   "source": [
    "Convertendo tipos para execução dos modelos"
   ]
  },
  {
   "cell_type": "code",
   "execution_count": 7,
   "metadata": {},
   "outputs": [],
   "source": [
    "data['victory_status'] = data['victory_status'].astype('category')\n",
    "data['winner'] = data['winner'].astype('category')\n",
    "data['increment_code'] = data['increment_code'].astype('category')\n",
    "data['white_id'] = data['white_id'].astype('category')\n",
    "data['black_id'] = data['black_id'].astype('category')\n",
    "data['moves'] = data['moves'].astype('category')\n",
    "data['opening_eco'] = data['opening_eco'].astype('category')\n",
    "data['opening_name'] = data['opening_name'].astype('category')\n",
    "\n",
    "data['victory_status'] = data['victory_status'].cat.codes\n",
    "data['winner'] = data['winner'].cat.codes\n",
    "data['increment_code'] = data['increment_code'].cat.codes\n",
    "data['white_id'] = data['white_id'].cat.codes\n",
    "data['black_id'] = data['black_id'].cat.codes\n",
    "data['moves'] = data['moves'].cat.codes\n",
    "data['opening_eco'] = data['opening_eco'].cat.codes\n",
    "data['opening_name'] = data['opening_name'].cat.codes"
   ]
  },
  {
   "cell_type": "markdown",
   "metadata": {},
   "source": [
    "## Separando dados de treinamento e de teste"
   ]
  },
  {
   "cell_type": "code",
   "execution_count": 8,
   "metadata": {},
   "outputs": [],
   "source": [
    "# Split the data into training and test sets. (0.75, 0.22) split.\n",
    "train_data, test_data = train_test_split(data)"
   ]
  },
  {
   "cell_type": "markdown",
   "metadata": {},
   "source": [
    "## Executando o treinamento"
   ]
  },
  {
   "cell_type": "markdown",
   "metadata": {},
   "source": [
    "Para visualizar o rastreamento numa interface, execute o comando abaixo no diretório deste notebook (`/notebooks`):\n",
    "\n",
    "```bash\n",
    "mlflow ui --port 5000\n",
    "```\n",
    "\n",
    "A interface será acessível no endereço `http://localhost:5000` em um navegador."
   ]
  },
  {
   "cell_type": "markdown",
   "metadata": {},
   "source": [
    "O treinamento dos modelos será realizado com o GridSearchCV, que testará todas as combinações dos parâmetros, utilizando cross validation para avaliar o desempenho.\n",
    "\n",
    "Os melhores modelos de cada algoritmo serão então avaliados no conjunto de teste para escolher o algoritmo com melhor desempenho."
   ]
  },
  {
   "cell_type": "markdown",
   "metadata": {},
   "source": [
    "### KNN"
   ]
  },
  {
   "cell_type": "code",
   "execution_count": 9,
   "metadata": {},
   "outputs": [
    {
     "name": "stdout",
     "output_type": "stream",
     "text": [
      "Trained KNN. Best result of 0.5059 accuracy was achieved with the params: 'n_neighbors': 37\n"
     ]
    },
    {
     "name": "stderr",
     "output_type": "stream",
     "text": [
      "Successfully registered model 'KNN'.\n",
      "Created version '1' of model 'KNN'.\n"
     ]
    },
    {
     "data": {
      "image/png": "[encoded data removed]",
      "text/plain": [
       "<Figure size 1000x1000 with 1 Axes>"
      ]
     },
     "metadata": {},
     "output_type": "display_data"
    }
   ],
   "source": [
    "from sklearn.neighbors import KNeighborsClassifier\n",
    "knn_param_grid = {\n",
    "    \"n_neighbors\": range(3, 200, 2)\n",
    "}\n",
    "mlflow_train_and_track(KNeighborsClassifier, 'KNN', train_data, 'winner', knn_param_grid, plot=True)"
   ]
  },
  {
   "cell_type": "markdown",
   "metadata": {},
   "source": [
    "### SVC"
   ]
  },
  {
   "cell_type": "code",
   "execution_count": 10,
   "metadata": {},
   "outputs": [
    {
     "name": "stdout",
     "output_type": "stream",
     "text": [
      "Trained SVC. Best result of 0.6687 accuracy was achieved with the params: 'C': 88.09999999999998\n"
     ]
    },
    {
     "name": "stderr",
     "output_type": "stream",
     "text": [
      "Successfully registered model 'SVC'.\n",
      "Created version '1' of model 'SVC'.\n"
     ]
    }
   ],
   "source": [
    "from sklearn.svm import LinearSVC\n",
    "svc_param_grid = {\n",
    "    'C': np.arange(0.1, 100.0, 4.0)\n",
    "}\n",
    "mlflow_train_and_track(LinearSVC, 'SVC', train_data, 'winner', svc_param_grid, {\"random_state\": 0})"
   ]
  },
  {
   "cell_type": "markdown",
   "metadata": {},
   "source": [
    "### Random Forest"
   ]
  },
  {
   "cell_type": "code",
   "execution_count": 11,
   "metadata": {},
   "outputs": [
    {
     "name": "stdout",
     "output_type": "stream",
     "text": [
      "Trained RandomForest. Best result of 0.6755 accuracy was achieved with the params: 'max_depth': 21, 'min_samples_leaf': 11, 'n_estimators': 210\n"
     ]
    },
    {
     "name": "stderr",
     "output_type": "stream",
     "text": [
      "Successfully registered model 'RandomForest'.\n",
      "Created version '1' of model 'RandomForest'.\n"
     ]
    }
   ],
   "source": [
    "from sklearn.ensemble import RandomForestClassifier\n",
    "random_forest_param_grid = {\n",
    "    \"n_estimators\": range(10, 500, 50),\n",
    "    \"max_depth\": range(1, 100, 20),\n",
    "    \"min_samples_leaf\": range(1, 30, 5)\n",
    "}\n",
    "mlflow_train_and_track(RandomForestClassifier, \"RandomForest\", train_data, \"winner\", random_forest_param_grid, {\"random_state\": 0})"
   ]
  },
  {
   "cell_type": "markdown",
   "metadata": {},
   "source": [
    "### MLP"
   ]
  },
  {
   "cell_type": "code",
   "execution_count": 12,
   "metadata": {},
   "outputs": [
    {
     "name": "stdout",
     "output_type": "stream",
     "text": [
      "Trained MLP. Best result of 0.5550 accuracy was achieved with the params: 'alpha': 7.6, 'max_iter': 100\n"
     ]
    },
    {
     "name": "stderr",
     "output_type": "stream",
     "text": [
      "Successfully registered model 'MLP'.\n",
      "Created version '1' of model 'MLP'.\n"
     ]
    }
   ],
   "source": [
    "from sklearn.neural_network import MLPClassifier\n",
    "mlp_param_grid = {\n",
    "    'alpha': np.arange(0.1, 10.0, 0.5),\n",
    "    'max_iter': np.arange(100, 1000, 100)\n",
    "}\n",
    "mlflow_train_and_track(MLPClassifier, 'MLP', train_data, 'winner', mlp_param_grid, {\"random_state\": 0})"
   ]
  }
 ],
 "metadata": {
  "kernelspec": {
   "display_name": "Python 3",
   "language": "python",
   "name": "python3"
  },
  "language_info": {
   "codemirror_mode": {
    "name": "ipython",
    "version": 3
   },
   "file_extension": ".py",
   "mimetype": "text/x-python",
   "name": "python",
   "nbconvert_exporter": "python",
   "pygments_lexer": "ipython3",
   "version": "3.10.2"
  }
 },
 "nbformat": 4,
 "nbformat_minor": 2
}
